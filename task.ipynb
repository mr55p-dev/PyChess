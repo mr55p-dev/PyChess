{
 "cells": [
  {
   "cell_type": "code",
   "execution_count": 1,
   "metadata": {},
   "outputs": [
    {
     "name": "stdout",
     "output_type": "stream",
     "text": [
      "Init Plugin\n",
      "Init Graph Optimizer\n",
      "Init Kernel\n"
     ]
    }
   ],
   "source": [
    "import pickle\n",
    "import numpy as np\n",
    "import tensorflow as tf\n",
    "from tensorflow import keras\n",
    "\n",
    "import os\n",
    "import datetime\n",
    "\n",
    "from tensorflow.keras.layers import Dense, MaxPooling2D, Flatten, Conv2D, Dropout\n",
    "from Chess.view import view_board_colour\n",
    "from Chess.state import Board, construct_board\n",
    "from Chess.constants import WHITE, BLACK\n",
    "\n",
    "import tabulate\n",
    "\n",
    "from tensorflow.keras.wrappers.scikit_learn import KerasClassifier\n",
    "from sklearn.model_selection import GridSearchCV, KFold, train_test_split\n",
    "\n",
    "from ipywidgets import interact, fixed\n",
    "import ipywidgets as widgets\n",
    "\n",
    "import matplotlib.pyplot as plt\n",
    "from matplotlib import colors\n",
    "import seaborn as sns"
   ]
  },
  {
   "cell_type": "code",
   "execution_count": 2,
   "metadata": {},
   "outputs": [],
   "source": [
    "np.random.seed(20)"
   ]
  },
  {
   "cell_type": "code",
   "execution_count": 3,
   "metadata": {},
   "outputs": [],
   "source": [
    "%load_ext tensorboard"
   ]
  },
  {
   "cell_type": "code",
   "execution_count": 4,
   "metadata": {},
   "outputs": [],
   "source": [
    "# From https://www.tensorflow.org/tensorboard/tensorboard_in_notebooks\n",
    "def new_tensorboard_run():\n",
    "    logdir = os.path.join(\"tensorboard_logs\", datetime.datetime.now().strftime(\"%Y%m%d-%H%M%S\"))\n",
    "    return tf.keras.callbacks.TensorBoard(logdir, histogram_freq=1)"
   ]
  },
  {
   "cell_type": "markdown",
   "metadata": {},
   "source": [
    "### Visualisation functions"
   ]
  },
  {
   "cell_type": "code",
   "execution_count": 5,
   "metadata": {},
   "outputs": [],
   "source": [
    "# Functions to manipulate the output\n",
    "def predict_val(model, val):\n",
    "    prediction = model.predict(val)\n",
    "    return np.where(prediction > 0.5, 1, 0)\n",
    "\n",
    "def predict_raw(model, val):\n",
    "    return model.predict(val)  \n",
    "\n",
    "def find_diff(y, pred):\n",
    "    Y_instance = y\n",
    "    return np.where(pred == Y_instance, 1, 0)"
   ]
  },
  {
   "cell_type": "code",
   "execution_count": 6,
   "metadata": {},
   "outputs": [],
   "source": [
    "# Functions to draw the labels and predictions.\n",
    "\n",
    "sns.set_theme(style=\"white\")\n",
    "sns.color_palette(\"crest\", as_cmap=True)\n",
    "sns.set_palette(\"crest\")\n",
    "\n",
    "def plot_sns(val):\n",
    "    # From https://seaborn.pydata.org/examples/many_pairwise_correlations.html\n",
    "    sns.heatmap(val.reshape(8,8))\n",
    "    plt.show()\n",
    "\n",
    "def plot(val):\n",
    "    cmap = colors.ListedColormap(['white', 'green'])\n",
    "    bounds = [-0.5, 0.5, 1.5]\n",
    "    norm = colors.BoundaryNorm(bounds, cmap.N)\n",
    "\n",
    "    fig, ax = plt.subplots()\n",
    "    ax.imshow(val.reshape(8, 8), cmap=cmap, norm=norm)\n",
    "\n",
    "    # draw gridlines\n",
    "    ax.grid(which='major', axis='both', linestyle='-', color='k', linewidth=2)\n",
    "    ax.set_xticks(np.arange(0.5, 8.5, 1));\n",
    "    ax.set_yticks(np.arange(0.5, 8.5, 1));\n",
    "    plt.show()\n",
    "\n",
    "def plot_diff(val):\n",
    "    cmap = colors.ListedColormap(['red', 'green'])\n",
    "    bounds = [-0.5, 0.5, 1.5]\n",
    "    norm = colors.BoundaryNorm(bounds, cmap.N)\n",
    "\n",
    "    fig, ax = plt.subplots()\n",
    "    ax.imshow(val.reshape(8,8) , cmap=cmap, norm=norm)\n",
    "\n",
    "    # draw gridlines\n",
    "    ax.grid(which='major', axis='both', linestyle='-', color='k', linewidth=2)\n",
    "    ax.set_xticks(np.arange(0.5, 8.5, 1));\n",
    "    ax.set_yticks(np.arange(0.5, 8.5, 1));\n",
    "    plt.show()"
   ]
  },
  {
   "cell_type": "code",
   "execution_count": 7,
   "metadata": {},
   "outputs": [],
   "source": [
    "def generate_plots(\n",
    "            n, \n",
    "            model = None,\n",
    "            x = None,\n",
    "            y = None,\n",
    "            target=True, \n",
    "            prediction=True, \n",
    "            raw_prediction=True, \n",
    "            diff=True\n",
    "        ):\n",
    "    if target:         \n",
    "        plot(y[n].reshape(1, 64))    \n",
    "    if prediction:     \n",
    "        plot(predict_val(model, x[n:n+1]))\n",
    "    if raw_prediction: \n",
    "        plot_sns(predict_raw(model, x[n:n+1]))\n",
    "    if diff:          \n",
    "        pred = predict_val(model, x[n:n+1])\n",
    "        plot_diff(find_diff(y[n:n+1], pred))"
   ]
  },
  {
   "cell_type": "code",
   "execution_count": 8,
   "metadata": {},
   "outputs": [],
   "source": [
    "def grid_search(build_fn, param_grid):\n",
    "    model = KerasClassifier(build_fn=build_fn, verbose=0)\n",
    "    grid = GridSearchCV(estimator=model, param_grid=param_grid, n_jobs=-1, cv=3, verbose=2)\n",
    "    grid_Result = grid.fit(X, Y)\n",
    "    \n",
    "    print(f\"best result: {grid_result.best_score_} using {grid_result.best_params_}\")\n",
    "    means = grid_result.cv_results_['mean_test_score']\n",
    "    sdev = grid_result.cv_results_['std_test_score']\n",
    "    params = grid_result.cv_results_['params']\n",
    "    for m, s, p in zip(means, sdev, params):\n",
    "        print(f\"{m} ({s}) with: {p}\")\n",
    "        \n",
    "\n",
    "def disp_grid(grid_result):\n",
    "    print(f\"Best: {grid_result.best_score_} using {grid_result.best_params_}\")\n",
    "    means = grid_result.cv_results_['mean_test_score']\n",
    "    stds = grid_result.cv_results_['std_test_score']\n",
    "    params = grid_result.cv_results_['params']\n",
    "#     for mean, stdev, param in zip(means, stds, params):\n",
    "#         print(\"%f (%f) with: %r\" % (mean, stdev, param))\n",
    "    res = []\n",
    "    for m, s, p in zip(means, stds, params):\n",
    "        res.append({\n",
    "            \"mean\": m,\n",
    "            \"stdev\": s,\n",
    "            **p\n",
    "        })\n",
    "    head = {\n",
    "        \"mean\": \"Mean\",\n",
    "        \"stdev\": \"Standard deviation\"\n",
    "    }\n",
    "    for p in params[0]:\n",
    "        head[p] = p\n",
    "    print(tabulate.tabulate(res, head))\n"
   ]
  },
  {
   "cell_type": "code",
   "execution_count": 9,
   "metadata": {},
   "outputs": [],
   "source": [
    "def tb_callback(name):\n",
    "        logdir = os.path.join(\"tensorboard_logs\", name + \"_\" + datetime.datetime.now().strftime(\"%Y%m%d-%H%M%S\"))\n",
    "        return tf.keras.callbacks.TensorBoard(logdir, histogram_freq=1)"
   ]
  },
  {
   "cell_type": "code",
   "execution_count": 10,
   "metadata": {},
   "outputs": [],
   "source": [
    "def subset_data(n, X, Y):\n",
    "    return X[:n, :], Y[:n, :]\n"
   ]
  },
  {
   "cell_type": "markdown",
   "metadata": {},
   "source": [
    "# Basic sequential model\n",
    "\n",
    "We will begin training a basic fully-connected network specified with Keras. This is primarily meant as a test and to define some useful functions (such as those for visualising our outputs). We will start by preprocessing, then defining a model, training and evaluating."
   ]
  },
  {
   "cell_type": "markdown",
   "metadata": {},
   "source": [
    "### Data generation\n",
    "The script `generate_data.py` will open a list of PGN (portable game notation) chess games and run through them, getting from it some state during the game. This state contains information on the location, type and colour of the pieces as well as the legal moves in the position. However, it does not have any information on the strength of those moves, meaning we can only predict the *legal* moves and not rank them.\n",
    "\n",
    "The games which are generated are saved in a `txt` file as FEN (Forsyth-Edwards Notation) strings, which encapsulate all the information needed to recreate a position in chess. We can use these strings to reconstruct the boards and gain access to the information we need. \n",
    "\n",
    "The current file being used was obtained from Lichess and is a set of ~121,000 games played online over the course of 2013. They are a mixture of classical, blitz and bullet games played at a variety of different levels."
   ]
  },
  {
   "cell_type": "code",
   "execution_count": 11,
   "metadata": {},
   "outputs": [],
   "source": [
    "with open(\"generated_data/lichess_db_standard_rated_2013-01.txt\", 'r') as f:\n",
    "    boards = f.readlines()\n",
    "\n",
    "board_list = [construct_board(i) for i in boards]"
   ]
  },
  {
   "cell_type": "code",
   "execution_count": 12,
   "metadata": {},
   "outputs": [
    {
     "name": "stdout",
     "output_type": "stream",
     "text": [
      "Black to move - turn 7\n",
      "\u001b[48;5;71m\u001b[38;5;255;48;5;0m R \u001b[0m\u001b[0m\u001b[48;5;250m\u001b[38;5;255;48;5;0m N \u001b[0m\u001b[0m\u001b[48;5;71m   \u001b[0m\u001b[48;5;250m   \u001b[0m\u001b[48;5;71m\u001b[38;5;255;48;5;0m K \u001b[0m\u001b[0m\u001b[48;5;250m\u001b[38;5;255;48;5;0m B \u001b[0m\u001b[0m\u001b[48;5;71m   \u001b[0m\u001b[48;5;250m\u001b[38;5;255;48;5;0m R \u001b[0m\u001b[0m\n",
      "\u001b[48;5;250m\u001b[38;5;255;48;5;0m P \u001b[0m\u001b[0m\u001b[48;5;71m\u001b[38;5;255;48;5;0m B \u001b[0m\u001b[0m\u001b[48;5;250m\u001b[38;5;255;48;5;0m P \u001b[0m\u001b[0m\u001b[48;5;71m\u001b[38;5;255;48;5;0m P \u001b[0m\u001b[0m\u001b[48;5;250m   \u001b[0m\u001b[48;5;71m\u001b[38;5;255;48;5;0m P \u001b[0m\u001b[0m\u001b[48;5;250m   \u001b[0m\u001b[48;5;71m\u001b[38;5;255;48;5;0m P \u001b[0m\u001b[0m\n",
      "\u001b[48;5;71m   \u001b[0m\u001b[48;5;250m\u001b[38;5;255;48;5;0m P \u001b[0m\u001b[0m\u001b[48;5;71m   \u001b[0m\u001b[48;5;250m   \u001b[0m\u001b[48;5;71m\u001b[38;5;255;48;5;0m P \u001b[0m\u001b[0m\u001b[48;5;250m   \u001b[0m\u001b[48;5;71m   \u001b[0m\u001b[48;5;250m\u001b[38;5;255;48;5;0m P \u001b[0m\u001b[0m\n",
      "\u001b[48;5;250m   \u001b[0m\u001b[48;5;71m   \u001b[0m\u001b[48;5;250m   \u001b[0m\u001b[48;5;71m   \u001b[0m\u001b[48;5;250m   \u001b[0m\u001b[48;5;71m   \u001b[0m\u001b[48;5;250m\u001b[38;5;255;48;5;0m Q \u001b[0m\u001b[0m\u001b[48;5;71m   \u001b[0m\n",
      "\u001b[48;5;71m   \u001b[0m\u001b[48;5;250m   \u001b[0m\u001b[48;5;71m   \u001b[0m\u001b[48;5;250m\u001b[38;5;0;48;5;255m P \u001b[0m\u001b[0m\u001b[48;5;71m\u001b[38;5;0;48;5;255m P \u001b[0m\u001b[0m\u001b[48;5;250m   \u001b[0m\u001b[48;5;71m\u001b[38;5;0;48;5;255m B \u001b[0m\u001b[0m\u001b[48;5;250m   \u001b[0m\n",
      "\u001b[48;5;250m\u001b[38;5;0;48;5;255m P \u001b[0m\u001b[0m\u001b[48;5;71m   \u001b[0m\u001b[48;5;250m\u001b[38;5;0;48;5;255m N \u001b[0m\u001b[0m\u001b[48;5;71m   \u001b[0m\u001b[48;5;250m   \u001b[0m\u001b[48;5;71m   \u001b[0m\u001b[48;5;250m   \u001b[0m\u001b[48;5;71m   \u001b[0m\n",
      "\u001b[48;5;71m   \u001b[0m\u001b[48;5;250m\u001b[38;5;0;48;5;255m P \u001b[0m\u001b[0m\u001b[48;5;71m\u001b[38;5;0;48;5;255m P \u001b[0m\u001b[0m\u001b[48;5;250m   \u001b[0m\u001b[48;5;71m   \u001b[0m\u001b[48;5;250m\u001b[38;5;0;48;5;255m P \u001b[0m\u001b[0m\u001b[48;5;71m\u001b[38;5;0;48;5;255m P \u001b[0m\u001b[0m\u001b[48;5;250m\u001b[38;5;0;48;5;255m P \u001b[0m\u001b[0m\n",
      "\u001b[48;5;250m\u001b[38;5;0;48;5;255m R \u001b[0m\u001b[0m\u001b[48;5;71m   \u001b[0m\u001b[48;5;250m   \u001b[0m\u001b[48;5;71m\u001b[38;5;0;48;5;255m Q \u001b[0m\u001b[0m\u001b[48;5;250m\u001b[38;5;0;48;5;255m K \u001b[0m\u001b[0m\u001b[48;5;71m   \u001b[0m\u001b[48;5;250m\u001b[38;5;0;48;5;255m N \u001b[0m\u001b[0m\u001b[48;5;71m\u001b[38;5;0;48;5;255m R \u001b[0m\u001b[0m\n",
      "\n"
     ]
    }
   ],
   "source": [
    "# An example of what one of these positions looks like\n",
    "view_board_colour(board_list[0])"
   ]
  },
  {
   "cell_type": "markdown",
   "metadata": {},
   "source": [
    "## Data processing\n",
    "Now the data needs to be formed into a reasonable type for training. This section will get all the positions which can be moved to as a list for each game, and all the positions of the pieces for each board as training data. Initally, this won't account for the piece type, which side is to move, or the different types of pieces and moves."
   ]
  },
  {
   "cell_type": "code",
   "execution_count": 13,
   "metadata": {},
   "outputs": [],
   "source": [
    "# Uses set notation to get only unique moves\n",
    "valid_move_list = [list({i for i in board.moves.all_valid}) for board in board_list] \n",
    "\n",
    "# Get all the piece types and positions from the location map of each board (training data)\n",
    "piece_position_list = [{position: piece.kind for position, piece in board.loc_map.items()} for board in board_list]"
   ]
  },
  {
   "cell_type": "code",
   "execution_count": 14,
   "metadata": {},
   "outputs": [],
   "source": [
    "# Encode the location of any piece as a 1, and all other positions as 0\n",
    "feature = []\n",
    "for instance in piece_position_list:\n",
    "    array = np.zeros((8, 8))\n",
    "    for location in instance:\n",
    "        array[location.i, location.j] = 1\n",
    "    feature.append(array.flatten())"
   ]
  },
  {
   "cell_type": "code",
   "execution_count": 15,
   "metadata": {},
   "outputs": [],
   "source": [
    "# We encode the valid \"destination\" squares with a 1 and invalid with a 0\n",
    "target = []\n",
    "for instance in valid_move_list:\n",
    "    array = np.zeros((8, 8))\n",
    "    for location in instance:\n",
    "        array[location.i, location.j] = 1\n",
    "    target.append(array.flatten())"
   ]
  },
  {
   "cell_type": "code",
   "execution_count": 16,
   "metadata": {},
   "outputs": [],
   "source": [
    "X_fc_all = np.array(feature)\n",
    "Y_fc_all = np.array(target)\n",
    "\n",
    "X_fc, Y_fc = subset_data(1000, X_fc_all, Y_fc_all)\n",
    "\n",
    "# Split the data using sklearn train_test_split\n",
    "X_train, X_test, Y_train, Y_test = train_test_split(X_fc, Y_fc, test_size=0.2)"
   ]
  },
  {
   "cell_type": "markdown",
   "metadata": {},
   "source": [
    "Beginning with a simple sequential model, which takes in a 1x64 array of features and outputs a prediction at each of the 64 squares."
   ]
  },
  {
   "cell_type": "code",
   "execution_count": 17,
   "metadata": {},
   "outputs": [
    {
     "name": "stdout",
     "output_type": "stream",
     "text": [
      "Metal device set to: Apple M1\n",
      "Model: \"model\"\n",
      "_________________________________________________________________\n",
      "Layer (type)                 Output Shape              Param #   \n",
      "=================================================================\n",
      "input_1 (InputLayer)         [(None, 64)]              0         \n",
      "_________________________________________________________________\n",
      "dense (Dense)                (None, 128)               8320      \n",
      "_________________________________________________________________\n",
      "dense_1 (Dense)              (None, 256)               33024     \n",
      "_________________________________________________________________\n",
      "dense_2 (Dense)              (None, 64)                16448     \n",
      "=================================================================\n",
      "Total params: 57,792\n",
      "Trainable params: 57,792\n",
      "Non-trainable params: 0\n",
      "_________________________________________________________________\n"
     ]
    },
    {
     "name": "stderr",
     "output_type": "stream",
     "text": [
      "2021-12-15 01:35:46.478179: I tensorflow/core/common_runtime/pluggable_device/pluggable_device_factory.cc:305] Could not identify NUMA node of platform GPU ID 0, defaulting to 0. Your kernel may not have been built with NUMA support.\n",
      "2021-12-15 01:35:46.478611: I tensorflow/core/common_runtime/pluggable_device/pluggable_device_factory.cc:271] Created TensorFlow device (/job:localhost/replica:0/task:0/device:GPU:0 with 0 MB memory) -> physical PluggableDevice (device: 0, name: METAL, pci bus id: <undefined>)\n",
      "2021-12-15 01:35:46.589591: I tensorflow/core/profiler/lib/profiler_session.cc:126] Profiler session initializing.\n",
      "2021-12-15 01:35:46.589599: I tensorflow/core/profiler/lib/profiler_session.cc:141] Profiler session started.\n",
      "2021-12-15 01:35:46.590003: I tensorflow/core/profiler/lib/profiler_session.cc:159] Profiler session tear down.\n"
     ]
    }
   ],
   "source": [
    "fc_model_inputs = keras.Input(shape=(64, ))\n",
    "fc_model = Dense(128, activation='relu')(fc_model_inputs)\n",
    "fc_model = Dense(256, activation='relu')(fc_model)\n",
    "fc_model_outputs = Dense(64, activation='sigmoid')(fc_model)\n",
    "\n",
    "fc_built_model = keras.Model(inputs=fc_model_inputs, outputs=fc_model_outputs)\n",
    "fc_built_model.compile(\n",
    "    optimizer='adam', \n",
    "    loss='binary_crossentropy',\n",
    "    metrics=['accuracy', 'binary_accuracy']\n",
    ")\n",
    "fc_built_model.summary()\n",
    "\n",
    "fc_callback = tb_callback(\"fc_initial_model\")"
   ]
  },
  {
   "cell_type": "code",
   "execution_count": 18,
   "metadata": {},
   "outputs": [
    {
     "name": "stdout",
     "output_type": "stream",
     "text": [
      "Epoch 1/100\n"
     ]
    },
    {
     "name": "stderr",
     "output_type": "stream",
     "text": [
      "2021-12-15 01:35:46.636777: I tensorflow/compiler/mlir/mlir_graph_optimization_pass.cc:176] None of the MLIR Optimization Passes are enabled (registered 2)\n",
      "2021-12-15 01:35:46.639446: W tensorflow/core/platform/profile_utils/cpu_utils.cc:128] Failed to get CPU frequency: 0 Hz\n",
      "2021-12-15 01:35:46.830285: I tensorflow/core/grappler/optimizers/custom_graph_optimizer_registry.cc:112] Plugin optimizer for device_type GPU is enabled.\n"
     ]
    },
    {
     "name": "stdout",
     "output_type": "stream",
     "text": [
      "  6/160 [>.............................] - ETA: 1s - loss: 0.6893 - accuracy: 0.0333 - binary_accuracy: 0.5417     "
     ]
    },
    {
     "name": "stderr",
     "output_type": "stream",
     "text": [
      "2021-12-15 01:35:46.980914: I tensorflow/core/profiler/lib/profiler_session.cc:126] Profiler session initializing.\n",
      "2021-12-15 01:35:46.980923: I tensorflow/core/profiler/lib/profiler_session.cc:141] Profiler session started.\n",
      "2021-12-15 01:35:46.988617: I tensorflow/core/profiler/lib/profiler_session.cc:66] Profiler session collecting data.\n",
      "2021-12-15 01:35:46.992505: I tensorflow/core/profiler/lib/profiler_session.cc:159] Profiler session tear down.\n",
      "2021-12-15 01:35:46.996969: I tensorflow/core/profiler/rpc/client/save_profile.cc:137] Creating directory: tensorboard_logs/fc_initial_model_20211215-013546/train/plugins/profile/2021_12_15_01_35_46\n",
      "2021-12-15 01:35:46.998113: I tensorflow/core/profiler/rpc/client/save_profile.cc:143] Dumped gzipped tool data for trace.json.gz to tensorboard_logs/fc_initial_model_20211215-013546/train/plugins/profile/2021_12_15_01_35_46/Elliss-MacBook-Air.local.trace.json.gz\n",
      "2021-12-15 01:35:47.001208: I tensorflow/core/profiler/rpc/client/save_profile.cc:137] Creating directory: tensorboard_logs/fc_initial_model_20211215-013546/train/plugins/profile/2021_12_15_01_35_46\n",
      "2021-12-15 01:35:47.001302: I tensorflow/core/profiler/rpc/client/save_profile.cc:143] Dumped gzipped tool data for memory_profile.json.gz to tensorboard_logs/fc_initial_model_20211215-013546/train/plugins/profile/2021_12_15_01_35_46/Elliss-MacBook-Air.local.memory_profile.json.gz\n",
      "2021-12-15 01:35:47.001660: I tensorflow/core/profiler/rpc/client/capture_profile.cc:251] Creating directory: tensorboard_logs/fc_initial_model_20211215-013546/train/plugins/profile/2021_12_15_01_35_46Dumped tool data for xplane.pb to tensorboard_logs/fc_initial_model_20211215-013546/train/plugins/profile/2021_12_15_01_35_46/Elliss-MacBook-Air.local.xplane.pb\n",
      "Dumped tool data for overview_page.pb to tensorboard_logs/fc_initial_model_20211215-013546/train/plugins/profile/2021_12_15_01_35_46/Elliss-MacBook-Air.local.overview_page.pb\n",
      "Dumped tool data for input_pipeline.pb to tensorboard_logs/fc_initial_model_20211215-013546/train/plugins/profile/2021_12_15_01_35_46/Elliss-MacBook-Air.local.input_pipeline.pb\n",
      "Dumped tool data for tensorflow_stats.pb to tensorboard_logs/fc_initial_model_20211215-013546/train/plugins/profile/2021_12_15_01_35_46/Elliss-MacBook-Air.local.tensorflow_stats.pb\n",
      "Dumped tool data for kernel_stats.pb to tensorboard_logs/fc_initial_model_20211215-013546/train/plugins/profile/2021_12_15_01_35_46/Elliss-MacBook-Air.local.kernel_stats.pb\n",
      "\n"
     ]
    },
    {
     "name": "stdout",
     "output_type": "stream",
     "text": [
      "160/160 [==============================] - 1s 6ms/step - loss: 0.6041 - accuracy: 0.0050 - binary_accuracy: 0.6829\n",
      "Epoch 2/100\n",
      "160/160 [==============================] - 1s 7ms/step - loss: 0.5630 - accuracy: 0.0112 - binary_accuracy: 0.7119\n",
      "Epoch 3/100\n",
      "160/160 [==============================] - 1s 6ms/step - loss: 0.5331 - accuracy: 0.0175 - binary_accuracy: 0.7288\n",
      "Epoch 4/100\n",
      "160/160 [==============================] - 1s 6ms/step - loss: 0.5074 - accuracy: 0.0137 - binary_accuracy: 0.7437\n",
      "Epoch 5/100\n",
      "160/160 [==============================] - 1s 6ms/step - loss: 0.4861 - accuracy: 0.0162 - binary_accuracy: 0.7581\n",
      "Epoch 6/100\n",
      "160/160 [==============================] - 1s 6ms/step - loss: 0.4660 - accuracy: 0.0225 - binary_accuracy: 0.7733\n",
      "Epoch 7/100\n",
      "160/160 [==============================] - 1s 6ms/step - loss: 0.4509 - accuracy: 0.0200 - binary_accuracy: 0.7834\n",
      "Epoch 8/100\n",
      "160/160 [==============================] - 1s 6ms/step - loss: 0.4320 - accuracy: 0.0213 - binary_accuracy: 0.7952\n",
      "Epoch 9/100\n",
      "160/160 [==============================] - 1s 6ms/step - loss: 0.4163 - accuracy: 0.0275 - binary_accuracy: 0.8053\n",
      "Epoch 10/100\n",
      "160/160 [==============================] - 1s 6ms/step - loss: 0.3987 - accuracy: 0.0412 - binary_accuracy: 0.8164\n",
      "Epoch 11/100\n",
      "160/160 [==============================] - 1s 6ms/step - loss: 0.3851 - accuracy: 0.0325 - binary_accuracy: 0.8268\n",
      "Epoch 12/100\n",
      "160/160 [==============================] - 1s 6ms/step - loss: 0.3693 - accuracy: 0.0250 - binary_accuracy: 0.8354\n",
      "Epoch 13/100\n",
      "160/160 [==============================] - 1s 6ms/step - loss: 0.3530 - accuracy: 0.0312 - binary_accuracy: 0.8453\n",
      "Epoch 14/100\n",
      "160/160 [==============================] - 1s 6ms/step - loss: 0.3393 - accuracy: 0.0350 - binary_accuracy: 0.8540\n",
      "Epoch 15/100\n",
      "160/160 [==============================] - 1s 6ms/step - loss: 0.3251 - accuracy: 0.0325 - binary_accuracy: 0.8629\n",
      "Epoch 16/100\n",
      "160/160 [==============================] - 1s 6ms/step - loss: 0.3136 - accuracy: 0.0463 - binary_accuracy: 0.8684\n",
      "Epoch 17/100\n",
      "160/160 [==============================] - 1s 6ms/step - loss: 0.3003 - accuracy: 0.0475 - binary_accuracy: 0.8748\n",
      "Epoch 18/100\n",
      "160/160 [==============================] - 1s 6ms/step - loss: 0.2889 - accuracy: 0.0450 - binary_accuracy: 0.8818\n",
      "Epoch 19/100\n",
      "160/160 [==============================] - 1s 6ms/step - loss: 0.2762 - accuracy: 0.0525 - binary_accuracy: 0.8884\n",
      "Epoch 20/100\n",
      "160/160 [==============================] - 1s 6ms/step - loss: 0.2662 - accuracy: 0.0537 - binary_accuracy: 0.8936\n",
      "Epoch 21/100\n",
      "160/160 [==============================] - 1s 6ms/step - loss: 0.2569 - accuracy: 0.0562 - binary_accuracy: 0.8991\n",
      "Epoch 22/100\n",
      "160/160 [==============================] - 1s 6ms/step - loss: 0.2464 - accuracy: 0.0587 - binary_accuracy: 0.9030\n",
      "Epoch 23/100\n",
      "160/160 [==============================] - 1s 6ms/step - loss: 0.2362 - accuracy: 0.0625 - binary_accuracy: 0.9104\n",
      "Epoch 24/100\n",
      "160/160 [==============================] - 1s 6ms/step - loss: 0.2278 - accuracy: 0.0600 - binary_accuracy: 0.9138\n",
      "Epoch 25/100\n",
      "160/160 [==============================] - 1s 7ms/step - loss: 0.2184 - accuracy: 0.0612 - binary_accuracy: 0.9196\n",
      "Epoch 26/100\n",
      "160/160 [==============================] - 1s 6ms/step - loss: 0.2094 - accuracy: 0.0712 - binary_accuracy: 0.9238\n",
      "Epoch 27/100\n",
      "160/160 [==============================] - 1s 6ms/step - loss: 0.2017 - accuracy: 0.0675 - binary_accuracy: 0.9260\n",
      "Epoch 28/100\n",
      "160/160 [==============================] - 1s 6ms/step - loss: 0.1932 - accuracy: 0.0637 - binary_accuracy: 0.9314\n",
      "Epoch 29/100\n",
      "160/160 [==============================] - 1s 6ms/step - loss: 0.1855 - accuracy: 0.0712 - binary_accuracy: 0.9341\n",
      "Epoch 30/100\n",
      "160/160 [==============================] - 1s 6ms/step - loss: 0.1777 - accuracy: 0.0763 - binary_accuracy: 0.9381\n",
      "Epoch 31/100\n",
      "160/160 [==============================] - 1s 6ms/step - loss: 0.1686 - accuracy: 0.0737 - binary_accuracy: 0.9438\n",
      "Epoch 32/100\n",
      "160/160 [==============================] - 1s 6ms/step - loss: 0.1611 - accuracy: 0.0763 - binary_accuracy: 0.9468\n",
      "Epoch 33/100\n",
      "160/160 [==============================] - 1s 6ms/step - loss: 0.1534 - accuracy: 0.0763 - binary_accuracy: 0.9503\n",
      "Epoch 34/100\n",
      "160/160 [==============================] - 1s 6ms/step - loss: 0.1471 - accuracy: 0.0675 - binary_accuracy: 0.9519\n",
      "Epoch 35/100\n",
      "160/160 [==============================] - 1s 6ms/step - loss: 0.1396 - accuracy: 0.0712 - binary_accuracy: 0.9568\n",
      "Epoch 36/100\n",
      "160/160 [==============================] - 1s 7ms/step - loss: 0.1344 - accuracy: 0.0787 - binary_accuracy: 0.9580\n",
      "Epoch 37/100\n",
      "160/160 [==============================] - 1s 6ms/step - loss: 0.1269 - accuracy: 0.0737 - binary_accuracy: 0.9617\n",
      "Epoch 38/100\n",
      "160/160 [==============================] - 1s 6ms/step - loss: 0.1200 - accuracy: 0.0737 - binary_accuracy: 0.9654\n",
      "Epoch 39/100\n",
      "160/160 [==============================] - 1s 6ms/step - loss: 0.1138 - accuracy: 0.0737 - binary_accuracy: 0.9685\n",
      "Epoch 40/100\n",
      "160/160 [==============================] - 1s 6ms/step - loss: 0.1077 - accuracy: 0.0725 - binary_accuracy: 0.9715\n",
      "Epoch 41/100\n",
      "160/160 [==============================] - 1s 6ms/step - loss: 0.1022 - accuracy: 0.0737 - binary_accuracy: 0.9736\n",
      "Epoch 42/100\n",
      "160/160 [==============================] - 1s 7ms/step - loss: 0.0971 - accuracy: 0.0825 - binary_accuracy: 0.9759\n",
      "Epoch 43/100\n",
      "160/160 [==============================] - 1s 6ms/step - loss: 0.0909 - accuracy: 0.0850 - binary_accuracy: 0.9778\n",
      "Epoch 44/100\n",
      "160/160 [==============================] - 1s 6ms/step - loss: 0.0850 - accuracy: 0.0862 - binary_accuracy: 0.9810\n",
      "Epoch 45/100\n",
      "160/160 [==============================] - 1s 6ms/step - loss: 0.0814 - accuracy: 0.0850 - binary_accuracy: 0.9820\n",
      "Epoch 46/100\n",
      "160/160 [==============================] - 1s 6ms/step - loss: 0.0750 - accuracy: 0.0875 - binary_accuracy: 0.9850\n",
      "Epoch 47/100\n",
      "160/160 [==============================] - 1s 6ms/step - loss: 0.0706 - accuracy: 0.0825 - binary_accuracy: 0.9864\n",
      "Epoch 48/100\n",
      "160/160 [==============================] - 1s 6ms/step - loss: 0.0664 - accuracy: 0.0862 - binary_accuracy: 0.9880\n",
      "Epoch 49/100\n",
      "160/160 [==============================] - 1s 6ms/step - loss: 0.0617 - accuracy: 0.0800 - binary_accuracy: 0.9901\n",
      "Epoch 50/100\n",
      "160/160 [==============================] - 1s 6ms/step - loss: 0.0577 - accuracy: 0.0837 - binary_accuracy: 0.9916\n",
      "Epoch 51/100\n",
      "160/160 [==============================] - 1s 7ms/step - loss: 0.0543 - accuracy: 0.0825 - binary_accuracy: 0.9927\n",
      "Epoch 52/100\n",
      "160/160 [==============================] - 1s 7ms/step - loss: 0.0499 - accuracy: 0.0787 - binary_accuracy: 0.9937\n",
      "Epoch 53/100\n",
      "160/160 [==============================] - 1s 6ms/step - loss: 0.0463 - accuracy: 0.0875 - binary_accuracy: 0.9951\n",
      "Epoch 54/100\n",
      "160/160 [==============================] - 1s 6ms/step - loss: 0.0433 - accuracy: 0.0887 - binary_accuracy: 0.9961\n",
      "Epoch 55/100\n",
      "160/160 [==============================] - 1s 6ms/step - loss: 0.0405 - accuracy: 0.0925 - binary_accuracy: 0.9965\n",
      "Epoch 56/100\n",
      "160/160 [==============================] - 1s 7ms/step - loss: 0.0378 - accuracy: 0.0900 - binary_accuracy: 0.9971\n",
      "Epoch 57/100\n",
      "160/160 [==============================] - 1s 7ms/step - loss: 0.0350 - accuracy: 0.0900 - binary_accuracy: 0.9975\n",
      "Epoch 58/100\n",
      "160/160 [==============================] - 1s 7ms/step - loss: 0.0322 - accuracy: 0.0825 - binary_accuracy: 0.9981\n",
      "Epoch 59/100\n",
      "160/160 [==============================] - 1s 7ms/step - loss: 0.0301 - accuracy: 0.0912 - binary_accuracy: 0.9982\n",
      "Epoch 60/100\n",
      "160/160 [==============================] - 1s 6ms/step - loss: 0.0279 - accuracy: 0.0887 - binary_accuracy: 0.9986\n",
      "Epoch 61/100\n",
      "160/160 [==============================] - 1s 6ms/step - loss: 0.0256 - accuracy: 0.0887 - binary_accuracy: 0.9990\n",
      "Epoch 62/100\n",
      "160/160 [==============================] - 1s 9ms/step - loss: 0.0236 - accuracy: 0.0875 - binary_accuracy: 0.9992\n",
      "Epoch 63/100\n",
      "160/160 [==============================] - 1s 6ms/step - loss: 0.0215 - accuracy: 0.0837 - binary_accuracy: 0.9996\n",
      "Epoch 64/100\n",
      "160/160 [==============================] - 1s 6ms/step - loss: 0.0200 - accuracy: 0.0962 - binary_accuracy: 0.9996\n",
      "Epoch 65/100\n"
     ]
    },
    {
     "name": "stdout",
     "output_type": "stream",
     "text": [
      "160/160 [==============================] - 1s 6ms/step - loss: 0.0185 - accuracy: 0.0850 - binary_accuracy: 0.9997\n",
      "Epoch 66/100\n",
      "160/160 [==============================] - 1s 7ms/step - loss: 0.0169 - accuracy: 0.0950 - binary_accuracy: 0.9999\n",
      "Epoch 67/100\n",
      "160/160 [==============================] - 1s 6ms/step - loss: 0.0157 - accuracy: 0.0887 - binary_accuracy: 0.9997\n",
      "Epoch 68/100\n",
      "160/160 [==============================] - 1s 6ms/step - loss: 0.0146 - accuracy: 0.0912 - binary_accuracy: 0.9998\n",
      "Epoch 69/100\n",
      "160/160 [==============================] - 1s 6ms/step - loss: 0.0133 - accuracy: 0.0912 - binary_accuracy: 0.9999\n",
      "Epoch 70/100\n",
      "160/160 [==============================] - 1s 7ms/step - loss: 0.0124 - accuracy: 0.0900 - binary_accuracy: 1.0000\n",
      "Epoch 71/100\n",
      "160/160 [==============================] - 1s 6ms/step - loss: 0.0117 - accuracy: 0.0938 - binary_accuracy: 0.9999\n",
      "Epoch 72/100\n",
      "160/160 [==============================] - 1s 6ms/step - loss: 0.0106 - accuracy: 0.0912 - binary_accuracy: 0.9999\n",
      "Epoch 73/100\n",
      "160/160 [==============================] - 1s 7ms/step - loss: 0.0097 - accuracy: 0.0938 - binary_accuracy: 1.0000\n",
      "Epoch 74/100\n",
      "160/160 [==============================] - 1s 7ms/step - loss: 0.0087 - accuracy: 0.0912 - binary_accuracy: 1.0000\n",
      "Epoch 75/100\n",
      "160/160 [==============================] - 1s 6ms/step - loss: 0.0080 - accuracy: 0.0975 - binary_accuracy: 1.0000\n",
      "Epoch 76/100\n",
      "160/160 [==============================] - 1s 6ms/step - loss: 0.0073 - accuracy: 0.1037 - binary_accuracy: 1.0000\n",
      "Epoch 77/100\n",
      "160/160 [==============================] - 1s 6ms/step - loss: 0.0066 - accuracy: 0.0962 - binary_accuracy: 1.0000\n",
      "Epoch 78/100\n",
      "160/160 [==============================] - 1s 6ms/step - loss: 0.0062 - accuracy: 0.0987 - binary_accuracy: 1.0000\n",
      "Epoch 79/100\n",
      "160/160 [==============================] - 1s 6ms/step - loss: 0.0059 - accuracy: 0.1000 - binary_accuracy: 1.0000\n",
      "Epoch 80/100\n",
      "160/160 [==============================] - 1s 7ms/step - loss: 0.0058 - accuracy: 0.1050 - binary_accuracy: 1.0000\n",
      "Epoch 81/100\n",
      "160/160 [==============================] - 1s 6ms/step - loss: 0.0269 - accuracy: 0.1075 - binary_accuracy: 0.9918\n",
      "Epoch 82/100\n",
      "160/160 [==============================] - 1s 6ms/step - loss: 0.0626 - accuracy: 0.1000 - binary_accuracy: 0.9766\n",
      "Epoch 83/100\n",
      "160/160 [==============================] - 1s 6ms/step - loss: 0.0207 - accuracy: 0.1062 - binary_accuracy: 0.9957\n",
      "Epoch 84/100\n",
      "160/160 [==============================] - 1s 6ms/step - loss: 0.0073 - accuracy: 0.1013 - binary_accuracy: 0.9998\n",
      "Epoch 85/100\n",
      "160/160 [==============================] - 1s 6ms/step - loss: 0.0047 - accuracy: 0.1050 - binary_accuracy: 1.0000\n",
      "Epoch 86/100\n",
      "160/160 [==============================] - 1s 6ms/step - loss: 0.0040 - accuracy: 0.1000 - binary_accuracy: 1.0000\n",
      "Epoch 87/100\n",
      "160/160 [==============================] - 1s 6ms/step - loss: 0.0036 - accuracy: 0.1000 - binary_accuracy: 1.0000\n",
      "Epoch 88/100\n",
      "160/160 [==============================] - 1s 6ms/step - loss: 0.0033 - accuracy: 0.1050 - binary_accuracy: 1.0000\n",
      "Epoch 89/100\n",
      "160/160 [==============================] - 1s 6ms/step - loss: 0.0031 - accuracy: 0.1000 - binary_accuracy: 1.0000\n",
      "Epoch 90/100\n",
      "160/160 [==============================] - 1s 6ms/step - loss: 0.0029 - accuracy: 0.1013 - binary_accuracy: 1.0000\n",
      "Epoch 91/100\n",
      "160/160 [==============================] - 1s 6ms/step - loss: 0.0028 - accuracy: 0.1025 - binary_accuracy: 1.0000\n",
      "Epoch 92/100\n",
      "160/160 [==============================] - 1s 6ms/step - loss: 0.0026 - accuracy: 0.1037 - binary_accuracy: 1.0000\n",
      "Epoch 93/100\n",
      "160/160 [==============================] - 1s 6ms/step - loss: 0.0025 - accuracy: 0.1050 - binary_accuracy: 1.0000\n",
      "Epoch 94/100\n",
      "160/160 [==============================] - 1s 6ms/step - loss: 0.0024 - accuracy: 0.1025 - binary_accuracy: 1.0000\n",
      "Epoch 95/100\n",
      "160/160 [==============================] - 1s 6ms/step - loss: 0.0022 - accuracy: 0.1050 - binary_accuracy: 1.0000\n",
      "Epoch 96/100\n",
      "160/160 [==============================] - 1s 6ms/step - loss: 0.0021 - accuracy: 0.1000 - binary_accuracy: 1.0000\n",
      "Epoch 97/100\n",
      "160/160 [==============================] - 1s 6ms/step - loss: 0.0020 - accuracy: 0.1037 - binary_accuracy: 1.0000\n",
      "Epoch 98/100\n",
      "160/160 [==============================] - 1s 6ms/step - loss: 0.0019 - accuracy: 0.1100 - binary_accuracy: 1.0000\n",
      "Epoch 99/100\n",
      "160/160 [==============================] - 1s 6ms/step - loss: 0.0018 - accuracy: 0.1100 - binary_accuracy: 1.0000\n",
      "Epoch 100/100\n",
      "160/160 [==============================] - 1s 6ms/step - loss: 0.0017 - accuracy: 0.1112 - binary_accuracy: 1.0000\n"
     ]
    },
    {
     "data": {
      "text/plain": [
       "<tensorflow.python.keras.callbacks.History at 0x2b458bbe0>"
      ]
     },
     "execution_count": 18,
     "metadata": {},
     "output_type": "execute_result"
    }
   ],
   "source": [
    "fc_built_model.fit(\n",
    "    X_train, \n",
    "    Y_train,\n",
    "    epochs=100,\n",
    "    batch_size=5,\n",
    "    callbacks=[fc_callback]\n",
    ")"
   ]
  },
  {
   "cell_type": "code",
   "execution_count": 19,
   "metadata": {},
   "outputs": [
    {
     "name": "stdout",
     "output_type": "stream",
     "text": [
      "\r",
      "1/7 [===>..........................] - ETA: 1s - loss: 2.1875 - accuracy: 0.1250 - binary_accuracy: 0.7085"
     ]
    },
    {
     "name": "stderr",
     "output_type": "stream",
     "text": [
      "2021-12-15 01:37:24.740183: I tensorflow/core/grappler/optimizers/custom_graph_optimizer_registry.cc:112] Plugin optimizer for device_type GPU is enabled.\n"
     ]
    },
    {
     "name": "stdout",
     "output_type": "stream",
     "text": [
      "7/7 [==============================] - 0s 21ms/step - loss: 2.5528 - accuracy: 0.0500 - binary_accuracy: 0.6814\n"
     ]
    },
    {
     "data": {
      "text/plain": [
       "[2.5528109073638916, 0.04999999701976776, 0.6814062595367432]"
      ]
     },
     "execution_count": 19,
     "metadata": {},
     "output_type": "execute_result"
    }
   ],
   "source": [
    "fc_built_model.evaluate(\n",
    "    X_test, \n",
    "    Y_test,\n",
    "    callbacks=[fc_callback],\n",
    ")"
   ]
  },
  {
   "cell_type": "code",
   "execution_count": 20,
   "metadata": {
    "scrolled": true
   },
   "outputs": [
    {
     "data": {
      "text/html": [
       "\n",
       "      <iframe id=\"tensorboard-frame-eef25a555544d1d3\" width=\"100%\" height=\"800\" frameborder=\"0\">\n",
       "      </iframe>\n",
       "      <script>\n",
       "        (function() {\n",
       "          const frame = document.getElementById(\"tensorboard-frame-eef25a555544d1d3\");\n",
       "          const url = new URL(\"/\", window.location);\n",
       "          const port = 6006;\n",
       "          if (port) {\n",
       "            url.port = port;\n",
       "          }\n",
       "          frame.src = url;\n",
       "        })();\n",
       "      </script>\n",
       "    "
      ],
      "text/plain": [
       "<IPython.core.display.HTML object>"
      ]
     },
     "metadata": {},
     "output_type": "display_data"
    }
   ],
   "source": [
    "%tensorboard --logdir tensorboard_logs"
   ]
  },
  {
   "cell_type": "markdown",
   "metadata": {},
   "source": [
    "## Visualising the output\n",
    "Now both the raw output of the model and the binarised version can be displayed interactively."
   ]
  },
  {
   "cell_type": "code",
   "execution_count": 21,
   "metadata": {},
   "outputs": [
    {
     "data": {
      "application/vnd.jupyter.widget-view+json": {
       "model_id": "4a30be968fe643788c6ec31608ff551a",
       "version_major": 2,
       "version_minor": 0
      },
      "text/plain": [
       "interactive(children=(IntSlider(value=0, description='n', max=199, step=5), Checkbox(value=False, description=…"
      ]
     },
     "metadata": {},
     "output_type": "display_data"
    },
    {
     "data": {
      "text/plain": [
       "<function __main__.generate_plots(n, model=None, x=None, y=None, target=True, prediction=True, raw_prediction=True, diff=True)>"
      ]
     },
     "execution_count": 21,
     "metadata": {},
     "output_type": "execute_result"
    }
   ],
   "source": [
    "# From https://ipywidgets.readthedocs.io/en/latest/examples/Using%20Interact.html\n",
    "interact(\n",
    "    generate_plots,\n",
    "    model = fixed(fc_built_model),\n",
    "    x = fixed(X_test),\n",
    "    y = fixed(Y_test),\n",
    "    n=widgets.IntSlider(min=0, max=199, step=5, value=0),\n",
    "    target=False,\n",
    "    prediction=False,\n",
    "    raw_prediction=False,\n",
    "    diff=True\n",
    ")"
   ]
  },
  {
   "cell_type": "markdown",
   "metadata": {},
   "source": [
    "This widget lets us look through the validation set predictions and compare what the model is outputting compared to what the equivilant label is. What we can begin to see from here is that the model does have some predictive power on pieces which do not move great distances up and down the board. However for pieces that can travel the entire diagonal, vertical or horizontal distance of the board (such as rooks, bishops and queens) there is a high margin of error and these motions are rarely predicted at all, indicating they are tough to learn.\n",
    "\n",
    "This may also be indicitve of some bias in the training data - almost every position has pawns which can be moved in it whereas the major pieces are more often closed in and obscured behind other pieces. This imbalance may contribute to not learning how the pieces move properly."
   ]
  },
  {
   "cell_type": "markdown",
   "metadata": {},
   "source": [
    "## Hyperparameters\n",
    "\n",
    "This model has many hyperparemters already, including:\n",
    "- The number of epochs\n",
    "- The size of each batch\n",
    "- The optimizer used\n",
    "- The number of parameters in each hidden layer\n",
    "- The number of hidden layers\n",
    "\n",
    "It is also more than reasonable to think of adding other optimization techniques such as regularization.\n",
    "To help optimize these parameters we can use a grid search algorithm. "
   ]
  },
  {
   "cell_type": "markdown",
   "metadata": {},
   "source": [
    "### Tuning the model architecture\n",
    "\n",
    "The network design is a very important factor and so its useful to get an idea of what model design will perform well. This grid search will fix certain parameters for speed and then search a space of different model designs in a coarse grid to get a picture for which architecture to use when tuning other parameters."
   ]
  },
  {
   "cell_type": "code",
   "execution_count": 22,
   "metadata": {},
   "outputs": [],
   "source": [
    "def create_fc_model(\n",
    "        n_hidden_layers, \n",
    "        hidden_dim,\n",
    "        optimizer,\n",
    "        batch_size,\n",
    "        n_epochs,\n",
    "        output_activation,\n",
    "        dropout_rate\n",
    "        ):\n",
    "    # Create a model  \n",
    "    fc_model_inputs = keras.Input(shape=(64, ))\n",
    "    fc_model = Dense(hidden_dim, activation='relu')(fc_model_inputs)\n",
    "    for i in range(n_hidden_layers-1):\n",
    "        fc_model = Dense(hidden_dim, activation='relu')(fc_model)\n",
    "        fc_model = Dropout(dropout_rate)(fc_model)\n",
    "        \n",
    "    fc_model_outputs = Dense(64, activation=output_activation)(fc_model)\n",
    "\n",
    "    model = keras.Model(inputs=fc_model_inputs, outputs=fc_model_outputs)\n",
    "    model.compile(loss='binary_crossentropy', optimizer=optimizer, metrics=['accuracy', 'binary_accuracy'])\n",
    "    return model"
   ]
  },
  {
   "cell_type": "code",
   "execution_count": 23,
   "metadata": {},
   "outputs": [
    {
     "name": "stdout",
     "output_type": "stream",
     "text": [
      "Fitting 3 folds for each of 20 candidates, totalling 60 fits\n",
      "Init Plugin\n",
      "Init Plugin\n",
      "Init Plugin\n",
      "Init Graph Optimizer\n",
      "Init Kernel\n",
      "Init Plugin\n",
      "Init Graph Optimizer\n",
      "Init Kernel\n",
      "Init Graph Optimizer\n",
      "Init Kernel\n",
      "Init Graph Optimizer\n",
      "Init Kernel\n",
      "Init Plugin\n",
      "Init Graph Optimizer\n",
      "Init Kernel\n",
      "Init Plugin\n",
      "Init Graph Optimizer\n",
      "Init Kernel\n",
      "Init Plugin\n",
      "Init Graph Optimizer\n",
      "Init Kernel\n",
      "Init Plugin\n",
      "Init Graph Optimizer\n",
      "Init Kernel\n",
      "Metal device set to: Apple M1\n"
     ]
    },
    {
     "name": "stderr",
     "output_type": "stream",
     "text": [
      "2021-12-15 01:37:34.581281: I tensorflow/core/common_runtime/pluggable_device/pluggable_device_factory.cc:305] Could not identify NUMA node of platform GPU ID 0, defaulting to 0. Your kernel may not have been built with NUMA support.\n",
      "2021-12-15 01:37:34.581502: I tensorflow/core/common_runtime/pluggable_device/pluggable_device_factory.cc:271] Created TensorFlow device (/job:localhost/replica:0/task:0/device:GPU:0 with 0 MB memory) -> physical PluggableDevice (device: 0, name: METAL, pci bus id: <undefined>)\n",
      "2021-12-15 01:37:34.600494: I tensorflow/core/common_runtime/pluggable_device/pluggable_device_factory.cc:305] Could not identify NUMA node of platform GPU ID 0, defaulting to 0. Your kernel may not have been built with NUMA support.\n",
      "2021-12-15 01:37:34.600668: I tensorflow/core/common_runtime/pluggable_device/pluggable_device_factory.cc:271] Created TensorFlow device (/job:localhost/replica:0/task:0/device:GPU:0 with 0 MB memory) -> physical PluggableDevice (device: 0, name: METAL, pci bus id: <undefined>)\n",
      "2021-12-15 01:37:34.609376: I tensorflow/core/common_runtime/pluggable_device/pluggable_device_factory.cc:305] Could not identify NUMA node of platform GPU ID 0, defaulting to 0. Your kernel may not have been built with NUMA support.\n",
      "2021-12-15 01:37:34.610058: I tensorflow/core/common_runtime/pluggable_device/pluggable_device_factory.cc:271] Created TensorFlow device (/job:localhost/replica:0/task:0/device:GPU:0 with 0 MB memory) -> physical PluggableDevice (device: 0, name: METAL, pci bus id: <undefined>)\n",
      "2021-12-15 01:37:34.621888: I tensorflow/core/common_runtime/pluggable_device/pluggable_device_factory.cc:305] Could not identify NUMA node of platform GPU ID 0, defaulting to 0. Your kernel may not have been built with NUMA support.\n",
      "2021-12-15 01:37:34.622160: I tensorflow/core/common_runtime/pluggable_device/pluggable_device_factory.cc:271] Created TensorFlow device (/job:localhost/replica:0/task:0/device:GPU:0 with 0 MB memory) -> physical PluggableDevice (device: 0, name: METAL, pci bus id: <undefined>)\n",
      "2021-12-15 01:37:34.623111: I tensorflow/core/common_runtime/pluggable_device/pluggable_device_factory.cc:305] Could not identify NUMA node of platform GPU ID 0, defaulting to 0. Your kernel may not have been built with NUMA support.\n",
      "2021-12-15 01:37:34.623291: I tensorflow/core/common_runtime/pluggable_device/pluggable_device_factory.cc:271] Created TensorFlow device (/job:localhost/replica:0/task:0/device:GPU:0 with 0 MB memory) -> physical PluggableDevice (device: 0, name: METAL, pci bus id: <undefined>)\n",
      "2021-12-15 01:37:34.631992: I tensorflow/core/common_runtime/pluggable_device/pluggable_device_factory.cc:305] Could not identify NUMA node of platform GPU ID 0, defaulting to 0. Your kernel may not have been built with NUMA support.\n",
      "2021-12-15 01:37:34.632137: I tensorflow/core/common_runtime/pluggable_device/pluggable_device_factory.cc:271] Created TensorFlow device (/job:localhost/replica:0/task:0/device:GPU:0 with 0 MB memory) -> physical PluggableDevice (device: 0, name: METAL, pci bus id: <undefined>)\n",
      "2021-12-15 01:37:34.639326: I tensorflow/core/common_runtime/pluggable_device/pluggable_device_factory.cc:305] Could not identify NUMA node of platform GPU ID 0, defaulting to 0. Your kernel may not have been built with NUMA support.\n",
      "2021-12-15 01:37:34.639467: I tensorflow/core/common_runtime/pluggable_device/pluggable_device_factory.cc:271] Created TensorFlow device (/job:localhost/replica:0/task:0/device:GPU:0 with 0 MB memory) -> physical PluggableDevice (device: 0, name: METAL, pci bus id: <undefined>)\n",
      "2021-12-15 01:37:34.663017: I tensorflow/core/common_runtime/pluggable_device/pluggable_device_factory.cc:305] Could not identify NUMA node of platform GPU ID 0, defaulting to 0. Your kernel may not have been built with NUMA support.\n",
      "2021-12-15 01:37:34.663264: I tensorflow/core/common_runtime/pluggable_device/pluggable_device_factory.cc:271] Created TensorFlow device (/job:localhost/replica:0/task:0/device:GPU:0 with 0 MB memory) -> physical PluggableDevice (device: 0, name: METAL, pci bus id: <undefined>)\n"
     ]
    },
    {
     "name": "stdout",
     "output_type": "stream",
     "text": [
      "Metal device set to: Apple M1\n",
      "Metal device set to: Apple M1\n",
      "Metal device set to: Apple M1\n",
      "Metal device set to: Apple M1\n",
      "Metal device set to: Apple M1\n",
      "Metal device set to: Apple M1\n",
      "Metal device set to: Apple M1\n"
     ]
    },
    {
     "name": "stderr",
     "output_type": "stream",
     "text": [
      "2021-12-15 01:37:35.102080: I tensorflow/compiler/mlir/mlir_graph_optimization_pass.cc:176] None of the MLIR Optimization Passes are enabled (registered 2)\n",
      "2021-12-15 01:37:35.102751: W tensorflow/core/platform/profile_utils/cpu_utils.cc:128] Failed to get CPU frequency: 0 Hz\n",
      "2021-12-15 01:37:35.105462: I tensorflow/compiler/mlir/mlir_graph_optimization_pass.cc:176] None of the MLIR Optimization Passes are enabled (registered 2)\n",
      "2021-12-15 01:37:35.105495: I tensorflow/compiler/mlir/mlir_graph_optimization_pass.cc:176] None of the MLIR Optimization Passes are enabled (registered 2)\n",
      "2021-12-15 01:37:35.105751: W tensorflow/core/platform/profile_utils/cpu_utils.cc:128] Failed to get CPU frequency: 0 Hz\n",
      "2021-12-15 01:37:35.108912: W tensorflow/core/platform/profile_utils/cpu_utils.cc:128] Failed to get CPU frequency: 0 Hz\n",
      "2021-12-15 01:37:35.123532: I tensorflow/compiler/mlir/mlir_graph_optimization_pass.cc:176] None of the MLIR Optimization Passes are enabled (registered 2)\n",
      "2021-12-15 01:37:35.127052: W tensorflow/core/platform/profile_utils/cpu_utils.cc:128] Failed to get CPU frequency: 0 Hz\n",
      "2021-12-15 01:37:35.128508: I tensorflow/compiler/mlir/mlir_graph_optimization_pass.cc:176] None of the MLIR Optimization Passes are enabled (registered 2)\n",
      "2021-12-15 01:37:35.128908: W tensorflow/core/platform/profile_utils/cpu_utils.cc:128] Failed to get CPU frequency: 0 Hz\n",
      "2021-12-15 01:37:35.135751: I tensorflow/compiler/mlir/mlir_graph_optimization_pass.cc:176] None of the MLIR Optimization Passes are enabled (registered 2)\n",
      "2021-12-15 01:37:35.138638: W tensorflow/core/platform/profile_utils/cpu_utils.cc:128] Failed to get CPU frequency: 0 Hz\n",
      "2021-12-15 01:37:35.140924: I tensorflow/compiler/mlir/mlir_graph_optimization_pass.cc:176] None of the MLIR Optimization Passes are enabled (registered 2)\n",
      "2021-12-15 01:37:35.141180: W tensorflow/core/platform/profile_utils/cpu_utils.cc:128] Failed to get CPU frequency: 0 Hz\n",
      "2021-12-15 01:37:35.147325: I tensorflow/compiler/mlir/mlir_graph_optimization_pass.cc:176] None of the MLIR Optimization Passes are enabled (registered 2)\n",
      "2021-12-15 01:37:35.147723: W tensorflow/core/platform/profile_utils/cpu_utils.cc:128] Failed to get CPU frequency: 0 Hz\n",
      "2021-12-15 01:37:35.493192: I tensorflow/core/grappler/optimizers/custom_graph_optimizer_registry.cc:112] Plugin optimizer for device_type GPU is enabled.\n",
      "2021-12-15 01:37:35.521077: I tensorflow/core/grappler/optimizers/custom_graph_optimizer_registry.cc:112] Plugin optimizer for device_type GPU is enabled.\n",
      "2021-12-15 01:37:35.528114: I tensorflow/core/grappler/optimizers/custom_graph_optimizer_registry.cc:112] Plugin optimizer for device_type GPU is enabled.\n",
      "2021-12-15 01:37:35.556253: I tensorflow/core/grappler/optimizers/custom_graph_optimizer_registry.cc:112] Plugin optimizer for device_type GPU is enabled.\n",
      "2021-12-15 01:37:35.557405: I tensorflow/core/grappler/optimizers/custom_graph_optimizer_registry.cc:112] Plugin optimizer for device_type GPU is enabled.\n",
      "2021-12-15 01:37:35.600072: I tensorflow/core/grappler/optimizers/custom_graph_optimizer_registry.cc:112] Plugin optimizer for device_type GPU is enabled.\n",
      "2021-12-15 01:37:35.616259: I tensorflow/core/grappler/optimizers/custom_graph_optimizer_registry.cc:112] Plugin optimizer for device_type GPU is enabled.\n",
      "2021-12-15 01:37:35.697411: I tensorflow/core/grappler/optimizers/custom_graph_optimizer_registry.cc:112] Plugin optimizer for device_type GPU is enabled.\n"
     ]
    },
    {
     "name": "stdout",
     "output_type": "stream",
     "text": [
      "267/267 [==============================] - 8s 27ms/step - loss: 0.6191 - accuracy: 0.0053 - binary_accuracy: 0.6742\n",
      "267/267 [==============================] - 8s 27ms/step - loss: 0.6227 - accuracy: 0.0083 - binary_accuracy: 0.6696\n",
      "267/267 [==============================] - 9s 29ms/step - loss: 0.6301 - accuracy: 0.0075 - binary_accuracy: 0.6487\n",
      "267/267 [==============================] - 9s 29ms/step - loss: 0.6167 - accuracy: 0.0023 - binary_accuracy: 0.6764\n",
      "267/267 [==============================] - 9s 30ms/step - loss: 0.6214 - accuracy: 0.0030 - binary_accuracy: 0.6651\n",
      "267/267 [==============================] - 9s 30ms/step - loss: 0.6153 - accuracy: 0.0060 - binary_accuracy: 0.6771\n"
     ]
    },
    {
     "name": "stderr",
     "output_type": "stream",
     "text": [
      "2021-12-15 01:37:43.888502: I tensorflow/core/grappler/optimizers/custom_graph_optimizer_registry.cc:112] Plugin optimizer for device_type GPU is enabled.\n",
      "2021-12-15 01:37:43.889390: I tensorflow/core/grappler/optimizers/custom_graph_optimizer_registry.cc:112] Plugin optimizer for device_type GPU is enabled.\n",
      "2021-12-15 01:37:44.062549: I tensorflow/core/grappler/optimizers/custom_graph_optimizer_registry.cc:112] Plugin optimizer for device_type GPU is enabled.\n"
     ]
    },
    {
     "name": "stdout",
     "output_type": "stream",
     "text": [
      "\r",
      "  1/134 [..............................] - ETA: 1:44 - loss: 0.6206 - accuracy: 0.0000e+00 - binary_accuracy: 0.6500\b\b\b\b\b\b\b\b\b\b\b\b\b\b\b\b\b\b\b\b\b\b\b\b\b\b\b\b\b\b\b\b\b\b\b\b\b\b\b\b\b\b\b\b\b\b\b\b\b\b\b\b\b\b\b\b\b\b\b\b\b\b\b\b\b\b\b\b\b\b\b\b\b\b\b\b\b\b\b\b\b\b\b\b\b\b\b\b\b\b\b\b\b\b\b\b\b\b\b\b\b\b\b\b\b\b\b\b\b\b\r",
      "242/267 [==========================>...] - ETA: 0s - loss: 0.6166 - accuracy: 0.0033 - binary_accuracy: 0.6755\b\b\b\b\b\b\b\b\b\b\b\b\b\b\b\b\b\b\b\b\b\b\b\b\b\b\b\b\b\b\b\b\b\b\b\b\b\b\b\b\b\b\b\b\b\b\b\b\b\b\b\b\b\b\b\b\b\b\b\b\b\b\b\b\b\b\b\b\b\b\b\b\b\b\b\b\b\b\b\b\b\b\b\b\b\b\b\b\b\b\b\b\b\b\b\b\b\b\b\b\b\b\b\b\b\b\b\b\b\b\r",
      "241/267 [==========================>...] - ETA: 0s - loss: 0.6071 - accuracy: 0.0025 - binary_accuracy: 0.6869\r",
      "  1/134 [..............................] - ETA: 1:49 - loss: 0.5809 - accuracy: 0.0000e+00 - binary_accuracy: 0.6906\b\b\b\b\b\b\b\b\b\b\b\b\b\b\b\b\b\b\b\b\b\b\b\b\b\b\b\b\b\b\b\b\b\b\b\b\b\b\b\b\b\b\b\b\b\b\b\b\b\b\b\b\b\b\b\b\b\b\b\b\b\b\b\b\b\b\b\b\b\b\b\b\b\b\b\b\b\b\b\b\b\b\b\b\b\b\b\b\b\b\b\b\b\b\b\b\b\b\b\b\b\b\b\b\b\b\b\b\b\b\r",
      "243/267 [==========================>...] - ETA: 0s - loss: 0.6162 - accuracy: 0.0033 - binary_accuracy: 0.6758\b\b\b\b\b\b\b\b\b\b\b\b\b\b\b\b\b\b\b\b\b\b\b\b\b\b\b\b\b\b\b\b\b\b\b\b\b\b\b\b\b\b\b\b\b\b\b\b\b\b\b\b\b\b\b\b\b\b\b\b\b\b\b\b\b\b\b\b\b\b\b\b\b\b\b\b\b\b\b\b\b\b\b\b\b\b\b\b\b\b\b\b\b\b\b\b\b\b\b\b\b\b\b\b\b\b\b\b\b\b\b\b\b\b\b\b\r",
      "  3/134 [..............................] - ETA: 7s - loss: 0.6199 - accuracy: 0.0000e+00 - binary_accuracy: 0.6708  \b\b\b\b\b\b\b\b\b\b\b\b\b\b\b\b\b\b\b\b\b\b\b\b\b\b\b\b\b\b\b\b\b\b\b\b\b\b\b\b\b\b\b\b\b\b\b\b\b\b\b\b\b\b\b\b\b\b\b\b\b\b\b\b\b\b\b\b\b\b\b\b\b\b\b\b\b\b\b\b\b\b\b\b\b\b\b\b\b\b\b\b\b\b\b\b\b\b\b\b\b\b\b\b\b\b\b\b\b\b\r",
      "243/267 [==========================>...] - ETA: 0s - loss: 0.6073 - accuracy: 0.0025 - binary_accuracy: 0.6865\b\b\b\b\b\b\b\b\b\b\b\b\b\b\b\b\b\b\b\b\b\b\b\b\b\b\b\b\b\b\b\b\b\b\b\b\b\b\b\b\b\b\b\b\b\b\b\b\b\b\b\b\b\b\b\b\b\b\b\b\b\b\b\b\b\b\b\b\b\b\b\b\b\b\b\b\b\b\b\b\b\b\b\b\b\b\b\b\b\b\b\b\b\b\b\b\b\b\b\b\b\b\b\b\b\b\b\b\b\b\b\b\b\b\b\b\r",
      "  3/134 [..............................] - ETA: 8s - loss: 0.6139 - accuracy: 0.0000e+00 - binary_accuracy: 0.6792  \b\b\b\b\b\b\b\b\b\b\b\b\b\b\b\b\b\b\b\b\b\b\b\b\b\b\b\b\b\b\b\b\b\b\b\b\b\b\b\b\b\b\b\b\b\b\b\b\b\b\b\b\b\b\b\b\b\b\b\b\b\b\b\b\b\b\b\b\b\b\b\b\b\b\b\b\b\b\b\b\b\b\b\b\b\b\b\b\b\b\b\b\b\b\b\b\b\b\b\b\b\b\b\b\b\b\b\b\b\b\r",
      "244/267 [==========================>...] - ETA: 0s - loss: 0.6161 - accuracy: 0.0033 - binary_accuracy: 0.6759\b\b\b\b\b\b\b\b\b\b\b\b\b\b\b\b\b\b\b\b\b\b\b\b\b\b\b\b\b\b\b\b\b\b\b\b\b\b\b\b\b\b\b\b\b\b\b\b\b\b\b\b\b\b\b\b\b\b\b\b\b\b\b\b\b\b\b\b\b\b\b\b\b\b\b\b\b\b\b\b\b\b\b\b\b\b\b\b\b\b\b\b\b\b\b\b\b\b\b\b\b\b\b\b\b\b\b\b\b\b\b\b\b\b\r",
      "  6/134 [>.............................] - ETA: 4s - loss: 0.6196 - accuracy: 0.0000e+00 - binary_accuracy: 0.6823\b\b\b\b\b\b\b\b\b\b\b\b\b\b\b\b\b\b\b\b\b\b\b\b\b\b\b\b\b\b\b\b\b\b\b\b\b\b\b\b\b\b\b\b\b\b\b\b\b\b\b\b\b\b\b\b\b\b\b\b\b\b\b\b\b\b\b\b\b\b\b\b\b\b\b\b\b\b\b\b\b\b\b\b\b\b\b\b\b\b\b\b\b\b\b\b\b\b\b\b\b\b\b\b\b\b\b\b\b\b\b\b\b\b\r",
      "  6/134 [>.............................] - ETA: 4s - loss: 0.5899 - accuracy: 0.0000e+00 - binary_accuracy: 0.7073\b\b\b\b\b\b\b\b\b\b\b\b\b\b\b\b\b\b\b\b\b\b\b\b\b\b\b\b\b\b\b\b\b\b\b\b\b\b\b\b\b\b\b\b\b\b\b\b\b\b\b\b\b\b\b\b\b\b\b\b\b\b\b\b\b\b\b\b\b\b\b\b\b\b\b\b\b\b\b\b\b\b\b\b\b\b\b\b\b\b\b\b\b\b\b\b\b\b\b\b\b\b\b\b\b\b\b\b\b\b\r",
      "245/267 [==========================>...] - ETA: 0s - loss: 0.6072 - accuracy: 0.0024 - binary_accuracy: 0.6864"
     ]
    },
    {
     "name": "stderr",
     "output_type": "stream",
     "text": [
      "2021-12-15 01:37:44.140291: I tensorflow/core/grappler/optimizers/custom_graph_optimizer_registry.cc:112] Plugin optimizer for device_type GPU is enabled.\n",
      "2021-12-15 01:37:44.291832: I tensorflow/core/grappler/optimizers/custom_graph_optimizer_registry.cc:112] Plugin optimizer for device_type GPU is enabled.\n",
      "2021-12-15 01:37:44.314706: I tensorflow/core/grappler/optimizers/custom_graph_optimizer_registry.cc:112] Plugin optimizer for device_type GPU is enabled.\n"
     ]
    },
    {
     "name": "stdout",
     "output_type": "stream",
     "text": [
      "267/267 [==============================] - 10s 35ms/step - loss: 0.6074 - accuracy: 0.0023 - binary_accuracy: 0.6857\n",
      "267/267 [==============================] - 10s 35ms/step - loss: 0.6152 - accuracy: 0.0030 - binary_accuracy: 0.6763\n",
      " 54/134 [===========>..................] - ETA: 1s - loss: 0.5919 - accuracy: 0.0000e+00 - binary_accuracy: 0.7074"
     ]
    },
    {
     "name": "stderr",
     "output_type": "stream",
     "text": [
      "2021-12-15 01:37:45.914279: I tensorflow/core/grappler/optimizers/custom_graph_optimizer_registry.cc:112] Plugin optimizer for device_type GPU is enabled.\n",
      "2021-12-15 01:37:45.988438: I tensorflow/core/grappler/optimizers/custom_graph_optimizer_registry.cc:112] Plugin optimizer for device_type GPU is enabled.\n"
     ]
    },
    {
     "name": "stdout",
     "output_type": "stream",
     "text": [
      "134/134 [==============================] - 3s 19ms/step - loss: 0.5970 - accuracy: 0.0090 - binary_accuracy: 0.6919\n",
      "134/134 [==============================] - 4s 21ms/step - loss: 0.6048 - accuracy: 0.0030 - binary_accuracy: 0.6889\n",
      "134/134 [==============================] - 3s 20ms/step - loss: 0.5949 - accuracy: 0.0060 - binary_accuracy: 0.7004\n",
      "134/134 [==============================] - 3s 20ms/step - loss: 0.5955 - accuracy: 0.0045 - binary_accuracy: 0.6936\n",
      "134/134 [==============================] - 3s 20ms/step - loss: 0.6021 - accuracy: 0.0075 - binary_accuracy: 0.6907\n",
      "134/134 [==============================] - 4s 20ms/step - loss: 0.5854 - accuracy: 0.0045 - binary_accuracy: 0.7133\n",
      "102/134 [=====================>........] - ETA: 0s - loss: 0.5990 - accuracy: 0.0039 - binary_accuracy: 0.6930"
     ]
    },
    {
     "name": "stderr",
     "output_type": "stream",
     "text": [
      "2021-12-15 01:37:48.020528: I tensorflow/core/grappler/optimizers/custom_graph_optimizer_registry.cc:112] Plugin optimizer for device_type GPU is enabled.\n"
     ]
    },
    {
     "name": "stdout",
     "output_type": "stream",
     "text": [
      "134/134 [==============================] - 3s 16ms/step - loss: 0.5993 - accuracy: 0.0030 - binary_accuracy: 0.6923\n",
      "134/134 [==============================] - 3s 16ms/step - loss: 0.5963 - accuracy: 0.0015 - binary_accuracy: 0.6903\n",
      " 17/267 [>.............................] - ETA: 4s - loss: 0.6903 - accuracy: 0.0118 - binary_accuracy: 0.5489"
     ]
    },
    {
     "name": "stderr",
     "output_type": "stream",
     "text": [
      "2021-12-15 01:37:48.500758: I tensorflow/core/grappler/optimizers/custom_graph_optimizer_registry.cc:112] Plugin optimizer for device_type GPU is enabled.\n",
      "2021-12-15 01:37:48.575028: I tensorflow/core/grappler/optimizers/custom_graph_optimizer_registry.cc:112] Plugin optimizer for device_type GPU is enabled.\n",
      "2021-12-15 01:37:48.576205: I tensorflow/core/grappler/optimizers/custom_graph_optimizer_registry.cc:112] Plugin optimizer for device_type GPU is enabled.\n",
      "2021-12-15 01:37:48.629318: I tensorflow/core/grappler/optimizers/custom_graph_optimizer_registry.cc:112] Plugin optimizer for device_type GPU is enabled.\n",
      "2021-12-15 01:37:48.694740: I tensorflow/core/grappler/optimizers/custom_graph_optimizer_registry.cc:112] Plugin optimizer for device_type GPU is enabled.\n"
     ]
    },
    {
     "name": "stdout",
     "output_type": "stream",
     "text": [
      " 30/267 [==>...........................] - ETA: 9s - loss: 0.6805 - accuracy: 0.0200 - binary_accuracy: 0.5850  "
     ]
    },
    {
     "name": "stderr",
     "output_type": "stream",
     "text": [
      "2021-12-15 01:37:50.305247: I tensorflow/core/grappler/optimizers/custom_graph_optimizer_registry.cc:112] Plugin optimizer for device_type GPU is enabled.\n"
     ]
    },
    {
     "name": "stdout",
     "output_type": "stream",
     "text": [
      " 98/267 [==========>...................] - ETA: 4s - loss: 0.6458 - accuracy: 0.0163 - binary_accuracy: 0.63345581 "
     ]
    },
    {
     "name": "stderr",
     "output_type": "stream",
     "text": [
      "2021-12-15 01:37:51.528057: I tensorflow/core/grappler/optimizers/custom_graph_optimizer_registry.cc:112] Plugin optimizer for device_type GPU is enabled.\n"
     ]
    },
    {
     "name": "stdout",
     "output_type": "stream",
     "text": [
      "267/267 [==============================] - 8s 27ms/step - loss: 0.6145 - accuracy: 0.0038 - binary_accuracy: 0.6767\n",
      "267/267 [==============================] - 9s 29ms/step - loss: 0.6138 - accuracy: 0.0120 - binary_accuracy: 0.6740\n",
      "267/267 [==============================] - 10s 34ms/step - loss: 0.6164 - accuracy: 0.0060 - binary_accuracy: 0.6732\n",
      "202/267 [=====================>........] - ETA: 2s - loss: 0.6193 - accuracy: 0.0069 - binary_accuracy: 0.6757"
     ]
    },
    {
     "name": "stderr",
     "output_type": "stream",
     "text": [
      "2021-12-15 01:37:57.324867: I tensorflow/core/grappler/optimizers/custom_graph_optimizer_registry.cc:112] Plugin optimizer for device_type GPU is enabled.\n",
      "2021-12-15 01:37:57.479843: I tensorflow/core/grappler/optimizers/custom_graph_optimizer_registry.cc:112] Plugin optimizer for device_type GPU is enabled.\n"
     ]
    },
    {
     "name": "stdout",
     "output_type": "stream",
     "text": [
      "267/267 [==============================] - 9s 25ms/step - loss: 0.6153 - accuracy: 0.0037 - binary_accuracy: 0.6741\n",
      "  1/134 [..............................] - ETA: 1:14 - loss: 0.6196 - accuracy: 0.0000e+00 - binary_accuracy: 0.6656"
     ]
    },
    {
     "name": "stderr",
     "output_type": "stream",
     "text": [
      "2021-12-15 01:37:58.486945: I tensorflow/core/grappler/optimizers/custom_graph_optimizer_registry.cc:112] Plugin optimizer for device_type GPU is enabled.\n"
     ]
    },
    {
     "name": "stdout",
     "output_type": "stream",
     "text": [
      " 71/134 [==============>...............] - ETA: 1s - loss: 0.5801 - accuracy: 0.0056 - binary_accuracy: 0.7181  "
     ]
    },
    {
     "name": "stderr",
     "output_type": "stream",
     "text": [
      "2021-12-15 01:37:59.133471: I tensorflow/core/grappler/optimizers/custom_graph_optimizer_registry.cc:112] Plugin optimizer for device_type GPU is enabled.\n"
     ]
    },
    {
     "name": "stdout",
     "output_type": "stream",
     "text": [
      "267/267 [==============================] - 10s 28ms/step - loss: 0.6069 - accuracy: 0.0045 - binary_accuracy: 0.6855\n",
      " 68/134 [==============>...............] - ETA: 1s - loss: 0.5855 - accuracy: 0.0088 - binary_accuracy: 0.717369"
     ]
    },
    {
     "name": "stderr",
     "output_type": "stream",
     "text": [
      "2021-12-15 01:37:59.801490: I tensorflow/core/grappler/optimizers/custom_graph_optimizer_registry.cc:112] Plugin optimizer for device_type GPU is enabled.\n"
     ]
    },
    {
     "name": "stdout",
     "output_type": "stream",
     "text": [
      "134/134 [==============================] - 3s 19ms/step - loss: 0.5957 - accuracy: 0.0045 - binary_accuracy: 0.6967\n",
      "267/267 [==============================] - 12s 40ms/step - loss: 0.6143 - accuracy: 0.0030 - binary_accuracy: 0.6703\n",
      "267/267 [==============================] - 12s 41ms/step - loss: 0.6123 - accuracy: 0.0038 - binary_accuracy: 0.6794\n",
      "267/267 [==============================] - 13s 42ms/step - loss: 0.6115 - accuracy: 0.0060 - binary_accuracy: 0.6814\n",
      "134/134 [==============================] - 3s 18ms/step - loss: 0.5812 - accuracy: 0.0045 - binary_accuracy: 0.7140\n",
      "  7/134 [>.............................] - ETA: 3s - loss: 0.5700 - accuracy: 0.0000e+00 - binary_accuracy: 0.7232"
     ]
    },
    {
     "name": "stderr",
     "output_type": "stream",
     "text": [
      "2021-12-15 01:38:00.133774: I tensorflow/core/grappler/optimizers/custom_graph_optimizer_registry.cc:112] Plugin optimizer for device_type GPU is enabled.\n",
      "2021-12-15 01:38:00.318242: I tensorflow/core/grappler/optimizers/custom_graph_optimizer_registry.cc:112] Plugin optimizer for device_type GPU is enabled.\n"
     ]
    },
    {
     "name": "stdout",
     "output_type": "stream",
     "text": [
      "\b\b\b\b\b\b\b\b\b\b\b\b\b\b\b\b\b\b\b\b\b\b\b\b\b\b\b\b\b\b\b\b\b\b\b\b\b\b\b\b\b\b\b\b\b\b\b\b\b\b\b\b\b\b\b\b\b\b\b\b\b\b\b\b\b\b\b\b\b\b\b\b\b\b\b\b\b\b\b\b\b\b\b\b\b\b\b\b\b\b\b\b\b\b\b\b\b\b\b\b\b\b\b\b\b\b\b\b\b\b\b\b\b\b\r",
      " 75/134 [===============>..............] - ETA: 0s - loss: 0.5922 - accuracy: 0.0000e+00 - binary_accuracy: 0.7000\b\b\b\b\b\b\b\b\b\b\b\b\b\b\b\b\b\b\b\b\b\b\b\b\b\b\b\b\b\b\b\b\b\b\b\b\b\b\b\b\b\b\b\b\b\b\b\b\b\b\b\b\b\b\b\b\b\b\b\b\b\b\b\b\b\b\b\b\b\b\b\b\b\b\b\b\b\b\b\b\b\b\b\b\b\b\b\b\b\b\b\b\b\b\b\b\b\b\b\b\b\b\b\b\b\b\b\b\b\b\r",
      "110/134 [=======================>......] - ETA: 0s - loss: 0.5850 - accuracy: 0.0109 - binary_accuracy: 0.7149\b\b\b\b\b\b\b\b\b\b\b\b\b\b\b\b\b\b\b\b\b\b\b\b\b\b\b\b\b\b\b\b\b\b\b\b\b\b\b\b\b\b\b\b\b\b\b\b\b\b\b\b\b\b\b\b\b\b\b\b\b\b\b\b\b\b\b\b\b\b\b\b\b\b\b\b\b\b\b\b\b\b\b\b\b\b\b\b\b\b\b\b\b\b\b\b\b\b\b\b\b\b\b\b\b\b\b\b\b\b\b\b\b\b\r",
      " 11/134 [=>............................] - ETA: 3s - loss: 0.5773 - accuracy: 0.0000e+00 - binary_accuracy: 0.7151\b\b\b\b\b\b\b\b\b\b\b\b\b\b\b\b\b\b\b\b\b\b\b\b\b\b\b\b\b\b\b\b\b\b\b\b\b\b\b\b\b\b\b\b\b\b\b\b\b\b\b\b\b\b\b\b\b\b\b\b\b\b\b\b\b\b\b\b\b\b\b\b\b\b\b\b\b\b\b\b\b\b\b\b\b\b\b\b\b\b\b\b\b\b\b\b\b\b\b\b\b\b\b\b\b\b\b\b\b\b\r",
      "114/134 [========================>.....] - ETA: 0s - loss: 0.5846 - accuracy: 0.0105 - binary_accuracy: 0.7149\b\b\b\b\b\b\b\b\b\b\b\b\b\b\b\b\b\b\b\b\b\b\b\b\b\b\b\b\b\b\b\b\b\b\b\b\b\b\b\b\b\b\b\b\b\b\b\b\b\b\b\b\b\b\b\b\b\b\b\b\b\b\b\b\b\b\b\b\b\b\b\b\b\b\b\b\b\b\b\b\b\b\b\b\b\b\b\b\b\b\b\b\b\b\b\b\b\b\b\b\b\b\b\b\b\b\b\b\b\b\b\b\b\b\r",
      " 79/134 [================>.............] - ETA: 0s - loss: 0.5899 - accuracy: 0.0025 - binary_accuracy: 0.7013    \b\b\b\b\b\b\b\b\b\b\b\b\b\b\b\b\b\b\b\b\b\b\b\b\b\b\b\b\b\b\b\b\b\b\b\b\b\b\b\b\b\b\b\b\b\b\b\b\b\b\b\b\b\b\b\b\b\b\b\b\b\b\b\b\b\b\b\b\b\b\b\b\b\b\b\b\b\b\b\b\b\b\b\b\b\b\b\b\b\b\b\b\b\b\b\b\b\b\b\b\b\b\b\b\b\b\b\b\b\b\b\b\b\b\r",
      " 15/134 [==>...........................] - ETA: 2s - loss: 0.5808 - accuracy: 0.0000e+00 - binary_accuracy: 0.7067\b\b\b\b\b\b\b\b\b\b\b\b\b\b\b\b\b\b\b\b\b\b\b\b\b\b\b\b\b\b\b\b\b\b\b\b\b\b\b\b\b\b\b\b\b\b\b\b\b\b\b\b\b\b\b\b\b\b\b\b\b\b\b\b\b\b\b\b\b\b\b\b\b\b\b\b\b\b\b\b\b\b\b\b\b\b\b\b\b\b\b\b\b\b\b\b\b\b\b\b\b\b\b\b\b\b\b\b\b\b\r",
      " 84/134 [=================>............] - ETA: 0s - loss: 0.5880 - accuracy: 0.0024 - binary_accuracy: 0.7033\b\b\b\b\b\b\b\b\b\b\b\b\b\b\b\b\b\b\b\b\b\b\b\b\b\b\b\b\b\b\b\b\b\b\b\b\b\b\b\b\b\b\b\b\b\b\b\b\b\b\b\b\b\b\b\b\b\b\b\b\b\b\b\b\b\b\b\b\b\b\b\b\b\b\b\b\b\b\b\b\b\b\b\b\b\b\b\b\b\b\b\b\b\b\b\b\b\b\b\b\b\b\b\b\b\b\b\b\b\b\b\b\b\b\r",
      " 18/134 [===>..........................] - ETA: 2s - loss: 0.5797 - accuracy: 0.0111 - binary_accuracy: 0.7101    \b\b\b\b\b\b\b\b\b\b\b\b\b\b\b\b\b\b\b\b\b\b\b\b\b\b\b\b\b\b\b\b\b\b\b\b\b\b\b\b\b\b\b\b\b\b\b\b\b\b\b\b\b\b\b\b\b\b\b\b\b\b\b\b\b\b\b\b\b\b\b\b\b\b\b\b\b\b\b\b\b\b\b\b\b\b\b\b\b\b\b\b\b\b\b\b\b\b\b\b\b\b\b\b\b\b\b\b\b\b\r",
      "120/134 [=========================>....] - ETA: 0s - loss: 0.5833 - accuracy: 0.0100 - binary_accuracy: 0.7149\r",
      "  1/134 [..............................] - ETA: 1:01 - loss: 0.6142 - accuracy: 0.0000e+00 - binary_accuracy: 0.6469\r",
      "  1/134 [..............................] - ETA: 42s - loss: 0.6288 - accuracy: 0.0000e+00 - binary_accuracy: 0.6219\b\b\b\b\b\b\b\b\b\b\b\b\b\b\b\b\b\b\b\b\b\b\b\b\b\b\b\b\b\b\b\b\b\b\b\b\b\b\b\b\b\b\b\b\b\b\b\b\b\b\b\b\b\b\b\b\b\b\b\b\b\b\b\b\b\b\b\b\b\b\b\b\b\b\b\b\b\b\b\b\b\b\b\b\b\b\b\b\b\b\b\b\b\b\b\b\b\b\b\b\b\b\b\b\b\b\b\b\b\b\r",
      " 21/134 [===>..........................] - ETA: 2s - loss: 0.5787 - accuracy: 0.0095 - binary_accuracy: 0.7106"
     ]
    },
    {
     "name": "stderr",
     "output_type": "stream",
     "text": [
      "2021-12-15 01:38:00.427852: I tensorflow/core/grappler/optimizers/custom_graph_optimizer_registry.cc:112] Plugin optimizer for device_type GPU is enabled.\n"
     ]
    },
    {
     "name": "stdout",
     "output_type": "stream",
     "text": [
      "134/134 [==============================] - 3s 16ms/step - loss: 0.5843 - accuracy: 0.0090 - binary_accuracy: 0.7138\n",
      "134/134 [==============================] - 2s 14ms/step - loss: 0.5943 - accuracy: 0.0030 - binary_accuracy: 0.6959\n",
      "119/134 [=========================>....] - ETA: 0s - loss: 0.5850 - accuracy: 0.0067 - binary_accuracy: 0.7010"
     ]
    },
    {
     "name": "stderr",
     "output_type": "stream",
     "text": [
      "2021-12-15 01:38:01.650031: I tensorflow/core/grappler/optimizers/custom_graph_optimizer_registry.cc:112] Plugin optimizer for device_type GPU is enabled.\n"
     ]
    },
    {
     "name": "stdout",
     "output_type": "stream",
     "text": [
      "134/134 [==============================] - 2s 14ms/step - loss: 0.5871 - accuracy: 0.0075 - binary_accuracy: 0.6993\n",
      "134/134 [==============================] - 3s 16ms/step - loss: 0.5828 - accuracy: 0.0015 - binary_accuracy: 0.7062\n",
      "134/134 [==============================] - 3s 15ms/step - loss: 0.5958 - accuracy: 0.0030 - binary_accuracy: 0.6938\n",
      "134/134 [==============================] - 3s 18ms/step - loss: 0.5981 - accuracy: 0.0060 - binary_accuracy: 0.6871\n"
     ]
    },
    {
     "name": "stderr",
     "output_type": "stream",
     "text": [
      "2021-12-15 01:38:02.869226: I tensorflow/core/grappler/optimizers/custom_graph_optimizer_registry.cc:112] Plugin optimizer for device_type GPU is enabled.\n",
      "2021-12-15 01:38:02.921395: I tensorflow/core/grappler/optimizers/custom_graph_optimizer_registry.cc:112] Plugin optimizer for device_type GPU is enabled.\n"
     ]
    },
    {
     "name": "stdout",
     "output_type": "stream",
     "text": [
      "  3/267 [..............................] - ETA: 6s - loss: 0.6960 - accuracy: 0.0000e+00 - binary_accuracy: 0.4917  "
     ]
    },
    {
     "name": "stderr",
     "output_type": "stream",
     "text": [
      "2021-12-15 01:38:03.290196: I tensorflow/core/grappler/optimizers/custom_graph_optimizer_registry.cc:112] Plugin optimizer for device_type GPU is enabled.\n"
     ]
    },
    {
     "name": "stdout",
     "output_type": "stream",
     "text": [
      "105/267 [==========>...................] - ETA: 3s - loss: 0.6272 - accuracy: 0.0038 - binary_accuracy: 0.663563  "
     ]
    },
    {
     "name": "stderr",
     "output_type": "stream",
     "text": [
      "2021-12-15 01:38:04.138999: I tensorflow/core/grappler/optimizers/custom_graph_optimizer_registry.cc:112] Plugin optimizer for device_type GPU is enabled.\n"
     ]
    },
    {
     "name": "stdout",
     "output_type": "stream",
     "text": [
      " 63/267 [======>.......................] - ETA: 4s - loss: 0.6401 - accuracy: 0.0159 - binary_accuracy: 0.64525481"
     ]
    },
    {
     "name": "stderr",
     "output_type": "stream",
     "text": [
      "2021-12-15 01:38:05.219291: I tensorflow/core/grappler/optimizers/custom_graph_optimizer_registry.cc:112] Plugin optimizer for device_type GPU is enabled.\n",
      "2021-12-15 01:38:05.316373: I tensorflow/core/grappler/optimizers/custom_graph_optimizer_registry.cc:112] Plugin optimizer for device_type GPU is enabled.\n"
     ]
    },
    {
     "name": "stdout",
     "output_type": "stream",
     "text": [
      "242/267 [==========================>...] - ETA: 0s - loss: 0.6064 - accuracy: 0.0025 - binary_accuracy: 0.6867  59 "
     ]
    },
    {
     "name": "stderr",
     "output_type": "stream",
     "text": [
      "2021-12-15 01:38:06.956915: I tensorflow/core/grappler/optimizers/custom_graph_optimizer_registry.cc:112] Plugin optimizer for device_type GPU is enabled.\n"
     ]
    },
    {
     "name": "stdout",
     "output_type": "stream",
     "text": [
      "267/267 [==============================] - 7s 22ms/step - loss: 0.6040 - accuracy: 0.0023 - binary_accuracy: 0.6888\n",
      " 41/267 [===>..........................] - ETA: 8s - loss: 0.6468 - accuracy: 0.0049 - binary_accuracy: 0.6461"
     ]
    },
    {
     "name": "stderr",
     "output_type": "stream",
     "text": [
      "2021-12-15 01:38:08.401820: I tensorflow/core/grappler/optimizers/custom_graph_optimizer_registry.cc:112] Plugin optimizer for device_type GPU is enabled.\n"
     ]
    },
    {
     "name": "stdout",
     "output_type": "stream",
     "text": [
      "267/267 [==============================] - 8s 23ms/step - loss: 0.6086 - accuracy: 0.0045 - binary_accuracy: 0.6787\n",
      "254/267 [===========================>..] - ETA: 0s - loss: 0.5997 - accuracy: 0.0087 - binary_accuracy: 0.687870"
     ]
    },
    {
     "name": "stderr",
     "output_type": "stream",
     "text": [
      "2021-12-15 01:38:10.144577: I tensorflow/core/grappler/optimizers/custom_graph_optimizer_registry.cc:112] Plugin optimizer for device_type GPU is enabled.\n"
     ]
    },
    {
     "name": "stdout",
     "output_type": "stream",
     "text": [
      "267/267 [==============================] - 9s 29ms/step - loss: 0.5979 - accuracy: 0.0098 - binary_accuracy: 0.6892\n",
      "267/267 [==============================] - 9s 28ms/step - loss: 0.6051 - accuracy: 0.0045 - binary_accuracy: 0.6844\n",
      "134/134 [==============================] - 4s 21ms/step - loss: 0.5862 - accuracy: 0.0045 - binary_accuracy: 0.7005\n",
      " 59/134 [============>.................] - ETA: 1s - loss: 0.5757 - accuracy: 0.0034 - binary_accuracy: 0.7213  "
     ]
    },
    {
     "name": "stderr",
     "output_type": "stream",
     "text": [
      "2021-12-15 01:38:11.614186: I tensorflow/core/grappler/optimizers/custom_graph_optimizer_registry.cc:112] Plugin optimizer for device_type GPU is enabled.\n",
      "2021-12-15 01:38:11.674267: I tensorflow/core/grappler/optimizers/custom_graph_optimizer_registry.cc:112] Plugin optimizer for device_type GPU is enabled.\n"
     ]
    },
    {
     "name": "stdout",
     "output_type": "stream",
     "text": [
      "267/267 [==============================] - 10s 30ms/step - loss: 0.6079 - accuracy: 0.0067 - binary_accuracy: 0.6796\n",
      "134/134 [==============================] - 4s 19ms/step - loss: 0.5754 - accuracy: 0.0015 - binary_accuracy: 0.7187\n",
      "181/267 [===================>..........] - ETA: 3s - loss: 0.6070 - accuracy: 0.0011 - binary_accuracy: 0.6879"
     ]
    },
    {
     "name": "stderr",
     "output_type": "stream",
     "text": [
      "2021-12-15 01:38:13.432182: I tensorflow/core/grappler/optimizers/custom_graph_optimizer_registry.cc:112] Plugin optimizer for device_type GPU is enabled.\n"
     ]
    },
    {
     "name": "stdout",
     "output_type": "stream",
     "text": [
      "134/134 [==============================] - 3s 19ms/step - loss: 0.5841 - accuracy: 0.0150 - binary_accuracy: 0.7020\n",
      "134/134 [==============================] - 3s 17ms/step - loss: 0.5928 - accuracy: 0.0075 - binary_accuracy: 0.6991\n",
      "232/267 [=========================>....] - ETA: 1s - loss: 0.6024 - accuracy: 0.0026 - binary_accuracy: 0.6916"
     ]
    },
    {
     "name": "stderr",
     "output_type": "stream",
     "text": [
      "2021-12-15 01:38:15.137026: I tensorflow/core/grappler/optimizers/custom_graph_optimizer_registry.cc:112] Plugin optimizer for device_type GPU is enabled.\n",
      "2021-12-15 01:38:15.233742: I tensorflow/core/grappler/optimizers/custom_graph_optimizer_registry.cc:112] Plugin optimizer for device_type GPU is enabled.\n"
     ]
    },
    {
     "name": "stdout",
     "output_type": "stream",
     "text": [
      "134/134 [==============================] - 3s 16ms/step - loss: 0.5736 - accuracy: 0.0030 - binary_accuracy: 0.7183\n",
      "267/267 [==============================] - 12s 36ms/step - loss: 0.6010 - accuracy: 0.0068 - binary_accuracy: 0.6878\n",
      " 37/267 [===>..........................] - ETA: 5s - loss: 0.6591 - accuracy: 0.0000e+00 - binary_accuracy: 0.6150"
     ]
    },
    {
     "name": "stderr",
     "output_type": "stream",
     "text": [
      "2021-12-15 01:38:16.204519: I tensorflow/core/grappler/optimizers/custom_graph_optimizer_registry.cc:112] Plugin optimizer for device_type GPU is enabled.\n",
      "2021-12-15 01:38:16.314926: I tensorflow/core/grappler/optimizers/custom_graph_optimizer_registry.cc:112] Plugin optimizer for device_type GPU is enabled.\n",
      "2021-12-15 01:38:16.362209: I tensorflow/core/grappler/optimizers/custom_graph_optimizer_registry.cc:112] Plugin optimizer for device_type GPU is enabled.\n"
     ]
    },
    {
     "name": "stdout",
     "output_type": "stream",
     "text": [
      "267/267 [==============================] - 13s 36ms/step - loss: 0.6015 - accuracy: 0.0023 - binary_accuracy: 0.6917\n",
      " 95/267 [=========>....................] - ETA: 3s - loss: 0.6260 - accuracy: 0.0063 - binary_accuracy: 0.666366"
     ]
    },
    {
     "name": "stderr",
     "output_type": "stream",
     "text": [
      "2021-12-15 01:38:17.383533: I tensorflow/core/grappler/optimizers/custom_graph_optimizer_registry.cc:112] Plugin optimizer for device_type GPU is enabled.\n"
     ]
    },
    {
     "name": "stdout",
     "output_type": "stream",
     "text": [
      "267/267 [==============================] - 14s 35ms/step - loss: 0.6094 - accuracy: 0.0060 - binary_accuracy: 0.6756\n",
      "143/267 [===============>..............] - ETA: 2s - loss: 0.6142 - accuracy: 0.0070 - binary_accuracy: 0.6781"
     ]
    },
    {
     "name": "stderr",
     "output_type": "stream",
     "text": [
      "2021-12-15 01:38:18.586681: I tensorflow/core/grappler/optimizers/custom_graph_optimizer_registry.cc:112] Plugin optimizer for device_type GPU is enabled.\n",
      "2021-12-15 01:38:18.739560: I tensorflow/core/grappler/optimizers/custom_graph_optimizer_registry.cc:112] Plugin optimizer for device_type GPU is enabled.\n"
     ]
    },
    {
     "name": "stdout",
     "output_type": "stream",
     "text": [
      "134/134 [==============================] - 4s 22ms/step - loss: 0.5955 - accuracy: 0.0015 - binary_accuracy: 0.6860\n",
      "134/134 [==============================] - 4s 23ms/step - loss: 0.5872 - accuracy: 0.0060 - binary_accuracy: 0.6964\n",
      "267/267 [==============================] - 8s 23ms/step - loss: 0.6022 - accuracy: 0.0030 - binary_accuracy: 0.6911\n",
      "267/267 [==============================] - 7s 24ms/step - loss: 0.5985 - accuracy: 0.0068 - binary_accuracy: 0.6943\n",
      "222/267 [=======================>......] - ETA: 1s - loss: 0.5962 - accuracy: 0.0063 - binary_accuracy: 0.6951"
     ]
    },
    {
     "name": "stderr",
     "output_type": "stream",
     "text": [
      "2021-12-15 01:38:21.756097: I tensorflow/core/grappler/optimizers/custom_graph_optimizer_registry.cc:112] Plugin optimizer for device_type GPU is enabled.\n"
     ]
    },
    {
     "name": "stdout",
     "output_type": "stream",
     "text": [
      "134/134 [==============================] - 4s 25ms/step - loss: 0.5854 - accuracy: 0.0030 - binary_accuracy: 0.7110\n"
     ]
    },
    {
     "name": "stderr",
     "output_type": "stream",
     "text": [
      "2021-12-15 01:38:22.284403: I tensorflow/core/grappler/optimizers/custom_graph_optimizer_registry.cc:112] Plugin optimizer for device_type GPU is enabled.\n"
     ]
    },
    {
     "name": "stdout",
     "output_type": "stream",
     "text": [
      "267/267 [==============================] - 7s 22ms/step - loss: 0.6058 - accuracy: 0.0060 - binary_accuracy: 0.6826\n",
      "267/267 [==============================] - 8s 23ms/step - loss: 0.5931 - accuracy: 0.0053 - binary_accuracy: 0.6971\n",
      " 58/134 [===========>..................] - ETA: 1s - loss: 0.5782 - accuracy: 0.0103 - binary_accuracy: 0.7109"
     ]
    },
    {
     "name": "stderr",
     "output_type": "stream",
     "text": [
      "2021-12-15 01:38:22.682542: I tensorflow/core/grappler/optimizers/custom_graph_optimizer_registry.cc:112] Plugin optimizer for device_type GPU is enabled.\n",
      "2021-12-15 01:38:22.701408: I tensorflow/core/grappler/optimizers/custom_graph_optimizer_registry.cc:112] Plugin optimizer for device_type GPU is enabled.\n"
     ]
    },
    {
     "name": "stdout",
     "output_type": "stream",
     "text": [
      "183/267 [===================>..........] - ETA: 1s - loss: 0.5977 - accuracy: 0.0109 - binary_accuracy: 0.6944  "
     ]
    },
    {
     "name": "stderr",
     "output_type": "stream",
     "text": [
      "2021-12-15 01:38:23.290447: I tensorflow/core/grappler/optimizers/custom_graph_optimizer_registry.cc:112] Plugin optimizer for device_type GPU is enabled.\n"
     ]
    },
    {
     "name": "stdout",
     "output_type": "stream",
     "text": [
      "\b\b\b\b\b\b\b\b\b\b\b\b\b\b\b\b\b\b\b\b\b\b\b\b\b\b\b\b\b\b\b\b\b\b\b\b\b\b\b\b\b\b\b\b\b\b\b\b\b\b\b\b\b\b\b\b\b\b\b\b\b\b\b\b\b\b\b\b\b\b\b\b\b\b\b\b\b\b\b\b\b\b\b\b\b\b\b\b\b\b\b\b\b\b\b\b\b\b\b\b\b\b\b\b\b\b\b\b\b\b\r",
      "107/134 [======================>.......] - ETA: 0s - loss: 0.5778 - accuracy: 0.0075 - binary_accuracy: 0.7058\b\b\b\b\b\b\b\b\b\b\b\b\b\b\b\b\b\b\b\b\b\b\b\b\b\b\b\b\b\b\b\b\b\b\b\b\b\b\b\b\b\b\b\b\b\b\b\b\b\b\b\b\b\b\b\b\b\b\b\b\b\b\b\b\b\b\b\b\b\b\b\b\b\b\b\b\b\b\b\b\b\b\b\b\b\b\b\b\b\b\b\b\b\b\b\b\b\b\b\b\b\b\b\b\b\b\b\b\b\b\r",
      " 29/267 [==>...........................] - ETA: 4s - loss: 0.6583 - accuracy: 0.0069 - binary_accuracy: 0.6136\b\b\b\b\b\b\b\b\b\b\b\b\b\b\b\b\b\b\b\b\b\b\b\b\b\b\b\b\b\b\b\b\b\b\b\b\b\b\b\b\b\b\b\b\b\b\b\b\b\b\b\b\b\b\b\b\b\b\b\b\b\b\b\b\b\b\b\b\b\b\b\b\b\b\b\b\b\b\b\b\b\b\b\b\b\b\b\b\b\b\b\b\b\b\b\b\b\b\b\b\b\b\b\b\b\b\b\b\b\b\r",
      " 71/134 [==============>...............] - ETA: 1s - loss: 0.5813 - accuracy: 0.0028 - binary_accuracy: 0.7066\b\b\b\b\b\b\b\b\b\b\b\b\b\b\b\b\b\b\b\b\b\b\b\b\b\b\b\b\b\b\b\b\b\b\b\b\b\b\b\b\b\b\b\b\b\b\b\b\b\b\b\b\b\b\b\b\b\b\b\b\b\b\b\b\b\b\b\b\b\b\b\b\b\b\b\b\b\b\b\b\b\b\b\b\b\b\b\b\b\b\b\b\b\b\b\b\b\b\b\b\b\b\b\b\b\b\b\b\b\b\r",
      " 51/134 [==========>...................] - ETA: 1s - loss: 0.5790 - accuracy: 0.0039 - binary_accuracy: 0.7129\b\b\b\b\b\b\b\b\b\b\b\b\b\b\b\b\b\b\b\b\b\b\b\b\b\b\b\b\b\b\b\b\b\b\b\b\b\b\b\b\b\b\b\b\b\b\b\b\b\b\b\b\b\b\b\b\b\b\b\b\b\b\b\b\b\b\b\b\b\b\b\b\b\b\b\b\b\b\b\b\b\b\b\b\b\b\b\b\b\b\b\b\b\b\b\b\b\b\b\b\b\b\b\b\b\b\b\b\b\b\r",
      "186/267 [===================>..........] - ETA: 1s - loss: 0.5972 - accuracy: 0.0108 - binary_accuracy: 0.6952\b\b\b\b\b\b\b\b\b\b\b\b\b\b\b\b\b\b\b\b\b\b\b\b\b\b\b\b\b\b\b\b\b\b\b\b\b\b\b\b\b\b\b\b\b\b\b\b\b\b\b\b\b\b\b\b\b\b\b\b\b\b\b\b\b\b\b\b\b\b\b\b\b\b\b\b\b\b\b\b\b\b\b\b\b\b\b\b\b\b\b\b\b\b\b\b\b\b\b\b\b\b\b\b\b\b\b\b\b\b\r",
      "111/134 [=======================>......] - ETA: 0s - loss: 0.5776 - accuracy: 0.0072 - binary_accuracy: 0.7061\b\b\b\b\b\b\b\b\b\b\b\b\b\b\b\b\b\b\b\b\b\b\b\b\b\b\b\b\b\b\b\b\b\b\b\b\b\b\b\b\b\b\b\b\b\b\b\b\b\b\b\b\b\b\b\b\b\b\b\b\b\b\b\b\b\b\b\b\b\b\b\b\b\b\b\b\b\b\b\b\b\b\b\b\b\b\b\b\b\b\b\b\b\b\b\b\b\b\b\b\b\b\b\b\b\b\b\b\b\b\r",
      " 75/134 [===============>..............] - ETA: 0s - loss: 0.5819 - accuracy: 0.0027 - binary_accuracy: 0.7063\b\b\b\b\b\b\b\b\b\b\b\b\b\b\b\b\b\b\b\b\b\b\b\b\b\b\b\b\b\b\b\b\b\b\b\b\b\b\b\b\b\b\b\b\b\b\b\b\b\b\b\b\b\b\b\b\b\b\b\b\b\b\b\b\b\b\b\b\b\b\b\b\b\b\b\b\b\b\b\b\b\b\b\b\b\b\b\b\b\b\b\b\b\b\b\b\b\b\b\b\b\b\b\b\b\b\b\b\b\b\r",
      " 32/267 [==>...........................] - ETA: 4s - loss: 0.6545 - accuracy: 0.0063 - binary_accuracy: 0.6187\b\b\b\b\b\b\b\b\b\b\b\b\b\b\b\b\b\b\b\b\b\b\b\b\b\b\b\b\b\b\b\b\b\b\b\b\b\b\b\b\b\b\b\b\b\b\b\b\b\b\b\b\b\b\b\b\b\b\b\b\b\b\b\b\b\b\b\b\b\b\b\b\b\b\b\b\b\b\b\b\b\b\b\b\b\b\b\b\b\b\b\b\b\b\b\b\b\b\b\b\b\b\b\b\b\b\b\b\b\b\r",
      " 55/134 [===========>..................] - ETA: 1s - loss: 0.5786 - accuracy: 0.0036 - binary_accuracy: 0.7154\r",
      "  1/134 [..............................] - ETA: 1:41 - loss: 0.5252 - accuracy: 0.0000e+00 - binary_accuracy: 0.7625\b\b\b\b\b\b\b\b\b\b\b\b\b\b\b\b\b\b\b\b\b\b\b\b\b\b\b\b\b\b\b\b\b\b\b\b\b\b\b\b\b\b\b\b\b\b\b\b\b\b\b\b\b\b\b\b\b\b\b\b\b\b\b\b\b\b\b\b\b\b\b\b\b\b\b\b\b\b\b\b\b\b\b\b\b\b\b\b\b\b\b\b\b\b\b\b\b\b\b\b\b\b\b\b\b\b\b\b\b\b\r",
      "115/134 [========================>.....] - ETA: 0s - loss: 0.5774 - accuracy: 0.0070 - binary_accuracy: 0.7063\b\b\b\b\b\b\b\b\b\b\b\b\b\b\b\b\b\b\b\b\b\b\b\b\b\b\b\b\b\b\b\b\b\b\b\b\b\b\b\b\b\b\b\b\b\b\b\b\b\b\b\b\b\b\b\b\b\b\b\b\b\b\b\b\b\b\b\b\b\b\b\b\b\b\b\b\b\b\b\b\b\b\b\b\b\b\b\b\b\b\b\b\b\b\b\b\b\b\b\b\b\b\b\b\b\b\b\b\b\b\r",
      " 79/134 [================>.............] - ETA: 0s - loss: 0.5829 - accuracy: 0.0025 - binary_accuracy: 0.7053\b\b\b\b\b\b\b\b\b\b\b\b\b\b\b\b\b\b\b\b\b\b\b\b\b\b\b\b\b\b\b\b\b\b\b\b\b\b\b\b\b\b\b\b\b\b\b\b\b\b\b\b\b\b\b\b\b\b\b\b\b\b\b\b\b\b\b\b\b\b\b\b\b\b\b\b\b\b\b\b\b\b\b\b\b\b\b\b\b\b\b\b\b\b\b\b\b\b\b\b\b\b\b\b\b\b\b\b\b\b\r",
      "189/267 [====================>.........] - ETA: 1s - loss: 0.5963 - accuracy: 0.0116 - binary_accuracy: 0.6959\b\b\b\b\b\b\b\b\b\b\b\b\b\b\b\b\b\b\b\b\b\b\b\b\b\b\b\b\b\b\b\b\b\b\b\b\b\b\b\b\b\b\b\b\b\b\b\b\b\b\b\b\b\b\b\b\b\b\b\b\b\b\b\b\b\b\b\b\b\b\b\b\b\b\b\b\b\b\b\b\b\b\b\b\b\b\b\b\b\b\b\b\b\b\b\b\b\b\b\b\b\b\b\b\b\b\b\b\b\b\r",
      " 35/267 [==>...........................] - ETA: 4s - loss: 0.6516 - accuracy: 0.0057 - binary_accuracy: 0.6218\b\b\b\b\b\b\b\b\b\b\b\b\b\b\b\b\b\b\b\b\b\b\b\b\b\b\b\b\b\b\b\b\b\b\b\b\b\b\b\b\b\b\b\b\b\b\b\b\b\b\b\b\b\b\b\b\b\b\b\b\b\b\b\b\b\b\b\b\b\b\b\b\b\b\b\b\b\b\b\b\b\b\b\b\b\b\b\b\b\b\b\b\b\b\b\b\b\b\b\b\b\b\b\b\b\b\b\b\b\b\r",
      " 59/134 [============>.................] - ETA: 1s - loss: 0.5765 - accuracy: 0.0034 - binary_accuracy: 0.7194\b\b\b\b\b\b\b\b\b\b\b\b\b\b\b\b\b\b\b\b\b\b\b\b\b\b\b\b\b\b\b\b\b\b\b\b\b\b\b\b\b\b\b\b\b\b\b\b\b\b\b\b\b\b\b\b\b\b\b\b\b\b\b\b\b\b\b\b\b\b\b\b\b\b\b\b\b\b\b\b\b\b\b\b\b\b\b\b\b\b\b\b\b\b\b\b\b\b\b\b\b\b\b\b\b\b\b\b\b\b\r",
      "119/134 [=========================>....] - ETA: 0s - loss: 0.5774 - accuracy: 0.0067 - binary_accuracy: 0.7065\b\b\b\b\b\b\b\b\b\b\b\b\b\b\b\b\b\b\b\b\b\b\b\b\b\b\b\b\b\b\b\b\b\b\b\b\b\b\b\b\b\b\b\b\b\b\b\b\b\b\b\b\b\b\b\b\b\b\b\b\b\b\b\b\b\b\b\b\b\b\b\b\b\b\b\b\b\b\b\b\b\b\b\b\b\b\b\b\b\b\b\b\b\b\b\b\b\b\b\b\b\b\b\b\b\b\b\b\b\b\r",
      " 83/134 [=================>............] - ETA: 0s - loss: 0.5831 - accuracy: 0.0024 - binary_accuracy: 0.7052\b\b\b\b\b\b\b\b\b\b\b\b\b\b\b\b\b\b\b\b\b\b\b\b\b\b\b\b\b\b\b\b\b\b\b\b\b\b\b\b\b\b\b\b\b\b\b\b\b\b\b\b\b\b\b\b\b\b\b\b\b\b\b\b\b\b\b\b\b\b\b\b\b\b\b\b\b\b\b\b\b\b\b\b\b\b\b\b\b\b\b\b\b\b\b\b\b\b\b\b\b\b\b\b\b\b\b\b\b\b\r",
      "191/267 [====================>.........] - ETA: 1s - loss: 0.5963 - accuracy: 0.0115 - binary_accuracy: 0.6956\b\b\b\b\b\b\b\b\b\b\b\b\b\b\b\b\b\b\b\b\b\b\b\b\b\b\b\b\b\b\b\b\b\b\b\b\b\b\b\b\b\b\b\b\b\b\b\b\b\b\b\b\b\b\b\b\b\b\b\b\b\b\b\b\b\b\b\b\b\b\b\b\b\b\b\b\b\b\b\b\b\b\b\b\b\b\b\b\b\b\b\b\b\b\b\b\b\b\b\b\b\b\b\b\b\b\b\b\b\b\r",
      " 38/267 [===>..........................] - ETA: 4s - loss: 0.6493 - accuracy: 0.0105 - binary_accuracy: 0.6260"
     ]
    },
    {
     "name": "stderr",
     "output_type": "stream",
     "text": [
      "2021-12-15 01:38:23.680003: I tensorflow/core/grappler/optimizers/custom_graph_optimizer_registry.cc:112] Plugin optimizer for device_type GPU is enabled.\n"
     ]
    },
    {
     "name": "stdout",
     "output_type": "stream",
     "text": [
      "134/134 [==============================] - 2s 15ms/step - loss: 0.5797 - accuracy: 0.0060 - binary_accuracy: 0.7045\n",
      "134/134 [==============================] - 3s 17ms/step - loss: 0.5861 - accuracy: 0.0030 - binary_accuracy: 0.7030\n",
      " 69/134 [==============>...............] - ETA: 1s - loss: 0.5758 - accuracy: 0.0000e+00 - binary_accuracy: 0.7097"
     ]
    },
    {
     "name": "stderr",
     "output_type": "stream",
     "text": [
      "2021-12-15 01:38:24.943496: I tensorflow/core/grappler/optimizers/custom_graph_optimizer_registry.cc:112] Plugin optimizer for device_type GPU is enabled.\n"
     ]
    },
    {
     "name": "stdout",
     "output_type": "stream",
     "text": [
      "134/134 [==============================] - 3s 17ms/step - loss: 0.5745 - accuracy: 0.0030 - binary_accuracy: 0.7175\n",
      "267/267 [==============================] - 9s 23ms/step - loss: 0.5896 - accuracy: 0.0098 - binary_accuracy: 0.7010\n",
      " 64/267 [======>.......................] - ETA: 5s - loss: 0.6209 - accuracy: 0.0094 - binary_accuracy: 0.6720701"
     ]
    },
    {
     "name": "stderr",
     "output_type": "stream",
     "text": [
      "2021-12-15 01:38:25.743963: I tensorflow/core/grappler/optimizers/custom_graph_optimizer_registry.cc:112] Plugin optimizer for device_type GPU is enabled.\n",
      "2021-12-15 01:38:25.924628: I tensorflow/core/grappler/optimizers/custom_graph_optimizer_registry.cc:112] Plugin optimizer for device_type GPU is enabled.\n"
     ]
    },
    {
     "name": "stdout",
     "output_type": "stream",
     "text": [
      "134/134 [==============================] - 3s 19ms/step - loss: 0.5782 - accuracy: 0.0000e+00 - binary_accuracy: 0.7046\n",
      " 65/267 [======>.......................] - ETA: 5s - loss: 0.6253 - accuracy: 0.0000e+00 - binary_accuracy: 0.6677"
     ]
    },
    {
     "name": "stderr",
     "output_type": "stream",
     "text": [
      "2021-12-15 01:38:27.304639: I tensorflow/core/grappler/optimizers/custom_graph_optimizer_registry.cc:112] Plugin optimizer for device_type GPU is enabled.\n"
     ]
    },
    {
     "name": "stdout",
     "output_type": "stream",
     "text": [
      "134/134 [==============================] - 2s 14ms/step - loss: 0.5778 - accuracy: 0.0105 - binary_accuracy: 0.7026\n",
      "101/267 [==========>...................] - ETA: 4s - loss: 0.6137 - accuracy: 0.0040 - binary_accuracy: 0.6796"
     ]
    },
    {
     "name": "stderr",
     "output_type": "stream",
     "text": [
      "2021-12-15 01:38:28.159609: I tensorflow/core/grappler/optimizers/custom_graph_optimizer_registry.cc:112] Plugin optimizer for device_type GPU is enabled.\n"
     ]
    },
    {
     "name": "stdout",
     "output_type": "stream",
     "text": [
      "267/267 [==============================] - 8s 23ms/step - loss: 0.5983 - accuracy: 0.0045 - binary_accuracy: 0.6887\n",
      "214/267 [=======================>......] - ETA: 1s - loss: 0.5964 - accuracy: 0.0047 - binary_accuracy: 0.6968"
     ]
    },
    {
     "name": "stderr",
     "output_type": "stream",
     "text": [
      "2021-12-15 01:38:29.546007: I tensorflow/core/grappler/optimizers/custom_graph_optimizer_registry.cc:112] Plugin optimizer for device_type GPU is enabled.\n",
      "2021-12-15 01:38:29.571715: I tensorflow/core/grappler/optimizers/custom_graph_optimizer_registry.cc:112] Plugin optimizer for device_type GPU is enabled.\n"
     ]
    },
    {
     "name": "stdout",
     "output_type": "stream",
     "text": [
      " 61/267 [=====>........................] - ETA: 7s - loss: 0.6247 - accuracy: 0.0328 - binary_accuracy: 0.6711"
     ]
    },
    {
     "name": "stderr",
     "output_type": "stream",
     "text": [
      "2021-12-15 01:38:30.906086: I tensorflow/core/grappler/optimizers/custom_graph_optimizer_registry.cc:112] Plugin optimizer for device_type GPU is enabled.\n"
     ]
    },
    {
     "name": "stdout",
     "output_type": "stream",
     "text": [
      "267/267 [==============================] - 9s 27ms/step - loss: 0.5924 - accuracy: 0.0045 - binary_accuracy: 0.6985\n",
      "225/267 [========================>.....] - ETA: 1s - loss: 0.6052 - accuracy: 0.0089 - binary_accuracy: 0.6813 "
     ]
    },
    {
     "name": "stderr",
     "output_type": "stream",
     "text": [
      "2021-12-15 01:38:32.276739: I tensorflow/core/grappler/optimizers/custom_graph_optimizer_registry.cc:112] Plugin optimizer for device_type GPU is enabled.\n"
     ]
    },
    {
     "name": "stdout",
     "output_type": "stream",
     "text": [
      "134/134 [==============================] - 3s 22ms/step - loss: 0.5624 - accuracy: 0.0090 - binary_accuracy: 0.7250\n",
      "267/267 [==============================] - 9s 28ms/step - loss: 0.5917 - accuracy: 0.0053 - binary_accuracy: 0.6986\n",
      "124/267 [============>.................] - ETA: 5s - loss: 0.6105 - accuracy: 0.0161 - binary_accuracy: 0.6862"
     ]
    },
    {
     "name": "stderr",
     "output_type": "stream",
     "text": [
      "2021-12-15 01:38:33.291280: I tensorflow/core/grappler/optimizers/custom_graph_optimizer_registry.cc:112] Plugin optimizer for device_type GPU is enabled.\n"
     ]
    },
    {
     "name": "stdout",
     "output_type": "stream",
     "text": [
      "267/267 [==============================] - 9s 27ms/step - loss: 0.6027 - accuracy: 0.0075 - binary_accuracy: 0.6839\n",
      "107/267 [===========>..................] - ETA: 3s - loss: 0.6131 - accuracy: 0.0112 - binary_accuracy: 0.6843"
     ]
    },
    {
     "name": "stderr",
     "output_type": "stream",
     "text": [
      "2021-12-15 01:38:34.016830: I tensorflow/core/grappler/optimizers/custom_graph_optimizer_registry.cc:112] Plugin optimizer for device_type GPU is enabled.\n"
     ]
    },
    {
     "name": "stdout",
     "output_type": "stream",
     "text": [
      "134/134 [==============================] - 4s 20ms/step - loss: 0.5819 - accuracy: 0.0090 - binary_accuracy: 0.7030\n",
      " 88/134 [==================>...........] - ETA: 0s - loss: 0.5758 - accuracy: 0.0114 - binary_accuracy: 0.7047  "
     ]
    },
    {
     "name": "stderr",
     "output_type": "stream",
     "text": [
      "2021-12-15 01:38:35.269891: I tensorflow/core/grappler/optimizers/custom_graph_optimizer_registry.cc:112] Plugin optimizer for device_type GPU is enabled.\n"
     ]
    },
    {
     "name": "stdout",
     "output_type": "stream",
     "text": [
      "134/134 [==============================] - 3s 21ms/step - loss: 0.5802 - accuracy: 0.0090 - binary_accuracy: 0.7022\n",
      "134/134 [==============================] - 3s 23ms/step - loss: 0.5666 - accuracy: 0.0060 - binary_accuracy: 0.7191\n",
      "161/267 [=================>............] - ETA: 4s - loss: 0.6117 - accuracy: 0.0037 - binary_accuracy: 0.6781"
     ]
    },
    {
     "name": "stderr",
     "output_type": "stream",
     "text": [
      "2021-12-15 01:38:37.284835: I tensorflow/core/grappler/optimizers/custom_graph_optimizer_registry.cc:112] Plugin optimizer for device_type GPU is enabled.\n"
     ]
    },
    {
     "name": "stdout",
     "output_type": "stream",
     "text": [
      "267/267 [==============================] - 9s 24ms/step - loss: 0.5927 - accuracy: 0.0090 - binary_accuracy: 0.7009\n",
      " 23/267 [=>............................] - ETA: 6s - loss: 0.6597 - accuracy: 0.0174 - binary_accuracy: 0.6149"
     ]
    },
    {
     "name": "stderr",
     "output_type": "stream",
     "text": [
      "2021-12-15 01:38:38.230754: I tensorflow/core/grappler/optimizers/custom_graph_optimizer_registry.cc:112] Plugin optimizer for device_type GPU is enabled.\n"
     ]
    },
    {
     "name": "stdout",
     "output_type": "stream",
     "text": [
      "267/267 [==============================] - 13s 38ms/step - loss: 0.5947 - accuracy: 0.0098 - binary_accuracy: 0.6949\n",
      " 24/134 [====>.........................] - ETA: 2s - loss: 0.5661 - accuracy: 0.0000e+00 - binary_accuracy: 0.7193"
     ]
    },
    {
     "name": "stderr",
     "output_type": "stream",
     "text": [
      "2021-12-15 01:38:38.830296: I tensorflow/core/grappler/optimizers/custom_graph_optimizer_registry.cc:112] Plugin optimizer for device_type GPU is enabled.\n"
     ]
    },
    {
     "name": "stdout",
     "output_type": "stream",
     "text": [
      " 65/134 [=============>................] - ETA: 0s - loss: 0.5651 - accuracy: 0.0062 - binary_accuracy: 0.7166  "
     ]
    },
    {
     "name": "stderr",
     "output_type": "stream",
     "text": [
      "2021-12-15 01:38:39.190025: I tensorflow/core/grappler/optimizers/custom_graph_optimizer_registry.cc:112] Plugin optimizer for device_type GPU is enabled.\n"
     ]
    },
    {
     "name": "stdout",
     "output_type": "stream",
     "text": [
      "267/267 [==============================] - 14s 39ms/step - loss: 0.5994 - accuracy: 0.0083 - binary_accuracy: 0.6938\n",
      "178/267 [===================>..........] - ETA: 2s - loss: 0.5985 - accuracy: 0.0067 - binary_accuracy: 0.6931  "
     ]
    },
    {
     "name": "stderr",
     "output_type": "stream",
     "text": [
      "2021-12-15 01:38:40.032026: I tensorflow/core/grappler/optimizers/custom_graph_optimizer_registry.cc:112] Plugin optimizer for device_type GPU is enabled.\n"
     ]
    },
    {
     "name": "stdout",
     "output_type": "stream",
     "text": [
      "\b\b\b\b\b\b\b\b\b\b\b\b\b\b\b\b\b\b\b\b\b\b\b\b\b\b\b\b\b\b\b\b\b\b\b\b\b\b\b\b\b\b\b\b\b\b\b\b\b\b\b\b\b\b\b\b\b\b\b\b\b\b\b\b\b\b\b\b\b\b\b\b\b\b\b\b\b\b\b\b\b\b\b\b\b\b\b\b\b\b\b\b\b\b\b\b\b\b\b\b\b\b\b\b\b\b\b\b\b\b\r",
      " 25/267 [=>............................] - ETA: 6s - loss: 0.6444 - accuracy: 0.0080 - binary_accuracy: 0.6455\b\b\b\b\b\b\b\b\b\b\b\b\b\b\b\b\b\b\b\b\b\b\b\b\b\b\b\b\b\b\b\b\b\b\b\b\b\b\b\b\b\b\b\b\b\b\b\b\b\b\b\b\b\b\b\b\b\b\b\b\b\b\b\b\b\b\b\b\b\b\b\b\b\b\b\b\b\b\b\b\b\b\b\b\b\b\b\b\b\b\b\b\b\b\b\b\b\b\b\b\b\b\b\b\b\b\b\b\b\b\r",
      "112/267 [===========>..................] - ETA: 3s - loss: 0.6156 - accuracy: 0.0089 - binary_accuracy: 0.6773\b\b\b\b\b\b\b\b\b\b\b\b\b\b\b\b\b\b\b\b\b\b\b\b\b\b\b\b\b\b\b\b\b\b\b\b\b\b\b\b\b\b\b\b\b\b\b\b\b\b\b\b\b\b\b\b\b\b\b\b\b\b\b\b\b\b\b\b\b\b\b\b\b\b\b\b\b\b\b\b\b\b\b\b\b\b\b\b\b\b\b\b\b\b\b\b\b\b\b\b\b\b\b\b\b\b\b\b\b\b\r",
      "246/267 [==========================>...] - ETA: 0s - loss: 0.6044 - accuracy: 0.0041 - binary_accuracy: 0.6845\b\b\b\b\b\b\b\b\b\b\b\b\b\b\b\b\b\b\b\b\b\b\b\b\b\b\b\b\b\b\b\b\b\b\b\b\b\b\b\b\b\b\b\b\b\b\b\b\b\b\b\b\b\b\b\b\b\b\b\b\b\b\b\b\b\b\b\b\b\b\b\b\b\b\b\b\b\b\b\b\b\b\b\b\b\b\b\b\b\b\b\b\b\b\b\b\b\b\b\b\b\b\b\b\b\b\b\b\b\b\r",
      "180/267 [===================>..........] - ETA: 1s - loss: 0.5980 - accuracy: 0.0067 - binary_accuracy: 0.6935\b\b\b\b\b\b\b\b\b\b\b\b\b\b\b\b\b\b\b\b\b\b\b\b\b\b\b\b\b\b\b\b\b\b\b\b\b\b\b\b\b\b\b\b\b\b\b\b\b\b\b\b\b\b\b\b\b\b\b\b\b\b\b\b\b\b\b\b\b\b\b\b\b\b\b\b\b\b\b\b\b\b\b\b\b\b\b\b\b\b\b\b\b\b\b\b\b\b\b\b\b\b\b\b\b\b\b\b\b\b\r",
      "110/134 [=======================>......] - ETA: 0s - loss: 0.5651 - accuracy: 0.0073 - binary_accuracy: 0.7135\b\b\b\b\b\b\b\b\b\b\b\b\b\b\b\b\b\b\b\b\b\b\b\b\b\b\b\b\b\b\b\b\b\b\b\b\b\b\b\b\b\b\b\b\b\b\b\b\b\b\b\b\b\b\b\b\b\b\b\b\b\b\b\b\b\b\b\b\b\b\b\b\b\b\b\b\b\b\b\b\b\b\b\b\b\b\b\b\b\b\b\b\b\b\b\b\b\b\b\b\b\b\b\b\b\b\b\b\b\b\r",
      " 29/134 [=====>........................] - ETA: 2s - loss: 0.5911 - accuracy: 0.0138 - binary_accuracy: 0.7033\b\b\b\b\b\b\b\b\b\b\b\b\b\b\b\b\b\b\b\b\b\b\b\b\b\b\b\b\b\b\b\b\b\b\b\b\b\b\b\b\b\b\b\b\b\b\b\b\b\b\b\b\b\b\b\b\b\b\b\b\b\b\b\b\b\b\b\b\b\b\b\b\b\b\b\b\b\b\b\b\b\b\b\b\b\b\b\b\b\b\b\b\b\b\b\b\b\b\b\b\b\b\b\b\b\b\b\b\b\b\r",
      " 28/267 [==>...........................] - ETA: 6s - loss: 0.6393 - accuracy: 0.0071 - binary_accuracy: 0.6503\b\b\b\b\b\b\b\b\b\b\b\b\b\b\b\b\b\b\b\b\b\b\b\b\b\b\b\b\b\b\b\b\b\b\b\b\b\b\b\b\b\b\b\b\b\b\b\b\b\b\b\b\b\b\b\b\b\b\b\b\b\b\b\b\b\b\b\b\b\b\b\b\b\b\b\b\b\b\b\b\b\b\b\b\b\b\b\b\b\b\b\b\b\b\b\b\b\b\b\b\b\b\b\b\b\b\b\b\b\b\r",
      "115/267 [===========>..................] - ETA: 3s - loss: 0.6154 - accuracy: 0.0087 - binary_accuracy: 0.6776\b\b\b\b\b\b\b\b\b\b\b\b\b\b\b\b\b\b\b\b\b\b\b\b\b\b\b\b\b\b\b\b\b\b\b\b\b\b\b\b\b\b\b\b\b\b\b\b\b\b\b\b\b\b\b\b\b\b\b\b\b\b\b\b\b\b\b\b\b\b\b\b\b\b\b\b\b\b\b\b\b\b\b\b\b\b\b\b\b\b\b\b\b\b\b\b\b\b\b\b\b\b\b\b\b\b\b\b\b\b\r",
      "114/134 [========================>.....] - ETA: 0s - loss: 0.5649 - accuracy: 0.0070 - binary_accuracy: 0.7137\b\b\b\b\b\b\b\b\b\b\b\b\b\b\b\b\b\b\b\b\b\b\b\b\b\b\b\b\b\b\b\b\b\b\b\b\b\b\b\b\b\b\b\b\b\b\b\b\b\b\b\b\b\b\b\b\b\b\b\b\b\b\b\b\b\b\b\b\b\b\b\b\b\b\b\b\b\b\b\b\b\b\b\b\b\b\b\b\b\b\b\b\b\b\b\b\b\b\b\b\b\b\b\b\b\b\b\b\b\b\r",
      "249/267 [==========================>...] - ETA: 0s - loss: 0.6042 - accuracy: 0.0040 - binary_accuracy: 0.6844\b\b\b\b\b\b\b\b\b\b\b\b\b\b\b\b\b\b\b\b\b\b\b\b\b\b\b\b\b\b\b\b\b\b\b\b\b\b\b\b\b\b\b\b\b\b\b\b\b\b\b\b\b\b\b\b\b\b\b\b\b\b\b\b\b\b\b\b\b\b\b\b\b\b\b\b\b\b\b\b\b\b\b\b\b\b\b\b\b\b\b\b\b\b\b\b\b\b\b\b\b\b\b\b\b\b\b\b\b\b\r",
      " 32/134 [======>.......................] - ETA: 2s - loss: 0.5904 - accuracy: 0.0125 - binary_accuracy: 0.7022\b\b\b\b\b\b\b\b\b\b\b\b\b\b\b\b\b\b\b\b\b\b\b\b\b\b\b\b\b\b\b\b\b\b\b\b\b\b\b\b\b\b\b\b\b\b\b\b\b\b\b\b\b\b\b\b\b\b\b\b\b\b\b\b\b\b\b\b\b\b\b\b\b\b\b\b\b\b\b\b\b\b\b\b\b\b\b\b\b\b\b\b\b\b\b\b\b\b\b\b\b\b\b\b\b\b\b\b\b\b\r",
      "183/267 [===================>..........] - ETA: 1s - loss: 0.5978 - accuracy: 0.0066 - binary_accuracy: 0.6934\b\b\b\b\b\b\b\b\b\b\b\b\b\b\b\b\b\b\b\b\b\b\b\b\b\b\b\b\b\b\b\b\b\b\b\b\b\b\b\b\b\b\b\b\b\b\b\b\b\b\b\b\b\b\b\b\b\b\b\b\b\b\b\b\b\b\b\b\b\b\b\b\b\b\b\b\b\b\b\b\b\b\b\b\b\b\b\b\b\b\b\b\b\b\b\b\b\b\b\b\b\b\b\b\b\b\b\b\b\b\r",
      " 31/267 [==>...........................] - ETA: 6s - loss: 0.6383 - accuracy: 0.0065 - binary_accuracy: 0.6534\b\b\b\b\b\b\b\b\b\b\b\b\b\b\b\b\b\b\b\b\b\b\b\b\b\b\b\b\b\b\b\b\b\b\b\b\b\b\b\b\b\b\b\b\b\b\b\b\b\b\b\b\b\b\b\b\b\b\b\b\b\b\b\b\b\b\b\b\b\b\b\b\b\b\b\b\b\b\b\b\b\b\b\b\b\b\b\b\b\b\b\b\b\b\b\b\b\b\b\b\b\b\b\b\b\b\b\b\b\b\r",
      "117/134 [=========================>....] - ETA: 0s - loss: 0.5655 - accuracy: 0.0068 - binary_accuracy: 0.7130\b\b\b\b\b\b\b\b\b\b\b\b\b\b\b\b\b\b\b\b\b\b\b\b\b\b\b\b\b\b\b\b\b\b\b\b\b\b\b\b\b\b\b\b\b\b\b\b\b\b\b\b\b\b\b\b\b\b\b\b\b\b\b\b\b\b\b\b\b\b\b\b\b\b\b\b\b\b\b\b\b\b\b\b\b\b\b\b\b\b\b\b\b\b\b\b\b\b\b\b\b\b\b\b\b\b\b\b\b\b\r",
      " 34/134 [======>.......................] - ETA: 2s - loss: 0.5878 - accuracy: 0.0118 - binary_accuracy: 0.7048\b\b\b\b\b\b\b\b\b\b\b\b\b\b\b\b\b\b\b\b\b\b\b\b\b\b\b\b\b\b\b\b\b\b\b\b\b\b\b\b\b\b\b\b\b\b\b\b\b\b\b\b\b\b\b\b\b\b\b\b\b\b\b\b\b\b\b\b\b\b\b\b\b\b\b\b\b\b\b\b\b\b\b\b\b\b\b\b\b\b\b\b\b\b\b\b\b\b\b\b\b\b\b\b\b\b\b\b\b\b\r",
      "118/267 [============>.................] - ETA: 3s - loss: 0.6147 - accuracy: 0.0085 - binary_accuracy: 0.6783\b\b\b\b\b\b\b\b\b\b\b\b\b\b\b\b\b\b\b\b\b\b\b\b\b\b\b\b\b\b\b\b\b\b\b\b\b\b\b\b\b\b\b\b\b\b\b\b\b\b\b\b\b\b\b\b\b\b\b\b\b\b\b\b\b\b\b\b\b\b\b\b\b\b\b\b\b\b\b\b\b\b\b\b\b\b\b\b\b\b\b\b\b\b\b\b\b\b\b\b\b\b\b\b\b\b\b\b\b\b\r",
      "185/267 [===================>..........] - ETA: 1s - loss: 0.5977 - accuracy: 0.0065 - binary_accuracy: 0.6933\b\b\b\b\b\b\b\b\b\b\b\b\b\b\b\b\b\b\b\b\b\b\b\b\b\b\b\b\b\b\b\b\b\b\b\b\b\b\b\b\b\b\b\b\b\b\b\b\b\b\b\b\b\b\b\b\b\b\b\b\b\b\b\b\b\b\b\b\b\b\b\b\b\b\b\b\b\b\b\b\b\b\b\b\b\b\b\b\b\b\b\b\b\b\b\b\b\b\b\b\b\b\b\b\b\b\b\b\b\b\r",
      "252/267 [===========================>..] - ETA: 0s - loss: 0.6041 - accuracy: 0.0040 - binary_accuracy: 0.6845"
     ]
    },
    {
     "name": "stderr",
     "output_type": "stream",
     "text": [
      "2021-12-15 01:38:40.291040: I tensorflow/core/grappler/optimizers/custom_graph_optimizer_registry.cc:112] Plugin optimizer for device_type GPU is enabled.\n"
     ]
    },
    {
     "name": "stdout",
     "output_type": "stream",
     "text": [
      "134/134 [==============================] - 3s 18ms/step - loss: 0.5675 - accuracy: 0.0060 - binary_accuracy: 0.7114\n",
      "267/267 [==============================] - 14s 38ms/step - loss: 0.6041 - accuracy: 0.0045 - binary_accuracy: 0.6838\n",
      "134/134 [==============================] - 4s 24ms/step - loss: 0.5850 - accuracy: 0.0105 - binary_accuracy: 0.6992\n"
     ]
    },
    {
     "name": "stderr",
     "output_type": "stream",
     "text": [
      "2021-12-15 01:38:42.583581: I tensorflow/core/grappler/optimizers/custom_graph_optimizer_registry.cc:112] Plugin optimizer for device_type GPU is enabled.\n"
     ]
    },
    {
     "name": "stdout",
     "output_type": "stream",
     "text": [
      "267/267 [==============================] - 9s 25ms/step - loss: 0.5888 - accuracy: 0.0060 - binary_accuracy: 0.7018\n",
      "  1/134 [..............................] - ETA: 1:11 - loss: 0.5920 - accuracy: 0.0000e+00 - binary_accuracy: 0.6594"
     ]
    },
    {
     "name": "stderr",
     "output_type": "stream",
     "text": [
      "2021-12-15 01:38:43.082529: I tensorflow/core/grappler/optimizers/custom_graph_optimizer_registry.cc:112] Plugin optimizer for device_type GPU is enabled.\n",
      "2021-12-15 01:38:43.266817: I tensorflow/core/grappler/optimizers/custom_graph_optimizer_registry.cc:112] Plugin optimizer for device_type GPU is enabled.\n"
     ]
    },
    {
     "name": "stdout",
     "output_type": "stream",
     "text": [
      "134/134 [==============================] - 4s 20ms/step - loss: 0.5887 - accuracy: 0.0060 - binary_accuracy: 0.6964\n",
      "267/267 [==============================] - 8s 25ms/step - loss: 0.5971 - accuracy: 0.0060 - binary_accuracy: 0.6915\n",
      " 23/267 [=>............................] - ETA: 9s - loss: 0.6403 - accuracy: 0.0000e+00 - binary_accuracy: 0.6485 "
     ]
    },
    {
     "name": "stderr",
     "output_type": "stream",
     "text": [
      "2021-12-15 01:38:44.526026: I tensorflow/core/grappler/optimizers/custom_graph_optimizer_registry.cc:112] Plugin optimizer for device_type GPU is enabled.\n"
     ]
    },
    {
     "name": "stdout",
     "output_type": "stream",
     "text": [
      "134/134 [==============================] - 3s 17ms/step - loss: 0.5743 - accuracy: 0.0030 - binary_accuracy: 0.7085\n",
      "238/267 [=========================>....] - ETA: 0s - loss: 0.5852 - accuracy: 0.0050 - binary_accuracy: 0.7039  "
     ]
    },
    {
     "name": "stderr",
     "output_type": "stream",
     "text": [
      "2021-12-15 01:38:45.646377: I tensorflow/core/grappler/optimizers/custom_graph_optimizer_registry.cc:112] Plugin optimizer for device_type GPU is enabled.\n"
     ]
    },
    {
     "name": "stdout",
     "output_type": "stream",
     "text": [
      "134/134 [==============================] - 4s 23ms/step - loss: 0.5799 - accuracy: 0.0030 - binary_accuracy: 0.7045\n",
      "257/267 [===========================>..] - ETA: 0s - loss: 0.5836 - accuracy: 0.0054 - binary_accuracy: 0.7051"
     ]
    },
    {
     "name": "stderr",
     "output_type": "stream",
     "text": [
      "2021-12-15 01:38:46.087306: I tensorflow/core/grappler/optimizers/custom_graph_optimizer_registry.cc:112] Plugin optimizer for device_type GPU is enabled.\n"
     ]
    },
    {
     "name": "stdout",
     "output_type": "stream",
     "text": [
      "267/267 [==============================] - 10s 28ms/step - loss: 0.5830 - accuracy: 0.0060 - binary_accuracy: 0.7056\n",
      "134/134 [==============================] - 3s 16ms/step - loss: 0.5606 - accuracy: 0.0105 - binary_accuracy: 0.7290\n",
      " 20/267 [=>............................] - ETA: 8s - loss: 0.6473 - accuracy: 0.0100 - binary_accuracy: 0.6511"
     ]
    },
    {
     "name": "stderr",
     "output_type": "stream",
     "text": [
      "2021-12-15 01:38:46.984672: I tensorflow/core/grappler/optimizers/custom_graph_optimizer_registry.cc:112] Plugin optimizer for device_type GPU is enabled.\n",
      "2021-12-15 01:38:47.065252: I tensorflow/core/grappler/optimizers/custom_graph_optimizer_registry.cc:112] Plugin optimizer for device_type GPU is enabled.\n"
     ]
    },
    {
     "name": "stdout",
     "output_type": "stream",
     "text": [
      "267/267 [==============================] - 10s 27ms/step - loss: 0.5818 - accuracy: 0.0053 - binary_accuracy: 0.7067\n",
      " 55/267 [=====>........................] - ETA: 7s - loss: 0.6141 - accuracy: 0.0073 - binary_accuracy: 0.677266"
     ]
    },
    {
     "name": "stderr",
     "output_type": "stream",
     "text": [
      "2021-12-15 01:38:48.544147: I tensorflow/core/grappler/optimizers/custom_graph_optimizer_registry.cc:112] Plugin optimizer for device_type GPU is enabled.\n"
     ]
    },
    {
     "name": "stdout",
     "output_type": "stream",
     "text": [
      " 85/267 [========>.....................] - ETA: 5s - loss: 0.6071 - accuracy: 0.0047 - binary_accuracy: 0.6845"
     ]
    },
    {
     "name": "stderr",
     "output_type": "stream",
     "text": [
      "2021-12-15 01:38:49.196692: I tensorflow/core/grappler/optimizers/custom_graph_optimizer_registry.cc:112] Plugin optimizer for device_type GPU is enabled.\n"
     ]
    },
    {
     "name": "stdout",
     "output_type": "stream",
     "text": [
      "134/134 [==============================] - 3s 21ms/step - loss: 0.5646 - accuracy: 0.0195 - binary_accuracy: 0.7101\n",
      "  3/267 [..............................] - ETA: 16s - loss: 0.6891 - accuracy: 0.0667 - binary_accuracy: 0.5885    "
     ]
    },
    {
     "name": "stderr",
     "output_type": "stream",
     "text": [
      "2021-12-15 01:38:50.473191: I tensorflow/core/grappler/optimizers/custom_graph_optimizer_registry.cc:112] Plugin optimizer for device_type GPU is enabled.\n"
     ]
    },
    {
     "name": "stdout",
     "output_type": "stream",
     "text": [
      "267/267 [==============================] - 10s 28ms/step - loss: 0.5885 - accuracy: 0.0060 - binary_accuracy: 0.6973\n",
      "114/134 [========================>.....] - ETA: 0s - loss: 0.5665 - accuracy: 0.0053 - binary_accuracy: 0.7106.65"
     ]
    },
    {
     "name": "stderr",
     "output_type": "stream",
     "text": [
      "2021-12-15 01:38:51.836624: I tensorflow/core/grappler/optimizers/custom_graph_optimizer_registry.cc:112] Plugin optimizer for device_type GPU is enabled.\n"
     ]
    },
    {
     "name": "stdout",
     "output_type": "stream",
     "text": [
      "134/134 [==============================] - 4s 20ms/step - loss: 0.5677 - accuracy: 0.0075 - binary_accuracy: 0.7094\n",
      "267/267 [==============================] - 11s 30ms/step - loss: 0.5844 - accuracy: 0.0045 - binary_accuracy: 0.7044\n",
      "134/134 [==============================] - 3s 16ms/step - loss: 0.5517 - accuracy: 0.0090 - binary_accuracy: 0.7268\n",
      "267/267 [==============================] - 10s 30ms/step - loss: 0.5839 - accuracy: 0.0068 - binary_accuracy: 0.7032\n",
      "117/267 [============>.................] - ETA: 5s - loss: 0.6049 - accuracy: 0.0051 - binary_accuracy: 0.6886"
     ]
    },
    {
     "name": "stderr",
     "output_type": "stream",
     "text": [
      "2021-12-15 01:38:54.524987: I tensorflow/core/grappler/optimizers/custom_graph_optimizer_registry.cc:112] Plugin optimizer for device_type GPU is enabled.\n",
      "2021-12-15 01:38:54.728065: I tensorflow/core/grappler/optimizers/custom_graph_optimizer_registry.cc:112] Plugin optimizer for device_type GPU is enabled.\n",
      "2021-12-15 01:38:54.781353: I tensorflow/core/grappler/optimizers/custom_graph_optimizer_registry.cc:112] Plugin optimizer for device_type GPU is enabled.\n",
      "2021-12-15 01:38:54.890519: I tensorflow/core/grappler/optimizers/custom_graph_optimizer_registry.cc:112] Plugin optimizer for device_type GPU is enabled.\n"
     ]
    },
    {
     "name": "stdout",
     "output_type": "stream",
     "text": [
      "267/267 [==============================] - 9s 31ms/step - loss: 0.5929 - accuracy: 0.0045 - binary_accuracy: 0.6933\n",
      "155/267 [================>.............] - ETA: 4s - loss: 0.6035 - accuracy: 0.0052 - binary_accuracy: 0.693167"
     ]
    },
    {
     "name": "stderr",
     "output_type": "stream",
     "text": [
      "2021-12-15 01:38:56.701583: I tensorflow/core/grappler/optimizers/custom_graph_optimizer_registry.cc:112] Plugin optimizer for device_type GPU is enabled.\n"
     ]
    },
    {
     "name": "stdout",
     "output_type": "stream",
     "text": [
      "\b\b\b\b\b\b\b\b\b\b\b\b\b\b\b\b\b\b\b\b\b\b\b\b\b\b\b\b\b\b\b\b\b\b\b\b\b\b\b\b\b\b\b\b\b\b\b\b\b\b\b\b\b\b\b\b\b\b\b\b\b\b\b\b\b\b\b\b\b\b\b\b\b\b\b\b\b\b\b\b\b\b\b\b\b\b\b\b\b\b\b\b\b\b\b\b\b\b\b\b\b\b\b\b\b\b\b\b\b\b\r",
      " 99/134 [=====================>........] - ETA: 0s - loss: 0.5718 - accuracy: 0.0081 - binary_accuracy: 0.7057\b\b\b\b\b\b\b\b\b\b\b\b\b\b\b\b\b\b\b\b\b\b\b\b\b\b\b\b\b\b\b\b\b\b\b\b\b\b\b\b\b\b\b\b\b\b\b\b\b\b\b\b\b\b\b\b\b\b\b\b\b\b\b\b\b\b\b\b\b\b\b\b\b\b\b\b\b\b\b\b\b\b\b\b\b\b\b\b\b\b\b\b\b\b\b\b\b\b\b\b\b\b\b\b\b\b\b\b\b\b\r",
      "175/267 [==================>...........] - ETA: 3s - loss: 0.5963 - accuracy: 0.0034 - binary_accuracy: 0.6949\b\b\b\b\b\b\b\b\b\b\b\b\b\b\b\b\b\b\b\b\b\b\b\b\b\b\b\b\b\b\b\b\b\b\b\b\b\b\b\b\b\b\b\b\b\b\b\b\b\b\b\b\b\b\b\b\b\b\b\b\b\b\b\b\b\b\b\b\b\b\b\b\b\b\b\b\b\b\b\b\b\b\b\b\b\b\b\b\b\b\b\b\b\b\b\b\b\b\b\b\b\b\b\b\b\b\b\b\b\b\r",
      " 94/134 [====================>.........] - ETA: 0s - loss: 0.5770 - accuracy: 0.0128 - binary_accuracy: 0.7064\b\b\b\b\b\b\b\b\b\b\b\b\b\b\b\b\b\b\b\b\b\b\b\b\b\b\b\b\b\b\b\b\b\b\b\b\b\b\b\b\b\b\b\b\b\b\b\b\b\b\b\b\b\b\b\b\b\b\b\b\b\b\b\b\b\b\b\b\b\b\b\b\b\b\b\b\b\b\b\b\b\b\b\b\b\b\b\b\b\b\b\b\b\b\b\b\b\b\b\b\b\b\b\b\b\b\b\b\b\b\r",
      "103/134 [======================>.......] - ETA: 0s - loss: 0.5740 - accuracy: 0.0078 - binary_accuracy: 0.7037\b\b\b\b\b\b\b\b\b\b\b\b\b\b\b\b\b\b\b\b\b\b\b\b\b\b\b\b\b\b\b\b\b\b\b\b\b\b\b\b\b\b\b\b\b\b\b\b\b\b\b\b\b\b\b\b\b\b\b\b\b\b\b\b\b\b\b\b\b\b\b\b\b\b\b\b\b\b\b\b\b\b\b\b\b\b\b\b\b\b\b\b\b\b\b\b\b\b\b\b\b\b\b\b\b\b\b\b\b\b\b\b\b\b\r",
      " 70/267 [======>.......................] - ETA: 4s - loss: 0.6096 - accuracy: 0.0000e+00 - binary_accuracy: 0.6836\b\b\b\b\b\b\b\b\b\b\b\b\b\b\b\b\b\b\b\b\b\b\b\b\b\b\b\b\b\b\b\b\b\b\b\b\b\b\b\b\b\b\b\b\b\b\b\b\b\b\b\b\b\b\b\b\b\b\b\b\b\b\b\b\b\b\b\b\b\b\b\b\b\b\b\b\b\b\b\b\b\b\b\b\b\b\b\b\b\b\b\b\b\b\b\b\b\b\b\b\b\b\b\b\b\b\b\b\b\b\r",
      "157/267 [================>.............] - ETA: 4s - loss: 0.6032 - accuracy: 0.0051 - binary_accuracy: 0.6936\b\b\b\b\b\b\b\b\b\b\b\b\b\b\b\b\b\b\b\b\b\b\b\b\b\b\b\b\b\b\b\b\b\b\b\b\b\b\b\b\b\b\b\b\b\b\b\b\b\b\b\b\b\b\b\b\b\b\b\b\b\b\b\b\b\b\b\b\b\b\b\b\b\b\b\b\b\b\b\b\b\b\b\b\b\b\b\b\b\b\b\b\b\b\b\b\b\b\b\b\b\b\b\b\b\b\b\b\b\b\r",
      " 98/134 [====================>.........] - ETA: 0s - loss: 0.5781 - accuracy: 0.0122 - binary_accuracy: 0.7049\b\b\b\b\b\b\b\b\b\b\b\b\b\b\b\b\b\b\b\b\b\b\b\b\b\b\b\b\b\b\b\b\b\b\b\b\b\b\b\b\b\b\b\b\b\b\b\b\b\b\b\b\b\b\b\b\b\b\b\b\b\b\b\b\b\b\b\b\b\b\b\b\b\b\b\b\b\b\b\b\b\b\b\b\b\b\b\b\b\b\b\b\b\b\b\b\b\b\b\b\b\b\b\b\b\b\b\b\b\b\r",
      " 46/267 [====>.........................] - ETA: 8s - loss: 0.6280 - accuracy: 0.0043 - binary_accuracy: 0.6658\b\b\b\b\b\b\b\b\b\b\b\b\b\b\b\b\b\b\b\b\b\b\b\b\b\b\b\b\b\b\b\b\b\b\b\b\b\b\b\b\b\b\b\b\b\b\b\b\b\b\b\b\b\b\b\b\b\b\b\b\b\b\b\b\b\b\b\b\b\b\b\b\b\b\b\b\b\b\b\b\b\b\b\b\b\b\b\b\b\b\b\b\b\b\b\b\b\b\b\b\b\b\b\b\b\b\b\b\b\b\r",
      "176/267 [==================>...........] - ETA: 3s - loss: 0.5962 - accuracy: 0.0034 - binary_accuracy: 0.6951\b\b\b\b\b\b\b\b\b\b\b\b\b\b\b\b\b\b\b\b\b\b\b\b\b\b\b\b\b\b\b\b\b\b\b\b\b\b\b\b\b\b\b\b\b\b\b\b\b\b\b\b\b\b\b\b\b\b\b\b\b\b\b\b\b\b\b\b\b\b\b\b\b\b\b\b\b\b\b\b\b\b\b\b\b\b\b\b\b\b\b\b\b\b\b\b\b\b\b\b\b\b\b\b\b\b\b\b\b\b\r",
      "106/134 [======================>.......] - ETA: 0s - loss: 0.5739 - accuracy: 0.0075 - binary_accuracy: 0.7041\b\b\b\b\b\b\b\b\b\b\b\b\b\b\b\b\b\b\b\b\b\b\b\b\b\b\b\b\b\b\b\b\b\b\b\b\b\b\b\b\b\b\b\b\b\b\b\b\b\b\b\b\b\b\b\b\b\b\b\b\b\b\b\b\b\b\b\b\b\b\b\b\b\b\b\b\b\b\b\b\b\b\b\b\b\b\b\b\b\b\b\b\b\b\b\b\b\b\b\b\b\b\b\b\b\b\b\b\b\b\b\b\b\b\r",
      " 72/267 [=======>......................] - ETA: 4s - loss: 0.6100 - accuracy: 0.0000e+00 - binary_accuracy: 0.6836\b\b\b\b\b\b\b\b\b\b\b\b\b\b\b\b\b\b\b\b\b\b\b\b\b\b\b\b\b\b\b\b\b\b\b\b\b\b\b\b\b\b\b\b\b\b\b\b\b\b\b\b\b\b\b\b\b\b\b\b\b\b\b\b\b\b\b\b\b\b\b\b\b\b\b\b\b\b\b\b\b\b\b\b\b\b\b\b\b\b\b\b\b\b\b\b\b\b\b\b\b\b\b\b\b\b\b\b\b\b\r",
      "100/134 [=====================>........] - ETA: 0s - loss: 0.5777 - accuracy: 0.0120 - binary_accuracy: 0.7055\b\b\b\b\b\b\b\b\b\b\b\b\b\b\b\b\b\b\b\b\b\b\b\b\b\b\b\b\b\b\b\b\b\b\b\b\b\b\b\b\b\b\b\b\b\b\b\b\b\b\b\b\b\b\b\b\b\b\b\b\b\b\b\b\b\b\b\b\b\b\b\b\b\b\b\b\b\b\b\b\b\b\b\b\b\b\b\b\b\b\b\b\b\b\b\b\b\b\b\b\b\b\b\b\b\b\b\b\b\b\r",
      "179/267 [===================>..........] - ETA: 3s - loss: 0.5965 - accuracy: 0.0034 - binary_accuracy: 0.6947\b\b\b\b\b\b\b\b\b\b\b\b\b\b\b\b\b\b\b\b\b\b\b\b\b\b\b\b\b\b\b\b\b\b\b\b\b\b\b\b\b\b\b\b\b\b\b\b\b\b\b\b\b\b\b\b\b\b\b\b\b\b\b\b\b\b\b\b\b\b\b\b\b\b\b\b\b\b\b\b\b\b\b\b\b\b\b\b\b\b\b\b\b\b\b\b\b\b\b\b\b\b\b\b\b\b\b\b\b\b\r",
      " 49/267 [====>.........................] - ETA: 7s - loss: 0.6271 - accuracy: 0.0041 - binary_accuracy: 0.6656\b\b\b\b\b\b\b\b\b\b\b\b\b\b\b\b\b\b\b\b\b\b\b\b\b\b\b\b\b\b\b\b\b\b\b\b\b\b\b\b\b\b\b\b\b\b\b\b\b\b\b\b\b\b\b\b\b\b\b\b\b\b\b\b\b\b\b\b\b\b\b\b\b\b\b\b\b\b\b\b\b\b\b\b\b\b\b\b\b\b\b\b\b\b\b\b\b\b\b\b\b\b\b\b\b\b\b\b\b\b\r",
      "109/134 [=======================>......] - ETA: 0s - loss: 0.5733 - accuracy: 0.0073 - binary_accuracy: 0.7044\b\b\b\b\b\b\b\b\b\b\b\b\b\b\b\b\b\b\b\b\b\b\b\b\b\b\b\b\b\b\b\b\b\b\b\b\b\b\b\b\b\b\b\b\b\b\b\b\b\b\b\b\b\b\b\b\b\b\b\b\b\b\b\b\b\b\b\b\b\b\b\b\b\b\b\b\b\b\b\b\b\b\b\b\b\b\b\b\b\b\b\b\b\b\b\b\b\b\b\b\b\b\b\b\b\b\b\b\b\b\r",
      "103/134 [======================>.......] - ETA: 0s - loss: 0.5791 - accuracy: 0.0117 - binary_accuracy: 0.7041\b\b\b\b\b\b\b\b\b\b\b\b\b\b\b\b\b\b\b\b\b\b\b\b\b\b\b\b\b\b\b\b\b\b\b\b\b\b\b\b\b\b\b\b\b\b\b\b\b\b\b\b\b\b\b\b\b\b\b\b\b\b\b\b\b\b\b\b\b\b\b\b\b\b\b\b\b\b\b\b\b\b\b\b\b\b\b\b\b\b\b\b\b\b\b\b\b\b\b\b\b\b\b\b\b\b\b\b\b\b\b\b\b\b\r",
      " 75/267 [=======>......................] - ETA: 4s - loss: 0.6078 - accuracy: 0.0027 - binary_accuracy: 0.6864    "
     ]
    },
    {
     "name": "stderr",
     "output_type": "stream",
     "text": [
      "2021-12-15 01:38:56.981215: I tensorflow/core/grappler/optimizers/custom_graph_optimizer_registry.cc:112] Plugin optimizer for device_type GPU is enabled.\n"
     ]
    },
    {
     "name": "stdout",
     "output_type": "stream",
     "text": [
      "134/134 [==============================] - 3s 20ms/step - loss: 0.5752 - accuracy: 0.0060 - binary_accuracy: 0.7029\n",
      "134/134 [==============================] - 3s 22ms/step - loss: 0.5806 - accuracy: 0.0090 - binary_accuracy: 0.7021\n",
      "134/134 [==============================] - 4s 20ms/step - loss: 0.5640 - accuracy: 0.0045 - binary_accuracy: 0.7197\n",
      "102/267 [==========>...................] - ETA: 3s - loss: 0.6014 - accuracy: 0.0059 - binary_accuracy: 0.6895"
     ]
    },
    {
     "name": "stderr",
     "output_type": "stream",
     "text": [
      "2021-12-15 01:39:00.183196: I tensorflow/core/grappler/optimizers/custom_graph_optimizer_registry.cc:112] Plugin optimizer for device_type GPU is enabled.\n"
     ]
    },
    {
     "name": "stdout",
     "output_type": "stream",
     "text": [
      "267/267 [==============================] - 14s 38ms/step - loss: 0.5905 - accuracy: 0.0038 - binary_accuracy: 0.7010\n",
      "260/267 [============================>.] - ETA: 0s - loss: 0.5945 - accuracy: 0.0038 - binary_accuracy: 0.6982    "
     ]
    },
    {
     "name": "stderr",
     "output_type": "stream",
     "text": [
      "2021-12-15 01:39:00.457638: I tensorflow/core/grappler/optimizers/custom_graph_optimizer_registry.cc:112] Plugin optimizer for device_type GPU is enabled.\n"
     ]
    },
    {
     "name": "stdout",
     "output_type": "stream",
     "text": [
      "  2/267 [..............................] - ETA: 14s - loss: 0.6895 - accuracy: 0.0000e+00 - binary_accuracy: 0.5266  "
     ]
    },
    {
     "name": "stderr",
     "output_type": "stream",
     "text": [
      "2021-12-15 01:39:01.140515: I tensorflow/core/grappler/optimizers/custom_graph_optimizer_registry.cc:112] Plugin optimizer for device_type GPU is enabled.\n"
     ]
    },
    {
     "name": "stdout",
     "output_type": "stream",
     "text": [
      "267/267 [==============================] - 13s 38ms/step - loss: 0.5937 - accuracy: 0.0038 - binary_accuracy: 0.6989\n",
      " 16/267 [>.............................] - ETA: 8s - loss: 0.6268 - accuracy: 0.0125 - binary_accuracy: 0.6760    "
     ]
    },
    {
     "name": "stderr",
     "output_type": "stream",
     "text": [
      "2021-12-15 01:39:01.585166: I tensorflow/core/grappler/optimizers/custom_graph_optimizer_registry.cc:112] Plugin optimizer for device_type GPU is enabled.\n",
      "2021-12-15 01:39:01.590683: I tensorflow/core/grappler/optimizers/custom_graph_optimizer_registry.cc:112] Plugin optimizer for device_type GPU is enabled.\n"
     ]
    },
    {
     "name": "stdout",
     "output_type": "stream",
     "text": [
      "267/267 [==============================] - 9s 25ms/step - loss: 0.5806 - accuracy: 0.0068 - binary_accuracy: 0.7094\n",
      "199/267 [=====================>........] - ETA: 1s - loss: 0.5868 - accuracy: 0.0070 - binary_accuracy: 0.70210.77"
     ]
    },
    {
     "name": "stderr",
     "output_type": "stream",
     "text": [
      "2021-12-15 01:39:02.372601: I tensorflow/core/grappler/optimizers/custom_graph_optimizer_registry.cc:112] Plugin optimizer for device_type GPU is enabled.\n"
     ]
    },
    {
     "name": "stdout",
     "output_type": "stream",
     "text": [
      "267/267 [==============================] - 10s 26ms/step - loss: 0.5783 - accuracy: 0.0083 - binary_accuracy: 0.7077\n",
      "134/134 [==============================] - 5s 27ms/step - loss: 0.5849 - accuracy: 0.0105 - binary_accuracy: 0.6961\n",
      "267/267 [==============================] - 14s 38ms/step - loss: 0.6000 - accuracy: 0.0030 - binary_accuracy: 0.6887\n",
      "134/134 [==============================] - 3s 22ms/step - loss: 0.5574 - accuracy: 0.0060 - binary_accuracy: 0.7149\n"
     ]
    },
    {
     "name": "stderr",
     "output_type": "stream",
     "text": [
      "2021-12-15 01:39:05.261997: I tensorflow/core/grappler/optimizers/custom_graph_optimizer_registry.cc:112] Plugin optimizer for device_type GPU is enabled.\n"
     ]
    },
    {
     "name": "stdout",
     "output_type": "stream",
     "text": [
      "\b\b\b\b\b\b\b\b\b\b\b\b\b\b\b\b\b\b\b\b\b\b\b\b\b\b\b\b\b\b\b\b\b\b\b\b\b\b\b\b\b\b\b\b\b\b\b\b\b\b\b\b\b\b\b\b\b\b\b\b\b\b\b\b\b\b\b\b\b\b\b\b\b\b\b\b\b\b\b\b\b\b\b\b\b\b\b\b\b\b\b\b\b\b\b\b\b\b\b\b\b\b\b\b\b\b\b\b\b\b\r",
      "185/267 [===================>..........] - ETA: 2s - loss: 0.5936 - accuracy: 0.0043 - binary_accuracy: 0.6965\b\b\b\b\b\b\b\b\b\b\b\b\b\b\b\b\b\b\b\b\b\b\b\b\b\b\b\b\b\b\b\b\b\b\b\b\b\b\b\b\b\b\b\b\b\b\b\b\b\b\b\b\b\b\b\b\b\b\b\b\b\b\b\b\b\b\b\b\b\b\b\b\b\b\b\b\b\b\b\b\b\b\b\b\b\b\b\b\b\b\b\b\b\b\b\b\b\b\b\b\b\b\b\b\b\b\b\b\b\b\r",
      "126/134 [===========================>..] - ETA: 0s - loss: 0.5861 - accuracy: 0.0032 - binary_accuracy: 0.6986\b\b\b\b\b\b\b\b\b\b\b\b\b\b\b\b\b\b\b\b\b\b\b\b\b\b\b\b\b\b\b\b\b\b\b\b\b\b\b\b\b\b\b\b\b\b\b\b\b\b\b\b\b\b\b\b\b\b\b\b\b\b\b\b\b\b\b\b\b\b\b\b\b\b\b\b\b\b\b\b\b\b\b\b\b\b\b\b\b\b\b\b\b\b\b\b\b\b\b\b\b\b\b\b\b\b\b\b\b\b\r",
      "143/267 [===============>..............] - ETA: 3s - loss: 0.5825 - accuracy: 0.0084 - binary_accuracy: 0.7084\b\b\b\b\b\b\b\b\b\b\b\b\b\b\b\b\b\b\b\b\b\b\b\b\b\b\b\b\b\b\b\b\b\b\b\b\b\b\b\b\b\b\b\b\b\b\b\b\b\b\b\b\b\b\b\b\b\b\b\b\b\b\b\b\b\b\b\b\b\b\b\b\b\b\b\b\b\b\b\b\b\b\b\b\b\b\b\b\b\b\b\b\b\b\b\b\b\b\b\b\b\b\b\b\b\b\b\b\b\b\r",
      " 99/267 [==========>...................] - ETA: 4s - loss: 0.5947 - accuracy: 0.0081 - binary_accuracy: 0.6966\b\b\b\b\b\b\b\b\b\b\b\b\b\b\b\b\b\b\b\b\b\b\b\b\b\b\b\b\b\b\b\b\b\b\b\b\b\b\b\b\b\b\b\b\b\b\b\b\b\b\b\b\b\b\b\b\b\b\b\b\b\b\b\b\b\b\b\b\b\b\b\b\b\b\b\b\b\b\b\b\b\b\b\b\b\b\b\b\b\b\b\b\b\b\b\b\b\b\b\b\b\b\b\b\b\b\b\b\b\b\r",
      " 11/134 [=>............................] - ETA: 1s - loss: 0.5667 - accuracy: 0.0182 - binary_accuracy: 0.7162\b\b\b\b\b\b\b\b\b\b\b\b\b\b\b\b\b\b\b\b\b\b\b\b\b\b\b\b\b\b\b\b\b\b\b\b\b\b\b\b\b\b\b\b\b\b\b\b\b\b\b\b\b\b\b\b\b\b\b\b\b\b\b\b\b\b\b\b\b\b\b\b\b\b\b\b\b\b\b\b\b\b\b\b\b\b\b\b\b\b\b\b\b\b\b\b\b\b\b\b\b\b\b\b\b\b\b\b\b\b\r",
      "144/267 [===============>..............] - ETA: 3s - loss: 0.5821 - accuracy: 0.0097 - binary_accuracy: 0.7087\b\b\b\b\b\b\b\b\b\b\b\b\b\b\b\b\b\b\b\b\b\b\b\b\b\b\b\b\b\b\b\b\b\b\b\b\b\b\b\b\b\b\b\b\b\b\b\b\b\b\b\b\b\b\b\b\b\b\b\b\b\b\b\b\b\b\b\b\b\b\b\b\b\b\b\b\b\b\b\b\b\b\b\b\b\b\b\b\b\b\b\b\b\b\b\b\b\b\b\b\b\b\b\b\b\b\b\b\b\b\r",
      "128/134 [===========================>..] - ETA: 0s - loss: 0.5865 - accuracy: 0.0031 - binary_accuracy: 0.6978\b\b\b\b\b\b\b\b\b\b\b\b\b\b\b\b\b\b\b\b\b\b\b\b\b\b\b\b\b\b\b\b\b\b\b\b\b\b\b\b\b\b\b\b\b\b\b\b\b\b\b\b\b\b\b\b\b\b\b\b\b\b\b\b\b\b\b\b\b\b\b\b\b\b\b\b\b\b\b\b\b\b\b\b\b\b\b\b\b\b\b\b\b\b\b\b\b\b\b\b\b\b\b\b\b\b\b\b\b\b\r",
      "187/267 [====================>.........] - ETA: 2s - loss: 0.5937 - accuracy: 0.0043 - binary_accuracy: 0.6960\b\b\b\b\b\b\b\b\b\b\b\b\b\b\b\b\b\b\b\b\b\b\b\b\b\b\b\b\b\b\b\b\b\b\b\b\b\b\b\b\b\b\b\b\b\b\b\b\b\b\b\b\b\b\b\b\b\b\b\b\b\b\b\b\b\b\b\b\b\b\b\b\b\b\b\b\b\b\b\b\b\b\b\b\b\b\b\b\b\b\b\b\b\b\b\b\b\b\b\b\b\b\b\b\b\b\b\b\b\b\r",
      "101/267 [==========>...................] - ETA: 4s - loss: 0.5942 - accuracy: 0.0079 - binary_accuracy: 0.6970\b\b\b\b\b\b\b\b\b\b\b\b\b\b\b\b\b\b\b\b\b\b\b\b\b\b\b\b\b\b\b\b\b\b\b\b\b\b\b\b\b\b\b\b\b\b\b\b\b\b\b\b\b\b\b\b\b\b\b\b\b\b\b\b\b\b\b\b\b\b\b\b\b\b\b\b\b\b\b\b\b\b\b\b\b\b\b\b\b\b\b\b\b\b\b\b\b\b\b\b\b\b\b\b\b\b\b\b\b\b\r",
      " 12/134 [=>............................] - ETA: 2s - loss: 0.5690 - accuracy: 0.0167 - binary_accuracy: 0.7117\b\b\b\b\b\b\b\b\b\b\b\b\b\b\b\b\b\b\b\b\b\b\b\b\b\b\b\b\b\b\b\b\b\b\b\b\b\b\b\b\b\b\b\b\b\b\b\b\b\b\b\b\b\b\b\b\b\b\b\b\b\b\b\b\b\b\b\b\b\b\b\b\b\b\b\b\b\b\b\b\b\b\b\b\b\b\b\b\b\b\b\b\b\b\b\b\b\b\b\b\b\b\b\b\b\b\b\b\b\b\r",
      "189/267 [====================>.........] - ETA: 2s - loss: 0.5933 - accuracy: 0.0042 - binary_accuracy: 0.6962\b\b\b\b\b\b\b\b\b\b\b\b\b\b\b\b\b\b\b\b\b\b\b\b\b\b\b\b\b\b\b\b\b\b\b\b\b\b\b\b\b\b\b\b\b\b\b\b\b\b\b\b\b\b\b\b\b\b\b\b\b\b\b\b\b\b\b\b\b\b\b\b\b\b\b\b\b\b\b\b\b\b\b\b\b\b\b\b\b\b\b\b\b\b\b\b\b\b\b\b\b\b\b\b\b\b\b\b\b\b\r",
      "131/134 [============================>.] - ETA: 0s - loss: 0.5857 - accuracy: 0.0031 - binary_accuracy: 0.6986\b\b\b\b\b\b\b\b\b\b\b\b\b\b\b\b\b\b\b\b\b\b\b\b\b\b\b\b\b\b\b\b\b\b\b\b\b\b\b\b\b\b\b\b\b\b\b\b\b\b\b\b\b\b\b\b\b\b\b\b\b\b\b\b\b\b\b\b\b\b\b\b\b\b\b\b\b\b\b\b\b\b\b\b\b\b\b\b\b\b\b\b\b\b\b\b\b\b\b\b\b\b\b\b\b\b\b\b\b\b\r",
      "147/267 [===============>..............] - ETA: 3s - loss: 0.5820 - accuracy: 0.0095 - binary_accuracy: 0.7089\b\b\b\b\b\b\b\b\b\b\b\b\b\b\b\b\b\b\b\b\b\b\b\b\b\b\b\b\b\b\b\b\b\b\b\b\b\b\b\b\b\b\b\b\b\b\b\b\b\b\b\b\b\b\b\b\b\b\b\b\b\b\b\b\b\b\b\b\b\b\b\b\b\b\b\b\b\b\b\b\b\b\b\b\b\b\b\b\b\b\b\b\b\b\b\b\b\b\b\b\b\b\b\b\b\b\b\b\b\b\r",
      "104/267 [==========>...................] - ETA: 4s - loss: 0.5941 - accuracy: 0.0077 - binary_accuracy: 0.6965\b\b\b\b\b\b\b\b\b\b\b\b\b\b\b\b\b\b\b\b\b\b\b\b\b\b\b\b\b\b\b\b\b\b\b\b\b\b\b\b\b\b\b\b\b\b\b\b\b\b\b\b\b\b\b\b\b\b\b\b\b\b\b\b\b\b\b\b\b\b\b\b\b\b\b\b\b\b\b\b\b\b\b\b\b\b\b\b\b\b\b\b\b\b\b\b\b\b\b\b\b\b\b\b\b\b\b\b\b\b\r",
      " 13/134 [=>............................] - ETA: 2s - loss: 0.5698 - accuracy: 0.0154 - binary_accuracy: 0.7106"
     ]
    },
    {
     "name": "stderr",
     "output_type": "stream",
     "text": [
      "2021-12-15 01:39:05.570534: I tensorflow/core/grappler/optimizers/custom_graph_optimizer_registry.cc:112] Plugin optimizer for device_type GPU is enabled.\n"
     ]
    },
    {
     "name": "stdout",
     "output_type": "stream",
     "text": [
      "134/134 [==============================] - 5s 27ms/step - loss: 0.5857 - accuracy: 0.0030 - binary_accuracy: 0.6986\n",
      "267/267 [==============================] - 9s 26ms/step - loss: 0.5854 - accuracy: 0.0037 - binary_accuracy: 0.7005\n",
      "134/134 [==============================] - 3s 16ms/step - loss: 0.5619 - accuracy: 0.0180 - binary_accuracy: 0.7152\n",
      "183/267 [===================>..........] - ETA: 2s - loss: 0.5836 - accuracy: 0.0066 - binary_accuracy: 0.7044"
     ]
    },
    {
     "name": "stderr",
     "output_type": "stream",
     "text": [
      "2021-12-15 01:39:07.390125: I tensorflow/core/grappler/optimizers/custom_graph_optimizer_registry.cc:112] Plugin optimizer for device_type GPU is enabled.\n",
      "2021-12-15 01:39:07.491628: I tensorflow/core/grappler/optimizers/custom_graph_optimizer_registry.cc:112] Plugin optimizer for device_type GPU is enabled.\n"
     ]
    },
    {
     "name": "stdout",
     "output_type": "stream",
     "text": [
      "249/267 [==========================>...] - ETA: 0s - loss: 0.5743 - accuracy: 0.0088 - binary_accuracy: 0.71107241"
     ]
    },
    {
     "name": "stderr",
     "output_type": "stream",
     "text": [
      "2021-12-15 01:39:07.856010: I tensorflow/core/grappler/optimizers/custom_graph_optimizer_registry.cc:112] Plugin optimizer for device_type GPU is enabled.\n"
     ]
    },
    {
     "name": "stdout",
     "output_type": "stream",
     "text": [
      "\b\b\b\b\b\b\b\b\b\b\b\b\b\b\b\b\b\b\b\b\b\b\b\b\b\b\b\b\b\b\b\b\b\b\b\b\b\b\b\b\b\b\b\b\b\b\b\b\b\b\b\b\b\b\b\b\b\b\b\b\b\b\b\b\b\b\b\b\b\b\b\b\b\b\b\b\b\b\b\b\b\b\b\b\b\b\b\b\b\b\b\b\b\b\b\b\b\b\b\b\b\b\b\b\b\b\b\b\b\b\b\b\b\b\r",
      " 16/134 [==>...........................] - ETA: 2s - loss: 0.5648 - accuracy: 0.0250 - binary_accuracy: 0.7188    \b\b\b\b\b\b\b\b\b\b\b\b\b\b\b\b\b\b\b\b\b\b\b\b\b\b\b\b\b\b\b\b\b\b\b\b\b\b\b\b\b\b\b\b\b\b\b\b\b\b\b\b\b\b\b\b\b\b\b\b\b\b\b\b\b\b\b\b\b\b\b\b\b\b\b\b\b\b\b\b\b\b\b\b\b\b\b\b\b\b\b\b\b\b\b\b\b\b\b\b\b\b\b\b\b\b\b\b\b\b\r",
      "206/267 [======================>.......] - ETA: 1s - loss: 0.5821 - accuracy: 0.0058 - binary_accuracy: 0.7043\b\b\b\b\b\b\b\b\b\b\b\b\b\b\b\b\b\b\b\b\b\b\b\b\b\b\b\b\b\b\b\b\b\b\b\b\b\b\b\b\b\b\b\b\b\b\b\b\b\b\b\b\b\b\b\b\b\b\b\b\b\b\b\b\b\b\b\b\b\b\b\b\b\b\b\b\b\b\b\b\b\b\b\b\b\b\b\b\b\b\b\b\b\b\b\b\b\b\b\b\b\b\b\b\b\b\b\b\b\b\r",
      "120/134 [=========================>....] - ETA: 0s - loss: 0.5646 - accuracy: 0.0100 - binary_accuracy: 0.7198\b\b\b\b\b\b\b\b\b\b\b\b\b\b\b\b\b\b\b\b\b\b\b\b\b\b\b\b\b\b\b\b\b\b\b\b\b\b\b\b\b\b\b\b\b\b\b\b\b\b\b\b\b\b\b\b\b\b\b\b\b\b\b\b\b\b\b\b\b\b\b\b\b\b\b\b\b\b\b\b\b\b\b\b\b\b\b\b\b\b\b\b\b\b\b\b\b\b\b\b\b\b\b\b\b\b\b\b\b\b\b\b\b\b\r",
      "  8/267 [..............................] - ETA: 6s - loss: 0.6609 - accuracy: 0.0000e+00 - binary_accuracy: 0.6070\b\b\b\b\b\b\b\b\b\b\b\b\b\b\b\b\b\b\b\b\b\b\b\b\b\b\b\b\b\b\b\b\b\b\b\b\b\b\b\b\b\b\b\b\b\b\b\b\b\b\b\b\b\b\b\b\b\b\b\b\b\b\b\b\b\b\b\b\b\b\b\b\b\b\b\b\b\b\b\b\b\b\b\b\b\b\b\b\b\b\b\b\b\b\b\b\b\b\b\b\b\b\b\b\b\b\b\b\b\b\r",
      "252/267 [===========================>..] - ETA: 0s - loss: 0.5747 - accuracy: 0.0087 - binary_accuracy: 0.7104\b\b\b\b\b\b\b\b\b\b\b\b\b\b\b\b\b\b\b\b\b\b\b\b\b\b\b\b\b\b\b\b\b\b\b\b\b\b\b\b\b\b\b\b\b\b\b\b\b\b\b\b\b\b\b\b\b\b\b\b\b\b\b\b\b\b\b\b\b\b\b\b\b\b\b\b\b\b\b\b\b\b\b\b\b\b\b\b\b\b\b\b\b\b\b\b\b\b\b\b\b\b\b\b\b\b\b\b\b\b\b\b\b\b\r",
      " 12/267 [>.............................] - ETA: 5s - loss: 0.6490 - accuracy: 0.0000e+00 - binary_accuracy: 0.6281\b\b\b\b\b\b\b\b\b\b\b\b\b\b\b\b\b\b\b\b\b\b\b\b\b\b\b\b\b\b\b\b\b\b\b\b\b\b\b\b\b\b\b\b\b\b\b\b\b\b\b\b\b\b\b\b\b\b\b\b\b\b\b\b\b\b\b\b\b\b\b\b\b\b\b\b\b\b\b\b\b\b\b\b\b\b\b\b\b\b\b\b\b\b\b\b\b\b\b\b\b\b\b\b\b\b\b\b\b\b\r",
      "125/134 [==========================>...] - ETA: 0s - loss: 0.5658 - accuracy: 0.0096 - binary_accuracy: 0.7187\b\b\b\b\b\b\b\b\b\b\b\b\b\b\b\b\b\b\b\b\b\b\b\b\b\b\b\b\b\b\b\b\b\b\b\b\b\b\b\b\b\b\b\b\b\b\b\b\b\b\b\b\b\b\b\b\b\b\b\b\b\b\b\b\b\b\b\b\b\b\b\b\b\b\b\b\b\b\b\b\b\b\b\b\b\b\b\b\b\b\b\b\b\b\b\b\b\b\b\b\b\b\b\b\b\b\b\b\b\b\r",
      "209/267 [======================>.......] - ETA: 1s - loss: 0.5818 - accuracy: 0.0067 - binary_accuracy: 0.7046\b\b\b\b\b\b\b\b\b\b\b\b\b\b\b\b\b\b\b\b\b\b\b\b\b\b\b\b\b\b\b\b\b\b\b\b\b\b\b\b\b\b\b\b\b\b\b\b\b\b\b\b\b\b\b\b\b\b\b\b\b\b\b\b\b\b\b\b\b\b\b\b\b\b\b\b\b\b\b\b\b\b\b\b\b\b\b\b\b\b\b\b\b\b\b\b\b\b\b\b\b\b\b\b\b\b\b\b\b\b\r",
      " 20/134 [===>..........................] - ETA: 2s - loss: 0.5587 - accuracy: 0.0200 - binary_accuracy: 0.7241\b\b\b\b\b\b\b\b\b\b\b\b\b\b\b\b\b\b\b\b\b\b\b\b\b\b\b\b\b\b\b\b\b\b\b\b\b\b\b\b\b\b\b\b\b\b\b\b\b\b\b\b\b\b\b\b\b\b\b\b\b\b\b\b\b\b\b\b\b\b\b\b\b\b\b\b\b\b\b\b\b\b\b\b\b\b\b\b\b\b\b\b\b\b\b\b\b\b\b\b\b\b\b\b\b\b\b\b\b\b\r",
      "255/267 [===========================>..] - ETA: 0s - loss: 0.5742 - accuracy: 0.0086 - binary_accuracy: 0.7109\b\b\b\b\b\b\b\b\b\b\b\b\b\b\b\b\b\b\b\b\b\b\b\b\b\b\b\b\b\b\b\b\b\b\b\b\b\b\b\b\b\b\b\b\b\b\b\b\b\b\b\b\b\b\b\b\b\b\b\b\b\b\b\b\b\b\b\b\b\b\b\b\b\b\b\b\b\b\b\b\b\b\b\b\b\b\b\b\b\b\b\b\b\b\b\b\b\b\b\b\b\b\b\b\b\b\b\b\b\b\b\b\b\b\r",
      " 15/267 [>.............................] - ETA: 5s - loss: 0.6397 - accuracy: 0.0000e+00 - binary_accuracy: 0.6410\b\b\b\b\b\b\b\b\b\b\b\b\b\b\b\b\b\b\b\b\b\b\b\b\b\b\b\b\b\b\b\b\b\b\b\b\b\b\b\b\b\b\b\b\b\b\b\b\b\b\b\b\b\b\b\b\b\b\b\b\b\b\b\b\b\b\b\b\b\b\b\b\b\b\b\b\b\b\b\b\b\b\b\b\b\b\b\b\b\b\b\b\b\b\b\b\b\b\b\b\b\b\b\b\b\b\b\b\b\b\r",
      "127/134 [===========================>..] - ETA: 0s - loss: 0.5663 - accuracy: 0.0094 - binary_accuracy: 0.7179\b\b\b\b\b\b\b\b\b\b\b\b\b\b\b\b\b\b\b\b\b\b\b\b\b\b\b\b\b\b\b\b\b\b\b\b\b\b\b\b\b\b\b\b\b\b\b\b\b\b\b\b\b\b\b\b\b\b\b\b\b\b\b\b\b\b\b\b\b\b\b\b\b\b\b\b\b\b\b\b\b\b\b\b\b\b\b\b\b\b\b\b\b\b\b\b\b\b\b\b\b\b\b\b\b\b\b\b\b\b\r",
      "211/267 [======================>.......] - ETA: 1s - loss: 0.5811 - accuracy: 0.0066 - binary_accuracy: 0.7050\b\b\b\b\b\b\b\b\b\b\b\b\b\b\b\b\b\b\b\b\b\b\b\b\b\b\b\b\b\b\b\b\b\b\b\b\b\b\b\b\b\b\b\b\b\b\b\b\b\b\b\b\b\b\b\b\b\b\b\b\b\b\b\b\b\b\b\b\b\b\b\b\b\b\b\b\b\b\b\b\b\b\b\b\b\b\b\b\b\b\b\b\b\b\b\b\b\b\b\b\b\b\b\b\b\b\b\b\b\b\r",
      " 23/134 [====>.........................] - ETA: 2s - loss: 0.5618 - accuracy: 0.0174 - binary_accuracy: 0.7211\b\b\b\b\b\b\b\b\b\b\b\b\b\b\b\b\b\b\b\b\b\b\b\b\b\b\b\b\b\b\b\b\b\b\b\b\b\b\b\b\b\b\b\b\b\b\b\b\b\b\b\b\b\b\b\b\b\b\b\b\b\b\b\b\b\b\b\b\b\b\b\b\b\b\b\b\b\b\b\b\b\b\b\b\b\b\b\b\b\b\b\b\b\b\b\b\b\b\b\b\b\b\b\b\b\b\b\b\b\b\r",
      "258/267 [===========================>..] - ETA: 0s - loss: 0.5733 - accuracy: 0.0085 - binary_accuracy: 0.7115"
     ]
    },
    {
     "name": "stderr",
     "output_type": "stream",
     "text": [
      "2021-12-15 01:39:08.212095: I tensorflow/core/grappler/optimizers/custom_graph_optimizer_registry.cc:112] Plugin optimizer for device_type GPU is enabled.\n"
     ]
    },
    {
     "name": "stdout",
     "output_type": "stream",
     "text": [
      "134/134 [==============================] - 3s 19ms/step - loss: 0.5655 - accuracy: 0.0090 - binary_accuracy: 0.7182\n",
      "267/267 [==============================] - 10s 28ms/step - loss: 0.5729 - accuracy: 0.0083 - binary_accuracy: 0.7115\n",
      " 28/267 [==>...........................] - ETA: 8s - loss: 0.6223 - accuracy: 0.0000e+00 - binary_accuracy: 0.6703"
     ]
    },
    {
     "name": "stderr",
     "output_type": "stream",
     "text": [
      "2021-12-15 01:39:09.090622: I tensorflow/core/grappler/optimizers/custom_graph_optimizer_registry.cc:112] Plugin optimizer for device_type GPU is enabled.\n"
     ]
    },
    {
     "name": "stdout",
     "output_type": "stream",
     "text": [
      " 16/134 [==>...........................] - ETA: 2s - loss: 0.5605 - accuracy: 0.0000e+00 - binary_accuracy: 0.7246"
     ]
    },
    {
     "name": "stderr",
     "output_type": "stream",
     "text": [
      "2021-12-15 01:39:09.608443: I tensorflow/core/grappler/optimizers/custom_graph_optimizer_registry.cc:112] Plugin optimizer for device_type GPU is enabled.\n"
     ]
    },
    {
     "name": "stdout",
     "output_type": "stream",
     "text": [
      "267/267 [==============================] - 9s 27ms/step - loss: 0.5738 - accuracy: 0.0060 - binary_accuracy: 0.7107\n",
      "134/134 [==============================] - 3s 18ms/step - loss: 0.5456 - accuracy: 0.0060 - binary_accuracy: 0.7323\n",
      "  3/267 [..............................] - ETA: 8s - loss: 0.6762 - accuracy: 0.0000e+00 - binary_accuracy: 0.6021  "
     ]
    },
    {
     "name": "stderr",
     "output_type": "stream",
     "text": [
      "2021-12-15 01:39:10.388616: I tensorflow/core/grappler/optimizers/custom_graph_optimizer_registry.cc:112] Plugin optimizer for device_type GPU is enabled.\n"
     ]
    },
    {
     "name": "stdout",
     "output_type": "stream",
     "text": [
      "134/134 [==============================] - 3s 18ms/step - loss: 0.5544 - accuracy: 0.0075 - binary_accuracy: 0.7155\n",
      "198/267 [=====================>........] - ETA: 1s - loss: 0.5863 - accuracy: 0.0040 - binary_accuracy: 0.6987"
     ]
    },
    {
     "name": "stderr",
     "output_type": "stream",
     "text": [
      "2021-12-15 01:39:12.722101: I tensorflow/core/grappler/optimizers/custom_graph_optimizer_registry.cc:112] Plugin optimizer for device_type GPU is enabled.\n"
     ]
    },
    {
     "name": "stdout",
     "output_type": "stream",
     "text": [
      "134/134 [==============================] - 3s 17ms/step - loss: 0.5663 - accuracy: 0.0120 - binary_accuracy: 0.7095\n",
      "234/267 [=========================>....] - ETA: 0s - loss: 0.5833 - accuracy: 0.0051 - binary_accuracy: 0.7003 0.48"
     ]
    },
    {
     "name": "stderr",
     "output_type": "stream",
     "text": [
      "2021-12-15 01:39:13.531728: I tensorflow/core/grappler/optimizers/custom_graph_optimizer_registry.cc:112] Plugin optimizer for device_type GPU is enabled.\n"
     ]
    },
    {
     "name": "stdout",
     "output_type": "stream",
     "text": [
      "267/267 [==============================] - 8s 25ms/step - loss: 0.5807 - accuracy: 0.0045 - binary_accuracy: 0.7006\n",
      "228/267 [========================>.....] - ETA: 1s - loss: 0.5883 - accuracy: 0.0079 - binary_accuracy: 0.701368"
     ]
    },
    {
     "name": "stderr",
     "output_type": "stream",
     "text": [
      "2021-12-15 01:39:14.594002: I tensorflow/core/grappler/optimizers/custom_graph_optimizer_registry.cc:112] Plugin optimizer for device_type GPU is enabled.\n",
      "2021-12-15 01:39:14.771505: I tensorflow/core/grappler/optimizers/custom_graph_optimizer_registry.cc:112] Plugin optimizer for device_type GPU is enabled.\n"
     ]
    },
    {
     "name": "stdout",
     "output_type": "stream",
     "text": [
      "267/267 [==============================] - 10s 30ms/step - loss: 0.5857 - accuracy: 0.0083 - binary_accuracy: 0.7030\n",
      " 82/267 [========>.....................] - ETA: 7s - loss: 0.6089 - accuracy: 0.0024 - binary_accuracy: 0.694164"
     ]
    },
    {
     "name": "stderr",
     "output_type": "stream",
     "text": [
      "2021-12-15 01:39:16.570331: I tensorflow/core/grappler/optimizers/custom_graph_optimizer_registry.cc:112] Plugin optimizer for device_type GPU is enabled.\n"
     ]
    },
    {
     "name": "stdout",
     "output_type": "stream",
     "text": [
      "267/267 [==============================] - 9s 30ms/step - loss: 0.5837 - accuracy: 0.0053 - binary_accuracy: 0.7044\n",
      " 37/134 [=======>......................] - ETA: 1s - loss: 0.6056 - accuracy: 0.0108 - binary_accuracy: 0.705064"
     ]
    },
    {
     "name": "stderr",
     "output_type": "stream",
     "text": [
      "2021-12-15 01:39:17.274213: I tensorflow/core/grappler/optimizers/custom_graph_optimizer_registry.cc:112] Plugin optimizer for device_type GPU is enabled.\n"
     ]
    },
    {
     "name": "stdout",
     "output_type": "stream",
     "text": [
      "134/134 [==============================] - 3s 20ms/step - loss: 0.5444 - accuracy: 0.0060 - binary_accuracy: 0.7310\n",
      "267/267 [==============================] - 10s 31ms/step - loss: 0.5934 - accuracy: 0.0045 - binary_accuracy: 0.6943\n",
      "134/134 [==============================] - 3s 18ms/step - loss: 0.6003 - accuracy: 0.0030 - binary_accuracy: 0.7023\n",
      "109/267 [===========>..................] - ETA: 5s - loss: 0.6111 - accuracy: 0.0000e+00 - binary_accuracy: 0.6745"
     ]
    },
    {
     "name": "stderr",
     "output_type": "stream",
     "text": [
      "2021-12-15 01:39:19.200339: I tensorflow/core/grappler/optimizers/custom_graph_optimizer_registry.cc:112] Plugin optimizer for device_type GPU is enabled.\n"
     ]
    },
    {
     "name": "stdout",
     "output_type": "stream",
     "text": [
      "134/134 [==============================] - 3s 15ms/step - loss: 0.5780 - accuracy: 0.0045 - binary_accuracy: 0.7033\n",
      "134/134 [==============================] - 3s 13ms/step - loss: 0.5681 - accuracy: 0.0060 - binary_accuracy: 0.7210\n",
      "267/267 [==============================] - 12s 33ms/step - loss: 0.5952 - accuracy: 0.0023 - binary_accuracy: 0.6978\n",
      "225/267 [========================>.....] - ETA: 1s - loss: 0.6027 - accuracy: 0.0000e+00 - binary_accuracy: 0.6860"
     ]
    },
    {
     "name": "stderr",
     "output_type": "stream",
     "text": [
      "2021-12-15 01:39:22.436562: I tensorflow/core/grappler/optimizers/custom_graph_optimizer_registry.cc:112] Plugin optimizer for device_type GPU is enabled.\n"
     ]
    },
    {
     "name": "stdout",
     "output_type": "stream",
     "text": [
      "267/267 [==============================] - 12s 33ms/step - loss: 0.5956 - accuracy: 0.0030 - binary_accuracy: 0.6971\n",
      "267/267 [==============================] - 10s 30ms/step - loss: 0.6001 - accuracy: 0.0000e+00 - binary_accuracy: 0.6881\n",
      "  1/134 [..............................] - ETA: 33s - loss: 0.6430 - accuracy: 0.0000e+00 - binary_accuracy: 0.6250"
     ]
    },
    {
     "name": "stderr",
     "output_type": "stream",
     "text": [
      "2021-12-15 01:39:23.363565: I tensorflow/core/grappler/optimizers/custom_graph_optimizer_registry.cc:112] Plugin optimizer for device_type GPU is enabled.\n"
     ]
    },
    {
     "name": "stdout",
     "output_type": "stream",
     "text": [
      "\b\b\b\b\b\b\b\b\b\b\b\b\b\b\b\b\b\b\b\b\b\b\b\b\b\b\b\b\b\b\b\b\b\b\b\b\b\b\b\b\b\b\b\b\b\b\b\b\b\b\b\b\b\b\b\b\b\b\b\b\b\b\b\b\b\b\b\b\b\b\b\b\b\b\b\b\b\b\b\b\b\b\b\b\b\b\b\b\b\b\b\b\b\b\b\b\b\b\b\b\b\b\b\b\b\b\b\b\b\b\r",
      " 93/134 [===================>..........] - ETA: 0s - loss: 0.5819 - accuracy: 0.0065 - binary_accuracy: 0.7054\b\b\b\b\b\b\b\b\b\b\b\b\b\b\b\b\b\b\b\b\b\b\b\b\b\b\b\b\b\b\b\b\b\b\b\b\b\b\b\b\b\b\b\b\b\b\b\b\b\b\b\b\b\b\b\b\b\b\b\b\b\b\b\b\b\b\b\b\b\b\b\b\b\b\b\b\b\b\b\b\b\b\b\b\b\b\b\b\b\b\b\b\b\b\b\b\b\b\b\b\b\b\b\b\b\b\b\b\b\b\b\b\b\b\b\r",
      "  6/134 [>.............................] - ETA: 1s - loss: 0.6100 - accuracy: 0.0000e+00 - binary_accuracy: 0.6609 \b\b\b\b\b\b\b\b\b\b\b\b\b\b\b\b\b\b\b\b\b\b\b\b\b\b\b\b\b\b\b\b\b\b\b\b\b\b\b\b\b\b\b\b\b\b\b\b\b\b\b\b\b\b\b\b\b\b\b\b\b\b\b\b\b\b\b\b\b\b\b\b\b\b\b\b\b\b\b\b\b\b\b\b\b\b\b\b\b\b\b\b\b\b\b\b\b\b\b\b\b\b\b\b\b\b\b\b\b\b\r",
      " 98/134 [====================>.........] - ETA: 0s - loss: 0.5834 - accuracy: 0.0061 - binary_accuracy: 0.7037\b\b\b\b\b\b\b\b\b\b\b\b\b\b\b\b\b\b\b\b\b\b\b\b\b\b\b\b\b\b\b\b\b\b\b\b\b\b\b\b\b\b\b\b\b\b\b\b\b\b\b\b\b\b\b\b\b\b\b\b\b\b\b\b\b\b\b\b\b\b\b\b\b\b\b\b\b\b\b\b\b\b\b\b\b\b\b\b\b\b\b\b\b\b\b\b\b\b\b\b\b\b\b\b\b\b\b\b\b\b\b\b\b\b\r",
      " 11/134 [=>............................] - ETA: 1s - loss: 0.6006 - accuracy: 0.0000e+00 - binary_accuracy: 0.6793\b\b\b\b\b\b\b\b\b\b\b\b\b\b\b\b\b\b\b\b\b\b\b\b\b\b\b\b\b\b\b\b\b\b\b\b\b\b\b\b\b\b\b\b\b\b\b\b\b\b\b\b\b\b\b\b\b\b\b\b\b\b\b\b\b\b\b\b\b\b\b\b\b\b\b\b\b\b\b\b\b\b\b\b\b\b\b\b\b\b\b\b\b\b\b\b\b\b\b\b\b\b\b\b\b\b\b\b\b\b\r",
      "102/134 [=====================>........] - ETA: 0s - loss: 0.5840 - accuracy: 0.0059 - binary_accuracy: 0.7033\b\b\b\b\b\b\b\b\b\b\b\b\b\b\b\b\b\b\b\b\b\b\b\b\b\b\b\b\b\b\b\b\b\b\b\b\b\b\b\b\b\b\b\b\b\b\b\b\b\b\b\b\b\b\b\b\b\b\b\b\b\b\b\b\b\b\b\b\b\b\b\b\b\b\b\b\b\b\b\b\b\b\b\b\b\b\b\b\b\b\b\b\b\b\b\b\b\b\b\b\b\b\b\b\b\b\b\b\b\b\b\b\b\b\r",
      " 15/134 [==>...........................] - ETA: 1s - loss: 0.6047 - accuracy: 0.0000e+00 - binary_accuracy: 0.6779\b\b\b\b\b\b\b\b\b\b\b\b\b\b\b\b\b\b\b\b\b\b\b\b\b\b\b\b\b\b\b\b\b\b\b\b\b\b\b\b\b\b\b\b\b\b\b\b\b\b\b\b\b\b\b\b\b\b\b\b\b\b\b\b\b\b\b\b\b\b\b\b\b\b\b\b\b\b\b\b\b\b\b\b\b\b\b\b\b\b\b\b\b\b\b\b\b\b\b\b\b\b\b\b\b\b\b\b\b\b\r",
      "106/134 [======================>.......] - ETA: 0s - loss: 0.5854 - accuracy: 0.0057 - binary_accuracy: 0.7019\b\b\b\b\b\b\b\b\b\b\b\b\b\b\b\b\b\b\b\b\b\b\b\b\b\b\b\b\b\b\b\b\b\b\b\b\b\b\b\b\b\b\b\b\b\b\b\b\b\b\b\b\b\b\b\b\b\b\b\b\b\b\b\b\b\b\b\b\b\b\b\b\b\b\b\b\b\b\b\b\b\b\b\b\b\b\b\b\b\b\b\b\b\b\b\b\b\b\b\b\b\b\b\b\b\b\b\b\b\b\b\b\b\b\r",
      " 20/134 [===>..........................] - ETA: 1s - loss: 0.6001 - accuracy: 0.0000e+00 - binary_accuracy: 0.6823"
     ]
    },
    {
     "name": "stderr",
     "output_type": "stream",
     "text": [
      "2021-12-15 01:39:23.625671: I tensorflow/core/grappler/optimizers/custom_graph_optimizer_registry.cc:112] Plugin optimizer for device_type GPU is enabled.\n"
     ]
    },
    {
     "name": "stdout",
     "output_type": "stream",
     "text": [
      "134/134 [==============================] - 2s 12ms/step - loss: 0.5877 - accuracy: 0.0045 - binary_accuracy: 0.6989\n",
      "134/134 [==============================] - 2s 11ms/step - loss: 0.5970 - accuracy: 0.0030 - binary_accuracy: 0.6860\n",
      "134/134 [==============================] - 2s 11ms/step - loss: 0.5773 - accuracy: 0.0030 - binary_accuracy: 0.7183\n",
      "  9/400 [..............................] - ETA: 2s - loss: 0.6759 - accuracy: 0.0000e+00 - binary_accuracy: 0.5847  "
     ]
    },
    {
     "name": "stderr",
     "output_type": "stream",
     "text": [
      "2021-12-15 01:39:25.793215: I tensorflow/core/grappler/optimizers/custom_graph_optimizer_registry.cc:112] Plugin optimizer for device_type GPU is enabled.\n"
     ]
    },
    {
     "name": "stdout",
     "output_type": "stream",
     "text": [
      "400/400 [==============================] - 3s 6ms/step - loss: 0.5755 - accuracy: 0.0060 - binary_accuracy: 0.7074\n"
     ]
    }
   ],
   "source": [
    "fc_layers_param_grid = {\n",
    "        \"n_hidden_layers\": [1, 2, 4, 8],\n",
    "        \"hidden_dim\": [32, 64, 128, 256, 512],\n",
    "        \"optimizer\": [\"adam\"],\n",
    "        \"batch_size\": [5],\n",
    "        \"n_epochs\": [250],\n",
    "        \"output_activation\": ['sigmoid'],\n",
    "        \"dropout_rate\": [0]\n",
    "}\n",
    "\n",
    "X_fc_grid, Y_fc_grid = subset_data(2000, X_fc_all, Y_fc_all)\n",
    "\n",
    "\n",
    "fc_layers_model = KerasClassifier(build_fn=create_fc_model)\n",
    "fc_layers_grid = GridSearchCV(estimator=fc_layers_model, param_grid=fc_layers_param_grid, n_jobs=-1, cv=3, verbose=1)\n",
    "fc_layers_result = fc_layers_grid.fit(X_fc_grid, Y_fc_grid)\n",
    "\n"
   ]
  },
  {
   "cell_type": "code",
   "execution_count": 24,
   "metadata": {
    "scrolled": true
   },
   "outputs": [
    {
     "name": "stdout",
     "output_type": "stream",
     "text": [
      "Best: 0.011998505486796299 using {'batch_size': 5, 'dropout_rate': 0, 'hidden_dim': 256, 'n_epochs': 250, 'n_hidden_layers': 2, 'optimizer': 'adam', 'output_activation': 'sigmoid'}\n",
      "      Mean    Standard deviation    batch_size    dropout_rate    hidden_dim    n_epochs    n_hidden_layers  optimizer    output_activation\n",
      "----------  --------------------  ------------  --------------  ------------  ----------  -----------------  -----------  -------------------\n",
      "0.006                0.00244827              5               0            32         250                  1  adam         sigmoid\n",
      "0.0054995            0.00141192              5               0            32         250                  2  adam         sigmoid\n",
      "0.00300075           0.00122689              5               0            32         250                  4  adam         sigmoid\n",
      "0.003499             0.00186909              5               0            32         250                  8  adam         sigmoid\n",
      "0.00550175           0.00255442              5               0            64         250                  1  adam         sigmoid\n",
      "0.0044985            0.00244735              5               0            64         250                  2  adam         sigmoid\n",
      "0.00849725           0.00494561              5               0            64         250                  4  adam         sigmoid\n",
      "0.00349975           0.00186949              5               0            64         250                  8  adam         sigmoid\n",
      "0.0039995            0.00141245              5               0           128         250                  1  adam         sigmoid\n",
      "0.00650125           0.00463692              5               0           128         250                  2  adam         sigmoid\n",
      "0.007999             0.00140926              5               0           128         250                  4  adam         sigmoid\n",
      "0.00649825           0.00307896              5               0           128         250                  8  adam         sigmoid\n",
      "0.006502             0.00308748              5               0           256         250                  1  adam         sigmoid\n",
      "0.0119985            0.00533334              5               0           256         250                  2  adam         sigmoid\n",
      "0.006499             0.00186749              5               0           256         250                  4  adam         sigmoid\n",
      "0.00750075           0.00324084              5               0           256         250                  8  adam         sigmoid\n",
      "0.009998             0.00565191              5               0           512         250                  1  adam         sigmoid\n",
      "0.00849875           0.00254529              5               0           512         250                  2  adam         sigmoid\n",
      "0.00450075           0.00122781              5               0           512         250                  4  adam         sigmoid\n",
      "0.00349975           0.000705695             5               0           512         250                  8  adam         sigmoid\n"
     ]
    }
   ],
   "source": [
    "disp_grid(fc_layers_result)"
   ]
  },
  {
   "cell_type": "markdown",
   "metadata": {},
   "source": [
    "### Tuning opsimizer, batch size and training duration\n",
    "\n",
    "These other parameters can now be explored since there is a more solid foundation of the model architecture. Using the previous result its now possible to look at the next iteration of parameters. It is indicated that a model with 1 hidden layer and 256 nodes performs best, so this will be the choice for the next stage."
   ]
  },
  {
   "cell_type": "code",
   "execution_count": 25,
   "metadata": {},
   "outputs": [
    {
     "name": "stdout",
     "output_type": "stream",
     "text": [
      "Fitting 3 folds for each of 36 candidates, totalling 108 fits\n"
     ]
    },
    {
     "name": "stderr",
     "output_type": "stream",
     "text": [
      "2021-12-15 01:39:28.707290: I tensorflow/core/grappler/optimizers/custom_graph_optimizer_registry.cc:112] Plugin optimizer for device_type GPU is enabled.\n",
      "2021-12-15 01:39:28.721354: I tensorflow/core/grappler/optimizers/custom_graph_optimizer_registry.cc:112] Plugin optimizer for device_type GPU is enabled.\n",
      "2021-12-15 01:39:28.722151: I tensorflow/core/grappler/optimizers/custom_graph_optimizer_registry.cc:112] Plugin optimizer for device_type GPU is enabled.\n",
      "2021-12-15 01:39:28.738546: I tensorflow/core/grappler/optimizers/custom_graph_optimizer_registry.cc:112] Plugin optimizer for device_type GPU is enabled.\n",
      "2021-12-15 01:39:28.739570: I tensorflow/core/grappler/optimizers/custom_graph_optimizer_registry.cc:112] Plugin optimizer for device_type GPU is enabled.\n",
      "2021-12-15 01:39:28.782574: I tensorflow/core/grappler/optimizers/custom_graph_optimizer_registry.cc:112] Plugin optimizer for device_type GPU is enabled.\n"
     ]
    },
    {
     "name": "stdout",
     "output_type": "stream",
     "text": [
      "127/267 [=============>................] - ETA: 3s - loss: 0.6101 - accuracy: 0.0079 - binary_accuracy: 0.6856"
     ]
    },
    {
     "name": "stderr",
     "output_type": "stream",
     "text": [
      "2021-12-15 01:39:32.189155: I tensorflow/core/grappler/optimizers/custom_graph_optimizer_registry.cc:112] Plugin optimizer for device_type GPU is enabled.\n"
     ]
    },
    {
     "name": "stdout",
     "output_type": "stream",
     "text": [
      "198/267 [=====================>........] - ETA: 1s - loss: 0.6875 - accuracy: 0.0091 - binary_accuracy: 0.5484[CV] END batch_size=5, dropout_rate=0, hidden_dim=256, n_epochs=100, n_hidden_layers=1, optimizer=adamax, output_activation=sigmoid; total time=   0.4s\n",
      "267/267 [==============================] - 7s 23ms/step - loss: 0.6858 - accuracy: 0.0083 - binary_accuracy: 0.5543\n",
      "267/267 [==============================] - 7s 24ms/step - loss: 0.6910 - accuracy: 0.0082 - binary_accuracy: 0.5368\n",
      "267/267 [==============================] - 7s 24ms/step - loss: 0.6873 - accuracy: 0.0128 - binary_accuracy: 0.5434\n",
      "267/267 [==============================] - 7s 25ms/step - loss: 0.5901 - accuracy: 0.0068 - binary_accuracy: 0.7006\n",
      "267/267 [==============================] - 7s 25ms/step - loss: 0.5943 - accuracy: 0.0030 - binary_accuracy: 0.6924\n",
      "267/267 [==============================] - 7s 25ms/step - loss: 0.5912 - accuracy: 0.0090 - binary_accuracy: 0.7020\n"
     ]
    },
    {
     "name": "stderr",
     "output_type": "stream",
     "text": [
      "2021-12-15 01:39:35.570367: I tensorflow/core/grappler/optimizers/custom_graph_optimizer_registry.cc:112] Plugin optimizer for device_type GPU is enabled.\n",
      "2021-12-15 01:39:35.579260: I tensorflow/core/grappler/optimizers/custom_graph_optimizer_registry.cc:112] Plugin optimizer for device_type GPU is enabled.\n",
      "2021-12-15 01:39:35.579695: I tensorflow/core/grappler/optimizers/custom_graph_optimizer_registry.cc:112] Plugin optimizer for device_type GPU is enabled.\n",
      "2021-12-15 01:39:35.596873: I tensorflow/core/grappler/optimizers/custom_graph_optimizer_registry.cc:112] Plugin optimizer for device_type GPU is enabled.\n",
      "2021-12-15 01:39:35.624546: I tensorflow/core/grappler/optimizers/custom_graph_optimizer_registry.cc:112] Plugin optimizer for device_type GPU is enabled.\n",
      "2021-12-15 01:39:35.641592: I tensorflow/core/grappler/optimizers/custom_graph_optimizer_registry.cc:112] Plugin optimizer for device_type GPU is enabled.\n"
     ]
    },
    {
     "name": "stdout",
     "output_type": "stream",
     "text": [
      " 15/134 [==>...........................] - ETA: 1s - loss: 0.6778 - accuracy: 0.0133 - binary_accuracy: 0.5710[CV] END batch_size=5, dropout_rate=0, hidden_dim=256, n_epochs=100, n_hidden_layers=1, optimizer=adamax, output_activation=sigmoid; total time=   0.3s\n",
      "[CV] END batch_size=5, dropout_rate=0, hidden_dim=256, n_epochs=100, n_hidden_layers=1, optimizer=adamax, output_activation=sigmoid; total time=   2.5s\n",
      "  9/134 [=>............................] - ETA: 3s - loss: 0.5869 - accuracy: 0.0000e+00 - binary_accuracy: 0.7045138"
     ]
    },
    {
     "name": "stderr",
     "output_type": "stream",
     "text": [
      "2021-12-15 01:39:36.080552: I tensorflow/core/grappler/optimizers/custom_graph_optimizer_registry.cc:112] Plugin optimizer for device_type GPU is enabled.\n"
     ]
    },
    {
     "name": "stdout",
     "output_type": "stream",
     "text": [
      "134/134 [==============================] - 3s 20ms/step - loss: 0.6780 - accuracy: 0.0075 - binary_accuracy: 0.5704\n",
      "134/134 [==============================] - 3s 20ms/step - loss: 0.6794 - accuracy: 0.0135 - binary_accuracy: 0.5664\n",
      "134/134 [==============================] - 3s 20ms/step - loss: 0.6764 - accuracy: 0.0075 - binary_accuracy: 0.5813\n",
      "134/134 [==============================] - 3s 22ms/step - loss: 0.5614 - accuracy: 0.0030 - binary_accuracy: 0.7272\n",
      "134/134 [==============================] - 3s 22ms/step - loss: 0.5736 - accuracy: 0.0075 - binary_accuracy: 0.7100\n",
      "134/134 [==============================] - 3s 19ms/step - loss: 0.5683 - accuracy: 0.0120 - binary_accuracy: 0.7122\n",
      "267/267 [==============================] - 9s 22ms/step - loss: 0.6903 - accuracy: 0.0345 - binary_accuracy: 0.5403\n",
      "136/267 [==============>...............] - ETA: 3s - loss: 0.6969 - accuracy: 0.0118 - binary_accuracy: 0.5235"
     ]
    },
    {
     "name": "stderr",
     "output_type": "stream",
     "text": [
      "2021-12-15 01:39:39.219716: I tensorflow/core/grappler/optimizers/custom_graph_optimizer_registry.cc:112] Plugin optimizer for device_type GPU is enabled.\n",
      "2021-12-15 01:39:39.284274: I tensorflow/core/grappler/optimizers/custom_graph_optimizer_registry.cc:112] Plugin optimizer for device_type GPU is enabled.\n"
     ]
    },
    {
     "name": "stdout",
     "output_type": "stream",
     "text": [
      "164/267 [=================>............] - ETA: 2s - loss: 0.6956 - accuracy: 0.0134 - binary_accuracy: 0.5269[CV] END batch_size=5, dropout_rate=0, hidden_dim=256, n_epochs=100, n_hidden_layers=1, optimizer=SGD, output_activation=sigmoid; total time=  10.0s\n",
      "173/267 [==================>...........] - ETA: 2s - loss: 0.6953 - accuracy: 0.0127 - binary_accuracy: 0.52774725"
     ]
    },
    {
     "name": "stderr",
     "output_type": "stream",
     "text": [
      "2021-12-15 01:39:39.630638: I tensorflow/core/grappler/optimizers/custom_graph_optimizer_registry.cc:112] Plugin optimizer for device_type GPU is enabled.\n",
      "2021-12-15 01:39:39.744425: I tensorflow/core/grappler/optimizers/custom_graph_optimizer_registry.cc:112] Plugin optimizer for device_type GPU is enabled.\n"
     ]
    },
    {
     "name": "stdout",
     "output_type": "stream",
     "text": [
      "197/267 [=====================>........] - ETA: 1s - loss: 0.6945 - accuracy: 0.0162 - binary_accuracy: 0.5297[CV] END batch_size=5, dropout_rate=0, hidden_dim=256, n_epochs=100, n_hidden_layers=1, optimizer=SGD, output_activation=sigmoid; total time=  10.1s\n",
      " 36/267 [===>..........................] - ETA: 3s - loss: 0.7133 - accuracy: 0.0056 - binary_accuracy: 0.48835006"
     ]
    },
    {
     "name": "stderr",
     "output_type": "stream",
     "text": [
      "2021-12-15 01:39:40.025954: I tensorflow/core/grappler/optimizers/custom_graph_optimizer_registry.cc:112] Plugin optimizer for device_type GPU is enabled.\n"
     ]
    },
    {
     "name": "stdout",
     "output_type": "stream",
     "text": [
      "205/267 [======================>.......] - ETA: 1s - loss: 0.6944 - accuracy: 0.0166 - binary_accuracy: 0.5301[CV] END batch_size=5, dropout_rate=0, hidden_dim=256, n_epochs=100, n_hidden_layers=1, optimizer=SGD, output_activation=sigmoid; total time=  10.0s\n",
      "216/267 [=======================>......] - ETA: 1s - loss: 0.6939 - accuracy: 0.0176 - binary_accuracy: 0.5311[CV] END batch_size=5, dropout_rate=0, hidden_dim=256, n_epochs=100, n_hidden_layers=1, optimizer=adam, output_activation=sigmoid; total time=  10.4s\n",
      "134/134 [==============================] - 1s 9ms/step - loss: 0.6783 - accuracy: 0.0240 - binary_accuracy: 0.5700\n",
      "267/267 [==============================] - 8s 21ms/step - loss: 0.6916 - accuracy: 0.0158 - binary_accuracy: 0.5364\n",
      " 85/267 [========>.....................] - ETA: 3s - loss: 0.6192 - accuracy: 0.0024 - binary_accuracy: 0.667867"
     ]
    },
    {
     "name": "stderr",
     "output_type": "stream",
     "text": [
      "2021-12-15 01:39:41.967059: I tensorflow/core/grappler/optimizers/custom_graph_optimizer_registry.cc:112] Plugin optimizer for device_type GPU is enabled.\n"
     ]
    },
    {
     "name": "stdout",
     "output_type": "stream",
     "text": [
      "189/267 [====================>.........] - ETA: 1s - loss: 0.5988 - accuracy: 0.0011 - binary_accuracy: 0.6925"
     ]
    },
    {
     "name": "stderr",
     "output_type": "stream",
     "text": [
      "2021-12-15 01:39:43.447603: I tensorflow/core/grappler/optimizers/custom_graph_optimizer_registry.cc:112] Plugin optimizer for device_type GPU is enabled.\n"
     ]
    },
    {
     "name": "stdout",
     "output_type": "stream",
     "text": [
      "134/134 [==============================] - 3s 13ms/step - loss: 0.6816 - accuracy: 0.0090 - binary_accuracy: 0.5607\n",
      "206/267 [======================>.......] - ETA: 1s - loss: 0.5980 - accuracy: 0.0049 - binary_accuracy: 0.6932[CV] END batch_size=5, dropout_rate=0, hidden_dim=256, n_epochs=100, n_hidden_layers=1, optimizer=adam, output_activation=sigmoid; total time=  10.4s\n",
      "[CV] END batch_size=5, dropout_rate=0, hidden_dim=256, n_epochs=250, n_hidden_layers=1, optimizer=adamax, output_activation=sigmoid; total time=   1.4s\n",
      "204/267 [=====================>........] - ETA: 1s - loss: 0.6005 - accuracy: 0.0059 - binary_accuracy: 0.68674545 "
     ]
    },
    {
     "name": "stderr",
     "output_type": "stream",
     "text": [
      "2021-12-15 01:39:44.302210: I tensorflow/core/grappler/optimizers/custom_graph_optimizer_registry.cc:112] Plugin optimizer for device_type GPU is enabled.\n"
     ]
    },
    {
     "name": "stdout",
     "output_type": "stream",
     "text": [
      "  8/267 [..............................] - ETA: 7s - loss: 0.7182 - accuracy: 0.0000e+00 - binary_accuracy: 0.4598[CV] END batch_size=5, dropout_rate=0, hidden_dim=256, n_epochs=250, n_hidden_layers=1, optimizer=SGD, output_activation=sigmoid; total time=  12.4s\n",
      "267/267 [==============================] - 6s 19ms/step - loss: 0.7002 - accuracy: 0.0105 - binary_accuracy: 0.5147\n",
      "256/267 [===========================>..] - ETA: 0s - loss: 0.5907 - accuracy: 0.0031 - binary_accuracy: 0.699148"
     ]
    },
    {
     "name": "stderr",
     "output_type": "stream",
     "text": [
      "2021-12-15 01:39:44.877231: I tensorflow/core/grappler/optimizers/custom_graph_optimizer_registry.cc:112] Plugin optimizer for device_type GPU is enabled.\n"
     ]
    },
    {
     "name": "stdout",
     "output_type": "stream",
     "text": [
      "\b\b\b\b\b\b\b\b\b\b\b\b\b\b\b\b\b\b\b\b\b\b\b\b\b\b\b\b\b\b\b\b\b\b\b\b\b\b\b\b\b\b\b\b\b\b\b\b\b\b\b\b\b\b\b\b\b\b\b\b\b\b\b\b\b\b\b\b\b\b\b\b\b\b\b\b\b\b\b\b\b\b\b\b\b\b\b\b\b\b\b\b\b\b\b\b\b\b\b\b\b\b\b\b\b\b\b\b\b\b\b\b\b\b\r",
      " 26/267 [=>............................] - ETA: 6s - loss: 0.7085 - accuracy: 0.0000e+00 - binary_accuracy: 0.4893\b\b\b\b\b\b\b\b\b\b\b\b\b\b\b\b\b\b\b\b\b\b\b\b\b\b\b\b\b\b\b\b\b\b\b\b\b\b\b\b\b\b\b\b\b\b\b\b\b\b\b\b\b\b\b\b\b\b\b\b\b\b\b\b\b\b\b\b\b\b\b\b\b\b\b\b\b\b\b\b\b\b\b\b\b\b\b\b\b\b\b\b\b\b\b\b\b\b\b\b\b\b\b\b\b\b\b\b\b\b\r",
      "243/267 [==========================>...] - ETA: 0s - loss: 0.5930 - accuracy: 0.0058 - binary_accuracy: 0.6980\b\b\b\b\b\b\b\b\b\b\b\b\b\b\b\b\b\b\b\b\b\b\b\b\b\b\b\b\b\b\b\b\b\b\b\b\b\b\b\b\b\b\b\b\b\b\b\b\b\b\b\b\b\b\b\b\b\b\b\b\b\b\b\b\b\b\b\b\b\b\b\b\b\b\b\b\b\b\b\b\b\b\b\b\b\b\b\b\b\b\b\b\b\b\b\b\b\b\b\b\b\b\b\b\b\b\b\b\b\b\r",
      "229/267 [========================>.....] - ETA: 0s - loss: 0.5989 - accuracy: 0.0052 - binary_accuracy: 0.6881\b\b\b\b\b\b\b\b\b\b\b\b\b\b\b\b\b\b\b\b\b\b\b\b\b\b\b\b\b\b\b\b\b\b\b\b\b\b\b\b\b\b\b\b\b\b\b\b\b\b\b\b\b\b\b\b\b\b\b\b\b\b\b\b\b\b\b\b\b\b\b\b\b\b\b\b\b\b\b\b\b\b\b\b\b\b\b\b\b\b\b\b\b\b\b\b\b\b\b\b\b\b\b\b\b\b\b\b\b\b\r",
      " 36/267 [===>..........................] - ETA: 5s - loss: 0.7112 - accuracy: 0.0111 - binary_accuracy: 0.4853\b\b\b\b\b\b\b\b\b\b\b\b\b\b\b\b\b\b\b\b\b\b\b\b\b\b\b\b\b\b\b\b\b\b\b\b\b\b\b\b\b\b\b\b\b\b\b\b\b\b\b\b\b\b\b\b\b\b\b\b\b\b\b\b\b\b\b\b\b\b\b\b\b\b\b\b\b\b\b\b\b\b\b\b\b\b\b\b\b\b\b\b\b\b\b\b\b\b\b\b\b\b\b\b\b\b\b\b\b\b\r",
      "258/267 [===========================>..] - ETA: 0s - loss: 0.5907 - accuracy: 0.0031 - binary_accuracy: 0.6991\b\b\b\b\b\b\b\b\b\b\b\b\b\b\b\b\b\b\b\b\b\b\b\b\b\b\b\b\b\b\b\b\b\b\b\b\b\b\b\b\b\b\b\b\b\b\b\b\b\b\b\b\b\b\b\b\b\b\b\b\b\b\b\b\b\b\b\b\b\b\b\b\b\b\b\b\b\b\b\b\b\b\b\b\b\b\b\b\b\b\b\b\b\b\b\b\b\b\b\b\b\b\b\b\b\b\b\b\b\b\b\b\b\b\r",
      " 28/267 [==>...........................] - ETA: 6s - loss: 0.7087 - accuracy: 0.0000e+00 - binary_accuracy: 0.4882\r",
      "  1/134 [..............................] - ETA: 1:05 - loss: 0.6955 - accuracy: 0.0000e+00 - binary_accuracy: 0.4875\b\b\b\b\b\b\b\b\b\b\b\b\b\b\b\b\b\b\b\b\b\b\b\b\b\b\b\b\b\b\b\b\b\b\b\b\b\b\b\b\b\b\b\b\b\b\b\b\b\b\b\b\b\b\b\b\b\b\b\b\b\b\b\b\b\b\b\b\b\b\b\b\b\b\b\b\b\b\b\b\b\b\b\b\b\b\b\b\b\b\b\b\b\b\b\b\b\b\b\b\b\b\b\b\b\b\b\b\b\b\r",
      "245/267 [==========================>...] - ETA: 0s - loss: 0.5926 - accuracy: 0.0057 - binary_accuracy: 0.6984\b\b\b\b\b\b\b\b\b\b\b\b\b\b\b\b\b\b\b\b\b\b\b\b\b\b\b\b\b\b\b\b\b\b\b\b\b\b\b\b\b\b\b\b\b\b\b\b\b\b\b\b\b\b\b\b\b\b\b\b\b\b\b\b\b\b\b\b\b\b\b\b\b\b\b\b\b\b\b\b\b\b\b\b\b\b\b\b\b\b\b\b\b\b\b\b\b\b\b\b\b\b\b\b\b\b\b\b\b\b\r",
      " 38/267 [===>..........................] - ETA: 5s - loss: 0.7111 - accuracy: 0.0105 - binary_accuracy: 0.4847\b\b\b\b\b\b\b\b\b\b\b\b\b\b\b\b\b\b\b\b\b\b\b\b\b\b\b\b\b\b\b\b\b\b\b\b\b\b\b\b\b\b\b\b\b\b\b\b\b\b\b\b\b\b\b\b\b\b\b\b\b\b\b\b\b\b\b\b\b\b\b\b\b\b\b\b\b\b\b\b\b\b\b\b\b\b\b\b\b\b\b\b\b\b\b\b\b\b\b\b\b\b\b\b\b\b\b\b\b\b\r",
      "231/267 [========================>.....] - ETA: 0s - loss: 0.5988 - accuracy: 0.0052 - binary_accuracy: 0.6882\b\b\b\b\b\b\b\b\b\b\b\b\b\b\b\b\b\b\b\b\b\b\b\b\b\b\b\b\b\b\b\b\b\b\b\b\b\b\b\b\b\b\b\b\b\b\b\b\b\b\b\b\b\b\b\b\b\b\b\b\b\b\b\b\b\b\b\b\b\b\b\b\b\b\b\b\b\b\b\b\b\b\b\b\b\b\b\b\b\b\b\b\b\b\b\b\b\b\b\b\b\b\b\b\b\b\b\b\b\b\r",
      "260/267 [============================>.] - ETA: 0s - loss: 0.5908 - accuracy: 0.0031 - binary_accuracy: 0.6988\b\b\b\b\b\b\b\b\b\b\b\b\b\b\b\b\b\b\b\b\b\b\b\b\b\b\b\b\b\b\b\b\b\b\b\b\b\b\b\b\b\b\b\b\b\b\b\b\b\b\b\b\b\b\b\b\b\b\b\b\b\b\b\b\b\b\b\b\b\b\b\b\b\b\b\b\b\b\b\b\b\b\b\b\b\b\b\b\b\b\b\b\b\b\b\b\b\b\b\b\b\b\b\b\b\b\b\b\b\b\b\b\b\b\b\b\r",
      "  5/134 [>.............................] - ETA: 1s - loss: 0.6861 - accuracy: 0.0400 - binary_accuracy: 0.5481      \b\b\b\b\b\b\b\b\b\b\b\b\b\b\b\b\b\b\b\b\b\b\b\b\b\b\b\b\b\b\b\b\b\b\b\b\b\b\b\b\b\b\b\b\b\b\b\b\b\b\b\b\b\b\b\b\b\b\b\b\b\b\b\b\b\b\b\b\b\b\b\b\b\b\b\b\b\b\b\b\b\b\b\b\b\b\b\b\b\b\b\b\b\b\b\b\b\b\b\b\b\b\b\b\b\b\b\b\b\b\b\b\b\b\r",
      " 31/267 [==>...........................] - ETA: 6s - loss: 0.7085 - accuracy: 0.0000e+00 - binary_accuracy: 0.4883\b\b\b\b\b\b\b\b\b\b\b\b\b\b\b\b\b\b\b\b\b\b\b\b\b\b\b\b\b\b\b\b\b\b\b\b\b\b\b\b\b\b\b\b\b\b\b\b\b\b\b\b\b\b\b\b\b\b\b\b\b\b\b\b\b\b\b\b\b\b\b\b\b\b\b\b\b\b\b\b\b\b\b\b\b\b\b\b\b\b\b\b\b\b\b\b\b\b\b\b\b\b\b\b\b\b\b\b\b\b\r",
      "248/267 [==========================>...] - ETA: 0s - loss: 0.5921 - accuracy: 0.0056 - binary_accuracy: 0.6988\b\b\b\b\b\b\b\b\b\b\b\b\b\b\b\b\b\b\b\b\b\b\b\b\b\b\b\b\b\b\b\b\b\b\b\b\b\b\b\b\b\b\b\b\b\b\b\b\b\b\b\b\b\b\b\b\b\b\b\b\b\b\b\b\b\b\b\b\b\b\b\b\b\b\b\b\b\b\b\b\b\b\b\b\b\b\b\b\b\b\b\b\b\b\b\b\b\b\b\b\b\b\b\b\b\b\b\b\b\b\r",
      "234/267 [=========================>....] - ETA: 0s - loss: 0.5980 - accuracy: 0.0051 - binary_accuracy: 0.6892\b\b\b\b\b\b\b\b\b\b\b\b\b\b\b\b\b\b\b\b\b\b\b\b\b\b\b\b\b\b\b\b\b\b\b\b\b\b\b\b\b\b\b\b\b\b\b\b\b\b\b\b\b\b\b\b\b\b\b\b\b\b\b\b\b\b\b\b\b\b\b\b\b\b\b\b\b\b\b\b\b\b\b\b\b\b\b\b\b\b\b\b\b\b\b\b\b\b\b\b\b\b\b\b\b\b\b\b\b\b\r",
      " 41/267 [===>..........................] - ETA: 5s - loss: 0.7110 - accuracy: 0.0098 - binary_accuracy: 0.4833\b\b\b\b\b\b\b\b\b\b\b\b\b\b\b\b\b\b\b\b\b\b\b\b\b\b\b\b\b\b\b\b\b\b\b\b\b\b\b\b\b\b\b\b\b\b\b\b\b\b\b\b\b\b\b\b\b\b\b\b\b\b\b\b\b\b\b\b\b\b\b\b\b\b\b\b\b\b\b\b\b\b\b\b\b\b\b\b\b\b\b\b\b\b\b\b\b\b\b\b\b\b\b\b\b\b\b\b\b\b\r",
      "263/267 [============================>.] - ETA: 0s - loss: 0.5907 - accuracy: 0.0030 - binary_accuracy: 0.6987\b\b\b\b\b\b\b\b\b\b\b\b\b\b\b\b\b\b\b\b\b\b\b\b\b\b\b\b\b\b\b\b\b\b\b\b\b\b\b\b\b\b\b\b\b\b\b\b\b\b\b\b\b\b\b\b\b\b\b\b\b\b\b\b\b\b\b\b\b\b\b\b\b\b\b\b\b\b\b\b\b\b\b\b\b\b\b\b\b\b\b\b\b\b\b\b\b\b\b\b\b\b\b\b\b\b\b\b\b\b\r",
      "  9/134 [=>............................] - ETA: 1s - loss: 0.6871 - accuracy: 0.0444 - binary_accuracy: 0.5413\b\b\b\b\b\b\b\b\b\b\b\b\b\b\b\b\b\b\b\b\b\b\b\b\b\b\b\b\b\b\b\b\b\b\b\b\b\b\b\b\b\b\b\b\b\b\b\b\b\b\b\b\b\b\b\b\b\b\b\b\b\b\b\b\b\b\b\b\b\b\b\b\b\b\b\b\b\b\b\b\b\b\b\b\b\b\b\b\b\b\b\b\b\b\b\b\b\b\b\b\b\b\b\b\b\b\b\b\b\b\r",
      "251/267 [===========================>..] - ETA: 0s - loss: 0.5919 - accuracy: 0.0056 - binary_accuracy: 0.6989\b\b\b\b\b\b\b\b\b\b\b\b\b\b\b\b\b\b\b\b\b\b\b\b\b\b\b\b\b\b\b\b\b\b\b\b\b\b\b\b\b\b\b\b\b\b\b\b\b\b\b\b\b\b\b\b\b\b\b\b\b\b\b\b\b\b\b\b\b\b\b\b\b\b\b\b\b\b\b\b\b\b\b\b\b\b\b\b\b\b\b\b\b\b\b\b\b\b\b\b\b\b\b\b\b\b\b\b\b\b\b\b\b\b\r",
      " 34/267 [==>...........................] - ETA: 5s - loss: 0.7083 - accuracy: 0.0000e+00 - binary_accuracy: 0.4906\b\b\b\b\b\b\b\b\b\b\b\b\b\b\b\b\b\b\b\b\b\b\b\b\b\b\b\b\b\b\b\b\b\b\b\b\b\b\b\b\b\b\b\b\b\b\b\b\b\b\b\b\b\b\b\b\b\b\b\b\b\b\b\b\b\b\b\b\b\b\b\b\b\b\b\b\b\b\b\b\b\b\b\b\b\b\b\b\b\b\b\b\b\b\b\b\b\b\b\b\b\b\b\b\b\b\b\b\b\b\r",
      "266/267 [============================>.] - ETA: 0s - loss: 0.5900 - accuracy: 0.0030 - binary_accuracy: 0.6992\b\b\b\b\b\b\b\b\b\b\b\b\b\b\b\b\b\b\b\b\b\b\b\b\b\b\b\b\b\b\b\b\b\b\b\b\b\b\b\b\b\b\b\b\b\b\b\b\b\b\b\b\b\b\b\b\b\b\b\b\b\b\b\b\b\b\b\b\b\b\b\b\b\b\b\b\b\b\b\b\b\b\b\b\b\b\b\b\b\b\b\b\b\b\b\b\b\b\b\b\b\b\b\b\b\b\b\b\b\b\r",
      " 44/267 [===>..........................] - ETA: 5s - loss: 0.7107 - accuracy: 0.0091 - binary_accuracy: 0.4842"
     ]
    },
    {
     "name": "stderr",
     "output_type": "stream",
     "text": [
      "2021-12-15 01:39:45.138789: I tensorflow/core/grappler/optimizers/custom_graph_optimizer_registry.cc:112] Plugin optimizer for device_type GPU is enabled.\n"
     ]
    },
    {
     "name": "stdout",
     "output_type": "stream",
     "text": [
      "267/267 [==============================] - 7s 21ms/step - loss: 0.5898 - accuracy: 0.0030 - binary_accuracy: 0.6994\n",
      "267/267 [==============================] - 7s 21ms/step - loss: 0.5897 - accuracy: 0.0068 - binary_accuracy: 0.7005\n",
      "267/267 [==============================] - 7s 21ms/step - loss: 0.5952 - accuracy: 0.0075 - binary_accuracy: 0.6905\n",
      " 82/267 [========>.....................] - ETA: 3s - loss: 0.7056 - accuracy: 0.0073 - binary_accuracy: 0.4973[CV] END batch_size=5, dropout_rate=0, hidden_dim=256, n_epochs=100, n_hidden_layers=1, optimizer=adam, output_activation=sigmoid; total time=  10.6s\n",
      "[CV] END batch_size=5, dropout_rate=0, hidden_dim=256, n_epochs=250, n_hidden_layers=1, optimizer=adamax, output_activation=sigmoid; total time=   1.3s\n",
      "[CV] END batch_size=5, dropout_rate=0, hidden_dim=256, n_epochs=250, n_hidden_layers=1, optimizer=adamax, output_activation=sigmoid; total time=   2.1s\n",
      "  6/267 [..............................] - ETA: 2s - loss: 0.7008 - accuracy: 0.0000e+00 - binary_accuracy: 0.5099  "
     ]
    },
    {
     "name": "stderr",
     "output_type": "stream",
     "text": [
      "2021-12-15 01:39:46.090377: I tensorflow/core/grappler/optimizers/custom_graph_optimizer_registry.cc:112] Plugin optimizer for device_type GPU is enabled.\n",
      "2021-12-15 01:39:46.194011: I tensorflow/core/grappler/optimizers/custom_graph_optimizer_registry.cc:112] Plugin optimizer for device_type GPU is enabled.\n"
     ]
    },
    {
     "name": "stdout",
     "output_type": "stream",
     "text": [
      "120/134 [=========================>....] - ETA: 0s - loss: 0.6860 - accuracy: 0.0150 - binary_accuracy: 0.54590.6700"
     ]
    },
    {
     "name": "stderr",
     "output_type": "stream",
     "text": [
      "2021-12-15 01:39:46.431313: I tensorflow/core/grappler/optimizers/custom_graph_optimizer_registry.cc:112] Plugin optimizer for device_type GPU is enabled.\n"
     ]
    },
    {
     "name": "stdout",
     "output_type": "stream",
     "text": [
      "134/134 [==============================] - 2s 13ms/step - loss: 0.6858 - accuracy: 0.0135 - binary_accuracy: 0.5463\n",
      "134/134 [==============================] - 3s 17ms/step - loss: 0.5668 - accuracy: 0.0030 - binary_accuracy: 0.7101\n",
      "134/134 [==============================] - 3s 18ms/step - loss: 0.5738 - accuracy: 0.0075 - binary_accuracy: 0.7070\n",
      "222/267 [=======================>......] - ETA: 0s - loss: 0.6984 - accuracy: 0.0099 - binary_accuracy: 0.5128"
     ]
    },
    {
     "name": "stderr",
     "output_type": "stream",
     "text": [
      "2021-12-15 01:39:48.918581: I tensorflow/core/grappler/optimizers/custom_graph_optimizer_registry.cc:112] Plugin optimizer for device_type GPU is enabled.\n"
     ]
    },
    {
     "name": "stdout",
     "output_type": "stream",
     "text": [
      "134/134 [==============================] - 3s 19ms/step - loss: 0.5590 - accuracy: 0.0105 - binary_accuracy: 0.7277\n",
      "247/267 [==========================>...] - ETA: 0s - loss: 0.7000 - accuracy: 0.0162 - binary_accuracy: 0.5138[CV] END batch_size=5, dropout_rate=0, hidden_dim=256, n_epochs=250, n_hidden_layers=1, optimizer=SGD, output_activation=sigmoid; total time=  12.1s\n",
      "267/267 [==============================] - 8s 21ms/step - loss: 0.6989 - accuracy: 0.0158 - binary_accuracy: 0.5171\n",
      "267/267 [==============================] - 7s 20ms/step - loss: 0.6960 - accuracy: 0.0098 - binary_accuracy: 0.5182\n",
      "199/267 [=====================>........] - ETA: 1s - loss: 0.6925 - accuracy: 0.0312 - binary_accuracy: 0.5299"
     ]
    },
    {
     "name": "stderr",
     "output_type": "stream",
     "text": [
      "2021-12-15 01:39:49.797097: I tensorflow/core/grappler/optimizers/custom_graph_optimizer_registry.cc:112] Plugin optimizer for device_type GPU is enabled.\n",
      "2021-12-15 01:39:49.929706: I tensorflow/core/grappler/optimizers/custom_graph_optimizer_registry.cc:112] Plugin optimizer for device_type GPU is enabled.\n",
      "2021-12-15 01:39:49.958368: I tensorflow/core/grappler/optimizers/custom_graph_optimizer_registry.cc:112] Plugin optimizer for device_type GPU is enabled.\n"
     ]
    },
    {
     "name": "stdout",
     "output_type": "stream",
     "text": [
      "\b\b\b\b\b\b\b\b\b\b\b\b\b\b\b\b\b\b\b\b\b\b\b\b\b\b\b\b\b\b\b\b\b\b\b\b\b\b\b\b\b\b\b\b\b\b\b\b\b\b\b\b\b\b\b\b\b\b\b\b\b\b\b\b\b\b\b\b\b\b\b\b\b\b\b\b\b\b\b\b\b\b\b\b\b\b\b\b\b\b\b\b\b\b\b\b\b\b\b\b\b\b\b\b\b\b\b\b\b\b\r",
      " 41/267 [===>..........................] - ETA: 3s - loss: 0.6355 - accuracy: 0.0049 - binary_accuracy: 0.6401\b\b\b\b\b\b\b\b\b\b\b\b\b\b\b\b\b\b\b\b\b\b\b\b\b\b\b\b\b\b\b\b\b\b\b\b\b\b\b\b\b\b\b\b\b\b\b\b\b\b\b\b\b\b\b\b\b\b\b\b\b\b\b\b\b\b\b\b\b\b\b\b\b\b\b\b\b\b\b\b\b\b\b\b\b\b\b\b\b\b\b\b\b\b\b\b\b\b\b\b\b\b\b\b\b\b\b\b\b\b\r",
      "201/267 [=====================>........] - ETA: 1s - loss: 0.6924 - accuracy: 0.0328 - binary_accuracy: 0.5299\b\b\b\b\b\b\b\b\b\b\b\b\b\b\b\b\b\b\b\b\b\b\b\b\b\b\b\b\b\b\b\b\b\b\b\b\b\b\b\b\b\b\b\b\b\b\b\b\b\b\b\b\b\b\b\b\b\b\b\b\b\b\b\b\b\b\b\b\b\b\b\b\b\b\b\b\b\b\b\b\b\b\b\b\b\b\b\b\b\b\b\b\b\b\b\b\b\b\b\b\b\b\b\b\b\b\b\b\b\b\r",
      " 44/267 [===>..........................] - ETA: 3s - loss: 0.6325 - accuracy: 0.0045 - binary_accuracy: 0.6445\b\b\b\b\b\b\b\b\b\b\b\b\b\b\b\b\b\b\b\b\b\b\b\b\b\b\b\b\b\b\b\b\b\b\b\b\b\b\b\b\b\b\b\b\b\b\b\b\b\b\b\b\b\b\b\b\b\b\b\b\b\b\b\b\b\b\b\b\b\b\b\b\b\b\b\b\b\b\b\b\b\b\b\b\b\b\b\b\b\b\b\b\b\b\b\b\b\b\b\b\b\b\b\b\b\b\b\b\b\b\r",
      "204/267 [=====================>........] - ETA: 1s - loss: 0.6923 - accuracy: 0.0324 - binary_accuracy: 0.5304\r",
      "  1/134 [..............................] - ETA: 25s - loss: 0.6726 - accuracy: 0.0000e+00 - binary_accuracy: 0.5906\r",
      "  1/134 [..............................] - ETA: 39s - loss: 0.6942 - accuracy: 0.0000e+00 - binary_accuracy: 0.5500\b\b\b\b\b\b\b\b\b\b\b\b\b\b\b\b\b\b\b\b\b\b\b\b\b\b\b\b\b\b\b\b\b\b\b\b\b\b\b\b\b\b\b\b\b\b\b\b\b\b\b\b\b\b\b\b\b\b\b\b\b\b\b\b\b\b\b\b\b\b\b\b\b\b\b\b\b\b\b\b\b\b\b\b\b\b\b\b\b\b\b\b\b\b\b\b\b\b\b\b\b\b\b\b\b\b\b\b\b\b\r",
      " 47/267 [====>.........................] - ETA: 3s - loss: 0.6280 - accuracy: 0.0043 - binary_accuracy: 0.6511\b\b\b\b\b\b\b\b\b\b\b\b\b\b\b\b\b\b\b\b\b\b\b\b\b\b\b\b\b\b\b\b\b\b\b\b\b\b\b\b\b\b\b\b\b\b\b\b\b\b\b\b\b\b\b\b\b\b\b\b\b\b\b\b\b\b\b\b\b\b\b\b\b\b\b\b\b\b\b\b\b\b\b\b\b\b\b\b\b\b\b\b\b\b\b\b\b\b\b\b\b\b\b\b\b\b\b\b\b\b\b\b\b\b\b\r",
      "  4/134 [..............................] - ETA: 2s - loss: 0.6786 - accuracy: 0.0000e+00 - binary_accuracy: 0.5836 [CV] END batch_size=5, dropout_rate=0, hidden_dim=256, n_epochs=250, n_hidden_layers=1, optimizer=SGD, output_activation=sigmoid; total time=   8.4s\n",
      "\r",
      "  1/267 [..............................] - ETA: 7:33 - loss: 0.6700 - accuracy: 0.0000e+00 - binary_accuracy: 0.5688\b\b\b\b\b\b\b\b\b\b\b\b\b\b\b\b\b\b\b\b\b\b\b\b\b\b\b\b\b\b\b\b\b\b\b\b\b\b\b\b\b\b\b\b\b\b\b\b\b\b\b\b\b\b\b\b\b\b\b\b\b\b\b\b\b\b\b\b\b\b\b\b\b\b\b\b\b\b\b\b\b\b\b\b\b\b\b\b\b\b\b\b\b\b\b\b\b\b\b\b\b\b\b\b\b\b\b\b\b\b\r",
      "208/267 [======================>.......] - ETA: 1s - loss: 0.6922 - accuracy: 0.0317 - binary_accuracy: 0.5311\b\b\b\b\b\b\b\b\b\b\b\b\b\b\b\b\b\b\b\b\b\b\b\b\b\b\b\b\b\b\b\b\b\b\b\b\b\b\b\b\b\b\b\b\b\b\b\b\b\b\b\b\b\b\b\b\b\b\b\b\b\b\b\b\b\b\b\b\b\b\b\b\b\b\b\b\b\b\b\b\b\b\b\b\b\b\b\b\b\b\b\b\b\b\b\b\b\b\b\b\b\b\b\b\b\b\b\b\b\b\b\b\b\b\b\r",
      "  3/134 [..............................] - ETA: 4s - loss: 0.6857 - accuracy: 0.0000e+00 - binary_accuracy: 0.5510 \b\b\b\b\b\b\b\b\b\b\b\b\b\b\b\b\b\b\b\b\b\b\b\b\b\b\b\b\b\b\b\b\b\b\b\b\b\b\b\b\b\b\b\b\b\b\b\b\b\b\b\b\b\b\b\b\b\b\b\b\b\b\b\b\b\b\b\b\b\b\b\b\b\b\b\b\b\b\b\b\b\b\b\b\b\b\b\b\b\b\b\b\b\b\b\b\b\b\b\b\b\b\b\b\b\b\b\b\b\b\r",
      " 50/267 [====>.........................] - ETA: 3s - loss: 0.6272 - accuracy: 0.0040 - binary_accuracy: 0.6538\b\b\b\b\b\b\b\b\b\b\b\b\b\b\b\b\b\b\b\b\b\b\b\b\b\b\b\b\b\b\b\b\b\b\b\b\b\b\b\b\b\b\b\b\b\b\b\b\b\b\b\b\b\b\b\b\b\b\b\b\b\b\b\b\b\b\b\b\b\b\b\b\b\b\b\b\b\b\b\b\b\b\b\b\b\b\b\b\b\b\b\b\b\b\b\b\b\b\b\b\b\b\b\b\b\b\b\b\b\b\r",
      "211/267 [======================>.......] - ETA: 1s - loss: 0.6921 - accuracy: 0.0313 - binary_accuracy: 0.5310\b\b\b\b\b\b\b\b\b\b\b\b\b\b\b\b\b\b\b\b\b\b\b\b\b\b\b\b\b\b\b\b\b\b\b\b\b\b\b\b\b\b\b\b\b\b\b\b\b\b\b\b\b\b\b\b\b\b\b\b\b\b\b\b\b\b\b\b\b\b\b\b\b\b\b\b\b\b\b\b\b\b\b\b\b\b\b\b\b\b\b\b\b\b\b\b\b\b\b\b\b\b\b\b\b\b\b\b\b\b\b\b\b\b\b\b\r",
      "  3/267 [..............................] - ETA: 8s - loss: 0.6838 - accuracy: 0.0000e+00 - binary_accuracy: 0.5417  "
     ]
    },
    {
     "name": "stderr",
     "output_type": "stream",
     "text": [
      "2021-12-15 01:39:50.084784: I tensorflow/core/grappler/optimizers/custom_graph_optimizer_registry.cc:112] Plugin optimizer for device_type GPU is enabled.\n"
     ]
    },
    {
     "name": "stdout",
     "output_type": "stream",
     "text": [
      " 10/134 [=>............................] - ETA: 2s - loss: 0.6804 - accuracy: 0.0000e+00 - binary_accuracy: 0.5712[CV] END batch_size=5, dropout_rate=0, hidden_dim=256, n_epochs=250, n_hidden_layers=1, optimizer=adam, output_activation=sigmoid; total time=  10.2s\n",
      "267/267 [==============================] - 7s 21ms/step - loss: 0.6898 - accuracy: 0.0292 - binary_accuracy: 0.5378\n",
      "136/267 [==============>...............] - ETA: 2s - loss: 0.6064 - accuracy: 0.0074 - binary_accuracy: 0.6856"
     ]
    },
    {
     "name": "stderr",
     "output_type": "stream",
     "text": [
      "2021-12-15 01:39:52.252908: I tensorflow/core/grappler/optimizers/custom_graph_optimizer_registry.cc:112] Plugin optimizer for device_type GPU is enabled.\n"
     ]
    },
    {
     "name": "stdout",
     "output_type": "stream",
     "text": [
      "134/134 [==============================] - 2s 17ms/step - loss: 0.6830 - accuracy: 0.0090 - binary_accuracy: 0.5568\n",
      "134/134 [==============================] - 3s 17ms/step - loss: 0.6858 - accuracy: 0.0180 - binary_accuracy: 0.5554\n",
      "134/134 [==============================] - 2s 12ms/step - loss: 0.6781 - accuracy: 0.0195 - binary_accuracy: 0.5691\n",
      "267/267 [==============================] - 9s 20ms/step - loss: 0.5898 - accuracy: 0.0053 - binary_accuracy: 0.6996\n",
      "228/267 [========================>.....] - ETA: 0s - loss: 0.5990 - accuracy: 0.0018 - binary_accuracy: 0.6928"
     ]
    },
    {
     "name": "stderr",
     "output_type": "stream",
     "text": [
      "2021-12-15 01:39:54.436152: I tensorflow/core/grappler/optimizers/custom_graph_optimizer_registry.cc:112] Plugin optimizer for device_type GPU is enabled.\n",
      "2021-12-15 01:39:54.468990: I tensorflow/core/grappler/optimizers/custom_graph_optimizer_registry.cc:112] Plugin optimizer for device_type GPU is enabled.\n"
     ]
    },
    {
     "name": "stdout",
     "output_type": "stream",
     "text": [
      "[CV] END batch_size=5, dropout_rate=0, hidden_dim=256, n_epochs=250, n_hidden_layers=1, optimizer=adam, output_activation=sigmoid; total time=  10.2s\n",
      "[CV] END batch_size=5, dropout_rate=0, hidden_dim=256, n_epochs=500, n_hidden_layers=1, optimizer=adamax, output_activation=sigmoid; total time=   1.1s\n",
      "[CV] END batch_size=5, dropout_rate=0, hidden_dim=256, n_epochs=500, n_hidden_layers=1, optimizer=adamax, output_activation=sigmoid; total time=   1.8s\n",
      "\r",
      "  1/267 [..............................] - ETA: 8:38 - loss: 0.7007 - accuracy: 0.0000e+00 - binary_accuracy: 0.4906\b\b\b\b\b\b\b\b\b\b\b\b\b\b\b\b\b\b\b\b\b\b\b\b\b\b\b\b\b\b\b\b\b\b\b\b\b\b\b\b\b\b\b\b\b\b\b\b\b\b\b\b\b\b\b\b\b\b\b\b\b\b\b\b\b\b\b\b\b\b\b\b\b\b\b\b\b\b\b\b\b\b\b\b\b\b\b\b\b\b\b\b\b\b\b\b\b\b\b\b\b\b\b\b\b\b\b\b\b\b\r",
      "240/267 [=========================>....] - ETA: 0s - loss: 0.5897 - accuracy: 0.0050 - binary_accuracy: 0.7002\b\b\b\b\b\b\b\b\b\b\b\b\b\b\b\b\b\b\b\b\b\b\b\b\b\b\b\b\b\b\b\b\b\b\b\b\b\b\b\b\b\b\b\b\b\b\b\b\b\b\b\b\b\b\b\b\b\b\b\b\b\b\b\b\b\b\b\b\b\b\b\b\b\b\b\b\b\b\b\b\b\b\b\b\b\b\b\b\b\b\b\b\b\b\b\b\b\b\b\b\b\b\b\b\b\b\b\b\b\b\r",
      "232/267 [=========================>....] - ETA: 0s - loss: 0.5983 - accuracy: 0.0017 - binary_accuracy: 0.6934\b\b\b\b\b\b\b\b\b\b\b\b\b\b\b\b\b\b\b\b\b\b\b\b\b\b\b\b\b\b\b\b\b\b\b\b\b\b\b\b\b\b\b\b\b\b\b\b\b\b\b\b\b\b\b\b\b\b\b\b\b\b\b\b\b\b\b\b\b\b\b\b\b\b\b\b\b\b\b\b\b\b\b\b\b\b\b\b\b\b\b\b\b\b\b\b\b\b\b\b\b\b\b\b\b\b\b\b\b\b\b\b\b\b\b\b\r",
      "  5/267 [..............................] - ETA: 3s - loss: 0.7103 - accuracy: 0.0400 - binary_accuracy: 0.5056      \b\b\b\b\b\b\b\b\b\b\b\b\b\b\b\b\b\b\b\b\b\b\b\b\b\b\b\b\b\b\b\b\b\b\b\b\b\b\b\b\b\b\b\b\b\b\b\b\b\b\b\b\b\b\b\b\b\b\b\b\b\b\b\b\b\b\b\b\b\b\b\b\b\b\b\b\b\b\b\b\b\b\b\b\b\b\b\b\b\b\b\b\b\b\b\b\b\b\b\b\b\b\b\b\b\b\b\b\b\b\r",
      "244/267 [==========================>...] - ETA: 0s - loss: 0.5900 - accuracy: 0.0049 - binary_accuracy: 0.6996\b\b\b\b\b\b\b\b\b\b\b\b\b\b\b\b\b\b\b\b\b\b\b\b\b\b\b\b\b\b\b\b\b\b\b\b\b\b\b\b\b\b\b\b\b\b\b\b\b\b\b\b\b\b\b\b\b\b\b\b\b\b\b\b\b\b\b\b\b\b\b\b\b\b\b\b\b\b\b\b\b\b\b\b\b\b\b\b\b\b\b\b\b\b\b\b\b\b\b\b\b\b\b\b\b\b\b\b\b\b\r",
      "236/267 [=========================>....] - ETA: 0s - loss: 0.5973 - accuracy: 0.0017 - binary_accuracy: 0.6941\b\b\b\b\b\b\b\b\b\b\b\b\b\b\b\b\b\b\b\b\b\b\b\b\b\b\b\b\b\b\b\b\b\b\b\b\b\b\b\b\b\b\b\b\b\b\b\b\b\b\b\b\b\b\b\b\b\b\b\b\b\b\b\b\b\b\b\b\b\b\b\b\b\b\b\b\b\b\b\b\b\b\b\b\b\b\b\b\b\b\b\b\b\b\b\b\b\b\b\b\b\b\b\b\b\b\b\b\b\b\r",
      " 10/267 [>.............................] - ETA: 3s - loss: 0.7125 - accuracy: 0.0200 - binary_accuracy: 0.4988\b\b\b\b\b\b\b\b\b\b\b\b\b\b\b\b\b\b\b\b\b\b\b\b\b\b\b\b\b\b\b\b\b\b\b\b\b\b\b\b\b\b\b\b\b\b\b\b\b\b\b\b\b\b\b\b\b\b\b\b\b\b\b\b\b\b\b\b\b\b\b\b\b\b\b\b\b\b\b\b\b\b\b\b\b\b\b\b\b\b\b\b\b\b\b\b\b\b\b\b\b\b\b\b\b\b\b\b\b\b\r",
      "249/267 [==========================>...] - ETA: 0s - loss: 0.5888 - accuracy: 0.0048 - binary_accuracy: 0.7013\b\b\b\b\b\b\b\b\b\b\b\b\b\b\b\b\b\b\b\b\b\b\b\b\b\b\b\b\b\b\b\b\b\b\b\b\b\b\b\b\b\b\b\b\b\b\b\b\b\b\b\b\b\b\b\b\b\b\b\b\b\b\b\b\b\b\b\b\b\b\b\b\b\b\b\b\b\b\b\b\b\b\b\b\b\b\b\b\b\b\b\b\b\b\b\b\b\b\b\b\b\b\b\b\b\b\b\b\b\b\r",
      "240/267 [=========================>....] - ETA: 0s - loss: 0.5968 - accuracy: 0.0017 - binary_accuracy: 0.6942\b\b\b\b\b\b\b\b\b\b\b\b\b\b\b\b\b\b\b\b\b\b\b\b\b\b\b\b\b\b\b\b\b\b\b\b\b\b\b\b\b\b\b\b\b\b\b\b\b\b\b\b\b\b\b\b\b\b\b\b\b\b\b\b\b\b\b\b\b\b\b\b\b\b\b\b\b\b\b\b\b\b\b\b\b\b\b\b\b\b\b\b\b\b\b\b\b\b\b\b\b\b\b\b\b\b\b\b\b\b\r",
      " 13/267 [>.............................] - ETA: 3s - loss: 0.7128 - accuracy: 0.0154 - binary_accuracy: 0.4988\b\b\b\b\b\b\b\b\b\b\b\b\b\b\b\b\b\b\b\b\b\b\b\b\b\b\b\b\b\b\b\b\b\b\b\b\b\b\b\b\b\b\b\b\b\b\b\b\b\b\b\b\b\b\b\b\b\b\b\b\b\b\b\b\b\b\b\b\b\b\b\b\b\b\b\b\b\b\b\b\b\b\b\b\b\b\b\b\b\b\b\b\b\b\b\b\b\b\b\b\b\b\b\b\b\b\b\b\b\b\r",
      "253/267 [===========================>..] - ETA: 0s - loss: 0.5886 - accuracy: 0.0047 - binary_accuracy: 0.7013\b\b\b\b\b\b\b\b\b\b\b\b\b\b\b\b\b\b\b\b\b\b\b\b\b\b\b\b\b\b\b\b\b\b\b\b\b\b\b\b\b\b\b\b\b\b\b\b\b\b\b\b\b\b\b\b\b\b\b\b\b\b\b\b\b\b\b\b\b\b\b\b\b\b\b\b\b\b\b\b\b\b\b\b\b\b\b\b\b\b\b\b\b\b\b\b\b\b\b\b\b\b\b\b\b\b\b\b\b\b\r",
      "244/267 [==========================>...] - ETA: 0s - loss: 0.5960 - accuracy: 0.0016 - binary_accuracy: 0.6950"
     ]
    },
    {
     "name": "stderr",
     "output_type": "stream",
     "text": [
      "2021-12-15 01:39:54.799749: I tensorflow/core/grappler/optimizers/custom_graph_optimizer_registry.cc:112] Plugin optimizer for device_type GPU is enabled.\n",
      "2021-12-15 01:39:54.889852: I tensorflow/core/grappler/optimizers/custom_graph_optimizer_registry.cc:112] Plugin optimizer for device_type GPU is enabled.\n"
     ]
    },
    {
     "name": "stdout",
     "output_type": "stream",
     "text": [
      "248/267 [==========================>...] - ETA: 0s - loss: 0.5958 - accuracy: 0.0016 - binary_accuracy: 0.6946[CV] END batch_size=5, dropout_rate=0, hidden_dim=256, n_epochs=500, n_hidden_layers=1, optimizer=SGD, output_activation=sigmoid; total time=  11.0s\n",
      "267/267 [==============================] - 7s 19ms/step - loss: 0.5880 - accuracy: 0.0053 - binary_accuracy: 0.7020\n",
      "267/267 [==============================] - 6s 19ms/step - loss: 0.5947 - accuracy: 0.0015 - binary_accuracy: 0.6954\n",
      " 35/267 [==>...........................] - ETA: 3s - loss: 0.7027 - accuracy: 0.0229 - binary_accuracy: 0.5127"
     ]
    },
    {
     "name": "stderr",
     "output_type": "stream",
     "text": [
      "2021-12-15 01:39:55.346698: I tensorflow/core/grappler/optimizers/custom_graph_optimizer_registry.cc:112] Plugin optimizer for device_type GPU is enabled.\n"
     ]
    },
    {
     "name": "stdout",
     "output_type": "stream",
     "text": [
      " 39/267 [===>..........................] - ETA: 3s - loss: 0.7024 - accuracy: 0.0256 - binary_accuracy: 0.5149[CV] END batch_size=5, dropout_rate=0, hidden_dim=256, n_epochs=500, n_hidden_layers=1, optimizer=SGD, output_activation=sigmoid; total time=   9.7s\n",
      " 36/267 [===>..........................] - ETA: 3s - loss: 0.7061 - accuracy: 0.0111 - binary_accuracy: 0.4950714"
     ]
    },
    {
     "name": "stderr",
     "output_type": "stream",
     "text": [
      "2021-12-15 01:39:56.047542: I tensorflow/core/grappler/optimizers/custom_graph_optimizer_registry.cc:112] Plugin optimizer for device_type GPU is enabled.\n",
      "2021-12-15 01:39:56.230139: I tensorflow/core/grappler/optimizers/custom_graph_optimizer_registry.cc:112] Plugin optimizer for device_type GPU is enabled.\n"
     ]
    },
    {
     "name": "stdout",
     "output_type": "stream",
     "text": [
      "134/134 [==============================] - 2s 13ms/step - loss: 0.5693 - accuracy: 0.0060 - binary_accuracy: 0.7098\n",
      " 79/267 [=======>......................] - ETA: 3s - loss: 0.7031 - accuracy: 0.0127 - binary_accuracy: 0.5066[CV] END batch_size=5, dropout_rate=0, hidden_dim=256, n_epochs=250, n_hidden_layers=1, optimizer=adam, output_activation=sigmoid; total time=  12.4s\n",
      "[CV] END batch_size=5, dropout_rate=0, hidden_dim=256, n_epochs=500, n_hidden_layers=1, optimizer=adamax, output_activation=sigmoid; total time=   1.2s\n",
      "128/134 [===========================>..] - ETA: 0s - loss: 0.5756 - accuracy: 0.0078 - binary_accuracy: 0.7059 "
     ]
    },
    {
     "name": "stderr",
     "output_type": "stream",
     "text": [
      "2021-12-15 01:39:57.419621: I tensorflow/core/grappler/optimizers/custom_graph_optimizer_registry.cc:112] Plugin optimizer for device_type GPU is enabled.\n"
     ]
    },
    {
     "name": "stdout",
     "output_type": "stream",
     "text": [
      "134/134 [==============================] - 3s 16ms/step - loss: 0.5753 - accuracy: 0.0075 - binary_accuracy: 0.7065\n",
      "163/267 [=================>............] - ETA: 2s - loss: 0.6959 - accuracy: 0.0417 - binary_accuracy: 0.5248[CV] END batch_size=5, dropout_rate=0, hidden_dim=256, n_epochs=500, n_hidden_layers=1, optimizer=SGD, output_activation=sigmoid; total time=   9.9s\n",
      "134/134 [==============================] - 3s 19ms/step - loss: 0.5588 - accuracy: 0.0105 - binary_accuracy: 0.7286\n",
      " 62/267 [=====>........................] - ETA: 4s - loss: 0.6230 - accuracy: 0.0097 - binary_accuracy: 0.6658"
     ]
    },
    {
     "name": "stderr",
     "output_type": "stream",
     "text": [
      "2021-12-15 01:39:59.345391: I tensorflow/core/grappler/optimizers/custom_graph_optimizer_registry.cc:112] Plugin optimizer for device_type GPU is enabled.\n"
     ]
    },
    {
     "name": "stdout",
     "output_type": "stream",
     "text": [
      "267/267 [==============================] - 7s 20ms/step - loss: 0.6911 - accuracy: 0.0398 - binary_accuracy: 0.5366\n",
      "267/267 [==============================] - 7s 21ms/step - loss: 0.7003 - accuracy: 0.0143 - binary_accuracy: 0.5170\n",
      "[CV] END batch_size=5, dropout_rate=0, hidden_dim=256, n_epochs=500, n_hidden_layers=1, optimizer=adam, output_activation=sigmoid; total time=  11.7s\n",
      "183/267 [===================>..........] - ETA: 1s - loss: 0.5973 - accuracy: 0.0066 - binary_accuracy: 0.6982  "
     ]
    },
    {
     "name": "stderr",
     "output_type": "stream",
     "text": [
      "2021-12-15 01:40:00.719932: I tensorflow/core/grappler/optimizers/custom_graph_optimizer_registry.cc:112] Plugin optimizer for device_type GPU is enabled.\n",
      "2021-12-15 01:40:00.800484: I tensorflow/core/grappler/optimizers/custom_graph_optimizer_registry.cc:112] Plugin optimizer for device_type GPU is enabled.\n"
     ]
    },
    {
     "name": "stdout",
     "output_type": "stream",
     "text": [
      "267/267 [==============================] - 8s 20ms/step - loss: 0.6948 - accuracy: 0.0060 - binary_accuracy: 0.5271\n",
      " 41/134 [========>.....................] - ETA: 1s - loss: 0.6875 - accuracy: 0.0146 - binary_accuracy: 0.5491"
     ]
    },
    {
     "name": "stderr",
     "output_type": "stream",
     "text": [
      "2021-12-15 01:40:01.427456: I tensorflow/core/grappler/optimizers/custom_graph_optimizer_registry.cc:112] Plugin optimizer for device_type GPU is enabled.\n"
     ]
    },
    {
     "name": "stdout",
     "output_type": "stream",
     "text": [
      "267/267 [==============================] - 8s 21ms/step - loss: 0.5927 - accuracy: 0.0053 - binary_accuracy: 0.7001\n",
      "134/134 [==============================] - 3s 16ms/step - loss: 0.6806 - accuracy: 0.0270 - binary_accuracy: 0.5617\n",
      "134/134 [==============================] - 3s 15ms/step - loss: 0.6881 - accuracy: 0.0165 - binary_accuracy: 0.5458\n",
      "256/267 [===========================>..] - ETA: 0s - loss: 0.5908 - accuracy: 0.0070 - binary_accuracy: 0.6993"
     ]
    },
    {
     "name": "stderr",
     "output_type": "stream",
     "text": [
      "2021-12-15 01:40:03.037876: I tensorflow/core/grappler/optimizers/custom_graph_optimizer_registry.cc:112] Plugin optimizer for device_type GPU is enabled.\n"
     ]
    },
    {
     "name": "stdout",
     "output_type": "stream",
     "text": [
      "267/267 [==============================] - 9s 20ms/step - loss: 0.5898 - accuracy: 0.0075 - binary_accuracy: 0.7004\n",
      "134/134 [==============================] - 3s 14ms/step - loss: 0.6829 - accuracy: 0.0045 - binary_accuracy: 0.5566\n",
      "190/267 [====================>.........] - ETA: 1s - loss: 0.6018 - accuracy: 0.0032 - binary_accuracy: 0.6853"
     ]
    },
    {
     "name": "stderr",
     "output_type": "stream",
     "text": [
      "2021-12-15 01:40:03.678252: I tensorflow/core/grappler/optimizers/custom_graph_optimizer_registry.cc:112] Plugin optimizer for device_type GPU is enabled.\n"
     ]
    },
    {
     "name": "stdout",
     "output_type": "stream",
     "text": [
      "226/267 [========================>.....] - ETA: 0s - loss: 0.5977 - accuracy: 0.0035 - binary_accuracy: 0.689471"
     ]
    },
    {
     "name": "stderr",
     "output_type": "stream",
     "text": [
      "2021-12-15 01:40:04.300259: I tensorflow/core/grappler/optimizers/custom_graph_optimizer_registry.cc:112] Plugin optimizer for device_type GPU is enabled.\n",
      "2021-12-15 01:40:04.334057: I tensorflow/core/grappler/optimizers/custom_graph_optimizer_registry.cc:112] Plugin optimizer for device_type GPU is enabled.\n"
     ]
    },
    {
     "name": "stdout",
     "output_type": "stream",
     "text": [
      " 58/134 [===========>..................] - ETA: 0s - loss: 0.5690 - accuracy: 0.0103 - binary_accuracy: 0.7118[CV] END batch_size=5, dropout_rate=0, hidden_dim=256, n_epochs=750, n_hidden_layers=1, optimizer=SGD, output_activation=sigmoid; total time=  10.4s\n",
      "134/134 [==============================] - 2s 10ms/step - loss: 0.5693 - accuracy: 0.0090 - binary_accuracy: 0.7117\n",
      " 81/134 [=================>............] - ETA: 0s - loss: 0.5727 - accuracy: 0.0074 - binary_accuracy: 0.7103[CV] END batch_size=5, dropout_rate=0, hidden_dim=256, n_epochs=500, n_hidden_layers=1, optimizer=adam, output_activation=sigmoid; total time=   9.7s\n",
      "[CV] END batch_size=5, dropout_rate=0, hidden_dim=256, n_epochs=750, n_hidden_layers=1, optimizer=adamax, output_activation=sigmoid; total time=   2.5s\n",
      "17/67 [======>.......................] - ETA: 0s - loss: 0.7008 - accuracy: 0.0265 - binary_accuracy: 0.50764881"
     ]
    },
    {
     "name": "stderr",
     "output_type": "stream",
     "text": [
      "2021-12-15 01:40:04.683965: I tensorflow/core/grappler/optimizers/custom_graph_optimizer_registry.cc:112] Plugin optimizer for device_type GPU is enabled.\n"
     ]
    },
    {
     "name": "stdout",
     "output_type": "stream",
     "text": [
      "267/267 [==============================] - 8s 19ms/step - loss: 0.5942 - accuracy: 0.0030 - binary_accuracy: 0.6914\n",
      "30/67 [============>.................] - ETA: 0s - loss: 0.7046 - accuracy: 0.0050 - binary_accuracy: 0.4936"
     ]
    },
    {
     "name": "stderr",
     "output_type": "stream",
     "text": [
      "2021-12-15 01:40:05.240458: I tensorflow/core/grappler/optimizers/custom_graph_optimizer_registry.cc:112] Plugin optimizer for device_type GPU is enabled.\n",
      "2021-12-15 01:40:05.367491: I tensorflow/core/grappler/optimizers/custom_graph_optimizer_registry.cc:112] Plugin optimizer for device_type GPU is enabled.\n"
     ]
    },
    {
     "name": "stdout",
     "output_type": "stream",
     "text": [
      "[CV] END batch_size=5, dropout_rate=0, hidden_dim=256, n_epochs=500, n_hidden_layers=1, optimizer=adam, output_activation=sigmoid; total time=   9.9s\n",
      "[CV] END batch_size=5, dropout_rate=0, hidden_dim=256, n_epochs=750, n_hidden_layers=1, optimizer=adamax, output_activation=sigmoid; total time=   2.8s\n",
      "[CV] END batch_size=5, dropout_rate=0, hidden_dim=256, n_epochs=750, n_hidden_layers=1, optimizer=adamax, output_activation=sigmoid; total time=   1.0s\n",
      "134/134 [==============================] - 2s 11ms/step - loss: 0.5738 - accuracy: 0.0150 - binary_accuracy: 0.7093\n",
      " 17/134 [==>...........................] - ETA: 1s - loss: 0.5752 - accuracy: 0.0118 - binary_accuracy: 0.7105    "
     ]
    },
    {
     "name": "stderr",
     "output_type": "stream",
     "text": [
      "2021-12-15 01:40:05.573275: I tensorflow/core/grappler/optimizers/custom_graph_optimizer_registry.cc:112] Plugin optimizer for device_type GPU is enabled.\n"
     ]
    },
    {
     "name": "stdout",
     "output_type": "stream",
     "text": [
      "67/67 [==============================] - 2s 20ms/step - loss: 0.6981 - accuracy: 0.0255 - binary_accuracy: 0.5130\n",
      " 40/134 [=======>......................] - ETA: 1s - loss: 0.5660 - accuracy: 0.0100 - binary_accuracy: 0.7230[CV] END batch_size=5, dropout_rate=0, hidden_dim=256, n_epochs=750, n_hidden_layers=1, optimizer=SGD, output_activation=sigmoid; total time=  10.7s\n",
      "67/67 [==============================] - 2s 19ms/step - loss: 0.7024 - accuracy: 0.0045 - binary_accuracy: 0.5006\n",
      "51/67 [=====================>........] - ETA: 0s - loss: 0.7170 - accuracy: 0.0412 - binary_accuracy: 0.4686"
     ]
    },
    {
     "name": "stderr",
     "output_type": "stream",
     "text": [
      "2021-12-15 01:40:06.058875: I tensorflow/core/grappler/optimizers/custom_graph_optimizer_registry.cc:112] Plugin optimizer for device_type GPU is enabled.\n"
     ]
    },
    {
     "name": "stdout",
     "output_type": "stream",
     "text": [
      " 1/34 [..............................] - ETA: 9s - loss: 0.6933 - accuracy: 0.0000e+00 - binary_accuracy: 0.5180[CV] END batch_size=5, dropout_rate=0, hidden_dim=256, n_epochs=750, n_hidden_layers=1, optimizer=SGD, output_activation=sigmoid; total time=  10.9s\n",
      "67/67 [==============================] - 3s 20ms/step - loss: 0.7154 - accuracy: 0.0390 - binary_accuracy: 0.4724\n",
      "47/67 [====================>.........] - ETA: 0s - loss: 0.6199 - accuracy: 0.0138 - binary_accuracy: 0.6693"
     ]
    },
    {
     "name": "stderr",
     "output_type": "stream",
     "text": [
      "2021-12-15 01:40:06.758613: I tensorflow/core/grappler/optimizers/custom_graph_optimizer_registry.cc:112] Plugin optimizer for device_type GPU is enabled.\n"
     ]
    },
    {
     "name": "stdout",
     "output_type": "stream",
     "text": [
      "34/34 [==============================] - 1s 19ms/step - loss: 0.6955 - accuracy: 0.0165 - binary_accuracy: 0.5210\n",
      "134/134 [==============================] - 2s 11ms/step - loss: 0.5594 - accuracy: 0.0090 - binary_accuracy: 0.7287\n",
      "67/67 [==============================] - 3s 18ms/step - loss: 0.6114 - accuracy: 0.0120 - binary_accuracy: 0.6816\n",
      "58/67 [========================>.....] - ETA: 0s - loss: 0.6116 - accuracy: 0.0052 - binary_accuracy: 0.6807[CV] END batch_size=5, dropout_rate=0, hidden_dim=256, n_epochs=750, n_hidden_layers=1, optimizer=adam, output_activation=sigmoid; total time=  10.4s\n",
      " 1/34 [..............................] - ETA: 7s - loss: 0.7009 - accuracy: 0.0000e+00 - binary_accuracy: 0.5094"
     ]
    },
    {
     "name": "stderr",
     "output_type": "stream",
     "text": [
      "2021-12-15 01:40:07.247118: I tensorflow/core/grappler/optimizers/custom_graph_optimizer_registry.cc:112] Plugin optimizer for device_type GPU is enabled.\n",
      "2021-12-15 01:40:07.253890: I tensorflow/core/grappler/optimizers/custom_graph_optimizer_registry.cc:112] Plugin optimizer for device_type GPU is enabled.\n"
     ]
    },
    {
     "name": "stdout",
     "output_type": "stream",
     "text": [
      "67/67 [==============================] - 4s 21ms/step - loss: 0.6088 - accuracy: 0.0053 - binary_accuracy: 0.6836\n",
      "34/34 [==============================] - 1s 12ms/step - loss: 0.6985 - accuracy: 0.0090 - binary_accuracy: 0.5110\n",
      "34/34 [==============================] - 1s 14ms/step - loss: 0.5874 - accuracy: 0.0015 - binary_accuracy: 0.7006\n"
     ]
    },
    {
     "name": "stderr",
     "output_type": "stream",
     "text": [
      "2021-12-15 01:40:07.771829: I tensorflow/core/grappler/optimizers/custom_graph_optimizer_registry.cc:112] Plugin optimizer for device_type GPU is enabled.\n",
      "2021-12-15 01:40:07.832150: I tensorflow/core/grappler/optimizers/custom_graph_optimizer_registry.cc:112] Plugin optimizer for device_type GPU is enabled.\n"
     ]
    },
    {
     "name": "stdout",
     "output_type": "stream",
     "text": [
      "34/34 [==============================] - 1s 11ms/step - loss: 0.7122 - accuracy: 0.0195 - binary_accuracy: 0.4765\n",
      "34/34 [==============================] - 1s 10ms/step - loss: 0.5928 - accuracy: 0.0180 - binary_accuracy: 0.7001\n",
      "62/67 [==========================>...] - ETA: 0s - loss: 0.6126 - accuracy: 0.0048 - binary_accuracy: 0.6743"
     ]
    },
    {
     "name": "stderr",
     "output_type": "stream",
     "text": [
      "2021-12-15 01:40:08.562039: I tensorflow/core/grappler/optimizers/custom_graph_optimizer_registry.cc:112] Plugin optimizer for device_type GPU is enabled.\n",
      "2021-12-15 01:40:08.689208: I tensorflow/core/grappler/optimizers/custom_graph_optimizer_registry.cc:112] Plugin optimizer for device_type GPU is enabled.\n",
      "2021-12-15 01:40:08.695461: I tensorflow/core/grappler/optimizers/custom_graph_optimizer_registry.cc:112] Plugin optimizer for device_type GPU is enabled.\n",
      "2021-12-15 01:40:08.699390: I tensorflow/core/grappler/optimizers/custom_graph_optimizer_registry.cc:112] Plugin optimizer for device_type GPU is enabled.\n"
     ]
    },
    {
     "name": "stdout",
     "output_type": "stream",
     "text": [
      "67/67 [==============================] - 3s 21ms/step - loss: 0.6114 - accuracy: 0.0052 - binary_accuracy: 0.6761\n",
      "[CV] END batch_size=20, dropout_rate=0, hidden_dim=256, n_epochs=100, n_hidden_layers=1, optimizer=SGD, output_activation=sigmoid; total time=   4.6s\n",
      " 8/34 [======>.......................] - ETA: 0s - loss: 0.5855 - accuracy: 0.0000e+00 - binary_accuracy: 0.7171[CV] END batch_size=20, dropout_rate=0, hidden_dim=256, n_epochs=100, n_hidden_layers=1, optimizer=adam, output_activation=sigmoid; total time=   4.0s\n",
      "11/67 [===>..........................] - ETA: 0s - loss: 0.6973 - accuracy: 0.0182 - binary_accuracy: 0.5163[CV] END batch_size=5, dropout_rate=0, hidden_dim=256, n_epochs=750, n_hidden_layers=1, optimizer=adam, output_activation=sigmoid; total time=  10.4s\n",
      "34/34 [==============================] - 1s 10ms/step - loss: 0.5800 - accuracy: 0.0060 - binary_accuracy: 0.7200\n",
      "42/67 [=================>............] - ETA: 0s - loss: 0.7129 - accuracy: 0.0190 - binary_accuracy: 0.4820"
     ]
    },
    {
     "name": "stderr",
     "output_type": "stream",
     "text": [
      "2021-12-15 01:40:09.235901: I tensorflow/core/grappler/optimizers/custom_graph_optimizer_registry.cc:112] Plugin optimizer for device_type GPU is enabled.\n"
     ]
    },
    {
     "name": "stdout",
     "output_type": "stream",
     "text": [
      "\b\b\b\b\b\b\b\b\b\b\b\b\b\b\b\b\b\b\b\b\b\b\b\b\b\b\b\b\b\b\b\b\b\b\b\b\b\b\b\b\b\b\b\b\b\b\b\b\b\b\b\b\b\b\b\b\b\b\b\b\b\b\b\b\b\b\b\b\b\b\b\b\b\b\b\b\b\b\b\b\b\b\b\b\b\b\b\b\b\b\b\b\b\b\b\b\b\b\b\b\b\b\b\b\b\b\b\b\r",
      "32/67 [=============>................] - ETA: 0s - loss: 0.6962 - accuracy: 0.0203 - binary_accuracy: 0.5193\b\b\b\b\b\b\b\b\b\b\b\b\b\b\b\b\b\b\b\b\b\b\b\b\b\b\b\b\b\b\b\b\b\b\b\b\b\b\b\b\b\b\b\b\b\b\b\b\b\b\b\b\b\b\b\b\b\b\b\b\b\b\b\b\b\b\b\b\b\b\b\b\b\b\b\b\b\b\b\b\b\b\b\b\b\b\b\b\b\b\b\b\b\b\b\b\b\b\b\b\b\b\b\b\b\b\b\b\r",
      "46/67 [===================>..........] - ETA: 0s - loss: 0.7126 - accuracy: 0.0196 - binary_accuracy: 0.4828\b\b\b\b\b\b\b\b\b\b\b\b\b\b\b\b\b\b\b\b\b\b\b\b\b\b\b\b\b\b\b\b\b\b\b\b\b\b\b\b\b\b\b\b\b\b\b\b\b\b\b\b\b\b\b\b\b\b\b\b\b\b\b\b\b\b\b\b\b\b\b\b\b\b\b\b\b\b\b\b\b\b\b\b\b\b\b\b\b\b\b\b\b\b\b\b\b\b\b\b\b\b\b\b\b\b\b\b\r",
      "22/67 [========>.....................] - ETA: 0s - loss: 0.7012 - accuracy: 0.0091 - binary_accuracy: 0.5051\b\b\b\b\b\b\b\b\b\b\b\b\b\b\b\b\b\b\b\b\b\b\b\b\b\b\b\b\b\b\b\b\b\b\b\b\b\b\b\b\b\b\b\b\b\b\b\b\b\b\b\b\b\b\b\b\b\b\b\b\b\b\b\b\b\b\b\b\b\b\b\b\b\b\b\b\b\b\b\b\b\b\b\b\b\b\b\b\b\b\b\b\b\b\b\b\b\b\b\b\b\b\b\b\b\b\b\b\r",
      "35/67 [==============>...............] - ETA: 0s - loss: 0.6958 - accuracy: 0.0214 - binary_accuracy: 0.5204\b\b\b\b\b\b\b\b\b\b\b\b\b\b\b\b\b\b\b\b\b\b\b\b\b\b\b\b\b\b\b\b\b\b\b\b\b\b\b\b\b\b\b\b\b\b\b\b\b\b\b\b\b\b\b\b\b\b\b\b\b\b\b\b\b\b\b\b\b\b\b\b\b\b\b\b\b\b\b\b\b\b\b\b\b\b\b\b\b\b\b\b\b\b\b\b\b\b\b\b\b\b\b\b\b\b\b\b\r",
      "49/67 [====================>.........] - ETA: 0s - loss: 0.7123 - accuracy: 0.0194 - binary_accuracy: 0.4831\b\b\b\b\b\b\b\b\b\b\b\b\b\b\b\b\b\b\b\b\b\b\b\b\b\b\b\b\b\b\b\b\b\b\b\b\b\b\b\b\b\b\b\b\b\b\b\b\b\b\b\b\b\b\b\b\b\b\b\b\b\b\b\b\b\b\b\b\b\b\b\b\b\b\b\b\b\b\b\b\b\b\b\b\b\b\b\b\b\b\b\b\b\b\b\b\b\b\b\b\b\b\b\b\b\b\b\b\r",
      "24/67 [=========>....................] - ETA: 0s - loss: 0.7007 - accuracy: 0.0104 - binary_accuracy: 0.5053\b\b\b\b\b\b\b\b\b\b\b\b\b\b\b\b\b\b\b\b\b\b\b\b\b\b\b\b\b\b\b\b\b\b\b\b\b\b\b\b\b\b\b\b\b\b\b\b\b\b\b\b\b\b\b\b\b\b\b\b\b\b\b\b\b\b\b\b\b\b\b\b\b\b\b\b\b\b\b\b\b\b\b\b\b\b\b\b\b\b\b\b\b\b\b\b\b\b\b\b\b\b\b\b\b\b\b\b\r",
      "37/67 [===============>..............] - ETA: 0s - loss: 0.6957 - accuracy: 0.0203 - binary_accuracy: 0.5207\b\b\b\b\b\b\b\b\b\b\b\b\b\b\b\b\b\b\b\b\b\b\b\b\b\b\b\b\b\b\b\b\b\b\b\b\b\b\b\b\b\b\b\b\b\b\b\b\b\b\b\b\b\b\b\b\b\b\b\b\b\b\b\b\b\b\b\b\b\b\b\b\b\b\b\b\b\b\b\b\b\b\b\b\b\b\b\b\b\b\b\b\b\b\b\b\b\b\b\b\b\b\b\b\b\b\b\b\r",
      "26/67 [==========>...................] - ETA: 0s - loss: 0.7006 - accuracy: 0.0096 - binary_accuracy: 0.5047\b\b\b\b\b\b\b\b\b\b\b\b\b\b\b\b\b\b\b\b\b\b\b\b\b\b\b\b\b\b\b\b\b\b\b\b\b\b\b\b\b\b\b\b\b\b\b\b\b\b\b\b\b\b\b\b\b\b\b\b\b\b\b\b\b\b\b\b\b\b\b\b\b\b\b\b\b\b\b\b\b\b\b\b\b\b\b\b\b\b\b\b\b\b\b\b\b\b\b\b\b\b\b\b\b\b\b\b\r",
      "52/67 [======================>.......] - ETA: 0s - loss: 0.7119 - accuracy: 0.0202 - binary_accuracy: 0.4838\b\b\b\b\b\b\b\b\b\b\b\b\b\b\b\b\b\b\b\b\b\b\b\b\b\b\b\b\b\b\b\b\b\b\b\b\b\b\b\b\b\b\b\b\b\b\b\b\b\b\b\b\b\b\b\b\b\b\b\b\b\b\b\b\b\b\b\b\b\b\b\b\b\b\b\b\b\b\b\b\b\b\b\b\b\b\b\b\b\b\b\b\b\b\b\b\b\b\b\b\b\b\b\b\b\b\b\b\r",
      "40/67 [================>.............] - ETA: 0s - loss: 0.6957 - accuracy: 0.0213 - binary_accuracy: 0.5211[CV] END batch_size=5, dropout_rate=0, hidden_dim=256, n_epochs=750, n_hidden_layers=1, optimizer=adam, output_activation=sigmoid; total time=  11.8s\n",
      "[CV] END batch_size=20, dropout_rate=0, hidden_dim=256, n_epochs=100, n_hidden_layers=1, optimizer=adamax, output_activation=sigmoid; total time=   0.3s\n",
      "[CV] END batch_size=20, dropout_rate=0, hidden_dim=256, n_epochs=100, n_hidden_layers=1, optimizer=adamax, output_activation=sigmoid; total time=   0.9s\n",
      "\r",
      " 1/67 [..............................] - ETA: 1:06 - loss: 0.6956 - accuracy: 0.0500 - binary_accuracy: 0.5328"
     ]
    },
    {
     "name": "stderr",
     "output_type": "stream",
     "text": [
      "2021-12-15 01:40:09.508942: I tensorflow/core/grappler/optimizers/custom_graph_optimizer_registry.cc:112] Plugin optimizer for device_type GPU is enabled.\n",
      "2021-12-15 01:40:09.591940: I tensorflow/core/grappler/optimizers/custom_graph_optimizer_registry.cc:112] Plugin optimizer for device_type GPU is enabled.\n"
     ]
    },
    {
     "name": "stdout",
     "output_type": "stream",
     "text": [
      "55/67 [=======================>......] - ETA: 0s - loss: 0.6950 - accuracy: 0.0191 - binary_accuracy: 0.5238[CV] END batch_size=20, dropout_rate=0, hidden_dim=256, n_epochs=100, n_hidden_layers=1, optimizer=adam, output_activation=sigmoid; total time=   4.5s\n",
      " 1/67 [..............................] - ETA: 1:22 - loss: 0.7084 - accuracy: 0.0000e+00 - binary_accuracy: 0.4906[CV] END batch_size=20, dropout_rate=0, hidden_dim=256, n_epochs=100, n_hidden_layers=1, optimizer=SGD, output_activation=sigmoid; total time=   4.1s\n",
      "[CV] END batch_size=20, dropout_rate=0, hidden_dim=256, n_epochs=100, n_hidden_layers=1, optimizer=adamax, output_activation=sigmoid; total time=   0.7s\n",
      "67/67 [==============================] - 2s 18ms/step - loss: 0.7113 - accuracy: 0.0203 - binary_accuracy: 0.4855\n",
      "67/67 [==============================] - 2s 20ms/step - loss: 0.6949 - accuracy: 0.0173 - binary_accuracy: 0.5243\n",
      "13/67 [====>.........................] - ETA: 1s - loss: 0.6721 - accuracy: 0.0115 - binary_accuracy: 0.5860"
     ]
    },
    {
     "name": "stderr",
     "output_type": "stream",
     "text": [
      "2021-12-15 01:40:10.210773: I tensorflow/core/grappler/optimizers/custom_graph_optimizer_registry.cc:112] Plugin optimizer for device_type GPU is enabled.\n"
     ]
    },
    {
     "name": "stdout",
     "output_type": "stream",
     "text": [
      "67/67 [==============================] - 2s 24ms/step - loss: 0.6984 - accuracy: 0.0075 - binary_accuracy: 0.5120\n",
      "64/67 [===========================>..] - ETA: 0s - loss: 0.6118 - accuracy: 0.0055 - binary_accuracy: 0.6835"
     ]
    },
    {
     "name": "stderr",
     "output_type": "stream",
     "text": [
      "2021-12-15 01:40:10.722674: I tensorflow/core/grappler/optimizers/custom_graph_optimizer_registry.cc:112] Plugin optimizer for device_type GPU is enabled.\n"
     ]
    },
    {
     "name": "stdout",
     "output_type": "stream",
     "text": [
      "34/34 [==============================] - 1s 14ms/step - loss: 0.7059 - accuracy: 0.0255 - binary_accuracy: 0.5038\n",
      "67/67 [==============================] - 2s 21ms/step - loss: 0.6102 - accuracy: 0.0068 - binary_accuracy: 0.6856\n",
      "67/67 [==============================] - 3s 20ms/step - loss: 0.6085 - accuracy: 0.0053 - binary_accuracy: 0.6859\n",
      "32/34 [===========================>..] - ETA: 0s - loss: 0.6919 - accuracy: 0.0125 - binary_accuracy: 0.5321"
     ]
    },
    {
     "name": "stderr",
     "output_type": "stream",
     "text": [
      "2021-12-15 01:40:11.182822: I tensorflow/core/grappler/optimizers/custom_graph_optimizer_registry.cc:112] Plugin optimizer for device_type GPU is enabled.\n"
     ]
    },
    {
     "name": "stdout",
     "output_type": "stream",
     "text": [
      "\b\b\b\b\b\b\b\b\b\b\b\b\b\b\b\b\b\b\b\b\b\b\b\b\b\b\b\b\b\b\b\b\b\b\b\b\b\b\b\b\b\b\b\b\b\b\b\b\b\b\b\b\b\b\b\b\b\b\b\b\b\b\b\b\b\b\b\b\b\b\b\b\b\b\b\b\b\b\b\b\b\b\b\b\b\b\b\b\b\b\b\b\b\b\b\b\b\b\b\b\b\b\b\b\b\b\b\b\r",
      "67/67 [==============================] - ETA: 0s - loss: 0.6174 - accuracy: 0.0067 - binary_accuracy: 0.6719\b\b\b\b\b\b\b\b\b\b\b\b\b\b\b\b\b\b\b\b\b\b\b\b\b\b\b\b\b\b\b\b\b\b\b\b\b\b\b\b\b\b\b\b\b\b\b\b\b\b\b\b\b\b\b\b\b\b\b\b\b\b\b\b\b\b\b\b\b\b\b\b\b\b\b\b\b\b\b\b\b\b\b\b\b\b\b\b\b\b\b\b\b\b\b\b\b\b\b\b\b\b\b\b\b\b\b\b\r",
      "67/67 [==============================] - 3s 21ms/step - loss: 0.6174 - accuracy: 0.0067 - binary_accuracy: 0.6719\n",
      "\r",
      " 1/34 [..............................] - ETA: 8s - loss: 0.5714 - accuracy: 0.0000e+00 - binary_accuracy: 0.7281\b\b\b\b\b\b\b\b\b\b\b\b\b\b\b\b\b\b\b\b\b\b\b\b\b\b\b\b\b\b\b\b\b\b\b\b\b\b\b\b\b\b\b\b\b\b\b\b\b\b\b\b\b\b\b\b\b\b\b\b\b\b\b\b\b\b\b\b\b\b\b\b\b\b\b\b\b\b\b\b\b\b\b\b\b\b\b\b\b\b\b\b\b\b\b\b\b\b\b\b\b\b\b\b\b\b\b\b\b\b\b\b\r",
      " 6/34 [====>.........................] - ETA: 0s - loss: 0.5820 - accuracy: 0.0083 - binary_accuracy: 0.7085    \b\b\b\b\b\b\b\b\b\b\b\b\b\b\b\b\b\b\b\b\b\b\b\b\b\b\b\b\b\b\b\b\b\b\b\b\b\b\b\b\b\b\b\b\b\b\b\b\b\b\b\b\b\b\b\b\b\b\b\b\b\b\b\b\b\b\b\b\b\b\b\b\b\b\b\b\b\b\b\b\b\b\b\b\b\b\b\b\b\b\b\b\b\b\b\b\b\b\b\b\b\b\b\b\b\b\b\b\r",
      "34/34 [==============================] - ETA: 0s - loss: 0.6919 - accuracy: 0.0135 - binary_accuracy: 0.5323\b\b\b\b\b\b\b\b\b\b\b\b\b\b\b\b\b\b\b\b\b\b\b\b\b\b\b\b\b\b\b\b\b\b\b\b\b\b\b\b\b\b\b\b\b\b\b\b\b\b\b\b\b\b\b\b\b\b\b\b\b\b\b\b\b\b\b\b\b\b\b\b\b\b\b\b\b\b\b\b\b\b\b\b\b\b\b\b\b\b\b\b\b\b\b\b\b\b\b\b\b\b\b\b\b\b\b\b\r",
      "34/34 [==============================] - 1s 15ms/step - loss: 0.6919 - accuracy: 0.0135 - binary_accuracy: 0.5323\n",
      "\b\b\b\b\b\b\b\b\b\b\b\b\b\b\b\b\b\b\b\b\b\b\b\b\b\b\b\b\b\b\b\b\b\b\b\b\b\b\b\b\b\b\b\b\b\b\b\b\b\b\b\b\b\b\b\b\b\b\b\b\b\b\b\b\b\b\b\b\b\b\b\b\b\b\b\b\b\b\b\b\b\b\b\b\b\b\b\b\b\b\b\b\b\b\b\b\b\b\b\b\b\b\b\b\b\b\b\b\r",
      "10/34 [=======>......................] - ETA: 0s - loss: 0.5850 - accuracy: 0.0050 - binary_accuracy: 0.7033\b\b\b\b\b\b\b\b\b\b\b\b\b\b\b\b\b\b\b\b\b\b\b\b\b\b\b\b\b\b\b\b\b\b\b\b\b\b\b\b\b\b\b\b\b\b\b\b\b\b\b\b\b\b\b\b\b\b\b\b\b\b\b\b\b\b\b\b\b\b\b\b\b\b\b\b\b\b\b\b\b\b\b\b\b\b\b\b\b\b\b\b\b\b\b\b\b\b\b\b\b\b\b\b\b\b\b\b\r",
      "11/34 [========>.....................] - ETA: 0s - loss: 0.5848 - accuracy: 0.0045 - binary_accuracy: 0.7023"
     ]
    },
    {
     "name": "stderr",
     "output_type": "stream",
     "text": [
      "2021-12-15 01:40:11.416045: I tensorflow/core/grappler/optimizers/custom_graph_optimizer_registry.cc:112] Plugin optimizer for device_type GPU is enabled.\n",
      "2021-12-15 01:40:11.416651: I tensorflow/core/grappler/optimizers/custom_graph_optimizer_registry.cc:112] Plugin optimizer for device_type GPU is enabled.\n"
     ]
    },
    {
     "name": "stdout",
     "output_type": "stream",
     "text": [
      "\r",
      " 1/34 [..............................] - ETA: 6s - loss: 0.5939 - accuracy: 0.0000e+00 - binary_accuracy: 0.7180\b\b\b\b\b\b\b\b\b\b\b\b\b\b\b\b\b\b\b\b\b\b\b\b\b\b\b\b\b\b\b\b\b\b\b\b\b\b\b\b\b\b\b\b\b\b\b\b\b\b\b\b\b\b\b\b\b\b\b\b\b\b\b\b\b\b\b\b\b\b\b\b\b\b\b\b\b\b\b\b\b\b\b\b\b\b\b\b\b\b\b\b\b\b\b\b\b\b\b\b\b\b\b\b\b\b\b\b\r",
      "14/34 [===========>..................] - ETA: 0s - loss: 0.5868 - accuracy: 0.0071 - binary_accuracy: 0.7017\r",
      " 1/34 [..............................] - ETA: 9s - loss: 0.5928 - accuracy: 0.0000e+00 - binary_accuracy: 0.7031\b\b\b\b\b\b\b\b\b\b\b\b\b\b\b\b\b\b\b\b\b\b\b\b\b\b\b\b\b\b\b\b\b\b\b\b\b\b\b\b\b\b\b\b\b\b\b\b\b\b\b\b\b\b\b\b\b\b\b\b\b\b\b\b\b\b\b\b\b\b\b\b\b\b\b\b\b\b\b\b\b\b\b\b\b\b\b\b\b\b\b\b\b\b\b\b\b\b\b\b\b\b\b\b\b\b\b\b\b\b\b\b\r",
      " 5/34 [===>..........................] - ETA: 0s - loss: 0.5909 - accuracy: 0.0000e+00 - binary_accuracy: 0.7114\b\b\b\b\b\b\b\b\b\b\b\b\b\b\b\b\b\b\b\b\b\b\b\b\b\b\b\b\b\b\b\b\b\b\b\b\b\b\b\b\b\b\b\b\b\b\b\b\b\b\b\b\b\b\b\b\b\b\b\b\b\b\b\b\b\b\b\b\b\b\b\b\b\b\b\b\b\b\b\b\b\b\b\b\b\b\b\b\b\b\b\b\b\b\b\b\b\b\b\b\b\b\b\b\b\b\b\b\r",
      "22/34 [==================>...........] - ETA: 0s - loss: 0.5790 - accuracy: 0.0068 - binary_accuracy: 0.7075\b\b\b\b\b\b\b\b\b\b\b\b\b\b\b\b\b\b\b\b\b\b\b\b\b\b\b\b\b\b\b\b\b\b\b\b\b\b\b\b\b\b\b\b\b\b\b\b\b\b\b\b\b\b\b\b\b\b\b\b\b\b\b\b\b\b\b\b\b\b\b\b\b\b\b\b\b\b\b\b\b\b\b\b\b\b\b\b\b\b\b\b\b\b\b\b\b\b\b\b\b\b\b\b\b\b\b\b\b\b\b\b\r",
      " 6/34 [====>.........................] - ETA: 0s - loss: 0.5922 - accuracy: 0.0083 - binary_accuracy: 0.7059    \b\b\b\b\b\b\b\b\b\b\b\b\b\b\b\b\b\b\b\b\b\b\b\b\b\b\b\b\b\b\b\b\b\b\b\b\b\b\b\b\b\b\b\b\b\b\b\b\b\b\b\b\b\b\b\b\b\b\b\b\b\b\b\b\b\b\b\b\b\b\b\b\b\b\b\b\b\b\b\b\b\b\b\b\b\b\b\b\b\b\b\b\b\b\b\b\b\b\b\b\b\b\b\b\b\b\b\b\r",
      "30/34 [=========================>....] - ETA: 0s - loss: 0.5838 - accuracy: 0.0050 - binary_accuracy: 0.7016\b\b\b\b\b\b\b\b\b\b\b\b\b\b\b\b\b\b\b\b\b\b\b\b\b\b\b\b\b\b\b\b\b\b\b\b\b\b\b\b\b\b\b\b\b\b\b\b\b\b\b\b\b\b\b\b\b\b\b\b\b\b\b\b\b\b\b\b\b\b\b\b\b\b\b\b\b\b\b\b\b\b\b\b\b\b\b\b\b\b\b\b\b\b\b\b\b\b\b\b\b\b\b\b\b\b\b\b\b\b\b\b\r",
      "10/34 [=======>......................] - ETA: 0s - loss: 0.5873 - accuracy: 0.0000e+00 - binary_accuracy: 0.7131\b\b\b\b\b\b\b\b\b\b\b\b\b\b\b\b\b\b\b\b\b\b\b\b\b\b\b\b\b\b\b\b\b\b\b\b\b\b\b\b\b\b\b\b\b\b\b\b\b\b\b\b\b\b\b\b\b\b\b\b\b\b\b\b\b\b\b\b\b\b\b\b\b\b\b\b\b\b\b\b\b\b\b\b\b\b\b\b\b\b\b\b\b\b\b\b\b\b\b\b\b\b\b\b\b\b\b\b\r",
      "11/34 [========>.....................] - ETA: 0s - loss: 0.5860 - accuracy: 0.0045 - binary_accuracy: 0.7078\b\b\b\b\b\b\b\b\b\b\b\b\b\b\b\b\b\b\b\b\b\b\b\b\b\b\b\b\b\b\b\b\b\b\b\b\b\b\b\b\b\b\b\b\b\b\b\b\b\b\b\b\b\b\b\b\b\b\b\b\b\b\b\b\b\b\b\b\b\b\b\b\b\b\b\b\b\b\b\b\b\b\b\b\b\b\b\b\b\b\b\b\b\b\b\b\b\b\b\b\b\b\b\b\b\b\b\b\b\b\b\b\r",
      "14/34 [===========>..................] - ETA: 0s - loss: 0.5848 - accuracy: 0.0036 - binary_accuracy: 0.7206    \b\b\b\b\b\b\b\b\b\b\b\b\b\b\b\b\b\b\b\b\b\b\b\b\b\b\b\b\b\b\b\b\b\b\b\b\b\b\b\b\b\b\b\b\b\b\b\b\b\b\b\b\b\b\b\b\b\b\b\b\b\b\b\b\b\b\b\b\b\b\b\b\b\b\b\b\b\b\b\b\b\b\b\b\b\b\b\b\b\b\b\b\b\b\b\b\b\b\b\b\b\b\b\b\b\b\b\b\r",
      "16/34 [=============>................] - ETA: 0s - loss: 0.5873 - accuracy: 0.0125 - binary_accuracy: 0.7058\b\b\b\b\b\b\b\b\b\b\b\b\b\b\b\b\b\b\b\b\b\b\b\b\b\b\b\b\b\b\b\b\b\b\b\b\b\b\b\b\b\b\b\b\b\b\b\b\b\b\b\b\b\b\b\b\b\b\b\b\b\b\b\b\b\b\b\b\b\b\b\b\b\b\b\b\b\b\b\b\b\b\b\b\b\b\b\b\b\b\b\b\b\b\b\b\b\b\b\b\b\b\b\b\b\b\b\b\r",
      "34/34 [==============================] - ETA: 0s - loss: 0.5865 - accuracy: 0.0045 - binary_accuracy: 0.6999\b\b\b\b\b\b\b\b\b\b\b\b\b\b\b\b\b\b\b\b\b\b\b\b\b\b\b\b\b\b\b\b\b\b\b\b\b\b\b\b\b\b\b\b\b\b\b\b\b\b\b\b\b\b\b\b\b\b\b\b\b\b\b\b\b\b\b\b\b\b\b\b\b\b\b\b\b\b\b\b\b\b\b\b\b\b\b\b\b\b\b\b\b\b\b\b\b\b\b\b\b\b\b\b\b\b\b\b\r",
      "34/34 [==============================] - 1s 13ms/step - loss: 0.5865 - accuracy: 0.0045 - binary_accuracy: 0.6999\n"
     ]
    },
    {
     "name": "stderr",
     "output_type": "stream",
     "text": [
      "2021-12-15 01:40:11.651280: I tensorflow/core/grappler/optimizers/custom_graph_optimizer_registry.cc:112] Plugin optimizer for device_type GPU is enabled.\n",
      "2021-12-15 01:40:11.695012: I tensorflow/core/grappler/optimizers/custom_graph_optimizer_registry.cc:112] Plugin optimizer for device_type GPU is enabled.\n"
     ]
    },
    {
     "name": "stdout",
     "output_type": "stream",
     "text": [
      "\b\b\b\b\b\b\b\b\b\b\b\b\b\b\b\b\b\b\b\b\b\b\b\b\b\b\b\b\b\b\b\b\b\b\b\b\b\b\b\b\b\b\b\b\b\b\b\b\b\b\b\b\b\b\b\b\b\b\b\b\b\b\b\b\b\b\b\b\b\b\b\b\b\b\b\b\b\b\b\b\b\b\b\b\b\b\b\b\b\b\b\b\b\b\b\b\b\b\b\b\b\b\b\b\b\b\b\b\r",
      "21/34 [=================>............] - ETA: 0s - loss: 0.5910 - accuracy: 0.0143 - binary_accuracy: 0.7035\b\b\b\b\b\b\b\b\b\b\b\b\b\b\b\b\b\b\b\b\b\b\b\b\b\b\b\b\b\b\b\b\b\b\b\b\b\b\b\b\b\b\b\b\b\b\b\b\b\b\b\b\b\b\b\b\b\b\b\b\b\b\b\b\b\b\b\b\b\b\b\b\b\b\b\b\b\b\b\b\b\b\b\b\b\b\b\b\b\b\b\b\b\b\b\b\b\b\b\b\b\b\b\b\b\b\b\b\r",
      "19/34 [===============>..............] - ETA: 0s - loss: 0.5842 - accuracy: 0.0026 - binary_accuracy: 0.7238\r",
      " 1/34 [..............................] - ETA: 9s - loss: 0.6938 - accuracy: 0.0000e+00 - binary_accuracy: 0.5117\b\b\b\b\b\b\b\b\b\b\b\b\b\b\b\b\b\b\b\b\b\b\b\b\b\b\b\b\b\b\b\b\b\b\b\b\b\b\b\b\b\b\b\b\b\b\b\b\b\b\b\b\b\b\b\b\b\b\b\b\b\b\b\b\b\b\b\b\b\b\b\b\b\b\b\b\b\b\b\b\b\b\b\b\b\b\b\b\b\b\b\b\b\b\b\b\b\b\b\b\b\b\b\b\b\b\b\b\r",
      "24/34 [====================>.........] - ETA: 0s - loss: 0.5829 - accuracy: 0.0042 - binary_accuracy: 0.7228\b\b\b\b\b\b\b\b\b\b\b\b\b\b\b\b\b\b\b\b\b\b\b\b\b\b\b\b\b\b\b\b\b\b\b\b\b\b\b\b\b\b\b\b\b\b\b\b\b\b\b\b\b\b\b\b\b\b\b\b\b\b\b\b\b\b\b\b\b\b\b\b\b\b\b\b\b\b\b\b\b\b\b\b\b\b\b\b\b\b\b\b\b\b\b\b\b\b\b\b\b\b\b\b\b\b\b\b\r",
      "27/34 [======================>.......] - ETA: 0s - loss: 0.5927 - accuracy: 0.0111 - binary_accuracy: 0.7020\b\b\b\b\b\b\b\b\b\b\b\b\b\b\b\b\b\b\b\b\b\b\b\b\b\b\b\b\b\b\b\b\b\b\b\b\b\b\b\b\b\b\b\b\b\b\b\b\b\b\b\b\b\b\b\b\b\b\b\b\b\b\b\b\b\b\b\b\b\b\b\b\b\b\b\b\b\b\b\b\b\b\b\b\b\b\b\b\b\b\b\b\b\b\b\b\b\b\b\b\b\b\b\b\b\b\b\b\b\b\b\b\r",
      " 4/34 [==>...........................] - ETA: 0s - loss: 0.6956 - accuracy: 0.0000e+00 - binary_accuracy: 0.5117\b\b\b\b\b\b\b\b\b\b\b\b\b\b\b\b\b\b\b\b\b\b\b\b\b\b\b\b\b\b\b\b\b\b\b\b\b\b\b\b\b\b\b\b\b\b\b\b\b\b\b\b\b\b\b\b\b\b\b\b\b\b\b\b\b\b\b\b\b\b\b\b\b\b\b\b\b\b\b\b\b\b\b\b\b\b\b\b\b\b\b\b\b\b\b\b\b\b\b\b\b\b\b\b\b\b\b\b\r",
      "33/34 [============================>.] - ETA: 0s - loss: 0.5929 - accuracy: 0.0106 - binary_accuracy: 0.7016\b\b\b\b\b\b\b\b\b\b\b\b\b\b\b\b\b\b\b\b\b\b\b\b\b\b\b\b\b\b\b\b\b\b\b\b\b\b\b\b\b\b\b\b\b\b\b\b\b\b\b\b\b\b\b\b\b\b\b\b\b\b\b\b\b\b\b\b\b\b\b\b\b\b\b\b\b\b\b\b\b\b\b\b\b\b\b\b\b\b\b\b\b\b\b\b\b\b\b\b\b\b\b\b\b\b\b\b\r",
      "30/34 [=========================>....] - ETA: 0s - loss: 0.5813 - accuracy: 0.0033 - binary_accuracy: 0.7220\b\b\b\b\b\b\b\b\b\b\b\b\b\b\b\b\b\b\b\b\b\b\b\b\b\b\b\b\b\b\b\b\b\b\b\b\b\b\b\b\b\b\b\b\b\b\b\b\b\b\b\b\b\b\b\b\b\b\b\b\b\b\b\b\b\b\b\b\b\b\b\b\b\b\b\b\b\b\b\b\b\b\b\b\b\b\b\b\b\b\b\b\b\b\b\b\b\b\b\b\b\b\b\b\b\b\b\b\b\b\b\b\r",
      " 8/34 [======>.......................] - ETA: 0s - loss: 0.6957 - accuracy: 0.0000e+00 - binary_accuracy: 0.5142\b\b\b\b\b\b\b\b\b\b\b\b\b\b\b\b\b\b\b\b\b\b\b\b\b\b\b\b\b\b\b\b\b\b\b\b\b\b\b\b\b\b\b\b\b\b\b\b\b\b\b\b\b\b\b\b\b\b\b\b\b\b\b\b\b\b\b\b\b\b\b\b\b\b\b\b\b\b\b\b\b\b\b\b\b\b\b\b\b\b\b\b\b\b\b\b\b\b\b\b\b\b\b\b\b\b\b\b\r",
      "34/34 [==============================] - 1s 11ms/step - loss: 0.5927 - accuracy: 0.0105 - binary_accuracy: 0.7017\n",
      "[CV] END batch_size=20, dropout_rate=0, hidden_dim=256, n_epochs=100, n_hidden_layers=1, optimizer=adam, output_activation=sigmoid; total time=   3.9s\n",
      "[CV] END batch_size=20, dropout_rate=0, hidden_dim=256, n_epochs=250, n_hidden_layers=1, optimizer=adamax, output_activation=sigmoid; total time=   1.6s\n",
      "\r",
      " 1/67 [..............................] - ETA: 39s - loss: 0.7134 - accuracy: 0.0000e+00 - binary_accuracy: 0.4859\b\b\b\b\b\b\b\b\b\b\b\b\b\b\b\b\b\b\b\b\b\b\b\b\b\b\b\b\b\b\b\b\b\b\b\b\b\b\b\b\b\b\b\b\b\b\b\b\b\b\b\b\b\b\b\b\b\b\b\b\b\b\b\b\b\b\b\b\b\b\b\b\b\b\b\b\b\b\b\b\b\b\b\b\b\b\b\b\b\b\b\b\b\b\b\b\b\b\b\b\b\b\b\b\b\b\b\b\r",
      "34/34 [==============================] - ETA: 0s - loss: 0.5820 - accuracy: 0.0030 - binary_accuracy: 0.7208\b\b\b\b\b\b\b\b\b\b\b\b\b\b\b\b\b\b\b\b\b\b\b\b\b\b\b\b\b\b\b\b\b\b\b\b\b\b\b\b\b\b\b\b\b\b\b\b\b\b\b\b\b\b\b\b\b\b\b\b\b\b\b\b\b\b\b\b\b\b\b\b\b\b\b\b\b\b\b\b\b\b\b\b\b\b\b\b\b\b\b\b\b\b\b\b\b\b\b\b\b\b\b\b\b\b\b\b\r",
      "34/34 [==============================] - 1s 13ms/step - loss: 0.5820 - accuracy: 0.0030 - binary_accuracy: 0.7208\n",
      "\b\b\b\b\b\b\b\b\b\b\b\b\b\b\b\b\b\b\b\b\b\b\b\b\b\b\b\b\b\b\b\b\b\b\b\b\b\b\b\b\b\b\b\b\b\b\b\b\b\b\b\b\b\b\b\b\b\b\b\b\b\b\b\b\b\b\b\b\b\b\b\b\b\b\b\b\b\b\b\b\b\b\b\b\b\b\b\b\b\b\b\b\b\b\b\b\b\b\b\b\b\b\b\b\b\b\b\b\b\b\b\b\r",
      "14/34 [===========>..................] - ETA: 0s - loss: 0.6967 - accuracy: 0.0000e+00 - binary_accuracy: 0.5114"
     ]
    },
    {
     "name": "stderr",
     "output_type": "stream",
     "text": [
      "2021-12-15 01:40:11.954667: I tensorflow/core/grappler/optimizers/custom_graph_optimizer_registry.cc:112] Plugin optimizer for device_type GPU is enabled.\n"
     ]
    },
    {
     "name": "stdout",
     "output_type": "stream",
     "text": [
      "14/67 [=====>........................] - ETA: 1s - loss: 0.7160 - accuracy: 0.0179 - binary_accuracy: 0.4771[CV] END batch_size=20, dropout_rate=0, hidden_dim=256, n_epochs=250, n_hidden_layers=1, optimizer=SGD, output_activation=sigmoid; total time=   2.9s\n",
      "25/67 [==========>...................] - ETA: 0s - loss: 0.7147 - accuracy: 0.0260 - binary_accuracy: 0.4798   "
     ]
    },
    {
     "name": "stderr",
     "output_type": "stream",
     "text": [
      "2021-12-15 01:40:12.314718: I tensorflow/core/grappler/optimizers/custom_graph_optimizer_registry.cc:112] Plugin optimizer for device_type GPU is enabled.\n"
     ]
    },
    {
     "name": "stdout",
     "output_type": "stream",
     "text": [
      "\b\b\b\b\b\b\b\b\b\b\b\b\b\b\b\b\b\b\b\b\b\b\b\b\b\b\b\b\b\b\b\b\b\b\b\b\b\b\b\b\b\b\b\b\b\b\b\b\b\b\b\b\b\b\b\b\b\b\b\b\b\b\b\b\b\b\b\b\b\b\b\b\b\b\b\b\b\b\b\b\b\b\b\b\b\b\b\b\b\b\b\b\b\b\b\b\b\b\b\b\b\b\b\b\b\b\b\b\r",
      "34/34 [==============================] - ETA: 0s - loss: 0.6957 - accuracy: 0.0030 - binary_accuracy: 0.5167\b\b\b\b\b\b\b\b\b\b\b\b\b\b\b\b\b\b\b\b\b\b\b\b\b\b\b\b\b\b\b\b\b\b\b\b\b\b\b\b\b\b\b\b\b\b\b\b\b\b\b\b\b\b\b\b\b\b\b\b\b\b\b\b\b\b\b\b\b\b\b\b\b\b\b\b\b\b\b\b\b\b\b\b\b\b\b\b\b\b\b\b\b\b\b\b\b\b\b\b\b\b\b\b\b\b\b\b\r",
      "34/34 [==============================] - 1s 21ms/step - loss: 0.6957 - accuracy: 0.0030 - binary_accuracy: 0.5167\n",
      "\b\b\b\b\b\b\b\b\b\b\b\b\b\b\b\b\b\b\b\b\b\b\b\b\b\b\b\b\b\b\b\b\b\b\b\b\b\b\b\b\b\b\b\b\b\b\b\b\b\b\b\b\b\b\b\b\b\b\b\b\b\b\b\b\b\b\b\b\b\b\b\b\b\b\b\b\b\b\b\b\b\b\b\b\b\b\b\b\b\b\b\b\b\b\b\b\b\b\b\b\b\b\b\b\b\b\b\b\r",
      "13/67 [====>.........................] - ETA: 1s - loss: 0.7072 - accuracy: 0.0115 - binary_accuracy: 0.4919\b\b\b\b\b\b\b\b\b\b\b\b\b\b\b\b\b\b\b\b\b\b\b\b\b\b\b\b\b\b\b\b\b\b\b\b\b\b\b\b\b\b\b\b\b\b\b\b\b\b\b\b\b\b\b\b\b\b\b\b\b\b\b\b\b\b\b\b\b\b\b\b\b\b\b\b\b\b\b\b\b\b\b\b\b\b\b\b\b\b\b\b\b\b\b\b\b\b\b\b\b\b\b\b\b\b\b\b\r",
      "29/67 [===========>..................] - ETA: 0s - loss: 0.7138 - accuracy: 0.0241 - binary_accuracy: 0.4805\b\b\b\b\b\b\b\b\b\b\b\b\b\b\b\b\b\b\b\b\b\b\b\b\b\b\b\b\b\b\b\b\b\b\b\b\b\b\b\b\b\b\b\b\b\b\b\b\b\b\b\b\b\b\b\b\b\b\b\b\b\b\b\b\b\b\b\b\b\b\b\b\b\b\b\b\b\b\b\b\b\b\b\b\b\b\b\b\b\b\b\b\b\b\b\b\b\b\b\b\b\b\b\b\b\b\b\b\r",
      "15/67 [=====>........................] - ETA: 1s - loss: 0.7076 - accuracy: 0.0133 - binary_accuracy: 0.4925[CV] END batch_size=20, dropout_rate=0, hidden_dim=256, n_epochs=100, n_hidden_layers=1, optimizer=SGD, output_activation=sigmoid; total time=   5.0s\n",
      "[CV] END batch_size=20, dropout_rate=0, hidden_dim=256, n_epochs=250, n_hidden_layers=1, optimizer=adamax, output_activation=sigmoid; total time=   1.7s\n",
      "[CV] END batch_size=20, dropout_rate=0, hidden_dim=256, n_epochs=250, n_hidden_layers=1, optimizer=adamax, output_activation=sigmoid; total time=   0.7s\n",
      "\r",
      " 1/67 [..............................] - ETA: 57s - loss: 0.7083 - accuracy: 0.0000e+00 - binary_accuracy: 0.4852\b\b\b\b\b\b\b\b\b\b\b\b\b\b\b\b\b\b\b\b\b\b\b\b\b\b\b\b\b\b\b\b\b\b\b\b\b\b\b\b\b\b\b\b\b\b\b\b\b\b\b\b\b\b\b\b\b\b\b\b\b\b\b\b\b\b\b\b\b\b\b\b\b\b\b\b\b\b\b\b\b\b\b\b\b\b\b\b\b\b\b\b\b\b\b\b\b\b\b\b\b\b\b\b\b\b\b\b\r",
      "31/67 [============>.................] - ETA: 0s - loss: 0.7135 - accuracy: 0.0226 - binary_accuracy: 0.4811\b\b\b\b\b\b\b\b\b\b\b\b\b\b\b\b\b\b\b\b\b\b\b\b\b\b\b\b\b\b\b\b\b\b\b\b\b\b\b\b\b\b\b\b\b\b\b\b\b\b\b\b\b\b\b\b\b\b\b\b\b\b\b\b\b\b\b\b\b\b\b\b\b\b\b\b\b\b\b\b\b\b\b\b\b\b\b\b\b\b\b\b\b\b\b\b\b\b\b\b\b\b\b\b\b\b\b\b\r",
      "17/67 [======>.......................] - ETA: 1s - loss: 0.7074 - accuracy: 0.0118 - binary_accuracy: 0.4922\b\b\b\b\b\b\b\b\b\b\b\b\b\b\b\b\b\b\b\b\b\b\b\b\b\b\b\b\b\b\b\b\b\b\b\b\b\b\b\b\b\b\b\b\b\b\b\b\b\b\b\b\b\b\b\b\b\b\b\b\b\b\b\b\b\b\b\b\b\b\b\b\b\b\b\b\b\b\b\b\b\b\b\b\b\b\b\b\b\b\b\b\b\b\b\b\b\b\b\b\b\b\b\b\b\b\b\b\r",
      "33/67 [=============>................] - ETA: 0s - loss: 0.7132 - accuracy: 0.0242 - binary_accuracy: 0.4813"
     ]
    },
    {
     "name": "stderr",
     "output_type": "stream",
     "text": [
      "2021-12-15 01:40:12.542163: I tensorflow/core/grappler/optimizers/custom_graph_optimizer_registry.cc:112] Plugin optimizer for device_type GPU is enabled.\n"
     ]
    },
    {
     "name": "stdout",
     "output_type": "stream",
     "text": [
      "23/67 [=========>....................] - ETA: 1s - loss: 0.7067 - accuracy: 0.0130 - binary_accuracy: 0.4957[CV] END batch_size=20, dropout_rate=0, hidden_dim=256, n_epochs=250, n_hidden_layers=1, optimizer=SGD, output_activation=sigmoid; total time=   3.1s\n",
      "61/67 [==========================>...] - ETA: 0s - loss: 0.7114 - accuracy: 0.0262 - binary_accuracy: 0.4859  20"
     ]
    },
    {
     "name": "stderr",
     "output_type": "stream",
     "text": [
      "2021-12-15 01:40:13.036701: I tensorflow/core/grappler/optimizers/custom_graph_optimizer_registry.cc:112] Plugin optimizer for device_type GPU is enabled.\n"
     ]
    },
    {
     "name": "stdout",
     "output_type": "stream",
     "text": [
      "67/67 [==============================] - 2s 21ms/step - loss: 0.7114 - accuracy: 0.0255 - binary_accuracy: 0.4856\n",
      "67/67 [==============================] - 2s 19ms/step - loss: 0.7062 - accuracy: 0.0113 - binary_accuracy: 0.4958\n"
     ]
    },
    {
     "name": "stderr",
     "output_type": "stream",
     "text": [
      "2021-12-15 01:40:13.459883: I tensorflow/core/grappler/optimizers/custom_graph_optimizer_registry.cc:112] Plugin optimizer for device_type GPU is enabled.\n",
      "2021-12-15 01:40:13.539015: I tensorflow/core/grappler/optimizers/custom_graph_optimizer_registry.cc:112] Plugin optimizer for device_type GPU is enabled.\n"
     ]
    },
    {
     "name": "stdout",
     "output_type": "stream",
     "text": [
      "\b\b\b\b\b\b\b\b\b\b\b\b\b\b\b\b\b\b\b\b\b\b\b\b\b\b\b\b\b\b\b\b\b\b\b\b\b\b\b\b\b\b\b\b\b\b\b\b\b\b\b\b\b\b\b\b\b\b\b\b\b\b\b\b\b\b\b\b\b\b\b\b\b\b\b\b\b\b\b\b\b\b\b\b\b\b\b\b\b\b\b\b\b\b\b\b\b\b\b\b\b\b\b\b\b\b\b\b\r",
      "54/67 [=======================>......] - ETA: 0s - loss: 0.7013 - accuracy: 0.0204 - binary_accuracy: 0.5026\b\b\b\b\b\b\b\b\b\b\b\b\b\b\b\b\b\b\b\b\b\b\b\b\b\b\b\b\b\b\b\b\b\b\b\b\b\b\b\b\b\b\b\b\b\b\b\b\b\b\b\b\b\b\b\b\b\b\b\b\b\b\b\b\b\b\b\b\b\b\b\b\b\b\b\b\b\b\b\b\b\b\b\b\b\b\b\b\b\b\b\b\b\b\b\b\b\b\b\b\b\b\b\b\b\b\b\b\r",
      "46/67 [===================>..........] - ETA: 0s - loss: 0.6176 - accuracy: 0.0065 - binary_accuracy: 0.6767[CV] END batch_size=20, dropout_rate=0, hidden_dim=256, n_epochs=250, n_hidden_layers=1, optimizer=adam, output_activation=sigmoid; total time=   3.2s\n",
      "\r",
      " 1/67 [..............................] - ETA: 1:26 - loss: 0.7137 - accuracy: 0.0000e+00 - binary_accuracy: 0.5008\b\b\b\b\b\b\b\b\b\b\b\b\b\b\b\b\b\b\b\b\b\b\b\b\b\b\b\b\b\b\b\b\b\b\b\b\b\b\b\b\b\b\b\b\b\b\b\b\b\b\b\b\b\b\b\b\b\b\b\b\b\b\b\b\b\b\b\b\b\b\b\b\b\b\b\b\b\b\b\b\b\b\b\b\b\b\b\b\b\b\b\b\b\b\b\b\b\b\b\b\b\b\b\b\b\b\b\b\r",
      "57/67 [========================>.....] - ETA: 0s - loss: 0.7011 - accuracy: 0.0211 - binary_accuracy: 0.5026\b\b\b\b\b\b\b\b\b\b\b\b\b\b\b\b\b\b\b\b\b\b\b\b\b\b\b\b\b\b\b\b\b\b\b\b\b\b\b\b\b\b\b\b\b\b\b\b\b\b\b\b\b\b\b\b\b\b\b\b\b\b\b\b\b\b\b\b\b\b\b\b\b\b\b\b\b\b\b\b\b\b\b\b\b\b\b\b\b\b\b\b\b\b\b\b\b\b\b\b\b\b\b\b\b\b\b\b\r",
      "49/67 [====================>.........] - ETA: 0s - loss: 0.6173 - accuracy: 0.0061 - binary_accuracy: 0.6778\b\b\b\b\b\b\b\b\b\b\b\b\b\b\b\b\b\b\b\b\b\b\b\b\b\b\b\b\b\b\b\b\b\b\b\b\b\b\b\b\b\b\b\b\b\b\b\b\b\b\b\b\b\b\b\b\b\b\b\b\b\b\b\b\b\b\b\b\b\b\b\b\b\b\b\b\b\b\b\b\b\b\b\b\b\b\b\b\b\b\b\b\b\b\b\b\b\b\b\b\b\b\b\b\b\b\b\b\b\b\b\b\b\b\r",
      " 5/67 [=>............................] - ETA: 0s - loss: 0.6930 - accuracy: 0.0200 - binary_accuracy: 0.5427      \b\b\b\b\b\b\b\b\b\b\b\b\b\b\b\b\b\b\b\b\b\b\b\b\b\b\b\b\b\b\b\b\b\b\b\b\b\b\b\b\b\b\b\b\b\b\b\b\b\b\b\b\b\b\b\b\b\b\b\b\b\b\b\b\b\b\b\b\b\b\b\b\b\b\b\b\b\b\b\b\b\b\b\b\b\b\b\b\b\b\b\b\b\b\b\b\b\b\b\b\b\b\b\b\b\b\b\b\r",
      "53/67 [======================>.......] - ETA: 0s - loss: 0.6155 - accuracy: 0.0057 - binary_accuracy: 0.6797\b\b\b\b\b\b\b\b\b\b\b\b\b\b\b\b\b\b\b\b\b\b\b\b\b\b\b\b\b\b\b\b\b\b\b\b\b\b\b\b\b\b\b\b\b\b\b\b\b\b\b\b\b\b\b\b\b\b\b\b\b\b\b\b\b\b\b\b\b\b\b\b\b\b\b\b\b\b\b\b\b\b\b\b\b\b\b\b\b\b\b\b\b\b\b\b\b\b\b\b\b\b\b\b\b\b\b\b\r",
      "61/67 [==========================>...] - ETA: 0s - loss: 0.7008 - accuracy: 0.0213 - binary_accuracy: 0.5044\b\b\b\b\b\b\b\b\b\b\b\b\b\b\b\b\b\b\b\b\b\b\b\b\b\b\b\b\b\b\b\b\b\b\b\b\b\b\b\b\b\b\b\b\b\b\b\b\b\b\b\b\b\b\b\b\b\b\b\b\b\b\b\b\b\b\b\b\b\b\b\b\b\b\b\b\b\b\b\b\b\b\b\b\b\b\b\b\b\b\b\b\b\b\b\b\b\b\b\b\b\b\b\b\b\b\b\b\r",
      " 8/67 [==>...........................] - ETA: 0s - loss: 0.6830 - accuracy: 0.0125 - binary_accuracy: 0.5693\r",
      " 1/34 [..............................] - ETA: 10s - loss: 0.7054 - accuracy: 0.0000e+00 - binary_accuracy: 0.4891\b\b\b\b\b\b\b\b\b\b\b\b\b\b\b\b\b\b\b\b\b\b\b\b\b\b\b\b\b\b\b\b\b\b\b\b\b\b\b\b\b\b\b\b\b\b\b\b\b\b\b\b\b\b\b\b\b\b\b\b\b\b\b\b\b\b\b\b\b\b\b\b\b\b\b\b\b\b\b\b\b\b\b\b\b\b\b\b\b\b\b\b\b\b\b\b\b\b\b\b\b\b\b\b\b\b\b\b\r",
      "56/67 [========================>.....] - ETA: 0s - loss: 0.6150 - accuracy: 0.0054 - binary_accuracy: 0.6807\b\b\b\b\b\b\b\b\b\b\b\b\b\b\b\b\b\b\b\b\b\b\b\b\b\b\b\b\b\b\b\b\b\b\b\b\b\b\b\b\b\b\b\b\b\b\b\b\b\b\b\b\b\b\b\b\b\b\b\b\b\b\b\b\b\b\b\b\b\b\b\b\b\b\b\b\b\b\b\b\b\b\b\b\b\b\b\b\b\b\b\b\b\b\b\b\b\b\b\b\b\b\b\b\b\b\b\b\r",
      "63/67 [===========================>..] - ETA: 0s - loss: 0.7006 - accuracy: 0.0206 - binary_accuracy: 0.5052\b\b\b\b\b\b\b\b\b\b\b\b\b\b\b\b\b\b\b\b\b\b\b\b\b\b\b\b\b\b\b\b\b\b\b\b\b\b\b\b\b\b\b\b\b\b\b\b\b\b\b\b\b\b\b\b\b\b\b\b\b\b\b\b\b\b\b\b\b\b\b\b\b\b\b\b\b\b\b\b\b\b\b\b\b\b\b\b\b\b\b\b\b\b\b\b\b\b\b\b\b\b\b\b\b\b\b\b\r",
      "10/67 [===>..........................] - ETA: 1s - loss: 0.6775 - accuracy: 0.0100 - binary_accuracy: 0.5821"
     ]
    },
    {
     "name": "stderr",
     "output_type": "stream",
     "text": [
      "2021-12-15 01:40:13.719943: I tensorflow/core/grappler/optimizers/custom_graph_optimizer_registry.cc:112] Plugin optimizer for device_type GPU is enabled.\n"
     ]
    },
    {
     "name": "stdout",
     "output_type": "stream",
     "text": [
      "14/67 [=====>........................] - ETA: 0s - loss: 0.6655 - accuracy: 0.0107 - binary_accuracy: 0.6057[CV] END batch_size=20, dropout_rate=0, hidden_dim=256, n_epochs=250, n_hidden_layers=1, optimizer=adam, output_activation=sigmoid; total time=   3.3s\n",
      "67/67 [==============================] - 2s 19ms/step - loss: 0.7006 - accuracy: 0.0195 - binary_accuracy: 0.5063\n",
      "67/67 [==============================] - 2s 19ms/step - loss: 0.6125 - accuracy: 0.0045 - binary_accuracy: 0.6837\n",
      "34/34 [==============================] - 1s 17ms/step - loss: 0.7075 - accuracy: 0.0255 - binary_accuracy: 0.4958\n",
      "32/34 [===========================>..] - ETA: 0s - loss: 0.7023 - accuracy: 0.0063 - binary_accuracy: 0.5069"
     ]
    },
    {
     "name": "stderr",
     "output_type": "stream",
     "text": [
      "2021-12-15 01:40:14.313629: I tensorflow/core/grappler/optimizers/custom_graph_optimizer_registry.cc:112] Plugin optimizer for device_type GPU is enabled.\n"
     ]
    },
    {
     "name": "stdout",
     "output_type": "stream",
     "text": [
      "34/34 [==============================] - 1s 14ms/step - loss: 0.7022 - accuracy: 0.0075 - binary_accuracy: 0.5067\n",
      "34/34 [==============================] - 1s 15ms/step - loss: 0.6967 - accuracy: 0.0165 - binary_accuracy: 0.5164\n",
      "67/67 [==============================] - 3s 21ms/step - loss: 0.6115 - accuracy: 0.0060 - binary_accuracy: 0.6819\n",
      "59/67 [=========================>....] - ETA: 0s - loss: 0.6172 - accuracy: 0.0025 - binary_accuracy: 0.6712"
     ]
    },
    {
     "name": "stderr",
     "output_type": "stream",
     "text": [
      "2021-12-15 01:40:14.955942: I tensorflow/core/grappler/optimizers/custom_graph_optimizer_registry.cc:112] Plugin optimizer for device_type GPU is enabled.\n",
      "2021-12-15 01:40:14.991531: I tensorflow/core/grappler/optimizers/custom_graph_optimizer_registry.cc:112] Plugin optimizer for device_type GPU is enabled.\n",
      "2021-12-15 01:40:15.092656: I tensorflow/core/grappler/optimizers/custom_graph_optimizer_registry.cc:112] Plugin optimizer for device_type GPU is enabled.\n",
      "2021-12-15 01:40:15.120060: I tensorflow/core/grappler/optimizers/custom_graph_optimizer_registry.cc:112] Plugin optimizer for device_type GPU is enabled.\n"
     ]
    },
    {
     "name": "stdout",
     "output_type": "stream",
     "text": [
      "64/67 [===========================>..] - ETA: 0s - loss: 0.6152 - accuracy: 0.0023 - binary_accuracy: 0.6730[CV] END batch_size=20, dropout_rate=0, hidden_dim=256, n_epochs=250, n_hidden_layers=1, optimizer=SGD, output_activation=sigmoid; total time=   4.1s\n",
      "[CV] END batch_size=20, dropout_rate=0, hidden_dim=256, n_epochs=500, n_hidden_layers=1, optimizer=adamax, output_activation=sigmoid; total time=   1.6s\n",
      " 1/67 [..............................] - ETA: 35s - loss: 0.6947 - accuracy: 0.0000e+00 - binary_accuracy: 0.5086[CV] END batch_size=20, dropout_rate=0, hidden_dim=256, n_epochs=500, n_hidden_layers=1, optimizer=SGD, output_activation=sigmoid; total time=   3.3s\n",
      "67/67 [==============================] - 3s 22ms/step - loss: 0.6152 - accuracy: 0.0030 - binary_accuracy: 0.6735\n",
      " 6/67 [=>............................] - ETA: 1s - loss: 0.6956 - accuracy: 0.0083 - binary_accuracy: 0.5172    [CV] END batch_size=20, dropout_rate=0, hidden_dim=256, n_epochs=250, n_hidden_layers=1, optimizer=adam, output_activation=sigmoid; total time=   3.4s\n",
      "[CV] END batch_size=20, dropout_rate=0, hidden_dim=256, n_epochs=500, n_hidden_layers=1, optimizer=adamax, output_activation=sigmoid; total time=   1.1s\n",
      "[CV] END batch_size=20, dropout_rate=0, hidden_dim=256, n_epochs=500, n_hidden_layers=1, optimizer=adamax, output_activation=sigmoid; total time=   0.8s\n",
      "11/34 [========>.....................] - ETA: 0s - loss: 0.5859 - accuracy: 0.0091 - binary_accuracy: 0.7066523"
     ]
    },
    {
     "name": "stderr",
     "output_type": "stream",
     "text": [
      "2021-12-15 01:40:15.349040: I tensorflow/core/grappler/optimizers/custom_graph_optimizer_registry.cc:112] Plugin optimizer for device_type GPU is enabled.\n",
      "2021-12-15 01:40:15.392033: I tensorflow/core/grappler/optimizers/custom_graph_optimizer_registry.cc:112] Plugin optimizer for device_type GPU is enabled.\n"
     ]
    },
    {
     "name": "stdout",
     "output_type": "stream",
     "text": [
      "34/34 [==============================] - 1s 18ms/step - loss: 0.5932 - accuracy: 0.0060 - binary_accuracy: 0.6984\n",
      "34/34 [==============================] - 1s 18ms/step - loss: 0.5821 - accuracy: 0.0075 - binary_accuracy: 0.7151\n",
      "34/34 [==============================] - 1s 23ms/step - loss: 0.5884 - accuracy: 0.0045 - binary_accuracy: 0.7020\n",
      "49/67 [====================>.........] - ETA: 0s - loss: 0.6925 - accuracy: 0.0143 - binary_accuracy: 0.5350"
     ]
    },
    {
     "name": "stderr",
     "output_type": "stream",
     "text": [
      "2021-12-15 01:40:16.325848: I tensorflow/core/grappler/optimizers/custom_graph_optimizer_registry.cc:112] Plugin optimizer for device_type GPU is enabled.\n"
     ]
    },
    {
     "name": "stdout",
     "output_type": "stream",
     "text": [
      "\b\b\b\b\b\b\b\b\b\b\b\b\b\b\b\b\b\b\b\b\b\b\b\b\b\b\b\b\b\b\b\b\b\b\b\b\b\b\b\b\b\b\b\b\b\b\b\b\b\b\b\b\b\b\b\b\b\b\b\b\b\b\b\b\b\b\b\b\b\b\b\b\b\b\b\b\b\b\b\b\b\b\b\b\b\b\b\b\b\b\b\b\b\b\b\b\b\b\b\b\b\b\b\b\b\b\b\b\r",
      "59/67 [=========================>....] - ETA: 0s - loss: 0.7001 - accuracy: 0.0254 - binary_accuracy: 0.5079\b\b\b\b\b\b\b\b\b\b\b\b\b\b\b\b\b\b\b\b\b\b\b\b\b\b\b\b\b\b\b\b\b\b\b\b\b\b\b\b\b\b\b\b\b\b\b\b\b\b\b\b\b\b\b\b\b\b\b\b\b\b\b\b\b\b\b\b\b\b\b\b\b\b\b\b\b\b\b\b\b\b\b\b\b\b\b\b\b\b\b\b\b\b\b\b\b\b\b\b\b\b\b\b\b\b\b\b\r",
      "57/67 [========================>.....] - ETA: 0s - loss: 0.6947 - accuracy: 0.0114 - binary_accuracy: 0.5213\b\b\b\b\b\b\b\b\b\b\b\b\b\b\b\b\b\b\b\b\b\b\b\b\b\b\b\b\b\b\b\b\b\b\b\b\b\b\b\b\b\b\b\b\b\b\b\b\b\b\b\b\b\b\b\b\b\b\b\b\b\b\b\b\b\b\b\b\b\b\b\b\b\b\b\b\b\b\b\b\b\b\b\b\b\b\b\b\b\b\b\b\b\b\b\b\b\b\b\b\b\b\b\b\b\b\b\b\r",
      "52/67 [======================>.......] - ETA: 0s - loss: 0.6925 - accuracy: 0.0173 - binary_accuracy: 0.5357\b\b\b\b\b\b\b\b\b\b\b\b\b\b\b\b\b\b\b\b\b\b\b\b\b\b\b\b\b\b\b\b\b\b\b\b\b\b\b\b\b\b\b\b\b\b\b\b\b\b\b\b\b\b\b\b\b\b\b\b\b\b\b\b\b\b\b\b\b\b\b\b\b\b\b\b\b\b\b\b\b\b\b\b\b\b\b\b\b\b\b\b\b\b\b\b\b\b\b\b\b\b\b\b\b\b\b\b\r",
      "60/67 [=========================>....] - ETA: 0s - loss: 0.6947 - accuracy: 0.0108 - binary_accuracy: 0.5214\b\b\b\b\b\b\b\b\b\b\b\b\b\b\b\b\b\b\b\b\b\b\b\b\b\b\b\b\b\b\b\b\b\b\b\b\b\b\b\b\b\b\b\b\b\b\b\b\b\b\b\b\b\b\b\b\b\b\b\b\b\b\b\b\b\b\b\b\b\b\b\b\b\b\b\b\b\b\b\b\b\b\b\b\b\b\b\b\b\b\b\b\b\b\b\b\b\b\b\b\b\b\b\b\b\b\b\b\r",
      "63/67 [===========================>..] - ETA: 0s - loss: 0.6998 - accuracy: 0.0238 - binary_accuracy: 0.5086\b\b\b\b\b\b\b\b\b\b\b\b\b\b\b\b\b\b\b\b\b\b\b\b\b\b\b\b\b\b\b\b\b\b\b\b\b\b\b\b\b\b\b\b\b\b\b\b\b\b\b\b\b\b\b\b\b\b\b\b\b\b\b\b\b\b\b\b\b\b\b\b\b\b\b\b\b\b\b\b\b\b\b\b\b\b\b\b\b\b\b\b\b\b\b\b\b\b\b\b\b\b\b\b\b\b\b\b\r",
      "54/67 [=======================>......] - ETA: 0s - loss: 0.6924 - accuracy: 0.0167 - binary_accuracy: 0.5358[CV] END batch_size=20, dropout_rate=0, hidden_dim=256, n_epochs=500, n_hidden_layers=1, optimizer=SGD, output_activation=sigmoid; total time=   3.4s\n",
      "\r",
      " 1/67 [..............................] - ETA: 1:27 - loss: 0.7001 - accuracy: 0.0500 - binary_accuracy: 0.5102\b\b\b\b\b\b\b\b\b\b\b\b\b\b\b\b\b\b\b\b\b\b\b\b\b\b\b\b\b\b\b\b\b\b\b\b\b\b\b\b\b\b\b\b\b\b\b\b\b\b\b\b\b\b\b\b\b\b\b\b\b\b\b\b\b\b\b\b\b\b\b\b\b\b\b\b\b\b\b\b\b\b\b\b\b\b\b\b\b\b\b\b\b\b\b\b\b\b\b\b\b\b\b\b\b\b\b\b\r",
      "63/67 [===========================>..] - ETA: 0s - loss: 0.6947 - accuracy: 0.0103 - binary_accuracy: 0.5220\b\b\b\b\b\b\b\b\b\b\b\b\b\b\b\b\b\b\b\b\b\b\b\b\b\b\b\b\b\b\b\b\b\b\b\b\b\b\b\b\b\b\b\b\b\b\b\b\b\b\b\b\b\b\b\b\b\b\b\b\b\b\b\b\b\b\b\b\b\b\b\b\b\b\b\b\b\b\b\b\b\b\b\b\b\b\b\b\b\b\b\b\b\b\b\b\b\b\b\b\b\b\b\b\b\b\b\b\r",
      "65/67 [============================>.] - ETA: 0s - loss: 0.6996 - accuracy: 0.0238 - binary_accuracy: 0.5093\b\b\b\b\b\b\b\b\b\b\b\b\b\b\b\b\b\b\b\b\b\b\b\b\b\b\b\b\b\b\b\b\b\b\b\b\b\b\b\b\b\b\b\b\b\b\b\b\b\b\b\b\b\b\b\b\b\b\b\b\b\b\b\b\b\b\b\b\b\b\b\b\b\b\b\b\b\b\b\b\b\b\b\b\b\b\b\b\b\b\b\b\b\b\b\b\b\b\b\b\b\b\b\b\b\b\b\b\r",
      "56/67 [========================>.....] - ETA: 0s - loss: 0.6923 - accuracy: 0.0161 - binary_accuracy: 0.5363\b\b\b\b\b\b\b\b\b\b\b\b\b\b\b\b\b\b\b\b\b\b\b\b\b\b\b\b\b\b\b\b\b\b\b\b\b\b\b\b\b\b\b\b\b\b\b\b\b\b\b\b\b\b\b\b\b\b\b\b\b\b\b\b\b\b\b\b\b\b\b\b\b\b\b\b\b\b\b\b\b\b\b\b\b\b\b\b\b\b\b\b\b\b\b\b\b\b\b\b\b\b\b\b\b\b\b\b\b\b\r",
      " 4/67 [>.............................] - ETA: 1s - loss: 0.6906 - accuracy: 0.0375 - binary_accuracy: 0.5387  "
     ]
    },
    {
     "name": "stderr",
     "output_type": "stream",
     "text": [
      "2021-12-15 01:40:16.581755: I tensorflow/core/grappler/optimizers/custom_graph_optimizer_registry.cc:112] Plugin optimizer for device_type GPU is enabled.\n"
     ]
    },
    {
     "name": "stdout",
     "output_type": "stream",
     "text": [
      "67/67 [==============================] - 2s 24ms/step - loss: 0.6994 - accuracy: 0.0255 - binary_accuracy: 0.5100\n",
      "[CV] END batch_size=20, dropout_rate=0, hidden_dim=256, n_epochs=500, n_hidden_layers=1, optimizer=SGD, output_activation=sigmoid; total time=   3.6s\n",
      "67/67 [==============================] - 2s 26ms/step - loss: 0.6946 - accuracy: 0.0098 - binary_accuracy: 0.5223\n",
      "67/67 [==============================] - 2s 25ms/step - loss: 0.6919 - accuracy: 0.0180 - binary_accuracy: 0.5375\n",
      "21/67 [========>.....................] - ETA: 1s - loss: 0.6429 - accuracy: 0.0143 - binary_accuracy: 0.6421"
     ]
    },
    {
     "name": "stderr",
     "output_type": "stream",
     "text": [
      "2021-12-15 01:40:17.016805: I tensorflow/core/grappler/optimizers/custom_graph_optimizer_registry.cc:112] Plugin optimizer for device_type GPU is enabled.\n",
      "2021-12-15 01:40:17.079070: I tensorflow/core/grappler/optimizers/custom_graph_optimizer_registry.cc:112] Plugin optimizer for device_type GPU is enabled.\n",
      "2021-12-15 01:40:17.201485: I tensorflow/core/grappler/optimizers/custom_graph_optimizer_registry.cc:112] Plugin optimizer for device_type GPU is enabled.\n"
     ]
    },
    {
     "name": "stdout",
     "output_type": "stream",
     "text": [
      "24/34 [====================>.........] - ETA: 0s - loss: 0.6925 - accuracy: 0.0063 - binary_accuracy: 0.5337.52"
     ]
    },
    {
     "name": "stderr",
     "output_type": "stream",
     "text": [
      "2021-12-15 01:40:17.478876: I tensorflow/core/grappler/optimizers/custom_graph_optimizer_registry.cc:112] Plugin optimizer for device_type GPU is enabled.\n"
     ]
    },
    {
     "name": "stdout",
     "output_type": "stream",
     "text": [
      "34/34 [==============================] - 1s 17ms/step - loss: 0.6958 - accuracy: 0.0180 - binary_accuracy: 0.5199\n",
      "34/34 [==============================] - 1s 18ms/step - loss: 0.6931 - accuracy: 0.0045 - binary_accuracy: 0.5314\n",
      "34/34 [==============================] - 1s 14ms/step - loss: 0.6894 - accuracy: 0.0135 - binary_accuracy: 0.5422\n",
      "67/67 [==============================] - 3s 20ms/step - loss: 0.6096 - accuracy: 0.0060 - binary_accuracy: 0.6845\n",
      "[CV] END batch_size=20, dropout_rate=0, hidden_dim=256, n_epochs=500, n_hidden_layers=1, optimizer=adam, output_activation=sigmoid; total time=   3.6s\n",
      "10/67 [===>..........................] - ETA: 1s - loss: 0.6639 - accuracy: 0.0100 - binary_accuracy: 0.6027    "
     ]
    },
    {
     "name": "stderr",
     "output_type": "stream",
     "text": [
      "2021-12-15 01:40:18.183515: I tensorflow/core/grappler/optimizers/custom_graph_optimizer_registry.cc:112] Plugin optimizer for device_type GPU is enabled.\n"
     ]
    },
    {
     "name": "stdout",
     "output_type": "stream",
     "text": [
      "67/67 [==============================] - 3s 25ms/step - loss: 0.6128 - accuracy: 0.0090 - binary_accuracy: 0.6803\n",
      "31/67 [============>.................] - ETA: 0s - loss: 0.6336 - accuracy: 0.0065 - binary_accuracy: 0.6510  "
     ]
    },
    {
     "name": "stderr",
     "output_type": "stream",
     "text": [
      "2021-12-15 01:40:18.672564: I tensorflow/core/grappler/optimizers/custom_graph_optimizer_registry.cc:112] Plugin optimizer for device_type GPU is enabled.\n"
     ]
    },
    {
     "name": "stdout",
     "output_type": "stream",
     "text": [
      "34/34 [==============================] - 1s 11ms/step - loss: 0.5939 - accuracy: 0.0060 - binary_accuracy: 0.6991\n",
      "34/34 [==============================] - 1s 7ms/step - loss: 0.5882 - accuracy: 0.0075 - binary_accuracy: 0.7003\n",
      "61/67 [==========================>...] - ETA: 0s - loss: 0.6179 - accuracy: 0.0041 - binary_accuracy: 0.6693"
     ]
    },
    {
     "name": "stderr",
     "output_type": "stream",
     "text": [
      "2021-12-15 01:40:18.946370: I tensorflow/core/grappler/optimizers/custom_graph_optimizer_registry.cc:112] Plugin optimizer for device_type GPU is enabled.\n",
      "2021-12-15 01:40:19.053709: I tensorflow/core/grappler/optimizers/custom_graph_optimizer_registry.cc:112] Plugin optimizer for device_type GPU is enabled.\n",
      "2021-12-15 01:40:19.061431: I tensorflow/core/grappler/optimizers/custom_graph_optimizer_registry.cc:112] Plugin optimizer for device_type GPU is enabled.\n"
     ]
    },
    {
     "name": "stdout",
     "output_type": "stream",
     "text": [
      "\b\b\b\b\b\b\b\b\b\b\b\b\b\b\b\b\b\b\b\b\b\b\b\b\b\b\b\b\b\b\b\b\b\b\b\b\b\b\b\b\b\b\b\b\b\b\b\b\b\b\b\b\b\b\b\b\b\b\b\b\b\b\b\b\b\b\b\b\b\b\b\b\b\b\b\b\b\b\b\b\b\b\b\b\b\b\b\b\b\b\b\b\b\b\b\b\b\b\b\b\b\b\b\b\b\b\b\b\r",
      "63/67 [===========================>..] - ETA: 0s - loss: 0.6160 - accuracy: 0.0040 - binary_accuracy: 0.6715\b\b\b\b\b\b\b\b\b\b\b\b\b\b\b\b\b\b\b\b\b\b\b\b\b\b\b\b\b\b\b\b\b\b\b\b\b\b\b\b\b\b\b\b\b\b\b\b\b\b\b\b\b\b\b\b\b\b\b\b\b\b\b\b\b\b\b\b\b\b\b\b\b\b\b\b\b\b\b\b\b\b\b\b\b\b\b\b\b\b\b\b\b\b\b\b\b\b\b\b\b\b\b\b\b\b\b\b\r",
      "66/67 [============================>.] - ETA: 0s - loss: 0.6145 - accuracy: 0.0038 - binary_accuracy: 0.6735[CV] END batch_size=20, dropout_rate=0, hidden_dim=256, n_epochs=750, n_hidden_layers=1, optimizer=SGD, output_activation=sigmoid; total time=   3.3s\n",
      "\r",
      " 1/27 [>.............................] - ETA: 22s - loss: 0.7020 - accuracy: 0.0200 - binary_accuracy: 0.5000[CV] END batch_size=20, dropout_rate=0, hidden_dim=256, n_epochs=750, n_hidden_layers=1, optimizer=SGD, output_activation=sigmoid; total time=   3.0s\n",
      "\r",
      " 1/27 [>.............................] - ETA: 23s - loss: 0.6988 - accuracy: 0.0000e+00 - binary_accuracy: 0.5103\b\b\b\b\b\b\b\b\b\b\b\b\b\b\b\b\b\b\b\b\b\b\b\b\b\b\b\b\b\b\b\b\b\b\b\b\b\b\b\b\b\b\b\b\b\b\b\b\b\b\b\b\b\b\b\b\b\b\b\b\b\b\b\b\b\b\b\b\b\b\b\b\b\b\b\b\b\b\b\b\b\b\b\b\b\b\b\b\b\b\b\b\b\b\b\b\b\b\b\b\b\b\b\b\b\b\b\b\b\r",
      " 4/27 [===>..........................] - ETA: 0s - loss: 0.6991 - accuracy: 0.0100 - binary_accuracy: 0.5088 \b\b\b\b\b\b\b\b\b\b\b\b\b\b\b\b\b\b\b\b\b\b\b\b\b\b\b\b\b\b\b\b\b\b\b\b\b\b\b\b\b\b\b\b\b\b\b\b\b\b\b\b\b\b\b\b\b\b\b\b\b\b\b\b\b\b\b\b\b\b\b\b\b\b\b\b\b\b\b\b\b\b\b\b\b\b\b\b\b\b\b\b\b\b\b\b\b\b\b\b\b\b\b\b\b\b\b\b\r",
      "67/67 [==============================] - ETA: 0s - loss: 0.6146 - accuracy: 0.0037 - binary_accuracy: 0.6735\b\b\b\b\b\b\b\b\b\b\b\b\b\b\b\b\b\b\b\b\b\b\b\b\b\b\b\b\b\b\b\b\b\b\b\b\b\b\b\b\b\b\b\b\b\b\b\b\b\b\b\b\b\b\b\b\b\b\b\b\b\b\b\b\b\b\b\b\b\b\b\b\b\b\b\b\b\b\b\b\b\b\b\b\b\b\b\b\b\b\b\b\b\b\b\b\b\b\b\b\b\b\b\b\b\b\b\b\r",
      "67/67 [==============================] - 3s 20ms/step - loss: 0.6146 - accuracy: 0.0037 - binary_accuracy: 0.6735\n",
      "[CV] END batch_size=20, dropout_rate=0, hidden_dim=256, n_epochs=500, n_hidden_layers=1, optimizer=adam, output_activation=sigmoid; total time=   4.0s\n",
      "[CV] END batch_size=20, dropout_rate=0, hidden_dim=256, n_epochs=750, n_hidden_layers=1, optimizer=adamax, output_activation=sigmoid; total time=   1.1s\n",
      "\r",
      " 1/27 [>.............................] - ETA: 23s - loss: 0.7138 - accuracy: 0.0000e+00 - binary_accuracy: 0.4669\b\b\b\b\b\b\b\b\b\b\b\b\b\b\b\b\b\b\b\b\b\b\b\b\b\b\b\b\b\b\b\b\b\b\b\b\b\b\b\b\b\b\b\b\b\b\b\b\b\b\b\b\b\b\b\b\b\b\b\b\b\b\b\b\b\b\b\b\b\b\b\b\b\b\b\b\b\b\b\b\b\b\b\b\b\b\b\b\b\b\b\b\b\b\b\b\b\b\b\b\b\b\b\b\b\b\b\b\b\b\b\b\b\r",
      " 4/27 [===>..........................] - ETA: 0s - loss: 0.6999 - accuracy: 0.0100 - binary_accuracy: 0.5078     "
     ]
    },
    {
     "name": "stderr",
     "output_type": "stream",
     "text": [
      "2021-12-15 01:40:19.215575: I tensorflow/core/grappler/optimizers/custom_graph_optimizer_registry.cc:112] Plugin optimizer for device_type GPU is enabled.\n",
      "2021-12-15 01:40:19.258760: I tensorflow/core/grappler/optimizers/custom_graph_optimizer_registry.cc:112] Plugin optimizer for device_type GPU is enabled.\n"
     ]
    },
    {
     "name": "stdout",
     "output_type": "stream",
     "text": [
      "\b\b\b\b\b\b\b\b\b\b\b\b\b\b\b\b\b\b\b\b\b\b\b\b\b\b\b\b\b\b\b\b\b\b\b\b\b\b\b\b\b\b\b\b\b\b\b\b\b\b\b\b\b\b\b\b\b\b\b\b\b\b\b\b\b\b\b\b\b\b\b\b\b\b\b\b\b\b\b\b\b\b\b\b\b\b\b\b\b\b\b\b\b\b\b\b\b\b\b\b\b\b\b\b\b\b\b\b\r",
      " 7/27 [======>.......................] - ETA: 0s - loss: 0.6996 - accuracy: 0.0057 - binary_accuracy: 0.5121\b\b\b\b\b\b\b\b\b\b\b\b\b\b\b\b\b\b\b\b\b\b\b\b\b\b\b\b\b\b\b\b\b\b\b\b\b\b\b\b\b\b\b\b\b\b\b\b\b\b\b\b\b\b\b\b\b\b\b\b\b\b\b\b\b\b\b\b\b\b\b\b\b\b\b\b\b\b\b\b\b\b\b\b\b\b\b\b\b\b\b\b\b\b\b\b\b\b\b\b\b\b\b\b\b\b\b\b\b\b\b\b\b\r",
      " 3/27 [==>...........................] - ETA: 0s - loss: 0.7132 - accuracy: 0.0000e+00 - binary_accuracy: 0.4718 \b\b\b\b\b\b\b\b\b\b\b\b\b\b\b\b\b\b\b\b\b\b\b\b\b\b\b\b\b\b\b\b\b\b\b\b\b\b\b\b\b\b\b\b\b\b\b\b\b\b\b\b\b\b\b\b\b\b\b\b\b\b\b\b\b\b\b\b\b\b\b\b\b\b\b\b\b\b\b\b\b\b\b\b\b\b\b\b\b\b\b\b\b\b\b\b\b\b\b\b\b\b\b\b\b\b\b\b\r",
      " 6/27 [=====>........................] - ETA: 0s - loss: 0.6980 - accuracy: 0.0167 - binary_accuracy: 0.5120\b\b\b\b\b\b\b\b\b\b\b\b\b\b\b\b\b\b\b\b\b\b\b\b\b\b\b\b\b\b\b\b\b\b\b\b\b\b\b\b\b\b\b\b\b\b\b\b\b\b\b\b\b\b\b\b\b\b\b\b\b\b\b\b\b\b\b\b\b\b\b\b\b\b\b\b\b\b\b\b\b\b\b\b\b\b\b\b\b\b\b\b\b\b\b\b\b\b\b\b\b\b\b\b\b\b\b\b\r",
      " 9/27 [=========>....................] - ETA: 0s - loss: 0.6993 - accuracy: 0.0044 - binary_accuracy: 0.5125\b\b\b\b\b\b\b\b\b\b\b\b\b\b\b\b\b\b\b\b\b\b\b\b\b\b\b\b\b\b\b\b\b\b\b\b\b\b\b\b\b\b\b\b\b\b\b\b\b\b\b\b\b\b\b\b\b\b\b\b\b\b\b\b\b\b\b\b\b\b\b\b\b\b\b\b\b\b\b\b\b\b\b\b\b\b\b\b\b\b\b\b\b\b\b\b\b\b\b\b\b\b\b\b\b\b\b\b\r",
      " 7/27 [======>.......................] - ETA: 0s - loss: 0.6981 - accuracy: 0.0143 - binary_accuracy: 0.5125\b\b\b\b\b\b\b\b\b\b\b\b\b\b\b\b\b\b\b\b\b\b\b\b\b\b\b\b\b\b\b\b\b\b\b\b\b\b\b\b\b\b\b\b\b\b\b\b\b\b\b\b\b\b\b\b\b\b\b\b\b\b\b\b\b\b\b\b\b\b\b\b\b\b\b\b\b\b\b\b\b\b\b\b\b\b\b\b\b\b\b\b\b\b\b\b\b\b\b\b\b\b\b\b\b\b\b\b\b\b\b\b\r",
      " 6/27 [=====>........................] - ETA: 0s - loss: 0.7131 - accuracy: 0.0067 - binary_accuracy: 0.4701    [CV] END batch_size=20, dropout_rate=0, hidden_dim=256, n_epochs=750, n_hidden_layers=1, optimizer=SGD, output_activation=sigmoid; total time=   3.3s\n",
      "\r",
      " 1/27 [>.............................] - ETA: 27s - loss: 0.7054 - accuracy: 0.0200 - binary_accuracy: 0.5097\b\b\b\b\b\b\b\b\b\b\b\b\b\b\b\b\b\b\b\b\b\b\b\b\b\b\b\b\b\b\b\b\b\b\b\b\b\b\b\b\b\b\b\b\b\b\b\b\b\b\b\b\b\b\b\b\b\b\b\b\b\b\b\b\b\b\b\b\b\b\b\b\b\b\b\b\b\b\b\b\b\b\b\b\b\b\b\b\b\b\b\b\b\b\b\b\b\b\b\b\b\b\b\b\b\b\b\b\r",
      " 8/27 [=======>......................] - ETA: 0s - loss: 0.6976 - accuracy: 0.0150 - binary_accuracy: 0.5149\b\b\b\b\b\b\b\b\b\b\b\b\b\b\b\b\b\b\b\b\b\b\b\b\b\b\b\b\b\b\b\b\b\b\b\b\b\b\b\b\b\b\b\b\b\b\b\b\b\b\b\b\b\b\b\b\b\b\b\b\b\b\b\b\b\b\b\b\b\b\b\b\b\b\b\b\b\b\b\b\b\b\b\b\b\b\b\b\b\b\b\b\b\b\b\b\b\b\b\b\b\b\b\b\b\b\b\b\r",
      "11/27 [===========>..................] - ETA: 0s - loss: 0.6995 - accuracy: 0.0109 - binary_accuracy: 0.5107\b\b\b\b\b\b\b\b\b\b\b\b\b\b\b\b\b\b\b\b\b\b\b\b\b\b\b\b\b\b\b\b\b\b\b\b\b\b\b\b\b\b\b\b\b\b\b\b\b\b\b\b\b\b\b\b\b\b\b\b\b\b\b\b\b\b\b\b\b\b\b\b\b\b\b\b\b\b\b\b\b\b\b\b\b\b\b\b\b\b\b\b\b\b\b\b\b\b\b\b\b\b\b\b\b\b\b\b\r",
      " 8/27 [=======>......................] - ETA: 0s - loss: 0.7125 - accuracy: 0.0075 - binary_accuracy: 0.4725\b\b\b\b\b\b\b\b\b\b\b\b\b\b\b\b\b\b\b\b\b\b\b\b\b\b\b\b\b\b\b\b\b\b\b\b\b\b\b\b\b\b\b\b\b\b\b\b\b\b\b\b\b\b\b\b\b\b\b\b\b\b\b\b\b\b\b\b\b\b\b\b\b\b\b\b\b\b\b\b\b\b\b\b\b\b\b\b\b\b\b\b\b\b\b\b\b\b\b\b\b\b\b\b\b\b\b\b\b\r",
      " 2/27 [=>............................] - ETA: 1s - loss: 0.6976 - accuracy: 0.0200 - binary_accuracy: 0.5269 [CV] END batch_size=20, dropout_rate=0, hidden_dim=256, n_epochs=500, n_hidden_layers=1, optimizer=adam, output_activation=sigmoid; total time=   4.7s\n",
      "[CV] END batch_size=20, dropout_rate=0, hidden_dim=256, n_epochs=750, n_hidden_layers=1, optimizer=adamax, output_activation=sigmoid; total time=   0.7s\n",
      "[CV] END batch_size=20, dropout_rate=0, hidden_dim=256, n_epochs=750, n_hidden_layers=1, optimizer=adamax, output_activation=sigmoid; total time=   0.9s\n",
      "\r",
      " 1/27 [>.............................] - ETA: 16s - loss: 0.7094 - accuracy: 0.0400 - binary_accuracy: 0.4759"
     ]
    },
    {
     "name": "stderr",
     "output_type": "stream",
     "text": [
      "2021-12-15 01:40:19.497058: I tensorflow/core/grappler/optimizers/custom_graph_optimizer_registry.cc:112] Plugin optimizer for device_type GPU is enabled.\n",
      "2021-12-15 01:40:19.507491: I tensorflow/core/grappler/optimizers/custom_graph_optimizer_registry.cc:112] Plugin optimizer for device_type GPU is enabled.\n"
     ]
    },
    {
     "name": "stdout",
     "output_type": "stream",
     "text": [
      " 5/34 [===>..........................] - ETA: 0s - loss: 0.5920 - accuracy: 0.0000e+00 - binary_accuracy: 0.7078 [CV] END batch_size=20, dropout_rate=0, hidden_dim=256, n_epochs=750, n_hidden_layers=1, optimizer=adam, output_activation=sigmoid; total time=   3.5s\n",
      "27/27 [==============================] - 2s 31ms/step - loss: 0.7107 - accuracy: 0.0172 - binary_accuracy: 0.4771\n",
      "27/27 [==============================] - 2s 35ms/step - loss: 0.6991 - accuracy: 0.0120 - binary_accuracy: 0.5120\n",
      "27/27 [==============================] - 2s 35ms/step - loss: 0.6956 - accuracy: 0.0098 - binary_accuracy: 0.5217\n",
      "27/27 [==============================] - 2s 30ms/step - loss: 0.6323 - accuracy: 0.0045 - binary_accuracy: 0.6626\n",
      "17/27 [=================>............] - ETA: 0s - loss: 0.6491 - accuracy: 0.0035 - binary_accuracy: 0.6266"
     ]
    },
    {
     "name": "stderr",
     "output_type": "stream",
     "text": [
      "2021-12-15 01:40:20.313289: I tensorflow/core/grappler/optimizers/custom_graph_optimizer_registry.cc:112] Plugin optimizer for device_type GPU is enabled.\n",
      "2021-12-15 01:40:20.334248: I tensorflow/core/grappler/optimizers/custom_graph_optimizer_registry.cc:112] Plugin optimizer for device_type GPU is enabled.\n",
      "2021-12-15 01:40:20.364399: I tensorflow/core/grappler/optimizers/custom_graph_optimizer_registry.cc:112] Plugin optimizer for device_type GPU is enabled.\n"
     ]
    },
    {
     "name": "stdout",
     "output_type": "stream",
     "text": [
      "\b\b\b\b\b\b\b\b\b\b\b\b\b\b\b\b\b\b\b\b\b\b\b\b\b\b\b\b\b\b\b\b\b\b\b\b\b\b\b\b\b\b\b\b\b\b\b\b\b\b\b\b\b\b\b\b\b\b\b\b\b\b\b\b\b\b\b\b\b\b\b\b\b\b\b\b\b\b\b\b\b\b\b\b\b\b\b\b\b\b\b\b\b\b\b\b\b\b\b\b\b\b\b\b\b\b\b\b\r",
      "33/34 [============================>.] - ETA: 0s - loss: 0.5827 - accuracy: 0.0030 - binary_accuracy: 0.7160\b\b\b\b\b\b\b\b\b\b\b\b\b\b\b\b\b\b\b\b\b\b\b\b\b\b\b\b\b\b\b\b\b\b\b\b\b\b\b\b\b\b\b\b\b\b\b\b\b\b\b\b\b\b\b\b\b\b\b\b\b\b\b\b\b\b\b\b\b\b\b\b\b\b\b\b\b\b\b\b\b\b\b\b\b\b\b\b\b\b\b\b\b\b\b\b\b\b\b\b\b\b\b\b\b\b\b\b\r",
      "20/27 [=====================>........] - ETA: 0s - loss: 0.6431 - accuracy: 0.0030 - binary_accuracy: 0.6365\b\b\b\b\b\b\b\b\b\b\b\b\b\b\b\b\b\b\b\b\b\b\b\b\b\b\b\b\b\b\b\b\b\b\b\b\b\b\b\b\b\b\b\b\b\b\b\b\b\b\b\b\b\b\b\b\b\b\b\b\b\b\b\b\b\b\b\b\b\b\b\b\b\b\b\b\b\b\b\b\b\b\b\b\b\b\b\b\b\b\b\b\b\b\b\b\b\b\b\b\b\b\b\b\b\b\b\b\r",
      "27/27 [==============================] - ETA: 0s - loss: 0.6319 - accuracy: 0.0120 - binary_accuracy: 0.6556\b\b\b\b\b\b\b\b\b\b\b\b\b\b\b\b\b\b\b\b\b\b\b\b\b\b\b\b\b\b\b\b\b\b\b\b\b\b\b\b\b\b\b\b\b\b\b\b\b\b\b\b\b\b\b\b\b\b\b\b\b\b\b\b\b\b\b\b\b\b\b\b\b\b\b\b\b\b\b\b\b\b\b\b\b\b\b\b\b\b\b\b\b\b\b\b\b\b\b\b\b\b\b\b\b\b\b\b\r",
      "27/27 [==============================] - 2s 34ms/step - loss: 0.6319 - accuracy: 0.0120 - binary_accuracy: 0.6556\n",
      "\r",
      " 1/14 [=>............................] - ETA: 3s - loss: 0.6997 - accuracy: 0.0000e+00 - binary_accuracy: 0.5175\r",
      " 1/14 [=>............................] - ETA: 3s - loss: 0.7085 - accuracy: 0.0200 - binary_accuracy: 0.4731\b\b\b\b\b\b\b\b\b\b\b\b\b\b\b\b\b\b\b\b\b\b\b\b\b\b\b\b\b\b\b\b\b\b\b\b\b\b\b\b\b\b\b\b\b\b\b\b\b\b\b\b\b\b\b\b\b\b\b\b\b\b\b\b\b\b\b\b\b\b\b\b\b\b\b\b\b\b\b\b\b\b\b\b\b\b\b\b\b\b\b\b\b\b\b\b\b\b\b\b\b\b\b\b\b\b\b\b\r",
      "34/34 [==============================] - ETA: 0s - loss: 0.5825 - accuracy: 0.0030 - binary_accuracy: 0.7165\b\b\b\b\b\b\b\b\b\b\b\b\b\b\b\b\b\b\b\b\b\b\b\b\b\b\b\b\b\b\b\b\b\b\b\b\b\b\b\b\b\b\b\b\b\b\b\b\b\b\b\b\b\b\b\b\b\b\b\b\b\b\b\b\b\b\b\b\b\b\b\b\b\b\b\b\b\b\b\b\b\b\b\b\b\b\b\b\b\b\b\b\b\b\b\b\b\b\b\b\b\b\b\b\b\b\b\b\r",
      "34/34 [==============================] - 1s 23ms/step - loss: 0.5825 - accuracy: 0.0030 - binary_accuracy: 0.7165\n",
      "\r",
      " 1/14 [=>............................] - ETA: 3s - loss: 0.6982 - accuracy: 0.0200 - binary_accuracy: 0.5047\b\b\b\b\b\b\b\b\b\b\b\b\b\b\b\b\b\b\b\b\b\b\b\b\b\b\b\b\b\b\b\b\b\b\b\b\b\b\b\b\b\b\b\b\b\b\b\b\b\b\b\b\b\b\b\b\b\b\b\b\b\b\b\b\b\b\b\b\b\b\b\b\b\b\b\b\b\b\b\b\b\b\b\b\b\b\b\b\b\b\b\b\b\b\b\b\b\b\b\b\b\b\b\b\b\b\b\b\r",
      "23/27 [========================>.....] - ETA: 0s - loss: 0.6384 - accuracy: 0.0035 - binary_accuracy: 0.6429\b\b\b\b\b\b\b\b\b\b\b\b\b\b\b\b\b\b\b\b\b\b\b\b\b\b\b\b\b\b\b\b\b\b\b\b\b\b\b\b\b\b\b\b\b\b\b\b\b\b\b\b\b\b\b\b\b\b\b\b\b\b\b\b\b\b\b\b\b\b\b\b\b\b\b\b\b\b\b\b\b\b\b\b\b\b\b\b\b\b\b\b\b\b\b\b\b\b\b\b\b\b\b\b\b\b\b\b\r",
      " 7/14 [==============>...............] - ETA: 0s - loss: 0.7095 - accuracy: 0.0114 - binary_accuracy: 0.4753\b\b\b\b\b\b\b\b\b\b\b\b\b\b\b\b\b\b\b\b\b\b\b\b\b\b\b\b\b\b\b\b\b\b\b\b\b\b\b\b\b\b\b\b\b\b\b\b\b\b\b\b\b\b\b\b\b\b\b\b\b\b\b\b\b\b\b\b\b\b\b\b\b\b\b\b\b\b\b\b\b\b\b\b\b\b\b\b\b\b\b\b\b\b\b\b\b\b\b\b\b\b\b\b\b\b\b\b\b\b\b\b\r",
      " 3/14 [=====>........................] - ETA: 0s - loss: 0.6990 - accuracy: 0.0000e+00 - binary_accuracy: 0.5158\b\b\b\b\b\b\b\b\b\b\b\b\b\b\b\b\b\b\b\b\b\b\b\b\b\b\b\b\b\b\b\b\b\b\b\b\b\b\b\b\b\b\b\b\b\b\b\b\b\b\b\b\b\b\b\b\b\b\b\b\b\b\b\b\b\b\b\b\b\b\b\b\b\b\b\b\b\b\b\b\b\b\b\b\b\b\b\b\b\b\b\b\b\b\b\b\b\b\b\b\b\b\b\b\b\b\b\b\r",
      " 5/14 [=========>....................] - ETA: 0s - loss: 0.6939 - accuracy: 0.0040 - binary_accuracy: 0.5282\b\b\b\b\b\b\b\b\b\b\b\b\b\b\b\b\b\b\b\b\b\b\b\b\b\b\b\b\b\b\b\b\b\b\b\b\b\b\b\b\b\b\b\b\b\b\b\b\b\b\b\b\b\b\b\b\b\b\b\b\b\b\b\b\b\b\b\b\b\b\b\b\b\b\b\b\b\b\b\b\b\b\b\b\b\b\b\b\b\b\b\b\b\b\b\b\b\b\b\b\b\b\b\b\b\b\b\b\r",
      "26/27 [===========================>..] - ETA: 0s - loss: 0.6345 - accuracy: 0.0031 - binary_accuracy: 0.6483\b\b\b\b\b\b\b\b\b\b\b\b\b\b\b\b\b\b\b\b\b\b\b\b\b\b\b\b\b\b\b\b\b\b\b\b\b\b\b\b\b\b\b\b\b\b\b\b\b\b\b\b\b\b\b\b\b\b\b\b\b\b\b\b\b\b\b\b\b\b\b\b\b\b\b\b\b\b\b\b\b\b\b\b\b\b\b\b\b\b\b\b\b\b\b\b\b\b\b\b\b\b\b\b\b\b\b\b\r",
      "13/14 [==========================>...] - ETA: 0s - loss: 0.7097 - accuracy: 0.0169 - binary_accuracy: 0.4756\b\b\b\b\b\b\b\b\b\b\b\b\b\b\b\b\b\b\b\b\b\b\b\b\b\b\b\b\b\b\b\b\b\b\b\b\b\b\b\b\b\b\b\b\b\b\b\b\b\b\b\b\b\b\b\b\b\b\b\b\b\b\b\b\b\b\b\b\b\b\b\b\b\b\b\b\b\b\b\b\b\b\b\b\b\b\b\b\b\b\b\b\b\b\b\b\b\b\b\b\b\b\b\b\b\b\b\b\b\b\b\b\r",
      " 8/14 [================>.............] - ETA: 0s - loss: 0.6985 - accuracy: 0.0125 - binary_accuracy: 0.5144    \b\b\b\b\b\b\b\b\b\b\b\b\b\b\b\b\b\b\b\b\b\b\b\b\b\b\b\b\b\b\b\b\b\b\b\b\b\b\b\b\b\b\b\b\b\b\b\b\b\b\b\b\b\b\b\b\b\b\b\b\b\b\b\b\b\b\b\b\b\b\b\b\b\b\b\b\b\b\b\b\b\b\b\b\b\b\b\b\b\b\b\b\b\b\b\b\b\b\b\b\b\b\b\b\b\b\b\b\r",
      " 8/14 [================>.............] - ETA: 0s - loss: 0.6940 - accuracy: 0.0100 - binary_accuracy: 0.5297"
     ]
    },
    {
     "name": "stderr",
     "output_type": "stream",
     "text": [
      "2021-12-15 01:40:20.523086: I tensorflow/core/grappler/optimizers/custom_graph_optimizer_registry.cc:112] Plugin optimizer for device_type GPU is enabled.\n",
      "2021-12-15 01:40:20.688456: I tensorflow/core/grappler/optimizers/custom_graph_optimizer_registry.cc:112] Plugin optimizer for device_type GPU is enabled.\n"
     ]
    },
    {
     "name": "stdout",
     "output_type": "stream",
     "text": [
      "\b\b\b\b\b\b\b\b\b\b\b\b\b\b\b\b\b\b\b\b\b\b\b\b\b\b\b\b\b\b\b\b\b\b\b\b\b\b\b\b\b\b\b\b\b\b\b\b\b\b\b\b\b\b\b\b\b\b\b\b\b\b\b\b\b\b\b\b\b\b\b\b\b\b\b\b\b\b\b\b\b\b\b\b\b\b\b\b\b\b\b\b\b\b\b\b\b\b\b\b\b\b\b\b\b\b\b\b\r",
      "14/14 [==============================] - 0s 13ms/step - loss: 0.7098 - accuracy: 0.0165 - binary_accuracy: 0.4752\n",
      "\b\b\b\b\b\b\b\b\b\b\b\b\b\b\b\b\b\b\b\b\b\b\b\b\b\b\b\b\b\b\b\b\b\b\b\b\b\b\b\b\b\b\b\b\b\b\b\b\b\b\b\b\b\b\b\b\b\b\b\b\b\b\b\b\b\b\b\b\b\b\b\b\b\b\b\b\b\b\b\b\b\b\b\b\b\b\b\b\b\b\b\b\b\b\b\b\b\b\b\b\b\b\b\b\b\b\b\b\r",
      "27/27 [==============================] - ETA: 0s - loss: 0.6339 - accuracy: 0.0030 - binary_accuracy: 0.6496\b\b\b\b\b\b\b\b\b\b\b\b\b\b\b\b\b\b\b\b\b\b\b\b\b\b\b\b\b\b\b\b\b\b\b\b\b\b\b\b\b\b\b\b\b\b\b\b\b\b\b\b\b\b\b\b\b\b\b\b\b\b\b\b\b\b\b\b\b\b\b\b\b\b\b\b\b\b\b\b\b\b\b\b\b\b\b\b\b\b\b\b\b\b\b\b\b\b\b\b\b\b\b\b\b\b\b\b\r",
      "27/27 [==============================] - 2s 30ms/step - loss: 0.6339 - accuracy: 0.0030 - binary_accuracy: 0.6496\n",
      "\b\b\b\b\b\b\b\b\b\b\b\b\b\b\b\b\b\b\b\b\b\b\b\b\b\b\b\b\b\b\b\b\b\b\b\b\b\b\b\b\b\b\b\b\b\b\b\b\b\b\b\b\b\b\b\b\b\b\b\b\b\b\b\b\b\b\b\b\b\b\b\b\b\b\b\b\b\b\b\b\b\b\b\b\b\b\b\b\b\b\b\b\b\b\b\b\b\b\b\b\b\b\b\b\b\b\b\b\r",
      "13/14 [==========================>...] - ETA: 0s - loss: 0.6941 - accuracy: 0.0108 - binary_accuracy: 0.5286\b\b\b\b\b\b\b\b\b\b\b\b\b\b\b\b\b\b\b\b\b\b\b\b\b\b\b\b\b\b\b\b\b\b\b\b\b\b\b\b\b\b\b\b\b\b\b\b\b\b\b\b\b\b\b\b\b\b\b\b\b\b\b\b\b\b\b\b\b\b\b\b\b\b\b\b\b\b\b\b\b\b\b\b\b\b\b\b\b\b\b\b\b\b\b\b\b\b\b\b\b\b\b\b\b\b\b\b\r",
      "14/14 [==============================] - ETA: 0s - loss: 0.6978 - accuracy: 0.0075 - binary_accuracy: 0.5165\b\b\b\b\b\b\b\b\b\b\b\b\b\b\b\b\b\b\b\b\b\b\b\b\b\b\b\b\b\b\b\b\b\b\b\b\b\b\b\b\b\b\b\b\b\b\b\b\b\b\b\b\b\b\b\b\b\b\b\b\b\b\b\b\b\b\b\b\b\b\b\b\b\b\b\b\b\b\b\b\b\b\b\b\b\b\b\b\b\b\b\b\b\b\b\b\b\b\b\b\b\b\b\b\b\b\b\b\r",
      "14/14 [==============================] - 0s 16ms/step - loss: 0.6978 - accuracy: 0.0075 - binary_accuracy: 0.5165\n",
      "\b\b\b\b\b\b\b\b\b\b\b\b\b\b\b\b\b\b\b\b\b\b\b\b\b\b\b\b\b\b\b\b\b\b\b\b\b\b\b\b\b\b\b\b\b\b\b\b\b\b\b\b\b\b\b\b\b\b\b\b\b\b\b\b\b\b\b\b\b\b\b\b\b\b\b\b\b\b\b\b\b\b\b\b\b\b\b\b\b\b\b\b\b\b\b\b\b\b\b\b\b\b\b\b\b\b\b\b\r",
      "14/14 [==============================] - ETA: 0s - loss: 0.6942 - accuracy: 0.0105 - binary_accuracy: 0.5282\b\b\b\b\b\b\b\b\b\b\b\b\b\b\b\b\b\b\b\b\b\b\b\b\b\b\b\b\b\b\b\b\b\b\b\b\b\b\b\b\b\b\b\b\b\b\b\b\b\b\b\b\b\b\b\b\b\b\b\b\b\b\b\b\b\b\b\b\b\b\b\b\b\b\b\b\b\b\b\b\b\b\b\b\b\b\b\b\b\b\b\b\b\b\b\b\b\b\b\b\b\b\b\b\b\b\b\b\r",
      "14/14 [==============================] - 0s 17ms/step - loss: 0.6942 - accuracy: 0.0105 - binary_accuracy: 0.5282\n",
      "\r",
      " 1/14 [=>............................] - ETA: 5s - loss: 0.5925 - accuracy: 0.0000e+00 - binary_accuracy: 0.7063\r",
      " 1/14 [=>............................] - ETA: 3s - loss: 0.6209 - accuracy: 0.0200 - binary_accuracy: 0.6841\b\b\b\b\b\b\b\b\b\b\b\b\b\b\b\b\b\b\b\b\b\b\b\b\b\b\b\b\b\b\b\b\b\b\b\b\b\b\b\b\b\b\b\b\b\b\b\b\b\b\b\b\b\b\b\b\b\b\b\b\b\b\b\b\b\b\b\b\b\b\b\b\b\b\b\b\b\b\b\b\b\b\b\b\b\b\b\b\b\b\b\b\b\b\b\b\b\b\b\b\b\b\b\b\b\b\b\b\b\b\b\b\r",
      " 5/14 [=========>....................] - ETA: 0s - loss: 0.5990 - accuracy: 0.0000e+00 - binary_accuracy: 0.6971"
     ]
    },
    {
     "name": "stderr",
     "output_type": "stream",
     "text": [
      "2021-12-15 01:40:20.781895: I tensorflow/core/grappler/optimizers/custom_graph_optimizer_registry.cc:112] Plugin optimizer for device_type GPU is enabled.\n"
     ]
    },
    {
     "name": "stdout",
     "output_type": "stream",
     "text": [
      "14/14 [==============================] - 1s 23ms/step - loss: 0.6013 - accuracy: 0.0045 - binary_accuracy: 0.6934\n",
      "14/14 [==============================] - 1s 25ms/step - loss: 0.6090 - accuracy: 0.0105 - binary_accuracy: 0.6909\n",
      "12/14 [========================>.....] - ETA: 0s - loss: 0.5940 - accuracy: 0.0017 - binary_accuracy: 0.7046"
     ]
    },
    {
     "name": "stderr",
     "output_type": "stream",
     "text": [
      "2021-12-15 01:40:21.317168: I tensorflow/core/grappler/optimizers/custom_graph_optimizer_registry.cc:112] Plugin optimizer for device_type GPU is enabled.\n",
      "2021-12-15 01:40:21.356163: I tensorflow/core/grappler/optimizers/custom_graph_optimizer_registry.cc:112] Plugin optimizer for device_type GPU is enabled.\n"
     ]
    },
    {
     "name": "stdout",
     "output_type": "stream",
     "text": [
      "14/14 [==============================] - 1s 47ms/step - loss: 0.5947 - accuracy: 0.0015 - binary_accuracy: 0.7038\n",
      "[CV] END batch_size=50, dropout_rate=0, hidden_dim=256, n_epochs=100, n_hidden_layers=1, optimizer=SGD, output_activation=sigmoid; total time=   2.3s\n",
      " 1/27 [>.............................] - ETA: 17s - loss: 0.6927 - accuracy: 0.0000e+00 - binary_accuracy: 0.5297[CV] END batch_size=50, dropout_rate=0, hidden_dim=256, n_epochs=100, n_hidden_layers=1, optimizer=SGD, output_activation=sigmoid; total time=   2.5s\n",
      "14/27 [==============>...............] - ETA: 0s - loss: 0.6913 - accuracy: 0.0086 - binary_accuracy: 0.5326  9 "
     ]
    },
    {
     "name": "stderr",
     "output_type": "stream",
     "text": [
      "2021-12-15 01:40:21.875544: I tensorflow/core/grappler/optimizers/custom_graph_optimizer_registry.cc:112] Plugin optimizer for device_type GPU is enabled.\n"
     ]
    },
    {
     "name": "stdout",
     "output_type": "stream",
     "text": [
      "\b\b\b\b\b\b\b\b\b\b\b\b\b\b\b\b\b\b\b\b\b\b\b\b\b\b\b\b\b\b\b\b\b\b\b\b\b\b\b\b\b\b\b\b\b\b\b\b\b\b\b\b\b\b\b\b\b\b\b\b\b\b\b\b\b\b\b\b\b\b\b\b\b\b\b\b\b\b\b\b\b\b\b\b\b\b\b\b\b\b\b\b\b\b\b\b\b\b\b\b\b\b\b\b\b\b\b\b\r",
      "17/27 [=================>............] - ETA: 0s - loss: 0.6931 - accuracy: 0.0071 - binary_accuracy: 0.5316\b\b\b\b\b\b\b\b\b\b\b\b\b\b\b\b\b\b\b\b\b\b\b\b\b\b\b\b\b\b\b\b\b\b\b\b\b\b\b\b\b\b\b\b\b\b\b\b\b\b\b\b\b\b\b\b\b\b\b\b\b\b\b\b\b\b\b\b\b\b\b\b\b\b\b\b\b\b\b\b\b\b\b\b\b\b\b\b\b\b\b\b\b\b\b\b\b\b\b\b\b\b\b\b\b\b\b\b\r",
      "18/27 [===================>..........] - ETA: 0s - loss: 0.6906 - accuracy: 0.0078 - binary_accuracy: 0.5339\b\b\b\b\b\b\b\b\b\b\b\b\b\b\b\b\b\b\b\b\b\b\b\b\b\b\b\b\b\b\b\b\b\b\b\b\b\b\b\b\b\b\b\b\b\b\b\b\b\b\b\b\b\b\b\b\b\b\b\b\b\b\b\b\b\b\b\b\b\b\b\b\b\b\b\b\b\b\b\b\b\b\b\b\b\b\b\b\b\b\b\b\b\b\b\b\b\b\b\b\b\b\b\b\b\b\b\b\r",
      "22/27 [=======================>......] - ETA: 0s - loss: 0.6910 - accuracy: 0.0082 - binary_accuracy: 0.5331\b\b\b\b\b\b\b\b\b\b\b\b\b\b\b\b\b\b\b\b\b\b\b\b\b\b\b\b\b\b\b\b\b\b\b\b\b\b\b\b\b\b\b\b\b\b\b\b\b\b\b\b\b\b\b\b\b\b\b\b\b\b\b\b\b\b\b\b\b\b\b\b\b\b\b\b\b\b\b\b\b\b\b\b\b\b\b\b\b\b\b\b\b\b\b\b\b\b\b\b\b\b\b\b\b\b\b\b\r",
      "21/27 [======================>.......] - ETA: 0s - loss: 0.6929 - accuracy: 0.0057 - binary_accuracy: 0.5324\b\b\b\b\b\b\b\b\b\b\b\b\b\b\b\b\b\b\b\b\b\b\b\b\b\b\b\b\b\b\b\b\b\b\b\b\b\b\b\b\b\b\b\b\b\b\b\b\b\b\b\b\b\b\b\b\b\b\b\b\b\b\b\b\b\b\b\b\b\b\b\b\b\b\b\b\b\b\b\b\b\b\b\b\b\b\b\b\b\b\b\b\b\b\b\b\b\b\b\b\b\b\b\b\b\b\b\b\r",
      "26/27 [===========================>..] - ETA: 0s - loss: 0.6927 - accuracy: 0.0046 - binary_accuracy: 0.5325\b\b\b\b\b\b\b\b\b\b\b\b\b\b\b\b\b\b\b\b\b\b\b\b\b\b\b\b\b\b\b\b\b\b\b\b\b\b\b\b\b\b\b\b\b\b\b\b\b\b\b\b\b\b\b\b\b\b\b\b\b\b\b\b\b\b\b\b\b\b\b\b\b\b\b\b\b\b\b\b\b\b\b\b\b\b\b\b\b\b\b\b\b\b\b\b\b\b\b\b\b\b\b\b\b\b\b\b\r",
      "27/27 [==============================] - ETA: 0s - loss: 0.6908 - accuracy: 0.0083 - binary_accuracy: 0.5335\b\b\b\b\b\b\b\b\b\b\b\b\b\b\b\b\b\b\b\b\b\b\b\b\b\b\b\b\b\b\b\b\b\b\b\b\b\b\b\b\b\b\b\b\b\b\b\b\b\b\b\b\b\b\b\b\b\b\b\b\b\b\b\b\b\b\b\b\b\b\b\b\b\b\b\b\b\b\b\b\b\b\b\b\b\b\b\b\b\b\b\b\b\b\b\b\b\b\b\b\b\b\b\b\b\b\b\b\r",
      "27/27 [==============================] - 1s 16ms/step - loss: 0.6908 - accuracy: 0.0083 - binary_accuracy: 0.5335\n",
      "\b\b\b\b\b\b\b\b\b\b\b\b\b\b\b\b\b\b\b\b\b\b\b\b\b\b\b\b\b\b\b\b\b\b\b\b\b\b\b\b\b\b\b\b\b\b\b\b\b\b\b\b\b\b\b\b\b\b\b\b\b\b\b\b\b\b\b\b\b\b\b\b\b\b\b\b\b\b\b\b\b\b\b\b\b\b\b\b\b\b\b\b\b\b\b\b\b\b\b\b\b\b\b\b\b\b\b\b\r",
      "27/27 [==============================] - ETA: 0s - loss: 0.6927 - accuracy: 0.0045 - binary_accuracy: 0.5324\b\b\b\b\b\b\b\b\b\b\b\b\b\b\b\b\b\b\b\b\b\b\b\b\b\b\b\b\b\b\b\b\b\b\b\b\b\b\b\b\b\b\b\b\b\b\b\b\b\b\b\b\b\b\b\b\b\b\b\b\b\b\b\b\b\b\b\b\b\b\b\b\b\b\b\b\b\b\b\b\b\b\b\b\b\b\b\b\b\b\b\b\b\b\b\b\b\b\b\b\b\b\b\b\b\b\b\b\r",
      "27/27 [==============================] - 1s 16ms/step - loss: 0.6927 - accuracy: 0.0045 - binary_accuracy: 0.5324\n"
     ]
    },
    {
     "name": "stderr",
     "output_type": "stream",
     "text": [
      "2021-12-15 01:40:22.095076: I tensorflow/core/grappler/optimizers/custom_graph_optimizer_registry.cc:112] Plugin optimizer for device_type GPU is enabled.\n",
      "2021-12-15 01:40:22.100232: I tensorflow/core/grappler/optimizers/custom_graph_optimizer_registry.cc:112] Plugin optimizer for device_type GPU is enabled.\n",
      "2021-12-15 01:40:22.192876: I tensorflow/core/grappler/optimizers/custom_graph_optimizer_registry.cc:112] Plugin optimizer for device_type GPU is enabled.\n",
      "2021-12-15 01:40:22.252574: I tensorflow/core/grappler/optimizers/custom_graph_optimizer_registry.cc:112] Plugin optimizer for device_type GPU is enabled.\n",
      "2021-12-15 01:40:22.290058: I tensorflow/core/grappler/optimizers/custom_graph_optimizer_registry.cc:112] Plugin optimizer for device_type GPU is enabled.\n"
     ]
    },
    {
     "name": "stdout",
     "output_type": "stream",
     "text": [
      "[CV] END batch_size=20, dropout_rate=0, hidden_dim=256, n_epochs=750, n_hidden_layers=1, optimizer=adam, output_activation=sigmoid; total time=   4.0s\n",
      "[CV] END batch_size=50, dropout_rate=0, hidden_dim=256, n_epochs=100, n_hidden_layers=1, optimizer=adamax, output_activation=sigmoid; total time=   0.8s\n",
      "[CV] END batch_size=50, dropout_rate=0, hidden_dim=256, n_epochs=100, n_hidden_layers=1, optimizer=adamax, output_activation=sigmoid; total time=   0.7s\n",
      "10/27 [==========>...................] - ETA: 0s - loss: 0.6919 - accuracy: 0.0180 - binary_accuracy: 0.5423[CV] END batch_size=20, dropout_rate=0, hidden_dim=256, n_epochs=750, n_hidden_layers=1, optimizer=adam, output_activation=sigmoid; total time=   4.0s\n",
      "[CV] END batch_size=50, dropout_rate=0, hidden_dim=256, n_epochs=100, n_hidden_layers=1, optimizer=adamax, output_activation=sigmoid; total time=   0.5s\n",
      " 1/14 [=>............................] - ETA: 2s - loss: 0.6891 - accuracy: 0.0000e+00 - binary_accuracy: 0.5525[CV] END batch_size=50, dropout_rate=0, hidden_dim=256, n_epochs=100, n_hidden_layers=1, optimizer=SGD, output_activation=sigmoid; total time=   2.8s\n",
      " 3/27 [==>...........................] - ETA: 0s - loss: 0.6976 - accuracy: 0.0067 - binary_accuracy: 0.5142     [CV] END batch_size=50, dropout_rate=0, hidden_dim=256, n_epochs=100, n_hidden_layers=1, optimizer=adam, output_activation=sigmoid; total time=   2.7s\n",
      "14/14 [==============================] - 0s 17ms/step - loss: 0.6927 - accuracy: 0.0120 - binary_accuracy: 0.5339\n",
      "27/27 [==============================] - 1s 22ms/step - loss: 0.6906 - accuracy: 0.0165 - binary_accuracy: 0.5447\n",
      "14/14 [==============================] - 1s 29ms/step - loss: 0.6893 - accuracy: 0.0120 - binary_accuracy: 0.5387\n",
      "25/27 [==========================>...] - ETA: 0s - loss: 0.6365 - accuracy: 0.0080 - binary_accuracy: 0.6501"
     ]
    },
    {
     "name": "stderr",
     "output_type": "stream",
     "text": [
      "2021-12-15 01:40:22.958933: I tensorflow/core/grappler/optimizers/custom_graph_optimizer_registry.cc:112] Plugin optimizer for device_type GPU is enabled.\n"
     ]
    },
    {
     "name": "stdout",
     "output_type": "stream",
     "text": [
      "27/27 [==============================] - 2s 26ms/step - loss: 0.6323 - accuracy: 0.0060 - binary_accuracy: 0.6538\n",
      "27/27 [==============================] - 2s 29ms/step - loss: 0.6348 - accuracy: 0.0075 - binary_accuracy: 0.6525\n",
      "27/27 [==============================] - 2s 31ms/step - loss: 0.6324 - accuracy: 0.0082 - binary_accuracy: 0.6520\n",
      "14/14 [==============================] - 1s 20ms/step - loss: 0.6912 - accuracy: 0.0120 - binary_accuracy: 0.5391\n",
      " 5/14 [=========>....................] - ETA: 0s - loss: 0.6005 - accuracy: 0.0040 - binary_accuracy: 0.6951    "
     ]
    },
    {
     "name": "stderr",
     "output_type": "stream",
     "text": [
      "2021-12-15 01:40:23.278150: I tensorflow/core/grappler/optimizers/custom_graph_optimizer_registry.cc:112] Plugin optimizer for device_type GPU is enabled.\n",
      "2021-12-15 01:40:23.293857: I tensorflow/core/grappler/optimizers/custom_graph_optimizer_registry.cc:112] Plugin optimizer for device_type GPU is enabled.\n",
      "2021-12-15 01:40:23.407133: I tensorflow/core/grappler/optimizers/custom_graph_optimizer_registry.cc:112] Plugin optimizer for device_type GPU is enabled.\n",
      "2021-12-15 01:40:23.411808: I tensorflow/core/grappler/optimizers/custom_graph_optimizer_registry.cc:112] Plugin optimizer for device_type GPU is enabled.\n"
     ]
    },
    {
     "name": "stdout",
     "output_type": "stream",
     "text": [
      " 4/14 [=======>......................] - ETA: 0s - loss: 0.5995 - accuracy: 0.0000e+00 - binary_accuracy: 0.7018[CV] END batch_size=50, dropout_rate=0, hidden_dim=256, n_epochs=100, n_hidden_layers=1, optimizer=adam, output_activation=sigmoid; total time=   2.5s\n",
      "[CV] END batch_size=50, dropout_rate=0, hidden_dim=256, n_epochs=250, n_hidden_layers=1, optimizer=adamax, output_activation=sigmoid; total time=   0.9s\n",
      "14/14 [==============================] - 1s 32ms/step - loss: 0.6076 - accuracy: 0.0060 - binary_accuracy: 0.6923\n",
      "14/14 [==============================] - 1s 32ms/step - loss: 0.6019 - accuracy: 0.0015 - binary_accuracy: 0.6926\n",
      "14/14 [==============================] - 1s 24ms/step - loss: 0.5937 - accuracy: 0.0060 - binary_accuracy: 0.7088\n",
      "10/27 [==========>...................] - ETA: 0s - loss: 0.7229 - accuracy: 0.0180 - binary_accuracy: 0.4639"
     ]
    },
    {
     "name": "stderr",
     "output_type": "stream",
     "text": [
      "2021-12-15 01:40:23.887392: I tensorflow/core/grappler/optimizers/custom_graph_optimizer_registry.cc:112] Plugin optimizer for device_type GPU is enabled.\n",
      "2021-12-15 01:40:23.903049: I tensorflow/core/grappler/optimizers/custom_graph_optimizer_registry.cc:112] Plugin optimizer for device_type GPU is enabled.\n"
     ]
    },
    {
     "name": "stdout",
     "output_type": "stream",
     "text": [
      "17/27 [=================>............] - ETA: 0s - loss: 0.7216 - accuracy: 0.0176 - binary_accuracy: 0.4664[CV] END batch_size=50, dropout_rate=0, hidden_dim=256, n_epochs=250, n_hidden_layers=1, optimizer=SGD, output_activation=sigmoid; total time=   2.0s\n",
      " 1/27 [>.............................] - ETA: 23s - loss: 0.7080 - accuracy: 0.0000e+00 - binary_accuracy: 0.4787[CV] END batch_size=50, dropout_rate=0, hidden_dim=256, n_epochs=250, n_hidden_layers=1, optimizer=SGD, output_activation=sigmoid; total time=   1.9s\n",
      " 3/27 [==>...........................] - ETA: 0s - loss: 0.7070 - accuracy: 0.0133 - binary_accuracy: 0.4821     "
     ]
    },
    {
     "name": "stderr",
     "output_type": "stream",
     "text": [
      "2021-12-15 01:40:24.220313: I tensorflow/core/grappler/optimizers/custom_graph_optimizer_registry.cc:112] Plugin optimizer for device_type GPU is enabled.\n",
      "2021-12-15 01:40:24.422315: I tensorflow/core/grappler/optimizers/custom_graph_optimizer_registry.cc:112] Plugin optimizer for device_type GPU is enabled.\n"
     ]
    },
    {
     "name": "stdout",
     "output_type": "stream",
     "text": [
      "26/27 [===========================>..] - ETA: 0s - loss: 0.7205 - accuracy: 0.0138 - binary_accuracy: 0.4686[CV] END batch_size=50, dropout_rate=0, hidden_dim=256, n_epochs=100, n_hidden_layers=1, optimizer=adam, output_activation=sigmoid; total time=   2.4s\n",
      "[CV] END batch_size=50, dropout_rate=0, hidden_dim=256, n_epochs=250, n_hidden_layers=1, optimizer=adamax, output_activation=sigmoid; total time=   0.6s\n",
      "[CV] END batch_size=50, dropout_rate=0, hidden_dim=256, n_epochs=250, n_hidden_layers=1, optimizer=adamax, output_activation=sigmoid; total time=   0.9s\n",
      "10/27 [==========>...................] - ETA: 0s - loss: 0.7154 - accuracy: 0.0120 - binary_accuracy: 0.4793[CV] END batch_size=50, dropout_rate=0, hidden_dim=256, n_epochs=250, n_hidden_layers=1, optimizer=SGD, output_activation=sigmoid; total time=   2.1s\n",
      "27/27 [==============================] - 2s 39ms/step - loss: 0.7204 - accuracy: 0.0143 - binary_accuracy: 0.4687\n",
      "18/27 [===================>..........] - ETA: 0s - loss: 0.7082 - accuracy: 0.0189 - binary_accuracy: 0.4823   "
     ]
    },
    {
     "name": "stderr",
     "output_type": "stream",
     "text": [
      "2021-12-15 01:40:24.668647: I tensorflow/core/grappler/optimizers/custom_graph_optimizer_registry.cc:112] Plugin optimizer for device_type GPU is enabled.\n"
     ]
    },
    {
     "name": "stdout",
     "output_type": "stream",
     "text": [
      "11/27 [===========>..................] - ETA: 0s - loss: 0.6620 - accuracy: 0.0109 - binary_accuracy: 0.6051[CV] END batch_size=50, dropout_rate=0, hidden_dim=256, n_epochs=250, n_hidden_layers=1, optimizer=adam, output_activation=sigmoid; total time=   2.4s\n",
      "27/27 [==============================] - 2s 27ms/step - loss: 0.7146 - accuracy: 0.0120 - binary_accuracy: 0.4819\n",
      "27/27 [==============================] - 2s 32ms/step - loss: 0.7079 - accuracy: 0.0150 - binary_accuracy: 0.4829\n",
      "14/27 [==============>...............] - ETA: 0s - loss: 0.6554 - accuracy: 0.0129 - binary_accuracy: 0.6193"
     ]
    },
    {
     "name": "stderr",
     "output_type": "stream",
     "text": [
      "2021-12-15 01:40:25.241367: I tensorflow/core/grappler/optimizers/custom_graph_optimizer_registry.cc:112] Plugin optimizer for device_type GPU is enabled.\n",
      "2021-12-15 01:40:25.342969: I tensorflow/core/grappler/optimizers/custom_graph_optimizer_registry.cc:112] Plugin optimizer for device_type GPU is enabled.\n",
      "2021-12-15 01:40:25.347112: I tensorflow/core/grappler/optimizers/custom_graph_optimizer_registry.cc:112] Plugin optimizer for device_type GPU is enabled.\n",
      "2021-12-15 01:40:25.435437: I tensorflow/core/grappler/optimizers/custom_graph_optimizer_registry.cc:112] Plugin optimizer for device_type GPU is enabled.\n"
     ]
    },
    {
     "name": "stdout",
     "output_type": "stream",
     "text": [
      "27/27 [==============================] - 2s 27ms/step - loss: 0.6332 - accuracy: 0.0038 - binary_accuracy: 0.6566\n",
      "27/27 [==============================] - 1s 25ms/step - loss: 0.6286 - accuracy: 0.0075 - binary_accuracy: 0.6585\n",
      "14/14 [==============================] - 1s 19ms/step - loss: 0.7198 - accuracy: 0.0120 - binary_accuracy: 0.4723\n",
      "27/27 [==============================] - 1s 24ms/step - loss: 0.6337 - accuracy: 0.0090 - binary_accuracy: 0.6516\n",
      " 7/14 [==============>...............] - ETA: 0s - loss: 0.7063 - accuracy: 0.0114 - binary_accuracy: 0.4837"
     ]
    },
    {
     "name": "stderr",
     "output_type": "stream",
     "text": [
      "2021-12-15 01:40:25.608984: I tensorflow/core/grappler/optimizers/custom_graph_optimizer_registry.cc:112] Plugin optimizer for device_type GPU is enabled.\n",
      "2021-12-15 01:40:25.790939: I tensorflow/core/grappler/optimizers/custom_graph_optimizer_registry.cc:112] Plugin optimizer for device_type GPU is enabled.\n"
     ]
    },
    {
     "name": "stdout",
     "output_type": "stream",
     "text": [
      "14/14 [==============================] - 1s 18ms/step - loss: 0.7127 - accuracy: 0.0105 - binary_accuracy: 0.4869\n",
      "14/14 [==============================] - 1s 26ms/step - loss: 0.7069 - accuracy: 0.0105 - binary_accuracy: 0.4821\n",
      "14/14 [==============================] - 1s 21ms/step - loss: 0.6015 - accuracy: 0.0075 - binary_accuracy: 0.6938\n",
      "14/14 [==============================] - 1s 33ms/step - loss: 0.6112 - accuracy: 0.0045 - binary_accuracy: 0.6908\n",
      "12/14 [========================>.....] - ETA: 0s - loss: 0.5919 - accuracy: 0.0033 - binary_accuracy: 0.7095  "
     ]
    },
    {
     "name": "stderr",
     "output_type": "stream",
     "text": [
      "2021-12-15 01:40:26.280993: I tensorflow/core/grappler/optimizers/custom_graph_optimizer_registry.cc:112] Plugin optimizer for device_type GPU is enabled.\n"
     ]
    },
    {
     "name": "stdout",
     "output_type": "stream",
     "text": [
      "\b\b\b\b\b\b\b\b\b\b\b\b\b\b\b\b\b\b\b\b\b\b\b\b\b\b\b\b\b\b\b\b\b\b\b\b\b\b\b\b\b\b\b\b\b\b\b\b\b\b\b\b\b\b\b\b\b\b\b\b\b\b\b\b\b\b\b\b\b\b\b\b\b\b\b\b\b\b\b\b\b\b\b\b\b\b\b\b\b\b\b\b\b\b\b\b\b\b\b\b\b\b\b\b\b\b\b\b\r",
      "13/14 [==========================>...] - ETA: 0s - loss: 0.5937 - accuracy: 0.0031 - binary_accuracy: 0.7073\b\b\b\b\b\b\b\b\b\b\b\b\b\b\b\b\b\b\b\b\b\b\b\b\b\b\b\b\b\b\b\b\b\b\b\b\b\b\b\b\b\b\b\b\b\b\b\b\b\b\b\b\b\b\b\b\b\b\b\b\b\b\b\b\b\b\b\b\b\b\b\b\b\b\b\b\b\b\b\b\b\b\b\b\b\b\b\b\b\b\b\b\b\b\b\b\b\b\b\b\b\b\b\b\b\b\b\b\r",
      "14/14 [==============================] - ETA: 0s - loss: 0.5931 - accuracy: 0.0045 - binary_accuracy: 0.7083\b\b\b\b\b\b\b\b\b\b\b\b\b\b\b\b\b\b\b\b\b\b\b\b\b\b\b\b\b\b\b\b\b\b\b\b\b\b\b\b\b\b\b\b\b\b\b\b\b\b\b\b\b\b\b\b\b\b\b\b\b\b\b\b\b\b\b\b\b\b\b\b\b\b\b\b\b\b\b\b\b\b\b\b\b\b\b\b\b\b\b\b\b\b\b\b\b\b\b\b\b\b\b\b\b\b\b\b\r",
      "14/14 [==============================] - 1s 39ms/step - loss: 0.5931 - accuracy: 0.0045 - binary_accuracy: 0.7083\n"
     ]
    },
    {
     "name": "stderr",
     "output_type": "stream",
     "text": [
      "2021-12-15 01:40:26.599228: I tensorflow/core/grappler/optimizers/custom_graph_optimizer_registry.cc:112] Plugin optimizer for device_type GPU is enabled.\n",
      "2021-12-15 01:40:26.748831: I tensorflow/core/grappler/optimizers/custom_graph_optimizer_registry.cc:112] Plugin optimizer for device_type GPU is enabled.\n"
     ]
    },
    {
     "name": "stdout",
     "output_type": "stream",
     "text": [
      "[CV] END batch_size=50, dropout_rate=0, hidden_dim=256, n_epochs=250, n_hidden_layers=1, optimizer=adam, output_activation=sigmoid; total time=   2.4s\n",
      "[CV] END batch_size=50, dropout_rate=0, hidden_dim=256, n_epochs=500, n_hidden_layers=1, optimizer=adamax, output_activation=sigmoid; total time=   1.0s\n",
      " 6/27 [=====>........................] - ETA: 0s - loss: 0.7148 - accuracy: 0.0067 - binary_accuracy: 0.4781[CV] END batch_size=50, dropout_rate=0, hidden_dim=256, n_epochs=500, n_hidden_layers=1, optimizer=SGD, output_activation=sigmoid; total time=   2.5s\n",
      "11/27 [===========>..................] - ETA: 0s - loss: 0.7021 - accuracy: 0.0182 - binary_accuracy: 0.5080[CV] END batch_size=50, dropout_rate=0, hidden_dim=256, n_epochs=500, n_hidden_layers=1, optimizer=SGD, output_activation=sigmoid; total time=   2.9s\n",
      " 4/27 [===>..........................] - ETA: 0s - loss: 0.7029 - accuracy: 0.0100 - binary_accuracy: 0.5024     "
     ]
    },
    {
     "name": "stderr",
     "output_type": "stream",
     "text": [
      "2021-12-15 01:40:26.930862: I tensorflow/core/grappler/optimizers/custom_graph_optimizer_registry.cc:112] Plugin optimizer for device_type GPU is enabled.\n",
      "2021-12-15 01:40:26.936355: I tensorflow/core/grappler/optimizers/custom_graph_optimizer_registry.cc:112] Plugin optimizer for device_type GPU is enabled.\n",
      "2021-12-15 01:40:27.072831: I tensorflow/core/grappler/optimizers/custom_graph_optimizer_registry.cc:112] Plugin optimizer for device_type GPU is enabled.\n"
     ]
    },
    {
     "name": "stdout",
     "output_type": "stream",
     "text": [
      "27/27 [==============================] - 1s 22ms/step - loss: 0.7119 - accuracy: 0.0143 - binary_accuracy: 0.4841\n",
      " 8/27 [=======>......................] - ETA: 0s - loss: 0.7010 - accuracy: 0.0175 - binary_accuracy: 0.5083[CV] END batch_size=50, dropout_rate=0, hidden_dim=256, n_epochs=500, n_hidden_layers=1, optimizer=adam, output_activation=sigmoid; total time=   2.2s\n",
      "10/27 [==========>...................] - ETA: 0s - loss: 0.7012 - accuracy: 0.0140 - binary_accuracy: 0.5097[CV] END batch_size=50, dropout_rate=0, hidden_dim=256, n_epochs=500, n_hidden_layers=1, optimizer=SGD, output_activation=sigmoid; total time=   2.6s\n",
      "15/27 [===============>..............] - ETA: 0s - loss: 0.7007 - accuracy: 0.0160 - binary_accuracy: 0.5101[CV] END batch_size=50, dropout_rate=0, hidden_dim=256, n_epochs=250, n_hidden_layers=1, optimizer=adam, output_activation=sigmoid; total time=   2.6s\n",
      "[CV] END batch_size=50, dropout_rate=0, hidden_dim=256, n_epochs=500, n_hidden_layers=1, optimizer=adamax, output_activation=sigmoid; total time=   0.9s\n",
      "[CV] END batch_size=50, dropout_rate=0, hidden_dim=256, n_epochs=500, n_hidden_layers=1, optimizer=adamax, output_activation=sigmoid; total time=   0.6s\n",
      " 5/27 [====>.........................] - ETA: 0s - loss: 0.6918 - accuracy: 0.0440 - binary_accuracy: 0.5361 "
     ]
    },
    {
     "name": "stderr",
     "output_type": "stream",
     "text": [
      "2021-12-15 01:40:27.388875: I tensorflow/core/grappler/optimizers/custom_graph_optimizer_registry.cc:112] Plugin optimizer for device_type GPU is enabled.\n"
     ]
    },
    {
     "name": "stdout",
     "output_type": "stream",
     "text": [
      "27/27 [==============================] - 1s 30ms/step - loss: 0.7013 - accuracy: 0.0135 - binary_accuracy: 0.5098\n",
      "27/27 [==============================] - 1s 29ms/step - loss: 0.7003 - accuracy: 0.0157 - binary_accuracy: 0.5099\n",
      "24/27 [=========================>....] - ETA: 0s - loss: 0.6403 - accuracy: 0.0125 - binary_accuracy: 0.6412"
     ]
    },
    {
     "name": "stderr",
     "output_type": "stream",
     "text": [
      "2021-12-15 01:40:27.855897: I tensorflow/core/grappler/optimizers/custom_graph_optimizer_registry.cc:112] Plugin optimizer for device_type GPU is enabled.\n",
      "2021-12-15 01:40:27.979127: I tensorflow/core/grappler/optimizers/custom_graph_optimizer_registry.cc:112] Plugin optimizer for device_type GPU is enabled.\n"
     ]
    },
    {
     "name": "stdout",
     "output_type": "stream",
     "text": [
      "\b\b\b\b\b\b\b\b\b\b\b\b\b\b\b\b\b\b\b\b\b\b\b\b\b\b\b\b\b\b\b\b\b\b\b\b\b\b\b\b\b\b\b\b\b\b\b\b\b\b\b\b\b\b\b\b\b\b\b\b\b\b\b\b\b\b\b\b\b\b\b\b\b\b\b\b\b\b\b\b\b\b\b\b\b\b\b\b\b\b\b\b\b\b\b\b\b\b\b\b\b\b\b\b\b\b\b\b\r",
      "27/27 [==============================] - ETA: 0s - loss: 0.6315 - accuracy: 0.0023 - binary_accuracy: 0.6574\b\b\b\b\b\b\b\b\b\b\b\b\b\b\b\b\b\b\b\b\b\b\b\b\b\b\b\b\b\b\b\b\b\b\b\b\b\b\b\b\b\b\b\b\b\b\b\b\b\b\b\b\b\b\b\b\b\b\b\b\b\b\b\b\b\b\b\b\b\b\b\b\b\b\b\b\b\b\b\b\b\b\b\b\b\b\b\b\b\b\b\b\b\b\b\b\b\b\b\b\b\b\b\b\b\b\b\b\r",
      "27/27 [==============================] - 1s 27ms/step - loss: 0.6315 - accuracy: 0.0023 - binary_accuracy: 0.6574\n",
      "\b\b\b\b\b\b\b\b\b\b\b\b\b\b\b\b\b\b\b\b\b\b\b\b\b\b\b\b\b\b\b\b\b\b\b\b\b\b\b\b\b\b\b\b\b\b\b\b\b\b\b\b\b\b\b\b\b\b\b\b\b\b\b\b\b\b\b\b\b\b\b\b\b\b\b\b\b\b\b\b\b\b\b\b\b\b\b\b\b\b\b\b\b\b\b\b\b\b\b\b\b\b\b\b\b\b\b\b\r",
      "26/27 [===========================>..] - ETA: 0s - loss: 0.6344 - accuracy: 0.0077 - binary_accuracy: 0.6539\b\b\b\b\b\b\b\b\b\b\b\b\b\b\b\b\b\b\b\b\b\b\b\b\b\b\b\b\b\b\b\b\b\b\b\b\b\b\b\b\b\b\b\b\b\b\b\b\b\b\b\b\b\b\b\b\b\b\b\b\b\b\b\b\b\b\b\b\b\b\b\b\b\b\b\b\b\b\b\b\b\b\b\b\b\b\b\b\b\b\b\b\b\b\b\b\b\b\b\b\b\b\b\b\b\b\b\b\r",
      "14/14 [==============================] - ETA: 0s - loss: 0.7122 - accuracy: 0.0075 - binary_accuracy: 0.4921\b\b\b\b\b\b\b\b\b\b\b\b\b\b\b\b\b\b\b\b\b\b\b\b\b\b\b\b\b\b\b\b\b\b\b\b\b\b\b\b\b\b\b\b\b\b\b\b\b\b\b\b\b\b\b\b\b\b\b\b\b\b\b\b\b\b\b\b\b\b\b\b\b\b\b\b\b\b\b\b\b\b\b\b\b\b\b\b\b\b\b\b\b\b\b\b\b\b\b\b\b\b\b\b\b\b\b\b\r",
      "14/14 [==============================] - 1s 33ms/step - loss: 0.7122 - accuracy: 0.0075 - binary_accuracy: 0.4921\n",
      "\r",
      " 1/14 [=>............................] - ETA: 4s - loss: 0.7001 - accuracy: 0.0000e+00 - binary_accuracy: 0.5156\b\b\b\b\b\b\b\b\b\b\b\b\b\b\b\b\b\b\b\b\b\b\b\b\b\b\b\b\b\b\b\b\b\b\b\b\b\b\b\b\b\b\b\b\b\b\b\b\b\b\b\b\b\b\b\b\b\b\b\b\b\b\b\b\b\b\b\b\b\b\b\b\b\b\b\b\b\b\b\b\b\b\b\b\b\b\b\b\b\b\b\b\b\b\b\b\b\b\b\b\b\b\b\b\b\b\b\b\r",
      "27/27 [==============================] - ETA: 0s - loss: 0.6339 - accuracy: 0.0083 - binary_accuracy: 0.6547\b\b\b\b\b\b\b\b\b\b\b\b\b\b\b\b\b\b\b\b\b\b\b\b\b\b\b\b\b\b\b\b\b\b\b\b\b\b\b\b\b\b\b\b\b\b\b\b\b\b\b\b\b\b\b\b\b\b\b\b\b\b\b\b\b\b\b\b\b\b\b\b\b\b\b\b\b\b\b\b\b\b\b\b\b\b\b\b\b\b\b\b\b\b\b\b\b\b\b\b\b\b\b\b\b\b\b\b\r",
      "27/27 [==============================] - 2s 28ms/step - loss: 0.6339 - accuracy: 0.0083 - binary_accuracy: 0.6547\n",
      "\b\b\b\b\b\b\b\b\b\b\b\b\b\b\b\b\b\b\b\b\b\b\b\b\b\b\b\b\b\b\b\b\b\b\b\b\b\b\b\b\b\b\b\b\b\b\b\b\b\b\b\b\b\b\b\b\b\b\b\b\b\b\b\b\b\b\b\b\b\b\b\b\b\b\b\b\b\b\b\b\b\b\b\b\b\b\b\b\b\b\b\b\b\b\b\b\b\b\b\b\b\b\b\b\b\b\b\b\r",
      "27/27 [==============================] - ETA: 0s - loss: 0.6368 - accuracy: 0.0112 - binary_accuracy: 0.6471\b\b\b\b\b\b\b\b\b\b\b\b\b\b\b\b\b\b\b\b\b\b\b\b\b\b\b\b\b\b\b\b\b\b\b\b\b\b\b\b\b\b\b\b\b\b\b\b\b\b\b\b\b\b\b\b\b\b\b\b\b\b\b\b\b\b\b\b\b\b\b\b\b\b\b\b\b\b\b\b\b\b\b\b\b\b\b\b\b\b\b\b\b\b\b\b\b\b\b\b\b\b\b\b\b\b\b\b\b\b\b\b\r",
      " 5/14 [=========>....................] - ETA: 0s - loss: 0.6997 - accuracy: 0.0040 - binary_accuracy: 0.5166    \b\b\b\b\b\b\b\b\b\b\b\b\b\b\b\b\b\b\b\b\b\b\b\b\b\b\b\b\b\b\b\b\b\b\b\b\b\b\b\b\b\b\b\b\b\b\b\b\b\b\b\b\b\b\b\b\b\b\b\b\b\b\b\b\b\b\b\b\b\b\b\b\b\b\b\b\b\b\b\b\b\b\b\b\b\b\b\b\b\b\b\b\b\b\b\b\b\b\b\b\b\b\b\b\b\b\b\b\r",
      "27/27 [==============================] - 2s 24ms/step - loss: 0.6368 - accuracy: 0.0112 - binary_accuracy: 0.6471\n",
      "\r",
      " 1/14 [=>............................] - ETA: 3s - loss: 0.6978 - accuracy: 0.0000e+00 - binary_accuracy: 0.5119\b\b\b\b\b\b\b\b\b\b\b\b\b\b\b\b\b\b\b\b\b\b\b\b\b\b\b\b\b\b\b\b\b\b\b\b\b\b\b\b\b\b\b\b\b\b\b\b\b\b\b\b\b\b\b\b\b\b\b\b\b\b\b\b\b\b\b\b\b\b\b\b\b\b\b\b\b\b\b\b\b\b\b\b\b\b\b\b\b\b\b\b\b\b\b\b\b\b\b\b\b\b\b\b\b\b\b\b\r",
      "11/14 [======================>.......] - ETA: 0s - loss: 0.6988 - accuracy: 0.0073 - binary_accuracy: 0.5172"
     ]
    },
    {
     "name": "stderr",
     "output_type": "stream",
     "text": [
      "2021-12-15 01:40:28.091121: I tensorflow/core/grappler/optimizers/custom_graph_optimizer_registry.cc:112] Plugin optimizer for device_type GPU is enabled.\n",
      "2021-12-15 01:40:28.144958: I tensorflow/core/grappler/optimizers/custom_graph_optimizer_registry.cc:112] Plugin optimizer for device_type GPU is enabled.\n",
      "2021-12-15 01:40:28.197682: I tensorflow/core/grappler/optimizers/custom_graph_optimizer_registry.cc:112] Plugin optimizer for device_type GPU is enabled.\n"
     ]
    },
    {
     "name": "stdout",
     "output_type": "stream",
     "text": [
      "14/14 [==============================] - 1s 14ms/step - loss: 0.6992 - accuracy: 0.0060 - binary_accuracy: 0.5168\n",
      "14/14 [==============================] - 1s 21ms/step - loss: 0.6981 - accuracy: 0.0165 - binary_accuracy: 0.5171\n",
      "14/14 [==============================] - 0s 14ms/step - loss: 0.5942 - accuracy: 0.0045 - binary_accuracy: 0.7086\n",
      "14/14 [==============================] - 1s 18ms/step - loss: 0.6079 - accuracy: 0.0015 - binary_accuracy: 0.6934\n",
      "14/14 [==============================] - 0s 20ms/step - loss: 0.6028 - accuracy: 0.0075 - binary_accuracy: 0.6940\n"
     ]
    },
    {
     "name": "stderr",
     "output_type": "stream",
     "text": [
      "/opt/homebrew/Caskroom/miniforge/base/envs/tensorflow/lib/python3.9/site-packages/sklearn/model_selection/_validation.py:372: FitFailedWarning: \n",
      "36 fits failed out of a total of 108.\n",
      "The score on these train-test partitions for these parameters will be set to nan.\n",
      "If these failures are not expected, you can try to debug them by setting error_score='raise'.\n",
      "\n",
      "Below are more details about the failures:\n",
      "--------------------------------------------------------------------------------\n",
      "1 fits failed with the following error:\n",
      "Traceback (most recent call last):\n",
      "  File \"/opt/homebrew/Caskroom/miniforge/base/envs/tensorflow/lib/python3.9/site-packages/sklearn/model_selection/_validation.py\", line 681, in _fit_and_score\n",
      "    estimator.fit(X_train, y_train, **fit_params)\n",
      "  File \"/opt/homebrew/Caskroom/miniforge/base/envs/tensorflow/lib/python3.9/site-packages/tensorflow/python/keras/wrappers/scikit_learn.py\", line 220, in fit\n",
      "    return super(KerasClassifier, self).fit(x, y, **kwargs)\n",
      "  File \"/opt/homebrew/Caskroom/miniforge/base/envs/tensorflow/lib/python3.9/site-packages/tensorflow/python/keras/wrappers/scikit_learn.py\", line 163, in fit\n",
      "    history = self.model.fit(x, y, **fit_args)\n",
      "  File \"/opt/homebrew/Caskroom/miniforge/base/envs/tensorflow/lib/python3.9/site-packages/tensorflow/python/keras/engine/training.py\", line 1183, in fit\n",
      "    tmp_logs = self.train_function(iterator)\n",
      "  File \"/opt/homebrew/Caskroom/miniforge/base/envs/tensorflow/lib/python3.9/site-packages/tensorflow/python/eager/def_function.py\", line 889, in __call__\n",
      "    result = self._call(*args, **kwds)\n",
      "  File \"/opt/homebrew/Caskroom/miniforge/base/envs/tensorflow/lib/python3.9/site-packages/tensorflow/python/eager/def_function.py\", line 950, in _call\n",
      "    return self._stateless_fn(*args, **kwds)\n",
      "  File \"/opt/homebrew/Caskroom/miniforge/base/envs/tensorflow/lib/python3.9/site-packages/tensorflow/python/eager/function.py\", line 3023, in __call__\n",
      "    return graph_function._call_flat(\n",
      "  File \"/opt/homebrew/Caskroom/miniforge/base/envs/tensorflow/lib/python3.9/site-packages/tensorflow/python/eager/function.py\", line 1960, in _call_flat\n",
      "    return self._build_call_outputs(self._inference_function.call(\n",
      "  File \"/opt/homebrew/Caskroom/miniforge/base/envs/tensorflow/lib/python3.9/site-packages/tensorflow/python/eager/function.py\", line 591, in call\n",
      "    outputs = execute.execute(\n",
      "  File \"/opt/homebrew/Caskroom/miniforge/base/envs/tensorflow/lib/python3.9/site-packages/tensorflow/python/eager/execute.py\", line 59, in quick_execute\n",
      "    tensors = pywrap_tfe.TFE_Py_Execute(ctx._handle, device_name, op_name,\n",
      "tensorflow.python.framework.errors_impl.InvalidArgumentError: Cannot assign a device for operation model_8/dense_37/MatMul/ReadVariableOp: Could not satisfy explicit device specification '' because the node {{colocation_node model_8/dense_37/MatMul/ReadVariableOp}} was colocated with a group of nodes that required incompatible device '/job:localhost/replica:0/task:0/device:GPU:0'. All available devices [/job:localhost/replica:0/task:0/device:CPU:0, /job:localhost/replica:0/task:0/device:GPU:0]. \n",
      "Colocation Debug Info:\n",
      "Colocation group had the following types and supported devices: \n",
      "Root Member(assigned_device_name_index_=2 requested_device_name_='/job:localhost/replica:0/task:0/device:GPU:0' assigned_device_name_='/job:localhost/replica:0/task:0/device:GPU:0' resource_device_name_='/job:localhost/replica:0/task:0/device:GPU:0' supported_device_types_=[CPU] possible_devices_=[]\n",
      "ResourceApplyAdaMax: CPU \n",
      "ReadVariableOp: GPU CPU \n",
      "_Arg: GPU CPU \n",
      "\n",
      "Colocation members, user-requested devices, and framework assigned devices, if any:\n",
      "  model_8_dense_37_matmul_readvariableop_resource (_Arg)  framework assigned device=/job:localhost/replica:0/task:0/device:GPU:0\n",
      "  adamax_adamax_update_resourceapplyadamax_m (_Arg)  framework assigned device=/job:localhost/replica:0/task:0/device:GPU:0\n",
      "  adamax_adamax_update_resourceapplyadamax_v (_Arg)  framework assigned device=/job:localhost/replica:0/task:0/device:GPU:0\n",
      "  model_8/dense_37/MatMul/ReadVariableOp (ReadVariableOp) \n",
      "  Adamax/Adamax/update/ResourceApplyAdaMax (ResourceApplyAdaMax) /job:localhost/replica:0/task:0/device:GPU:0\n",
      "\n",
      "\t [[{{node model_8/dense_37/MatMul/ReadVariableOp}}]] [Op:__inference_train_function_19018]\n",
      "\n",
      "--------------------------------------------------------------------------------\n",
      "1 fits failed with the following error:\n",
      "Traceback (most recent call last):\n",
      "  File \"/opt/homebrew/Caskroom/miniforge/base/envs/tensorflow/lib/python3.9/site-packages/sklearn/model_selection/_validation.py\", line 681, in _fit_and_score\n",
      "    estimator.fit(X_train, y_train, **fit_params)\n",
      "  File \"/opt/homebrew/Caskroom/miniforge/base/envs/tensorflow/lib/python3.9/site-packages/tensorflow/python/keras/wrappers/scikit_learn.py\", line 220, in fit\n",
      "    return super(KerasClassifier, self).fit(x, y, **kwargs)\n",
      "  File \"/opt/homebrew/Caskroom/miniforge/base/envs/tensorflow/lib/python3.9/site-packages/tensorflow/python/keras/wrappers/scikit_learn.py\", line 163, in fit\n",
      "    history = self.model.fit(x, y, **fit_args)\n",
      "  File \"/opt/homebrew/Caskroom/miniforge/base/envs/tensorflow/lib/python3.9/site-packages/tensorflow/python/keras/engine/training.py\", line 1183, in fit\n",
      "    tmp_logs = self.train_function(iterator)\n",
      "  File \"/opt/homebrew/Caskroom/miniforge/base/envs/tensorflow/lib/python3.9/site-packages/tensorflow/python/eager/def_function.py\", line 889, in __call__\n",
      "    result = self._call(*args, **kwds)\n",
      "  File \"/opt/homebrew/Caskroom/miniforge/base/envs/tensorflow/lib/python3.9/site-packages/tensorflow/python/eager/def_function.py\", line 950, in _call\n",
      "    return self._stateless_fn(*args, **kwds)\n",
      "  File \"/opt/homebrew/Caskroom/miniforge/base/envs/tensorflow/lib/python3.9/site-packages/tensorflow/python/eager/function.py\", line 3023, in __call__\n",
      "    return graph_function._call_flat(\n",
      "  File \"/opt/homebrew/Caskroom/miniforge/base/envs/tensorflow/lib/python3.9/site-packages/tensorflow/python/eager/function.py\", line 1960, in _call_flat\n",
      "    return self._build_call_outputs(self._inference_function.call(\n",
      "  File \"/opt/homebrew/Caskroom/miniforge/base/envs/tensorflow/lib/python3.9/site-packages/tensorflow/python/eager/function.py\", line 591, in call\n",
      "    outputs = execute.execute(\n",
      "  File \"/opt/homebrew/Caskroom/miniforge/base/envs/tensorflow/lib/python3.9/site-packages/tensorflow/python/eager/execute.py\", line 59, in quick_execute\n",
      "    tensors = pywrap_tfe.TFE_Py_Execute(ctx._handle, device_name, op_name,\n",
      "tensorflow.python.framework.errors_impl.InvalidArgumentError: Cannot assign a device for operation model_8/dense_25/MatMul/ReadVariableOp: Could not satisfy explicit device specification '' because the node {{colocation_node model_8/dense_25/MatMul/ReadVariableOp}} was colocated with a group of nodes that required incompatible device '/job:localhost/replica:0/task:0/device:GPU:0'. All available devices [/job:localhost/replica:0/task:0/device:CPU:0, /job:localhost/replica:0/task:0/device:GPU:0]. \n",
      "Colocation Debug Info:\n",
      "Colocation group had the following types and supported devices: \n",
      "Root Member(assigned_device_name_index_=2 requested_device_name_='/job:localhost/replica:0/task:0/device:GPU:0' assigned_device_name_='/job:localhost/replica:0/task:0/device:GPU:0' resource_device_name_='/job:localhost/replica:0/task:0/device:GPU:0' supported_device_types_=[CPU] possible_devices_=[]\n",
      "ResourceApplyAdaMax: CPU \n",
      "ReadVariableOp: GPU CPU \n",
      "_Arg: GPU CPU \n",
      "\n",
      "Colocation members, user-requested devices, and framework assigned devices, if any:\n",
      "  model_8_dense_25_matmul_readvariableop_resource (_Arg)  framework assigned device=/job:localhost/replica:0/task:0/device:GPU:0\n",
      "  adamax_adamax_update_resourceapplyadamax_m (_Arg)  framework assigned device=/job:localhost/replica:0/task:0/device:GPU:0\n",
      "  adamax_adamax_update_resourceapplyadamax_v (_Arg)  framework assigned device=/job:localhost/replica:0/task:0/device:GPU:0\n",
      "  model_8/dense_25/MatMul/ReadVariableOp (ReadVariableOp) \n",
      "  Adamax/Adamax/update/ResourceApplyAdaMax (ResourceApplyAdaMax) /job:localhost/replica:0/task:0/device:GPU:0\n",
      "\n",
      "\t [[{{node model_8/dense_25/MatMul/ReadVariableOp}}]] [Op:__inference_train_function_17962]\n",
      "\n",
      "--------------------------------------------------------------------------------\n",
      "1 fits failed with the following error:\n",
      "Traceback (most recent call last):\n",
      "  File \"/opt/homebrew/Caskroom/miniforge/base/envs/tensorflow/lib/python3.9/site-packages/sklearn/model_selection/_validation.py\", line 681, in _fit_and_score\n",
      "    estimator.fit(X_train, y_train, **fit_params)\n",
      "  File \"/opt/homebrew/Caskroom/miniforge/base/envs/tensorflow/lib/python3.9/site-packages/tensorflow/python/keras/wrappers/scikit_learn.py\", line 220, in fit\n",
      "    return super(KerasClassifier, self).fit(x, y, **kwargs)\n",
      "  File \"/opt/homebrew/Caskroom/miniforge/base/envs/tensorflow/lib/python3.9/site-packages/tensorflow/python/keras/wrappers/scikit_learn.py\", line 163, in fit\n",
      "    history = self.model.fit(x, y, **fit_args)\n",
      "  File \"/opt/homebrew/Caskroom/miniforge/base/envs/tensorflow/lib/python3.9/site-packages/tensorflow/python/keras/engine/training.py\", line 1183, in fit\n",
      "    tmp_logs = self.train_function(iterator)\n",
      "  File \"/opt/homebrew/Caskroom/miniforge/base/envs/tensorflow/lib/python3.9/site-packages/tensorflow/python/eager/def_function.py\", line 889, in __call__\n",
      "    result = self._call(*args, **kwds)\n",
      "  File \"/opt/homebrew/Caskroom/miniforge/base/envs/tensorflow/lib/python3.9/site-packages/tensorflow/python/eager/def_function.py\", line 950, in _call\n",
      "    return self._stateless_fn(*args, **kwds)\n",
      "  File \"/opt/homebrew/Caskroom/miniforge/base/envs/tensorflow/lib/python3.9/site-packages/tensorflow/python/eager/function.py\", line 3023, in __call__\n",
      "    return graph_function._call_flat(\n",
      "  File \"/opt/homebrew/Caskroom/miniforge/base/envs/tensorflow/lib/python3.9/site-packages/tensorflow/python/eager/function.py\", line 1960, in _call_flat\n",
      "    return self._build_call_outputs(self._inference_function.call(\n",
      "  File \"/opt/homebrew/Caskroom/miniforge/base/envs/tensorflow/lib/python3.9/site-packages/tensorflow/python/eager/function.py\", line 591, in call\n",
      "    outputs = execute.execute(\n",
      "  File \"/opt/homebrew/Caskroom/miniforge/base/envs/tensorflow/lib/python3.9/site-packages/tensorflow/python/eager/execute.py\", line 59, in quick_execute\n",
      "    tensors = pywrap_tfe.TFE_Py_Execute(ctx._handle, device_name, op_name,\n",
      "tensorflow.python.framework.errors_impl.InvalidArgumentError: Cannot assign a device for operation model_9/dense_27/MatMul/ReadVariableOp: Could not satisfy explicit device specification '' because the node {{colocation_node model_9/dense_27/MatMul/ReadVariableOp}} was colocated with a group of nodes that required incompatible device '/job:localhost/replica:0/task:0/device:GPU:0'. All available devices [/job:localhost/replica:0/task:0/device:CPU:0, /job:localhost/replica:0/task:0/device:GPU:0]. \n",
      "Colocation Debug Info:\n",
      "Colocation group had the following types and supported devices: \n",
      "Root Member(assigned_device_name_index_=2 requested_device_name_='/job:localhost/replica:0/task:0/device:GPU:0' assigned_device_name_='/job:localhost/replica:0/task:0/device:GPU:0' resource_device_name_='/job:localhost/replica:0/task:0/device:GPU:0' supported_device_types_=[CPU] possible_devices_=[]\n",
      "ResourceApplyAdaMax: CPU \n",
      "ReadVariableOp: GPU CPU \n",
      "_Arg: GPU CPU \n",
      "\n",
      "Colocation members, user-requested devices, and framework assigned devices, if any:\n",
      "  model_9_dense_27_matmul_readvariableop_resource (_Arg)  framework assigned device=/job:localhost/replica:0/task:0/device:GPU:0\n",
      "  adamax_adamax_update_resourceapplyadamax_m (_Arg)  framework assigned device=/job:localhost/replica:0/task:0/device:GPU:0\n",
      "  adamax_adamax_update_resourceapplyadamax_v (_Arg)  framework assigned device=/job:localhost/replica:0/task:0/device:GPU:0\n",
      "  model_9/dense_27/MatMul/ReadVariableOp (ReadVariableOp) \n",
      "  Adamax/Adamax/update/ResourceApplyAdaMax (ResourceApplyAdaMax) /job:localhost/replica:0/task:0/device:GPU:0\n",
      "\n",
      "\t [[{{node model_9/dense_27/MatMul/ReadVariableOp}}]] [Op:__inference_train_function_18635]\n",
      "\n",
      "--------------------------------------------------------------------------------\n",
      "1 fits failed with the following error:\n",
      "Traceback (most recent call last):\n",
      "  File \"/opt/homebrew/Caskroom/miniforge/base/envs/tensorflow/lib/python3.9/site-packages/sklearn/model_selection/_validation.py\", line 681, in _fit_and_score\n",
      "    estimator.fit(X_train, y_train, **fit_params)\n",
      "  File \"/opt/homebrew/Caskroom/miniforge/base/envs/tensorflow/lib/python3.9/site-packages/tensorflow/python/keras/wrappers/scikit_learn.py\", line 220, in fit\n",
      "    return super(KerasClassifier, self).fit(x, y, **kwargs)\n",
      "  File \"/opt/homebrew/Caskroom/miniforge/base/envs/tensorflow/lib/python3.9/site-packages/tensorflow/python/keras/wrappers/scikit_learn.py\", line 163, in fit\n",
      "    history = self.model.fit(x, y, **fit_args)\n",
      "  File \"/opt/homebrew/Caskroom/miniforge/base/envs/tensorflow/lib/python3.9/site-packages/tensorflow/python/keras/engine/training.py\", line 1183, in fit\n",
      "    tmp_logs = self.train_function(iterator)\n",
      "  File \"/opt/homebrew/Caskroom/miniforge/base/envs/tensorflow/lib/python3.9/site-packages/tensorflow/python/eager/def_function.py\", line 889, in __call__\n",
      "    result = self._call(*args, **kwds)\n",
      "  File \"/opt/homebrew/Caskroom/miniforge/base/envs/tensorflow/lib/python3.9/site-packages/tensorflow/python/eager/def_function.py\", line 950, in _call\n",
      "    return self._stateless_fn(*args, **kwds)\n",
      "  File \"/opt/homebrew/Caskroom/miniforge/base/envs/tensorflow/lib/python3.9/site-packages/tensorflow/python/eager/function.py\", line 3023, in __call__\n",
      "    return graph_function._call_flat(\n",
      "  File \"/opt/homebrew/Caskroom/miniforge/base/envs/tensorflow/lib/python3.9/site-packages/tensorflow/python/eager/function.py\", line 1960, in _call_flat\n",
      "    return self._build_call_outputs(self._inference_function.call(\n",
      "  File \"/opt/homebrew/Caskroom/miniforge/base/envs/tensorflow/lib/python3.9/site-packages/tensorflow/python/eager/function.py\", line 591, in call\n",
      "    outputs = execute.execute(\n",
      "  File \"/opt/homebrew/Caskroom/miniforge/base/envs/tensorflow/lib/python3.9/site-packages/tensorflow/python/eager/execute.py\", line 59, in quick_execute\n",
      "    tensors = pywrap_tfe.TFE_Py_Execute(ctx._handle, device_name, op_name,\n",
      "tensorflow.python.framework.errors_impl.InvalidArgumentError: Cannot assign a device for operation model_8/dense_49/MatMul/ReadVariableOp: Could not satisfy explicit device specification '' because the node {{colocation_node model_8/dense_49/MatMul/ReadVariableOp}} was colocated with a group of nodes that required incompatible device '/job:localhost/replica:0/task:0/device:GPU:0'. All available devices [/job:localhost/replica:0/task:0/device:CPU:0, /job:localhost/replica:0/task:0/device:GPU:0]. \n",
      "Colocation Debug Info:\n",
      "Colocation group had the following types and supported devices: \n",
      "Root Member(assigned_device_name_index_=2 requested_device_name_='/job:localhost/replica:0/task:0/device:GPU:0' assigned_device_name_='/job:localhost/replica:0/task:0/device:GPU:0' resource_device_name_='/job:localhost/replica:0/task:0/device:GPU:0' supported_device_types_=[CPU] possible_devices_=[]\n",
      "ResourceApplyAdaMax: CPU \n",
      "ReadVariableOp: GPU CPU \n",
      "_Arg: GPU CPU \n",
      "\n",
      "Colocation members, user-requested devices, and framework assigned devices, if any:\n",
      "  model_8_dense_49_matmul_readvariableop_resource (_Arg)  framework assigned device=/job:localhost/replica:0/task:0/device:GPU:0\n",
      "  adamax_adamax_update_resourceapplyadamax_m (_Arg)  framework assigned device=/job:localhost/replica:0/task:0/device:GPU:0\n",
      "  adamax_adamax_update_resourceapplyadamax_v (_Arg)  framework assigned device=/job:localhost/replica:0/task:0/device:GPU:0\n",
      "  model_8/dense_49/MatMul/ReadVariableOp (ReadVariableOp) \n",
      "  Adamax/Adamax/update/ResourceApplyAdaMax (ResourceApplyAdaMax) /job:localhost/replica:0/task:0/device:GPU:0\n",
      "\n",
      "\t [[{{node model_8/dense_49/MatMul/ReadVariableOp}}]] [Op:__inference_train_function_20074]\n",
      "\n",
      "--------------------------------------------------------------------------------\n",
      "1 fits failed with the following error:\n",
      "Traceback (most recent call last):\n",
      "  File \"/opt/homebrew/Caskroom/miniforge/base/envs/tensorflow/lib/python3.9/site-packages/sklearn/model_selection/_validation.py\", line 681, in _fit_and_score\n",
      "    estimator.fit(X_train, y_train, **fit_params)\n",
      "  File \"/opt/homebrew/Caskroom/miniforge/base/envs/tensorflow/lib/python3.9/site-packages/tensorflow/python/keras/wrappers/scikit_learn.py\", line 220, in fit\n",
      "    return super(KerasClassifier, self).fit(x, y, **kwargs)\n",
      "  File \"/opt/homebrew/Caskroom/miniforge/base/envs/tensorflow/lib/python3.9/site-packages/tensorflow/python/keras/wrappers/scikit_learn.py\", line 163, in fit\n",
      "    history = self.model.fit(x, y, **fit_args)\n",
      "  File \"/opt/homebrew/Caskroom/miniforge/base/envs/tensorflow/lib/python3.9/site-packages/tensorflow/python/keras/engine/training.py\", line 1183, in fit\n",
      "    tmp_logs = self.train_function(iterator)\n",
      "  File \"/opt/homebrew/Caskroom/miniforge/base/envs/tensorflow/lib/python3.9/site-packages/tensorflow/python/eager/def_function.py\", line 889, in __call__\n",
      "    result = self._call(*args, **kwds)\n",
      "  File \"/opt/homebrew/Caskroom/miniforge/base/envs/tensorflow/lib/python3.9/site-packages/tensorflow/python/eager/def_function.py\", line 950, in _call\n",
      "    return self._stateless_fn(*args, **kwds)\n",
      "  File \"/opt/homebrew/Caskroom/miniforge/base/envs/tensorflow/lib/python3.9/site-packages/tensorflow/python/eager/function.py\", line 3023, in __call__\n",
      "    return graph_function._call_flat(\n",
      "  File \"/opt/homebrew/Caskroom/miniforge/base/envs/tensorflow/lib/python3.9/site-packages/tensorflow/python/eager/function.py\", line 1960, in _call_flat\n",
      "    return self._build_call_outputs(self._inference_function.call(\n",
      "  File \"/opt/homebrew/Caskroom/miniforge/base/envs/tensorflow/lib/python3.9/site-packages/tensorflow/python/eager/function.py\", line 591, in call\n",
      "    outputs = execute.execute(\n",
      "  File \"/opt/homebrew/Caskroom/miniforge/base/envs/tensorflow/lib/python3.9/site-packages/tensorflow/python/eager/execute.py\", line 59, in quick_execute\n",
      "    tensors = pywrap_tfe.TFE_Py_Execute(ctx._handle, device_name, op_name,\n",
      "tensorflow.python.framework.errors_impl.InvalidArgumentError: Cannot assign a device for operation model_8/dense_36/MatMul/ReadVariableOp: Could not satisfy explicit device specification '' because the node {{colocation_node model_8/dense_36/MatMul/ReadVariableOp}} was colocated with a group of nodes that required incompatible device '/job:localhost/replica:0/task:0/device:GPU:0'. All available devices [/job:localhost/replica:0/task:0/device:CPU:0, /job:localhost/replica:0/task:0/device:GPU:0]. \n",
      "Colocation Debug Info:\n",
      "Colocation group had the following types and supported devices: \n",
      "Root Member(assigned_device_name_index_=2 requested_device_name_='/job:localhost/replica:0/task:0/device:GPU:0' assigned_device_name_='/job:localhost/replica:0/task:0/device:GPU:0' resource_device_name_='/job:localhost/replica:0/task:0/device:GPU:0' supported_device_types_=[CPU] possible_devices_=[]\n",
      "ResourceApplyAdaMax: CPU \n",
      "ReadVariableOp: GPU CPU \n",
      "_Arg: GPU CPU \n",
      "\n",
      "Colocation members, user-requested devices, and framework assigned devices, if any:\n",
      "  model_8_dense_36_matmul_readvariableop_resource (_Arg)  framework assigned device=/job:localhost/replica:0/task:0/device:GPU:0\n",
      "  adamax_adamax_update_resourceapplyadamax_m (_Arg)  framework assigned device=/job:localhost/replica:0/task:0/device:GPU:0\n",
      "  adamax_adamax_update_resourceapplyadamax_v (_Arg)  framework assigned device=/job:localhost/replica:0/task:0/device:GPU:0\n",
      "  model_8/dense_36/MatMul/ReadVariableOp (ReadVariableOp) \n",
      "  Adamax/Adamax/update/ResourceApplyAdaMax (ResourceApplyAdaMax) /job:localhost/replica:0/task:0/device:GPU:0\n",
      "\n",
      "\t [[{{node model_8/dense_36/MatMul/ReadVariableOp}}]] [Op:__inference_train_function_18930]\n",
      "\n",
      "--------------------------------------------------------------------------------\n",
      "1 fits failed with the following error:\n",
      "Traceback (most recent call last):\n",
      "  File \"/opt/homebrew/Caskroom/miniforge/base/envs/tensorflow/lib/python3.9/site-packages/sklearn/model_selection/_validation.py\", line 681, in _fit_and_score\n",
      "    estimator.fit(X_train, y_train, **fit_params)\n",
      "  File \"/opt/homebrew/Caskroom/miniforge/base/envs/tensorflow/lib/python3.9/site-packages/tensorflow/python/keras/wrappers/scikit_learn.py\", line 220, in fit\n",
      "    return super(KerasClassifier, self).fit(x, y, **kwargs)\n",
      "  File \"/opt/homebrew/Caskroom/miniforge/base/envs/tensorflow/lib/python3.9/site-packages/tensorflow/python/keras/wrappers/scikit_learn.py\", line 163, in fit\n",
      "    history = self.model.fit(x, y, **fit_args)\n",
      "  File \"/opt/homebrew/Caskroom/miniforge/base/envs/tensorflow/lib/python3.9/site-packages/tensorflow/python/keras/engine/training.py\", line 1183, in fit\n",
      "    tmp_logs = self.train_function(iterator)\n",
      "  File \"/opt/homebrew/Caskroom/miniforge/base/envs/tensorflow/lib/python3.9/site-packages/tensorflow/python/eager/def_function.py\", line 889, in __call__\n",
      "    result = self._call(*args, **kwds)\n",
      "  File \"/opt/homebrew/Caskroom/miniforge/base/envs/tensorflow/lib/python3.9/site-packages/tensorflow/python/eager/def_function.py\", line 950, in _call\n",
      "    return self._stateless_fn(*args, **kwds)\n",
      "  File \"/opt/homebrew/Caskroom/miniforge/base/envs/tensorflow/lib/python3.9/site-packages/tensorflow/python/eager/function.py\", line 3023, in __call__\n",
      "    return graph_function._call_flat(\n",
      "  File \"/opt/homebrew/Caskroom/miniforge/base/envs/tensorflow/lib/python3.9/site-packages/tensorflow/python/eager/function.py\", line 1960, in _call_flat\n",
      "    return self._build_call_outputs(self._inference_function.call(\n",
      "  File \"/opt/homebrew/Caskroom/miniforge/base/envs/tensorflow/lib/python3.9/site-packages/tensorflow/python/eager/function.py\", line 591, in call\n",
      "    outputs = execute.execute(\n",
      "  File \"/opt/homebrew/Caskroom/miniforge/base/envs/tensorflow/lib/python3.9/site-packages/tensorflow/python/eager/execute.py\", line 59, in quick_execute\n",
      "    tensors = pywrap_tfe.TFE_Py_Execute(ctx._handle, device_name, op_name,\n",
      "tensorflow.python.framework.errors_impl.InvalidArgumentError: Cannot assign a device for operation model_9/dense_38/MatMul/ReadVariableOp: Could not satisfy explicit device specification '' because the node {{colocation_node model_9/dense_38/MatMul/ReadVariableOp}} was colocated with a group of nodes that required incompatible device '/job:localhost/replica:0/task:0/device:GPU:0'. All available devices [/job:localhost/replica:0/task:0/device:CPU:0, /job:localhost/replica:0/task:0/device:GPU:0]. \n",
      "Colocation Debug Info:\n",
      "Colocation group had the following types and supported devices: \n",
      "Root Member(assigned_device_name_index_=2 requested_device_name_='/job:localhost/replica:0/task:0/device:GPU:0' assigned_device_name_='/job:localhost/replica:0/task:0/device:GPU:0' resource_device_name_='/job:localhost/replica:0/task:0/device:GPU:0' supported_device_types_=[CPU] possible_devices_=[]\n",
      "ResourceApplyAdaMax: CPU \n",
      "ReadVariableOp: GPU CPU \n",
      "_Arg: GPU CPU \n",
      "\n",
      "Colocation members, user-requested devices, and framework assigned devices, if any:\n",
      "  model_9_dense_38_matmul_readvariableop_resource (_Arg)  framework assigned device=/job:localhost/replica:0/task:0/device:GPU:0\n",
      "  adamax_adamax_update_resourceapplyadamax_m (_Arg)  framework assigned device=/job:localhost/replica:0/task:0/device:GPU:0\n",
      "  adamax_adamax_update_resourceapplyadamax_v (_Arg)  framework assigned device=/job:localhost/replica:0/task:0/device:GPU:0\n",
      "  model_9/dense_38/MatMul/ReadVariableOp (ReadVariableOp) \n",
      "  Adamax/Adamax/update/ResourceApplyAdaMax (ResourceApplyAdaMax) /job:localhost/replica:0/task:0/device:GPU:0\n",
      "\n",
      "\t [[{{node model_9/dense_38/MatMul/ReadVariableOp}}]] [Op:__inference_train_function_19603]\n",
      "\n",
      "--------------------------------------------------------------------------------\n",
      "1 fits failed with the following error:\n",
      "Traceback (most recent call last):\n",
      "  File \"/opt/homebrew/Caskroom/miniforge/base/envs/tensorflow/lib/python3.9/site-packages/sklearn/model_selection/_validation.py\", line 681, in _fit_and_score\n",
      "    estimator.fit(X_train, y_train, **fit_params)\n",
      "  File \"/opt/homebrew/Caskroom/miniforge/base/envs/tensorflow/lib/python3.9/site-packages/tensorflow/python/keras/wrappers/scikit_learn.py\", line 220, in fit\n",
      "    return super(KerasClassifier, self).fit(x, y, **kwargs)\n",
      "  File \"/opt/homebrew/Caskroom/miniforge/base/envs/tensorflow/lib/python3.9/site-packages/tensorflow/python/keras/wrappers/scikit_learn.py\", line 163, in fit\n",
      "    history = self.model.fit(x, y, **fit_args)\n",
      "  File \"/opt/homebrew/Caskroom/miniforge/base/envs/tensorflow/lib/python3.9/site-packages/tensorflow/python/keras/engine/training.py\", line 1183, in fit\n",
      "    tmp_logs = self.train_function(iterator)\n",
      "  File \"/opt/homebrew/Caskroom/miniforge/base/envs/tensorflow/lib/python3.9/site-packages/tensorflow/python/eager/def_function.py\", line 889, in __call__\n",
      "    result = self._call(*args, **kwds)\n",
      "  File \"/opt/homebrew/Caskroom/miniforge/base/envs/tensorflow/lib/python3.9/site-packages/tensorflow/python/eager/def_function.py\", line 950, in _call\n",
      "    return self._stateless_fn(*args, **kwds)\n",
      "  File \"/opt/homebrew/Caskroom/miniforge/base/envs/tensorflow/lib/python3.9/site-packages/tensorflow/python/eager/function.py\", line 3023, in __call__\n",
      "    return graph_function._call_flat(\n",
      "  File \"/opt/homebrew/Caskroom/miniforge/base/envs/tensorflow/lib/python3.9/site-packages/tensorflow/python/eager/function.py\", line 1960, in _call_flat\n",
      "    return self._build_call_outputs(self._inference_function.call(\n",
      "  File \"/opt/homebrew/Caskroom/miniforge/base/envs/tensorflow/lib/python3.9/site-packages/tensorflow/python/eager/function.py\", line 591, in call\n",
      "    outputs = execute.execute(\n",
      "  File \"/opt/homebrew/Caskroom/miniforge/base/envs/tensorflow/lib/python3.9/site-packages/tensorflow/python/eager/execute.py\", line 59, in quick_execute\n",
      "    tensors = pywrap_tfe.TFE_Py_Execute(ctx._handle, device_name, op_name,\n",
      "tensorflow.python.framework.errors_impl.InvalidArgumentError: Cannot assign a device for operation model_9/dense_37/MatMul/ReadVariableOp: Could not satisfy explicit device specification '' because the node {{colocation_node model_9/dense_37/MatMul/ReadVariableOp}} was colocated with a group of nodes that required incompatible device '/job:localhost/replica:0/task:0/device:GPU:0'. All available devices [/job:localhost/replica:0/task:0/device:CPU:0, /job:localhost/replica:0/task:0/device:GPU:0]. \n",
      "Colocation Debug Info:\n",
      "Colocation group had the following types and supported devices: \n",
      "Root Member(assigned_device_name_index_=2 requested_device_name_='/job:localhost/replica:0/task:0/device:GPU:0' assigned_device_name_='/job:localhost/replica:0/task:0/device:GPU:0' resource_device_name_='/job:localhost/replica:0/task:0/device:GPU:0' supported_device_types_=[CPU] possible_devices_=[]\n",
      "ResourceApplyAdaMax: CPU \n",
      "ReadVariableOp: GPU CPU \n",
      "_Arg: GPU CPU \n",
      "\n",
      "Colocation members, user-requested devices, and framework assigned devices, if any:\n",
      "  model_9_dense_37_matmul_readvariableop_resource (_Arg)  framework assigned device=/job:localhost/replica:0/task:0/device:GPU:0\n",
      "  adamax_adamax_update_resourceapplyadamax_m (_Arg)  framework assigned device=/job:localhost/replica:0/task:0/device:GPU:0\n",
      "  adamax_adamax_update_resourceapplyadamax_v (_Arg)  framework assigned device=/job:localhost/replica:0/task:0/device:GPU:0\n",
      "  model_9/dense_37/MatMul/ReadVariableOp (ReadVariableOp) \n",
      "  Adamax/Adamax/update/ResourceApplyAdaMax (ResourceApplyAdaMax) /job:localhost/replica:0/task:0/device:GPU:0\n",
      "\n",
      "\t [[{{node model_9/dense_37/MatMul/ReadVariableOp}}]] [Op:__inference_train_function_20803]\n",
      "\n",
      "--------------------------------------------------------------------------------\n",
      "1 fits failed with the following error:\n",
      "Traceback (most recent call last):\n",
      "  File \"/opt/homebrew/Caskroom/miniforge/base/envs/tensorflow/lib/python3.9/site-packages/sklearn/model_selection/_validation.py\", line 681, in _fit_and_score\n",
      "    estimator.fit(X_train, y_train, **fit_params)\n",
      "  File \"/opt/homebrew/Caskroom/miniforge/base/envs/tensorflow/lib/python3.9/site-packages/tensorflow/python/keras/wrappers/scikit_learn.py\", line 220, in fit\n",
      "    return super(KerasClassifier, self).fit(x, y, **kwargs)\n",
      "  File \"/opt/homebrew/Caskroom/miniforge/base/envs/tensorflow/lib/python3.9/site-packages/tensorflow/python/keras/wrappers/scikit_learn.py\", line 163, in fit\n",
      "    history = self.model.fit(x, y, **fit_args)\n",
      "  File \"/opt/homebrew/Caskroom/miniforge/base/envs/tensorflow/lib/python3.9/site-packages/tensorflow/python/keras/engine/training.py\", line 1183, in fit\n",
      "    tmp_logs = self.train_function(iterator)\n",
      "  File \"/opt/homebrew/Caskroom/miniforge/base/envs/tensorflow/lib/python3.9/site-packages/tensorflow/python/eager/def_function.py\", line 889, in __call__\n",
      "    result = self._call(*args, **kwds)\n",
      "  File \"/opt/homebrew/Caskroom/miniforge/base/envs/tensorflow/lib/python3.9/site-packages/tensorflow/python/eager/def_function.py\", line 950, in _call\n",
      "    return self._stateless_fn(*args, **kwds)\n",
      "  File \"/opt/homebrew/Caskroom/miniforge/base/envs/tensorflow/lib/python3.9/site-packages/tensorflow/python/eager/function.py\", line 3023, in __call__\n",
      "    return graph_function._call_flat(\n",
      "  File \"/opt/homebrew/Caskroom/miniforge/base/envs/tensorflow/lib/python3.9/site-packages/tensorflow/python/eager/function.py\", line 1960, in _call_flat\n",
      "    return self._build_call_outputs(self._inference_function.call(\n",
      "  File \"/opt/homebrew/Caskroom/miniforge/base/envs/tensorflow/lib/python3.9/site-packages/tensorflow/python/eager/function.py\", line 591, in call\n",
      "    outputs = execute.execute(\n",
      "  File \"/opt/homebrew/Caskroom/miniforge/base/envs/tensorflow/lib/python3.9/site-packages/tensorflow/python/eager/execute.py\", line 59, in quick_execute\n",
      "    tensors = pywrap_tfe.TFE_Py_Execute(ctx._handle, device_name, op_name,\n",
      "tensorflow.python.framework.errors_impl.InvalidArgumentError: Cannot assign a device for operation model_10/dense_39/MatMul/ReadVariableOp: Could not satisfy explicit device specification '' because the node {{colocation_node model_10/dense_39/MatMul/ReadVariableOp}} was colocated with a group of nodes that required incompatible device '/job:localhost/replica:0/task:0/device:GPU:0'. All available devices [/job:localhost/replica:0/task:0/device:CPU:0, /job:localhost/replica:0/task:0/device:GPU:0]. \n",
      "Colocation Debug Info:\n",
      "Colocation group had the following types and supported devices: \n",
      "Root Member(assigned_device_name_index_=2 requested_device_name_='/job:localhost/replica:0/task:0/device:GPU:0' assigned_device_name_='/job:localhost/replica:0/task:0/device:GPU:0' resource_device_name_='/job:localhost/replica:0/task:0/device:GPU:0' supported_device_types_=[CPU] possible_devices_=[]\n",
      "ResourceApplyAdaMax: CPU \n",
      "ReadVariableOp: GPU CPU \n",
      "_Arg: GPU CPU \n",
      "\n",
      "Colocation members, user-requested devices, and framework assigned devices, if any:\n",
      "  model_10_dense_39_matmul_readvariableop_resource (_Arg)  framework assigned device=/job:localhost/replica:0/task:0/device:GPU:0\n",
      "  adamax_adamax_update_resourceapplyadamax_m (_Arg)  framework assigned device=/job:localhost/replica:0/task:0/device:GPU:0\n",
      "  adamax_adamax_update_resourceapplyadamax_v (_Arg)  framework assigned device=/job:localhost/replica:0/task:0/device:GPU:0\n",
      "  model_10/dense_39/MatMul/ReadVariableOp (ReadVariableOp) \n",
      "  Adamax/Adamax/update/ResourceApplyAdaMax (ResourceApplyAdaMax) /job:localhost/replica:0/task:0/device:GPU:0\n",
      "\n",
      "\t [[{{node model_10/dense_39/MatMul/ReadVariableOp}}]] [Op:__inference_train_function_21476]\n",
      "\n",
      "--------------------------------------------------------------------------------\n",
      "1 fits failed with the following error:\n",
      "Traceback (most recent call last):\n",
      "  File \"/opt/homebrew/Caskroom/miniforge/base/envs/tensorflow/lib/python3.9/site-packages/sklearn/model_selection/_validation.py\", line 681, in _fit_and_score\n",
      "    estimator.fit(X_train, y_train, **fit_params)\n",
      "  File \"/opt/homebrew/Caskroom/miniforge/base/envs/tensorflow/lib/python3.9/site-packages/tensorflow/python/keras/wrappers/scikit_learn.py\", line 220, in fit\n",
      "    return super(KerasClassifier, self).fit(x, y, **kwargs)\n",
      "  File \"/opt/homebrew/Caskroom/miniforge/base/envs/tensorflow/lib/python3.9/site-packages/tensorflow/python/keras/wrappers/scikit_learn.py\", line 163, in fit\n",
      "    history = self.model.fit(x, y, **fit_args)\n",
      "  File \"/opt/homebrew/Caskroom/miniforge/base/envs/tensorflow/lib/python3.9/site-packages/tensorflow/python/keras/engine/training.py\", line 1183, in fit\n",
      "    tmp_logs = self.train_function(iterator)\n",
      "  File \"/opt/homebrew/Caskroom/miniforge/base/envs/tensorflow/lib/python3.9/site-packages/tensorflow/python/eager/def_function.py\", line 889, in __call__\n",
      "    result = self._call(*args, **kwds)\n",
      "  File \"/opt/homebrew/Caskroom/miniforge/base/envs/tensorflow/lib/python3.9/site-packages/tensorflow/python/eager/def_function.py\", line 950, in _call\n",
      "    return self._stateless_fn(*args, **kwds)\n",
      "  File \"/opt/homebrew/Caskroom/miniforge/base/envs/tensorflow/lib/python3.9/site-packages/tensorflow/python/eager/function.py\", line 3023, in __call__\n",
      "    return graph_function._call_flat(\n",
      "  File \"/opt/homebrew/Caskroom/miniforge/base/envs/tensorflow/lib/python3.9/site-packages/tensorflow/python/eager/function.py\", line 1960, in _call_flat\n",
      "    return self._build_call_outputs(self._inference_function.call(\n",
      "  File \"/opt/homebrew/Caskroom/miniforge/base/envs/tensorflow/lib/python3.9/site-packages/tensorflow/python/eager/function.py\", line 591, in call\n",
      "    outputs = execute.execute(\n",
      "  File \"/opt/homebrew/Caskroom/miniforge/base/envs/tensorflow/lib/python3.9/site-packages/tensorflow/python/eager/execute.py\", line 59, in quick_execute\n",
      "    tensors = pywrap_tfe.TFE_Py_Execute(ctx._handle, device_name, op_name,\n",
      "tensorflow.python.framework.errors_impl.InvalidArgumentError: Cannot assign a device for operation model_10/dense_45/MatMul/ReadVariableOp: Could not satisfy explicit device specification '' because the node {{colocation_node model_10/dense_45/MatMul/ReadVariableOp}} was colocated with a group of nodes that required incompatible device '/job:localhost/replica:0/task:0/device:GPU:0'. All available devices [/job:localhost/replica:0/task:0/device:CPU:0, /job:localhost/replica:0/task:0/device:GPU:0]. \n",
      "Colocation Debug Info:\n",
      "Colocation group had the following types and supported devices: \n",
      "Root Member(assigned_device_name_index_=2 requested_device_name_='/job:localhost/replica:0/task:0/device:GPU:0' assigned_device_name_='/job:localhost/replica:0/task:0/device:GPU:0' resource_device_name_='/job:localhost/replica:0/task:0/device:GPU:0' supported_device_types_=[CPU] possible_devices_=[]\n",
      "ResourceApplyAdaMax: CPU \n",
      "ReadVariableOp: GPU CPU \n",
      "_Arg: GPU CPU \n",
      "\n",
      "Colocation members, user-requested devices, and framework assigned devices, if any:\n",
      "  model_10_dense_45_matmul_readvariableop_resource (_Arg)  framework assigned device=/job:localhost/replica:0/task:0/device:GPU:0\n",
      "  adamax_adamax_update_resourceapplyadamax_m (_Arg)  framework assigned device=/job:localhost/replica:0/task:0/device:GPU:0\n",
      "  adamax_adamax_update_resourceapplyadamax_v (_Arg)  framework assigned device=/job:localhost/replica:0/task:0/device:GPU:0\n",
      "  model_10/dense_45/MatMul/ReadVariableOp (ReadVariableOp) \n",
      "  Adamax/Adamax/update/ResourceApplyAdaMax (ResourceApplyAdaMax) /job:localhost/replica:0/task:0/device:GPU:0\n",
      "\n",
      "\t [[{{node model_10/dense_45/MatMul/ReadVariableOp}}]] [Op:__inference_train_function_23494]\n",
      "\n",
      "--------------------------------------------------------------------------------\n",
      "1 fits failed with the following error:\n",
      "Traceback (most recent call last):\n",
      "  File \"/opt/homebrew/Caskroom/miniforge/base/envs/tensorflow/lib/python3.9/site-packages/sklearn/model_selection/_validation.py\", line 681, in _fit_and_score\n",
      "    estimator.fit(X_train, y_train, **fit_params)\n",
      "  File \"/opt/homebrew/Caskroom/miniforge/base/envs/tensorflow/lib/python3.9/site-packages/tensorflow/python/keras/wrappers/scikit_learn.py\", line 220, in fit\n",
      "    return super(KerasClassifier, self).fit(x, y, **kwargs)\n",
      "  File \"/opt/homebrew/Caskroom/miniforge/base/envs/tensorflow/lib/python3.9/site-packages/tensorflow/python/keras/wrappers/scikit_learn.py\", line 163, in fit\n",
      "    history = self.model.fit(x, y, **fit_args)\n",
      "  File \"/opt/homebrew/Caskroom/miniforge/base/envs/tensorflow/lib/python3.9/site-packages/tensorflow/python/keras/engine/training.py\", line 1183, in fit\n",
      "    tmp_logs = self.train_function(iterator)\n",
      "  File \"/opt/homebrew/Caskroom/miniforge/base/envs/tensorflow/lib/python3.9/site-packages/tensorflow/python/eager/def_function.py\", line 889, in __call__\n",
      "    result = self._call(*args, **kwds)\n",
      "  File \"/opt/homebrew/Caskroom/miniforge/base/envs/tensorflow/lib/python3.9/site-packages/tensorflow/python/eager/def_function.py\", line 950, in _call\n",
      "    return self._stateless_fn(*args, **kwds)\n",
      "  File \"/opt/homebrew/Caskroom/miniforge/base/envs/tensorflow/lib/python3.9/site-packages/tensorflow/python/eager/function.py\", line 3023, in __call__\n",
      "    return graph_function._call_flat(\n",
      "  File \"/opt/homebrew/Caskroom/miniforge/base/envs/tensorflow/lib/python3.9/site-packages/tensorflow/python/eager/function.py\", line 1960, in _call_flat\n",
      "    return self._build_call_outputs(self._inference_function.call(\n",
      "  File \"/opt/homebrew/Caskroom/miniforge/base/envs/tensorflow/lib/python3.9/site-packages/tensorflow/python/eager/function.py\", line 591, in call\n",
      "    outputs = execute.execute(\n",
      "  File \"/opt/homebrew/Caskroom/miniforge/base/envs/tensorflow/lib/python3.9/site-packages/tensorflow/python/eager/execute.py\", line 59, in quick_execute\n",
      "    tensors = pywrap_tfe.TFE_Py_Execute(ctx._handle, device_name, op_name,\n",
      "tensorflow.python.framework.errors_impl.InvalidArgumentError: Cannot assign a device for operation model_11/dense_33/MatMul/ReadVariableOp: Could not satisfy explicit device specification '' because the node {{colocation_node model_11/dense_33/MatMul/ReadVariableOp}} was colocated with a group of nodes that required incompatible device '/job:localhost/replica:0/task:0/device:GPU:0'. All available devices [/job:localhost/replica:0/task:0/device:CPU:0, /job:localhost/replica:0/task:0/device:GPU:0]. \n",
      "Colocation Debug Info:\n",
      "Colocation group had the following types and supported devices: \n",
      "Root Member(assigned_device_name_index_=2 requested_device_name_='/job:localhost/replica:0/task:0/device:GPU:0' assigned_device_name_='/job:localhost/replica:0/task:0/device:GPU:0' resource_device_name_='/job:localhost/replica:0/task:0/device:GPU:0' supported_device_types_=[CPU] possible_devices_=[]\n",
      "ResourceApplyAdaMax: CPU \n",
      "ReadVariableOp: GPU CPU \n",
      "_Arg: GPU CPU \n",
      "\n",
      "Colocation members, user-requested devices, and framework assigned devices, if any:\n",
      "  model_11_dense_33_matmul_readvariableop_resource (_Arg)  framework assigned device=/job:localhost/replica:0/task:0/device:GPU:0\n",
      "  adamax_adamax_update_resourceapplyadamax_m (_Arg)  framework assigned device=/job:localhost/replica:0/task:0/device:GPU:0\n",
      "  adamax_adamax_update_resourceapplyadamax_v (_Arg)  framework assigned device=/job:localhost/replica:0/task:0/device:GPU:0\n",
      "  model_11/dense_33/MatMul/ReadVariableOp (ReadVariableOp) \n",
      "  Adamax/Adamax/update/ResourceApplyAdaMax (ResourceApplyAdaMax) /job:localhost/replica:0/task:0/device:GPU:0\n",
      "\n",
      "\t [[{{node model_11/dense_33/MatMul/ReadVariableOp}}]] [Op:__inference_train_function_24122]\n",
      "\n",
      "--------------------------------------------------------------------------------\n",
      "1 fits failed with the following error:\n",
      "Traceback (most recent call last):\n",
      "  File \"/opt/homebrew/Caskroom/miniforge/base/envs/tensorflow/lib/python3.9/site-packages/sklearn/model_selection/_validation.py\", line 681, in _fit_and_score\n",
      "    estimator.fit(X_train, y_train, **fit_params)\n",
      "  File \"/opt/homebrew/Caskroom/miniforge/base/envs/tensorflow/lib/python3.9/site-packages/tensorflow/python/keras/wrappers/scikit_learn.py\", line 220, in fit\n",
      "    return super(KerasClassifier, self).fit(x, y, **kwargs)\n",
      "  File \"/opt/homebrew/Caskroom/miniforge/base/envs/tensorflow/lib/python3.9/site-packages/tensorflow/python/keras/wrappers/scikit_learn.py\", line 163, in fit\n",
      "    history = self.model.fit(x, y, **fit_args)\n",
      "  File \"/opt/homebrew/Caskroom/miniforge/base/envs/tensorflow/lib/python3.9/site-packages/tensorflow/python/keras/engine/training.py\", line 1183, in fit\n",
      "    tmp_logs = self.train_function(iterator)\n",
      "  File \"/opt/homebrew/Caskroom/miniforge/base/envs/tensorflow/lib/python3.9/site-packages/tensorflow/python/eager/def_function.py\", line 889, in __call__\n",
      "    result = self._call(*args, **kwds)\n",
      "  File \"/opt/homebrew/Caskroom/miniforge/base/envs/tensorflow/lib/python3.9/site-packages/tensorflow/python/eager/def_function.py\", line 950, in _call\n",
      "    return self._stateless_fn(*args, **kwds)\n",
      "  File \"/opt/homebrew/Caskroom/miniforge/base/envs/tensorflow/lib/python3.9/site-packages/tensorflow/python/eager/function.py\", line 3023, in __call__\n",
      "    return graph_function._call_flat(\n",
      "  File \"/opt/homebrew/Caskroom/miniforge/base/envs/tensorflow/lib/python3.9/site-packages/tensorflow/python/eager/function.py\", line 1960, in _call_flat\n",
      "    return self._build_call_outputs(self._inference_function.call(\n",
      "  File \"/opt/homebrew/Caskroom/miniforge/base/envs/tensorflow/lib/python3.9/site-packages/tensorflow/python/eager/function.py\", line 591, in call\n",
      "    outputs = execute.execute(\n",
      "  File \"/opt/homebrew/Caskroom/miniforge/base/envs/tensorflow/lib/python3.9/site-packages/tensorflow/python/eager/execute.py\", line 59, in quick_execute\n",
      "    tensors = pywrap_tfe.TFE_Py_Execute(ctx._handle, device_name, op_name,\n",
      "tensorflow.python.framework.errors_impl.InvalidArgumentError: Cannot assign a device for operation model_10/dense_47/MatMul/ReadVariableOp: Could not satisfy explicit device specification '' because the node {{colocation_node model_10/dense_47/MatMul/ReadVariableOp}} was colocated with a group of nodes that required incompatible device '/job:localhost/replica:0/task:0/device:GPU:0'. All available devices [/job:localhost/replica:0/task:0/device:CPU:0, /job:localhost/replica:0/task:0/device:GPU:0]. \n",
      "Colocation Debug Info:\n",
      "Colocation group had the following types and supported devices: \n",
      "Root Member(assigned_device_name_index_=2 requested_device_name_='/job:localhost/replica:0/task:0/device:GPU:0' assigned_device_name_='/job:localhost/replica:0/task:0/device:GPU:0' resource_device_name_='/job:localhost/replica:0/task:0/device:GPU:0' supported_device_types_=[CPU] possible_devices_=[]\n",
      "ResourceApplyAdaMax: CPU \n",
      "ReadVariableOp: GPU CPU \n",
      "_Arg: GPU CPU \n",
      "\n",
      "Colocation members, user-requested devices, and framework assigned devices, if any:\n",
      "  model_10_dense_47_matmul_readvariableop_resource (_Arg)  framework assigned device=/job:localhost/replica:0/task:0/device:GPU:0\n",
      "  adamax_adamax_update_resourceapplyadamax_m (_Arg)  framework assigned device=/job:localhost/replica:0/task:0/device:GPU:0\n",
      "  adamax_adamax_update_resourceapplyadamax_v (_Arg)  framework assigned device=/job:localhost/replica:0/task:0/device:GPU:0\n",
      "  model_10/dense_47/MatMul/ReadVariableOp (ReadVariableOp) \n",
      "  Adamax/Adamax/update/ResourceApplyAdaMax (ResourceApplyAdaMax) /job:localhost/replica:0/task:0/device:GPU:0\n",
      "\n",
      "\t [[{{node model_10/dense_47/MatMul/ReadVariableOp}}]] [Op:__inference_train_function_23569]\n",
      "\n",
      "--------------------------------------------------------------------------------\n",
      "1 fits failed with the following error:\n",
      "Traceback (most recent call last):\n",
      "  File \"/opt/homebrew/Caskroom/miniforge/base/envs/tensorflow/lib/python3.9/site-packages/sklearn/model_selection/_validation.py\", line 681, in _fit_and_score\n",
      "    estimator.fit(X_train, y_train, **fit_params)\n",
      "  File \"/opt/homebrew/Caskroom/miniforge/base/envs/tensorflow/lib/python3.9/site-packages/tensorflow/python/keras/wrappers/scikit_learn.py\", line 220, in fit\n",
      "    return super(KerasClassifier, self).fit(x, y, **kwargs)\n",
      "  File \"/opt/homebrew/Caskroom/miniforge/base/envs/tensorflow/lib/python3.9/site-packages/tensorflow/python/keras/wrappers/scikit_learn.py\", line 163, in fit\n",
      "    history = self.model.fit(x, y, **fit_args)\n",
      "  File \"/opt/homebrew/Caskroom/miniforge/base/envs/tensorflow/lib/python3.9/site-packages/tensorflow/python/keras/engine/training.py\", line 1183, in fit\n",
      "    tmp_logs = self.train_function(iterator)\n",
      "  File \"/opt/homebrew/Caskroom/miniforge/base/envs/tensorflow/lib/python3.9/site-packages/tensorflow/python/eager/def_function.py\", line 889, in __call__\n",
      "    result = self._call(*args, **kwds)\n",
      "  File \"/opt/homebrew/Caskroom/miniforge/base/envs/tensorflow/lib/python3.9/site-packages/tensorflow/python/eager/def_function.py\", line 950, in _call\n",
      "    return self._stateless_fn(*args, **kwds)\n",
      "  File \"/opt/homebrew/Caskroom/miniforge/base/envs/tensorflow/lib/python3.9/site-packages/tensorflow/python/eager/function.py\", line 3023, in __call__\n",
      "    return graph_function._call_flat(\n",
      "  File \"/opt/homebrew/Caskroom/miniforge/base/envs/tensorflow/lib/python3.9/site-packages/tensorflow/python/eager/function.py\", line 1960, in _call_flat\n",
      "    return self._build_call_outputs(self._inference_function.call(\n",
      "  File \"/opt/homebrew/Caskroom/miniforge/base/envs/tensorflow/lib/python3.9/site-packages/tensorflow/python/eager/function.py\", line 591, in call\n",
      "    outputs = execute.execute(\n",
      "  File \"/opt/homebrew/Caskroom/miniforge/base/envs/tensorflow/lib/python3.9/site-packages/tensorflow/python/eager/execute.py\", line 59, in quick_execute\n",
      "    tensors = pywrap_tfe.TFE_Py_Execute(ctx._handle, device_name, op_name,\n",
      "tensorflow.python.framework.errors_impl.InvalidArgumentError: Cannot assign a device for operation model_12/dense_35/MatMul/ReadVariableOp: Could not satisfy explicit device specification '' because the node {{colocation_node model_12/dense_35/MatMul/ReadVariableOp}} was colocated with a group of nodes that required incompatible device '/job:localhost/replica:0/task:0/device:GPU:0'. All available devices [/job:localhost/replica:0/task:0/device:CPU:0, /job:localhost/replica:0/task:0/device:GPU:0]. \n",
      "Colocation Debug Info:\n",
      "Colocation group had the following types and supported devices: \n",
      "Root Member(assigned_device_name_index_=2 requested_device_name_='/job:localhost/replica:0/task:0/device:GPU:0' assigned_device_name_='/job:localhost/replica:0/task:0/device:GPU:0' resource_device_name_='/job:localhost/replica:0/task:0/device:GPU:0' supported_device_types_=[CPU] possible_devices_=[]\n",
      "ResourceApplyAdaMax: CPU \n",
      "ReadVariableOp: GPU CPU \n",
      "_Arg: GPU CPU \n",
      "\n",
      "Colocation members, user-requested devices, and framework assigned devices, if any:\n",
      "  model_12_dense_35_matmul_readvariableop_resource (_Arg)  framework assigned device=/job:localhost/replica:0/task:0/device:GPU:0\n",
      "  adamax_adamax_update_resourceapplyadamax_m (_Arg)  framework assigned device=/job:localhost/replica:0/task:0/device:GPU:0\n",
      "  adamax_adamax_update_resourceapplyadamax_v (_Arg)  framework assigned device=/job:localhost/replica:0/task:0/device:GPU:0\n",
      "  model_12/dense_35/MatMul/ReadVariableOp (ReadVariableOp) \n",
      "  Adamax/Adamax/update/ResourceApplyAdaMax (ResourceApplyAdaMax) /job:localhost/replica:0/task:0/device:GPU:0\n",
      "\n",
      "\t [[{{node model_12/dense_35/MatMul/ReadVariableOp}}]] [Op:__inference_train_function_24795]\n",
      "\n",
      "--------------------------------------------------------------------------------\n",
      "1 fits failed with the following error:\n",
      "Traceback (most recent call last):\n",
      "  File \"/opt/homebrew/Caskroom/miniforge/base/envs/tensorflow/lib/python3.9/site-packages/sklearn/model_selection/_validation.py\", line 681, in _fit_and_score\n",
      "    estimator.fit(X_train, y_train, **fit_params)\n",
      "  File \"/opt/homebrew/Caskroom/miniforge/base/envs/tensorflow/lib/python3.9/site-packages/tensorflow/python/keras/wrappers/scikit_learn.py\", line 220, in fit\n",
      "    return super(KerasClassifier, self).fit(x, y, **kwargs)\n",
      "  File \"/opt/homebrew/Caskroom/miniforge/base/envs/tensorflow/lib/python3.9/site-packages/tensorflow/python/keras/wrappers/scikit_learn.py\", line 163, in fit\n",
      "    history = self.model.fit(x, y, **fit_args)\n",
      "  File \"/opt/homebrew/Caskroom/miniforge/base/envs/tensorflow/lib/python3.9/site-packages/tensorflow/python/keras/engine/training.py\", line 1183, in fit\n",
      "    tmp_logs = self.train_function(iterator)\n",
      "  File \"/opt/homebrew/Caskroom/miniforge/base/envs/tensorflow/lib/python3.9/site-packages/tensorflow/python/eager/def_function.py\", line 889, in __call__\n",
      "    result = self._call(*args, **kwds)\n",
      "  File \"/opt/homebrew/Caskroom/miniforge/base/envs/tensorflow/lib/python3.9/site-packages/tensorflow/python/eager/def_function.py\", line 950, in _call\n",
      "    return self._stateless_fn(*args, **kwds)\n",
      "  File \"/opt/homebrew/Caskroom/miniforge/base/envs/tensorflow/lib/python3.9/site-packages/tensorflow/python/eager/function.py\", line 3023, in __call__\n",
      "    return graph_function._call_flat(\n",
      "  File \"/opt/homebrew/Caskroom/miniforge/base/envs/tensorflow/lib/python3.9/site-packages/tensorflow/python/eager/function.py\", line 1960, in _call_flat\n",
      "    return self._build_call_outputs(self._inference_function.call(\n",
      "  File \"/opt/homebrew/Caskroom/miniforge/base/envs/tensorflow/lib/python3.9/site-packages/tensorflow/python/eager/function.py\", line 591, in call\n",
      "    outputs = execute.execute(\n",
      "  File \"/opt/homebrew/Caskroom/miniforge/base/envs/tensorflow/lib/python3.9/site-packages/tensorflow/python/eager/execute.py\", line 59, in quick_execute\n",
      "    tensors = pywrap_tfe.TFE_Py_Execute(ctx._handle, device_name, op_name,\n",
      "tensorflow.python.framework.errors_impl.InvalidArgumentError: Cannot assign a device for operation model_12/dense_44/MatMul/ReadVariableOp: Could not satisfy explicit device specification '' because the node {{colocation_node model_12/dense_44/MatMul/ReadVariableOp}} was colocated with a group of nodes that required incompatible device '/job:localhost/replica:0/task:0/device:GPU:0'. All available devices [/job:localhost/replica:0/task:0/device:CPU:0, /job:localhost/replica:0/task:0/device:GPU:0]. \n",
      "Colocation Debug Info:\n",
      "Colocation group had the following types and supported devices: \n",
      "Root Member(assigned_device_name_index_=2 requested_device_name_='/job:localhost/replica:0/task:0/device:GPU:0' assigned_device_name_='/job:localhost/replica:0/task:0/device:GPU:0' resource_device_name_='/job:localhost/replica:0/task:0/device:GPU:0' supported_device_types_=[CPU] possible_devices_=[]\n",
      "ResourceApplyAdaMax: CPU \n",
      "ReadVariableOp: GPU CPU \n",
      "_Arg: GPU CPU \n",
      "\n",
      "Colocation members, user-requested devices, and framework assigned devices, if any:\n",
      "  model_12_dense_44_matmul_readvariableop_resource (_Arg)  framework assigned device=/job:localhost/replica:0/task:0/device:GPU:0\n",
      "  adamax_adamax_update_resourceapplyadamax_m (_Arg)  framework assigned device=/job:localhost/replica:0/task:0/device:GPU:0\n",
      "  adamax_adamax_update_resourceapplyadamax_v (_Arg)  framework assigned device=/job:localhost/replica:0/task:0/device:GPU:0\n",
      "  model_12/dense_44/MatMul/ReadVariableOp (ReadVariableOp) \n",
      "  Adamax/Adamax/update/ResourceApplyAdaMax (ResourceApplyAdaMax) /job:localhost/replica:0/task:0/device:GPU:0\n",
      "\n",
      "\t [[{{node model_12/dense_44/MatMul/ReadVariableOp}}]] [Op:__inference_train_function_24299]\n",
      "\n",
      "--------------------------------------------------------------------------------\n",
      "1 fits failed with the following error:\n",
      "Traceback (most recent call last):\n",
      "  File \"/opt/homebrew/Caskroom/miniforge/base/envs/tensorflow/lib/python3.9/site-packages/sklearn/model_selection/_validation.py\", line 681, in _fit_and_score\n",
      "    estimator.fit(X_train, y_train, **fit_params)\n",
      "  File \"/opt/homebrew/Caskroom/miniforge/base/envs/tensorflow/lib/python3.9/site-packages/tensorflow/python/keras/wrappers/scikit_learn.py\", line 220, in fit\n",
      "    return super(KerasClassifier, self).fit(x, y, **kwargs)\n",
      "  File \"/opt/homebrew/Caskroom/miniforge/base/envs/tensorflow/lib/python3.9/site-packages/tensorflow/python/keras/wrappers/scikit_learn.py\", line 163, in fit\n",
      "    history = self.model.fit(x, y, **fit_args)\n",
      "  File \"/opt/homebrew/Caskroom/miniforge/base/envs/tensorflow/lib/python3.9/site-packages/tensorflow/python/keras/engine/training.py\", line 1183, in fit\n",
      "    tmp_logs = self.train_function(iterator)\n",
      "  File \"/opt/homebrew/Caskroom/miniforge/base/envs/tensorflow/lib/python3.9/site-packages/tensorflow/python/eager/def_function.py\", line 889, in __call__\n",
      "    result = self._call(*args, **kwds)\n",
      "  File \"/opt/homebrew/Caskroom/miniforge/base/envs/tensorflow/lib/python3.9/site-packages/tensorflow/python/eager/def_function.py\", line 950, in _call\n",
      "    return self._stateless_fn(*args, **kwds)\n",
      "  File \"/opt/homebrew/Caskroom/miniforge/base/envs/tensorflow/lib/python3.9/site-packages/tensorflow/python/eager/function.py\", line 3023, in __call__\n",
      "    return graph_function._call_flat(\n",
      "  File \"/opt/homebrew/Caskroom/miniforge/base/envs/tensorflow/lib/python3.9/site-packages/tensorflow/python/eager/function.py\", line 1960, in _call_flat\n",
      "    return self._build_call_outputs(self._inference_function.call(\n",
      "  File \"/opt/homebrew/Caskroom/miniforge/base/envs/tensorflow/lib/python3.9/site-packages/tensorflow/python/eager/function.py\", line 591, in call\n",
      "    outputs = execute.execute(\n",
      "  File \"/opt/homebrew/Caskroom/miniforge/base/envs/tensorflow/lib/python3.9/site-packages/tensorflow/python/eager/execute.py\", line 59, in quick_execute\n",
      "    tensors = pywrap_tfe.TFE_Py_Execute(ctx._handle, device_name, op_name,\n",
      "tensorflow.python.framework.errors_impl.InvalidArgumentError: Cannot assign a device for operation model_13/dense_46/MatMul/ReadVariableOp: Could not satisfy explicit device specification '' because the node {{colocation_node model_13/dense_46/MatMul/ReadVariableOp}} was colocated with a group of nodes that required incompatible device '/job:localhost/replica:0/task:0/device:GPU:0'. All available devices [/job:localhost/replica:0/task:0/device:CPU:0, /job:localhost/replica:0/task:0/device:GPU:0]. \n",
      "Colocation Debug Info:\n",
      "Colocation group had the following types and supported devices: \n",
      "Root Member(assigned_device_name_index_=2 requested_device_name_='/job:localhost/replica:0/task:0/device:GPU:0' assigned_device_name_='/job:localhost/replica:0/task:0/device:GPU:0' resource_device_name_='/job:localhost/replica:0/task:0/device:GPU:0' supported_device_types_=[CPU] possible_devices_=[]\n",
      "ResourceApplyAdaMax: CPU \n",
      "ReadVariableOp: GPU CPU \n",
      "_Arg: GPU CPU \n",
      "\n",
      "Colocation members, user-requested devices, and framework assigned devices, if any:\n",
      "  model_13_dense_46_matmul_readvariableop_resource (_Arg)  framework assigned device=/job:localhost/replica:0/task:0/device:GPU:0\n",
      "  adamax_adamax_update_resourceapplyadamax_m (_Arg)  framework assigned device=/job:localhost/replica:0/task:0/device:GPU:0\n",
      "  adamax_adamax_update_resourceapplyadamax_v (_Arg)  framework assigned device=/job:localhost/replica:0/task:0/device:GPU:0\n",
      "  model_13/dense_46/MatMul/ReadVariableOp (ReadVariableOp) \n",
      "  Adamax/Adamax/update/ResourceApplyAdaMax (ResourceApplyAdaMax) /job:localhost/replica:0/task:0/device:GPU:0\n",
      "\n",
      "\t [[{{node model_13/dense_46/MatMul/ReadVariableOp}}]] [Op:__inference_train_function_24972]\n",
      "\n",
      "--------------------------------------------------------------------------------\n",
      "1 fits failed with the following error:\n",
      "Traceback (most recent call last):\n",
      "  File \"/opt/homebrew/Caskroom/miniforge/base/envs/tensorflow/lib/python3.9/site-packages/sklearn/model_selection/_validation.py\", line 681, in _fit_and_score\n",
      "    estimator.fit(X_train, y_train, **fit_params)\n",
      "  File \"/opt/homebrew/Caskroom/miniforge/base/envs/tensorflow/lib/python3.9/site-packages/tensorflow/python/keras/wrappers/scikit_learn.py\", line 220, in fit\n",
      "    return super(KerasClassifier, self).fit(x, y, **kwargs)\n",
      "  File \"/opt/homebrew/Caskroom/miniforge/base/envs/tensorflow/lib/python3.9/site-packages/tensorflow/python/keras/wrappers/scikit_learn.py\", line 163, in fit\n",
      "    history = self.model.fit(x, y, **fit_args)\n",
      "  File \"/opt/homebrew/Caskroom/miniforge/base/envs/tensorflow/lib/python3.9/site-packages/tensorflow/python/keras/engine/training.py\", line 1183, in fit\n",
      "    tmp_logs = self.train_function(iterator)\n",
      "  File \"/opt/homebrew/Caskroom/miniforge/base/envs/tensorflow/lib/python3.9/site-packages/tensorflow/python/eager/def_function.py\", line 889, in __call__\n",
      "    result = self._call(*args, **kwds)\n",
      "  File \"/opt/homebrew/Caskroom/miniforge/base/envs/tensorflow/lib/python3.9/site-packages/tensorflow/python/eager/def_function.py\", line 950, in _call\n",
      "    return self._stateless_fn(*args, **kwds)\n",
      "  File \"/opt/homebrew/Caskroom/miniforge/base/envs/tensorflow/lib/python3.9/site-packages/tensorflow/python/eager/function.py\", line 3023, in __call__\n",
      "    return graph_function._call_flat(\n",
      "  File \"/opt/homebrew/Caskroom/miniforge/base/envs/tensorflow/lib/python3.9/site-packages/tensorflow/python/eager/function.py\", line 1960, in _call_flat\n",
      "    return self._build_call_outputs(self._inference_function.call(\n",
      "  File \"/opt/homebrew/Caskroom/miniforge/base/envs/tensorflow/lib/python3.9/site-packages/tensorflow/python/eager/function.py\", line 591, in call\n",
      "    outputs = execute.execute(\n",
      "  File \"/opt/homebrew/Caskroom/miniforge/base/envs/tensorflow/lib/python3.9/site-packages/tensorflow/python/eager/execute.py\", line 59, in quick_execute\n",
      "    tensors = pywrap_tfe.TFE_Py_Execute(ctx._handle, device_name, op_name,\n",
      "tensorflow.python.framework.errors_impl.InvalidArgumentError: Cannot assign a device for operation model_13/dense_45/MatMul/ReadVariableOp: Could not satisfy explicit device specification '' because the node {{colocation_node model_13/dense_45/MatMul/ReadVariableOp}} was colocated with a group of nodes that required incompatible device '/job:localhost/replica:0/task:0/device:GPU:0'. All available devices [/job:localhost/replica:0/task:0/device:CPU:0, /job:localhost/replica:0/task:0/device:GPU:0]. \n",
      "Colocation Debug Info:\n",
      "Colocation group had the following types and supported devices: \n",
      "Root Member(assigned_device_name_index_=2 requested_device_name_='/job:localhost/replica:0/task:0/device:GPU:0' assigned_device_name_='/job:localhost/replica:0/task:0/device:GPU:0' resource_device_name_='/job:localhost/replica:0/task:0/device:GPU:0' supported_device_types_=[CPU] possible_devices_=[]\n",
      "ResourceApplyAdaMax: CPU \n",
      "ReadVariableOp: GPU CPU \n",
      "_Arg: GPU CPU \n",
      "\n",
      "Colocation members, user-requested devices, and framework assigned devices, if any:\n",
      "  model_13_dense_45_matmul_readvariableop_resource (_Arg)  framework assigned device=/job:localhost/replica:0/task:0/device:GPU:0\n",
      "  adamax_adamax_update_resourceapplyadamax_m (_Arg)  framework assigned device=/job:localhost/replica:0/task:0/device:GPU:0\n",
      "  adamax_adamax_update_resourceapplyadamax_v (_Arg)  framework assigned device=/job:localhost/replica:0/task:0/device:GPU:0\n",
      "  model_13/dense_45/MatMul/ReadVariableOp (ReadVariableOp) \n",
      "  Adamax/Adamax/update/ResourceApplyAdaMax (ResourceApplyAdaMax) /job:localhost/replica:0/task:0/device:GPU:0\n",
      "\n",
      "\t [[{{node model_13/dense_45/MatMul/ReadVariableOp}}]] [Op:__inference_train_function_25171]\n",
      "\n",
      "--------------------------------------------------------------------------------\n",
      "1 fits failed with the following error:\n",
      "Traceback (most recent call last):\n",
      "  File \"/opt/homebrew/Caskroom/miniforge/base/envs/tensorflow/lib/python3.9/site-packages/sklearn/model_selection/_validation.py\", line 681, in _fit_and_score\n",
      "    estimator.fit(X_train, y_train, **fit_params)\n",
      "  File \"/opt/homebrew/Caskroom/miniforge/base/envs/tensorflow/lib/python3.9/site-packages/tensorflow/python/keras/wrappers/scikit_learn.py\", line 220, in fit\n",
      "    return super(KerasClassifier, self).fit(x, y, **kwargs)\n",
      "  File \"/opt/homebrew/Caskroom/miniforge/base/envs/tensorflow/lib/python3.9/site-packages/tensorflow/python/keras/wrappers/scikit_learn.py\", line 163, in fit\n",
      "    history = self.model.fit(x, y, **fit_args)\n",
      "  File \"/opt/homebrew/Caskroom/miniforge/base/envs/tensorflow/lib/python3.9/site-packages/tensorflow/python/keras/engine/training.py\", line 1183, in fit\n",
      "    tmp_logs = self.train_function(iterator)\n",
      "  File \"/opt/homebrew/Caskroom/miniforge/base/envs/tensorflow/lib/python3.9/site-packages/tensorflow/python/eager/def_function.py\", line 889, in __call__\n",
      "    result = self._call(*args, **kwds)\n",
      "  File \"/opt/homebrew/Caskroom/miniforge/base/envs/tensorflow/lib/python3.9/site-packages/tensorflow/python/eager/def_function.py\", line 950, in _call\n",
      "    return self._stateless_fn(*args, **kwds)\n",
      "  File \"/opt/homebrew/Caskroom/miniforge/base/envs/tensorflow/lib/python3.9/site-packages/tensorflow/python/eager/function.py\", line 3023, in __call__\n",
      "    return graph_function._call_flat(\n",
      "  File \"/opt/homebrew/Caskroom/miniforge/base/envs/tensorflow/lib/python3.9/site-packages/tensorflow/python/eager/function.py\", line 1960, in _call_flat\n",
      "    return self._build_call_outputs(self._inference_function.call(\n",
      "  File \"/opt/homebrew/Caskroom/miniforge/base/envs/tensorflow/lib/python3.9/site-packages/tensorflow/python/eager/function.py\", line 591, in call\n",
      "    outputs = execute.execute(\n",
      "  File \"/opt/homebrew/Caskroom/miniforge/base/envs/tensorflow/lib/python3.9/site-packages/tensorflow/python/eager/execute.py\", line 59, in quick_execute\n",
      "    tensors = pywrap_tfe.TFE_Py_Execute(ctx._handle, device_name, op_name,\n",
      "tensorflow.python.framework.errors_impl.InvalidArgumentError: Cannot assign a device for operation model_14/dense_39/MatMul/ReadVariableOp: Could not satisfy explicit device specification '' because the node {{colocation_node model_14/dense_39/MatMul/ReadVariableOp}} was colocated with a group of nodes that required incompatible device '/job:localhost/replica:0/task:0/device:GPU:0'. All available devices [/job:localhost/replica:0/task:0/device:CPU:0, /job:localhost/replica:0/task:0/device:GPU:0]. \n",
      "Colocation Debug Info:\n",
      "Colocation group had the following types and supported devices: \n",
      "Root Member(assigned_device_name_index_=2 requested_device_name_='/job:localhost/replica:0/task:0/device:GPU:0' assigned_device_name_='/job:localhost/replica:0/task:0/device:GPU:0' resource_device_name_='/job:localhost/replica:0/task:0/device:GPU:0' supported_device_types_=[CPU] possible_devices_=[]\n",
      "ResourceApplyAdaMax: CPU \n",
      "ReadVariableOp: GPU CPU \n",
      "_Arg: GPU CPU \n",
      "\n",
      "Colocation members, user-requested devices, and framework assigned devices, if any:\n",
      "  model_14_dense_39_matmul_readvariableop_resource (_Arg)  framework assigned device=/job:localhost/replica:0/task:0/device:GPU:0\n",
      "  adamax_adamax_update_resourceapplyadamax_m (_Arg)  framework assigned device=/job:localhost/replica:0/task:0/device:GPU:0\n",
      "  adamax_adamax_update_resourceapplyadamax_v (_Arg)  framework assigned device=/job:localhost/replica:0/task:0/device:GPU:0\n",
      "  model_14/dense_39/MatMul/ReadVariableOp (ReadVariableOp) \n",
      "  Adamax/Adamax/update/ResourceApplyAdaMax (ResourceApplyAdaMax) /job:localhost/replica:0/task:0/device:GPU:0\n",
      "\n",
      "\t [[{{node model_14/dense_39/MatMul/ReadVariableOp}}]] [Op:__inference_train_function_26529]\n",
      "\n",
      "--------------------------------------------------------------------------------\n",
      "1 fits failed with the following error:\n",
      "Traceback (most recent call last):\n",
      "  File \"/opt/homebrew/Caskroom/miniforge/base/envs/tensorflow/lib/python3.9/site-packages/sklearn/model_selection/_validation.py\", line 681, in _fit_and_score\n",
      "    estimator.fit(X_train, y_train, **fit_params)\n",
      "  File \"/opt/homebrew/Caskroom/miniforge/base/envs/tensorflow/lib/python3.9/site-packages/tensorflow/python/keras/wrappers/scikit_learn.py\", line 220, in fit\n",
      "    return super(KerasClassifier, self).fit(x, y, **kwargs)\n",
      "  File \"/opt/homebrew/Caskroom/miniforge/base/envs/tensorflow/lib/python3.9/site-packages/tensorflow/python/keras/wrappers/scikit_learn.py\", line 163, in fit\n",
      "    history = self.model.fit(x, y, **fit_args)\n",
      "  File \"/opt/homebrew/Caskroom/miniforge/base/envs/tensorflow/lib/python3.9/site-packages/tensorflow/python/keras/engine/training.py\", line 1183, in fit\n",
      "    tmp_logs = self.train_function(iterator)\n",
      "  File \"/opt/homebrew/Caskroom/miniforge/base/envs/tensorflow/lib/python3.9/site-packages/tensorflow/python/eager/def_function.py\", line 889, in __call__\n",
      "    result = self._call(*args, **kwds)\n",
      "  File \"/opt/homebrew/Caskroom/miniforge/base/envs/tensorflow/lib/python3.9/site-packages/tensorflow/python/eager/def_function.py\", line 950, in _call\n",
      "    return self._stateless_fn(*args, **kwds)\n",
      "  File \"/opt/homebrew/Caskroom/miniforge/base/envs/tensorflow/lib/python3.9/site-packages/tensorflow/python/eager/function.py\", line 3023, in __call__\n",
      "    return graph_function._call_flat(\n",
      "  File \"/opt/homebrew/Caskroom/miniforge/base/envs/tensorflow/lib/python3.9/site-packages/tensorflow/python/eager/function.py\", line 1960, in _call_flat\n",
      "    return self._build_call_outputs(self._inference_function.call(\n",
      "  File \"/opt/homebrew/Caskroom/miniforge/base/envs/tensorflow/lib/python3.9/site-packages/tensorflow/python/eager/function.py\", line 591, in call\n",
      "    outputs = execute.execute(\n",
      "  File \"/opt/homebrew/Caskroom/miniforge/base/envs/tensorflow/lib/python3.9/site-packages/tensorflow/python/eager/execute.py\", line 59, in quick_execute\n",
      "    tensors = pywrap_tfe.TFE_Py_Execute(ctx._handle, device_name, op_name,\n",
      "tensorflow.python.framework.errors_impl.InvalidArgumentError: Cannot assign a device for operation model_13/dense_51/MatMul/ReadVariableOp: Could not satisfy explicit device specification '' because the node {{colocation_node model_13/dense_51/MatMul/ReadVariableOp}} was colocated with a group of nodes that required incompatible device '/job:localhost/replica:0/task:0/device:GPU:0'. All available devices [/job:localhost/replica:0/task:0/device:CPU:0, /job:localhost/replica:0/task:0/device:GPU:0]. \n",
      "Colocation Debug Info:\n",
      "Colocation group had the following types and supported devices: \n",
      "Root Member(assigned_device_name_index_=2 requested_device_name_='/job:localhost/replica:0/task:0/device:GPU:0' assigned_device_name_='/job:localhost/replica:0/task:0/device:GPU:0' resource_device_name_='/job:localhost/replica:0/task:0/device:GPU:0' supported_device_types_=[CPU] possible_devices_=[]\n",
      "ResourceApplyAdaMax: CPU \n",
      "ReadVariableOp: GPU CPU \n",
      "_Arg: GPU CPU \n",
      "\n",
      "Colocation members, user-requested devices, and framework assigned devices, if any:\n",
      "  model_13_dense_51_matmul_readvariableop_resource (_Arg)  framework assigned device=/job:localhost/replica:0/task:0/device:GPU:0\n",
      "  adamax_adamax_update_resourceapplyadamax_m (_Arg)  framework assigned device=/job:localhost/replica:0/task:0/device:GPU:0\n",
      "  adamax_adamax_update_resourceapplyadamax_v (_Arg)  framework assigned device=/job:localhost/replica:0/task:0/device:GPU:0\n",
      "  model_13/dense_51/MatMul/ReadVariableOp (ReadVariableOp) \n",
      "  Adamax/Adamax/update/ResourceApplyAdaMax (ResourceApplyAdaMax) /job:localhost/replica:0/task:0/device:GPU:0\n",
      "\n",
      "\t [[{{node model_13/dense_51/MatMul/ReadVariableOp}}]] [Op:__inference_train_function_27391]\n",
      "\n",
      "--------------------------------------------------------------------------------\n",
      "1 fits failed with the following error:\n",
      "Traceback (most recent call last):\n",
      "  File \"/opt/homebrew/Caskroom/miniforge/base/envs/tensorflow/lib/python3.9/site-packages/sklearn/model_selection/_validation.py\", line 681, in _fit_and_score\n",
      "    estimator.fit(X_train, y_train, **fit_params)\n",
      "  File \"/opt/homebrew/Caskroom/miniforge/base/envs/tensorflow/lib/python3.9/site-packages/tensorflow/python/keras/wrappers/scikit_learn.py\", line 220, in fit\n",
      "    return super(KerasClassifier, self).fit(x, y, **kwargs)\n",
      "  File \"/opt/homebrew/Caskroom/miniforge/base/envs/tensorflow/lib/python3.9/site-packages/tensorflow/python/keras/wrappers/scikit_learn.py\", line 163, in fit\n",
      "    history = self.model.fit(x, y, **fit_args)\n",
      "  File \"/opt/homebrew/Caskroom/miniforge/base/envs/tensorflow/lib/python3.9/site-packages/tensorflow/python/keras/engine/training.py\", line 1183, in fit\n",
      "    tmp_logs = self.train_function(iterator)\n",
      "  File \"/opt/homebrew/Caskroom/miniforge/base/envs/tensorflow/lib/python3.9/site-packages/tensorflow/python/eager/def_function.py\", line 889, in __call__\n",
      "    result = self._call(*args, **kwds)\n",
      "  File \"/opt/homebrew/Caskroom/miniforge/base/envs/tensorflow/lib/python3.9/site-packages/tensorflow/python/eager/def_function.py\", line 950, in _call\n",
      "    return self._stateless_fn(*args, **kwds)\n",
      "  File \"/opt/homebrew/Caskroom/miniforge/base/envs/tensorflow/lib/python3.9/site-packages/tensorflow/python/eager/function.py\", line 3023, in __call__\n",
      "    return graph_function._call_flat(\n",
      "  File \"/opt/homebrew/Caskroom/miniforge/base/envs/tensorflow/lib/python3.9/site-packages/tensorflow/python/eager/function.py\", line 1960, in _call_flat\n",
      "    return self._build_call_outputs(self._inference_function.call(\n",
      "  File \"/opt/homebrew/Caskroom/miniforge/base/envs/tensorflow/lib/python3.9/site-packages/tensorflow/python/eager/function.py\", line 591, in call\n",
      "    outputs = execute.execute(\n",
      "  File \"/opt/homebrew/Caskroom/miniforge/base/envs/tensorflow/lib/python3.9/site-packages/tensorflow/python/eager/execute.py\", line 59, in quick_execute\n",
      "    tensors = pywrap_tfe.TFE_Py_Execute(ctx._handle, device_name, op_name,\n",
      "tensorflow.python.framework.errors_impl.InvalidArgumentError: Cannot assign a device for operation model_15/dense_41/MatMul/ReadVariableOp: Could not satisfy explicit device specification '' because the node {{colocation_node model_15/dense_41/MatMul/ReadVariableOp}} was colocated with a group of nodes that required incompatible device '/job:localhost/replica:0/task:0/device:GPU:0'. All available devices [/job:localhost/replica:0/task:0/device:CPU:0, /job:localhost/replica:0/task:0/device:GPU:0]. \n",
      "Colocation Debug Info:\n",
      "Colocation group had the following types and supported devices: \n",
      "Root Member(assigned_device_name_index_=2 requested_device_name_='/job:localhost/replica:0/task:0/device:GPU:0' assigned_device_name_='/job:localhost/replica:0/task:0/device:GPU:0' resource_device_name_='/job:localhost/replica:0/task:0/device:GPU:0' supported_device_types_=[CPU] possible_devices_=[]\n",
      "ResourceApplyAdaMax: CPU \n",
      "ReadVariableOp: GPU CPU \n",
      "_Arg: GPU CPU \n",
      "\n",
      "Colocation members, user-requested devices, and framework assigned devices, if any:\n",
      "  model_15_dense_41_matmul_readvariableop_resource (_Arg)  framework assigned device=/job:localhost/replica:0/task:0/device:GPU:0\n",
      "  adamax_adamax_update_resourceapplyadamax_m (_Arg)  framework assigned device=/job:localhost/replica:0/task:0/device:GPU:0\n",
      "  adamax_adamax_update_resourceapplyadamax_v (_Arg)  framework assigned device=/job:localhost/replica:0/task:0/device:GPU:0\n",
      "  model_15/dense_41/MatMul/ReadVariableOp (ReadVariableOp) \n",
      "  Adamax/Adamax/update/ResourceApplyAdaMax (ResourceApplyAdaMax) /job:localhost/replica:0/task:0/device:GPU:0\n",
      "\n",
      "\t [[{{node model_15/dense_41/MatMul/ReadVariableOp}}]] [Op:__inference_train_function_27202]\n",
      "\n",
      "--------------------------------------------------------------------------------\n",
      "1 fits failed with the following error:\n",
      "Traceback (most recent call last):\n",
      "  File \"/opt/homebrew/Caskroom/miniforge/base/envs/tensorflow/lib/python3.9/site-packages/sklearn/model_selection/_validation.py\", line 681, in _fit_and_score\n",
      "    estimator.fit(X_train, y_train, **fit_params)\n",
      "  File \"/opt/homebrew/Caskroom/miniforge/base/envs/tensorflow/lib/python3.9/site-packages/tensorflow/python/keras/wrappers/scikit_learn.py\", line 220, in fit\n",
      "    return super(KerasClassifier, self).fit(x, y, **kwargs)\n",
      "  File \"/opt/homebrew/Caskroom/miniforge/base/envs/tensorflow/lib/python3.9/site-packages/tensorflow/python/keras/wrappers/scikit_learn.py\", line 163, in fit\n",
      "    history = self.model.fit(x, y, **fit_args)\n",
      "  File \"/opt/homebrew/Caskroom/miniforge/base/envs/tensorflow/lib/python3.9/site-packages/tensorflow/python/keras/engine/training.py\", line 1183, in fit\n",
      "    tmp_logs = self.train_function(iterator)\n",
      "  File \"/opt/homebrew/Caskroom/miniforge/base/envs/tensorflow/lib/python3.9/site-packages/tensorflow/python/eager/def_function.py\", line 889, in __call__\n",
      "    result = self._call(*args, **kwds)\n",
      "  File \"/opt/homebrew/Caskroom/miniforge/base/envs/tensorflow/lib/python3.9/site-packages/tensorflow/python/eager/def_function.py\", line 950, in _call\n",
      "    return self._stateless_fn(*args, **kwds)\n",
      "  File \"/opt/homebrew/Caskroom/miniforge/base/envs/tensorflow/lib/python3.9/site-packages/tensorflow/python/eager/function.py\", line 3023, in __call__\n",
      "    return graph_function._call_flat(\n",
      "  File \"/opt/homebrew/Caskroom/miniforge/base/envs/tensorflow/lib/python3.9/site-packages/tensorflow/python/eager/function.py\", line 1960, in _call_flat\n",
      "    return self._build_call_outputs(self._inference_function.call(\n",
      "  File \"/opt/homebrew/Caskroom/miniforge/base/envs/tensorflow/lib/python3.9/site-packages/tensorflow/python/eager/function.py\", line 591, in call\n",
      "    outputs = execute.execute(\n",
      "  File \"/opt/homebrew/Caskroom/miniforge/base/envs/tensorflow/lib/python3.9/site-packages/tensorflow/python/eager/execute.py\", line 59, in quick_execute\n",
      "    tensors = pywrap_tfe.TFE_Py_Execute(ctx._handle, device_name, op_name,\n",
      "tensorflow.python.framework.errors_impl.InvalidArgumentError: Cannot assign a device for operation model_15/dense_49/MatMul/ReadVariableOp: Could not satisfy explicit device specification '' because the node {{colocation_node model_15/dense_49/MatMul/ReadVariableOp}} was colocated with a group of nodes that required incompatible device '/job:localhost/replica:0/task:0/device:GPU:0'. All available devices [/job:localhost/replica:0/task:0/device:CPU:0, /job:localhost/replica:0/task:0/device:GPU:0]. \n",
      "Colocation Debug Info:\n",
      "Colocation group had the following types and supported devices: \n",
      "Root Member(assigned_device_name_index_=2 requested_device_name_='/job:localhost/replica:0/task:0/device:GPU:0' assigned_device_name_='/job:localhost/replica:0/task:0/device:GPU:0' resource_device_name_='/job:localhost/replica:0/task:0/device:GPU:0' supported_device_types_=[CPU] possible_devices_=[]\n",
      "ResourceApplyAdaMax: CPU \n",
      "ReadVariableOp: GPU CPU \n",
      "_Arg: GPU CPU \n",
      "\n",
      "Colocation members, user-requested devices, and framework assigned devices, if any:\n",
      "  model_15_dense_49_matmul_readvariableop_resource (_Arg)  framework assigned device=/job:localhost/replica:0/task:0/device:GPU:0\n",
      "  adamax_adamax_update_resourceapplyadamax_m (_Arg)  framework assigned device=/job:localhost/replica:0/task:0/device:GPU:0\n",
      "  adamax_adamax_update_resourceapplyadamax_v (_Arg)  framework assigned device=/job:localhost/replica:0/task:0/device:GPU:0\n",
      "  model_15/dense_49/MatMul/ReadVariableOp (ReadVariableOp) \n",
      "  Adamax/Adamax/update/ResourceApplyAdaMax (ResourceApplyAdaMax) /job:localhost/replica:0/task:0/device:GPU:0\n",
      "\n",
      "\t [[{{node model_15/dense_49/MatMul/ReadVariableOp}}]] [Op:__inference_train_function_27006]\n",
      "\n",
      "--------------------------------------------------------------------------------\n",
      "1 fits failed with the following error:\n",
      "Traceback (most recent call last):\n",
      "  File \"/opt/homebrew/Caskroom/miniforge/base/envs/tensorflow/lib/python3.9/site-packages/sklearn/model_selection/_validation.py\", line 681, in _fit_and_score\n",
      "    estimator.fit(X_train, y_train, **fit_params)\n",
      "  File \"/opt/homebrew/Caskroom/miniforge/base/envs/tensorflow/lib/python3.9/site-packages/tensorflow/python/keras/wrappers/scikit_learn.py\", line 220, in fit\n",
      "    return super(KerasClassifier, self).fit(x, y, **kwargs)\n",
      "  File \"/opt/homebrew/Caskroom/miniforge/base/envs/tensorflow/lib/python3.9/site-packages/tensorflow/python/keras/wrappers/scikit_learn.py\", line 163, in fit\n",
      "    history = self.model.fit(x, y, **fit_args)\n",
      "  File \"/opt/homebrew/Caskroom/miniforge/base/envs/tensorflow/lib/python3.9/site-packages/tensorflow/python/keras/engine/training.py\", line 1183, in fit\n",
      "    tmp_logs = self.train_function(iterator)\n",
      "  File \"/opt/homebrew/Caskroom/miniforge/base/envs/tensorflow/lib/python3.9/site-packages/tensorflow/python/eager/def_function.py\", line 889, in __call__\n",
      "    result = self._call(*args, **kwds)\n",
      "  File \"/opt/homebrew/Caskroom/miniforge/base/envs/tensorflow/lib/python3.9/site-packages/tensorflow/python/eager/def_function.py\", line 950, in _call\n",
      "    return self._stateless_fn(*args, **kwds)\n",
      "  File \"/opt/homebrew/Caskroom/miniforge/base/envs/tensorflow/lib/python3.9/site-packages/tensorflow/python/eager/function.py\", line 3023, in __call__\n",
      "    return graph_function._call_flat(\n",
      "  File \"/opt/homebrew/Caskroom/miniforge/base/envs/tensorflow/lib/python3.9/site-packages/tensorflow/python/eager/function.py\", line 1960, in _call_flat\n",
      "    return self._build_call_outputs(self._inference_function.call(\n",
      "  File \"/opt/homebrew/Caskroom/miniforge/base/envs/tensorflow/lib/python3.9/site-packages/tensorflow/python/eager/function.py\", line 591, in call\n",
      "    outputs = execute.execute(\n",
      "  File \"/opt/homebrew/Caskroom/miniforge/base/envs/tensorflow/lib/python3.9/site-packages/tensorflow/python/eager/execute.py\", line 59, in quick_execute\n",
      "    tensors = pywrap_tfe.TFE_Py_Execute(ctx._handle, device_name, op_name,\n",
      "tensorflow.python.framework.errors_impl.InvalidArgumentError: Cannot assign a device for operation model_14/dense_37/MatMul/ReadVariableOp: Could not satisfy explicit device specification '' because the node {{colocation_node model_14/dense_37/MatMul/ReadVariableOp}} was colocated with a group of nodes that required incompatible device '/job:localhost/replica:0/task:0/device:GPU:0'. All available devices [/job:localhost/replica:0/task:0/device:CPU:0, /job:localhost/replica:0/task:0/device:GPU:0]. \n",
      "Colocation Debug Info:\n",
      "Colocation group had the following types and supported devices: \n",
      "Root Member(assigned_device_name_index_=2 requested_device_name_='/job:localhost/replica:0/task:0/device:GPU:0' assigned_device_name_='/job:localhost/replica:0/task:0/device:GPU:0' resource_device_name_='/job:localhost/replica:0/task:0/device:GPU:0' supported_device_types_=[CPU] possible_devices_=[]\n",
      "ResourceApplyAdaMax: CPU \n",
      "ReadVariableOp: GPU CPU \n",
      "_Arg: GPU CPU \n",
      "\n",
      "Colocation members, user-requested devices, and framework assigned devices, if any:\n",
      "  model_14_dense_37_matmul_readvariableop_resource (_Arg)  framework assigned device=/job:localhost/replica:0/task:0/device:GPU:0\n",
      "  adamax_adamax_update_resourceapplyadamax_m (_Arg)  framework assigned device=/job:localhost/replica:0/task:0/device:GPU:0\n",
      "  adamax_adamax_update_resourceapplyadamax_v (_Arg)  framework assigned device=/job:localhost/replica:0/task:0/device:GPU:0\n",
      "  model_14/dense_37/MatMul/ReadVariableOp (ReadVariableOp) \n",
      "  Adamax/Adamax/update/ResourceApplyAdaMax (ResourceApplyAdaMax) /job:localhost/replica:0/task:0/device:GPU:0\n",
      "\n",
      "\t [[{{node model_14/dense_37/MatMul/ReadVariableOp}}]] [Op:__inference_train_function_26454]\n",
      "\n",
      "--------------------------------------------------------------------------------\n",
      "1 fits failed with the following error:\n",
      "Traceback (most recent call last):\n",
      "  File \"/opt/homebrew/Caskroom/miniforge/base/envs/tensorflow/lib/python3.9/site-packages/sklearn/model_selection/_validation.py\", line 681, in _fit_and_score\n",
      "    estimator.fit(X_train, y_train, **fit_params)\n",
      "  File \"/opt/homebrew/Caskroom/miniforge/base/envs/tensorflow/lib/python3.9/site-packages/tensorflow/python/keras/wrappers/scikit_learn.py\", line 220, in fit\n",
      "    return super(KerasClassifier, self).fit(x, y, **kwargs)\n",
      "  File \"/opt/homebrew/Caskroom/miniforge/base/envs/tensorflow/lib/python3.9/site-packages/tensorflow/python/keras/wrappers/scikit_learn.py\", line 163, in fit\n",
      "    history = self.model.fit(x, y, **fit_args)\n",
      "  File \"/opt/homebrew/Caskroom/miniforge/base/envs/tensorflow/lib/python3.9/site-packages/tensorflow/python/keras/engine/training.py\", line 1183, in fit\n",
      "    tmp_logs = self.train_function(iterator)\n",
      "  File \"/opt/homebrew/Caskroom/miniforge/base/envs/tensorflow/lib/python3.9/site-packages/tensorflow/python/eager/def_function.py\", line 889, in __call__\n",
      "    result = self._call(*args, **kwds)\n",
      "  File \"/opt/homebrew/Caskroom/miniforge/base/envs/tensorflow/lib/python3.9/site-packages/tensorflow/python/eager/def_function.py\", line 950, in _call\n",
      "    return self._stateless_fn(*args, **kwds)\n",
      "  File \"/opt/homebrew/Caskroom/miniforge/base/envs/tensorflow/lib/python3.9/site-packages/tensorflow/python/eager/function.py\", line 3023, in __call__\n",
      "    return graph_function._call_flat(\n",
      "  File \"/opt/homebrew/Caskroom/miniforge/base/envs/tensorflow/lib/python3.9/site-packages/tensorflow/python/eager/function.py\", line 1960, in _call_flat\n",
      "    return self._build_call_outputs(self._inference_function.call(\n",
      "  File \"/opt/homebrew/Caskroom/miniforge/base/envs/tensorflow/lib/python3.9/site-packages/tensorflow/python/eager/function.py\", line 591, in call\n",
      "    outputs = execute.execute(\n",
      "  File \"/opt/homebrew/Caskroom/miniforge/base/envs/tensorflow/lib/python3.9/site-packages/tensorflow/python/eager/execute.py\", line 59, in quick_execute\n",
      "    tensors = pywrap_tfe.TFE_Py_Execute(ctx._handle, device_name, op_name,\n",
      "tensorflow.python.framework.errors_impl.InvalidArgumentError: Cannot assign a device for operation model_16/dense_51/MatMul/ReadVariableOp: Could not satisfy explicit device specification '' because the node {{colocation_node model_16/dense_51/MatMul/ReadVariableOp}} was colocated with a group of nodes that required incompatible device '/job:localhost/replica:0/task:0/device:GPU:0'. All available devices [/job:localhost/replica:0/task:0/device:CPU:0, /job:localhost/replica:0/task:0/device:GPU:0]. \n",
      "Colocation Debug Info:\n",
      "Colocation group had the following types and supported devices: \n",
      "Root Member(assigned_device_name_index_=2 requested_device_name_='/job:localhost/replica:0/task:0/device:GPU:0' assigned_device_name_='/job:localhost/replica:0/task:0/device:GPU:0' resource_device_name_='/job:localhost/replica:0/task:0/device:GPU:0' supported_device_types_=[CPU] possible_devices_=[]\n",
      "ResourceApplyAdaMax: CPU \n",
      "ReadVariableOp: GPU CPU \n",
      "_Arg: GPU CPU \n",
      "\n",
      "Colocation members, user-requested devices, and framework assigned devices, if any:\n",
      "  model_16_dense_51_matmul_readvariableop_resource (_Arg)  framework assigned device=/job:localhost/replica:0/task:0/device:GPU:0\n",
      "  adamax_adamax_update_resourceapplyadamax_m (_Arg)  framework assigned device=/job:localhost/replica:0/task:0/device:GPU:0\n",
      "  adamax_adamax_update_resourceapplyadamax_v (_Arg)  framework assigned device=/job:localhost/replica:0/task:0/device:GPU:0\n",
      "  model_16/dense_51/MatMul/ReadVariableOp (ReadVariableOp) \n",
      "  Adamax/Adamax/update/ResourceApplyAdaMax (ResourceApplyAdaMax) /job:localhost/replica:0/task:0/device:GPU:0\n",
      "\n",
      "\t [[{{node model_16/dense_51/MatMul/ReadVariableOp}}]] [Op:__inference_train_function_27679]\n",
      "\n",
      "--------------------------------------------------------------------------------\n",
      "1 fits failed with the following error:\n",
      "Traceback (most recent call last):\n",
      "  File \"/opt/homebrew/Caskroom/miniforge/base/envs/tensorflow/lib/python3.9/site-packages/sklearn/model_selection/_validation.py\", line 681, in _fit_and_score\n",
      "    estimator.fit(X_train, y_train, **fit_params)\n",
      "  File \"/opt/homebrew/Caskroom/miniforge/base/envs/tensorflow/lib/python3.9/site-packages/tensorflow/python/keras/wrappers/scikit_learn.py\", line 220, in fit\n",
      "    return super(KerasClassifier, self).fit(x, y, **kwargs)\n",
      "  File \"/opt/homebrew/Caskroom/miniforge/base/envs/tensorflow/lib/python3.9/site-packages/tensorflow/python/keras/wrappers/scikit_learn.py\", line 163, in fit\n",
      "    history = self.model.fit(x, y, **fit_args)\n",
      "  File \"/opt/homebrew/Caskroom/miniforge/base/envs/tensorflow/lib/python3.9/site-packages/tensorflow/python/keras/engine/training.py\", line 1183, in fit\n",
      "    tmp_logs = self.train_function(iterator)\n",
      "  File \"/opt/homebrew/Caskroom/miniforge/base/envs/tensorflow/lib/python3.9/site-packages/tensorflow/python/eager/def_function.py\", line 889, in __call__\n",
      "    result = self._call(*args, **kwds)\n",
      "  File \"/opt/homebrew/Caskroom/miniforge/base/envs/tensorflow/lib/python3.9/site-packages/tensorflow/python/eager/def_function.py\", line 950, in _call\n",
      "    return self._stateless_fn(*args, **kwds)\n",
      "  File \"/opt/homebrew/Caskroom/miniforge/base/envs/tensorflow/lib/python3.9/site-packages/tensorflow/python/eager/function.py\", line 3023, in __call__\n",
      "    return graph_function._call_flat(\n",
      "  File \"/opt/homebrew/Caskroom/miniforge/base/envs/tensorflow/lib/python3.9/site-packages/tensorflow/python/eager/function.py\", line 1960, in _call_flat\n",
      "    return self._build_call_outputs(self._inference_function.call(\n",
      "  File \"/opt/homebrew/Caskroom/miniforge/base/envs/tensorflow/lib/python3.9/site-packages/tensorflow/python/eager/function.py\", line 591, in call\n",
      "    outputs = execute.execute(\n",
      "  File \"/opt/homebrew/Caskroom/miniforge/base/envs/tensorflow/lib/python3.9/site-packages/tensorflow/python/eager/execute.py\", line 59, in quick_execute\n",
      "    tensors = pywrap_tfe.TFE_Py_Execute(ctx._handle, device_name, op_name,\n",
      "tensorflow.python.framework.errors_impl.InvalidArgumentError: Cannot assign a device for operation model_14/dense_61/MatMul/ReadVariableOp: Could not satisfy explicit device specification '' because the node {{colocation_node model_14/dense_61/MatMul/ReadVariableOp}} was colocated with a group of nodes that required incompatible device '/job:localhost/replica:0/task:0/device:GPU:0'. All available devices [/job:localhost/replica:0/task:0/device:CPU:0, /job:localhost/replica:0/task:0/device:GPU:0]. \n",
      "Colocation Debug Info:\n",
      "Colocation group had the following types and supported devices: \n",
      "Root Member(assigned_device_name_index_=2 requested_device_name_='/job:localhost/replica:0/task:0/device:GPU:0' assigned_device_name_='/job:localhost/replica:0/task:0/device:GPU:0' resource_device_name_='/job:localhost/replica:0/task:0/device:GPU:0' supported_device_types_=[CPU] possible_devices_=[]\n",
      "ResourceApplyAdaMax: CPU \n",
      "ReadVariableOp: GPU CPU \n",
      "_Arg: GPU CPU \n",
      "\n",
      "Colocation members, user-requested devices, and framework assigned devices, if any:\n",
      "  model_14_dense_61_matmul_readvariableop_resource (_Arg)  framework assigned device=/job:localhost/replica:0/task:0/device:GPU:0\n",
      "  adamax_adamax_update_resourceapplyadamax_m (_Arg)  framework assigned device=/job:localhost/replica:0/task:0/device:GPU:0\n",
      "  adamax_adamax_update_resourceapplyadamax_v (_Arg)  framework assigned device=/job:localhost/replica:0/task:0/device:GPU:0\n",
      "  model_14/dense_61/MatMul/ReadVariableOp (ReadVariableOp) \n",
      "  Adamax/Adamax/update/ResourceApplyAdaMax (ResourceApplyAdaMax) /job:localhost/replica:0/task:0/device:GPU:0\n",
      "\n",
      "\t [[{{node model_14/dense_61/MatMul/ReadVariableOp}}]] [Op:__inference_train_function_28054]\n",
      "\n",
      "--------------------------------------------------------------------------------\n",
      "1 fits failed with the following error:\n",
      "Traceback (most recent call last):\n",
      "  File \"/opt/homebrew/Caskroom/miniforge/base/envs/tensorflow/lib/python3.9/site-packages/sklearn/model_selection/_validation.py\", line 681, in _fit_and_score\n",
      "    estimator.fit(X_train, y_train, **fit_params)\n",
      "  File \"/opt/homebrew/Caskroom/miniforge/base/envs/tensorflow/lib/python3.9/site-packages/tensorflow/python/keras/wrappers/scikit_learn.py\", line 220, in fit\n",
      "    return super(KerasClassifier, self).fit(x, y, **kwargs)\n",
      "  File \"/opt/homebrew/Caskroom/miniforge/base/envs/tensorflow/lib/python3.9/site-packages/tensorflow/python/keras/wrappers/scikit_learn.py\", line 163, in fit\n",
      "    history = self.model.fit(x, y, **fit_args)\n",
      "  File \"/opt/homebrew/Caskroom/miniforge/base/envs/tensorflow/lib/python3.9/site-packages/tensorflow/python/keras/engine/training.py\", line 1183, in fit\n",
      "    tmp_logs = self.train_function(iterator)\n",
      "  File \"/opt/homebrew/Caskroom/miniforge/base/envs/tensorflow/lib/python3.9/site-packages/tensorflow/python/eager/def_function.py\", line 889, in __call__\n",
      "    result = self._call(*args, **kwds)\n",
      "  File \"/opt/homebrew/Caskroom/miniforge/base/envs/tensorflow/lib/python3.9/site-packages/tensorflow/python/eager/def_function.py\", line 950, in _call\n",
      "    return self._stateless_fn(*args, **kwds)\n",
      "  File \"/opt/homebrew/Caskroom/miniforge/base/envs/tensorflow/lib/python3.9/site-packages/tensorflow/python/eager/function.py\", line 3023, in __call__\n",
      "    return graph_function._call_flat(\n",
      "  File \"/opt/homebrew/Caskroom/miniforge/base/envs/tensorflow/lib/python3.9/site-packages/tensorflow/python/eager/function.py\", line 1960, in _call_flat\n",
      "    return self._build_call_outputs(self._inference_function.call(\n",
      "  File \"/opt/homebrew/Caskroom/miniforge/base/envs/tensorflow/lib/python3.9/site-packages/tensorflow/python/eager/function.py\", line 591, in call\n",
      "    outputs = execute.execute(\n",
      "  File \"/opt/homebrew/Caskroom/miniforge/base/envs/tensorflow/lib/python3.9/site-packages/tensorflow/python/eager/execute.py\", line 59, in quick_execute\n",
      "    tensors = pywrap_tfe.TFE_Py_Execute(ctx._handle, device_name, op_name,\n",
      "tensorflow.python.framework.errors_impl.InvalidArgumentError: Cannot assign a device for operation model_15/dense_51/MatMul/ReadVariableOp: Could not satisfy explicit device specification '' because the node {{colocation_node model_15/dense_51/MatMul/ReadVariableOp}} was colocated with a group of nodes that required incompatible device '/job:localhost/replica:0/task:0/device:GPU:0'. All available devices [/job:localhost/replica:0/task:0/device:CPU:0, /job:localhost/replica:0/task:0/device:GPU:0]. \n",
      "Colocation Debug Info:\n",
      "Colocation group had the following types and supported devices: \n",
      "Root Member(assigned_device_name_index_=2 requested_device_name_='/job:localhost/replica:0/task:0/device:GPU:0' assigned_device_name_='/job:localhost/replica:0/task:0/device:GPU:0' resource_device_name_='/job:localhost/replica:0/task:0/device:GPU:0' supported_device_types_=[CPU] possible_devices_=[]\n",
      "ResourceApplyAdaMax: CPU \n",
      "ReadVariableOp: GPU CPU \n",
      "_Arg: GPU CPU \n",
      "\n",
      "Colocation members, user-requested devices, and framework assigned devices, if any:\n",
      "  model_15_dense_51_matmul_readvariableop_resource (_Arg)  framework assigned device=/job:localhost/replica:0/task:0/device:GPU:0\n",
      "  adamax_adamax_update_resourceapplyadamax_m (_Arg)  framework assigned device=/job:localhost/replica:0/task:0/device:GPU:0\n",
      "  adamax_adamax_update_resourceapplyadamax_v (_Arg)  framework assigned device=/job:localhost/replica:0/task:0/device:GPU:0\n",
      "  model_15/dense_51/MatMul/ReadVariableOp (ReadVariableOp) \n",
      "  Adamax/Adamax/update/ResourceApplyAdaMax (ResourceApplyAdaMax) /job:localhost/replica:0/task:0/device:GPU:0\n",
      "\n",
      "\t [[{{node model_15/dense_51/MatMul/ReadVariableOp}}]] [Op:__inference_train_function_29060]\n",
      "\n",
      "--------------------------------------------------------------------------------\n",
      "1 fits failed with the following error:\n",
      "Traceback (most recent call last):\n",
      "  File \"/opt/homebrew/Caskroom/miniforge/base/envs/tensorflow/lib/python3.9/site-packages/sklearn/model_selection/_validation.py\", line 681, in _fit_and_score\n",
      "    estimator.fit(X_train, y_train, **fit_params)\n",
      "  File \"/opt/homebrew/Caskroom/miniforge/base/envs/tensorflow/lib/python3.9/site-packages/tensorflow/python/keras/wrappers/scikit_learn.py\", line 220, in fit\n",
      "    return super(KerasClassifier, self).fit(x, y, **kwargs)\n",
      "  File \"/opt/homebrew/Caskroom/miniforge/base/envs/tensorflow/lib/python3.9/site-packages/tensorflow/python/keras/wrappers/scikit_learn.py\", line 163, in fit\n",
      "    history = self.model.fit(x, y, **fit_args)\n",
      "  File \"/opt/homebrew/Caskroom/miniforge/base/envs/tensorflow/lib/python3.9/site-packages/tensorflow/python/keras/engine/training.py\", line 1183, in fit\n",
      "    tmp_logs = self.train_function(iterator)\n",
      "  File \"/opt/homebrew/Caskroom/miniforge/base/envs/tensorflow/lib/python3.9/site-packages/tensorflow/python/eager/def_function.py\", line 889, in __call__\n",
      "    result = self._call(*args, **kwds)\n",
      "  File \"/opt/homebrew/Caskroom/miniforge/base/envs/tensorflow/lib/python3.9/site-packages/tensorflow/python/eager/def_function.py\", line 950, in _call\n",
      "    return self._stateless_fn(*args, **kwds)\n",
      "  File \"/opt/homebrew/Caskroom/miniforge/base/envs/tensorflow/lib/python3.9/site-packages/tensorflow/python/eager/function.py\", line 3023, in __call__\n",
      "    return graph_function._call_flat(\n",
      "  File \"/opt/homebrew/Caskroom/miniforge/base/envs/tensorflow/lib/python3.9/site-packages/tensorflow/python/eager/function.py\", line 1960, in _call_flat\n",
      "    return self._build_call_outputs(self._inference_function.call(\n",
      "  File \"/opt/homebrew/Caskroom/miniforge/base/envs/tensorflow/lib/python3.9/site-packages/tensorflow/python/eager/function.py\", line 591, in call\n",
      "    outputs = execute.execute(\n",
      "  File \"/opt/homebrew/Caskroom/miniforge/base/envs/tensorflow/lib/python3.9/site-packages/tensorflow/python/eager/execute.py\", line 59, in quick_execute\n",
      "    tensors = pywrap_tfe.TFE_Py_Execute(ctx._handle, device_name, op_name,\n",
      "tensorflow.python.framework.errors_impl.InvalidArgumentError: Cannot assign a device for operation model_15/dense_63/MatMul/ReadVariableOp: Could not satisfy explicit device specification '' because the node {{colocation_node model_15/dense_63/MatMul/ReadVariableOp}} was colocated with a group of nodes that required incompatible device '/job:localhost/replica:0/task:0/device:GPU:0'. All available devices [/job:localhost/replica:0/task:0/device:CPU:0, /job:localhost/replica:0/task:0/device:GPU:0]. \n",
      "Colocation Debug Info:\n",
      "Colocation group had the following types and supported devices: \n",
      "Root Member(assigned_device_name_index_=2 requested_device_name_='/job:localhost/replica:0/task:0/device:GPU:0' assigned_device_name_='/job:localhost/replica:0/task:0/device:GPU:0' resource_device_name_='/job:localhost/replica:0/task:0/device:GPU:0' supported_device_types_=[CPU] possible_devices_=[]\n",
      "ResourceApplyAdaMax: CPU \n",
      "ReadVariableOp: GPU CPU \n",
      "_Arg: GPU CPU \n",
      "\n",
      "Colocation members, user-requested devices, and framework assigned devices, if any:\n",
      "  model_15_dense_63_matmul_readvariableop_resource (_Arg)  framework assigned device=/job:localhost/replica:0/task:0/device:GPU:0\n",
      "  adamax_adamax_update_resourceapplyadamax_m (_Arg)  framework assigned device=/job:localhost/replica:0/task:0/device:GPU:0\n",
      "  adamax_adamax_update_resourceapplyadamax_v (_Arg)  framework assigned device=/job:localhost/replica:0/task:0/device:GPU:0\n",
      "  model_15/dense_63/MatMul/ReadVariableOp (ReadVariableOp) \n",
      "  Adamax/Adamax/update/ResourceApplyAdaMax (ResourceApplyAdaMax) /job:localhost/replica:0/task:0/device:GPU:0\n",
      "\n",
      "\t [[{{node model_15/dense_63/MatMul/ReadVariableOp}}]] [Op:__inference_train_function_28727]\n",
      "\n",
      "--------------------------------------------------------------------------------\n",
      "1 fits failed with the following error:\n",
      "Traceback (most recent call last):\n",
      "  File \"/opt/homebrew/Caskroom/miniforge/base/envs/tensorflow/lib/python3.9/site-packages/sklearn/model_selection/_validation.py\", line 681, in _fit_and_score\n",
      "    estimator.fit(X_train, y_train, **fit_params)\n",
      "  File \"/opt/homebrew/Caskroom/miniforge/base/envs/tensorflow/lib/python3.9/site-packages/tensorflow/python/keras/wrappers/scikit_learn.py\", line 220, in fit\n",
      "    return super(KerasClassifier, self).fit(x, y, **kwargs)\n",
      "  File \"/opt/homebrew/Caskroom/miniforge/base/envs/tensorflow/lib/python3.9/site-packages/tensorflow/python/keras/wrappers/scikit_learn.py\", line 163, in fit\n",
      "    history = self.model.fit(x, y, **fit_args)\n",
      "  File \"/opt/homebrew/Caskroom/miniforge/base/envs/tensorflow/lib/python3.9/site-packages/tensorflow/python/keras/engine/training.py\", line 1183, in fit\n",
      "    tmp_logs = self.train_function(iterator)\n",
      "  File \"/opt/homebrew/Caskroom/miniforge/base/envs/tensorflow/lib/python3.9/site-packages/tensorflow/python/eager/def_function.py\", line 889, in __call__\n",
      "    result = self._call(*args, **kwds)\n",
      "  File \"/opt/homebrew/Caskroom/miniforge/base/envs/tensorflow/lib/python3.9/site-packages/tensorflow/python/eager/def_function.py\", line 950, in _call\n",
      "    return self._stateless_fn(*args, **kwds)\n",
      "  File \"/opt/homebrew/Caskroom/miniforge/base/envs/tensorflow/lib/python3.9/site-packages/tensorflow/python/eager/function.py\", line 3023, in __call__\n",
      "    return graph_function._call_flat(\n",
      "  File \"/opt/homebrew/Caskroom/miniforge/base/envs/tensorflow/lib/python3.9/site-packages/tensorflow/python/eager/function.py\", line 1960, in _call_flat\n",
      "    return self._build_call_outputs(self._inference_function.call(\n",
      "  File \"/opt/homebrew/Caskroom/miniforge/base/envs/tensorflow/lib/python3.9/site-packages/tensorflow/python/eager/function.py\", line 591, in call\n",
      "    outputs = execute.execute(\n",
      "  File \"/opt/homebrew/Caskroom/miniforge/base/envs/tensorflow/lib/python3.9/site-packages/tensorflow/python/eager/execute.py\", line 59, in quick_execute\n",
      "    tensors = pywrap_tfe.TFE_Py_Execute(ctx._handle, device_name, op_name,\n",
      "tensorflow.python.framework.errors_impl.InvalidArgumentError: Cannot assign a device for operation model_16/dense_57/MatMul/ReadVariableOp: Could not satisfy explicit device specification '' because the node {{colocation_node model_16/dense_57/MatMul/ReadVariableOp}} was colocated with a group of nodes that required incompatible device '/job:localhost/replica:0/task:0/device:GPU:0'. All available devices [/job:localhost/replica:0/task:0/device:CPU:0, /job:localhost/replica:0/task:0/device:GPU:0]. \n",
      "Colocation Debug Info:\n",
      "Colocation group had the following types and supported devices: \n",
      "Root Member(assigned_device_name_index_=2 requested_device_name_='/job:localhost/replica:0/task:0/device:GPU:0' assigned_device_name_='/job:localhost/replica:0/task:0/device:GPU:0' resource_device_name_='/job:localhost/replica:0/task:0/device:GPU:0' supported_device_types_=[CPU] possible_devices_=[]\n",
      "ResourceApplyAdaMax: CPU \n",
      "ReadVariableOp: GPU CPU \n",
      "_Arg: GPU CPU \n",
      "\n",
      "Colocation members, user-requested devices, and framework assigned devices, if any:\n",
      "  model_16_dense_57_matmul_readvariableop_resource (_Arg)  framework assigned device=/job:localhost/replica:0/task:0/device:GPU:0\n",
      "  adamax_adamax_update_resourceapplyadamax_m (_Arg)  framework assigned device=/job:localhost/replica:0/task:0/device:GPU:0\n",
      "  adamax_adamax_update_resourceapplyadamax_v (_Arg)  framework assigned device=/job:localhost/replica:0/task:0/device:GPU:0\n",
      "  model_16/dense_57/MatMul/ReadVariableOp (ReadVariableOp) \n",
      "  Adamax/Adamax/update/ResourceApplyAdaMax (ResourceApplyAdaMax) /job:localhost/replica:0/task:0/device:GPU:0\n",
      "\n",
      "\t [[{{node model_16/dense_57/MatMul/ReadVariableOp}}]] [Op:__inference_train_function_30287]\n",
      "\n",
      "--------------------------------------------------------------------------------\n",
      "1 fits failed with the following error:\n",
      "Traceback (most recent call last):\n",
      "  File \"/opt/homebrew/Caskroom/miniforge/base/envs/tensorflow/lib/python3.9/site-packages/sklearn/model_selection/_validation.py\", line 681, in _fit_and_score\n",
      "    estimator.fit(X_train, y_train, **fit_params)\n",
      "  File \"/opt/homebrew/Caskroom/miniforge/base/envs/tensorflow/lib/python3.9/site-packages/tensorflow/python/keras/wrappers/scikit_learn.py\", line 220, in fit\n",
      "    return super(KerasClassifier, self).fit(x, y, **kwargs)\n",
      "  File \"/opt/homebrew/Caskroom/miniforge/base/envs/tensorflow/lib/python3.9/site-packages/tensorflow/python/keras/wrappers/scikit_learn.py\", line 163, in fit\n",
      "    history = self.model.fit(x, y, **fit_args)\n",
      "  File \"/opt/homebrew/Caskroom/miniforge/base/envs/tensorflow/lib/python3.9/site-packages/tensorflow/python/keras/engine/training.py\", line 1183, in fit\n",
      "    tmp_logs = self.train_function(iterator)\n",
      "  File \"/opt/homebrew/Caskroom/miniforge/base/envs/tensorflow/lib/python3.9/site-packages/tensorflow/python/eager/def_function.py\", line 889, in __call__\n",
      "    result = self._call(*args, **kwds)\n",
      "  File \"/opt/homebrew/Caskroom/miniforge/base/envs/tensorflow/lib/python3.9/site-packages/tensorflow/python/eager/def_function.py\", line 950, in _call\n",
      "    return self._stateless_fn(*args, **kwds)\n",
      "  File \"/opt/homebrew/Caskroom/miniforge/base/envs/tensorflow/lib/python3.9/site-packages/tensorflow/python/eager/function.py\", line 3023, in __call__\n",
      "    return graph_function._call_flat(\n",
      "  File \"/opt/homebrew/Caskroom/miniforge/base/envs/tensorflow/lib/python3.9/site-packages/tensorflow/python/eager/function.py\", line 1960, in _call_flat\n",
      "    return self._build_call_outputs(self._inference_function.call(\n",
      "  File \"/opt/homebrew/Caskroom/miniforge/base/envs/tensorflow/lib/python3.9/site-packages/tensorflow/python/eager/function.py\", line 591, in call\n",
      "    outputs = execute.execute(\n",
      "  File \"/opt/homebrew/Caskroom/miniforge/base/envs/tensorflow/lib/python3.9/site-packages/tensorflow/python/eager/execute.py\", line 59, in quick_execute\n",
      "    tensors = pywrap_tfe.TFE_Py_Execute(ctx._handle, device_name, op_name,\n",
      "tensorflow.python.framework.errors_impl.InvalidArgumentError: Cannot assign a device for operation model_17/dense_59/MatMul/ReadVariableOp: Could not satisfy explicit device specification '' because the node {{colocation_node model_17/dense_59/MatMul/ReadVariableOp}} was colocated with a group of nodes that required incompatible device '/job:localhost/replica:0/task:0/device:GPU:0'. All available devices [/job:localhost/replica:0/task:0/device:CPU:0, /job:localhost/replica:0/task:0/device:GPU:0]. \n",
      "Colocation Debug Info:\n",
      "Colocation group had the following types and supported devices: \n",
      "Root Member(assigned_device_name_index_=2 requested_device_name_='/job:localhost/replica:0/task:0/device:GPU:0' assigned_device_name_='/job:localhost/replica:0/task:0/device:GPU:0' resource_device_name_='/job:localhost/replica:0/task:0/device:GPU:0' supported_device_types_=[CPU] possible_devices_=[]\n",
      "ResourceApplyAdaMax: CPU \n",
      "ReadVariableOp: GPU CPU \n",
      "_Arg: GPU CPU \n",
      "\n",
      "Colocation members, user-requested devices, and framework assigned devices, if any:\n",
      "  model_17_dense_59_matmul_readvariableop_resource (_Arg)  framework assigned device=/job:localhost/replica:0/task:0/device:GPU:0\n",
      "  adamax_adamax_update_resourceapplyadamax_m (_Arg)  framework assigned device=/job:localhost/replica:0/task:0/device:GPU:0\n",
      "  adamax_adamax_update_resourceapplyadamax_v (_Arg)  framework assigned device=/job:localhost/replica:0/task:0/device:GPU:0\n",
      "  model_17/dense_59/MatMul/ReadVariableOp (ReadVariableOp) \n",
      "  Adamax/Adamax/update/ResourceApplyAdaMax (ResourceApplyAdaMax) /job:localhost/replica:0/task:0/device:GPU:0\n",
      "\n",
      "\t [[{{node model_17/dense_59/MatMul/ReadVariableOp}}]] [Op:__inference_train_function_30960]\n",
      "\n",
      "--------------------------------------------------------------------------------\n",
      "1 fits failed with the following error:\n",
      "Traceback (most recent call last):\n",
      "  File \"/opt/homebrew/Caskroom/miniforge/base/envs/tensorflow/lib/python3.9/site-packages/sklearn/model_selection/_validation.py\", line 681, in _fit_and_score\n",
      "    estimator.fit(X_train, y_train, **fit_params)\n",
      "  File \"/opt/homebrew/Caskroom/miniforge/base/envs/tensorflow/lib/python3.9/site-packages/tensorflow/python/keras/wrappers/scikit_learn.py\", line 220, in fit\n",
      "    return super(KerasClassifier, self).fit(x, y, **kwargs)\n",
      "  File \"/opt/homebrew/Caskroom/miniforge/base/envs/tensorflow/lib/python3.9/site-packages/tensorflow/python/keras/wrappers/scikit_learn.py\", line 163, in fit\n",
      "    history = self.model.fit(x, y, **fit_args)\n",
      "  File \"/opt/homebrew/Caskroom/miniforge/base/envs/tensorflow/lib/python3.9/site-packages/tensorflow/python/keras/engine/training.py\", line 1183, in fit\n",
      "    tmp_logs = self.train_function(iterator)\n",
      "  File \"/opt/homebrew/Caskroom/miniforge/base/envs/tensorflow/lib/python3.9/site-packages/tensorflow/python/eager/def_function.py\", line 889, in __call__\n",
      "    result = self._call(*args, **kwds)\n",
      "  File \"/opt/homebrew/Caskroom/miniforge/base/envs/tensorflow/lib/python3.9/site-packages/tensorflow/python/eager/def_function.py\", line 950, in _call\n",
      "    return self._stateless_fn(*args, **kwds)\n",
      "  File \"/opt/homebrew/Caskroom/miniforge/base/envs/tensorflow/lib/python3.9/site-packages/tensorflow/python/eager/function.py\", line 3023, in __call__\n",
      "    return graph_function._call_flat(\n",
      "  File \"/opt/homebrew/Caskroom/miniforge/base/envs/tensorflow/lib/python3.9/site-packages/tensorflow/python/eager/function.py\", line 1960, in _call_flat\n",
      "    return self._build_call_outputs(self._inference_function.call(\n",
      "  File \"/opt/homebrew/Caskroom/miniforge/base/envs/tensorflow/lib/python3.9/site-packages/tensorflow/python/eager/function.py\", line 591, in call\n",
      "    outputs = execute.execute(\n",
      "  File \"/opt/homebrew/Caskroom/miniforge/base/envs/tensorflow/lib/python3.9/site-packages/tensorflow/python/eager/execute.py\", line 59, in quick_execute\n",
      "    tensors = pywrap_tfe.TFE_Py_Execute(ctx._handle, device_name, op_name,\n",
      "tensorflow.python.framework.errors_impl.InvalidArgumentError: Cannot assign a device for operation model_17/dense_54/MatMul/ReadVariableOp: Could not satisfy explicit device specification '' because the node {{colocation_node model_17/dense_54/MatMul/ReadVariableOp}} was colocated with a group of nodes that required incompatible device '/job:localhost/replica:0/task:0/device:GPU:0'. All available devices [/job:localhost/replica:0/task:0/device:CPU:0, /job:localhost/replica:0/task:0/device:GPU:0]. \n",
      "Colocation Debug Info:\n",
      "Colocation group had the following types and supported devices: \n",
      "Root Member(assigned_device_name_index_=2 requested_device_name_='/job:localhost/replica:0/task:0/device:GPU:0' assigned_device_name_='/job:localhost/replica:0/task:0/device:GPU:0' resource_device_name_='/job:localhost/replica:0/task:0/device:GPU:0' supported_device_types_=[CPU] possible_devices_=[]\n",
      "ResourceApplyAdaMax: CPU \n",
      "ReadVariableOp: GPU CPU \n",
      "_Arg: GPU CPU \n",
      "\n",
      "Colocation members, user-requested devices, and framework assigned devices, if any:\n",
      "  model_17_dense_54_matmul_readvariableop_resource (_Arg)  framework assigned device=/job:localhost/replica:0/task:0/device:GPU:0\n",
      "  adamax_adamax_update_resourceapplyadamax_m (_Arg)  framework assigned device=/job:localhost/replica:0/task:0/device:GPU:0\n",
      "  adamax_adamax_update_resourceapplyadamax_v (_Arg)  framework assigned device=/job:localhost/replica:0/task:0/device:GPU:0\n",
      "  model_17/dense_54/MatMul/ReadVariableOp (ReadVariableOp) \n",
      "  Adamax/Adamax/update/ResourceApplyAdaMax (ResourceApplyAdaMax) /job:localhost/replica:0/task:0/device:GPU:0\n",
      "\n",
      "\t [[{{node model_17/dense_54/MatMul/ReadVariableOp}}]] [Op:__inference_train_function_29131]\n",
      "\n",
      "--------------------------------------------------------------------------------\n",
      "1 fits failed with the following error:\n",
      "Traceback (most recent call last):\n",
      "  File \"/opt/homebrew/Caskroom/miniforge/base/envs/tensorflow/lib/python3.9/site-packages/sklearn/model_selection/_validation.py\", line 681, in _fit_and_score\n",
      "    estimator.fit(X_train, y_train, **fit_params)\n",
      "  File \"/opt/homebrew/Caskroom/miniforge/base/envs/tensorflow/lib/python3.9/site-packages/tensorflow/python/keras/wrappers/scikit_learn.py\", line 220, in fit\n",
      "    return super(KerasClassifier, self).fit(x, y, **kwargs)\n",
      "  File \"/opt/homebrew/Caskroom/miniforge/base/envs/tensorflow/lib/python3.9/site-packages/tensorflow/python/keras/wrappers/scikit_learn.py\", line 163, in fit\n",
      "    history = self.model.fit(x, y, **fit_args)\n",
      "  File \"/opt/homebrew/Caskroom/miniforge/base/envs/tensorflow/lib/python3.9/site-packages/tensorflow/python/keras/engine/training.py\", line 1183, in fit\n",
      "    tmp_logs = self.train_function(iterator)\n",
      "  File \"/opt/homebrew/Caskroom/miniforge/base/envs/tensorflow/lib/python3.9/site-packages/tensorflow/python/eager/def_function.py\", line 889, in __call__\n",
      "    result = self._call(*args, **kwds)\n",
      "  File \"/opt/homebrew/Caskroom/miniforge/base/envs/tensorflow/lib/python3.9/site-packages/tensorflow/python/eager/def_function.py\", line 950, in _call\n",
      "    return self._stateless_fn(*args, **kwds)\n",
      "  File \"/opt/homebrew/Caskroom/miniforge/base/envs/tensorflow/lib/python3.9/site-packages/tensorflow/python/eager/function.py\", line 3023, in __call__\n",
      "    return graph_function._call_flat(\n",
      "  File \"/opt/homebrew/Caskroom/miniforge/base/envs/tensorflow/lib/python3.9/site-packages/tensorflow/python/eager/function.py\", line 1960, in _call_flat\n",
      "    return self._build_call_outputs(self._inference_function.call(\n",
      "  File \"/opt/homebrew/Caskroom/miniforge/base/envs/tensorflow/lib/python3.9/site-packages/tensorflow/python/eager/function.py\", line 591, in call\n",
      "    outputs = execute.execute(\n",
      "  File \"/opt/homebrew/Caskroom/miniforge/base/envs/tensorflow/lib/python3.9/site-packages/tensorflow/python/eager/execute.py\", line 59, in quick_execute\n",
      "    tensors = pywrap_tfe.TFE_Py_Execute(ctx._handle, device_name, op_name,\n",
      "tensorflow.python.framework.errors_impl.InvalidArgumentError: Cannot assign a device for operation model_17/dense_67/MatMul/ReadVariableOp: Could not satisfy explicit device specification '' because the node {{colocation_node model_17/dense_67/MatMul/ReadVariableOp}} was colocated with a group of nodes that required incompatible device '/job:localhost/replica:0/task:0/device:GPU:0'. All available devices [/job:localhost/replica:0/task:0/device:CPU:0, /job:localhost/replica:0/task:0/device:GPU:0]. \n",
      "Colocation Debug Info:\n",
      "Colocation group had the following types and supported devices: \n",
      "Root Member(assigned_device_name_index_=2 requested_device_name_='/job:localhost/replica:0/task:0/device:GPU:0' assigned_device_name_='/job:localhost/replica:0/task:0/device:GPU:0' resource_device_name_='/job:localhost/replica:0/task:0/device:GPU:0' supported_device_types_=[CPU] possible_devices_=[]\n",
      "ResourceApplyAdaMax: CPU \n",
      "ReadVariableOp: GPU CPU \n",
      "_Arg: GPU CPU \n",
      "\n",
      "Colocation members, user-requested devices, and framework assigned devices, if any:\n",
      "  model_17_dense_67_matmul_readvariableop_resource (_Arg)  framework assigned device=/job:localhost/replica:0/task:0/device:GPU:0\n",
      "  adamax_adamax_update_resourceapplyadamax_m (_Arg)  framework assigned device=/job:localhost/replica:0/task:0/device:GPU:0\n",
      "  adamax_adamax_update_resourceapplyadamax_v (_Arg)  framework assigned device=/job:localhost/replica:0/task:0/device:GPU:0\n",
      "  model_17/dense_67/MatMul/ReadVariableOp (ReadVariableOp) \n",
      "  Adamax/Adamax/update/ResourceApplyAdaMax (ResourceApplyAdaMax) /job:localhost/replica:0/task:0/device:GPU:0\n",
      "\n",
      "\t [[{{node model_17/dense_67/MatMul/ReadVariableOp}}]] [Op:__inference_train_function_30382]\n",
      "\n",
      "--------------------------------------------------------------------------------\n",
      "1 fits failed with the following error:\n",
      "Traceback (most recent call last):\n",
      "  File \"/opt/homebrew/Caskroom/miniforge/base/envs/tensorflow/lib/python3.9/site-packages/sklearn/model_selection/_validation.py\", line 681, in _fit_and_score\n",
      "    estimator.fit(X_train, y_train, **fit_params)\n",
      "  File \"/opt/homebrew/Caskroom/miniforge/base/envs/tensorflow/lib/python3.9/site-packages/tensorflow/python/keras/wrappers/scikit_learn.py\", line 220, in fit\n",
      "    return super(KerasClassifier, self).fit(x, y, **kwargs)\n",
      "  File \"/opt/homebrew/Caskroom/miniforge/base/envs/tensorflow/lib/python3.9/site-packages/tensorflow/python/keras/wrappers/scikit_learn.py\", line 163, in fit\n",
      "    history = self.model.fit(x, y, **fit_args)\n",
      "  File \"/opt/homebrew/Caskroom/miniforge/base/envs/tensorflow/lib/python3.9/site-packages/tensorflow/python/keras/engine/training.py\", line 1183, in fit\n",
      "    tmp_logs = self.train_function(iterator)\n",
      "  File \"/opt/homebrew/Caskroom/miniforge/base/envs/tensorflow/lib/python3.9/site-packages/tensorflow/python/eager/def_function.py\", line 889, in __call__\n",
      "    result = self._call(*args, **kwds)\n",
      "  File \"/opt/homebrew/Caskroom/miniforge/base/envs/tensorflow/lib/python3.9/site-packages/tensorflow/python/eager/def_function.py\", line 950, in _call\n",
      "    return self._stateless_fn(*args, **kwds)\n",
      "  File \"/opt/homebrew/Caskroom/miniforge/base/envs/tensorflow/lib/python3.9/site-packages/tensorflow/python/eager/function.py\", line 3023, in __call__\n",
      "    return graph_function._call_flat(\n",
      "  File \"/opt/homebrew/Caskroom/miniforge/base/envs/tensorflow/lib/python3.9/site-packages/tensorflow/python/eager/function.py\", line 1960, in _call_flat\n",
      "    return self._build_call_outputs(self._inference_function.call(\n",
      "  File \"/opt/homebrew/Caskroom/miniforge/base/envs/tensorflow/lib/python3.9/site-packages/tensorflow/python/eager/function.py\", line 591, in call\n",
      "    outputs = execute.execute(\n",
      "  File \"/opt/homebrew/Caskroom/miniforge/base/envs/tensorflow/lib/python3.9/site-packages/tensorflow/python/eager/execute.py\", line 59, in quick_execute\n",
      "    tensors = pywrap_tfe.TFE_Py_Execute(ctx._handle, device_name, op_name,\n",
      "tensorflow.python.framework.errors_impl.InvalidArgumentError: Cannot assign a device for operation model_19/dense_49/MatMul/ReadVariableOp: Could not satisfy explicit device specification '' because the node {{colocation_node model_19/dense_49/MatMul/ReadVariableOp}} was colocated with a group of nodes that required incompatible device '/job:localhost/replica:0/task:0/device:GPU:0'. All available devices [/job:localhost/replica:0/task:0/device:CPU:0, /job:localhost/replica:0/task:0/device:GPU:0]. \n",
      "Colocation Debug Info:\n",
      "Colocation group had the following types and supported devices: \n",
      "Root Member(assigned_device_name_index_=2 requested_device_name_='/job:localhost/replica:0/task:0/device:GPU:0' assigned_device_name_='/job:localhost/replica:0/task:0/device:GPU:0' resource_device_name_='/job:localhost/replica:0/task:0/device:GPU:0' supported_device_types_=[CPU] possible_devices_=[]\n",
      "ResourceApplyAdaMax: CPU \n",
      "ReadVariableOp: GPU CPU \n",
      "_Arg: GPU CPU \n",
      "\n",
      "Colocation members, user-requested devices, and framework assigned devices, if any:\n",
      "  model_19_dense_49_matmul_readvariableop_resource (_Arg)  framework assigned device=/job:localhost/replica:0/task:0/device:GPU:0\n",
      "  adamax_adamax_update_resourceapplyadamax_m (_Arg)  framework assigned device=/job:localhost/replica:0/task:0/device:GPU:0\n",
      "  adamax_adamax_update_resourceapplyadamax_v (_Arg)  framework assigned device=/job:localhost/replica:0/task:0/device:GPU:0\n",
      "  model_19/dense_49/MatMul/ReadVariableOp (ReadVariableOp) \n",
      "  Adamax/Adamax/update/ResourceApplyAdaMax (ResourceApplyAdaMax) /job:localhost/replica:0/task:0/device:GPU:0\n",
      "\n",
      "\t [[{{node model_19/dense_49/MatMul/ReadVariableOp}}]] [Op:__inference_train_function_31080]\n",
      "\n",
      "--------------------------------------------------------------------------------\n",
      "1 fits failed with the following error:\n",
      "Traceback (most recent call last):\n",
      "  File \"/opt/homebrew/Caskroom/miniforge/base/envs/tensorflow/lib/python3.9/site-packages/sklearn/model_selection/_validation.py\", line 681, in _fit_and_score\n",
      "    estimator.fit(X_train, y_train, **fit_params)\n",
      "  File \"/opt/homebrew/Caskroom/miniforge/base/envs/tensorflow/lib/python3.9/site-packages/tensorflow/python/keras/wrappers/scikit_learn.py\", line 220, in fit\n",
      "    return super(KerasClassifier, self).fit(x, y, **kwargs)\n",
      "  File \"/opt/homebrew/Caskroom/miniforge/base/envs/tensorflow/lib/python3.9/site-packages/tensorflow/python/keras/wrappers/scikit_learn.py\", line 163, in fit\n",
      "    history = self.model.fit(x, y, **fit_args)\n",
      "  File \"/opt/homebrew/Caskroom/miniforge/base/envs/tensorflow/lib/python3.9/site-packages/tensorflow/python/keras/engine/training.py\", line 1183, in fit\n",
      "    tmp_logs = self.train_function(iterator)\n",
      "  File \"/opt/homebrew/Caskroom/miniforge/base/envs/tensorflow/lib/python3.9/site-packages/tensorflow/python/eager/def_function.py\", line 889, in __call__\n",
      "    result = self._call(*args, **kwds)\n",
      "  File \"/opt/homebrew/Caskroom/miniforge/base/envs/tensorflow/lib/python3.9/site-packages/tensorflow/python/eager/def_function.py\", line 950, in _call\n",
      "    return self._stateless_fn(*args, **kwds)\n",
      "  File \"/opt/homebrew/Caskroom/miniforge/base/envs/tensorflow/lib/python3.9/site-packages/tensorflow/python/eager/function.py\", line 3023, in __call__\n",
      "    return graph_function._call_flat(\n",
      "  File \"/opt/homebrew/Caskroom/miniforge/base/envs/tensorflow/lib/python3.9/site-packages/tensorflow/python/eager/function.py\", line 1960, in _call_flat\n",
      "    return self._build_call_outputs(self._inference_function.call(\n",
      "  File \"/opt/homebrew/Caskroom/miniforge/base/envs/tensorflow/lib/python3.9/site-packages/tensorflow/python/eager/function.py\", line 591, in call\n",
      "    outputs = execute.execute(\n",
      "  File \"/opt/homebrew/Caskroom/miniforge/base/envs/tensorflow/lib/python3.9/site-packages/tensorflow/python/eager/execute.py\", line 59, in quick_execute\n",
      "    tensors = pywrap_tfe.TFE_Py_Execute(ctx._handle, device_name, op_name,\n",
      "tensorflow.python.framework.errors_impl.InvalidArgumentError: Cannot assign a device for operation model_18/dense_69/MatMul/ReadVariableOp: Could not satisfy explicit device specification '' because the node {{colocation_node model_18/dense_69/MatMul/ReadVariableOp}} was colocated with a group of nodes that required incompatible device '/job:localhost/replica:0/task:0/device:GPU:0'. All available devices [/job:localhost/replica:0/task:0/device:CPU:0, /job:localhost/replica:0/task:0/device:GPU:0]. \n",
      "Colocation Debug Info:\n",
      "Colocation group had the following types and supported devices: \n",
      "Root Member(assigned_device_name_index_=2 requested_device_name_='/job:localhost/replica:0/task:0/device:GPU:0' assigned_device_name_='/job:localhost/replica:0/task:0/device:GPU:0' resource_device_name_='/job:localhost/replica:0/task:0/device:GPU:0' supported_device_types_=[CPU] possible_devices_=[]\n",
      "ResourceApplyAdaMax: CPU \n",
      "ReadVariableOp: GPU CPU \n",
      "_Arg: GPU CPU \n",
      "\n",
      "Colocation members, user-requested devices, and framework assigned devices, if any:\n",
      "  model_18_dense_69_matmul_readvariableop_resource (_Arg)  framework assigned device=/job:localhost/replica:0/task:0/device:GPU:0\n",
      "  adamax_adamax_update_resourceapplyadamax_m (_Arg)  framework assigned device=/job:localhost/replica:0/task:0/device:GPU:0\n",
      "  adamax_adamax_update_resourceapplyadamax_v (_Arg)  framework assigned device=/job:localhost/replica:0/task:0/device:GPU:0\n",
      "  model_18/dense_69/MatMul/ReadVariableOp (ReadVariableOp) \n",
      "  Adamax/Adamax/update/ResourceApplyAdaMax (ResourceApplyAdaMax) /job:localhost/replica:0/task:0/device:GPU:0\n",
      "\n",
      "\t [[{{node model_18/dense_69/MatMul/ReadVariableOp}}]] [Op:__inference_train_function_31055]\n",
      "\n",
      "--------------------------------------------------------------------------------\n",
      "1 fits failed with the following error:\n",
      "Traceback (most recent call last):\n",
      "  File \"/opt/homebrew/Caskroom/miniforge/base/envs/tensorflow/lib/python3.9/site-packages/sklearn/model_selection/_validation.py\", line 681, in _fit_and_score\n",
      "    estimator.fit(X_train, y_train, **fit_params)\n",
      "  File \"/opt/homebrew/Caskroom/miniforge/base/envs/tensorflow/lib/python3.9/site-packages/tensorflow/python/keras/wrappers/scikit_learn.py\", line 220, in fit\n",
      "    return super(KerasClassifier, self).fit(x, y, **kwargs)\n",
      "  File \"/opt/homebrew/Caskroom/miniforge/base/envs/tensorflow/lib/python3.9/site-packages/tensorflow/python/keras/wrappers/scikit_learn.py\", line 163, in fit\n",
      "    history = self.model.fit(x, y, **fit_args)\n",
      "  File \"/opt/homebrew/Caskroom/miniforge/base/envs/tensorflow/lib/python3.9/site-packages/tensorflow/python/keras/engine/training.py\", line 1183, in fit\n",
      "    tmp_logs = self.train_function(iterator)\n",
      "  File \"/opt/homebrew/Caskroom/miniforge/base/envs/tensorflow/lib/python3.9/site-packages/tensorflow/python/eager/def_function.py\", line 889, in __call__\n",
      "    result = self._call(*args, **kwds)\n",
      "  File \"/opt/homebrew/Caskroom/miniforge/base/envs/tensorflow/lib/python3.9/site-packages/tensorflow/python/eager/def_function.py\", line 950, in _call\n",
      "    return self._stateless_fn(*args, **kwds)\n",
      "  File \"/opt/homebrew/Caskroom/miniforge/base/envs/tensorflow/lib/python3.9/site-packages/tensorflow/python/eager/function.py\", line 3023, in __call__\n",
      "    return graph_function._call_flat(\n",
      "  File \"/opt/homebrew/Caskroom/miniforge/base/envs/tensorflow/lib/python3.9/site-packages/tensorflow/python/eager/function.py\", line 1960, in _call_flat\n",
      "    return self._build_call_outputs(self._inference_function.call(\n",
      "  File \"/opt/homebrew/Caskroom/miniforge/base/envs/tensorflow/lib/python3.9/site-packages/tensorflow/python/eager/function.py\", line 591, in call\n",
      "    outputs = execute.execute(\n",
      "  File \"/opt/homebrew/Caskroom/miniforge/base/envs/tensorflow/lib/python3.9/site-packages/tensorflow/python/eager/execute.py\", line 59, in quick_execute\n",
      "    tensors = pywrap_tfe.TFE_Py_Execute(ctx._handle, device_name, op_name,\n",
      "tensorflow.python.framework.errors_impl.InvalidArgumentError: Cannot assign a device for operation model_20/dense_59/MatMul/ReadVariableOp: Could not satisfy explicit device specification '' because the node {{colocation_node model_20/dense_59/MatMul/ReadVariableOp}} was colocated with a group of nodes that required incompatible device '/job:localhost/replica:0/task:0/device:GPU:0'. All available devices [/job:localhost/replica:0/task:0/device:CPU:0, /job:localhost/replica:0/task:0/device:GPU:0]. \n",
      "Colocation Debug Info:\n",
      "Colocation group had the following types and supported devices: \n",
      "Root Member(assigned_device_name_index_=2 requested_device_name_='/job:localhost/replica:0/task:0/device:GPU:0' assigned_device_name_='/job:localhost/replica:0/task:0/device:GPU:0' resource_device_name_='/job:localhost/replica:0/task:0/device:GPU:0' supported_device_types_=[CPU] possible_devices_=[]\n",
      "ResourceApplyAdaMax: CPU \n",
      "ReadVariableOp: GPU CPU \n",
      "_Arg: GPU CPU \n",
      "\n",
      "Colocation members, user-requested devices, and framework assigned devices, if any:\n",
      "  model_20_dense_59_matmul_readvariableop_resource (_Arg)  framework assigned device=/job:localhost/replica:0/task:0/device:GPU:0\n",
      "  adamax_adamax_update_resourceapplyadamax_m (_Arg)  framework assigned device=/job:localhost/replica:0/task:0/device:GPU:0\n",
      "  adamax_adamax_update_resourceapplyadamax_v (_Arg)  framework assigned device=/job:localhost/replica:0/task:0/device:GPU:0\n",
      "  model_20/dense_59/MatMul/ReadVariableOp (ReadVariableOp) \n",
      "  Adamax/Adamax/update/ResourceApplyAdaMax (ResourceApplyAdaMax) /job:localhost/replica:0/task:0/device:GPU:0\n",
      "\n",
      "\t [[{{node model_20/dense_59/MatMul/ReadVariableOp}}]] [Op:__inference_train_function_31377]\n",
      "\n",
      "--------------------------------------------------------------------------------\n",
      "1 fits failed with the following error:\n",
      "Traceback (most recent call last):\n",
      "  File \"/opt/homebrew/Caskroom/miniforge/base/envs/tensorflow/lib/python3.9/site-packages/sklearn/model_selection/_validation.py\", line 681, in _fit_and_score\n",
      "    estimator.fit(X_train, y_train, **fit_params)\n",
      "  File \"/opt/homebrew/Caskroom/miniforge/base/envs/tensorflow/lib/python3.9/site-packages/tensorflow/python/keras/wrappers/scikit_learn.py\", line 220, in fit\n",
      "    return super(KerasClassifier, self).fit(x, y, **kwargs)\n",
      "  File \"/opt/homebrew/Caskroom/miniforge/base/envs/tensorflow/lib/python3.9/site-packages/tensorflow/python/keras/wrappers/scikit_learn.py\", line 163, in fit\n",
      "    history = self.model.fit(x, y, **fit_args)\n",
      "  File \"/opt/homebrew/Caskroom/miniforge/base/envs/tensorflow/lib/python3.9/site-packages/tensorflow/python/keras/engine/training.py\", line 1183, in fit\n",
      "    tmp_logs = self.train_function(iterator)\n",
      "  File \"/opt/homebrew/Caskroom/miniforge/base/envs/tensorflow/lib/python3.9/site-packages/tensorflow/python/eager/def_function.py\", line 889, in __call__\n",
      "    result = self._call(*args, **kwds)\n",
      "  File \"/opt/homebrew/Caskroom/miniforge/base/envs/tensorflow/lib/python3.9/site-packages/tensorflow/python/eager/def_function.py\", line 950, in _call\n",
      "    return self._stateless_fn(*args, **kwds)\n",
      "  File \"/opt/homebrew/Caskroom/miniforge/base/envs/tensorflow/lib/python3.9/site-packages/tensorflow/python/eager/function.py\", line 3023, in __call__\n",
      "    return graph_function._call_flat(\n",
      "  File \"/opt/homebrew/Caskroom/miniforge/base/envs/tensorflow/lib/python3.9/site-packages/tensorflow/python/eager/function.py\", line 1960, in _call_flat\n",
      "    return self._build_call_outputs(self._inference_function.call(\n",
      "  File \"/opt/homebrew/Caskroom/miniforge/base/envs/tensorflow/lib/python3.9/site-packages/tensorflow/python/eager/function.py\", line 591, in call\n",
      "    outputs = execute.execute(\n",
      "  File \"/opt/homebrew/Caskroom/miniforge/base/envs/tensorflow/lib/python3.9/site-packages/tensorflow/python/eager/execute.py\", line 59, in quick_execute\n",
      "    tensors = pywrap_tfe.TFE_Py_Execute(ctx._handle, device_name, op_name,\n",
      "tensorflow.python.framework.errors_impl.InvalidArgumentError: Cannot assign a device for operation model_19/dense_58/MatMul/ReadVariableOp: Could not satisfy explicit device specification '' because the node {{colocation_node model_19/dense_58/MatMul/ReadVariableOp}} was colocated with a group of nodes that required incompatible device '/job:localhost/replica:0/task:0/device:GPU:0'. All available devices [/job:localhost/replica:0/task:0/device:CPU:0, /job:localhost/replica:0/task:0/device:GPU:0]. \n",
      "Colocation Debug Info:\n",
      "Colocation group had the following types and supported devices: \n",
      "Root Member(assigned_device_name_index_=2 requested_device_name_='/job:localhost/replica:0/task:0/device:GPU:0' assigned_device_name_='/job:localhost/replica:0/task:0/device:GPU:0' resource_device_name_='/job:localhost/replica:0/task:0/device:GPU:0' supported_device_types_=[CPU] possible_devices_=[]\n",
      "ResourceApplyAdaMax: CPU \n",
      "ReadVariableOp: GPU CPU \n",
      "_Arg: GPU CPU \n",
      "\n",
      "Colocation members, user-requested devices, and framework assigned devices, if any:\n",
      "  model_19_dense_58_matmul_readvariableop_resource (_Arg)  framework assigned device=/job:localhost/replica:0/task:0/device:GPU:0\n",
      "  adamax_adamax_update_resourceapplyadamax_m (_Arg)  framework assigned device=/job:localhost/replica:0/task:0/device:GPU:0\n",
      "  adamax_adamax_update_resourceapplyadamax_v (_Arg)  framework assigned device=/job:localhost/replica:0/task:0/device:GPU:0\n",
      "  model_19/dense_58/MatMul/ReadVariableOp (ReadVariableOp) \n",
      "  Adamax/Adamax/update/ResourceApplyAdaMax (ResourceApplyAdaMax) /job:localhost/replica:0/task:0/device:GPU:0\n",
      "\n",
      "\t [[{{node model_19/dense_58/MatMul/ReadVariableOp}}]] [Op:__inference_train_function_30786]\n",
      "\n",
      "--------------------------------------------------------------------------------\n",
      "1 fits failed with the following error:\n",
      "Traceback (most recent call last):\n",
      "  File \"/opt/homebrew/Caskroom/miniforge/base/envs/tensorflow/lib/python3.9/site-packages/sklearn/model_selection/_validation.py\", line 681, in _fit_and_score\n",
      "    estimator.fit(X_train, y_train, **fit_params)\n",
      "  File \"/opt/homebrew/Caskroom/miniforge/base/envs/tensorflow/lib/python3.9/site-packages/tensorflow/python/keras/wrappers/scikit_learn.py\", line 220, in fit\n",
      "    return super(KerasClassifier, self).fit(x, y, **kwargs)\n",
      "  File \"/opt/homebrew/Caskroom/miniforge/base/envs/tensorflow/lib/python3.9/site-packages/tensorflow/python/keras/wrappers/scikit_learn.py\", line 163, in fit\n",
      "    history = self.model.fit(x, y, **fit_args)\n",
      "  File \"/opt/homebrew/Caskroom/miniforge/base/envs/tensorflow/lib/python3.9/site-packages/tensorflow/python/keras/engine/training.py\", line 1183, in fit\n",
      "    tmp_logs = self.train_function(iterator)\n",
      "  File \"/opt/homebrew/Caskroom/miniforge/base/envs/tensorflow/lib/python3.9/site-packages/tensorflow/python/eager/def_function.py\", line 889, in __call__\n",
      "    result = self._call(*args, **kwds)\n",
      "  File \"/opt/homebrew/Caskroom/miniforge/base/envs/tensorflow/lib/python3.9/site-packages/tensorflow/python/eager/def_function.py\", line 950, in _call\n",
      "    return self._stateless_fn(*args, **kwds)\n",
      "  File \"/opt/homebrew/Caskroom/miniforge/base/envs/tensorflow/lib/python3.9/site-packages/tensorflow/python/eager/function.py\", line 3023, in __call__\n",
      "    return graph_function._call_flat(\n",
      "  File \"/opt/homebrew/Caskroom/miniforge/base/envs/tensorflow/lib/python3.9/site-packages/tensorflow/python/eager/function.py\", line 1960, in _call_flat\n",
      "    return self._build_call_outputs(self._inference_function.call(\n",
      "  File \"/opt/homebrew/Caskroom/miniforge/base/envs/tensorflow/lib/python3.9/site-packages/tensorflow/python/eager/function.py\", line 591, in call\n",
      "    outputs = execute.execute(\n",
      "  File \"/opt/homebrew/Caskroom/miniforge/base/envs/tensorflow/lib/python3.9/site-packages/tensorflow/python/eager/execute.py\", line 59, in quick_execute\n",
      "    tensors = pywrap_tfe.TFE_Py_Execute(ctx._handle, device_name, op_name,\n",
      "tensorflow.python.framework.errors_impl.InvalidArgumentError: Cannot assign a device for operation model_20/dense_60/MatMul/ReadVariableOp: Could not satisfy explicit device specification '' because the node {{colocation_node model_20/dense_60/MatMul/ReadVariableOp}} was colocated with a group of nodes that required incompatible device '/job:localhost/replica:0/task:0/device:GPU:0'. All available devices [/job:localhost/replica:0/task:0/device:CPU:0, /job:localhost/replica:0/task:0/device:GPU:0]. \n",
      "Colocation Debug Info:\n",
      "Colocation group had the following types and supported devices: \n",
      "Root Member(assigned_device_name_index_=2 requested_device_name_='/job:localhost/replica:0/task:0/device:GPU:0' assigned_device_name_='/job:localhost/replica:0/task:0/device:GPU:0' resource_device_name_='/job:localhost/replica:0/task:0/device:GPU:0' supported_device_types_=[CPU] possible_devices_=[]\n",
      "ResourceApplyAdaMax: CPU \n",
      "ReadVariableOp: GPU CPU \n",
      "_Arg: GPU CPU \n",
      "\n",
      "Colocation members, user-requested devices, and framework assigned devices, if any:\n",
      "  model_20_dense_60_matmul_readvariableop_resource (_Arg)  framework assigned device=/job:localhost/replica:0/task:0/device:GPU:0\n",
      "  adamax_adamax_update_resourceapplyadamax_m (_Arg)  framework assigned device=/job:localhost/replica:0/task:0/device:GPU:0\n",
      "  adamax_adamax_update_resourceapplyadamax_v (_Arg)  framework assigned device=/job:localhost/replica:0/task:0/device:GPU:0\n",
      "  model_20/dense_60/MatMul/ReadVariableOp (ReadVariableOp) \n",
      "  Adamax/Adamax/update/ResourceApplyAdaMax (ResourceApplyAdaMax) /job:localhost/replica:0/task:0/device:GPU:0\n",
      "\n",
      "\t [[{{node model_20/dense_60/MatMul/ReadVariableOp}}]] [Op:__inference_train_function_31459]\n",
      "\n",
      "--------------------------------------------------------------------------------\n",
      "1 fits failed with the following error:\n",
      "Traceback (most recent call last):\n",
      "  File \"/opt/homebrew/Caskroom/miniforge/base/envs/tensorflow/lib/python3.9/site-packages/sklearn/model_selection/_validation.py\", line 681, in _fit_and_score\n",
      "    estimator.fit(X_train, y_train, **fit_params)\n",
      "  File \"/opt/homebrew/Caskroom/miniforge/base/envs/tensorflow/lib/python3.9/site-packages/tensorflow/python/keras/wrappers/scikit_learn.py\", line 220, in fit\n",
      "    return super(KerasClassifier, self).fit(x, y, **kwargs)\n",
      "  File \"/opt/homebrew/Caskroom/miniforge/base/envs/tensorflow/lib/python3.9/site-packages/tensorflow/python/keras/wrappers/scikit_learn.py\", line 163, in fit\n",
      "    history = self.model.fit(x, y, **fit_args)\n",
      "  File \"/opt/homebrew/Caskroom/miniforge/base/envs/tensorflow/lib/python3.9/site-packages/tensorflow/python/keras/engine/training.py\", line 1183, in fit\n",
      "    tmp_logs = self.train_function(iterator)\n",
      "  File \"/opt/homebrew/Caskroom/miniforge/base/envs/tensorflow/lib/python3.9/site-packages/tensorflow/python/eager/def_function.py\", line 889, in __call__\n",
      "    result = self._call(*args, **kwds)\n",
      "  File \"/opt/homebrew/Caskroom/miniforge/base/envs/tensorflow/lib/python3.9/site-packages/tensorflow/python/eager/def_function.py\", line 950, in _call\n",
      "    return self._stateless_fn(*args, **kwds)\n",
      "  File \"/opt/homebrew/Caskroom/miniforge/base/envs/tensorflow/lib/python3.9/site-packages/tensorflow/python/eager/function.py\", line 3023, in __call__\n",
      "    return graph_function._call_flat(\n",
      "  File \"/opt/homebrew/Caskroom/miniforge/base/envs/tensorflow/lib/python3.9/site-packages/tensorflow/python/eager/function.py\", line 1960, in _call_flat\n",
      "    return self._build_call_outputs(self._inference_function.call(\n",
      "  File \"/opt/homebrew/Caskroom/miniforge/base/envs/tensorflow/lib/python3.9/site-packages/tensorflow/python/eager/function.py\", line 591, in call\n",
      "    outputs = execute.execute(\n",
      "  File \"/opt/homebrew/Caskroom/miniforge/base/envs/tensorflow/lib/python3.9/site-packages/tensorflow/python/eager/execute.py\", line 59, in quick_execute\n",
      "    tensors = pywrap_tfe.TFE_Py_Execute(ctx._handle, device_name, op_name,\n",
      "tensorflow.python.framework.errors_impl.InvalidArgumentError: Cannot assign a device for operation model_20/dense_65/MatMul/ReadVariableOp: Could not satisfy explicit device specification '' because the node {{colocation_node model_20/dense_65/MatMul/ReadVariableOp}} was colocated with a group of nodes that required incompatible device '/job:localhost/replica:0/task:0/device:GPU:0'. All available devices [/job:localhost/replica:0/task:0/device:CPU:0, /job:localhost/replica:0/task:0/device:GPU:0]. \n",
      "Colocation Debug Info:\n",
      "Colocation group had the following types and supported devices: \n",
      "Root Member(assigned_device_name_index_=2 requested_device_name_='/job:localhost/replica:0/task:0/device:GPU:0' assigned_device_name_='/job:localhost/replica:0/task:0/device:GPU:0' resource_device_name_='/job:localhost/replica:0/task:0/device:GPU:0' supported_device_types_=[CPU] possible_devices_=[]\n",
      "ResourceApplyAdaMax: CPU \n",
      "ReadVariableOp: GPU CPU \n",
      "_Arg: GPU CPU \n",
      "\n",
      "Colocation members, user-requested devices, and framework assigned devices, if any:\n",
      "  model_20_dense_65_matmul_readvariableop_resource (_Arg)  framework assigned device=/job:localhost/replica:0/task:0/device:GPU:0\n",
      "  adamax_adamax_update_resourceapplyadamax_m (_Arg)  framework assigned device=/job:localhost/replica:0/task:0/device:GPU:0\n",
      "  adamax_adamax_update_resourceapplyadamax_v (_Arg)  framework assigned device=/job:localhost/replica:0/task:0/device:GPU:0\n",
      "  model_20/dense_65/MatMul/ReadVariableOp (ReadVariableOp) \n",
      "  Adamax/Adamax/update/ResourceApplyAdaMax (ResourceApplyAdaMax) /job:localhost/replica:0/task:0/device:GPU:0\n",
      "\n",
      "\t [[{{node model_20/dense_65/MatMul/ReadVariableOp}}]] [Op:__inference_train_function_33496]\n",
      "\n",
      "--------------------------------------------------------------------------------\n",
      "1 fits failed with the following error:\n",
      "Traceback (most recent call last):\n",
      "  File \"/opt/homebrew/Caskroom/miniforge/base/envs/tensorflow/lib/python3.9/site-packages/sklearn/model_selection/_validation.py\", line 681, in _fit_and_score\n",
      "    estimator.fit(X_train, y_train, **fit_params)\n",
      "  File \"/opt/homebrew/Caskroom/miniforge/base/envs/tensorflow/lib/python3.9/site-packages/tensorflow/python/keras/wrappers/scikit_learn.py\", line 220, in fit\n",
      "    return super(KerasClassifier, self).fit(x, y, **kwargs)\n",
      "  File \"/opt/homebrew/Caskroom/miniforge/base/envs/tensorflow/lib/python3.9/site-packages/tensorflow/python/keras/wrappers/scikit_learn.py\", line 163, in fit\n",
      "    history = self.model.fit(x, y, **fit_args)\n",
      "  File \"/opt/homebrew/Caskroom/miniforge/base/envs/tensorflow/lib/python3.9/site-packages/tensorflow/python/keras/engine/training.py\", line 1183, in fit\n",
      "    tmp_logs = self.train_function(iterator)\n",
      "  File \"/opt/homebrew/Caskroom/miniforge/base/envs/tensorflow/lib/python3.9/site-packages/tensorflow/python/eager/def_function.py\", line 889, in __call__\n",
      "    result = self._call(*args, **kwds)\n",
      "  File \"/opt/homebrew/Caskroom/miniforge/base/envs/tensorflow/lib/python3.9/site-packages/tensorflow/python/eager/def_function.py\", line 950, in _call\n",
      "    return self._stateless_fn(*args, **kwds)\n",
      "  File \"/opt/homebrew/Caskroom/miniforge/base/envs/tensorflow/lib/python3.9/site-packages/tensorflow/python/eager/function.py\", line 3023, in __call__\n",
      "    return graph_function._call_flat(\n",
      "  File \"/opt/homebrew/Caskroom/miniforge/base/envs/tensorflow/lib/python3.9/site-packages/tensorflow/python/eager/function.py\", line 1960, in _call_flat\n",
      "    return self._build_call_outputs(self._inference_function.call(\n",
      "  File \"/opt/homebrew/Caskroom/miniforge/base/envs/tensorflow/lib/python3.9/site-packages/tensorflow/python/eager/function.py\", line 591, in call\n",
      "    outputs = execute.execute(\n",
      "  File \"/opt/homebrew/Caskroom/miniforge/base/envs/tensorflow/lib/python3.9/site-packages/tensorflow/python/eager/execute.py\", line 59, in quick_execute\n",
      "    tensors = pywrap_tfe.TFE_Py_Execute(ctx._handle, device_name, op_name,\n",
      "tensorflow.python.framework.errors_impl.InvalidArgumentError: Cannot assign a device for operation model_19/dense_47/MatMul/ReadVariableOp: Could not satisfy explicit device specification '' because the node {{colocation_node model_19/dense_47/MatMul/ReadVariableOp}} was colocated with a group of nodes that required incompatible device '/job:localhost/replica:0/task:0/device:GPU:0'. All available devices [/job:localhost/replica:0/task:0/device:CPU:0, /job:localhost/replica:0/task:0/device:GPU:0]. \n",
      "Colocation Debug Info:\n",
      "Colocation group had the following types and supported devices: \n",
      "Root Member(assigned_device_name_index_=2 requested_device_name_='/job:localhost/replica:0/task:0/device:GPU:0' assigned_device_name_='/job:localhost/replica:0/task:0/device:GPU:0' resource_device_name_='/job:localhost/replica:0/task:0/device:GPU:0' supported_device_types_=[CPU] possible_devices_=[]\n",
      "ResourceApplyAdaMax: CPU \n",
      "ReadVariableOp: GPU CPU \n",
      "_Arg: GPU CPU \n",
      "\n",
      "Colocation members, user-requested devices, and framework assigned devices, if any:\n",
      "  model_19_dense_47_matmul_readvariableop_resource (_Arg)  framework assigned device=/job:localhost/replica:0/task:0/device:GPU:0\n",
      "  adamax_adamax_update_resourceapplyadamax_m (_Arg)  framework assigned device=/job:localhost/replica:0/task:0/device:GPU:0\n",
      "  adamax_adamax_update_resourceapplyadamax_v (_Arg)  framework assigned device=/job:localhost/replica:0/task:0/device:GPU:0\n",
      "  model_19/dense_47/MatMul/ReadVariableOp (ReadVariableOp) \n",
      "  Adamax/Adamax/update/ResourceApplyAdaMax (ResourceApplyAdaMax) /job:localhost/replica:0/task:0/device:GPU:0\n",
      "\n",
      "\t [[{{node model_19/dense_47/MatMul/ReadVariableOp}}]] [Op:__inference_train_function_31033]\n",
      "\n",
      "--------------------------------------------------------------------------------\n",
      "1 fits failed with the following error:\n",
      "Traceback (most recent call last):\n",
      "  File \"/opt/homebrew/Caskroom/miniforge/base/envs/tensorflow/lib/python3.9/site-packages/sklearn/model_selection/_validation.py\", line 681, in _fit_and_score\n",
      "    estimator.fit(X_train, y_train, **fit_params)\n",
      "  File \"/opt/homebrew/Caskroom/miniforge/base/envs/tensorflow/lib/python3.9/site-packages/tensorflow/python/keras/wrappers/scikit_learn.py\", line 220, in fit\n",
      "    return super(KerasClassifier, self).fit(x, y, **kwargs)\n",
      "  File \"/opt/homebrew/Caskroom/miniforge/base/envs/tensorflow/lib/python3.9/site-packages/tensorflow/python/keras/wrappers/scikit_learn.py\", line 163, in fit\n",
      "    history = self.model.fit(x, y, **fit_args)\n",
      "  File \"/opt/homebrew/Caskroom/miniforge/base/envs/tensorflow/lib/python3.9/site-packages/tensorflow/python/keras/engine/training.py\", line 1183, in fit\n",
      "    tmp_logs = self.train_function(iterator)\n",
      "  File \"/opt/homebrew/Caskroom/miniforge/base/envs/tensorflow/lib/python3.9/site-packages/tensorflow/python/eager/def_function.py\", line 889, in __call__\n",
      "    result = self._call(*args, **kwds)\n",
      "  File \"/opt/homebrew/Caskroom/miniforge/base/envs/tensorflow/lib/python3.9/site-packages/tensorflow/python/eager/def_function.py\", line 950, in _call\n",
      "    return self._stateless_fn(*args, **kwds)\n",
      "  File \"/opt/homebrew/Caskroom/miniforge/base/envs/tensorflow/lib/python3.9/site-packages/tensorflow/python/eager/function.py\", line 3023, in __call__\n",
      "    return graph_function._call_flat(\n",
      "  File \"/opt/homebrew/Caskroom/miniforge/base/envs/tensorflow/lib/python3.9/site-packages/tensorflow/python/eager/function.py\", line 1960, in _call_flat\n",
      "    return self._build_call_outputs(self._inference_function.call(\n",
      "  File \"/opt/homebrew/Caskroom/miniforge/base/envs/tensorflow/lib/python3.9/site-packages/tensorflow/python/eager/function.py\", line 591, in call\n",
      "    outputs = execute.execute(\n",
      "  File \"/opt/homebrew/Caskroom/miniforge/base/envs/tensorflow/lib/python3.9/site-packages/tensorflow/python/eager/execute.py\", line 59, in quick_execute\n",
      "    tensors = pywrap_tfe.TFE_Py_Execute(ctx._handle, device_name, op_name,\n",
      "tensorflow.python.framework.errors_impl.InvalidArgumentError: Cannot assign a device for operation model_21/dense_67/MatMul/ReadVariableOp: Could not satisfy explicit device specification '' because the node {{colocation_node model_21/dense_67/MatMul/ReadVariableOp}} was colocated with a group of nodes that required incompatible device '/job:localhost/replica:0/task:0/device:GPU:0'. All available devices [/job:localhost/replica:0/task:0/device:CPU:0, /job:localhost/replica:0/task:0/device:GPU:0]. \n",
      "Colocation Debug Info:\n",
      "Colocation group had the following types and supported devices: \n",
      "Root Member(assigned_device_name_index_=2 requested_device_name_='/job:localhost/replica:0/task:0/device:GPU:0' assigned_device_name_='/job:localhost/replica:0/task:0/device:GPU:0' resource_device_name_='/job:localhost/replica:0/task:0/device:GPU:0' supported_device_types_=[CPU] possible_devices_=[]\n",
      "ResourceApplyAdaMax: CPU \n",
      "ReadVariableOp: GPU CPU \n",
      "_Arg: GPU CPU \n",
      "\n",
      "Colocation members, user-requested devices, and framework assigned devices, if any:\n",
      "  model_21_dense_67_matmul_readvariableop_resource (_Arg)  framework assigned device=/job:localhost/replica:0/task:0/device:GPU:0\n",
      "  adamax_adamax_update_resourceapplyadamax_m (_Arg)  framework assigned device=/job:localhost/replica:0/task:0/device:GPU:0\n",
      "  adamax_adamax_update_resourceapplyadamax_v (_Arg)  framework assigned device=/job:localhost/replica:0/task:0/device:GPU:0\n",
      "  model_21/dense_67/MatMul/ReadVariableOp (ReadVariableOp) \n",
      "  Adamax/Adamax/update/ResourceApplyAdaMax (ResourceApplyAdaMax) /job:localhost/replica:0/task:0/device:GPU:0\n",
      "\n",
      "\t [[{{node model_21/dense_67/MatMul/ReadVariableOp}}]] [Op:__inference_train_function_34169]\n",
      "\n",
      "  warnings.warn(some_fits_failed_message, FitFailedWarning)\n",
      "/opt/homebrew/Caskroom/miniforge/base/envs/tensorflow/lib/python3.9/site-packages/sklearn/model_selection/_search.py:969: UserWarning: One or more of the test scores are non-finite: [0.009499   0.00749775        nan 0.01549901 0.00700175        nan\n",
      " 0.01550201 0.00800125        nan 0.01599426 0.01099901        nan\n",
      " 0.01500226 0.00849875        nan 0.0139945  0.0059985         nan\n",
      " 0.01650001 0.00600075        nan 0.01200301 0.00549875        nan\n",
      " 0.01150251 0.005498          nan 0.01200001 0.00450075        nan\n",
      " 0.01099976 0.0054995         nan 0.01000326 0.0045            nan]\n",
      "  warnings.warn(\n"
     ]
    },
    {
     "name": "stdout",
     "output_type": "stream",
     "text": [
      " 20/100 [=====>........................] - ETA: 0s - loss: 0.7121 - accuracy: 0.0300 - binary_accuracy: 0.4764   "
     ]
    },
    {
     "name": "stderr",
     "output_type": "stream",
     "text": [
      "2021-12-15 01:40:28.924998: I tensorflow/core/grappler/optimizers/custom_graph_optimizer_registry.cc:112] Plugin optimizer for device_type GPU is enabled.\n"
     ]
    },
    {
     "name": "stdout",
     "output_type": "stream",
     "text": [
      "100/100 [==============================] - 1s 5ms/step - loss: 0.7082 - accuracy: 0.0165 - binary_accuracy: 0.4866\n"
     ]
    }
   ],
   "source": [
    "op_param_grid = {\n",
    "        \"n_hidden_layers\": [1],\n",
    "        \"hidden_dim\": [256],\n",
    "        \"optimizer\": [\"SGD\", \"adam\", \"adamax\"],\n",
    "        \"batch_size\": [5, 20, 50],\n",
    "        \"n_epochs\": [100, 250, 500, 750],\n",
    "        \"output_activation\": ['sigmoid'],\n",
    "        \"dropout_rate\": [0]\n",
    "}\n",
    "fc_op_model = KerasClassifier(build_fn=create_fc_model, verbose=1)\n",
    "fc_op_grid = GridSearchCV(estimator=fc_op_model, param_grid=op_param_grid, n_jobs=-1, cv=3, verbose=2)\n",
    "fc_op_result = fc_op_grid.fit(X_fc_grid, Y_fc_grid)"
   ]
  },
  {
   "cell_type": "code",
   "execution_count": 26,
   "metadata": {},
   "outputs": [
    {
     "name": "stdout",
     "output_type": "stream",
     "text": [
      "Best: 0.01650000906859835 using {'batch_size': 20, 'dropout_rate': 0, 'hidden_dim': 256, 'n_epochs': 500, 'n_hidden_layers': 1, 'optimizer': 'SGD', 'output_activation': 'sigmoid'}\n",
      "        Mean    Standard deviation    batch_size    dropout_rate    hidden_dim    n_epochs    n_hidden_layers  optimizer    output_activation\n",
      "------------  --------------------  ------------  --------------  ------------  ----------  -----------------  -----------  -------------------\n",
      "  0.009499             0.00282436              5               0           256         100                  1  SGD          sigmoid\n",
      "  0.00749775           0.00367056              5               0           256         100                  1  adam         sigmoid\n",
      "nan                  nan                       5               0           256         100                  1  adamax       sigmoid\n",
      "  0.015499             0.00627962              5               0           256         250                  1  SGD          sigmoid\n",
      "  0.00700175           0.00308663              5               0           256         250                  1  adam         sigmoid\n",
      "nan                  nan                       5               0           256         250                  1  adamax       sigmoid\n",
      "  0.015502             0.00464292              5               0           256         500                  1  SGD          sigmoid\n",
      "  0.00800125           0.00187691              5               0           256         500                  1  adam         sigmoid\n",
      "nan                  nan                       5               0           256         500                  1  adamax       sigmoid\n",
      "  0.0159943            0.00918498              5               0           256         750                  1  SGD          sigmoid\n",
      "  0.010999             0.00282384              5               0           256         750                  1  adam         sigmoid\n",
      "nan                  nan                       5               0           256         750                  1  adamax       sigmoid\n",
      "  0.0150023            0.00442362             20               0           256         100                  1  SGD          sigmoid\n",
      "  0.00849875           0.00695964             20               0           256         100                  1  adam         sigmoid\n",
      "nan                  nan                      20               0           256         100                  1  adamax       sigmoid\n",
      "  0.0139945            0.009186               20               0           256         250                  1  SGD          sigmoid\n",
      "  0.0059985            0.00323736             20               0           256         250                  1  adam         sigmoid\n",
      "nan                  nan                      20               0           256         250                  1  adamax       sigmoid\n",
      "  0.0165               0.00734481             20               0           256         500                  1  SGD          sigmoid\n",
      "  0.00600075           0.00122873             20               0           256         500                  1  adam         sigmoid\n",
      "nan                  nan                      20               0           256         500                  1  adamax       sigmoid\n",
      "  0.012003             0.00561931             20               0           256         750                  1  SGD          sigmoid\n",
      "  0.00549875           0.00186789             20               0           256         750                  1  adam         sigmoid\n",
      "nan                  nan                      20               0           256         750                  1  adamax       sigmoid\n",
      "  0.0115025            0.00375082             50               0           256         100                  1  SGD          sigmoid\n",
      "  0.005498             0.00373899             50               0           256         100                  1  adam         sigmoid\n",
      "nan                  nan                      50               0           256         100                  1  adamax       sigmoid\n",
      "  0.012                8.48952e-06            50               0           256         250                  1  SGD          sigmoid\n",
      "  0.00450075           0.00212239             50               0           256         250                  1  adam         sigmoid\n",
      "nan                  nan                      50               0           256         250                  1  adamax       sigmoid\n",
      "  0.0109998            0.000703069            50               0           256         500                  1  SGD          sigmoid\n",
      "  0.0054995            0.00141192             50               0           256         500                  1  adam         sigmoid\n",
      "nan                  nan                      50               0           256         500                  1  adamax       sigmoid\n",
      "  0.0100033            0.00464606             50               0           256         750                  1  SGD          sigmoid\n",
      "  0.0045               0.00244827             50               0           256         750                  1  adam         sigmoid\n",
      "nan                  nan                      50               0           256         750                  1  adamax       sigmoid\n"
     ]
    }
   ],
   "source": [
    "disp_grid(fc_op_result)"
   ]
  },
  {
   "cell_type": "markdown",
   "metadata": {},
   "source": [
    "The results here indicate that the stochastic gradient descent optimizer with a small batch size and 500 epochs will give us the best performance on a testing split. We can now look at using this result to tune the learning rate and momentum parameters, as well as any regularisation\n",
    "\n",
    "### Tuning optimizer parameters and output activation function\n",
    "\n",
    "Now the optimizer hyperamarameters, activation function and regularization can be tuned"
   ]
  },
  {
   "cell_type": "code",
   "execution_count": 27,
   "metadata": {},
   "outputs": [
    {
     "name": "stdout",
     "output_type": "stream",
     "text": [
      "Fitting 3 folds for each of 8 candidates, totalling 24 fits\n"
     ]
    },
    {
     "name": "stderr",
     "output_type": "stream",
     "text": [
      "2021-12-15 01:40:30.009760: I tensorflow/core/grappler/optimizers/custom_graph_optimizer_registry.cc:112] Plugin optimizer for device_type GPU is enabled.\n",
      "2021-12-15 01:40:30.039044: I tensorflow/core/grappler/optimizers/custom_graph_optimizer_registry.cc:112] Plugin optimizer for device_type GPU is enabled.\n",
      "2021-12-15 01:40:30.048017: I tensorflow/core/grappler/optimizers/custom_graph_optimizer_registry.cc:112] Plugin optimizer for device_type GPU is enabled.\n",
      "2021-12-15 01:40:30.075759: I tensorflow/core/grappler/optimizers/custom_graph_optimizer_registry.cc:112] Plugin optimizer for device_type GPU is enabled.\n",
      "2021-12-15 01:40:30.076865: I tensorflow/core/grappler/optimizers/custom_graph_optimizer_registry.cc:112] Plugin optimizer for device_type GPU is enabled.\n",
      "2021-12-15 01:40:30.099265: I tensorflow/core/grappler/optimizers/custom_graph_optimizer_registry.cc:112] Plugin optimizer for device_type GPU is enabled.\n",
      "2021-12-15 01:40:30.099640: I tensorflow/core/grappler/optimizers/custom_graph_optimizer_registry.cc:112] Plugin optimizer for device_type GPU is enabled.\n",
      "2021-12-15 01:40:30.130885: I tensorflow/core/grappler/optimizers/custom_graph_optimizer_registry.cc:112] Plugin optimizer for device_type GPU is enabled.\n"
     ]
    },
    {
     "name": "stdout",
     "output_type": "stream",
     "text": [
      "[CV] END batch_size=50, dropout_rate=0, hidden_dim=256, n_epochs=750, n_hidden_layers=1, optimizer=adam, output_activation=sigmoid; total time=   2.2s\n",
      "  1/267 [..............................] - ETA: 2:48 - loss: 0.6878 - accuracy: 0.0000e+00 - binary_accuracy: 0.5406[CV] END batch_size=50, dropout_rate=0, hidden_dim=256, n_epochs=750, n_hidden_layers=1, optimizer=SGD, output_activation=sigmoid; total time=   2.0s\n",
      "  1/267 [..............................] - ETA: 2:22 - loss: 0.7036 - accuracy: 0.0000e+00 - binary_accuracy: 0.4875[CV] END batch_size=50, dropout_rate=0, hidden_dim=256, n_epochs=750, n_hidden_layers=1, optimizer=adam, output_activation=sigmoid; total time=   2.1s\n",
      "  3/267 [..............................] - ETA: 9s - loss: 0.6880 - accuracy: 0.0000e+00 - binary_accuracy: 0.5375  [CV] END batch_size=50, dropout_rate=0, hidden_dim=256, n_epochs=750, n_hidden_layers=1, optimizer=adam, output_activation=sigmoid; total time=   2.2s\n",
      "  2/267 [..............................] - ETA: 15s - loss: 0.7019 - accuracy: 0.0000e+00 - binary_accuracy: 0.4906 [CV] END batch_size=50, dropout_rate=0, hidden_dim=256, n_epochs=750, n_hidden_layers=1, optimizer=SGD, output_activation=sigmoid; total time=   2.1s\n",
      "  8/267 [..............................] - ETA: 6s - loss: 0.6896 - accuracy: 0.0250 - binary_accuracy: 0.5312[CV] END batch_size=50, dropout_rate=0, hidden_dim=256, n_epochs=500, n_hidden_layers=1, optimizer=adam, output_activation=sigmoid; total time=   2.4s\n",
      "[CV] END batch_size=50, dropout_rate=0, hidden_dim=256, n_epochs=750, n_hidden_layers=1, optimizer=adamax, output_activation=sigmoid; total time=   0.6s\n",
      "[CV] END batch_size=50, dropout_rate=0, hidden_dim=256, n_epochs=750, n_hidden_layers=1, optimizer=adamax, output_activation=sigmoid; total time=   0.7s\n",
      "  1/267 [..............................] - ETA: 3:20 - loss: 0.7036 - accuracy: 0.0000e+00 - binary_accuracy: 0.6938[CV] END batch_size=50, dropout_rate=0, hidden_dim=256, n_epochs=500, n_hidden_layers=1, optimizer=adam, output_activation=sigmoid; total time=   2.4s\n",
      "[CV] END batch_size=50, dropout_rate=0, hidden_dim=256, n_epochs=750, n_hidden_layers=1, optimizer=adamax, output_activation=sigmoid; total time=   0.8s\n",
      "  1/267 [..............................] - ETA: 3:23 - loss: 0.6923 - accuracy: 0.0000e+00 - binary_accuracy: 0.5250[CV] END batch_size=50, dropout_rate=0, hidden_dim=256, n_epochs=750, n_hidden_layers=1, optimizer=SGD, output_activation=sigmoid; total time=   2.1s\n",
      "267/267 [==============================] - 8s 28ms/step - loss: 0.6930 - accuracy: 0.0195 - binary_accuracy: 0.6873\n",
      "267/267 [==============================] - 8s 28ms/step - loss: 0.6994 - accuracy: 0.0195 - binary_accuracy: 0.6990\n",
      "267/267 [==============================] - 8s 29ms/step - loss: 0.6965 - accuracy: 0.0075 - binary_accuracy: 0.5210\n",
      "267/267 [==============================] - 8s 29ms/step - loss: 0.6911 - accuracy: 0.0158 - binary_accuracy: 0.5379\n"
     ]
    },
    {
     "name": "stderr",
     "output_type": "stream",
     "text": [
      "2021-12-15 01:40:38.200768: I tensorflow/core/grappler/optimizers/custom_graph_optimizer_registry.cc:112] Plugin optimizer for device_type GPU is enabled.\n",
      "2021-12-15 01:40:38.269949: I tensorflow/core/grappler/optimizers/custom_graph_optimizer_registry.cc:112] Plugin optimizer for device_type GPU is enabled.\n",
      "2021-12-15 01:40:38.321455: I tensorflow/core/grappler/optimizers/custom_graph_optimizer_registry.cc:112] Plugin optimizer for device_type GPU is enabled.\n",
      "2021-12-15 01:40:38.373186: I tensorflow/core/grappler/optimizers/custom_graph_optimizer_registry.cc:112] Plugin optimizer for device_type GPU is enabled.\n"
     ]
    },
    {
     "name": "stdout",
     "output_type": "stream",
     "text": [
      "267/267 [==============================] - 9s 30ms/step - loss: 0.6843 - accuracy: 0.0060 - binary_accuracy: 0.5525\n",
      "267/267 [==============================] - 9s 29ms/step - loss: 0.6885 - accuracy: 0.0255 - binary_accuracy: 0.7003\n",
      "267/267 [==============================] - 9s 29ms/step - loss: 0.6915 - accuracy: 0.0083 - binary_accuracy: 0.5390\n",
      "267/267 [==============================] - 9s 31ms/step - loss: 0.6879 - accuracy: 0.0128 - binary_accuracy: 0.5398\n",
      "  1/134 [..............................] - ETA: 32s - loss: 0.6685 - accuracy: 0.0000e+00 - binary_accuracy: 0.5844"
     ]
    },
    {
     "name": "stderr",
     "output_type": "stream",
     "text": [
      "2021-12-15 01:40:38.462994: I tensorflow/core/grappler/optimizers/custom_graph_optimizer_registry.cc:112] Plugin optimizer for device_type GPU is enabled.\n",
      "2021-12-15 01:40:38.482579: I tensorflow/core/grappler/optimizers/custom_graph_optimizer_registry.cc:112] Plugin optimizer for device_type GPU is enabled.\n",
      "2021-12-15 01:40:38.513312: I tensorflow/core/grappler/optimizers/custom_graph_optimizer_registry.cc:112] Plugin optimizer for device_type GPU is enabled.\n"
     ]
    },
    {
     "name": "stdout",
     "output_type": "stream",
     "text": [
      "\b\b\b\b\b\b\b\b\b\b\b\b\b\b\b\b\b\b\b\b\b\b\b\b\b\b\b\b\b\b\b\b\b\b\b\b\b\b\b\b\b\b\b\b\b\b\b\b\b\b\b\b\b\b\b\b\b\b\b\b\b\b\b\b\b\b\b\b\b\b\b\b\b\b\b\b\b\b\b\b\b\b\b\b\b\b\b\b\b\b\b\b\b\b\b\b\b\b\b\b\b\b\b\b\b\b\b\b\b\b\b\b\b\b\r",
      "  9/134 [=>............................] - ETA: 3s - loss: 0.6832 - accuracy: 0.0000e+00 - binary_accuracy: 0.7108\b\b\b\b\b\b\b\b\b\b\b\b\b\b\b\b\b\b\b\b\b\b\b\b\b\b\b\b\b\b\b\b\b\b\b\b\b\b\b\b\b\b\b\b\b\b\b\b\b\b\b\b\b\b\b\b\b\b\b\b\b\b\b\b\b\b\b\b\b\b\b\b\b\b\b\b\b\b\b\b\b\b\b\b\b\b\b\b\b\b\b\b\b\b\b\b\b\b\b\b\b\b\b\b\b\b\b\b\b\b\b\b\b\b\b\r",
      "  9/134 [=>............................] - ETA: 0s - loss: 0.6765 - accuracy: 0.0222 - binary_accuracy: 0.5677     \b\b\b\b\b\b\b\b\b\b\b\b\b\b\b\b\b\b\b\b\b\b\b\b\b\b\b\b\b\b\b\b\b\b\b\b\b\b\b\b\b\b\b\b\b\b\b\b\b\b\b\b\b\b\b\b\b\b\b\b\b\b\b\b\b\b\b\b\b\b\b\b\b\b\b\b\b\b\b\b\b\b\b\b\b\b\b\b\b\b\b\b\b\b\b\b\b\b\b\b\b\b\b\b\b\b\b\b\b\b\b\b\b\b\b\r",
      "  3/134 [..............................] - ETA: 11s - loss: 0.6853 - accuracy: 0.0000e+00 - binary_accuracy: 0.5438\b\b\b\b\b\b\b\b\b\b\b\b\b\b\b\b\b\b\b\b\b\b\b\b\b\b\b\b\b\b\b\b\b\b\b\b\b\b\b\b\b\b\b\b\b\b\b\b\b\b\b\b\b\b\b\b\b\b\b\b\b\b\b\b\b\b\b\b\b\b\b\b\b\b\b\b\b\b\b\b\b\b\b\b\b\b\b\b\b\b\b\b\b\b\b\b\b\b\b\b\b\b\b\b\b\b\b\b\b\b\b\b\b\b\r",
      "  3/134 [..............................] - ETA: 10s - loss: 0.6837 - accuracy: 0.0000e+00 - binary_accuracy: 0.5521\b\b\b\b\b\b\b\b\b\b\b\b\b\b\b\b\b\b\b\b\b\b\b\b\b\b\b\b\b\b\b\b\b\b\b\b\b\b\b\b\b\b\b\b\b\b\b\b\b\b\b\b\b\b\b\b\b\b\b\b\b\b\b\b\b\b\b\b\b\b\b\b\b\b\b\b\b\b\b\b\b\b\b\b\b\b\b\b\b\b\b\b\b\b\b\b\b\b\b\b\b\b\b\b\b\b\b\b\b\b\b\b\b\b\b\r",
      "  4/134 [..............................] - ETA: 3s - loss: 0.6803 - accuracy: 0.0500 - binary_accuracy: 0.6687     \b\b\b\b\b\b\b\b\b\b\b\b\b\b\b\b\b\b\b\b\b\b\b\b\b\b\b\b\b\b\b\b\b\b\b\b\b\b\b\b\b\b\b\b\b\b\b\b\b\b\b\b\b\b\b\b\b\b\b\b\b\b\b\b\b\b\b\b\b\b\b\b\b\b\b\b\b\b\b\b\b\b\b\b\b\b\b\b\b\b\b\b\b\b\b\b\b\b\b\b\b\b\b\b\b\b\b\b\b\b\b\b\b\b\r",
      " 18/134 [===>..........................] - ETA: 2s - loss: 0.6830 - accuracy: 0.0111 - binary_accuracy: 0.6962    \b\b\b\b\b\b\b\b\b\b\b\b\b\b\b\b\b\b\b\b\b\b\b\b\b\b\b\b\b\b\b\b\b\b\b\b\b\b\b\b\b\b\b\b\b\b\b\b\b\b\b\b\b\b\b\b\b\b\b\b\b\b\b\b\b\b\b\b\b\b\b\b\b\b\b\b\b\b\b\b\b\b\b\b\b\b\b\b\b\b\b\b\b\b\b\b\b\b\b\b\b\b\b\b\b\b\b\b\b\b\b\b\b\b\b\r",
      "  3/134 [..............................] - ETA: 3s - loss: 0.6844 - accuracy: 0.0000e+00 - binary_accuracy: 0.5542 \b\b\b\b\b\b\b\b\b\b\b\b\b\b\b\b\b\b\b\b\b\b\b\b\b\b\b\b\b\b\b\b\b\b\b\b\b\b\b\b\b\b\b\b\b\b\b\b\b\b\b\b\b\b\b\b\b\b\b\b\b\b\b\b\b\b\b\b\b\b\b\b\b\b\b\b\b\b\b\b\b\b\b\b\b\b\b\b\b\b\b\b\b\b\b\b\b\b\b\b\b\b\b\b\b\b\b\b\b\b\r",
      " 18/134 [===>..........................] - ETA: 0s - loss: 0.6768 - accuracy: 0.0111 - binary_accuracy: 0.5740\b\b\b\b\b\b\b\b\b\b\b\b\b\b\b\b\b\b\b\b\b\b\b\b\b\b\b\b\b\b\b\b\b\b\b\b\b\b\b\b\b\b\b\b\b\b\b\b\b\b\b\b\b\b\b\b\b\b\b\b\b\b\b\b\b\b\b\b\b\b\b\b\b\b\b\b\b\b\b\b\b\b\b\b\b\b\b\b\b\b\b\b\b\b\b\b\b\b\b\b\b\b\b\b\b\b\b\b\b\b\b\b\b\b\b\r",
      "  4/134 [..............................] - ETA: 10s - loss: 0.6820 - accuracy: 0.0000e+00 - binary_accuracy: 0.5609\b\b\b\b\b\b\b\b\b\b\b\b\b\b\b\b\b\b\b\b\b\b\b\b\b\b\b\b\b\b\b\b\b\b\b\b\b\b\b\b\b\b\b\b\b\b\b\b\b\b\b\b\b\b\b\b\b\b\b\b\b\b\b\b\b\b\b\b\b\b\b\b\b\b\b\b\b\b\b\b\b\b\b\b\b\b\b\b\b\b\b\b\b\b\b\b\b\b\b\b\b\b\b\b\b\b\b\b\b\b\r",
      "  5/134 [>.............................] - ETA: 4s - loss: 0.6781 - accuracy: 0.0400 - binary_accuracy: 0.6694\b\b\b\b\b\b\b\b\b\b\b\b\b\b\b\b\b\b\b\b\b\b\b\b\b\b\b\b\b\b\b\b\b\b\b\b\b\b\b\b\b\b\b\b\b\b\b\b\b\b\b\b\b\b\b\b\b\b\b\b\b\b\b\b\b\b\b\b\b\b\b\b\b\b\b\b\b\b\b\b\b\b\b\b\b\b\b\b\b\b\b\b\b\b\b\b\b\b\b\b\b\b\b\b\b\b\b\b\b\b\b\b\b\b\b\r",
      "  4/134 [..............................] - ETA: 10s - loss: 0.6829 - accuracy: 0.0000e+00 - binary_accuracy: 0.5586\b\b\b\b\b\b\b\b\b\b\b\b\b\b\b\b\b\b\b\b\b\b\b\b\b\b\b\b\b\b\b\b\b\b\b\b\b\b\b\b\b\b\b\b\b\b\b\b\b\b\b\b\b\b\b\b\b\b\b\b\b\b\b\b\b\b\b\b\b\b\b\b\b\b\b\b\b\b\b\b\b\b\b\b\b\b\b\b\b\b\b\b\b\b\b\b\b\b\b\b\b\b\b\b\b\b\b\b\b\b\b\b\b\b\r",
      " 11/134 [=>............................] - ETA: 3s - loss: 0.6841 - accuracy: 0.0000e+00 - binary_accuracy: 0.7091\b\b\b\b\b\b\b\b\b\b\b\b\b\b\b\b\b\b\b\b\b\b\b\b\b\b\b\b\b\b\b\b\b\b\b\b\b\b\b\b\b\b\b\b\b\b\b\b\b\b\b\b\b\b\b\b\b\b\b\b\b\b\b\b\b\b\b\b\b\b\b\b\b\b\b\b\b\b\b\b\b\b\b\b\b\b\b\b\b\b\b\b\b\b\b\b\b\b\b\b\b\b\b\b\b\b\b\b\b\b\r",
      " 19/134 [===>..........................] - ETA: 2s - loss: 0.6824 - accuracy: 0.0105 - binary_accuracy: 0.6982\b\b\b\b\b\b\b\b\b\b\b\b\b\b\b\b\b\b\b\b\b\b\b\b\b\b\b\b\b\b\b\b\b\b\b\b\b\b\b\b\b\b\b\b\b\b\b\b\b\b\b\b\b\b\b\b\b\b\b\b\b\b\b\b\b\b\b\b\b\b\b\b\b\b\b\b\b\b\b\b\b\b\b\b\b\b\b\b\b\b\b\b\b\b\b\b\b\b\b\b\b\b\b\b\b\b\b\b\b\b\r",
      " 26/134 [====>.........................] - ETA: 0s - loss: 0.6760 - accuracy: 0.0077 - binary_accuracy: 0.5763\b\b\b\b\b\b\b\b\b\b\b\b\b\b\b\b\b\b\b\b\b\b\b\b\b\b\b\b\b\b\b\b\b\b\b\b\b\b\b\b\b\b\b\b\b\b\b\b\b\b\b\b\b\b\b\b\b\b\b\b\b\b\b\b\b\b\b\b\b\b\b\b\b\b\b\b\b\b\b\b\b\b\b\b\b\b\b\b\b\b\b\b\b\b\b\b\b\b\b\b\b\b\b\b\b\b\b\b\b\b\b\b\b\b\r",
      "  8/134 [>.............................] - ETA: 2s - loss: 0.6789 - accuracy: 0.0000e+00 - binary_accuracy: 0.5785\b\b\b\b\b\b\b\b\b\b\b\b\b\b\b\b\b\b\b\b\b\b\b\b\b\b\b\b\b\b\b\b\b\b\b\b\b\b\b\b\b\b\b\b\b\b\b\b\b\b\b\b\b\b\b\b\b\b\b\b\b\b\b\b\b\b\b\b\b\b\b\b\b\b\b\b\b\b\b\b\b\b\b\b\b\b\b\b\b\b\b\b\b\b\b\b\b\b\b\b\b\b\b\b\b\b\b\b\b\b\b\b\b\b\b\r",
      "  6/134 [>.............................] - ETA: 7s - loss: 0.6819 - accuracy: 0.0000e+00 - binary_accuracy: 0.5635 \b\b\b\b\b\b\b\b\b\b\b\b\b\b\b\b\b\b\b\b\b\b\b\b\b\b\b\b\b\b\b\b\b\b\b\b\b\b\b\b\b\b\b\b\b\b\b\b\b\b\b\b\b\b\b\b\b\b\b\b\b\b\b\b\b\b\b\b\b\b\b\b\b\b\b\b\b\b\b\b\b\b\b\b\b\b\b\b\b\b\b\b\b\b\b\b\b\b\b\b\b\b\b\b\b\b\b\b\b\b\r",
      "  8/134 [>.............................] - ETA: 3s - loss: 0.6805 - accuracy: 0.0250 - binary_accuracy: 0.6691\b\b\b\b\b\b\b\b\b\b\b\b\b\b\b\b\b\b\b\b\b\b\b\b\b\b\b\b\b\b\b\b\b\b\b\b\b\b\b\b\b\b\b\b\b\b\b\b\b\b\b\b\b\b\b\b\b\b\b\b\b\b\b\b\b\b\b\b\b\b\b\b\b\b\b\b\b\b\b\b\b\b\b\b\b\b\b\b\b\b\b\b\b\b\b\b\b\b\b\b\b\b\b\b\b\b\b\b\b\b\b\b\b\b\r",
      " 14/134 [==>...........................] - ETA: 3s - loss: 0.6856 - accuracy: 0.0000e+00 - binary_accuracy: 0.6982\b\b\b\b\b\b\b\b\b\b\b\b\b\b\b\b\b\b\b\b\b\b\b\b\b\b\b\b\b\b\b\b\b\b\b\b\b\b\b\b\b\b\b\b\b\b\b\b\b\b\b\b\b\b\b\b\b\b\b\b\b\b\b\b\b\b\b\b\b\b\b\b\b\b\b\b\b\b\b\b\b\b\b\b\b\b\b\b\b\b\b\b\b\b\b\b\b\b\b\b\b\b\b\b\b\b\b\b\b\b\r",
      " 22/134 [===>..........................] - ETA: 2s - loss: 0.6822 - accuracy: 0.0091 - binary_accuracy: 0.7003\b\b\b\b\b\b\b\b\b\b\b\b\b\b\b\b\b\b\b\b\b\b\b\b\b\b\b\b\b\b\b\b\b\b\b\b\b\b\b\b\b\b\b\b\b\b\b\b\b\b\b\b\b\b\b\b\b\b\b\b\b\b\b\b\b\b\b\b\b\b\b\b\b\b\b\b\b\b\b\b\b\b\b\b\b\b\b\b\b\b\b\b\b\b\b\b\b\b\b\b\b\b\b\b\b\b\b\b\b\b\b\b\b\b\b\r",
      "  8/134 [>.............................] - ETA: 5s - loss: 0.6843 - accuracy: 0.0000e+00 - binary_accuracy: 0.5539 \b\b\b\b\b\b\b\b\b\b\b\b\b\b\b\b\b\b\b\b\b\b\b\b\b\b\b\b\b\b\b\b\b\b\b\b\b\b\b\b\b\b\b\b\b\b\b\b\b\b\b\b\b\b\b\b\b\b\b\b\b\b\b\b\b\b\b\b\b\b\b\b\b\b\b\b\b\b\b\b\b\b\b\b\b\b\b\b\b\b\b\b\b\b\b\b\b\b\b\b\b\b\b\b\b\b\b\b\b\b\b\b\b\b\r",
      " 12/134 [=>............................] - ETA: 2s - loss: 0.6800 - accuracy: 0.0000e+00 - binary_accuracy: 0.5760\b\b\b\b\b\b\b\b\b\b\b\b\b\b\b\b\b\b\b\b\b\b\b\b\b\b\b\b\b\b\b\b\b\b\b\b\b\b\b\b\b\b\b\b\b\b\b\b\b\b\b\b\b\b\b\b\b\b\b\b\b\b\b\b\b\b\b\b\b\b\b\b\b\b\b\b\b\b\b\b\b\b\b\b\b\b\b\b\b\b\b\b\b\b\b\b\b\b\b\b\b\b\b\b\b\b\b\b\b\b\b\b\b\b\r",
      " 10/134 [=>............................] - ETA: 4s - loss: 0.6821 - accuracy: 0.0200 - binary_accuracy: 0.5609    \b\b\b\b\b\b\b\b\b\b\b\b\b\b\b\b\b\b\b\b\b\b\b\b\b\b\b\b\b\b\b\b\b\b\b\b\b\b\b\b\b\b\b\b\b\b\b\b\b\b\b\b\b\b\b\b\b\b\b\b\b\b\b\b\b\b\b\b\b\b\b\b\b\b\b\b\b\b\b\b\b\b\b\b\b\b\b\b\b\b\b\b\b\b\b\b\b\b\b\b\b\b\b\b\b\b\b\b\b\b\r",
      " 29/134 [=====>........................] - ETA: 0s - loss: 0.6766 - accuracy: 0.0069 - binary_accuracy: 0.5755"
     ]
    },
    {
     "name": "stderr",
     "output_type": "stream",
     "text": [
      "2021-12-15 01:40:38.754839: I tensorflow/core/grappler/optimizers/custom_graph_optimizer_registry.cc:112] Plugin optimizer for device_type GPU is enabled.\n"
     ]
    },
    {
     "name": "stdout",
     "output_type": "stream",
     "text": [
      "134/134 [==============================] - 3s 19ms/step - loss: 0.6752 - accuracy: 0.0090 - binary_accuracy: 0.5808\n",
      "134/134 [==============================] - 3s 21ms/step - loss: 0.6856 - accuracy: 0.0195 - binary_accuracy: 0.6887\n",
      "134/134 [==============================] - 3s 20ms/step - loss: 0.6773 - accuracy: 0.0195 - binary_accuracy: 0.6860\n",
      "134/134 [==============================] - 3s 21ms/step - loss: 0.6836 - accuracy: 0.0105 - binary_accuracy: 0.5573\n",
      "134/134 [==============================] - 3s 20ms/step - loss: 0.6810 - accuracy: 0.0060 - binary_accuracy: 0.5651\n",
      "134/134 [==============================] - 3s 22ms/step - loss: 0.6821 - accuracy: 0.0150 - binary_accuracy: 0.5655\n",
      "134/134 [==============================] - 4s 27ms/step - loss: 0.6818 - accuracy: 0.0345 - binary_accuracy: 0.7120\n",
      "134/134 [==============================] - 3s 22ms/step - loss: 0.6766 - accuracy: 0.0150 - binary_accuracy: 0.5743\n"
     ]
    },
    {
     "name": "stderr",
     "output_type": "stream",
     "text": [
      "2021-12-15 01:40:42.064915: I tensorflow/core/grappler/optimizers/custom_graph_optimizer_registry.cc:112] Plugin optimizer for device_type GPU is enabled.\n",
      "2021-12-15 01:40:42.202986: I tensorflow/core/grappler/optimizers/custom_graph_optimizer_registry.cc:112] Plugin optimizer for device_type GPU is enabled.\n",
      "2021-12-15 01:40:42.217093: I tensorflow/core/grappler/optimizers/custom_graph_optimizer_registry.cc:112] Plugin optimizer for device_type GPU is enabled.\n",
      "2021-12-15 01:40:42.369707: I tensorflow/core/grappler/optimizers/custom_graph_optimizer_registry.cc:112] Plugin optimizer for device_type GPU is enabled.\n",
      "2021-12-15 01:40:42.404924: I tensorflow/core/grappler/optimizers/custom_graph_optimizer_registry.cc:112] Plugin optimizer for device_type GPU is enabled.\n",
      "2021-12-15 01:40:42.476599: I tensorflow/core/grappler/optimizers/custom_graph_optimizer_registry.cc:112] Plugin optimizer for device_type GPU is enabled.\n"
     ]
    },
    {
     "name": "stdout",
     "output_type": "stream",
     "text": [
      "[CV] END batch_size=5, dropout_rate=0, hidden_dim=256, n_epochs=750, n_hidden_layers=1, optimizer=SGD, output_activation=sigmoid; total time=  11.5s\n",
      "  3/267 [..............................] - ETA: 15s - loss: 0.7090 - accuracy: 0.0000e+00 - binary_accuracy: 0.4917 [CV] END batch_size=5, dropout_rate=0, hidden_dim=256, n_epochs=750, n_hidden_layers=1, optimizer=SGD, output_activation=softmax; total time=  11.6s\n",
      "  4/267 [..............................] - ETA: 14s - loss: 0.7068 - accuracy: 0.0000e+00 - binary_accuracy: 0.4945[CV] END batch_size=5, dropout_rate=0, hidden_dim=256, n_epochs=750, n_hidden_layers=1, optimizer=SGD, output_activation=softmax; total time=  11.6s\n",
      "  2/267 [..............................] - ETA: 14s - loss: 0.7008 - accuracy: 0.0000e+00 - binary_accuracy: 0.6250 [CV] END batch_size=5, dropout_rate=0, hidden_dim=256, n_epochs=750, n_hidden_layers=1, optimizer=SGD, output_activation=sigmoid; total time=  11.8s\n",
      "  6/267 [..............................] - ETA: 14s - loss: 0.7073 - accuracy: 0.0000e+00 - binary_accuracy: 0.4984[CV] END batch_size=5, dropout_rate=0, hidden_dim=256, n_epochs=750, n_hidden_layers=1, optimizer=SGD, output_activation=sigmoid; total time=  11.7s\n",
      "  8/267 [..............................] - ETA: 8s - loss: 0.7144 - accuracy: 0.0000e+00 - binary_accuracy: 0.6930 "
     ]
    },
    {
     "name": "stderr",
     "output_type": "stream",
     "text": [
      "2021-12-15 01:40:42.727151: I tensorflow/core/grappler/optimizers/custom_graph_optimizer_registry.cc:112] Plugin optimizer for device_type GPU is enabled.\n"
     ]
    },
    {
     "name": "stdout",
     "output_type": "stream",
     "text": [
      " 21/267 [=>............................] - ETA: 5s - loss: 0.7146 - accuracy: 0.0000e+00 - binary_accuracy: 0.6987[CV] END batch_size=5, dropout_rate=0.4, hidden_dim=256, n_epochs=750, n_hidden_layers=1, optimizer=SGD, output_activation=sigmoid; total time=  11.7s\n",
      " 19/267 [=>............................] - ETA: 7s - loss: 0.6983 - accuracy: 0.0105 - binary_accuracy: 0.7018[CV] END batch_size=5, dropout_rate=0, hidden_dim=256, n_epochs=750, n_hidden_layers=1, optimizer=SGD, output_activation=softmax; total time=  12.3s\n",
      " 24/267 [=>............................] - ETA: 8s - loss: 0.6962 - accuracy: 0.0250 - binary_accuracy: 0.5181.533"
     ]
    },
    {
     "name": "stderr",
     "output_type": "stream",
     "text": [
      "2021-12-15 01:40:43.500929: I tensorflow/core/grappler/optimizers/custom_graph_optimizer_registry.cc:112] Plugin optimizer for device_type GPU is enabled.\n"
     ]
    },
    {
     "name": "stdout",
     "output_type": "stream",
     "text": [
      " 61/267 [=====>........................] - ETA: 5s - loss: 0.7131 - accuracy: 0.0098 - binary_accuracy: 0.6989[CV] END batch_size=5, dropout_rate=0.4, hidden_dim=256, n_epochs=750, n_hidden_layers=1, optimizer=SGD, output_activation=sigmoid; total time=  12.3s\n",
      "267/267 [==============================] - 8s 28ms/step - loss: 0.6886 - accuracy: 0.0120 - binary_accuracy: 0.6873\n",
      "267/267 [==============================] - 8s 29ms/step - loss: 0.6953 - accuracy: 0.0090 - binary_accuracy: 0.5240\n",
      "267/267 [==============================] - 8s 29ms/step - loss: 0.6967 - accuracy: 0.0083 - binary_accuracy: 0.6990\n",
      "265/267 [============================>.] - ETA: 0s - loss: 0.7023 - accuracy: 0.0098 - binary_accuracy: 0.7005"
     ]
    },
    {
     "name": "stderr",
     "output_type": "stream",
     "text": [
      "2021-12-15 01:40:50.331743: I tensorflow/core/grappler/optimizers/custom_graph_optimizer_registry.cc:112] Plugin optimizer for device_type GPU is enabled.\n"
     ]
    },
    {
     "name": "stdout",
     "output_type": "stream",
     "text": [
      "\b\b\b\b\b\b\b\b\b\b\b\b\b\b\b\b\b\b\b\b\b\b\b\b\b\b\b\b\b\b\b\b\b\b\b\b\b\b\b\b\b\b\b\b\b\b\b\b\b\b\b\b\b\b\b\b\b\b\b\b\b\b\b\b\b\b\b\b\b\b\b\b\b\b\b\b\b\b\b\b\b\b\b\b\b\b\b\b\b\b\b\b\b\b\b\b\b\b\b\b\b\b\b\b\b\b\b\b\b\b\r",
      "225/267 [========================>.....] - ETA: 1s - loss: 0.7032 - accuracy: 0.0160 - binary_accuracy: 0.6989\b\b\b\b\b\b\b\b\b\b\b\b\b\b\b\b\b\b\b\b\b\b\b\b\b\b\b\b\b\b\b\b\b\b\b\b\b\b\b\b\b\b\b\b\b\b\b\b\b\b\b\b\b\b\b\b\b\b\b\b\b\b\b\b\b\b\b\b\b\b\b\b\b\b\b\b\b\b\b\b\b\b\b\b\b\b\b\b\b\b\b\b\b\b\b\b\b\b\b\b\b\b\b\b\b\b\b\b\b\b\r",
      "266/267 [============================>.] - ETA: 0s - loss: 0.6888 - accuracy: 0.0113 - binary_accuracy: 0.5493\b\b\b\b\b\b\b\b\b\b\b\b\b\b\b\b\b\b\b\b\b\b\b\b\b\b\b\b\b\b\b\b\b\b\b\b\b\b\b\b\b\b\b\b\b\b\b\b\b\b\b\b\b\b\b\b\b\b\b\b\b\b\b\b\b\b\b\b\b\b\b\b\b\b\b\b\b\b\b\b\b\b\b\b\b\b\b\b\b\b\b\b\b\b\b\b\b\b\b\b\b\b\b\b\b\b\b\b\b\b\r",
      "254/267 [===========================>..] - ETA: 0s - loss: 0.6874 - accuracy: 0.0157 - binary_accuracy: 0.5455\b\b\b\b\b\b\b\b\b\b\b\b\b\b\b\b\b\b\b\b\b\b\b\b\b\b\b\b\b\b\b\b\b\b\b\b\b\b\b\b\b\b\b\b\b\b\b\b\b\b\b\b\b\b\b\b\b\b\b\b\b\b\b\b\b\b\b\b\b\b\b\b\b\b\b\b\b\b\b\b\b\b\b\b\b\b\b\b\b\b\b\b\b\b\b\b\b\b\b\b\b\b\b\b\b\b\b\b\b\b\r",
      "263/267 [============================>.] - ETA: 0s - loss: 0.6883 - accuracy: 0.0160 - binary_accuracy: 0.5472\b\b\b\b\b\b\b\b\b\b\b\b\b\b\b\b\b\b\b\b\b\b\b\b\b\b\b\b\b\b\b\b\b\b\b\b\b\b\b\b\b\b\b\b\b\b\b\b\b\b\b\b\b\b\b\b\b\b\b\b\b\b\b\b\b\b\b\b\b\b\b\b\b\b\b\b\b\b\b\b\b\b\b\b\b\b\b\b\b\b\b\b\b\b\b\b\b\b\b\b\b\b\b\b\b\b\b\b\b\b\r",
      "228/267 [========================>.....] - ETA: 1s - loss: 0.7030 - accuracy: 0.0167 - binary_accuracy: 0.6992\b\b\b\b\b\b\b\b\b\b\b\b\b\b\b\b\b\b\b\b\b\b\b\b\b\b\b\b\b\b\b\b\b\b\b\b\b\b\b\b\b\b\b\b\b\b\b\b\b\b\b\b\b\b\b\b\b\b\b\b\b\b\b\b\b\b\b\b\b\b\b\b\b\b\b\b\b\b\b\b\b\b\b\b\b\b\b\b\b\b\b\b\b\b\b\b\b\b\b\b\b\b\b\b\b\b\b\b\b\b\r",
      "256/267 [===========================>..] - ETA: 0s - loss: 0.6872 - accuracy: 0.0156 - binary_accuracy: 0.5459\r",
      "  1/134 [..............................] - ETA: 44s - loss: 0.6811 - accuracy: 0.0000e+00 - binary_accuracy: 0.6219\b\b\b\b\b\b\b\b\b\b\b\b\b\b\b\b\b\b\b\b\b\b\b\b\b\b\b\b\b\b\b\b\b\b\b\b\b\b\b\b\b\b\b\b\b\b\b\b\b\b\b\b\b\b\b\b\b\b\b\b\b\b\b\b\b\b\b\b\b\b\b\b\b\b\b\b\b\b\b\b\b\b\b\b\b\b\b\b\b\b\b\b\b\b\b\b\b\b\b\b\b\b\b\b\b\b\b\b\b\b\r",
      "258/267 [===========================>..] - ETA: 0s - loss: 0.6872 - accuracy: 0.0155 - binary_accuracy: 0.5459\b\b\b\b\b\b\b\b\b\b\b\b\b\b\b\b\b\b\b\b\b\b\b\b\b\b\b\b\b\b\b\b\b\b\b\b\b\b\b\b\b\b\b\b\b\b\b\b\b\b\b\b\b\b\b\b\b\b\b\b\b\b\b\b\b\b\b\b\b\b\b\b\b\b\b\b\b\b\b\b\b\b\b\b\b\b\b\b\b\b\b\b\b\b\b\b\b\b\b\b\b\b\b\b\b\b\b\b\b\b\r",
      "230/267 [========================>.....] - ETA: 1s - loss: 0.7030 - accuracy: 0.0165 - binary_accuracy: 0.6984\b\b\b\b\b\b\b\b\b\b\b\b\b\b\b\b\b\b\b\b\b\b\b\b\b\b\b\b\b\b\b\b\b\b\b\b\b\b\b\b\b\b\b\b\b\b\b\b\b\b\b\b\b\b\b\b\b\b\b\b\b\b\b\b\b\b\b\b\b\b\b\b\b\b\b\b\b\b\b\b\b\b\b\b\b\b\b\b\b\b\b\b\b\b\b\b\b\b\b\b\b\b\b\b\b\b\b\b\b\b\r",
      "261/267 [============================>.] - ETA: 0s - loss: 0.6871 - accuracy: 0.0153 - binary_accuracy: 0.5463\b\b\b\b\b\b\b\b\b\b\b\b\b\b\b\b\b\b\b\b\b\b\b\b\b\b\b\b\b\b\b\b\b\b\b\b\b\b\b\b\b\b\b\b\b\b\b\b\b\b\b\b\b\b\b\b\b\b\b\b\b\b\b\b\b\b\b\b\b\b\b\b\b\b\b\b\b\b\b\b\b\b\b\b\b\b\b\b\b\b\b\b\b\b\b\b\b\b\b\b\b\b\b\b\b\b\b\b\b\b\r",
      "267/267 [==============================] - ETA: 0s - loss: 0.7021 - accuracy: 0.0105 - binary_accuracy: 0.7003\b\b\b\b\b\b\b\b\b\b\b\b\b\b\b\b\b\b\b\b\b\b\b\b\b\b\b\b\b\b\b\b\b\b\b\b\b\b\b\b\b\b\b\b\b\b\b\b\b\b\b\b\b\b\b\b\b\b\b\b\b\b\b\b\b\b\b\b\b\b\b\b\b\b\b\b\b\b\b\b\b\b\b\b\b\b\b\b\b\b\b\b\b\b\b\b\b\b\b\b\b\b\b\b\b\b\b\b\b\b\r",
      "267/267 [==============================] - 9s 30ms/step - loss: 0.7021 - accuracy: 0.0105 - binary_accuracy: 0.7003\n",
      "\r",
      "  1/134 [..............................] - ETA: 50s - loss: 0.6904 - accuracy: 0.0000e+00 - binary_accuracy: 0.5375\b\b\b\b\b\b\b\b\b\b\b\b\b\b\b\b\b\b\b\b\b\b\b\b\b\b\b\b\b\b\b\b\b\b\b\b\b\b\b\b\b\b\b\b\b\b\b\b\b\b\b\b\b\b\b\b\b\b\b\b\b\b\b\b\b\b\b\b\b\b\b\b\b\b\b\b\b\b\b\b\b\b\b\b\b\b\b\b\b\b\b\b\b\b\b\b\b\b\b\b\b\b\b\b\b\b\b\b\b\b\b\b\b\b\b\r",
      "  5/134 [>.............................] - ETA: 2s - loss: 0.6754 - accuracy: 0.0000e+00 - binary_accuracy: 0.7006 \b\b\b\b\b\b\b\b\b\b\b\b\b\b\b\b\b\b\b\b\b\b\b\b\b\b\b\b\b\b\b\b\b\b\b\b\b\b\b\b\b\b\b\b\b\b\b\b\b\b\b\b\b\b\b\b\b\b\b\b\b\b\b\b\b\b\b\b\b\b\b\b\b\b\b\b\b\b\b\b\b\b\b\b\b\b\b\b\b\b\b\b\b\b\b\b\b\b\b\b\b\b\b\b\b\b\b\b\b\b\r",
      "232/267 [=========================>....] - ETA: 0s - loss: 0.7030 - accuracy: 0.0164 - binary_accuracy: 0.6981"
     ]
    },
    {
     "name": "stderr",
     "output_type": "stream",
     "text": [
      "2021-12-15 01:40:50.536823: I tensorflow/core/grappler/optimizers/custom_graph_optimizer_registry.cc:112] Plugin optimizer for device_type GPU is enabled.\n"
     ]
    },
    {
     "name": "stdout",
     "output_type": "stream",
     "text": [
      "\b\b\b\b\b\b\b\b\b\b\b\b\b\b\b\b\b\b\b\b\b\b\b\b\b\b\b\b\b\b\b\b\b\b\b\b\b\b\b\b\b\b\b\b\b\b\b\b\b\b\b\b\b\b\b\b\b\b\b\b\b\b\b\b\b\b\b\b\b\b\b\b\b\b\b\b\b\b\b\b\b\b\b\b\b\b\b\b\b\b\b\b\b\b\b\b\b\b\b\b\b\b\b\b\b\b\b\b\b\b\r",
      "267/267 [==============================] - ETA: 0s - loss: 0.6881 - accuracy: 0.0158 - binary_accuracy: 0.5476\b\b\b\b\b\b\b\b\b\b\b\b\b\b\b\b\b\b\b\b\b\b\b\b\b\b\b\b\b\b\b\b\b\b\b\b\b\b\b\b\b\b\b\b\b\b\b\b\b\b\b\b\b\b\b\b\b\b\b\b\b\b\b\b\b\b\b\b\b\b\b\b\b\b\b\b\b\b\b\b\b\b\b\b\b\b\b\b\b\b\b\b\b\b\b\b\b\b\b\b\b\b\b\b\b\b\b\b\b\b\r",
      "267/267 [==============================] - 9s 29ms/step - loss: 0.6881 - accuracy: 0.0158 - binary_accuracy: 0.5476\n",
      "\b\b\b\b\b\b\b\b\b\b\b\b\b\b\b\b\b\b\b\b\b\b\b\b\b\b\b\b\b\b\b\b\b\b\b\b\b\b\b\b\b\b\b\b\b\b\b\b\b\b\b\b\b\b\b\b\b\b\b\b\b\b\b\b\b\b\b\b\b\b\b\b\b\b\b\b\b\b\b\b\b\b\b\b\b\b\b\b\b\b\b\b\b\b\b\b\b\b\b\b\b\b\b\b\b\b\b\b\b\b\r",
      "264/267 [============================>.] - ETA: 0s - loss: 0.6869 - accuracy: 0.0152 - binary_accuracy: 0.5466\b\b\b\b\b\b\b\b\b\b\b\b\b\b\b\b\b\b\b\b\b\b\b\b\b\b\b\b\b\b\b\b\b\b\b\b\b\b\b\b\b\b\b\b\b\b\b\b\b\b\b\b\b\b\b\b\b\b\b\b\b\b\b\b\b\b\b\b\b\b\b\b\b\b\b\b\b\b\b\b\b\b\b\b\b\b\b\b\b\b\b\b\b\b\b\b\b\b\b\b\b\b\b\b\b\b\b\b\b\b\b\b\b\b\r",
      " 10/134 [=>............................] - ETA: 1s - loss: 0.6818 - accuracy: 0.0000e+00 - binary_accuracy: 0.6928\b\b\b\b\b\b\b\b\b\b\b\b\b\b\b\b\b\b\b\b\b\b\b\b\b\b\b\b\b\b\b\b\b\b\b\b\b\b\b\b\b\b\b\b\b\b\b\b\b\b\b\b\b\b\b\b\b\b\b\b\b\b\b\b\b\b\b\b\b\b\b\b\b\b\b\b\b\b\b\b\b\b\b\b\b\b\b\b\b\b\b\b\b\b\b\b\b\b\b\b\b\b\b\b\b\b\b\b\b\b\r",
      "234/267 [=========================>....] - ETA: 0s - loss: 0.7029 - accuracy: 0.0162 - binary_accuracy: 0.6982\b\b\b\b\b\b\b\b\b\b\b\b\b\b\b\b\b\b\b\b\b\b\b\b\b\b\b\b\b\b\b\b\b\b\b\b\b\b\b\b\b\b\b\b\b\b\b\b\b\b\b\b\b\b\b\b\b\b\b\b\b\b\b\b\b\b\b\b\b\b\b\b\b\b\b\b\b\b\b\b\b\b\b\b\b\b\b\b\b\b\b\b\b\b\b\b\b\b\b\b\b\b\b\b\b\b\b\b\b\b\b\b\b\b\b\r",
      "  3/134 [..............................] - ETA: 4s - loss: 0.6844 - accuracy: 0.0000e+00 - binary_accuracy: 0.5583 \b\b\b\b\b\b\b\b\b\b\b\b\b\b\b\b\b\b\b\b\b\b\b\b\b\b\b\b\b\b\b\b\b\b\b\b\b\b\b\b\b\b\b\b\b\b\b\b\b\b\b\b\b\b\b\b\b\b\b\b\b\b\b\b\b\b\b\b\b\b\b\b\b\b\b\b\b\b\b\b\b\b\b\b\b\b\b\b\b\b\b\b\b\b\b\b\b\b\b\b\b\b\b\b\b\b\b\b\b\b\r",
      "267/267 [==============================] - ETA: 0s - loss: 0.6888 - accuracy: 0.0112 - binary_accuracy: 0.5493\b\b\b\b\b\b\b\b\b\b\b\b\b\b\b\b\b\b\b\b\b\b\b\b\b\b\b\b\b\b\b\b\b\b\b\b\b\b\b\b\b\b\b\b\b\b\b\b\b\b\b\b\b\b\b\b\b\b\b\b\b\b\b\b\b\b\b\b\b\b\b\b\b\b\b\b\b\b\b\b\b\b\b\b\b\b\b\b\b\b\b\b\b\b\b\b\b\b\b\b\b\b\b\b\b\b\b\b\b\b\r",
      "267/267 [==============================] - 8s 28ms/step - loss: 0.6888 - accuracy: 0.0112 - binary_accuracy: 0.5493\n",
      "\b\b\b\b\b\b\b\b\b\b\b\b\b\b\b\b\b\b\b\b\b\b\b\b\b\b\b\b\b\b\b\b\b\b\b\b\b\b\b\b\b\b\b\b\b\b\b\b\b\b\b\b\b\b\b\b\b\b\b\b\b\b\b\b\b\b\b\b\b\b\b\b\b\b\b\b\b\b\b\b\b\b\b\b\b\b\b\b\b\b\b\b\b\b\b\b\b\b\b\b\b\b\b\b\b\b\b\b\b\b\r",
      "236/267 [=========================>....] - ETA: 0s - loss: 0.7028 - accuracy: 0.0169 - binary_accuracy: 0.6980\b\b\b\b\b\b\b\b\b\b\b\b\b\b\b\b\b\b\b\b\b\b\b\b\b\b\b\b\b\b\b\b\b\b\b\b\b\b\b\b\b\b\b\b\b\b\b\b\b\b\b\b\b\b\b\b\b\b\b\b\b\b\b\b\b\b\b\b\b\b\b\b\b\b\b\b\b\b\b\b\b\b\b\b\b\b\b\b\b\b\b\b\b\b\b\b\b\b\b\b\b\b\b\b\b\b\b\b\b\b\b\b\b\b\r",
      " 14/134 [==>...........................] - ETA: 1s - loss: 0.6812 - accuracy: 0.0000e+00 - binary_accuracy: 0.6819\b\b\b\b\b\b\b\b\b\b\b\b\b\b\b\b\b\b\b\b\b\b\b\b\b\b\b\b\b\b\b\b\b\b\b\b\b\b\b\b\b\b\b\b\b\b\b\b\b\b\b\b\b\b\b\b\b\b\b\b\b\b\b\b\b\b\b\b\b\b\b\b\b\b\b\b\b\b\b\b\b\b\b\b\b\b\b\b\b\b\b\b\b\b\b\b\b\b\b\b\b\b\b\b\b\b\b\b\b\b\b\b\b\b\r",
      "  9/134 [=>............................] - ETA: 2s - loss: 0.6855 - accuracy: 0.0000e+00 - binary_accuracy: 0.5639\b\b\b\b\b\b\b\b\b\b\b\b\b\b\b\b\b\b\b\b\b\b\b\b\b\b\b\b\b\b\b\b\b\b\b\b\b\b\b\b\b\b\b\b\b\b\b\b\b\b\b\b\b\b\b\b\b\b\b\b\b\b\b\b\b\b\b\b\b\b\b\b\b\b\b\b\b\b\b\b\b\b\b\b\b\b\b\b\b\b\b\b\b\b\b\b\b\b\b\b\b\b\b\b\b\b\b\b\b\b\b\b\b\b\r",
      " 18/134 [===>..........................] - ETA: 1s - loss: 0.6813 - accuracy: 0.0000e+00 - binary_accuracy: 0.6962\b\b\b\b\b\b\b\b\b\b\b\b\b\b\b\b\b\b\b\b\b\b\b\b\b\b\b\b\b\b\b\b\b\b\b\b\b\b\b\b\b\b\b\b\b\b\b\b\b\b\b\b\b\b\b\b\b\b\b\b\b\b\b\b\b\b\b\b\b\b\b\b\b\b\b\b\b\b\b\b\b\b\b\b\b\b\b\b\b\b\b\b\b\b\b\b\b\b\b\b\b\b\b\b\b\b\b\b\b\b\r",
      "240/267 [=========================>....] - ETA: 0s - loss: 0.7025 - accuracy: 0.0175 - binary_accuracy: 0.6988\b\b\b\b\b\b\b\b\b\b\b\b\b\b\b\b\b\b\b\b\b\b\b\b\b\b\b\b\b\b\b\b\b\b\b\b\b\b\b\b\b\b\b\b\b\b\b\b\b\b\b\b\b\b\b\b\b\b\b\b\b\b\b\b\b\b\b\b\b\b\b\b\b\b\b\b\b\b\b\b\b\b\b\b\b\b\b\b\b\b\b\b\b\b\b\b\b\b\b\b\b\b\b\b\b\b\b\b\b\b\b\b\b\b\r",
      " 15/134 [==>...........................] - ETA: 1s - loss: 0.6870 - accuracy: 0.0000e+00 - binary_accuracy: 0.5535\b\b\b\b\b\b\b\b\b\b\b\b\b\b\b\b\b\b\b\b\b\b\b\b\b\b\b\b\b\b\b\b\b\b\b\b\b\b\b\b\b\b\b\b\b\b\b\b\b\b\b\b\b\b\b\b\b\b\b\b\b\b\b\b\b\b\b\b\b\b\b\b\b\b\b\b\b\b\b\b\b\b\b\b\b\b\b\b\b\b\b\b\b\b\b\b\b\b\b\b\b\b\b\b\b\b\b\b\b\b\r",
      "267/267 [==============================] - ETA: 0s - loss: 0.6868 - accuracy: 0.0150 - binary_accuracy: 0.5468\b\b\b\b\b\b\b\b\b\b\b\b\b\b\b\b\b\b\b\b\b\b\b\b\b\b\b\b\b\b\b\b\b\b\b\b\b\b\b\b\b\b\b\b\b\b\b\b\b\b\b\b\b\b\b\b\b\b\b\b\b\b\b\b\b\b\b\b\b\b\b\b\b\b\b\b\b\b\b\b\b\b\b\b\b\b\b\b\b\b\b\b\b\b\b\b\b\b\b\b\b\b\b\b\b\b\b\b\b\b\r",
      "267/267 [==============================] - 9s 30ms/step - loss: 0.6868 - accuracy: 0.0150 - binary_accuracy: 0.5468\n"
     ]
    },
    {
     "name": "stderr",
     "output_type": "stream",
     "text": [
      "2021-12-15 01:40:50.764569: I tensorflow/core/grappler/optimizers/custom_graph_optimizer_registry.cc:112] Plugin optimizer for device_type GPU is enabled.\n",
      "2021-12-15 01:40:50.881577: I tensorflow/core/grappler/optimizers/custom_graph_optimizer_registry.cc:112] Plugin optimizer for device_type GPU is enabled.\n",
      "2021-12-15 01:40:50.890960: I tensorflow/core/grappler/optimizers/custom_graph_optimizer_registry.cc:112] Plugin optimizer for device_type GPU is enabled.\n"
     ]
    },
    {
     "name": "stdout",
     "output_type": "stream",
     "text": [
      "\b\b\b\b\b\b\b\b\b\b\b\b\b\b\b\b\b\b\b\b\b\b\b\b\b\b\b\b\b\b\b\b\b\b\b\b\b\b\b\b\b\b\b\b\b\b\b\b\b\b\b\b\b\b\b\b\b\b\b\b\b\b\b\b\b\b\b\b\b\b\b\b\b\b\b\b\b\b\b\b\b\b\b\b\b\b\b\b\b\b\b\b\b\b\b\b\b\b\b\b\b\b\b\b\b\b\b\b\b\b\b\b\b\b\r",
      " 20/134 [===>..........................] - ETA: 1s - loss: 0.6804 - accuracy: 0.0000e+00 - binary_accuracy: 0.6978\b\b\b\b\b\b\b\b\b\b\b\b\b\b\b\b\b\b\b\b\b\b\b\b\b\b\b\b\b\b\b\b\b\b\b\b\b\b\b\b\b\b\b\b\b\b\b\b\b\b\b\b\b\b\b\b\b\b\b\b\b\b\b\b\b\b\b\b\b\b\b\b\b\b\b\b\b\b\b\b\b\b\b\b\b\b\b\b\b\b\b\b\b\b\b\b\b\b\b\b\b\b\b\b\b\b\b\b\b\b\r",
      "243/267 [==========================>...] - ETA: 0s - loss: 0.7023 - accuracy: 0.0173 - binary_accuracy: 0.6991\b\b\b\b\b\b\b\b\b\b\b\b\b\b\b\b\b\b\b\b\b\b\b\b\b\b\b\b\b\b\b\b\b\b\b\b\b\b\b\b\b\b\b\b\b\b\b\b\b\b\b\b\b\b\b\b\b\b\b\b\b\b\b\b\b\b\b\b\b\b\b\b\b\b\b\b\b\b\b\b\b\b\b\b\b\b\b\b\b\b\b\b\b\b\b\b\b\b\b\b\b\b\b\b\b\b\b\b\b\b\b\b\b\b\r",
      " 17/134 [==>...........................] - ETA: 1s - loss: 0.6860 - accuracy: 0.0000e+00 - binary_accuracy: 0.5563\b\b\b\b\b\b\b\b\b\b\b\b\b\b\b\b\b\b\b\b\b\b\b\b\b\b\b\b\b\b\b\b\b\b\b\b\b\b\b\b\b\b\b\b\b\b\b\b\b\b\b\b\b\b\b\b\b\b\b\b\b\b\b\b\b\b\b\b\b\b\b\b\b\b\b\b\b\b\b\b\b\b\b\b\b\b\b\b\b\b\b\b\b\b\b\b\b\b\b\b\b\b\b\b\b\b\b\b\b\b\b\b\b\b\r",
      " 25/134 [====>.........................] - ETA: 1s - loss: 0.6798 - accuracy: 0.0000e+00 - binary_accuracy: 0.7068\b\b\b\b\b\b\b\b\b\b\b\b\b\b\b\b\b\b\b\b\b\b\b\b\b\b\b\b\b\b\b\b\b\b\b\b\b\b\b\b\b\b\b\b\b\b\b\b\b\b\b\b\b\b\b\b\b\b\b\b\b\b\b\b\b\b\b\b\b\b\b\b\b\b\b\b\b\b\b\b\b\b\b\b\b\b\b\b\b\b\b\b\b\b\b\b\b\b\b\b\b\b\b\b\b\b\b\b\b\b\b\b\b\b\r",
      " 21/134 [===>..........................] - ETA: 1s - loss: 0.6843 - accuracy: 0.0095 - binary_accuracy: 0.5615    \r",
      "  1/134 [..............................] - ETA: 1:22 - loss: 0.6919 - accuracy: 0.2000 - binary_accuracy: 0.6906\b\b\b\b\b\b\b\b\b\b\b\b\b\b\b\b\b\b\b\b\b\b\b\b\b\b\b\b\b\b\b\b\b\b\b\b\b\b\b\b\b\b\b\b\b\b\b\b\b\b\b\b\b\b\b\b\b\b\b\b\b\b\b\b\b\b\b\b\b\b\b\b\b\b\b\b\b\b\b\b\b\b\b\b\b\b\b\b\b\b\b\b\b\b\b\b\b\b\b\b\b\b\b\b\b\b\b\b\b\b\r",
      "246/267 [==========================>...] - ETA: 0s - loss: 0.7021 - accuracy: 0.0171 - binary_accuracy: 0.6988\b\b\b\b\b\b\b\b\b\b\b\b\b\b\b\b\b\b\b\b\b\b\b\b\b\b\b\b\b\b\b\b\b\b\b\b\b\b\b\b\b\b\b\b\b\b\b\b\b\b\b\b\b\b\b\b\b\b\b\b\b\b\b\b\b\b\b\b\b\b\b\b\b\b\b\b\b\b\b\b\b\b\b\b\b\b\b\b\b\b\b\b\b\b\b\b\b\b\b\b\b\b\b\b\b\b\b\b\b\b\b\b\b\b\r",
      " 29/134 [=====>........................] - ETA: 1s - loss: 0.6795 - accuracy: 0.0000e+00 - binary_accuracy: 0.7091\b\b\b\b\b\b\b\b\b\b\b\b\b\b\b\b\b\b\b\b\b\b\b\b\b\b\b\b\b\b\b\b\b\b\b\b\b\b\b\b\b\b\b\b\b\b\b\b\b\b\b\b\b\b\b\b\b\b\b\b\b\b\b\b\b\b\b\b\b\b\b\b\b\b\b\b\b\b\b\b\b\b\b\b\b\b\b\b\b\b\b\b\b\b\b\b\b\b\b\b\b\b\b\b\b\b\b\b\b\b\r",
      " 24/134 [====>.........................] - ETA: 1s - loss: 0.6848 - accuracy: 0.0083 - binary_accuracy: 0.5604\b\b\b\b\b\b\b\b\b\b\b\b\b\b\b\b\b\b\b\b\b\b\b\b\b\b\b\b\b\b\b\b\b\b\b\b\b\b\b\b\b\b\b\b\b\b\b\b\b\b\b\b\b\b\b\b\b\b\b\b\b\b\b\b\b\b\b\b\b\b\b\b\b\b\b\b\b\b\b\b\b\b\b\b\b\b\b\b\b\b\b\b\b\b\b\b\b\b\b\b\b\b\b\b\b\b\b\b\b\b\b\b\r",
      "  3/134 [..............................] - ETA: 4s - loss: 0.6851 - accuracy: 0.0667 - binary_accuracy: 0.6802  \b\b\b\b\b\b\b\b\b\b\b\b\b\b\b\b\b\b\b\b\b\b\b\b\b\b\b\b\b\b\b\b\b\b\b\b\b\b\b\b\b\b\b\b\b\b\b\b\b\b\b\b\b\b\b\b\b\b\b\b\b\b\b\b\b\b\b\b\b\b\b\b\b\b\b\b\b\b\b\b\b\b\b\b\b\b\b\b\b\b\b\b\b\b\b\b\b\b\b\b\b\b\b\b\b\b\b\b\b\b\r",
      "249/267 [==========================>...] - ETA: 0s - loss: 0.7020 - accuracy: 0.0169 - binary_accuracy: 0.6985\r",
      "  1/134 [..............................] - ETA: 37s - loss: 0.6934 - accuracy: 0.0000e+00 - binary_accuracy: 0.5281\r",
      "  1/134 [..............................] - ETA: 46s - loss: 0.6783 - accuracy: 0.0000e+00 - binary_accuracy: 0.6250\b\b\b\b\b\b\b\b\b\b\b\b\b\b\b\b\b\b\b\b\b\b\b\b\b\b\b\b\b\b\b\b\b\b\b\b\b\b\b\b\b\b\b\b\b\b\b\b\b\b\b\b\b\b\b\b\b\b\b\b\b\b\b\b\b\b\b\b\b\b\b\b\b\b\b\b\b\b\b\b\b\b\b\b\b\b\b\b\b\b\b\b\b\b\b\b\b\b\b\b\b\b\b\b\b\b\b\b\b\b\b\b\b\b\r",
      " 32/134 [======>.......................] - ETA: 1s - loss: 0.6795 - accuracy: 0.0000e+00 - binary_accuracy: 0.7130\b\b\b\b\b\b\b\b\b\b\b\b\b\b\b\b\b\b\b\b\b\b\b\b\b\b\b\b\b\b\b\b\b\b\b\b\b\b\b\b\b\b\b\b\b\b\b\b\b\b\b\b\b\b\b\b\b\b\b\b\b\b\b\b\b\b\b\b\b\b\b\b\b\b\b\b\b\b\b\b\b\b\b\b\b\b\b\b\b\b\b\b\b\b\b\b\b\b\b\b\b\b\b\b\b\b\b\b\b\b\r",
      "251/267 [===========================>..] - ETA: 0s - loss: 0.7019 - accuracy: 0.0167 - binary_accuracy: 0.6985\b\b\b\b\b\b\b\b\b\b\b\b\b\b\b\b\b\b\b\b\b\b\b\b\b\b\b\b\b\b\b\b\b\b\b\b\b\b\b\b\b\b\b\b\b\b\b\b\b\b\b\b\b\b\b\b\b\b\b\b\b\b\b\b\b\b\b\b\b\b\b\b\b\b\b\b\b\b\b\b\b\b\b\b\b\b\b\b\b\b\b\b\b\b\b\b\b\b\b\b\b\b\b\b\b\b\b\b\b\b\r",
      "  5/134 [>.............................] - ETA: 4s - loss: 0.6855 - accuracy: 0.0400 - binary_accuracy: 0.7325\b\b\b\b\b\b\b\b\b\b\b\b\b\b\b\b\b\b\b\b\b\b\b\b\b\b\b\b\b\b\b\b\b\b\b\b\b\b\b\b\b\b\b\b\b\b\b\b\b\b\b\b\b\b\b\b\b\b\b\b\b\b\b\b\b\b\b\b\b\b\b\b\b\b\b\b\b\b\b\b\b\b\b\b\b\b\b\b\b\b\b\b\b\b\b\b\b\b\b\b\b\b\b\b\b\b\b\b\b\b\r",
      " 26/134 [====>.........................] - ETA: 1s - loss: 0.6832 - accuracy: 0.0077 - binary_accuracy: 0.5633"
     ]
    },
    {
     "name": "stderr",
     "output_type": "stream",
     "text": [
      "2021-12-15 01:40:51.060553: I tensorflow/core/grappler/optimizers/custom_graph_optimizer_registry.cc:112] Plugin optimizer for device_type GPU is enabled.\n",
      "2021-12-15 01:40:51.148633: I tensorflow/core/grappler/optimizers/custom_graph_optimizer_registry.cc:112] Plugin optimizer for device_type GPU is enabled.\n"
     ]
    },
    {
     "name": "stdout",
     "output_type": "stream",
     "text": [
      "267/267 [==============================] - 9s 27ms/step - loss: 0.7012 - accuracy: 0.0165 - binary_accuracy: 0.6990\n",
      " 68/134 [==============>...............] - ETA: 1s - loss: 0.6781 - accuracy: 0.0059 - binary_accuracy: 0.71525786"
     ]
    },
    {
     "name": "stderr",
     "output_type": "stream",
     "text": [
      "2021-12-15 01:40:51.602814: I tensorflow/core/grappler/optimizers/custom_graph_optimizer_registry.cc:112] Plugin optimizer for device_type GPU is enabled.\n"
     ]
    },
    {
     "name": "stdout",
     "output_type": "stream",
     "text": [
      "134/134 [==============================] - 3s 19ms/step - loss: 0.6822 - accuracy: 0.0075 - binary_accuracy: 0.5611\n",
      "134/134 [==============================] - 3s 19ms/step - loss: 0.6831 - accuracy: 0.0090 - binary_accuracy: 0.6887\n",
      "134/134 [==============================] - 3s 23ms/step - loss: 0.6765 - accuracy: 0.0045 - binary_accuracy: 0.7120\n",
      "134/134 [==============================] - 3s 19ms/step - loss: 0.6760 - accuracy: 0.0060 - binary_accuracy: 0.5744\n",
      "134/134 [==============================] - 3s 21ms/step - loss: 0.6871 - accuracy: 0.0045 - binary_accuracy: 0.6860\n",
      "134/134 [==============================] - 3s 22ms/step - loss: 0.6778 - accuracy: 0.0135 - binary_accuracy: 0.5795\n",
      "134/134 [==============================] - 3s 19ms/step - loss: 0.6774 - accuracy: 0.0105 - binary_accuracy: 0.5822\n",
      "108/134 [=======================>......] - ETA: 0s - loss: 0.6881 - accuracy: 0.0148 - binary_accuracy: 0.6890"
     ]
    },
    {
     "name": "stderr",
     "output_type": "stream",
     "text": [
      "2021-12-15 01:40:54.065917: I tensorflow/core/grappler/optimizers/custom_graph_optimizer_registry.cc:112] Plugin optimizer for device_type GPU is enabled.\n"
     ]
    },
    {
     "name": "stdout",
     "output_type": "stream",
     "text": [
      "\b\b\b\b\b\b\b\b\b\b\b\b\b\b\b\b\b\b\b\b\b\b\b\b\b\b\b\b\b\b\b\b\b\b\b\b\b\b\b\b\b\b\b\b\b\b\b\b\b\b\b\b\b\b\b\b\b\b\b\b\b\b\b\b\b\b\b\b\b\b\b\b\b\b\b\b\b\b\b\b\b\b\b\b\b\b\b\b\b\b\b\b\b\b\b\b\b\b\b\b\b\b\b\b\b\b\b\b\b\b\r",
      "110/134 [=======================>......] - ETA: 0s - loss: 0.6879 - accuracy: 0.0145 - binary_accuracy: 0.6908\b\b\b\b\b\b\b\b\b\b\b\b\b\b\b\b\b\b\b\b\b\b\b\b\b\b\b\b\b\b\b\b\b\b\b\b\b\b\b\b\b\b\b\b\b\b\b\b\b\b\b\b\b\b\b\b\b\b\b\b\b\b\b\b\b\b\b\b\b\b\b\b\b\b\b\b\b\b\b\b\b\b\b\b\b\b\b\b\b\b\b\b\b\b\b\b\b\b\b\b\b\b\b\b\b\b\b\b\b\b\r",
      "112/134 [========================>.....] - ETA: 0s - loss: 0.6880 - accuracy: 0.0143 - binary_accuracy: 0.6901\b\b\b\b\b\b\b\b\b\b\b\b\b\b\b\b\b\b\b\b\b\b\b\b\b\b\b\b\b\b\b\b\b\b\b\b\b\b\b\b\b\b\b\b\b\b\b\b\b\b\b\b\b\b\b\b\b\b\b\b\b\b\b\b\b\b\b\b\b\b\b\b\b\b\b\b\b\b\b\b\b\b\b\b\b\b\b\b\b\b\b\b\b\b\b\b\b\b\b\b\b\b\b\b\b\b\b\b\b\b\r",
      "113/134 [========================>.....] - ETA: 0s - loss: 0.6879 - accuracy: 0.0142 - binary_accuracy: 0.6905"
     ]
    },
    {
     "name": "stderr",
     "output_type": "stream",
     "text": [
      "2021-12-15 01:40:54.348012: I tensorflow/core/grappler/optimizers/custom_graph_optimizer_registry.cc:112] Plugin optimizer for device_type GPU is enabled.\n"
     ]
    },
    {
     "name": "stdout",
     "output_type": "stream",
     "text": [
      "116/134 [========================>.....] - ETA: 0s - loss: 0.6877 - accuracy: 0.0138 - binary_accuracy: 0.6913[CV] END batch_size=5, dropout_rate=0.4, hidden_dim=256, n_epochs=750, n_hidden_layers=1, optimizer=SGD, output_activation=sigmoid; total time=  11.6s\n",
      "126/134 [===========================>..] - ETA: 0s - loss: 0.6880 - accuracy: 0.0127 - binary_accuracy: 0.6903[CV] END batch_size=5, dropout_rate=0.4, hidden_dim=256, n_epochs=750, n_hidden_layers=1, optimizer=SGD, output_activation=softmax; total time=  11.8s\n",
      "134/134 [==============================] - 3s 22ms/step - loss: 0.6879 - accuracy: 0.0120 - binary_accuracy: 0.6887\n",
      "  5/267 [..............................] - ETA: 9s - loss: 0.7049 - accuracy: 0.0000e+00 - binary_accuracy: 0.6312"
     ]
    },
    {
     "name": "stderr",
     "output_type": "stream",
     "text": [
      "2021-12-15 01:40:54.868300: I tensorflow/core/grappler/optimizers/custom_graph_optimizer_registry.cc:112] Plugin optimizer for device_type GPU is enabled.\n",
      "2021-12-15 01:40:55.001386: I tensorflow/core/grappler/optimizers/custom_graph_optimizer_registry.cc:112] Plugin optimizer for device_type GPU is enabled.\n",
      "2021-12-15 01:40:55.056179: I tensorflow/core/grappler/optimizers/custom_graph_optimizer_registry.cc:112] Plugin optimizer for device_type GPU is enabled.\n"
     ]
    },
    {
     "name": "stdout",
     "output_type": "stream",
     "text": [
      "\b\b\b\b\b\b\b\b\b\b\b\b\b\b\b\b\b\b\b\b\b\b\b\b\b\b\b\b\b\b\b\b\b\b\b\b\b\b\b\b\b\b\b\b\b\b\b\b\b\b\b\b\b\b\b\b\b\b\b\b\b\b\b\b\b\b\b\b\b\b\b\b\b\b\b\b\b\b\b\b\b\b\b\b\b\b\b\b\b\b\b\b\b\b\b\b\b\b\b\b\b\b\b\b\b\b\b\b\b\b\b\b\b\b\r",
      "  7/267 [..............................] - ETA: 8s - loss: 0.7056 - accuracy: 0.0000e+00 - binary_accuracy: 0.6571\b\b\b\b\b\b\b\b\b\b\b\b\b\b\b\b\b\b\b\b\b\b\b\b\b\b\b\b\b\b\b\b\b\b\b\b\b\b\b\b\b\b\b\b\b\b\b\b\b\b\b\b\b\b\b\b\b\b\b\b\b\b\b\b\b\b\b\b\b\b\b\b\b\b\b\b\b\b\b\b\b\b\b\b\b\b\b\b\b\b\b\b\b\b\b\b\b\b\b\b\b\b\b\b\b\b\b\b\b\b\r",
      " 14/267 [>.............................] - ETA: 6s - loss: 0.7122 - accuracy: 0.0286 - binary_accuracy: 0.6984\b\b\b\b\b\b\b\b\b\b\b\b\b\b\b\b\b\b\b\b\b\b\b\b\b\b\b\b\b\b\b\b\b\b\b\b\b\b\b\b\b\b\b\b\b\b\b\b\b\b\b\b\b\b\b\b\b\b\b\b\b\b\b\b\b\b\b\b\b\b\b\b\b\b\b\b\b\b\b\b\b\b\b\b\b\b\b\b\b\b\b\b\b\b\b\b\b\b\b\b\b\b\b\b\b\b\b\b\b\b\b\b\b\b\r",
      " 10/267 [>.............................] - ETA: 7s - loss: 0.7072 - accuracy: 0.0000e+00 - binary_accuracy: 0.6519\b\b\b\b\b\b\b\b\b\b\b\b\b\b\b\b\b\b\b\b\b\b\b\b\b\b\b\b\b\b\b\b\b\b\b\b\b\b\b\b\b\b\b\b\b\b\b\b\b\b\b\b\b\b\b\b\b\b\b\b\b\b\b\b\b\b\b\b\b\b\b\b\b\b\b\b\b\b\b\b\b\b\b\b\b\b\b\b\b\b\b\b\b\b\b\b\b\b\b\b\b\b\b\b\b\b\b\b\b\b\r",
      " 17/267 [>.............................] - ETA: 6s - loss: 0.7123 - accuracy: 0.0353 - binary_accuracy: 0.6945\b\b\b\b\b\b\b\b\b\b\b\b\b\b\b\b\b\b\b\b\b\b\b\b\b\b\b\b\b\b\b\b\b\b\b\b\b\b\b\b\b\b\b\b\b\b\b\b\b\b\b\b\b\b\b\b\b\b\b\b\b\b\b\b\b\b\b\b\b\b\b\b\b\b\b\b\b\b\b\b\b\b\b\b\b\b\b\b\b\b\b\b\b\b\b\b\b\b\b\b\b\b\b\b\b\b\b\b\b\b\b\b\b\b\r",
      " 13/267 [>.............................] - ETA: 6s - loss: 0.7058 - accuracy: 0.0154 - binary_accuracy: 0.6548    \b\b\b\b\b\b\b\b\b\b\b\b\b\b\b\b\b\b\b\b\b\b\b\b\b\b\b\b\b\b\b\b\b\b\b\b\b\b\b\b\b\b\b\b\b\b\b\b\b\b\b\b\b\b\b\b\b\b\b\b\b\b\b\b\b\b\b\b\b\b\b\b\b\b\b\b\b\b\b\b\b\b\b\b\b\b\b\b\b\b\b\b\b\b\b\b\b\b\b\b\b\b\b\b\b\b\b\b\b\b\r",
      " 20/267 [=>............................] - ETA: 6s - loss: 0.7122 - accuracy: 0.0500 - binary_accuracy: 0.6850\b\b\b\b\b\b\b\b\b\b\b\b\b\b\b\b\b\b\b\b\b\b\b\b\b\b\b\b\b\b\b\b\b\b\b\b\b\b\b\b\b\b\b\b\b\b\b\b\b\b\b\b\b\b\b\b\b\b\b\b\b\b\b\b\b\b\b\b\b\b\b\b\b\b\b\b\b\b\b\b\b\b\b\b\b\b\b\b\b\b\b\b\b\b\b\b\b\b\b\b\b\b\b\b\b\b\b\b\b\b\r",
      " 15/267 [>.............................] - ETA: 6s - loss: 0.7054 - accuracy: 0.0133 - binary_accuracy: 0.6671\b\b\b\b\b\b\b\b\b\b\b\b\b\b\b\b\b\b\b\b\b\b\b\b\b\b\b\b\b\b\b\b\b\b\b\b\b\b\b\b\b\b\b\b\b\b\b\b\b\b\b\b\b\b\b\b\b\b\b\b\b\b\b\b\b\b\b\b\b\b\b\b\b\b\b\b\b\b\b\b\b\b\b\b\b\b\b\b\b\b\b\b\b\b\b\b\b\b\b\b\b\b\b\b\b\b\b\b\b\b\r",
      " 23/267 [=>............................] - ETA: 6s - loss: 0.7116 - accuracy: 0.0435 - binary_accuracy: 0.6918[CV] END batch_size=5, dropout_rate=0.4, hidden_dim=256, n_epochs=750, n_hidden_layers=1, optimizer=SGD, output_activation=softmax; total time=  11.7s\n",
      "\r",
      "  1/267 [..............................] - ETA: 3:05 - loss: 0.6982 - accuracy: 0.0000e+00 - binary_accuracy: 0.5094"
     ]
    },
    {
     "name": "stderr",
     "output_type": "stream",
     "text": [
      "2021-12-15 01:40:55.103868: I tensorflow/core/grappler/optimizers/custom_graph_optimizer_registry.cc:112] Plugin optimizer for device_type GPU is enabled.\n"
     ]
    },
    {
     "name": "stdout",
     "output_type": "stream",
     "text": [
      "\b\b\b\b\b\b\b\b\b\b\b\b\b\b\b\b\b\b\b\b\b\b\b\b\b\b\b\b\b\b\b\b\b\b\b\b\b\b\b\b\b\b\b\b\b\b\b\b\b\b\b\b\b\b\b\b\b\b\b\b\b\b\b\b\b\b\b\b\b\b\b\b\b\b\b\b\b\b\b\b\b\b\b\b\b\b\b\b\b\b\b\b\b\b\b\b\b\b\b\b\b\b\b\b\b\b\b\b\b\b\r",
      " 17/267 [>.............................] - ETA: 6s - loss: 0.7066 - accuracy: 0.0235 - binary_accuracy: 0.6717\b\b\b\b\b\b\b\b\b\b\b\b\b\b\b\b\b\b\b\b\b\b\b\b\b\b\b\b\b\b\b\b\b\b\b\b\b\b\b\b\b\b\b\b\b\b\b\b\b\b\b\b\b\b\b\b\b\b\b\b\b\b\b\b\b\b\b\b\b\b\b\b\b\b\b\b\b\b\b\b\b\b\b\b\b\b\b\b\b\b\b\b\b\b\b\b\b\b\b\b\b\b\b\b\b\b\b\b\b\b\b\b\b\b\b\b\r",
      "  3/267 [..............................] - ETA: 7s - loss: 0.6992 - accuracy: 0.0000e+00 - binary_accuracy: 0.5135  \b\b\b\b\b\b\b\b\b\b\b\b\b\b\b\b\b\b\b\b\b\b\b\b\b\b\b\b\b\b\b\b\b\b\b\b\b\b\b\b\b\b\b\b\b\b\b\b\b\b\b\b\b\b\b\b\b\b\b\b\b\b\b\b\b\b\b\b\b\b\b\b\b\b\b\b\b\b\b\b\b\b\b\b\b\b\b\b\b\b\b\b\b\b\b\b\b\b\b\b\b\b\b\b\b\b\b\b\b\b\r",
      " 25/267 [=>............................] - ETA: 6s - loss: 0.7106 - accuracy: 0.0400 - binary_accuracy: 0.6901\b\b\b\b\b\b\b\b\b\b\b\b\b\b\b\b\b\b\b\b\b\b\b\b\b\b\b\b\b\b\b\b\b\b\b\b\b\b\b\b\b\b\b\b\b\b\b\b\b\b\b\b\b\b\b\b\b\b\b\b\b\b\b\b\b\b\b\b\b\b\b\b\b\b\b\b\b\b\b\b\b\b\b\b\b\b\b\b\b\b\b\b\b\b\b\b\b\b\b\b\b\b\b\b\b\b\b\b\b\b\r",
      " 19/267 [=>............................] - ETA: 6s - loss: 0.7066 - accuracy: 0.0211 - binary_accuracy: 0.6780\b\b\b\b\b\b\b\b\b\b\b\b\b\b\b\b\b\b\b\b\b\b\b\b\b\b\b\b\b\b\b\b\b\b\b\b\b\b\b\b\b\b\b\b\b\b\b\b\b\b\b\b\b\b\b\b\b\b\b\b\b\b\b\b\b\b\b\b\b\b\b\b\b\b\b\b\b\b\b\b\b\b\b\b\b\b\b\b\b\b\b\b\b\b\b\b\b\b\b\b\b\b\b\b\b\b\b\b\b\b\b\b\b\b\r",
      "  5/267 [..............................] - ETA: 7s - loss: 0.6956 - accuracy: 0.0000e+00 - binary_accuracy: 0.5250\b\b\b\b\b\b\b\b\b\b\b\b\b\b\b\b\b\b\b\b\b\b\b\b\b\b\b\b\b\b\b\b\b\b\b\b\b\b\b\b\b\b\b\b\b\b\b\b\b\b\b\b\b\b\b\b\b\b\b\b\b\b\b\b\b\b\b\b\b\b\b\b\b\b\b\b\b\b\b\b\b\b\b\b\b\b\b\b\b\b\b\b\b\b\b\b\b\b\b\b\b\b\b\b\b\b\b\b\b\b\r",
      " 27/267 [==>...........................] - ETA: 6s - loss: 0.7109 - accuracy: 0.0370 - binary_accuracy: 0.6844[CV] END batch_size=5, dropout_rate=0.4, hidden_dim=256, n_epochs=750, n_hidden_layers=1, optimizer=SGD, output_activation=softmax; total time=  12.2s\n",
      "\r",
      "  1/267 [..............................] - ETA: 2:55 - loss: 0.6962 - accuracy: 0.0000e+00 - binary_accuracy: 0.5188\b\b\b\b\b\b\b\b\b\b\b\b\b\b\b\b\b\b\b\b\b\b\b\b\b\b\b\b\b\b\b\b\b\b\b\b\b\b\b\b\b\b\b\b\b\b\b\b\b\b\b\b\b\b\b\b\b\b\b\b\b\b\b\b\b\b\b\b\b\b\b\b\b\b\b\b\b\b\b\b\b\b\b\b\b\b\b\b\b\b\b\b\b\b\b\b\b\b\b\b\b\b\b\b\b\b\b\b\b\b\r",
      " 22/267 [=>............................] - ETA: 6s - loss: 0.7075 - accuracy: 0.0182 - binary_accuracy: 0.6726[CV] END batch_size=5, dropout_rate=0.6, hidden_dim=256, n_epochs=750, n_hidden_layers=1, optimizer=SGD, output_activation=sigmoid; total time=  11.9s\n",
      "\r",
      "  1/267 [..............................] - ETA: 2:59 - loss: 0.7126 - accuracy: 0.2000 - binary_accuracy: 0.6969\b\b\b\b\b\b\b\b\b\b\b\b\b\b\b\b\b\b\b\b\b\b\b\b\b\b\b\b\b\b\b\b\b\b\b\b\b\b\b\b\b\b\b\b\b\b\b\b\b\b\b\b\b\b\b\b\b\b\b\b\b\b\b\b\b\b\b\b\b\b\b\b\b\b\b\b\b\b\b\b\b\b\b\b\b\b\b\b\b\b\b\b\b\b\b\b\b\b\b\b\b\b\b\b\b\b\b\b\b\b\b\b\b\b\b\b\r",
      "  3/267 [..............................] - ETA: 6s - loss: 0.7037 - accuracy: 0.1333 - binary_accuracy: 0.5083      \b\b\b\b\b\b\b\b\b\b\b\b\b\b\b\b\b\b\b\b\b\b\b\b\b\b\b\b\b\b\b\b\b\b\b\b\b\b\b\b\b\b\b\b\b\b\b\b\b\b\b\b\b\b\b\b\b\b\b\b\b\b\b\b\b\b\b\b\b\b\b\b\b\b\b\b\b\b\b\b\b\b\b\b\b\b\b\b\b\b\b\b\b\b\b\b\b\b\b\b\b\b\b\b\b\b\b\b\b\b\b\b\b\b\r",
      "  6/267 [..............................] - ETA: 11s - loss: 0.6981 - accuracy: 0.0000e+00 - binary_accuracy: 0.5161\b\b\b\b\b\b\b\b\b\b\b\b\b\b\b\b\b\b\b\b\b\b\b\b\b\b\b\b\b\b\b\b\b\b\b\b\b\b\b\b\b\b\b\b\b\b\b\b\b\b\b\b\b\b\b\b\b\b\b\b\b\b\b\b\b\b\b\b\b\b\b\b\b\b\b\b\b\b\b\b\b\b\b\b\b\b\b\b\b\b\b\b\b\b\b\b\b\b\b\b\b\b\b\b\b\b\b\b\b\b\r",
      " 28/267 [==>...........................] - ETA: 6s - loss: 0.7102 - accuracy: 0.0357 - binary_accuracy: 0.6817"
     ]
    },
    {
     "name": "stderr",
     "output_type": "stream",
     "text": [
      "2021-12-15 01:40:55.367449: I tensorflow/core/grappler/optimizers/custom_graph_optimizer_registry.cc:112] Plugin optimizer for device_type GPU is enabled.\n"
     ]
    },
    {
     "name": "stdout",
     "output_type": "stream",
     "text": [
      " 26/267 [=>............................] - ETA: 6s - loss: 0.7075 - accuracy: 0.0154 - binary_accuracy: 0.6764[CV] END batch_size=5, dropout_rate=0.6, hidden_dim=256, n_epochs=750, n_hidden_layers=1, optimizer=SGD, output_activation=sigmoid; total time=  11.9s\n",
      "  4/267 [..............................] - ETA: 16s - loss: 0.7156 - accuracy: 0.0000e+00 - binary_accuracy: 0.4539[CV] END batch_size=5, dropout_rate=0.6, hidden_dim=256, n_epochs=750, n_hidden_layers=1, optimizer=SGD, output_activation=sigmoid; total time=  11.7s\n",
      " 96/267 [=========>....................] - ETA: 4s - loss: 0.7087 - accuracy: 0.0583 - binary_accuracy: 0.6982"
     ]
    },
    {
     "name": "stderr",
     "output_type": "stream",
     "text": [
      "2021-12-15 01:40:57.935405: I tensorflow/core/grappler/optimizers/custom_graph_optimizer_registry.cc:112] Plugin optimizer for device_type GPU is enabled.\n"
     ]
    },
    {
     "name": "stdout",
     "output_type": "stream",
     "text": [
      "166/267 [=================>............] - ETA: 2s - loss: 0.7013 - accuracy: 0.0133 - binary_accuracy: 0.6815[CV] END batch_size=5, dropout_rate=0.6, hidden_dim=256, n_epochs=750, n_hidden_layers=1, optimizer=SGD, output_activation=softmax; total time=  12.4s\n",
      "267/267 [==============================] - 8s 28ms/step - loss: 0.6968 - accuracy: 0.0127 - binary_accuracy: 0.6873\n",
      "267/267 [==============================] - 8s 26ms/step - loss: 0.6841 - accuracy: 0.0158 - binary_accuracy: 0.5499\n",
      "267/267 [==============================] - 9s 29ms/step - loss: 0.6983 - accuracy: 0.0278 - binary_accuracy: 0.7003\n",
      "120/267 [============>.................] - ETA: 3s - loss: 0.7023 - accuracy: 0.0117 - binary_accuracy: 0.6919"
     ]
    },
    {
     "name": "stderr",
     "output_type": "stream",
     "text": [
      "2021-12-15 01:41:02.382595: I tensorflow/core/grappler/optimizers/custom_graph_optimizer_registry.cc:112] Plugin optimizer for device_type GPU is enabled.\n",
      "2021-12-15 01:41:02.424653: I tensorflow/core/grappler/optimizers/custom_graph_optimizer_registry.cc:112] Plugin optimizer for device_type GPU is enabled.\n",
      "2021-12-15 01:41:02.546701: I tensorflow/core/grappler/optimizers/custom_graph_optimizer_registry.cc:112] Plugin optimizer for device_type GPU is enabled.\n"
     ]
    },
    {
     "name": "stdout",
     "output_type": "stream",
     "text": [
      "267/267 [==============================] - 8s 29ms/step - loss: 0.6933 - accuracy: 0.0150 - binary_accuracy: 0.5324\n",
      "267/267 [==============================] - 8s 28ms/step - loss: 0.6971 - accuracy: 0.0112 - binary_accuracy: 0.5198\n",
      "267/267 [==============================] - 8s 28ms/step - loss: 0.6936 - accuracy: 0.0045 - binary_accuracy: 0.6990\n",
      "267/267 [==============================] - 8s 29ms/step - loss: 0.6989 - accuracy: 0.0510 - binary_accuracy: 0.7003\n",
      "156/267 [================>.............] - ETA: 2s - loss: 0.7009 - accuracy: 0.0115 - binary_accuracy: 0.6938  "
     ]
    },
    {
     "name": "stderr",
     "output_type": "stream",
     "text": [
      "2021-12-15 01:41:03.198884: I tensorflow/core/grappler/optimizers/custom_graph_optimizer_registry.cc:112] Plugin optimizer for device_type GPU is enabled.\n",
      "2021-12-15 01:41:03.204309: I tensorflow/core/grappler/optimizers/custom_graph_optimizer_registry.cc:112] Plugin optimizer for device_type GPU is enabled.\n",
      "2021-12-15 01:41:03.286735: I tensorflow/core/grappler/optimizers/custom_graph_optimizer_registry.cc:112] Plugin optimizer for device_type GPU is enabled.\n",
      "2021-12-15 01:41:03.311680: I tensorflow/core/grappler/optimizers/custom_graph_optimizer_registry.cc:112] Plugin optimizer for device_type GPU is enabled.\n"
     ]
    },
    {
     "name": "stdout",
     "output_type": "stream",
     "text": [
      "134/134 [==============================] - 3s 21ms/step - loss: 0.6733 - accuracy: 0.0075 - binary_accuracy: 0.5774\n",
      "134/134 [==============================] - 3s 20ms/step - loss: 0.6843 - accuracy: 0.0315 - binary_accuracy: 0.6860\n",
      "134/134 [==============================] - 3s 22ms/step - loss: 0.6850 - accuracy: 0.0135 - binary_accuracy: 0.7120\n",
      "267/267 [==============================] - 10s 26ms/step - loss: 0.6966 - accuracy: 0.0097 - binary_accuracy: 0.6873\n",
      "134/134 [==============================] - 3s 20ms/step - loss: 0.6831 - accuracy: 0.0180 - binary_accuracy: 0.5606\n",
      "134/134 [==============================] - 3s 19ms/step - loss: 0.6853 - accuracy: 0.0420 - binary_accuracy: 0.6860\n",
      "134/134 [==============================] - 3s 21ms/step - loss: 0.6861 - accuracy: 0.0105 - binary_accuracy: 0.5462\n",
      "134/134 [==============================] - 3s 19ms/step - loss: 0.6814 - accuracy: 0.0075 - binary_accuracy: 0.6887\n"
     ]
    },
    {
     "name": "stderr",
     "output_type": "stream",
     "text": [
      "2021-12-15 01:41:06.228329: I tensorflow/core/grappler/optimizers/custom_graph_optimizer_registry.cc:112] Plugin optimizer for device_type GPU is enabled.\n"
     ]
    },
    {
     "name": "stdout",
     "output_type": "stream",
     "text": [
      "134/134 [==============================] - 1s 6ms/step - loss: 0.6854 - accuracy: 0.0090 - binary_accuracy: 0.7120\n",
      " 18/400 [>.............................] - ETA: 2s - loss: 0.6969 - accuracy: 0.0111 - binary_accuracy: 0.6837    "
     ]
    },
    {
     "name": "stderr",
     "output_type": "stream",
     "text": [
      "2021-12-15 01:41:07.604665: I tensorflow/core/grappler/optimizers/custom_graph_optimizer_registry.cc:112] Plugin optimizer for device_type GPU is enabled.\n"
     ]
    },
    {
     "name": "stdout",
     "output_type": "stream",
     "text": [
      "400/400 [==============================] - 2s 5ms/step - loss: 0.6828 - accuracy: 0.0050 - binary_accuracy: 0.6955\n"
     ]
    }
   ],
   "source": [
    "act_param_grid = {\n",
    "        \"n_hidden_layers\": [1],\n",
    "        \"hidden_dim\": [256],\n",
    "        \"optimizer\": [\"SGD\"],\n",
    "        \"batch_size\": [5],\n",
    "        \"n_epochs\": [750],\n",
    "        \"output_activation\": ['sigmoid', 'softmax'],\n",
    "        \"dropout_rate\": [0, 0.4, 0.6, 0.8]\n",
    "}\n",
    "fc_act_model = KerasClassifier(build_fn=create_fc_model, verbose=1)\n",
    "fc_act_grid = GridSearchCV(estimator=fc_act_model, param_grid=act_param_grid, n_jobs=-1, cv=3, verbose=2)\n",
    "fc_act_result = fc_act_grid.fit(X_fc_grid, Y_fc_grid)"
   ]
  },
  {
   "cell_type": "code",
   "execution_count": 28,
   "metadata": {},
   "outputs": [
    {
     "name": "stdout",
     "output_type": "stream",
     "text": [
      "Best: 0.024505015462636948 using {'batch_size': 5, 'dropout_rate': 0, 'hidden_dim': 256, 'n_epochs': 750, 'n_hidden_layers': 1, 'optimizer': 'SGD', 'output_activation': 'softmax'}\n",
      "      Mean    Standard deviation    batch_size    dropout_rate    hidden_dim    n_epochs    n_hidden_layers  optimizer    output_activation\n",
      "----------  --------------------  ------------  --------------  ------------  ----------  -----------------  -----------  -------------------\n",
      "0.00850025            0.00187111             5             0             256         750                  1  SGD          sigmoid\n",
      "0.024505              0.00709194             5             0             256         750                  1  SGD          softmax\n",
      "0.0124975             0.00352846             5             0.4           256         750                  1  SGD          sigmoid\n",
      "0.00599925            0.00211867             5             0.4           256         750                  1  SGD          softmax\n",
      "0.0100003             0.00308153             5             0.6           256         750                  1  SGD          sigmoid\n",
      "0.0189973             0.00885141             5             0.6           256         750                  1  SGD          softmax\n",
      "0.0119993             0.0044119              5             0.8           256         750                  1  SGD          sigmoid\n",
      "0.0194948             0.0159108              5             0.8           256         750                  1  SGD          softmax\n"
     ]
    }
   ],
   "source": [
    "disp_grid(fc_act_result)"
   ]
  },
  {
   "cell_type": "markdown",
   "metadata": {},
   "source": [
    "### Result\n",
    "\n",
    "From this hyperparameter optimisation we can see that the best model learned will have:\n",
    "- Batch size = 5\n",
    "- Dropout rate = 0\n",
    "- Hidden layers = 1\n",
    "- Nodes in hidden layers = 256\n",
    "- Optimizer function = SGD\n",
    "- Output activation function = sigmoid\n",
    "We can now use this data to cross validate a model on the entire dataset."
   ]
  },
  {
   "cell_type": "code",
   "execution_count": 29,
   "metadata": {
    "scrolled": true
   },
   "outputs": [
    {
     "name": "stdout",
     "output_type": "stream",
     "text": [
      "Model: \"model_4\"\n",
      "_________________________________________________________________\n",
      "Layer (type)                 Output Shape              Param #   \n",
      "=================================================================\n",
      "input_5 (InputLayer)         [(None, 64)]              0         \n",
      "_________________________________________________________________\n",
      "dense_10 (Dense)             (None, 256)               16640     \n",
      "_________________________________________________________________\n",
      "dense_11 (Dense)             (None, 64)                16448     \n",
      "=================================================================\n",
      "Total params: 33,088\n",
      "Trainable params: 33,088\n",
      "Non-trainable params: 0\n",
      "_________________________________________________________________\n"
     ]
    }
   ],
   "source": [
    "fc_model_params = fc_act_result.best_params_\n",
    "fc_model = create_fc_model(**fc_model_params)\n",
    "fc_model.summary()"
   ]
  },
  {
   "cell_type": "code",
   "execution_count": null,
   "metadata": {
    "scrolled": true
   },
   "outputs": [
    {
     "name": "stdout",
     "output_type": "stream",
     "text": [
      "Epoch 1/750\n"
     ]
    },
    {
     "name": "stderr",
     "output_type": "stream",
     "text": [
      "2021-12-15 01:41:09.838815: I tensorflow/core/profiler/lib/profiler_session.cc:126] Profiler session initializing.\n",
      "2021-12-15 01:41:09.838833: I tensorflow/core/profiler/lib/profiler_session.cc:141] Profiler session started.\n",
      "2021-12-15 01:41:09.839579: I tensorflow/core/profiler/lib/profiler_session.cc:159] Profiler session tear down.\n",
      "2021-12-15 01:41:10.007187: I tensorflow/core/grappler/optimizers/custom_graph_optimizer_registry.cc:112] Plugin optimizer for device_type GPU is enabled.\n"
     ]
    },
    {
     "name": "stdout",
     "output_type": "stream",
     "text": [
      " 15/480 [..............................] - ETA: 6s - loss: 0.7052 - accuracy: 0.0667 - binary_accuracy: 0.6727   "
     ]
    },
    {
     "name": "stderr",
     "output_type": "stream",
     "text": [
      "2021-12-15 01:41:10.221849: I tensorflow/core/profiler/lib/profiler_session.cc:126] Profiler session initializing.\n",
      "2021-12-15 01:41:10.221859: I tensorflow/core/profiler/lib/profiler_session.cc:141] Profiler session started.\n",
      "2021-12-15 01:41:10.272606: I tensorflow/core/profiler/lib/profiler_session.cc:66] Profiler session collecting data.\n",
      "2021-12-15 01:41:10.277581: I tensorflow/core/profiler/lib/profiler_session.cc:159] Profiler session tear down.\n",
      "2021-12-15 01:41:10.283904: I tensorflow/core/profiler/rpc/client/save_profile.cc:137] Creating directory: tensorboard_logs/fc_model_fold_1_20211215-014109/train/plugins/profile/2021_12_15_01_41_10\n",
      "2021-12-15 01:41:10.285255: I tensorflow/core/profiler/rpc/client/save_profile.cc:143] Dumped gzipped tool data for trace.json.gz to tensorboard_logs/fc_model_fold_1_20211215-014109/train/plugins/profile/2021_12_15_01_41_10/Elliss-MacBook-Air.local.trace.json.gz\n",
      "2021-12-15 01:41:10.289227: I tensorflow/core/profiler/rpc/client/save_profile.cc:137] Creating directory: tensorboard_logs/fc_model_fold_1_20211215-014109/train/plugins/profile/2021_12_15_01_41_10\n",
      "2021-12-15 01:41:10.289474: I tensorflow/core/profiler/rpc/client/save_profile.cc:143] Dumped gzipped tool data for memory_profile.json.gz to tensorboard_logs/fc_model_fold_1_20211215-014109/train/plugins/profile/2021_12_15_01_41_10/Elliss-MacBook-Air.local.memory_profile.json.gz\n",
      "2021-12-15 01:41:10.290178: I tensorflow/core/profiler/rpc/client/capture_profile.cc:251] Creating directory: tensorboard_logs/fc_model_fold_1_20211215-014109/train/plugins/profile/2021_12_15_01_41_10Dumped tool data for xplane.pb to tensorboard_logs/fc_model_fold_1_20211215-014109/train/plugins/profile/2021_12_15_01_41_10/Elliss-MacBook-Air.local.xplane.pb\n",
      "Dumped tool data for overview_page.pb to tensorboard_logs/fc_model_fold_1_20211215-014109/train/plugins/profile/2021_12_15_01_41_10/Elliss-MacBook-Air.local.overview_page.pb\n",
      "Dumped tool data for input_pipeline.pb to tensorboard_logs/fc_model_fold_1_20211215-014109/train/plugins/profile/2021_12_15_01_41_10/Elliss-MacBook-Air.local.input_pipeline.pb\n",
      "Dumped tool data for tensorflow_stats.pb to tensorboard_logs/fc_model_fold_1_20211215-014109/train/plugins/profile/2021_12_15_01_41_10/Elliss-MacBook-Air.local.tensorflow_stats.pb\n",
      "Dumped tool data for kernel_stats.pb to tensorboard_logs/fc_model_fold_1_20211215-014109/train/plugins/profile/2021_12_15_01_41_10/Elliss-MacBook-Air.local.kernel_stats.pb\n",
      "\n"
     ]
    },
    {
     "name": "stdout",
     "output_type": "stream",
     "text": [
      "480/480 [==============================] - ETA: 0s - loss: 0.6877 - accuracy: 0.0279 - binary_accuracy: 0.6946"
     ]
    },
    {
     "name": "stderr",
     "output_type": "stream",
     "text": [
      "2021-12-15 01:41:14.394924: I tensorflow/core/grappler/optimizers/custom_graph_optimizer_registry.cc:112] Plugin optimizer for device_type GPU is enabled.\n"
     ]
    },
    {
     "name": "stdout",
     "output_type": "stream",
     "text": [
      "480/480 [==============================] - 5s 9ms/step - loss: 0.6877 - accuracy: 0.0279 - binary_accuracy: 0.6946 - val_loss: 0.6687 - val_accuracy: 0.0112 - val_binary_accuracy: 0.6973\n",
      "Epoch 2/750\n",
      "480/480 [==============================] - 5s 10ms/step - loss: 0.6576 - accuracy: 0.0150 - binary_accuracy: 0.6946 - val_loss: 0.6419 - val_accuracy: 0.0037 - val_binary_accuracy: 0.6973\n",
      "Epoch 3/750\n",
      "480/480 [==============================] - 4s 9ms/step - loss: 0.6362 - accuracy: 0.0096 - binary_accuracy: 0.6946 - val_loss: 0.6228 - val_accuracy: 0.0075 - val_binary_accuracy: 0.6973\n",
      "Epoch 4/750\n",
      "480/480 [==============================] - 4s 9ms/step - loss: 0.6217 - accuracy: 0.0079 - binary_accuracy: 0.6946 - val_loss: 0.6105 - val_accuracy: 0.0000e+00 - val_binary_accuracy: 0.6973\n",
      "Epoch 5/750\n",
      "480/480 [==============================] - 4s 9ms/step - loss: 0.6128 - accuracy: 0.0075 - binary_accuracy: 0.6946 - val_loss: 0.6032 - val_accuracy: 0.0000e+00 - val_binary_accuracy: 0.6973\n",
      "Epoch 6/750\n",
      "480/480 [==============================] - 4s 9ms/step - loss: 0.6076 - accuracy: 0.0050 - binary_accuracy: 0.6946 - val_loss: 0.5989 - val_accuracy: 0.0000e+00 - val_binary_accuracy: 0.6973\n",
      "Epoch 7/750\n",
      "480/480 [==============================] - 4s 9ms/step - loss: 0.6044 - accuracy: 0.0050 - binary_accuracy: 0.6946 - val_loss: 0.5962 - val_accuracy: 0.0000e+00 - val_binary_accuracy: 0.6973\n",
      "Epoch 8/750\n",
      "480/480 [==============================] - 4s 9ms/step - loss: 0.6023 - accuracy: 0.0046 - binary_accuracy: 0.6946 - val_loss: 0.5944 - val_accuracy: 0.0000e+00 - val_binary_accuracy: 0.6973\n",
      "Epoch 9/750\n",
      "480/480 [==============================] - 4s 9ms/step - loss: 0.6007 - accuracy: 0.0046 - binary_accuracy: 0.6946 - val_loss: 0.5929 - val_accuracy: 0.0000e+00 - val_binary_accuracy: 0.6973\n",
      "Epoch 10/750\n",
      "480/480 [==============================] - 4s 9ms/step - loss: 0.5993 - accuracy: 0.0042 - binary_accuracy: 0.6946 - val_loss: 0.5917 - val_accuracy: 0.0000e+00 - val_binary_accuracy: 0.6973\n",
      "Epoch 11/750\n",
      "480/480 [==============================] - 4s 9ms/step - loss: 0.5980 - accuracy: 0.0042 - binary_accuracy: 0.6946 - val_loss: 0.5906 - val_accuracy: 0.0000e+00 - val_binary_accuracy: 0.6973\n",
      "Epoch 12/750\n",
      "480/480 [==============================] - 4s 9ms/step - loss: 0.5968 - accuracy: 0.0046 - binary_accuracy: 0.6946 - val_loss: 0.5895 - val_accuracy: 0.0000e+00 - val_binary_accuracy: 0.6973\n",
      "Epoch 13/750\n",
      "480/480 [==============================] - 4s 8ms/step - loss: 0.5957 - accuracy: 0.0050 - binary_accuracy: 0.6946 - val_loss: 0.5885 - val_accuracy: 0.0000e+00 - val_binary_accuracy: 0.6973\n",
      "Epoch 14/750\n",
      "480/480 [==============================] - 5s 10ms/step - loss: 0.5945 - accuracy: 0.0050 - binary_accuracy: 0.6946 - val_loss: 0.5876 - val_accuracy: 0.0000e+00 - val_binary_accuracy: 0.6973\n",
      "Epoch 15/750\n",
      "480/480 [==============================] - 5s 10ms/step - loss: 0.5934 - accuracy: 0.0054 - binary_accuracy: 0.6946 - val_loss: 0.5867 - val_accuracy: 0.0000e+00 - val_binary_accuracy: 0.6973\n",
      "Epoch 16/750\n",
      "480/480 [==============================] - 5s 10ms/step - loss: 0.5923 - accuracy: 0.0046 - binary_accuracy: 0.6946 - val_loss: 0.5857 - val_accuracy: 0.0000e+00 - val_binary_accuracy: 0.6973\n",
      "Epoch 17/750\n",
      "480/480 [==============================] - 4s 9ms/step - loss: 0.5913 - accuracy: 0.0050 - binary_accuracy: 0.6946 - val_loss: 0.5849 - val_accuracy: 0.0000e+00 - val_binary_accuracy: 0.6973\n",
      "Epoch 18/750\n",
      "480/480 [==============================] - 5s 10ms/step - loss: 0.5902 - accuracy: 0.0050 - binary_accuracy: 0.6946 - val_loss: 0.5840 - val_accuracy: 0.0000e+00 - val_binary_accuracy: 0.6973\n",
      "Epoch 19/750\n",
      "480/480 [==============================] - 4s 9ms/step - loss: 0.5892 - accuracy: 0.0050 - binary_accuracy: 0.6946 - val_loss: 0.5831 - val_accuracy: 0.0000e+00 - val_binary_accuracy: 0.6973\n",
      "Epoch 20/750\n",
      "480/480 [==============================] - 4s 8ms/step - loss: 0.5881 - accuracy: 0.0050 - binary_accuracy: 0.6946 - val_loss: 0.5823 - val_accuracy: 0.0000e+00 - val_binary_accuracy: 0.6973\n",
      "Epoch 21/750\n",
      "480/480 [==============================] - 4s 9ms/step - loss: 0.5871 - accuracy: 0.0046 - binary_accuracy: 0.6946 - val_loss: 0.5814 - val_accuracy: 0.0000e+00 - val_binary_accuracy: 0.6973\n",
      "Epoch 22/750\n",
      "480/480 [==============================] - 4s 9ms/step - loss: 0.5861 - accuracy: 0.0054 - binary_accuracy: 0.6946 - val_loss: 0.5806 - val_accuracy: 0.0000e+00 - val_binary_accuracy: 0.6973\n",
      "Epoch 23/750\n",
      "480/480 [==============================] - 5s 10ms/step - loss: 0.5851 - accuracy: 0.0050 - binary_accuracy: 0.6946 - val_loss: 0.5798 - val_accuracy: 0.0000e+00 - val_binary_accuracy: 0.6973\n",
      "Epoch 24/750\n",
      "480/480 [==============================] - 5s 11ms/step - loss: 0.5842 - accuracy: 0.0050 - binary_accuracy: 0.6946 - val_loss: 0.5790 - val_accuracy: 0.0000e+00 - val_binary_accuracy: 0.6973\n",
      "Epoch 25/750\n",
      "480/480 [==============================] - 5s 10ms/step - loss: 0.5832 - accuracy: 0.0058 - binary_accuracy: 0.6946 - val_loss: 0.5782 - val_accuracy: 0.0000e+00 - val_binary_accuracy: 0.6973\n",
      "Epoch 26/750\n",
      "480/480 [==============================] - 5s 9ms/step - loss: 0.5822 - accuracy: 0.0058 - binary_accuracy: 0.6946 - val_loss: 0.5774 - val_accuracy: 0.0000e+00 - val_binary_accuracy: 0.6973\n",
      "Epoch 27/750\n",
      "480/480 [==============================] - 4s 9ms/step - loss: 0.5813 - accuracy: 0.0058 - binary_accuracy: 0.6946 - val_loss: 0.5766 - val_accuracy: 0.0000e+00 - val_binary_accuracy: 0.6973\n",
      "Epoch 28/750\n",
      "480/480 [==============================] - 4s 9ms/step - loss: 0.5803 - accuracy: 0.0058 - binary_accuracy: 0.6946 - val_loss: 0.5759 - val_accuracy: 0.0000e+00 - val_binary_accuracy: 0.6973\n",
      "Epoch 29/750\n",
      "480/480 [==============================] - 4s 9ms/step - loss: 0.5794 - accuracy: 0.0063 - binary_accuracy: 0.6946 - val_loss: 0.5751 - val_accuracy: 0.0000e+00 - val_binary_accuracy: 0.6973\n",
      "Epoch 30/750\n",
      "480/480 [==============================] - 5s 9ms/step - loss: 0.5785 - accuracy: 0.0063 - binary_accuracy: 0.6946 - val_loss: 0.5744 - val_accuracy: 0.0000e+00 - val_binary_accuracy: 0.6973\n",
      "Epoch 31/750\n",
      "480/480 [==============================] - 4s 9ms/step - loss: 0.5776 - accuracy: 0.0063 - binary_accuracy: 0.6946 - val_loss: 0.5736 - val_accuracy: 0.0000e+00 - val_binary_accuracy: 0.6973\n",
      "Epoch 32/750\n",
      "480/480 [==============================] - 4s 9ms/step - loss: 0.5767 - accuracy: 0.0058 - binary_accuracy: 0.6946 - val_loss: 0.5729 - val_accuracy: 0.0000e+00 - val_binary_accuracy: 0.6973\n",
      "Epoch 33/750\n",
      "480/480 [==============================] - 4s 9ms/step - loss: 0.5758 - accuracy: 0.0067 - binary_accuracy: 0.6946 - val_loss: 0.5722 - val_accuracy: 0.0000e+00 - val_binary_accuracy: 0.6973\n",
      "Epoch 34/750\n",
      "480/480 [==============================] - 4s 9ms/step - loss: 0.5749 - accuracy: 0.0063 - binary_accuracy: 0.6946 - val_loss: 0.5715 - val_accuracy: 0.0000e+00 - val_binary_accuracy: 0.6973\n",
      "Epoch 35/750\n",
      "480/480 [==============================] - 4s 9ms/step - loss: 0.5740 - accuracy: 0.0063 - binary_accuracy: 0.6946 - val_loss: 0.5708 - val_accuracy: 0.0000e+00 - val_binary_accuracy: 0.6973\n",
      "Epoch 36/750\n",
      "480/480 [==============================] - 4s 9ms/step - loss: 0.5732 - accuracy: 0.0067 - binary_accuracy: 0.6946 - val_loss: 0.5700 - val_accuracy: 0.0000e+00 - val_binary_accuracy: 0.6973\n",
      "Epoch 37/750\n",
      "480/480 [==============================] - 4s 9ms/step - loss: 0.5723 - accuracy: 0.0067 - binary_accuracy: 0.6946 - val_loss: 0.5694 - val_accuracy: 0.0000e+00 - val_binary_accuracy: 0.6973\n",
      "Epoch 38/750\n",
      "480/480 [==============================] - 4s 9ms/step - loss: 0.5715 - accuracy: 0.0063 - binary_accuracy: 0.6946 - val_loss: 0.5687 - val_accuracy: 0.0000e+00 - val_binary_accuracy: 0.6973\n",
      "Epoch 39/750\n",
      "480/480 [==============================] - 4s 9ms/step - loss: 0.5706 - accuracy: 0.0071 - binary_accuracy: 0.6946 - val_loss: 0.5680 - val_accuracy: 0.0000e+00 - val_binary_accuracy: 0.6973\n",
      "Epoch 40/750\n",
      "480/480 [==============================] - 4s 9ms/step - loss: 0.5698 - accuracy: 0.0067 - binary_accuracy: 0.6946 - val_loss: 0.5673 - val_accuracy: 0.0037 - val_binary_accuracy: 0.6973\n",
      "Epoch 41/750\n"
     ]
    },
    {
     "name": "stdout",
     "output_type": "stream",
     "text": [
      "480/480 [==============================] - 4s 9ms/step - loss: 0.5690 - accuracy: 0.0075 - binary_accuracy: 0.6946 - val_loss: 0.5667 - val_accuracy: 0.0037 - val_binary_accuracy: 0.6973\n",
      "Epoch 42/750\n",
      "480/480 [==============================] - 4s 9ms/step - loss: 0.5682 - accuracy: 0.0067 - binary_accuracy: 0.6946 - val_loss: 0.5660 - val_accuracy: 0.0037 - val_binary_accuracy: 0.6973\n",
      "Epoch 43/750\n",
      "480/480 [==============================] - 5s 10ms/step - loss: 0.5674 - accuracy: 0.0063 - binary_accuracy: 0.6946 - val_loss: 0.5654 - val_accuracy: 0.0037 - val_binary_accuracy: 0.6973\n",
      "Epoch 44/750\n",
      "480/480 [==============================] - 5s 9ms/step - loss: 0.5666 - accuracy: 0.0083 - binary_accuracy: 0.6946 - val_loss: 0.5648 - val_accuracy: 0.0037 - val_binary_accuracy: 0.6973\n",
      "Epoch 45/750\n",
      "480/480 [==============================] - 4s 9ms/step - loss: 0.5658 - accuracy: 0.0075 - binary_accuracy: 0.6946 - val_loss: 0.5641 - val_accuracy: 0.0037 - val_binary_accuracy: 0.6973\n",
      "Epoch 46/750\n",
      "480/480 [==============================] - 4s 9ms/step - loss: 0.5650 - accuracy: 0.0079 - binary_accuracy: 0.6946 - val_loss: 0.5635 - val_accuracy: 0.0037 - val_binary_accuracy: 0.6973\n",
      "Epoch 47/750\n",
      "480/480 [==============================] - 4s 9ms/step - loss: 0.5642 - accuracy: 0.0088 - binary_accuracy: 0.6946 - val_loss: 0.5629 - val_accuracy: 0.0037 - val_binary_accuracy: 0.6973\n",
      "Epoch 48/750\n",
      "480/480 [==============================] - 4s 9ms/step - loss: 0.5635 - accuracy: 0.0079 - binary_accuracy: 0.6946 - val_loss: 0.5623 - val_accuracy: 0.0037 - val_binary_accuracy: 0.6973\n",
      "Epoch 49/750\n",
      "480/480 [==============================] - 4s 9ms/step - loss: 0.5627 - accuracy: 0.0079 - binary_accuracy: 0.6946 - val_loss: 0.5617 - val_accuracy: 0.0037 - val_binary_accuracy: 0.6973\n",
      "Epoch 50/750\n",
      "480/480 [==============================] - 4s 9ms/step - loss: 0.5619 - accuracy: 0.0083 - binary_accuracy: 0.6946 - val_loss: 0.5611 - val_accuracy: 0.0037 - val_binary_accuracy: 0.6973\n",
      "Epoch 51/750\n",
      "480/480 [==============================] - 4s 9ms/step - loss: 0.5612 - accuracy: 0.0079 - binary_accuracy: 0.6946 - val_loss: 0.5605 - val_accuracy: 0.0037 - val_binary_accuracy: 0.6973\n",
      "Epoch 52/750\n",
      "480/480 [==============================] - 4s 9ms/step - loss: 0.5605 - accuracy: 0.0083 - binary_accuracy: 0.6946 - val_loss: 0.5599 - val_accuracy: 0.0037 - val_binary_accuracy: 0.6973\n",
      "Epoch 53/750\n",
      "480/480 [==============================] - 4s 9ms/step - loss: 0.5597 - accuracy: 0.0083 - binary_accuracy: 0.6946 - val_loss: 0.5594 - val_accuracy: 0.0037 - val_binary_accuracy: 0.6973\n",
      "Epoch 54/750\n",
      "480/480 [==============================] - 5s 9ms/step - loss: 0.5590 - accuracy: 0.0088 - binary_accuracy: 0.6946 - val_loss: 0.5588 - val_accuracy: 0.0037 - val_binary_accuracy: 0.6973\n",
      "Epoch 55/750\n",
      "480/480 [==============================] - 5s 10ms/step - loss: 0.5583 - accuracy: 0.0088 - binary_accuracy: 0.6946 - val_loss: 0.5582 - val_accuracy: 0.0037 - val_binary_accuracy: 0.6973\n",
      "Epoch 56/750\n",
      "480/480 [==============================] - 4s 9ms/step - loss: 0.5576 - accuracy: 0.0092 - binary_accuracy: 0.6946 - val_loss: 0.5577 - val_accuracy: 0.0037 - val_binary_accuracy: 0.6973\n",
      "Epoch 57/750\n",
      "480/480 [==============================] - 4s 9ms/step - loss: 0.5569 - accuracy: 0.0092 - binary_accuracy: 0.6946 - val_loss: 0.5571 - val_accuracy: 0.0037 - val_binary_accuracy: 0.6973\n",
      "Epoch 58/750\n",
      "480/480 [==============================] - 6s 12ms/step - loss: 0.5562 - accuracy: 0.0088 - binary_accuracy: 0.6946 - val_loss: 0.5566 - val_accuracy: 0.0037 - val_binary_accuracy: 0.6973\n",
      "Epoch 59/750\n",
      "480/480 [==============================] - 4s 9ms/step - loss: 0.5555 - accuracy: 0.0096 - binary_accuracy: 0.6946 - val_loss: 0.5560 - val_accuracy: 0.0037 - val_binary_accuracy: 0.6973\n",
      "Epoch 60/750\n",
      "480/480 [==============================] - 4s 8ms/step - loss: 0.5548 - accuracy: 0.0100 - binary_accuracy: 0.6946 - val_loss: 0.5555 - val_accuracy: 0.0037 - val_binary_accuracy: 0.6973\n",
      "Epoch 61/750\n",
      "480/480 [==============================] - 5s 9ms/step - loss: 0.5541 - accuracy: 0.0096 - binary_accuracy: 0.6946 - val_loss: 0.5550 - val_accuracy: 0.0037 - val_binary_accuracy: 0.6973\n",
      "Epoch 62/750\n",
      "480/480 [==============================] - 5s 10ms/step - loss: 0.5534 - accuracy: 0.0096 - binary_accuracy: 0.6946 - val_loss: 0.5544 - val_accuracy: 0.0037 - val_binary_accuracy: 0.6973\n",
      "Epoch 63/750\n",
      "480/480 [==============================] - 4s 9ms/step - loss: 0.5527 - accuracy: 0.0100 - binary_accuracy: 0.6946 - val_loss: 0.5539 - val_accuracy: 0.0075 - val_binary_accuracy: 0.6973\n",
      "Epoch 64/750\n",
      "480/480 [==============================] - 4s 8ms/step - loss: 0.5521 - accuracy: 0.0100 - binary_accuracy: 0.6946 - val_loss: 0.5534 - val_accuracy: 0.0037 - val_binary_accuracy: 0.6973\n",
      "Epoch 65/750\n",
      "480/480 [==============================] - 4s 8ms/step - loss: 0.5514 - accuracy: 0.0100 - binary_accuracy: 0.6946 - val_loss: 0.5529 - val_accuracy: 0.0075 - val_binary_accuracy: 0.6973\n",
      "Epoch 66/750\n",
      "480/480 [==============================] - 4s 9ms/step - loss: 0.5508 - accuracy: 0.0104 - binary_accuracy: 0.6946 - val_loss: 0.5524 - val_accuracy: 0.0075 - val_binary_accuracy: 0.6973\n",
      "Epoch 67/750\n",
      "480/480 [==============================] - 4s 8ms/step - loss: 0.5501 - accuracy: 0.0100 - binary_accuracy: 0.6946 - val_loss: 0.5519 - val_accuracy: 0.0037 - val_binary_accuracy: 0.6973\n",
      "Epoch 68/750\n",
      "120/480 [======>.......................] - ETA: 2s - loss: 0.5547 - accuracy: 0.0083 - binary_accuracy: 0.6839[CV] END batch_size=5, dropout_rate=0.6, hidden_dim=256, n_epochs=750, n_hidden_layers=1, optimizer=SGD, output_activation=softmax; total time=  12.0s\n",
      "\n",
      "systemMemory: 8.00 GB\n",
      "maxCacheSize: 2.67 GB\n",
      "\n",
      "171/480 [=========>....................] - ETA: 2s - loss: 0.5540 - accuracy: 0.0140 - binary_accuracy: 0.6858[CV] END batch_size=5, dropout_rate=0.6, hidden_dim=256, n_epochs=750, n_hidden_layers=1, optimizer=SGD, output_activation=softmax; total time=  11.6s\n",
      "\n",
      "systemMemory: 8.00 GB\n",
      "maxCacheSize: 2.67 GB\n",
      "\n",
      "212/480 [============>.................] - ETA: 2s - loss: 0.5529 - accuracy: 0.0113 - binary_accuracy: 0.6872[CV] END batch_size=5, dropout_rate=0.8, hidden_dim=256, n_epochs=750, n_hidden_layers=1, optimizer=SGD, output_activation=sigmoid; total time=  11.1s\n",
      "\n",
      "systemMemory: 8.00 GB\n",
      "maxCacheSize: 2.67 GB\n",
      "\n",
      "259/480 [===============>..............] - ETA: 1s - loss: 0.5530 - accuracy: 0.0116 - binary_accuracy: 0.6884[CV] END batch_size=5, dropout_rate=0.8, hidden_dim=256, n_epochs=750, n_hidden_layers=1, optimizer=SGD, output_activation=sigmoid; total time=  11.5s\n",
      "\n",
      "systemMemory: 8.00 GB\n",
      "maxCacheSize: 2.67 GB\n",
      "\n",
      "298/480 [=================>............] - ETA: 1s - loss: 0.5523 - accuracy: 0.0114 - binary_accuracy: 0.6896[CV] END batch_size=5, dropout_rate=0.8, hidden_dim=256, n_epochs=750, n_hidden_layers=1, optimizer=SGD, output_activation=sigmoid; total time=  11.7s\n",
      "\n",
      "systemMemory: 8.00 GB\n",
      "maxCacheSize: 2.67 GB\n",
      "\n",
      "338/480 [====================>.........] - ETA: 1s - loss: 0.5511 - accuracy: 0.0118 - binary_accuracy: 0.6919[CV] END batch_size=5, dropout_rate=0.8, hidden_dim=256, n_epochs=750, n_hidden_layers=1, optimizer=SGD, output_activation=softmax; total time=  11.6s\n",
      "\n",
      "systemMemory: 8.00 GB\n",
      "maxCacheSize: 2.67 GB\n",
      "\n",
      "378/480 [======================>.......] - ETA: 0s - loss: 0.5510 - accuracy: 0.0122 - binary_accuracy: 0.6930[CV] END batch_size=5, dropout_rate=0.8, hidden_dim=256, n_epochs=750, n_hidden_layers=1, optimizer=SGD, output_activation=softmax; total time=  11.8s\n",
      "\n",
      "systemMemory: 8.00 GB\n",
      "maxCacheSize: 2.67 GB\n",
      "\n",
      "417/480 [=========================>....] - ETA: 0s - loss: 0.5511 - accuracy: 0.0120 - binary_accuracy: 0.6929[CV] END batch_size=5, dropout_rate=0.8, hidden_dim=256, n_epochs=750, n_hidden_layers=1, optimizer=SGD, output_activation=softmax; total time=  11.8s\n",
      "\n",
      "systemMemory: 8.00 GB\n",
      "maxCacheSize: 2.67 GB\n",
      "\n",
      "480/480 [==============================] - 5s 10ms/step - loss: 0.5494 - accuracy: 0.0108 - binary_accuracy: 0.6946 - val_loss: 0.5514 - val_accuracy: 0.0075 - val_binary_accuracy: 0.6973\n",
      "Epoch 69/750\n",
      "480/480 [==============================] - 4s 8ms/step - loss: 0.5488 - accuracy: 0.0113 - binary_accuracy: 0.6946 - val_loss: 0.5509 - val_accuracy: 0.0037 - val_binary_accuracy: 0.6973\n"
     ]
    },
    {
     "name": "stdout",
     "output_type": "stream",
     "text": [
      "Epoch 70/750\n",
      "480/480 [==============================] - 4s 8ms/step - loss: 0.5482 - accuracy: 0.0104 - binary_accuracy: 0.6946 - val_loss: 0.5504 - val_accuracy: 0.0037 - val_binary_accuracy: 0.6973\n",
      "Epoch 71/750\n",
      "480/480 [==============================] - 4s 8ms/step - loss: 0.5475 - accuracy: 0.0108 - binary_accuracy: 0.6946 - val_loss: 0.5499 - val_accuracy: 0.0075 - val_binary_accuracy: 0.6973\n",
      "Epoch 72/750\n",
      "480/480 [==============================] - 4s 8ms/step - loss: 0.5469 - accuracy: 0.0117 - binary_accuracy: 0.6946 - val_loss: 0.5495 - val_accuracy: 0.0075 - val_binary_accuracy: 0.6973\n",
      "Epoch 73/750\n",
      "480/480 [==============================] - 4s 8ms/step - loss: 0.5463 - accuracy: 0.0100 - binary_accuracy: 0.6946 - val_loss: 0.5490 - val_accuracy: 0.0075 - val_binary_accuracy: 0.6973\n",
      "Epoch 74/750\n",
      "480/480 [==============================] - 4s 8ms/step - loss: 0.5457 - accuracy: 0.0113 - binary_accuracy: 0.6946 - val_loss: 0.5485 - val_accuracy: 0.0075 - val_binary_accuracy: 0.6973\n",
      "Epoch 75/750\n",
      "480/480 [==============================] - 4s 8ms/step - loss: 0.5450 - accuracy: 0.0108 - binary_accuracy: 0.6946 - val_loss: 0.5481 - val_accuracy: 0.0075 - val_binary_accuracy: 0.6973\n",
      "Epoch 76/750\n",
      "480/480 [==============================] - 4s 8ms/step - loss: 0.5444 - accuracy: 0.0113 - binary_accuracy: 0.6946 - val_loss: 0.5476 - val_accuracy: 0.0037 - val_binary_accuracy: 0.6973\n",
      "Epoch 77/750\n",
      "480/480 [==============================] - 4s 8ms/step - loss: 0.5438 - accuracy: 0.0117 - binary_accuracy: 0.6946 - val_loss: 0.5471 - val_accuracy: 0.0037 - val_binary_accuracy: 0.6973\n",
      "Epoch 78/750\n",
      "480/480 [==============================] - 4s 8ms/step - loss: 0.5432 - accuracy: 0.0121 - binary_accuracy: 0.6946 - val_loss: 0.5467 - val_accuracy: 0.0075 - val_binary_accuracy: 0.6973\n",
      "Epoch 79/750\n",
      "480/480 [==============================] - 4s 8ms/step - loss: 0.5426 - accuracy: 0.0125 - binary_accuracy: 0.6946 - val_loss: 0.5462 - val_accuracy: 0.0075 - val_binary_accuracy: 0.6973\n",
      "Epoch 80/750\n",
      "480/480 [==============================] - 4s 8ms/step - loss: 0.5420 - accuracy: 0.0117 - binary_accuracy: 0.6946 - val_loss: 0.5457 - val_accuracy: 0.0037 - val_binary_accuracy: 0.6973\n",
      "Epoch 81/750\n",
      "480/480 [==============================] - 4s 8ms/step - loss: 0.5415 - accuracy: 0.0121 - binary_accuracy: 0.6946 - val_loss: 0.5453 - val_accuracy: 0.0075 - val_binary_accuracy: 0.6973\n",
      "Epoch 82/750\n",
      "480/480 [==============================] - 4s 8ms/step - loss: 0.5409 - accuracy: 0.0121 - binary_accuracy: 0.6946 - val_loss: 0.5448 - val_accuracy: 0.0037 - val_binary_accuracy: 0.6973\n",
      "Epoch 83/750\n",
      "480/480 [==============================] - 4s 8ms/step - loss: 0.5403 - accuracy: 0.0125 - binary_accuracy: 0.6946 - val_loss: 0.5444 - val_accuracy: 0.0075 - val_binary_accuracy: 0.6973\n",
      "Epoch 84/750\n",
      "480/480 [==============================] - 4s 9ms/step - loss: 0.5397 - accuracy: 0.0125 - binary_accuracy: 0.6946 - val_loss: 0.5440 - val_accuracy: 0.0075 - val_binary_accuracy: 0.6973\n",
      "Epoch 85/750\n",
      "480/480 [==============================] - 4s 9ms/step - loss: 0.5391 - accuracy: 0.0125 - binary_accuracy: 0.6946 - val_loss: 0.5435 - val_accuracy: 0.0075 - val_binary_accuracy: 0.6973\n",
      "Epoch 86/750\n",
      "480/480 [==============================] - 4s 9ms/step - loss: 0.5386 - accuracy: 0.0125 - binary_accuracy: 0.6946 - val_loss: 0.5431 - val_accuracy: 0.0075 - val_binary_accuracy: 0.6973\n",
      "Epoch 87/750\n",
      "480/480 [==============================] - 4s 9ms/step - loss: 0.5380 - accuracy: 0.0125 - binary_accuracy: 0.6946 - val_loss: 0.5427 - val_accuracy: 0.0075 - val_binary_accuracy: 0.6973\n",
      "Epoch 88/750\n",
      "480/480 [==============================] - 5s 10ms/step - loss: 0.5374 - accuracy: 0.0125 - binary_accuracy: 0.6946 - val_loss: 0.5423 - val_accuracy: 0.0075 - val_binary_accuracy: 0.6973\n",
      "Epoch 89/750\n",
      "480/480 [==============================] - 4s 8ms/step - loss: 0.5369 - accuracy: 0.0133 - binary_accuracy: 0.6946 - val_loss: 0.5418 - val_accuracy: 0.0075 - val_binary_accuracy: 0.6973\n",
      "Epoch 90/750\n",
      "480/480 [==============================] - 4s 9ms/step - loss: 0.5363 - accuracy: 0.0133 - binary_accuracy: 0.6946 - val_loss: 0.5414 - val_accuracy: 0.0075 - val_binary_accuracy: 0.6973\n",
      "Epoch 91/750\n",
      "480/480 [==============================] - 4s 9ms/step - loss: 0.5357 - accuracy: 0.0133 - binary_accuracy: 0.6946 - val_loss: 0.5410 - val_accuracy: 0.0075 - val_binary_accuracy: 0.6973\n",
      "Epoch 92/750\n",
      "480/480 [==============================] - 4s 9ms/step - loss: 0.5352 - accuracy: 0.0129 - binary_accuracy: 0.6946 - val_loss: 0.5406 - val_accuracy: 0.0075 - val_binary_accuracy: 0.6973\n",
      "Epoch 93/750\n",
      "480/480 [==============================] - 4s 8ms/step - loss: 0.5347 - accuracy: 0.0125 - binary_accuracy: 0.6946 - val_loss: 0.5402 - val_accuracy: 0.0075 - val_binary_accuracy: 0.6973\n",
      "Epoch 94/750\n",
      "480/480 [==============================] - 4s 8ms/step - loss: 0.5341 - accuracy: 0.0133 - binary_accuracy: 0.6946 - val_loss: 0.5398 - val_accuracy: 0.0075 - val_binary_accuracy: 0.6973\n",
      "Epoch 95/750\n",
      "480/480 [==============================] - 4s 9ms/step - loss: 0.5336 - accuracy: 0.0125 - binary_accuracy: 0.6946 - val_loss: 0.5394 - val_accuracy: 0.0075 - val_binary_accuracy: 0.6973\n",
      "Epoch 96/750\n",
      "480/480 [==============================] - 4s 9ms/step - loss: 0.5330 - accuracy: 0.0121 - binary_accuracy: 0.6946 - val_loss: 0.5390 - val_accuracy: 0.0075 - val_binary_accuracy: 0.6973\n",
      "Epoch 97/750\n",
      "480/480 [==============================] - 4s 9ms/step - loss: 0.5325 - accuracy: 0.0129 - binary_accuracy: 0.6946 - val_loss: 0.5386 - val_accuracy: 0.0075 - val_binary_accuracy: 0.6973\n",
      "Epoch 98/750\n",
      "480/480 [==============================] - 4s 9ms/step - loss: 0.5320 - accuracy: 0.0142 - binary_accuracy: 0.6946 - val_loss: 0.5382 - val_accuracy: 0.0075 - val_binary_accuracy: 0.6973\n",
      "Epoch 99/750\n",
      "480/480 [==============================] - 4s 9ms/step - loss: 0.5314 - accuracy: 0.0125 - binary_accuracy: 0.6946 - val_loss: 0.5378 - val_accuracy: 0.0075 - val_binary_accuracy: 0.6973\n",
      "Epoch 100/750\n",
      "480/480 [==============================] - 4s 8ms/step - loss: 0.5309 - accuracy: 0.0133 - binary_accuracy: 0.6946 - val_loss: 0.5374 - val_accuracy: 0.0075 - val_binary_accuracy: 0.6973\n",
      "Epoch 101/750\n",
      "480/480 [==============================] - 4s 9ms/step - loss: 0.5304 - accuracy: 0.0125 - binary_accuracy: 0.6946 - val_loss: 0.5370 - val_accuracy: 0.0075 - val_binary_accuracy: 0.6973\n",
      "Epoch 102/750\n",
      "480/480 [==============================] - 4s 9ms/step - loss: 0.5299 - accuracy: 0.0133 - binary_accuracy: 0.6946 - val_loss: 0.5367 - val_accuracy: 0.0075 - val_binary_accuracy: 0.6973\n",
      "Epoch 103/750\n",
      "480/480 [==============================] - 4s 8ms/step - loss: 0.5294 - accuracy: 0.0133 - binary_accuracy: 0.6946 - val_loss: 0.5363 - val_accuracy: 0.0075 - val_binary_accuracy: 0.6973\n",
      "Epoch 104/750\n",
      "480/480 [==============================] - 4s 8ms/step - loss: 0.5289 - accuracy: 0.0133 - binary_accuracy: 0.6946 - val_loss: 0.5359 - val_accuracy: 0.0075 - val_binary_accuracy: 0.6973\n",
      "Epoch 105/750\n",
      "480/480 [==============================] - 4s 8ms/step - loss: 0.5284 - accuracy: 0.0133 - binary_accuracy: 0.6946 - val_loss: 0.5356 - val_accuracy: 0.0112 - val_binary_accuracy: 0.6973\n",
      "Epoch 106/750\n",
      "480/480 [==============================] - 4s 8ms/step - loss: 0.5279 - accuracy: 0.0129 - binary_accuracy: 0.6946 - val_loss: 0.5352 - val_accuracy: 0.0112 - val_binary_accuracy: 0.6973\n",
      "Epoch 107/750\n",
      "480/480 [==============================] - 4s 8ms/step - loss: 0.5274 - accuracy: 0.0133 - binary_accuracy: 0.6946 - val_loss: 0.5348 - val_accuracy: 0.0112 - val_binary_accuracy: 0.6973\n",
      "Epoch 108/750\n",
      "480/480 [==============================] - 4s 8ms/step - loss: 0.5269 - accuracy: 0.0133 - binary_accuracy: 0.6946 - val_loss: 0.5345 - val_accuracy: 0.0112 - val_binary_accuracy: 0.6973\n",
      "Epoch 109/750\n",
      "480/480 [==============================] - 4s 8ms/step - loss: 0.5264 - accuracy: 0.0133 - binary_accuracy: 0.6946 - val_loss: 0.5342 - val_accuracy: 0.0112 - val_binary_accuracy: 0.6973\n",
      "Epoch 110/750\n",
      "480/480 [==============================] - 4s 8ms/step - loss: 0.5259 - accuracy: 0.0138 - binary_accuracy: 0.6946 - val_loss: 0.5338 - val_accuracy: 0.0112 - val_binary_accuracy: 0.6973\n"
     ]
    },
    {
     "name": "stdout",
     "output_type": "stream",
     "text": [
      "Epoch 111/750\n",
      "480/480 [==============================] - 4s 8ms/step - loss: 0.5254 - accuracy: 0.0133 - binary_accuracy: 0.6946 - val_loss: 0.5335 - val_accuracy: 0.0112 - val_binary_accuracy: 0.6973\n",
      "Epoch 112/750\n",
      "480/480 [==============================] - 4s 9ms/step - loss: 0.5249 - accuracy: 0.0138 - binary_accuracy: 0.6946 - val_loss: 0.5332 - val_accuracy: 0.0112 - val_binary_accuracy: 0.6973\n",
      "Epoch 113/750\n",
      "480/480 [==============================] - 4s 9ms/step - loss: 0.5245 - accuracy: 0.0133 - binary_accuracy: 0.6946 - val_loss: 0.5328 - val_accuracy: 0.0112 - val_binary_accuracy: 0.6973\n",
      "Epoch 114/750\n",
      "480/480 [==============================] - 4s 8ms/step - loss: 0.5240 - accuracy: 0.0125 - binary_accuracy: 0.6946 - val_loss: 0.5325 - val_accuracy: 0.0112 - val_binary_accuracy: 0.6973\n",
      "Epoch 115/750\n",
      "480/480 [==============================] - 4s 9ms/step - loss: 0.5235 - accuracy: 0.0133 - binary_accuracy: 0.6946 - val_loss: 0.5321 - val_accuracy: 0.0112 - val_binary_accuracy: 0.6973\n",
      "Epoch 116/750\n",
      "480/480 [==============================] - 5s 10ms/step - loss: 0.5231 - accuracy: 0.0129 - binary_accuracy: 0.6946 - val_loss: 0.5317 - val_accuracy: 0.0112 - val_binary_accuracy: 0.6973\n",
      "Epoch 117/750\n",
      "480/480 [==============================] - 4s 9ms/step - loss: 0.5226 - accuracy: 0.0129 - binary_accuracy: 0.6946 - val_loss: 0.5314 - val_accuracy: 0.0112 - val_binary_accuracy: 0.6973\n",
      "Epoch 118/750\n",
      "480/480 [==============================] - 5s 10ms/step - loss: 0.5222 - accuracy: 0.0138 - binary_accuracy: 0.6946 - val_loss: 0.5311 - val_accuracy: 0.0112 - val_binary_accuracy: 0.6973\n",
      "Epoch 119/750\n",
      "480/480 [==============================] - 4s 9ms/step - loss: 0.5217 - accuracy: 0.0133 - binary_accuracy: 0.6946 - val_loss: 0.5308 - val_accuracy: 0.0112 - val_binary_accuracy: 0.6973\n",
      "Epoch 120/750\n",
      "480/480 [==============================] - 4s 9ms/step - loss: 0.5212 - accuracy: 0.0138 - binary_accuracy: 0.6946 - val_loss: 0.5304 - val_accuracy: 0.0112 - val_binary_accuracy: 0.6973\n",
      "Epoch 121/750\n",
      "480/480 [==============================] - 4s 9ms/step - loss: 0.5208 - accuracy: 0.0138 - binary_accuracy: 0.6946 - val_loss: 0.5302 - val_accuracy: 0.0075 - val_binary_accuracy: 0.6973\n",
      "Epoch 122/750\n",
      "480/480 [==============================] - 4s 9ms/step - loss: 0.5203 - accuracy: 0.0138 - binary_accuracy: 0.6946 - val_loss: 0.5298 - val_accuracy: 0.0037 - val_binary_accuracy: 0.6973\n",
      "Epoch 123/750\n",
      "480/480 [==============================] - 4s 9ms/step - loss: 0.5199 - accuracy: 0.0138 - binary_accuracy: 0.6946 - val_loss: 0.5295 - val_accuracy: 0.0037 - val_binary_accuracy: 0.6973\n",
      "Epoch 124/750\n",
      "480/480 [==============================] - 4s 9ms/step - loss: 0.5195 - accuracy: 0.0129 - binary_accuracy: 0.6946 - val_loss: 0.5292 - val_accuracy: 0.0075 - val_binary_accuracy: 0.6973\n",
      "Epoch 125/750\n",
      "480/480 [==============================] - 4s 9ms/step - loss: 0.5191 - accuracy: 0.0146 - binary_accuracy: 0.6946 - val_loss: 0.5289 - val_accuracy: 0.0112 - val_binary_accuracy: 0.6973\n",
      "Epoch 126/750\n",
      "480/480 [==============================] - 4s 9ms/step - loss: 0.5186 - accuracy: 0.0146 - binary_accuracy: 0.6946 - val_loss: 0.5286 - val_accuracy: 0.0075 - val_binary_accuracy: 0.6973\n",
      "Epoch 127/750\n",
      "480/480 [==============================] - 5s 10ms/step - loss: 0.5182 - accuracy: 0.0146 - binary_accuracy: 0.6946 - val_loss: 0.5283 - val_accuracy: 0.0037 - val_binary_accuracy: 0.6973\n",
      "Epoch 128/750\n",
      "480/480 [==============================] - 4s 9ms/step - loss: 0.5178 - accuracy: 0.0146 - binary_accuracy: 0.6946 - val_loss: 0.5281 - val_accuracy: 0.0075 - val_binary_accuracy: 0.6973\n",
      "Epoch 129/750\n",
      "480/480 [==============================] - 4s 9ms/step - loss: 0.5173 - accuracy: 0.0146 - binary_accuracy: 0.6946 - val_loss: 0.5277 - val_accuracy: 0.0112 - val_binary_accuracy: 0.6973\n",
      "Epoch 130/750\n",
      "480/480 [==============================] - 4s 9ms/step - loss: 0.5169 - accuracy: 0.0142 - binary_accuracy: 0.6946 - val_loss: 0.5274 - val_accuracy: 0.0075 - val_binary_accuracy: 0.6973\n",
      "Epoch 131/750\n",
      "480/480 [==============================] - 4s 9ms/step - loss: 0.5165 - accuracy: 0.0142 - binary_accuracy: 0.6946 - val_loss: 0.5271 - val_accuracy: 0.0112 - val_binary_accuracy: 0.6973\n",
      "Epoch 132/750\n",
      "480/480 [==============================] - 4s 9ms/step - loss: 0.5161 - accuracy: 0.0146 - binary_accuracy: 0.6946 - val_loss: 0.5268 - val_accuracy: 0.0075 - val_binary_accuracy: 0.6973\n",
      "Epoch 133/750\n",
      "480/480 [==============================] - 4s 9ms/step - loss: 0.5157 - accuracy: 0.0142 - binary_accuracy: 0.6946 - val_loss: 0.5266 - val_accuracy: 0.0075 - val_binary_accuracy: 0.6973\n",
      "Epoch 134/750\n",
      "480/480 [==============================] - 4s 9ms/step - loss: 0.5153 - accuracy: 0.0150 - binary_accuracy: 0.6946 - val_loss: 0.5263 - val_accuracy: 0.0075 - val_binary_accuracy: 0.6973\n",
      "Epoch 135/750\n",
      "480/480 [==============================] - 4s 9ms/step - loss: 0.5149 - accuracy: 0.0138 - binary_accuracy: 0.6946 - val_loss: 0.5261 - val_accuracy: 0.0075 - val_binary_accuracy: 0.6973\n",
      "Epoch 136/750\n",
      "480/480 [==============================] - 4s 9ms/step - loss: 0.5145 - accuracy: 0.0138 - binary_accuracy: 0.6946 - val_loss: 0.5258 - val_accuracy: 0.0075 - val_binary_accuracy: 0.6973\n",
      "Epoch 137/750\n",
      "480/480 [==============================] - 4s 9ms/step - loss: 0.5141 - accuracy: 0.0138 - binary_accuracy: 0.6946 - val_loss: 0.5255 - val_accuracy: 0.0075 - val_binary_accuracy: 0.6973\n",
      "Epoch 138/750\n",
      "480/480 [==============================] - 4s 9ms/step - loss: 0.5137 - accuracy: 0.0133 - binary_accuracy: 0.6946 - val_loss: 0.5252 - val_accuracy: 0.0075 - val_binary_accuracy: 0.6973\n",
      "Epoch 139/750\n",
      "480/480 [==============================] - 4s 9ms/step - loss: 0.5133 - accuracy: 0.0129 - binary_accuracy: 0.6946 - val_loss: 0.5250 - val_accuracy: 0.0075 - val_binary_accuracy: 0.6973\n",
      "Epoch 140/750\n",
      "480/480 [==============================] - 5s 10ms/step - loss: 0.5129 - accuracy: 0.0138 - binary_accuracy: 0.6946 - val_loss: 0.5246 - val_accuracy: 0.0075 - val_binary_accuracy: 0.6973\n",
      "Epoch 141/750\n",
      "480/480 [==============================] - 4s 9ms/step - loss: 0.5126 - accuracy: 0.0125 - binary_accuracy: 0.6946 - val_loss: 0.5244 - val_accuracy: 0.0075 - val_binary_accuracy: 0.6973\n",
      "Epoch 142/750\n",
      "480/480 [==============================] - 5s 9ms/step - loss: 0.5122 - accuracy: 0.0133 - binary_accuracy: 0.6946 - val_loss: 0.5241 - val_accuracy: 0.0075 - val_binary_accuracy: 0.6973\n",
      "Epoch 143/750\n",
      "480/480 [==============================] - 4s 9ms/step - loss: 0.5118 - accuracy: 0.0125 - binary_accuracy: 0.6946 - val_loss: 0.5239 - val_accuracy: 0.0075 - val_binary_accuracy: 0.6973\n",
      "Epoch 144/750\n",
      "480/480 [==============================] - 4s 9ms/step - loss: 0.5114 - accuracy: 0.0138 - binary_accuracy: 0.6946 - val_loss: 0.5236 - val_accuracy: 0.0075 - val_binary_accuracy: 0.6973\n",
      "Epoch 145/750\n",
      "480/480 [==============================] - 4s 9ms/step - loss: 0.5111 - accuracy: 0.0133 - binary_accuracy: 0.6946 - val_loss: 0.5234 - val_accuracy: 0.0075 - val_binary_accuracy: 0.6973\n",
      "Epoch 146/750\n",
      "480/480 [==============================] - 4s 9ms/step - loss: 0.5107 - accuracy: 0.0129 - binary_accuracy: 0.6946 - val_loss: 0.5231 - val_accuracy: 0.0075 - val_binary_accuracy: 0.6973\n",
      "Epoch 147/750\n",
      "480/480 [==============================] - 4s 9ms/step - loss: 0.5103 - accuracy: 0.0129 - binary_accuracy: 0.6946 - val_loss: 0.5229 - val_accuracy: 0.0075 - val_binary_accuracy: 0.6973\n",
      "Epoch 148/750\n",
      "480/480 [==============================] - 4s 9ms/step - loss: 0.5100 - accuracy: 0.0129 - binary_accuracy: 0.6946 - val_loss: 0.5227 - val_accuracy: 0.0112 - val_binary_accuracy: 0.6973\n",
      "Epoch 149/750\n",
      "480/480 [==============================] - 5s 10ms/step - loss: 0.5096 - accuracy: 0.0138 - binary_accuracy: 0.6946 - val_loss: 0.5224 - val_accuracy: 0.0075 - val_binary_accuracy: 0.6973\n",
      "Epoch 150/750\n",
      "480/480 [==============================] - 4s 9ms/step - loss: 0.5093 - accuracy: 0.0142 - binary_accuracy: 0.6946 - val_loss: 0.5222 - val_accuracy: 0.0075 - val_binary_accuracy: 0.6973\n",
      "Epoch 151/750\n",
      "480/480 [==============================] - 4s 9ms/step - loss: 0.5089 - accuracy: 0.0138 - binary_accuracy: 0.6946 - val_loss: 0.5219 - val_accuracy: 0.0112 - val_binary_accuracy: 0.6973\n"
     ]
    },
    {
     "name": "stdout",
     "output_type": "stream",
     "text": [
      "Epoch 152/750\n",
      "480/480 [==============================] - 4s 9ms/step - loss: 0.5086 - accuracy: 0.0138 - binary_accuracy: 0.6946 - val_loss: 0.5218 - val_accuracy: 0.0112 - val_binary_accuracy: 0.6973\n",
      "Epoch 153/750\n",
      "480/480 [==============================] - 4s 9ms/step - loss: 0.5082 - accuracy: 0.0142 - binary_accuracy: 0.6946 - val_loss: 0.5215 - val_accuracy: 0.0112 - val_binary_accuracy: 0.6973\n",
      "Epoch 154/750\n",
      "480/480 [==============================] - 4s 8ms/step - loss: 0.5079 - accuracy: 0.0133 - binary_accuracy: 0.6946 - val_loss: 0.5213 - val_accuracy: 0.0112 - val_binary_accuracy: 0.6973\n",
      "Epoch 155/750\n",
      "480/480 [==============================] - 4s 9ms/step - loss: 0.5075 - accuracy: 0.0129 - binary_accuracy: 0.6946 - val_loss: 0.5210 - val_accuracy: 0.0112 - val_binary_accuracy: 0.6973\n",
      "Epoch 156/750\n",
      "480/480 [==============================] - 4s 9ms/step - loss: 0.5072 - accuracy: 0.0133 - binary_accuracy: 0.6946 - val_loss: 0.5208 - val_accuracy: 0.0112 - val_binary_accuracy: 0.6973\n",
      "Epoch 157/750\n",
      "480/480 [==============================] - 4s 9ms/step - loss: 0.5069 - accuracy: 0.0142 - binary_accuracy: 0.6946 - val_loss: 0.5206 - val_accuracy: 0.0112 - val_binary_accuracy: 0.6973\n",
      "Epoch 158/750\n",
      "480/480 [==============================] - 4s 9ms/step - loss: 0.5065 - accuracy: 0.0142 - binary_accuracy: 0.6946 - val_loss: 0.5203 - val_accuracy: 0.0112 - val_binary_accuracy: 0.6973\n",
      "Epoch 159/750\n",
      "480/480 [==============================] - 4s 9ms/step - loss: 0.5062 - accuracy: 0.0138 - binary_accuracy: 0.6946 - val_loss: 0.5201 - val_accuracy: 0.0112 - val_binary_accuracy: 0.6973\n",
      "Epoch 160/750\n",
      "480/480 [==============================] - 4s 9ms/step - loss: 0.5059 - accuracy: 0.0142 - binary_accuracy: 0.6946 - val_loss: 0.5199 - val_accuracy: 0.0112 - val_binary_accuracy: 0.6973\n",
      "Epoch 161/750\n",
      "480/480 [==============================] - 4s 9ms/step - loss: 0.5055 - accuracy: 0.0138 - binary_accuracy: 0.6946 - val_loss: 0.5197 - val_accuracy: 0.0112 - val_binary_accuracy: 0.6973\n",
      "Epoch 162/750\n",
      "480/480 [==============================] - 4s 9ms/step - loss: 0.5052 - accuracy: 0.0142 - binary_accuracy: 0.6946 - val_loss: 0.5195 - val_accuracy: 0.0112 - val_binary_accuracy: 0.6973\n",
      "Epoch 163/750\n",
      "480/480 [==============================] - 4s 9ms/step - loss: 0.5049 - accuracy: 0.0138 - binary_accuracy: 0.6946 - val_loss: 0.5193 - val_accuracy: 0.0112 - val_binary_accuracy: 0.6973\n",
      "Epoch 164/750\n",
      "480/480 [==============================] - 4s 9ms/step - loss: 0.5046 - accuracy: 0.0146 - binary_accuracy: 0.6946 - val_loss: 0.5191 - val_accuracy: 0.0112 - val_binary_accuracy: 0.6973\n",
      "Epoch 165/750\n",
      "480/480 [==============================] - 5s 10ms/step - loss: 0.5043 - accuracy: 0.0150 - binary_accuracy: 0.6946 - val_loss: 0.5190 - val_accuracy: 0.0112 - val_binary_accuracy: 0.6973\n",
      "Epoch 166/750\n",
      "480/480 [==============================] - 4s 9ms/step - loss: 0.5040 - accuracy: 0.0133 - binary_accuracy: 0.6946 - val_loss: 0.5188 - val_accuracy: 0.0112 - val_binary_accuracy: 0.6973\n",
      "Epoch 167/750\n",
      "480/480 [==============================] - 4s 9ms/step - loss: 0.5037 - accuracy: 0.0150 - binary_accuracy: 0.6946 - val_loss: 0.5185 - val_accuracy: 0.0112 - val_binary_accuracy: 0.6973\n",
      "Epoch 168/750\n",
      "480/480 [==============================] - 4s 9ms/step - loss: 0.5034 - accuracy: 0.0142 - binary_accuracy: 0.6946 - val_loss: 0.5184 - val_accuracy: 0.0112 - val_binary_accuracy: 0.6973\n",
      "Epoch 169/750\n",
      "480/480 [==============================] - 4s 9ms/step - loss: 0.5031 - accuracy: 0.0138 - binary_accuracy: 0.6946 - val_loss: 0.5181 - val_accuracy: 0.0112 - val_binary_accuracy: 0.6973\n",
      "Epoch 170/750\n",
      "480/480 [==============================] - 4s 8ms/step - loss: 0.5027 - accuracy: 0.0133 - binary_accuracy: 0.6946 - val_loss: 0.5180 - val_accuracy: 0.0112 - val_binary_accuracy: 0.6973\n",
      "Epoch 171/750\n",
      "480/480 [==============================] - 4s 9ms/step - loss: 0.5025 - accuracy: 0.0142 - binary_accuracy: 0.6946 - val_loss: 0.5178 - val_accuracy: 0.0112 - val_binary_accuracy: 0.6973\n",
      "Epoch 172/750\n",
      "480/480 [==============================] - 4s 9ms/step - loss: 0.5022 - accuracy: 0.0146 - binary_accuracy: 0.6946 - val_loss: 0.5175 - val_accuracy: 0.0112 - val_binary_accuracy: 0.6973\n",
      "Epoch 173/750\n",
      "480/480 [==============================] - 5s 9ms/step - loss: 0.5019 - accuracy: 0.0138 - binary_accuracy: 0.6946 - val_loss: 0.5173 - val_accuracy: 0.0112 - val_binary_accuracy: 0.6973\n",
      "Epoch 174/750\n",
      "480/480 [==============================] - 4s 9ms/step - loss: 0.5016 - accuracy: 0.0146 - binary_accuracy: 0.6946 - val_loss: 0.5171 - val_accuracy: 0.0112 - val_binary_accuracy: 0.6973\n",
      "Epoch 175/750\n",
      "480/480 [==============================] - 4s 9ms/step - loss: 0.5013 - accuracy: 0.0142 - binary_accuracy: 0.6946 - val_loss: 0.5170 - val_accuracy: 0.0112 - val_binary_accuracy: 0.6973\n",
      "Epoch 176/750\n",
      "480/480 [==============================] - 4s 9ms/step - loss: 0.5010 - accuracy: 0.0146 - binary_accuracy: 0.6946 - val_loss: 0.5168 - val_accuracy: 0.0112 - val_binary_accuracy: 0.6973\n",
      "Epoch 177/750\n",
      "480/480 [==============================] - 4s 9ms/step - loss: 0.5007 - accuracy: 0.0146 - binary_accuracy: 0.6946 - val_loss: 0.5167 - val_accuracy: 0.0112 - val_binary_accuracy: 0.6973\n",
      "Epoch 178/750\n",
      "480/480 [==============================] - 4s 8ms/step - loss: 0.5004 - accuracy: 0.0146 - binary_accuracy: 0.6946 - val_loss: 0.5165 - val_accuracy: 0.0112 - val_binary_accuracy: 0.6973\n",
      "Epoch 179/750\n",
      "480/480 [==============================] - 4s 9ms/step - loss: 0.5002 - accuracy: 0.0142 - binary_accuracy: 0.6946 - val_loss: 0.5163 - val_accuracy: 0.0112 - val_binary_accuracy: 0.6973\n",
      "Epoch 180/750\n",
      "480/480 [==============================] - 4s 9ms/step - loss: 0.4999 - accuracy: 0.0142 - binary_accuracy: 0.6946 - val_loss: 0.5162 - val_accuracy: 0.0112 - val_binary_accuracy: 0.6973\n",
      "Epoch 181/750\n",
      "480/480 [==============================] - 4s 8ms/step - loss: 0.4996 - accuracy: 0.0150 - binary_accuracy: 0.6946 - val_loss: 0.5160 - val_accuracy: 0.0112 - val_binary_accuracy: 0.6973\n",
      "Epoch 182/750\n",
      "480/480 [==============================] - 4s 9ms/step - loss: 0.4993 - accuracy: 0.0146 - binary_accuracy: 0.6946 - val_loss: 0.5157 - val_accuracy: 0.0112 - val_binary_accuracy: 0.6973\n",
      "Epoch 183/750\n",
      "480/480 [==============================] - 5s 9ms/step - loss: 0.4991 - accuracy: 0.0138 - binary_accuracy: 0.6946 - val_loss: 0.5156 - val_accuracy: 0.0112 - val_binary_accuracy: 0.6973\n",
      "Epoch 184/750\n",
      "480/480 [==============================] - 4s 9ms/step - loss: 0.4988 - accuracy: 0.0142 - binary_accuracy: 0.6946 - val_loss: 0.5154 - val_accuracy: 0.0112 - val_binary_accuracy: 0.6973\n",
      "Epoch 185/750\n",
      "480/480 [==============================] - 4s 9ms/step - loss: 0.4985 - accuracy: 0.0133 - binary_accuracy: 0.6946 - val_loss: 0.5154 - val_accuracy: 0.0112 - val_binary_accuracy: 0.6973\n",
      "Epoch 186/750\n",
      "480/480 [==============================] - 4s 9ms/step - loss: 0.4983 - accuracy: 0.0150 - binary_accuracy: 0.6946 - val_loss: 0.5151 - val_accuracy: 0.0112 - val_binary_accuracy: 0.6973\n",
      "Epoch 187/750\n",
      "480/480 [==============================] - 4s 9ms/step - loss: 0.4980 - accuracy: 0.0142 - binary_accuracy: 0.6946 - val_loss: 0.5150 - val_accuracy: 0.0112 - val_binary_accuracy: 0.6973\n",
      "Epoch 188/750\n",
      "480/480 [==============================] - 4s 9ms/step - loss: 0.4978 - accuracy: 0.0146 - binary_accuracy: 0.6946 - val_loss: 0.5148 - val_accuracy: 0.0112 - val_binary_accuracy: 0.6973\n",
      "Epoch 189/750\n",
      "480/480 [==============================] - 4s 9ms/step - loss: 0.4975 - accuracy: 0.0138 - binary_accuracy: 0.6946 - val_loss: 0.5147 - val_accuracy: 0.0112 - val_binary_accuracy: 0.6973\n",
      "Epoch 190/750\n",
      "480/480 [==============================] - 5s 10ms/step - loss: 0.4972 - accuracy: 0.0142 - binary_accuracy: 0.6946 - val_loss: 0.5146 - val_accuracy: 0.0112 - val_binary_accuracy: 0.6973\n",
      "Epoch 191/750\n",
      "480/480 [==============================] - 4s 9ms/step - loss: 0.4970 - accuracy: 0.0150 - binary_accuracy: 0.6946 - val_loss: 0.5144 - val_accuracy: 0.0112 - val_binary_accuracy: 0.6973\n",
      "Epoch 192/750\n",
      "480/480 [==============================] - 5s 10ms/step - loss: 0.4968 - accuracy: 0.0138 - binary_accuracy: 0.6946 - val_loss: 0.5143 - val_accuracy: 0.0112 - val_binary_accuracy: 0.6973\n"
     ]
    },
    {
     "name": "stdout",
     "output_type": "stream",
     "text": [
      "Epoch 193/750\n",
      "480/480 [==============================] - 5s 10ms/step - loss: 0.4965 - accuracy: 0.0146 - binary_accuracy: 0.6946 - val_loss: 0.5141 - val_accuracy: 0.0112 - val_binary_accuracy: 0.6973\n",
      "Epoch 194/750\n",
      "480/480 [==============================] - 4s 9ms/step - loss: 0.4963 - accuracy: 0.0142 - binary_accuracy: 0.6946 - val_loss: 0.5139 - val_accuracy: 0.0112 - val_binary_accuracy: 0.6973\n",
      "Epoch 195/750\n",
      "480/480 [==============================] - 4s 9ms/step - loss: 0.4960 - accuracy: 0.0138 - binary_accuracy: 0.6946 - val_loss: 0.5138 - val_accuracy: 0.0112 - val_binary_accuracy: 0.6973\n",
      "Epoch 196/750\n",
      "480/480 [==============================] - 4s 9ms/step - loss: 0.4958 - accuracy: 0.0146 - binary_accuracy: 0.6946 - val_loss: 0.5137 - val_accuracy: 0.0112 - val_binary_accuracy: 0.6973\n",
      "Epoch 197/750\n",
      "480/480 [==============================] - 4s 9ms/step - loss: 0.4955 - accuracy: 0.0146 - binary_accuracy: 0.6946 - val_loss: 0.5135 - val_accuracy: 0.0112 - val_binary_accuracy: 0.6973\n",
      "Epoch 198/750\n",
      "480/480 [==============================] - 4s 9ms/step - loss: 0.4953 - accuracy: 0.0146 - binary_accuracy: 0.6946 - val_loss: 0.5134 - val_accuracy: 0.0112 - val_binary_accuracy: 0.6973\n",
      "Epoch 199/750\n",
      "480/480 [==============================] - 4s 9ms/step - loss: 0.4951 - accuracy: 0.0142 - binary_accuracy: 0.6946 - val_loss: 0.5132 - val_accuracy: 0.0112 - val_binary_accuracy: 0.6973\n",
      "Epoch 200/750\n",
      "480/480 [==============================] - 4s 9ms/step - loss: 0.4948 - accuracy: 0.0142 - binary_accuracy: 0.6946 - val_loss: 0.5130 - val_accuracy: 0.0112 - val_binary_accuracy: 0.6973\n",
      "Epoch 201/750\n",
      "480/480 [==============================] - 4s 9ms/step - loss: 0.4946 - accuracy: 0.0138 - binary_accuracy: 0.6946 - val_loss: 0.5129 - val_accuracy: 0.0112 - val_binary_accuracy: 0.6973\n",
      "Epoch 202/750\n",
      "480/480 [==============================] - 4s 9ms/step - loss: 0.4944 - accuracy: 0.0142 - binary_accuracy: 0.6946 - val_loss: 0.5127 - val_accuracy: 0.0112 - val_binary_accuracy: 0.6973\n",
      "Epoch 203/750\n",
      "480/480 [==============================] - 4s 9ms/step - loss: 0.4942 - accuracy: 0.0138 - binary_accuracy: 0.6946 - val_loss: 0.5127 - val_accuracy: 0.0112 - val_binary_accuracy: 0.6973\n",
      "Epoch 204/750\n",
      "480/480 [==============================] - 5s 10ms/step - loss: 0.4939 - accuracy: 0.0142 - binary_accuracy: 0.6946 - val_loss: 0.5125 - val_accuracy: 0.0112 - val_binary_accuracy: 0.6973\n",
      "Epoch 205/750\n",
      "480/480 [==============================] - 5s 9ms/step - loss: 0.4937 - accuracy: 0.0138 - binary_accuracy: 0.6946 - val_loss: 0.5125 - val_accuracy: 0.0112 - val_binary_accuracy: 0.6973\n",
      "Epoch 206/750\n",
      "480/480 [==============================] - 4s 9ms/step - loss: 0.4935 - accuracy: 0.0138 - binary_accuracy: 0.6946 - val_loss: 0.5124 - val_accuracy: 0.0112 - val_binary_accuracy: 0.6973\n",
      "Epoch 207/750\n",
      "480/480 [==============================] - 5s 9ms/step - loss: 0.4933 - accuracy: 0.0150 - binary_accuracy: 0.6946 - val_loss: 0.5122 - val_accuracy: 0.0112 - val_binary_accuracy: 0.6973\n",
      "Epoch 208/750\n",
      "480/480 [==============================] - 4s 9ms/step - loss: 0.4930 - accuracy: 0.0142 - binary_accuracy: 0.6946 - val_loss: 0.5120 - val_accuracy: 0.0112 - val_binary_accuracy: 0.6973\n",
      "Epoch 209/750\n",
      "480/480 [==============================] - 4s 9ms/step - loss: 0.4928 - accuracy: 0.0142 - binary_accuracy: 0.6946 - val_loss: 0.5120 - val_accuracy: 0.0112 - val_binary_accuracy: 0.6973\n",
      "Epoch 210/750\n",
      "480/480 [==============================] - 4s 9ms/step - loss: 0.4926 - accuracy: 0.0138 - binary_accuracy: 0.6946 - val_loss: 0.5119 - val_accuracy: 0.0112 - val_binary_accuracy: 0.6973\n",
      "Epoch 211/750\n",
      "480/480 [==============================] - 4s 9ms/step - loss: 0.4924 - accuracy: 0.0146 - binary_accuracy: 0.6946 - val_loss: 0.5117 - val_accuracy: 0.0112 - val_binary_accuracy: 0.6973\n",
      "Epoch 212/750\n",
      "480/480 [==============================] - 4s 9ms/step - loss: 0.4922 - accuracy: 0.0138 - binary_accuracy: 0.6946 - val_loss: 0.5116 - val_accuracy: 0.0112 - val_binary_accuracy: 0.6973\n",
      "Epoch 213/750\n",
      "480/480 [==============================] - 4s 9ms/step - loss: 0.4920 - accuracy: 0.0142 - binary_accuracy: 0.6946 - val_loss: 0.5114 - val_accuracy: 0.0112 - val_binary_accuracy: 0.6973\n",
      "Epoch 214/750\n",
      "480/480 [==============================] - 4s 9ms/step - loss: 0.4918 - accuracy: 0.0138 - binary_accuracy: 0.6946 - val_loss: 0.5113 - val_accuracy: 0.0112 - val_binary_accuracy: 0.6973\n",
      "Epoch 215/750\n",
      "480/480 [==============================] - 4s 9ms/step - loss: 0.4916 - accuracy: 0.0146 - binary_accuracy: 0.6946 - val_loss: 0.5112 - val_accuracy: 0.0112 - val_binary_accuracy: 0.6973\n",
      "Epoch 216/750\n",
      "480/480 [==============================] - 4s 9ms/step - loss: 0.4914 - accuracy: 0.0142 - binary_accuracy: 0.6946 - val_loss: 0.5111 - val_accuracy: 0.0112 - val_binary_accuracy: 0.6973\n",
      "Epoch 217/750\n",
      "480/480 [==============================] - 4s 9ms/step - loss: 0.4912 - accuracy: 0.0142 - binary_accuracy: 0.6946 - val_loss: 0.5110 - val_accuracy: 0.0075 - val_binary_accuracy: 0.6973\n",
      "Epoch 218/750\n",
      "480/480 [==============================] - 4s 9ms/step - loss: 0.4910 - accuracy: 0.0146 - binary_accuracy: 0.6946 - val_loss: 0.5109 - val_accuracy: 0.0075 - val_binary_accuracy: 0.6973\n",
      "Epoch 219/750\n",
      "480/480 [==============================] - 4s 9ms/step - loss: 0.4907 - accuracy: 0.0142 - binary_accuracy: 0.6946 - val_loss: 0.5109 - val_accuracy: 0.0075 - val_binary_accuracy: 0.6973\n",
      "Epoch 220/750\n",
      "480/480 [==============================] - 4s 9ms/step - loss: 0.4906 - accuracy: 0.0142 - binary_accuracy: 0.6946 - val_loss: 0.5107 - val_accuracy: 0.0075 - val_binary_accuracy: 0.6973\n",
      "Epoch 221/750\n",
      "480/480 [==============================] - 4s 9ms/step - loss: 0.4904 - accuracy: 0.0142 - binary_accuracy: 0.6946 - val_loss: 0.5106 - val_accuracy: 0.0075 - val_binary_accuracy: 0.6973\n",
      "Epoch 222/750\n",
      "480/480 [==============================] - 4s 9ms/step - loss: 0.4902 - accuracy: 0.0146 - binary_accuracy: 0.6946 - val_loss: 0.5104 - val_accuracy: 0.0075 - val_binary_accuracy: 0.6973\n",
      "Epoch 223/750\n",
      "480/480 [==============================] - 4s 9ms/step - loss: 0.4900 - accuracy: 0.0146 - binary_accuracy: 0.6946 - val_loss: 0.5103 - val_accuracy: 0.0075 - val_binary_accuracy: 0.6973\n",
      "Epoch 224/750\n",
      "480/480 [==============================] - 4s 9ms/step - loss: 0.4898 - accuracy: 0.0146 - binary_accuracy: 0.6946 - val_loss: 0.5103 - val_accuracy: 0.0075 - val_binary_accuracy: 0.6973\n",
      "Epoch 225/750\n",
      "480/480 [==============================] - 5s 9ms/step - loss: 0.4896 - accuracy: 0.0138 - binary_accuracy: 0.6946 - val_loss: 0.5103 - val_accuracy: 0.0075 - val_binary_accuracy: 0.6973\n",
      "Epoch 226/750\n",
      "480/480 [==============================] - 4s 9ms/step - loss: 0.4894 - accuracy: 0.0154 - binary_accuracy: 0.6946 - val_loss: 0.5101 - val_accuracy: 0.0075 - val_binary_accuracy: 0.6973\n",
      "Epoch 227/750\n",
      "480/480 [==============================] - 4s 9ms/step - loss: 0.4892 - accuracy: 0.0150 - binary_accuracy: 0.6946 - val_loss: 0.5099 - val_accuracy: 0.0075 - val_binary_accuracy: 0.6973\n",
      "Epoch 228/750\n",
      "480/480 [==============================] - 4s 9ms/step - loss: 0.4890 - accuracy: 0.0146 - binary_accuracy: 0.6946 - val_loss: 0.5098 - val_accuracy: 0.0075 - val_binary_accuracy: 0.6973\n",
      "Epoch 229/750\n",
      "480/480 [==============================] - 5s 10ms/step - loss: 0.4888 - accuracy: 0.0150 - binary_accuracy: 0.6946 - val_loss: 0.5097 - val_accuracy: 0.0075 - val_binary_accuracy: 0.6973\n",
      "Epoch 230/750\n",
      "480/480 [==============================] - 4s 9ms/step - loss: 0.4887 - accuracy: 0.0154 - binary_accuracy: 0.6946 - val_loss: 0.5096 - val_accuracy: 0.0075 - val_binary_accuracy: 0.6973\n",
      "Epoch 231/750\n",
      "480/480 [==============================] - 4s 9ms/step - loss: 0.4885 - accuracy: 0.0150 - binary_accuracy: 0.6946 - val_loss: 0.5096 - val_accuracy: 0.0075 - val_binary_accuracy: 0.6973\n",
      "Epoch 232/750\n",
      "480/480 [==============================] - 4s 9ms/step - loss: 0.4883 - accuracy: 0.0150 - binary_accuracy: 0.6946 - val_loss: 0.5094 - val_accuracy: 0.0075 - val_binary_accuracy: 0.6973\n",
      "Epoch 233/750\n",
      "480/480 [==============================] - 4s 9ms/step - loss: 0.4881 - accuracy: 0.0163 - binary_accuracy: 0.6946 - val_loss: 0.5093 - val_accuracy: 0.0075 - val_binary_accuracy: 0.6973\n"
     ]
    },
    {
     "name": "stdout",
     "output_type": "stream",
     "text": [
      "Epoch 234/750\n",
      "480/480 [==============================] - 4s 9ms/step - loss: 0.4880 - accuracy: 0.0146 - binary_accuracy: 0.6946 - val_loss: 0.5092 - val_accuracy: 0.0075 - val_binary_accuracy: 0.6973\n",
      "Epoch 235/750\n",
      "480/480 [==============================] - 4s 9ms/step - loss: 0.4878 - accuracy: 0.0158 - binary_accuracy: 0.6946 - val_loss: 0.5091 - val_accuracy: 0.0075 - val_binary_accuracy: 0.6973\n",
      "Epoch 236/750\n",
      "480/480 [==============================] - 4s 9ms/step - loss: 0.4876 - accuracy: 0.0154 - binary_accuracy: 0.6946 - val_loss: 0.5091 - val_accuracy: 0.0075 - val_binary_accuracy: 0.6973\n",
      "Epoch 237/750\n",
      "480/480 [==============================] - 4s 9ms/step - loss: 0.4874 - accuracy: 0.0150 - binary_accuracy: 0.6946 - val_loss: 0.5089 - val_accuracy: 0.0075 - val_binary_accuracy: 0.6973\n",
      "Epoch 238/750\n",
      "480/480 [==============================] - 4s 9ms/step - loss: 0.4873 - accuracy: 0.0150 - binary_accuracy: 0.6946 - val_loss: 0.5089 - val_accuracy: 0.0075 - val_binary_accuracy: 0.6973\n",
      "Epoch 239/750\n",
      "480/480 [==============================] - 4s 9ms/step - loss: 0.4871 - accuracy: 0.0154 - binary_accuracy: 0.6946 - val_loss: 0.5088 - val_accuracy: 0.0075 - val_binary_accuracy: 0.6973\n",
      "Epoch 240/750\n",
      "480/480 [==============================] - 4s 9ms/step - loss: 0.4869 - accuracy: 0.0158 - binary_accuracy: 0.6946 - val_loss: 0.5088 - val_accuracy: 0.0075 - val_binary_accuracy: 0.6973\n",
      "Epoch 241/750\n",
      "480/480 [==============================] - 4s 9ms/step - loss: 0.4868 - accuracy: 0.0154 - binary_accuracy: 0.6946 - val_loss: 0.5087 - val_accuracy: 0.0075 - val_binary_accuracy: 0.6973\n",
      "Epoch 242/750\n",
      "480/480 [==============================] - 4s 9ms/step - loss: 0.4866 - accuracy: 0.0154 - binary_accuracy: 0.6946 - val_loss: 0.5085 - val_accuracy: 0.0075 - val_binary_accuracy: 0.6973\n",
      "Epoch 243/750\n",
      "480/480 [==============================] - 4s 9ms/step - loss: 0.4864 - accuracy: 0.0163 - binary_accuracy: 0.6946 - val_loss: 0.5085 - val_accuracy: 0.0075 - val_binary_accuracy: 0.6973\n",
      "Epoch 244/750\n",
      "480/480 [==============================] - 4s 8ms/step - loss: 0.4863 - accuracy: 0.0150 - binary_accuracy: 0.6946 - val_loss: 0.5084 - val_accuracy: 0.0075 - val_binary_accuracy: 0.6973\n",
      "Epoch 245/750\n",
      "480/480 [==============================] - 4s 9ms/step - loss: 0.4861 - accuracy: 0.0167 - binary_accuracy: 0.6946 - val_loss: 0.5083 - val_accuracy: 0.0075 - val_binary_accuracy: 0.6973\n",
      "Epoch 246/750\n",
      "480/480 [==============================] - 4s 9ms/step - loss: 0.4859 - accuracy: 0.0163 - binary_accuracy: 0.6946 - val_loss: 0.5083 - val_accuracy: 0.0075 - val_binary_accuracy: 0.6973\n",
      "Epoch 247/750\n",
      "480/480 [==============================] - 4s 9ms/step - loss: 0.4858 - accuracy: 0.0171 - binary_accuracy: 0.6946 - val_loss: 0.5082 - val_accuracy: 0.0075 - val_binary_accuracy: 0.6973\n",
      "Epoch 248/750\n",
      "480/480 [==============================] - 4s 9ms/step - loss: 0.4856 - accuracy: 0.0158 - binary_accuracy: 0.6946 - val_loss: 0.5081 - val_accuracy: 0.0075 - val_binary_accuracy: 0.6973\n",
      "Epoch 249/750\n",
      "480/480 [==============================] - 5s 10ms/step - loss: 0.4855 - accuracy: 0.0163 - binary_accuracy: 0.6946 - val_loss: 0.5080 - val_accuracy: 0.0075 - val_binary_accuracy: 0.6973\n",
      "Epoch 250/750\n",
      "480/480 [==============================] - 4s 9ms/step - loss: 0.4853 - accuracy: 0.0167 - binary_accuracy: 0.6946 - val_loss: 0.5079 - val_accuracy: 0.0075 - val_binary_accuracy: 0.6973\n",
      "Epoch 251/750\n",
      "480/480 [==============================] - 5s 9ms/step - loss: 0.4851 - accuracy: 0.0175 - binary_accuracy: 0.6946 - val_loss: 0.5078 - val_accuracy: 0.0075 - val_binary_accuracy: 0.6973\n",
      "Epoch 252/750\n",
      "480/480 [==============================] - 5s 9ms/step - loss: 0.4850 - accuracy: 0.0154 - binary_accuracy: 0.6946 - val_loss: 0.5077 - val_accuracy: 0.0075 - val_binary_accuracy: 0.6973\n",
      "Epoch 253/750\n",
      "480/480 [==============================] - 5s 10ms/step - loss: 0.4848 - accuracy: 0.0158 - binary_accuracy: 0.6946 - val_loss: 0.5076 - val_accuracy: 0.0075 - val_binary_accuracy: 0.6973\n",
      "Epoch 254/750\n",
      "480/480 [==============================] - 4s 9ms/step - loss: 0.4847 - accuracy: 0.0154 - binary_accuracy: 0.6946 - val_loss: 0.5076 - val_accuracy: 0.0075 - val_binary_accuracy: 0.6973\n",
      "Epoch 255/750\n",
      "480/480 [==============================] - 4s 9ms/step - loss: 0.4845 - accuracy: 0.0167 - binary_accuracy: 0.6946 - val_loss: 0.5077 - val_accuracy: 0.0075 - val_binary_accuracy: 0.6973\n",
      "Epoch 256/750\n",
      "480/480 [==============================] - 4s 9ms/step - loss: 0.4844 - accuracy: 0.0163 - binary_accuracy: 0.6946 - val_loss: 0.5075 - val_accuracy: 0.0075 - val_binary_accuracy: 0.6973\n",
      "Epoch 257/750\n",
      "480/480 [==============================] - 4s 9ms/step - loss: 0.4842 - accuracy: 0.0167 - binary_accuracy: 0.6946 - val_loss: 0.5074 - val_accuracy: 0.0075 - val_binary_accuracy: 0.6973\n",
      "Epoch 258/750\n",
      "480/480 [==============================] - 4s 9ms/step - loss: 0.4841 - accuracy: 0.0171 - binary_accuracy: 0.6946 - val_loss: 0.5074 - val_accuracy: 0.0075 - val_binary_accuracy: 0.6973\n",
      "Epoch 259/750\n",
      "480/480 [==============================] - 4s 9ms/step - loss: 0.4839 - accuracy: 0.0158 - binary_accuracy: 0.6946 - val_loss: 0.5073 - val_accuracy: 0.0075 - val_binary_accuracy: 0.6973\n",
      "Epoch 260/750\n",
      "480/480 [==============================] - 4s 9ms/step - loss: 0.4838 - accuracy: 0.0150 - binary_accuracy: 0.6946 - val_loss: 0.5073 - val_accuracy: 0.0075 - val_binary_accuracy: 0.6973\n",
      "Epoch 261/750\n",
      "480/480 [==============================] - 5s 10ms/step - loss: 0.4836 - accuracy: 0.0158 - binary_accuracy: 0.6946 - val_loss: 0.5073 - val_accuracy: 0.0075 - val_binary_accuracy: 0.6973\n",
      "Epoch 262/750\n",
      "480/480 [==============================] - 4s 9ms/step - loss: 0.4835 - accuracy: 0.0167 - binary_accuracy: 0.6946 - val_loss: 0.5071 - val_accuracy: 0.0075 - val_binary_accuracy: 0.6973\n",
      "Epoch 263/750\n",
      "480/480 [==============================] - 4s 8ms/step - loss: 0.4833 - accuracy: 0.0167 - binary_accuracy: 0.6946 - val_loss: 0.5069 - val_accuracy: 0.0075 - val_binary_accuracy: 0.6973\n",
      "Epoch 264/750\n",
      "480/480 [==============================] - 4s 9ms/step - loss: 0.4832 - accuracy: 0.0175 - binary_accuracy: 0.6946 - val_loss: 0.5069 - val_accuracy: 0.0075 - val_binary_accuracy: 0.6973\n",
      "Epoch 265/750\n",
      "480/480 [==============================] - 4s 9ms/step - loss: 0.4831 - accuracy: 0.0171 - binary_accuracy: 0.6946 - val_loss: 0.5069 - val_accuracy: 0.0075 - val_binary_accuracy: 0.6973\n",
      "Epoch 266/750\n",
      "480/480 [==============================] - 4s 9ms/step - loss: 0.4829 - accuracy: 0.0163 - binary_accuracy: 0.6946 - val_loss: 0.5068 - val_accuracy: 0.0075 - val_binary_accuracy: 0.6973\n",
      "Epoch 267/750\n",
      "480/480 [==============================] - 4s 9ms/step - loss: 0.4828 - accuracy: 0.0163 - binary_accuracy: 0.6946 - val_loss: 0.5067 - val_accuracy: 0.0075 - val_binary_accuracy: 0.6973\n",
      "Epoch 268/750\n",
      "480/480 [==============================] - 4s 9ms/step - loss: 0.4826 - accuracy: 0.0167 - binary_accuracy: 0.6946 - val_loss: 0.5070 - val_accuracy: 0.0075 - val_binary_accuracy: 0.6973\n",
      "Epoch 269/750\n",
      "480/480 [==============================] - 4s 9ms/step - loss: 0.4825 - accuracy: 0.0167 - binary_accuracy: 0.6946 - val_loss: 0.5066 - val_accuracy: 0.0075 - val_binary_accuracy: 0.6973\n",
      "Epoch 270/750\n",
      "480/480 [==============================] - 4s 9ms/step - loss: 0.4824 - accuracy: 0.0163 - binary_accuracy: 0.6946 - val_loss: 0.5066 - val_accuracy: 0.0075 - val_binary_accuracy: 0.6973\n",
      "Epoch 271/750\n",
      "480/480 [==============================] - 4s 9ms/step - loss: 0.4822 - accuracy: 0.0163 - binary_accuracy: 0.6946 - val_loss: 0.5066 - val_accuracy: 0.0112 - val_binary_accuracy: 0.6973\n",
      "Epoch 272/750\n",
      "480/480 [==============================] - 5s 10ms/step - loss: 0.4821 - accuracy: 0.0167 - binary_accuracy: 0.6946 - val_loss: 0.5064 - val_accuracy: 0.0075 - val_binary_accuracy: 0.6973\n",
      "Epoch 273/750\n",
      "480/480 [==============================] - 4s 9ms/step - loss: 0.4820 - accuracy: 0.0158 - binary_accuracy: 0.6946 - val_loss: 0.5063 - val_accuracy: 0.0112 - val_binary_accuracy: 0.6973\n",
      "Epoch 274/750\n",
      "480/480 [==============================] - 4s 9ms/step - loss: 0.4818 - accuracy: 0.0175 - binary_accuracy: 0.6946 - val_loss: 0.5064 - val_accuracy: 0.0075 - val_binary_accuracy: 0.6973\n"
     ]
    },
    {
     "name": "stdout",
     "output_type": "stream",
     "text": [
      "Epoch 275/750\n",
      "480/480 [==============================] - 4s 9ms/step - loss: 0.4817 - accuracy: 0.0167 - binary_accuracy: 0.6946 - val_loss: 0.5063 - val_accuracy: 0.0075 - val_binary_accuracy: 0.6973\n",
      "Epoch 276/750\n",
      "480/480 [==============================] - 5s 9ms/step - loss: 0.4816 - accuracy: 0.0183 - binary_accuracy: 0.6946 - val_loss: 0.5062 - val_accuracy: 0.0112 - val_binary_accuracy: 0.6973\n",
      "Epoch 277/750\n",
      "480/480 [==============================] - 4s 9ms/step - loss: 0.4814 - accuracy: 0.0167 - binary_accuracy: 0.6946 - val_loss: 0.5062 - val_accuracy: 0.0075 - val_binary_accuracy: 0.6973\n",
      "Epoch 278/750\n",
      "480/480 [==============================] - 4s 9ms/step - loss: 0.4813 - accuracy: 0.0171 - binary_accuracy: 0.6946 - val_loss: 0.5061 - val_accuracy: 0.0112 - val_binary_accuracy: 0.6973\n",
      "Epoch 279/750\n",
      "480/480 [==============================] - 5s 10ms/step - loss: 0.4812 - accuracy: 0.0167 - binary_accuracy: 0.6946 - val_loss: 0.5061 - val_accuracy: 0.0112 - val_binary_accuracy: 0.6973\n",
      "Epoch 280/750\n",
      "480/480 [==============================] - 4s 9ms/step - loss: 0.4811 - accuracy: 0.0171 - binary_accuracy: 0.6946 - val_loss: 0.5060 - val_accuracy: 0.0112 - val_binary_accuracy: 0.6973\n",
      "Epoch 281/750\n",
      "480/480 [==============================] - 4s 9ms/step - loss: 0.4809 - accuracy: 0.0163 - binary_accuracy: 0.6946 - val_loss: 0.5061 - val_accuracy: 0.0075 - val_binary_accuracy: 0.6973\n",
      "Epoch 282/750\n",
      "480/480 [==============================] - 4s 9ms/step - loss: 0.4808 - accuracy: 0.0158 - binary_accuracy: 0.6946 - val_loss: 0.5060 - val_accuracy: 0.0112 - val_binary_accuracy: 0.6973\n",
      "Epoch 283/750\n",
      "480/480 [==============================] - 5s 10ms/step - loss: 0.4807 - accuracy: 0.0171 - binary_accuracy: 0.6946 - val_loss: 0.5060 - val_accuracy: 0.0112 - val_binary_accuracy: 0.6973\n",
      "Epoch 284/750\n",
      "480/480 [==============================] - 4s 9ms/step - loss: 0.4806 - accuracy: 0.0171 - binary_accuracy: 0.6946 - val_loss: 0.5058 - val_accuracy: 0.0112 - val_binary_accuracy: 0.6973\n",
      "Epoch 285/750\n",
      "480/480 [==============================] - 4s 9ms/step - loss: 0.4804 - accuracy: 0.0171 - binary_accuracy: 0.6946 - val_loss: 0.5058 - val_accuracy: 0.0112 - val_binary_accuracy: 0.6973\n",
      "Epoch 286/750\n",
      "480/480 [==============================] - 5s 11ms/step - loss: 0.4803 - accuracy: 0.0150 - binary_accuracy: 0.6946 - val_loss: 0.5057 - val_accuracy: 0.0075 - val_binary_accuracy: 0.6973\n",
      "Epoch 287/750\n",
      "480/480 [==============================] - 4s 9ms/step - loss: 0.4802 - accuracy: 0.0171 - binary_accuracy: 0.6946 - val_loss: 0.5057 - val_accuracy: 0.0112 - val_binary_accuracy: 0.6973\n",
      "Epoch 288/750\n",
      "480/480 [==============================] - 4s 9ms/step - loss: 0.4801 - accuracy: 0.0158 - binary_accuracy: 0.6946 - val_loss: 0.5056 - val_accuracy: 0.0112 - val_binary_accuracy: 0.6973\n",
      "Epoch 289/750\n",
      "480/480 [==============================] - 5s 10ms/step - loss: 0.4799 - accuracy: 0.0163 - binary_accuracy: 0.6946 - val_loss: 0.5055 - val_accuracy: 0.0112 - val_binary_accuracy: 0.6973\n",
      "Epoch 290/750\n",
      "480/480 [==============================] - 4s 9ms/step - loss: 0.4798 - accuracy: 0.0163 - binary_accuracy: 0.6946 - val_loss: 0.5055 - val_accuracy: 0.0112 - val_binary_accuracy: 0.6973\n",
      "Epoch 291/750\n",
      "480/480 [==============================] - 4s 8ms/step - loss: 0.4797 - accuracy: 0.0154 - binary_accuracy: 0.6946 - val_loss: 0.5056 - val_accuracy: 0.0112 - val_binary_accuracy: 0.6973\n",
      "Epoch 292/750\n",
      "480/480 [==============================] - 4s 9ms/step - loss: 0.4796 - accuracy: 0.0167 - binary_accuracy: 0.6946 - val_loss: 0.5055 - val_accuracy: 0.0112 - val_binary_accuracy: 0.6973\n",
      "Epoch 293/750\n",
      "480/480 [==============================] - 4s 9ms/step - loss: 0.4795 - accuracy: 0.0175 - binary_accuracy: 0.6946 - val_loss: 0.5052 - val_accuracy: 0.0112 - val_binary_accuracy: 0.6973\n",
      "Epoch 294/750\n",
      "480/480 [==============================] - 4s 9ms/step - loss: 0.4793 - accuracy: 0.0163 - binary_accuracy: 0.6946 - val_loss: 0.5053 - val_accuracy: 0.0112 - val_binary_accuracy: 0.6973\n",
      "Epoch 295/750\n",
      "480/480 [==============================] - 5s 9ms/step - loss: 0.4792 - accuracy: 0.0163 - binary_accuracy: 0.6946 - val_loss: 0.5053 - val_accuracy: 0.0112 - val_binary_accuracy: 0.6973\n",
      "Epoch 296/750\n",
      "480/480 [==============================] - 4s 9ms/step - loss: 0.4791 - accuracy: 0.0163 - binary_accuracy: 0.6946 - val_loss: 0.5051 - val_accuracy: 0.0112 - val_binary_accuracy: 0.6973\n",
      "Epoch 297/750\n",
      "480/480 [==============================] - 5s 9ms/step - loss: 0.4790 - accuracy: 0.0154 - binary_accuracy: 0.6946 - val_loss: 0.5053 - val_accuracy: 0.0112 - val_binary_accuracy: 0.6973\n",
      "Epoch 298/750\n",
      "480/480 [==============================] - 4s 9ms/step - loss: 0.4789 - accuracy: 0.0175 - binary_accuracy: 0.6946 - val_loss: 0.5051 - val_accuracy: 0.0112 - val_binary_accuracy: 0.6973\n",
      "Epoch 299/750\n",
      "480/480 [==============================] - 4s 9ms/step - loss: 0.4788 - accuracy: 0.0167 - binary_accuracy: 0.6946 - val_loss: 0.5050 - val_accuracy: 0.0112 - val_binary_accuracy: 0.6973\n",
      "Epoch 300/750\n",
      "480/480 [==============================] - 4s 9ms/step - loss: 0.4786 - accuracy: 0.0163 - binary_accuracy: 0.6946 - val_loss: 0.5051 - val_accuracy: 0.0112 - val_binary_accuracy: 0.6973\n",
      "Epoch 301/750\n",
      "480/480 [==============================] - 4s 9ms/step - loss: 0.4786 - accuracy: 0.0154 - binary_accuracy: 0.6946 - val_loss: 0.5051 - val_accuracy: 0.0112 - val_binary_accuracy: 0.6973\n",
      "Epoch 302/750\n",
      "480/480 [==============================] - 5s 10ms/step - loss: 0.4784 - accuracy: 0.0167 - binary_accuracy: 0.6946 - val_loss: 0.5049 - val_accuracy: 0.0112 - val_binary_accuracy: 0.6973\n",
      "Epoch 303/750\n",
      "480/480 [==============================] - 4s 9ms/step - loss: 0.4783 - accuracy: 0.0158 - binary_accuracy: 0.6946 - val_loss: 0.5049 - val_accuracy: 0.0112 - val_binary_accuracy: 0.6973\n",
      "Epoch 304/750\n",
      "480/480 [==============================] - 4s 9ms/step - loss: 0.4782 - accuracy: 0.0163 - binary_accuracy: 0.6946 - val_loss: 0.5050 - val_accuracy: 0.0112 - val_binary_accuracy: 0.6973\n",
      "Epoch 305/750\n",
      "480/480 [==============================] - 4s 9ms/step - loss: 0.4781 - accuracy: 0.0167 - binary_accuracy: 0.6946 - val_loss: 0.5049 - val_accuracy: 0.0112 - val_binary_accuracy: 0.6973\n",
      "Epoch 306/750\n",
      "480/480 [==============================] - 4s 9ms/step - loss: 0.4780 - accuracy: 0.0167 - binary_accuracy: 0.6946 - val_loss: 0.5048 - val_accuracy: 0.0112 - val_binary_accuracy: 0.6973\n",
      "Epoch 307/750\n",
      "480/480 [==============================] - 4s 9ms/step - loss: 0.4779 - accuracy: 0.0158 - binary_accuracy: 0.6946 - val_loss: 0.5047 - val_accuracy: 0.0112 - val_binary_accuracy: 0.6973\n",
      "Epoch 308/750\n",
      "480/480 [==============================] - 4s 9ms/step - loss: 0.4778 - accuracy: 0.0163 - binary_accuracy: 0.6946 - val_loss: 0.5049 - val_accuracy: 0.0112 - val_binary_accuracy: 0.6973\n",
      "Epoch 309/750\n",
      "480/480 [==============================] - 4s 9ms/step - loss: 0.4776 - accuracy: 0.0171 - binary_accuracy: 0.6946 - val_loss: 0.5048 - val_accuracy: 0.0150 - val_binary_accuracy: 0.6973\n",
      "Epoch 310/750\n",
      "480/480 [==============================] - 4s 9ms/step - loss: 0.4776 - accuracy: 0.0163 - binary_accuracy: 0.6946 - val_loss: 0.5047 - val_accuracy: 0.0112 - val_binary_accuracy: 0.6973\n",
      "Epoch 311/750\n",
      "480/480 [==============================] - 4s 9ms/step - loss: 0.4775 - accuracy: 0.0171 - binary_accuracy: 0.6946 - val_loss: 0.5047 - val_accuracy: 0.0112 - val_binary_accuracy: 0.6973\n",
      "Epoch 312/750\n",
      "480/480 [==============================] - 4s 9ms/step - loss: 0.4774 - accuracy: 0.0167 - binary_accuracy: 0.6946 - val_loss: 0.5047 - val_accuracy: 0.0112 - val_binary_accuracy: 0.6973\n",
      "Epoch 313/750\n",
      "480/480 [==============================] - 4s 9ms/step - loss: 0.4772 - accuracy: 0.0158 - binary_accuracy: 0.6946 - val_loss: 0.5047 - val_accuracy: 0.0112 - val_binary_accuracy: 0.6973\n",
      "Epoch 314/750\n",
      "480/480 [==============================] - 4s 9ms/step - loss: 0.4771 - accuracy: 0.0167 - binary_accuracy: 0.6946 - val_loss: 0.5045 - val_accuracy: 0.0112 - val_binary_accuracy: 0.6973\n",
      "Epoch 315/750\n",
      "480/480 [==============================] - 4s 9ms/step - loss: 0.4770 - accuracy: 0.0167 - binary_accuracy: 0.6946 - val_loss: 0.5045 - val_accuracy: 0.0112 - val_binary_accuracy: 0.6973\n"
     ]
    },
    {
     "name": "stdout",
     "output_type": "stream",
     "text": [
      "Epoch 316/750\n",
      "480/480 [==============================] - 4s 9ms/step - loss: 0.4769 - accuracy: 0.0163 - binary_accuracy: 0.6946 - val_loss: 0.5045 - val_accuracy: 0.0112 - val_binary_accuracy: 0.6973\n",
      "Epoch 317/750\n",
      "480/480 [==============================] - 5s 10ms/step - loss: 0.4768 - accuracy: 0.0175 - binary_accuracy: 0.6946 - val_loss: 0.5045 - val_accuracy: 0.0112 - val_binary_accuracy: 0.6973\n",
      "Epoch 318/750\n",
      "480/480 [==============================] - 5s 10ms/step - loss: 0.4767 - accuracy: 0.0163 - binary_accuracy: 0.6946 - val_loss: 0.5044 - val_accuracy: 0.0112 - val_binary_accuracy: 0.6973\n",
      "Epoch 319/750\n",
      "480/480 [==============================] - 4s 9ms/step - loss: 0.4766 - accuracy: 0.0163 - binary_accuracy: 0.6946 - val_loss: 0.5047 - val_accuracy: 0.0112 - val_binary_accuracy: 0.6973\n",
      "Epoch 320/750\n",
      "480/480 [==============================] - 5s 10ms/step - loss: 0.4765 - accuracy: 0.0167 - binary_accuracy: 0.6946 - val_loss: 0.5045 - val_accuracy: 0.0112 - val_binary_accuracy: 0.6973\n",
      "Epoch 321/750\n",
      "480/480 [==============================] - 4s 9ms/step - loss: 0.4764 - accuracy: 0.0171 - binary_accuracy: 0.6946 - val_loss: 0.5043 - val_accuracy: 0.0112 - val_binary_accuracy: 0.6973\n",
      "Epoch 322/750\n",
      "480/480 [==============================] - 4s 9ms/step - loss: 0.4763 - accuracy: 0.0158 - binary_accuracy: 0.6946 - val_loss: 0.5043 - val_accuracy: 0.0112 - val_binary_accuracy: 0.6973\n",
      "Epoch 323/750\n",
      "480/480 [==============================] - 4s 8ms/step - loss: 0.4762 - accuracy: 0.0158 - binary_accuracy: 0.6946 - val_loss: 0.5043 - val_accuracy: 0.0112 - val_binary_accuracy: 0.6973\n",
      "Epoch 324/750\n",
      "480/480 [==============================] - 4s 8ms/step - loss: 0.4761 - accuracy: 0.0163 - binary_accuracy: 0.6946 - val_loss: 0.5043 - val_accuracy: 0.0112 - val_binary_accuracy: 0.6973\n",
      "Epoch 325/750\n",
      "480/480 [==============================] - 4s 9ms/step - loss: 0.4760 - accuracy: 0.0167 - binary_accuracy: 0.6946 - val_loss: 0.5042 - val_accuracy: 0.0112 - val_binary_accuracy: 0.6973\n",
      "Epoch 326/750\n",
      "480/480 [==============================] - 4s 9ms/step - loss: 0.4759 - accuracy: 0.0167 - binary_accuracy: 0.6946 - val_loss: 0.5040 - val_accuracy: 0.0112 - val_binary_accuracy: 0.6973\n",
      "Epoch 327/750\n",
      "480/480 [==============================] - 4s 9ms/step - loss: 0.4758 - accuracy: 0.0163 - binary_accuracy: 0.6946 - val_loss: 0.5042 - val_accuracy: 0.0112 - val_binary_accuracy: 0.6973\n",
      "Epoch 328/750\n",
      "480/480 [==============================] - 4s 9ms/step - loss: 0.4757 - accuracy: 0.0167 - binary_accuracy: 0.6946 - val_loss: 0.5041 - val_accuracy: 0.0112 - val_binary_accuracy: 0.6973\n",
      "Epoch 329/750\n",
      "480/480 [==============================] - 4s 8ms/step - loss: 0.4756 - accuracy: 0.0167 - binary_accuracy: 0.6946 - val_loss: 0.5040 - val_accuracy: 0.0112 - val_binary_accuracy: 0.6973\n",
      "Epoch 330/750\n",
      "480/480 [==============================] - 4s 9ms/step - loss: 0.4755 - accuracy: 0.0150 - binary_accuracy: 0.6946 - val_loss: 0.5042 - val_accuracy: 0.0112 - val_binary_accuracy: 0.6973\n",
      "Epoch 331/750\n",
      "480/480 [==============================] - 4s 9ms/step - loss: 0.4754 - accuracy: 0.0167 - binary_accuracy: 0.6946 - val_loss: 0.5040 - val_accuracy: 0.0150 - val_binary_accuracy: 0.6973\n",
      "Epoch 332/750\n",
      "480/480 [==============================] - 4s 9ms/step - loss: 0.4753 - accuracy: 0.0167 - binary_accuracy: 0.6946 - val_loss: 0.5038 - val_accuracy: 0.0112 - val_binary_accuracy: 0.6973\n",
      "Epoch 333/750\n",
      "480/480 [==============================] - 4s 8ms/step - loss: 0.4752 - accuracy: 0.0154 - binary_accuracy: 0.6946 - val_loss: 0.5039 - val_accuracy: 0.0112 - val_binary_accuracy: 0.6973\n",
      "Epoch 334/750\n",
      "480/480 [==============================] - 4s 9ms/step - loss: 0.4751 - accuracy: 0.0163 - binary_accuracy: 0.6946 - val_loss: 0.5039 - val_accuracy: 0.0112 - val_binary_accuracy: 0.6973\n",
      "Epoch 335/750\n",
      "480/480 [==============================] - 4s 9ms/step - loss: 0.4751 - accuracy: 0.0158 - binary_accuracy: 0.6946 - val_loss: 0.5037 - val_accuracy: 0.0112 - val_binary_accuracy: 0.6973\n",
      "Epoch 336/750\n",
      "480/480 [==============================] - 4s 8ms/step - loss: 0.4750 - accuracy: 0.0171 - binary_accuracy: 0.6946 - val_loss: 0.5038 - val_accuracy: 0.0112 - val_binary_accuracy: 0.6973\n",
      "Epoch 337/750\n",
      "480/480 [==============================] - 4s 9ms/step - loss: 0.4749 - accuracy: 0.0171 - binary_accuracy: 0.6946 - val_loss: 0.5039 - val_accuracy: 0.0112 - val_binary_accuracy: 0.6973\n",
      "Epoch 338/750\n",
      "480/480 [==============================] - 4s 9ms/step - loss: 0.4748 - accuracy: 0.0175 - binary_accuracy: 0.6946 - val_loss: 0.5039 - val_accuracy: 0.0112 - val_binary_accuracy: 0.6973\n",
      "Epoch 339/750\n",
      "480/480 [==============================] - 4s 9ms/step - loss: 0.4747 - accuracy: 0.0163 - binary_accuracy: 0.6946 - val_loss: 0.5039 - val_accuracy: 0.0150 - val_binary_accuracy: 0.6973\n",
      "Epoch 340/750\n",
      "480/480 [==============================] - 4s 9ms/step - loss: 0.4746 - accuracy: 0.0167 - binary_accuracy: 0.6946 - val_loss: 0.5038 - val_accuracy: 0.0112 - val_binary_accuracy: 0.6973\n",
      "Epoch 341/750\n",
      "480/480 [==============================] - 4s 9ms/step - loss: 0.4745 - accuracy: 0.0175 - binary_accuracy: 0.6946 - val_loss: 0.5038 - val_accuracy: 0.0112 - val_binary_accuracy: 0.6973\n",
      "Epoch 342/750\n",
      "480/480 [==============================] - 4s 9ms/step - loss: 0.4744 - accuracy: 0.0167 - binary_accuracy: 0.6946 - val_loss: 0.5039 - val_accuracy: 0.0112 - val_binary_accuracy: 0.6973\n",
      "Epoch 343/750\n",
      "480/480 [==============================] - 4s 9ms/step - loss: 0.4743 - accuracy: 0.0158 - binary_accuracy: 0.6946 - val_loss: 0.5037 - val_accuracy: 0.0112 - val_binary_accuracy: 0.6973\n",
      "Epoch 344/750\n",
      "480/480 [==============================] - 4s 9ms/step - loss: 0.4742 - accuracy: 0.0171 - binary_accuracy: 0.6946 - val_loss: 0.5038 - val_accuracy: 0.0112 - val_binary_accuracy: 0.6973\n",
      "Epoch 345/750\n",
      "480/480 [==============================] - 4s 8ms/step - loss: 0.4742 - accuracy: 0.0167 - binary_accuracy: 0.6946 - val_loss: 0.5036 - val_accuracy: 0.0112 - val_binary_accuracy: 0.6973\n",
      "Epoch 346/750\n",
      "480/480 [==============================] - 4s 9ms/step - loss: 0.4740 - accuracy: 0.0163 - binary_accuracy: 0.6946 - val_loss: 0.5035 - val_accuracy: 0.0112 - val_binary_accuracy: 0.6973\n",
      "Epoch 347/750\n",
      "480/480 [==============================] - 4s 9ms/step - loss: 0.4739 - accuracy: 0.0171 - binary_accuracy: 0.6946 - val_loss: 0.5036 - val_accuracy: 0.0112 - val_binary_accuracy: 0.6973\n",
      "Epoch 348/750\n",
      "480/480 [==============================] - 4s 9ms/step - loss: 0.4739 - accuracy: 0.0163 - binary_accuracy: 0.6946 - val_loss: 0.5036 - val_accuracy: 0.0112 - val_binary_accuracy: 0.6973\n",
      "Epoch 349/750\n",
      "480/480 [==============================] - 4s 9ms/step - loss: 0.4738 - accuracy: 0.0163 - binary_accuracy: 0.6946 - val_loss: 0.5035 - val_accuracy: 0.0112 - val_binary_accuracy: 0.6973\n",
      "Epoch 350/750\n",
      "480/480 [==============================] - 4s 9ms/step - loss: 0.4737 - accuracy: 0.0171 - binary_accuracy: 0.6946 - val_loss: 0.5034 - val_accuracy: 0.0112 - val_binary_accuracy: 0.6973\n",
      "Epoch 351/750\n",
      "480/480 [==============================] - 4s 9ms/step - loss: 0.4736 - accuracy: 0.0171 - binary_accuracy: 0.6946 - val_loss: 0.5035 - val_accuracy: 0.0112 - val_binary_accuracy: 0.6973\n",
      "Epoch 352/750\n",
      "480/480 [==============================] - 4s 9ms/step - loss: 0.4735 - accuracy: 0.0167 - binary_accuracy: 0.6946 - val_loss: 0.5035 - val_accuracy: 0.0112 - val_binary_accuracy: 0.6973\n",
      "Epoch 353/750\n",
      "480/480 [==============================] - 4s 9ms/step - loss: 0.4734 - accuracy: 0.0158 - binary_accuracy: 0.6946 - val_loss: 0.5036 - val_accuracy: 0.0112 - val_binary_accuracy: 0.6973\n",
      "Epoch 354/750\n",
      "480/480 [==============================] - 4s 9ms/step - loss: 0.4734 - accuracy: 0.0167 - binary_accuracy: 0.6946 - val_loss: 0.5033 - val_accuracy: 0.0112 - val_binary_accuracy: 0.6973\n",
      "Epoch 355/750\n",
      "480/480 [==============================] - 4s 9ms/step - loss: 0.4732 - accuracy: 0.0167 - binary_accuracy: 0.6946 - val_loss: 0.5035 - val_accuracy: 0.0112 - val_binary_accuracy: 0.6973\n",
      "Epoch 356/750\n",
      "480/480 [==============================] - 4s 8ms/step - loss: 0.4732 - accuracy: 0.0171 - binary_accuracy: 0.6946 - val_loss: 0.5033 - val_accuracy: 0.0112 - val_binary_accuracy: 0.6973\n"
     ]
    },
    {
     "name": "stdout",
     "output_type": "stream",
     "text": [
      "Epoch 357/750\n",
      "480/480 [==============================] - 4s 8ms/step - loss: 0.4731 - accuracy: 0.0171 - binary_accuracy: 0.6946 - val_loss: 0.5032 - val_accuracy: 0.0112 - val_binary_accuracy: 0.6973\n",
      "Epoch 358/750\n",
      "480/480 [==============================] - 4s 9ms/step - loss: 0.4730 - accuracy: 0.0167 - binary_accuracy: 0.6946 - val_loss: 0.5032 - val_accuracy: 0.0112 - val_binary_accuracy: 0.6973\n",
      "Epoch 359/750\n",
      "480/480 [==============================] - 4s 9ms/step - loss: 0.4729 - accuracy: 0.0171 - binary_accuracy: 0.6946 - val_loss: 0.5031 - val_accuracy: 0.0112 - val_binary_accuracy: 0.6973\n",
      "Epoch 360/750\n",
      "480/480 [==============================] - 5s 10ms/step - loss: 0.4728 - accuracy: 0.0167 - binary_accuracy: 0.6946 - val_loss: 0.5032 - val_accuracy: 0.0112 - val_binary_accuracy: 0.6973\n",
      "Epoch 361/750\n",
      "480/480 [==============================] - 4s 9ms/step - loss: 0.4727 - accuracy: 0.0167 - binary_accuracy: 0.6946 - val_loss: 0.5034 - val_accuracy: 0.0112 - val_binary_accuracy: 0.6973\n",
      "Epoch 362/750\n",
      "480/480 [==============================] - 4s 9ms/step - loss: 0.4727 - accuracy: 0.0175 - binary_accuracy: 0.6946 - val_loss: 0.5032 - val_accuracy: 0.0112 - val_binary_accuracy: 0.6973\n",
      "Epoch 363/750\n",
      "480/480 [==============================] - 4s 9ms/step - loss: 0.4726 - accuracy: 0.0171 - binary_accuracy: 0.6946 - val_loss: 0.5031 - val_accuracy: 0.0112 - val_binary_accuracy: 0.6973\n",
      "Epoch 364/750\n",
      "480/480 [==============================] - 4s 9ms/step - loss: 0.4725 - accuracy: 0.0167 - binary_accuracy: 0.6946 - val_loss: 0.5032 - val_accuracy: 0.0112 - val_binary_accuracy: 0.6973\n",
      "Epoch 365/750\n",
      "480/480 [==============================] - 4s 9ms/step - loss: 0.4724 - accuracy: 0.0175 - binary_accuracy: 0.6946 - val_loss: 0.5031 - val_accuracy: 0.0112 - val_binary_accuracy: 0.6973\n",
      "Epoch 366/750\n",
      "480/480 [==============================] - 4s 9ms/step - loss: 0.4723 - accuracy: 0.0167 - binary_accuracy: 0.6946 - val_loss: 0.5031 - val_accuracy: 0.0112 - val_binary_accuracy: 0.6973\n",
      "Epoch 367/750\n",
      "480/480 [==============================] - 4s 9ms/step - loss: 0.4722 - accuracy: 0.0175 - binary_accuracy: 0.6946 - val_loss: 0.5031 - val_accuracy: 0.0112 - val_binary_accuracy: 0.6973\n",
      "Epoch 368/750\n",
      "480/480 [==============================] - 4s 9ms/step - loss: 0.4722 - accuracy: 0.0167 - binary_accuracy: 0.6946 - val_loss: 0.5031 - val_accuracy: 0.0112 - val_binary_accuracy: 0.6973\n",
      "Epoch 369/750\n",
      "480/480 [==============================] - 4s 8ms/step - loss: 0.4721 - accuracy: 0.0175 - binary_accuracy: 0.6946 - val_loss: 0.5029 - val_accuracy: 0.0112 - val_binary_accuracy: 0.6973\n",
      "Epoch 370/750\n",
      "480/480 [==============================] - 4s 9ms/step - loss: 0.4720 - accuracy: 0.0175 - binary_accuracy: 0.6946 - val_loss: 0.5030 - val_accuracy: 0.0112 - val_binary_accuracy: 0.6973\n",
      "Epoch 371/750\n",
      "480/480 [==============================] - 4s 9ms/step - loss: 0.4719 - accuracy: 0.0167 - binary_accuracy: 0.6946 - val_loss: 0.5031 - val_accuracy: 0.0112 - val_binary_accuracy: 0.6973\n",
      "Epoch 372/750\n",
      "480/480 [==============================] - 5s 10ms/step - loss: 0.4719 - accuracy: 0.0175 - binary_accuracy: 0.6946 - val_loss: 0.5029 - val_accuracy: 0.0112 - val_binary_accuracy: 0.6973\n",
      "Epoch 373/750\n",
      "480/480 [==============================] - 5s 9ms/step - loss: 0.4718 - accuracy: 0.0179 - binary_accuracy: 0.6946 - val_loss: 0.5030 - val_accuracy: 0.0112 - val_binary_accuracy: 0.6973\n",
      "Epoch 374/750\n",
      "480/480 [==============================] - 4s 9ms/step - loss: 0.4717 - accuracy: 0.0167 - binary_accuracy: 0.6946 - val_loss: 0.5030 - val_accuracy: 0.0112 - val_binary_accuracy: 0.6973\n",
      "Epoch 375/750\n",
      "480/480 [==============================] - 4s 9ms/step - loss: 0.4716 - accuracy: 0.0167 - binary_accuracy: 0.6946 - val_loss: 0.5029 - val_accuracy: 0.0112 - val_binary_accuracy: 0.6973\n",
      "Epoch 376/750\n",
      "480/480 [==============================] - 4s 9ms/step - loss: 0.4715 - accuracy: 0.0167 - binary_accuracy: 0.6946 - val_loss: 0.5029 - val_accuracy: 0.0112 - val_binary_accuracy: 0.6973\n",
      "Epoch 377/750\n",
      "480/480 [==============================] - 4s 9ms/step - loss: 0.4714 - accuracy: 0.0183 - binary_accuracy: 0.6946 - val_loss: 0.5029 - val_accuracy: 0.0112 - val_binary_accuracy: 0.6973\n",
      "Epoch 378/750\n",
      "480/480 [==============================] - 5s 10ms/step - loss: 0.4714 - accuracy: 0.0171 - binary_accuracy: 0.6946 - val_loss: 0.5030 - val_accuracy: 0.0112 - val_binary_accuracy: 0.6973\n",
      "Epoch 379/750\n",
      "480/480 [==============================] - 5s 11ms/step - loss: 0.4713 - accuracy: 0.0175 - binary_accuracy: 0.6946 - val_loss: 0.5030 - val_accuracy: 0.0112 - val_binary_accuracy: 0.6973\n",
      "Epoch 380/750\n",
      "480/480 [==============================] - 5s 10ms/step - loss: 0.4712 - accuracy: 0.0175 - binary_accuracy: 0.6946 - val_loss: 0.5027 - val_accuracy: 0.0112 - val_binary_accuracy: 0.6973\n",
      "Epoch 381/750\n",
      "480/480 [==============================] - 5s 10ms/step - loss: 0.4711 - accuracy: 0.0179 - binary_accuracy: 0.6946 - val_loss: 0.5028 - val_accuracy: 0.0112 - val_binary_accuracy: 0.6973\n",
      "Epoch 382/750\n",
      "480/480 [==============================] - 5s 10ms/step - loss: 0.4711 - accuracy: 0.0175 - binary_accuracy: 0.6946 - val_loss: 0.5028 - val_accuracy: 0.0112 - val_binary_accuracy: 0.6973\n",
      "Epoch 383/750\n",
      "480/480 [==============================] - 4s 9ms/step - loss: 0.4710 - accuracy: 0.0179 - binary_accuracy: 0.6946 - val_loss: 0.5027 - val_accuracy: 0.0112 - val_binary_accuracy: 0.6973\n",
      "Epoch 384/750\n",
      "480/480 [==============================] - 5s 10ms/step - loss: 0.4709 - accuracy: 0.0171 - binary_accuracy: 0.6946 - val_loss: 0.5028 - val_accuracy: 0.0112 - val_binary_accuracy: 0.6973\n",
      "Epoch 385/750\n",
      "480/480 [==============================] - 5s 10ms/step - loss: 0.4708 - accuracy: 0.0171 - binary_accuracy: 0.6946 - val_loss: 0.5027 - val_accuracy: 0.0112 - val_binary_accuracy: 0.6973\n",
      "Epoch 386/750\n",
      "480/480 [==============================] - 5s 10ms/step - loss: 0.4707 - accuracy: 0.0188 - binary_accuracy: 0.6946 - val_loss: 0.5026 - val_accuracy: 0.0112 - val_binary_accuracy: 0.6973\n",
      "Epoch 387/750\n",
      "480/480 [==============================] - 4s 9ms/step - loss: 0.4707 - accuracy: 0.0167 - binary_accuracy: 0.6946 - val_loss: 0.5026 - val_accuracy: 0.0112 - val_binary_accuracy: 0.6973\n",
      "Epoch 388/750\n",
      "480/480 [==============================] - 5s 10ms/step - loss: 0.4706 - accuracy: 0.0175 - binary_accuracy: 0.6946 - val_loss: 0.5027 - val_accuracy: 0.0112 - val_binary_accuracy: 0.6973\n",
      "Epoch 389/750\n",
      "480/480 [==============================] - 4s 9ms/step - loss: 0.4705 - accuracy: 0.0167 - binary_accuracy: 0.6946 - val_loss: 0.5026 - val_accuracy: 0.0112 - val_binary_accuracy: 0.6973\n",
      "Epoch 390/750\n",
      "480/480 [==============================] - 5s 11ms/step - loss: 0.4704 - accuracy: 0.0183 - binary_accuracy: 0.6946 - val_loss: 0.5026 - val_accuracy: 0.0112 - val_binary_accuracy: 0.6973\n",
      "Epoch 391/750\n",
      "480/480 [==============================] - 5s 10ms/step - loss: 0.4704 - accuracy: 0.0175 - binary_accuracy: 0.6946 - val_loss: 0.5026 - val_accuracy: 0.0112 - val_binary_accuracy: 0.6973\n",
      "Epoch 392/750\n",
      "480/480 [==============================] - 5s 9ms/step - loss: 0.4703 - accuracy: 0.0183 - binary_accuracy: 0.6946 - val_loss: 0.5025 - val_accuracy: 0.0112 - val_binary_accuracy: 0.6973\n",
      "Epoch 393/750\n",
      "480/480 [==============================] - 4s 8ms/step - loss: 0.4702 - accuracy: 0.0167 - binary_accuracy: 0.6946 - val_loss: 0.5025 - val_accuracy: 0.0112 - val_binary_accuracy: 0.6973\n",
      "Epoch 394/750\n",
      "480/480 [==============================] - 4s 9ms/step - loss: 0.4701 - accuracy: 0.0179 - binary_accuracy: 0.6946 - val_loss: 0.5027 - val_accuracy: 0.0112 - val_binary_accuracy: 0.6973\n",
      "Epoch 395/750\n",
      "480/480 [==============================] - 5s 10ms/step - loss: 0.4701 - accuracy: 0.0179 - binary_accuracy: 0.6946 - val_loss: 0.5025 - val_accuracy: 0.0112 - val_binary_accuracy: 0.6973\n",
      "Epoch 396/750\n",
      "480/480 [==============================] - 5s 10ms/step - loss: 0.4700 - accuracy: 0.0179 - binary_accuracy: 0.6946 - val_loss: 0.5025 - val_accuracy: 0.0112 - val_binary_accuracy: 0.6973\n",
      "Epoch 397/750\n",
      "480/480 [==============================] - 4s 9ms/step - loss: 0.4699 - accuracy: 0.0183 - binary_accuracy: 0.6946 - val_loss: 0.5024 - val_accuracy: 0.0112 - val_binary_accuracy: 0.6973\n"
     ]
    },
    {
     "name": "stdout",
     "output_type": "stream",
     "text": [
      "Epoch 398/750\n",
      "480/480 [==============================] - 4s 9ms/step - loss: 0.4699 - accuracy: 0.0179 - binary_accuracy: 0.6946 - val_loss: 0.5026 - val_accuracy: 0.0112 - val_binary_accuracy: 0.6973\n",
      "Epoch 399/750\n",
      "480/480 [==============================] - 4s 9ms/step - loss: 0.4698 - accuracy: 0.0179 - binary_accuracy: 0.6946 - val_loss: 0.5024 - val_accuracy: 0.0112 - val_binary_accuracy: 0.6973\n",
      "Epoch 400/750\n",
      "480/480 [==============================] - 4s 9ms/step - loss: 0.4697 - accuracy: 0.0179 - binary_accuracy: 0.6946 - val_loss: 0.5025 - val_accuracy: 0.0112 - val_binary_accuracy: 0.6973\n",
      "Epoch 401/750\n",
      "480/480 [==============================] - 4s 8ms/step - loss: 0.4696 - accuracy: 0.0179 - binary_accuracy: 0.6946 - val_loss: 0.5025 - val_accuracy: 0.0112 - val_binary_accuracy: 0.6973\n",
      "Epoch 402/750\n",
      "480/480 [==============================] - 4s 9ms/step - loss: 0.4695 - accuracy: 0.0183 - binary_accuracy: 0.6946 - val_loss: 0.5025 - val_accuracy: 0.0112 - val_binary_accuracy: 0.6973\n",
      "Epoch 403/750\n",
      "480/480 [==============================] - 4s 9ms/step - loss: 0.4695 - accuracy: 0.0179 - binary_accuracy: 0.6946 - val_loss: 0.5026 - val_accuracy: 0.0112 - val_binary_accuracy: 0.6973\n",
      "Epoch 404/750\n",
      "480/480 [==============================] - 4s 9ms/step - loss: 0.4694 - accuracy: 0.0183 - binary_accuracy: 0.6946 - val_loss: 0.5024 - val_accuracy: 0.0112 - val_binary_accuracy: 0.6973\n",
      "Epoch 405/750\n",
      "480/480 [==============================] - 6s 12ms/step - loss: 0.4694 - accuracy: 0.0188 - binary_accuracy: 0.6946 - val_loss: 0.5024 - val_accuracy: 0.0112 - val_binary_accuracy: 0.6973\n",
      "Epoch 406/750\n",
      "480/480 [==============================] - 5s 10ms/step - loss: 0.4693 - accuracy: 0.0175 - binary_accuracy: 0.6946 - val_loss: 0.5024 - val_accuracy: 0.0112 - val_binary_accuracy: 0.6973\n",
      "Epoch 407/750\n",
      "480/480 [==============================] - 5s 10ms/step - loss: 0.4692 - accuracy: 0.0183 - binary_accuracy: 0.6946 - val_loss: 0.5024 - val_accuracy: 0.0112 - val_binary_accuracy: 0.6973\n",
      "Epoch 408/750\n",
      "480/480 [==============================] - 5s 10ms/step - loss: 0.4691 - accuracy: 0.0179 - binary_accuracy: 0.6946 - val_loss: 0.5022 - val_accuracy: 0.0112 - val_binary_accuracy: 0.6973\n",
      "Epoch 409/750\n",
      "480/480 [==============================] - 6s 12ms/step - loss: 0.4690 - accuracy: 0.0179 - binary_accuracy: 0.6946 - val_loss: 0.5024 - val_accuracy: 0.0112 - val_binary_accuracy: 0.6973\n",
      "Epoch 410/750\n",
      "480/480 [==============================] - 5s 10ms/step - loss: 0.4690 - accuracy: 0.0183 - binary_accuracy: 0.6946 - val_loss: 0.5024 - val_accuracy: 0.0112 - val_binary_accuracy: 0.6973\n",
      "Epoch 411/750\n",
      "480/480 [==============================] - 5s 11ms/step - loss: 0.4689 - accuracy: 0.0183 - binary_accuracy: 0.6946 - val_loss: 0.5023 - val_accuracy: 0.0112 - val_binary_accuracy: 0.6973\n",
      "Epoch 412/750\n",
      "480/480 [==============================] - 5s 10ms/step - loss: 0.4689 - accuracy: 0.0175 - binary_accuracy: 0.6946 - val_loss: 0.5024 - val_accuracy: 0.0112 - val_binary_accuracy: 0.6973\n",
      "Epoch 413/750\n",
      "480/480 [==============================] - 5s 11ms/step - loss: 0.4688 - accuracy: 0.0196 - binary_accuracy: 0.6946 - val_loss: 0.5025 - val_accuracy: 0.0112 - val_binary_accuracy: 0.6973\n",
      "Epoch 414/750\n",
      "480/480 [==============================] - 5s 11ms/step - loss: 0.4687 - accuracy: 0.0175 - binary_accuracy: 0.6946 - val_loss: 0.5024 - val_accuracy: 0.0112 - val_binary_accuracy: 0.6973\n",
      "Epoch 415/750\n",
      "480/480 [==============================] - 4s 9ms/step - loss: 0.4687 - accuracy: 0.0192 - binary_accuracy: 0.6946 - val_loss: 0.5023 - val_accuracy: 0.0112 - val_binary_accuracy: 0.6973\n",
      "Epoch 416/750\n",
      "480/480 [==============================] - 4s 9ms/step - loss: 0.4686 - accuracy: 0.0183 - binary_accuracy: 0.6946 - val_loss: 0.5022 - val_accuracy: 0.0112 - val_binary_accuracy: 0.6973\n",
      "Epoch 417/750\n",
      "480/480 [==============================] - 4s 9ms/step - loss: 0.4685 - accuracy: 0.0192 - binary_accuracy: 0.6946 - val_loss: 0.5023 - val_accuracy: 0.0112 - val_binary_accuracy: 0.6973\n",
      "Epoch 418/750\n",
      "480/480 [==============================] - 4s 9ms/step - loss: 0.4684 - accuracy: 0.0179 - binary_accuracy: 0.6946 - val_loss: 0.5021 - val_accuracy: 0.0112 - val_binary_accuracy: 0.6973\n",
      "Epoch 419/750\n",
      "480/480 [==============================] - 4s 9ms/step - loss: 0.4684 - accuracy: 0.0200 - binary_accuracy: 0.6946 - val_loss: 0.5022 - val_accuracy: 0.0112 - val_binary_accuracy: 0.6973\n",
      "Epoch 420/750\n",
      "480/480 [==============================] - 4s 9ms/step - loss: 0.4683 - accuracy: 0.0204 - binary_accuracy: 0.6946 - val_loss: 0.5023 - val_accuracy: 0.0112 - val_binary_accuracy: 0.6973\n",
      "Epoch 421/750\n",
      "480/480 [==============================] - 4s 9ms/step - loss: 0.4682 - accuracy: 0.0204 - binary_accuracy: 0.6946 - val_loss: 0.5022 - val_accuracy: 0.0112 - val_binary_accuracy: 0.6973\n",
      "Epoch 422/750\n",
      "480/480 [==============================] - 4s 8ms/step - loss: 0.4682 - accuracy: 0.0188 - binary_accuracy: 0.6946 - val_loss: 0.5022 - val_accuracy: 0.0112 - val_binary_accuracy: 0.6973\n",
      "Epoch 423/750\n",
      "480/480 [==============================] - 4s 9ms/step - loss: 0.4681 - accuracy: 0.0200 - binary_accuracy: 0.6946 - val_loss: 0.5020 - val_accuracy: 0.0112 - val_binary_accuracy: 0.6973\n",
      "Epoch 424/750\n",
      "480/480 [==============================] - 4s 9ms/step - loss: 0.4680 - accuracy: 0.0192 - binary_accuracy: 0.6946 - val_loss: 0.5023 - val_accuracy: 0.0112 - val_binary_accuracy: 0.6973\n",
      "Epoch 425/750\n",
      "480/480 [==============================] - 4s 9ms/step - loss: 0.4680 - accuracy: 0.0200 - binary_accuracy: 0.6946 - val_loss: 0.5021 - val_accuracy: 0.0112 - val_binary_accuracy: 0.6973\n",
      "Epoch 426/750\n",
      "480/480 [==============================] - 4s 8ms/step - loss: 0.4679 - accuracy: 0.0204 - binary_accuracy: 0.6946 - val_loss: 0.5022 - val_accuracy: 0.0112 - val_binary_accuracy: 0.6973\n",
      "Epoch 427/750\n",
      "480/480 [==============================] - 4s 8ms/step - loss: 0.4678 - accuracy: 0.0204 - binary_accuracy: 0.6946 - val_loss: 0.5021 - val_accuracy: 0.0112 - val_binary_accuracy: 0.6973\n",
      "Epoch 428/750\n",
      "480/480 [==============================] - 4s 9ms/step - loss: 0.4678 - accuracy: 0.0200 - binary_accuracy: 0.6946 - val_loss: 0.5022 - val_accuracy: 0.0112 - val_binary_accuracy: 0.6973\n",
      "Epoch 429/750\n",
      "480/480 [==============================] - 4s 9ms/step - loss: 0.4677 - accuracy: 0.0208 - binary_accuracy: 0.6946 - val_loss: 0.5022 - val_accuracy: 0.0112 - val_binary_accuracy: 0.6973\n",
      "Epoch 430/750\n",
      "480/480 [==============================] - 4s 9ms/step - loss: 0.4676 - accuracy: 0.0192 - binary_accuracy: 0.6946 - val_loss: 0.5021 - val_accuracy: 0.0112 - val_binary_accuracy: 0.6973\n",
      "Epoch 431/750\n",
      "480/480 [==============================] - 4s 9ms/step - loss: 0.4676 - accuracy: 0.0196 - binary_accuracy: 0.6946 - val_loss: 0.5023 - val_accuracy: 0.0112 - val_binary_accuracy: 0.6973\n",
      "Epoch 432/750\n",
      "480/480 [==============================] - 4s 9ms/step - loss: 0.4675 - accuracy: 0.0196 - binary_accuracy: 0.6946 - val_loss: 0.5021 - val_accuracy: 0.0112 - val_binary_accuracy: 0.6973\n",
      "Epoch 433/750\n",
      "480/480 [==============================] - 4s 9ms/step - loss: 0.4674 - accuracy: 0.0200 - binary_accuracy: 0.6946 - val_loss: 0.5020 - val_accuracy: 0.0112 - val_binary_accuracy: 0.6973\n",
      "Epoch 434/750\n",
      "480/480 [==============================] - 4s 9ms/step - loss: 0.4674 - accuracy: 0.0200 - binary_accuracy: 0.6946 - val_loss: 0.5021 - val_accuracy: 0.0112 - val_binary_accuracy: 0.6973\n",
      "Epoch 435/750\n",
      "480/480 [==============================] - 4s 9ms/step - loss: 0.4673 - accuracy: 0.0213 - binary_accuracy: 0.6946 - val_loss: 0.5022 - val_accuracy: 0.0112 - val_binary_accuracy: 0.6973\n",
      "Epoch 436/750\n",
      "480/480 [==============================] - 4s 8ms/step - loss: 0.4672 - accuracy: 0.0204 - binary_accuracy: 0.6946 - val_loss: 0.5020 - val_accuracy: 0.0112 - val_binary_accuracy: 0.6973\n",
      "Epoch 437/750\n",
      "480/480 [==============================] - 4s 8ms/step - loss: 0.4672 - accuracy: 0.0192 - binary_accuracy: 0.6946 - val_loss: 0.5021 - val_accuracy: 0.0112 - val_binary_accuracy: 0.6973\n",
      "Epoch 438/750\n",
      "377/480 [======================>.......] - ETA: 0s - loss: 0.4674 - accuracy: 0.0228 - binary_accuracy: 0.6956"
     ]
    }
   ],
   "source": [
    "N_folds = 3\n",
    "N_instances = 4000\n",
    "\n",
    "kfold = KFold(n_splits = N_folds)\n",
    "metrics = []\n",
    "fold = 1\n",
    "X_fc_final, Y_fc_final = subset_data(N_instances, X_fc_all, Y_fc_all)\n",
    "for train_idx, test_idx in kfold.split(X_fc_final, Y_fc_final):\n",
    "    cb = tb_callback(f\"fc_model_fold_{fold}\") \n",
    "    mdl = create_fc_model(**fc_model_params)\n",
    "    mdl.fit(\n",
    "        X_fc_all[train_idx],\n",
    "        Y_fc_all[train_idx],\n",
    "        epochs=fc_model_params[\"n_epochs\"],\n",
    "        batch_size=fc_model_params[\"batch_size\"],\n",
    "        validation_split=0.1,\n",
    "        callbacks=[cb]\n",
    "    )\n",
    "    \n",
    "    ev = mdl.evaluate(\n",
    "        X_fc_all[test_idx],\n",
    "        Y_fc_all[test_idx],\n",
    "        callbacks=[cb]\n",
    "    )\n",
    "    \n",
    "    metrics.append(ev)\n",
    "    fold += 1"
   ]
  },
  {
   "cell_type": "markdown",
   "metadata": {},
   "source": [
    "# Convolutional design\n",
    "\n",
    "We can also approach this problem with a convolutional network. These are designed for image processing and operate by sliding a kernel over an image, performing a \"convolution\" of the kernel on the data. It is particuarly good at identifying patterns, so let us test this out!"
   ]
  },
  {
   "cell_type": "markdown",
   "metadata": {},
   "source": [
    "## Data manipulation\n",
    "\n",
    "For this model, the data will be separated into two layers; one for all the white pieces and one for the black pieces. The target will remain unchanged and there will still be no distinction between the pieces.\n",
    "\n",
    "To get the data in the correct format, we can construct a $8\\times8\\times2$ numpy array to feed our model. The pieces which are moving will be provided in the 0th index of axis 2 (the array is structured [axis0, axis1, axis2]) and those not moving will be at index 1."
   ]
  },
  {
   "cell_type": "code",
   "execution_count": null,
   "metadata": {},
   "outputs": [],
   "source": [
    "conv_move_list = [list({i for i in board.moves.all_valid}) for board in board_list]\n",
    "conv_position_list = [\n",
    "    (dict(board.loc_map), board.to_move) \n",
    "    for board in board_list\n",
    "]"
   ]
  },
  {
   "cell_type": "code",
   "execution_count": null,
   "metadata": {},
   "outputs": [],
   "source": [
    "# Encode the location of any piece as a 1, and all other positions as 0\n",
    "conv_feature = []\n",
    "for instance in conv_position_list:\n",
    "    # Set up empty array\n",
    "    array = np.zeros((8, 8, 2))\n",
    "    \n",
    "    # Assign white and black to their correct layers\n",
    "    if instance[1] == WHITE:\n",
    "        # White to move\n",
    "        WHITE_LAYER = 1\n",
    "        BLACK_LAYER = 0\n",
    "    else:\n",
    "        # Black to move\n",
    "        BLACK_LAYER = 1\n",
    "        WHITE_LAYER = 0\n",
    "    \n",
    "    # Mark the correct locations in the matrix\n",
    "    for location, piece in instance[0].items():\n",
    "        if piece.colour == WHITE:\n",
    "            array[location.i, location.j, WHITE_LAYER] = 1\n",
    "        else:\n",
    "            array[location.i, location.j, BLACK_LAYER] = 1\n",
    "\n",
    "    conv_feature.append(array)"
   ]
  },
  {
   "cell_type": "code",
   "execution_count": null,
   "metadata": {},
   "outputs": [],
   "source": [
    "# We encode the valid \"destination\" squares with a 1 and invalid with a 0\n",
    "conv_target = []\n",
    "for instance in conv_move_list:\n",
    "    array = np.zeros((8, 8))\n",
    "    for location in instance:\n",
    "        array[location.i, location.j] = 1\n",
    "    conv_target.append(array.flatten())"
   ]
  },
  {
   "cell_type": "code",
   "execution_count": null,
   "metadata": {},
   "outputs": [],
   "source": [
    "X_cnv1_all = np.array(conv_feature)\n",
    "Y_cnv1_all = np.array(conv_target)\n",
    "\n",
    "X_cnv1_subset, Y_cnv1_subset = subset_data(1000, X_cnv1_all, Y_cnv1_all)\n",
    "\n",
    "# Split the data using sklearn train_test_split\n",
    "X_cnv1_train, X_cnv1_test, Y_cnv1_train, Y_cnv1_test = train_test_split(\n",
    "    X_cnv1_subset, \n",
    "    Y_cnv1_subset, \n",
    "    test_size=0.2\n",
    ")"
   ]
  },
  {
   "cell_type": "markdown",
   "metadata": {},
   "source": [
    "### Training a model\n",
    "\n",
    "Now the data is in a format that contains much more information in a way that convolutional netoworks can process, we can define a convolutional model architecture (again using the Keras functional API) to verify if this model can perform any better.\n",
    "\n",
    "The head neural network at the end will share a design with the result of the fully-connected grid search, however that result is not transferable and so a proper grud search for this model will be carried out further down."
   ]
  },
  {
   "cell_type": "code",
   "execution_count": null,
   "metadata": {
    "scrolled": true
   },
   "outputs": [],
   "source": [
    "conv_1_input = keras.Input(shape=(8, 8, 2))\n",
    "cnv_1 = Conv2D(8, (3, 3), activation='relu')(conv_1_input)\n",
    "cnv_1 = Conv2D(8, (3, 3), activation='relu')(cnv_1)\n",
    "cnv_1 = Conv2D(8, (3, 3), activation='relu')(cnv_1)\n",
    "cnv_1 = Flatten()(cnv_1)\n",
    "cnv_1 = Dense(256, activation='relu')(cnv_1)\n",
    "conv_1_outputs = Dense(64, activation='sigmoid')(cnv_1)\n",
    "\n",
    "cnv1_model = keras.Model(inputs=conv_1_input, outputs=conv_1_outputs)\n",
    "cnv1_model.compile(\n",
    "    optimizer=\"SGD\",\n",
    "    loss=\"binary_crossentropy\",\n",
    "    metrics=[\"accuracy\", \"binary_accuracy\"]\n",
    ")\n",
    "cnv1_model.summary()\n",
    "\n",
    "cnv1_tb_callback = tb_callback(\"cnv1_base\")"
   ]
  },
  {
   "cell_type": "code",
   "execution_count": null,
   "metadata": {
    "scrolled": true
   },
   "outputs": [],
   "source": [
    "cnv1_model.fit(\n",
    "    X_cnv1_train, \n",
    "    Y_cnv1_train,\n",
    "    epochs=750,\n",
    "    batch_size=5,\n",
    "    validation_split=0.1,\n",
    "    callbacks=[cnv1_tb_callback]\n",
    ")"
   ]
  },
  {
   "cell_type": "code",
   "execution_count": null,
   "metadata": {},
   "outputs": [],
   "source": [
    "cnv1_model.evaluate(X_cnv1_test, Y_cnv1_test, callbacks=[cnv1_tb_callback])"
   ]
  },
  {
   "cell_type": "markdown",
   "metadata": {},
   "source": [
    "The binary accuracy of this model does outperform the previous dense network used before, which is a promising result for this technique."
   ]
  },
  {
   "cell_type": "code",
   "execution_count": null,
   "metadata": {
    "scrolled": true
   },
   "outputs": [],
   "source": [
    "interact(\n",
    "    generate_plots,\n",
    "    model = fixed(cnv1_model),\n",
    "    x = fixed(X_cnv1_test),\n",
    "    y = fixed(Y_cnv1_test),\n",
    "    n=widgets.IntSlider(min=0, max=199, step=5, value=0),\n",
    "    target=False,\n",
    "    prediction=False,\n",
    "    raw_prediction=False,\n",
    "    diff=True\n",
    ")"
   ]
  },
  {
   "cell_type": "markdown",
   "metadata": {},
   "source": [
    "From these modified visualisation functions it is clear that there is greater performance by this model. The added implicit information on which pieces are moving, combined with the use of convolutional filters to properly extract features from the training data. Seeing a jump in binary accuracy as well as in many cases much more confident predictions from the model is indicitive that this approach is superior, due to the convolutional feature extraction layers\n",
    "\n",
    "The behaviour of long range pieces is however still an issue for these systems."
   ]
  },
  {
   "cell_type": "markdown",
   "metadata": {},
   "source": [
    "# Convolutional network with higher input dimensionallity\n",
    "\n",
    "It is now not unreasonable to think that the networks performance would be increased significantly if it were to be aware of which pieces are at which location; this is after all the most important deciding factor as to how they may move.\n",
    "\n",
    "An approach to integrating this data is the following architecture;\n",
    "- Input data (8 x 8 x 6), where there is one index on axis 2 for each of the five piece types (King, Queen, Rook, Knight, Bishop, Pawn) for the moving pieces, and another for the following\n",
    "- The final layer of the input tensor will contain the position of the pieces which are not to move. Since the information on which type of piece these are is generally less important to predicting the moves, for now this can be left out.\n",
    "- Additionally, passing the fully connected layer some information about whether the position is check for example may increase accuracy some more, since it will be able to tell when certain moves which usually are valid would not be valid. This information needs to reach the fully connected network but is not part of the convolutional network, so for this section the Keras functional API will be more appropriate as it offers more control.\n",
    "\n",
    "\n",
    "\n"
   ]
  },
  {
   "cell_type": "markdown",
   "metadata": {},
   "source": [
    "## Data processing"
   ]
  },
  {
   "cell_type": "code",
   "execution_count": null,
   "metadata": {},
   "outputs": [],
   "source": [
    "# Encode the location of any piece as a 1, and all other positions as 0\n",
    "conv_feature = []\n",
    "piece_index_map = {\n",
    "    'K': 0,\n",
    "    'Q': 1,\n",
    "    'R': 2,\n",
    "    'B': 3,\n",
    "    'N': 4,\n",
    "    'P': 5\n",
    "}\n",
    "for instance in conv_position_list:\n",
    "    # Set up empty array\n",
    "    array = np.zeros((8, 8, 7))\n",
    "    \n",
    "    # Assign white and black to their correct layers\n",
    "    if instance[1] == WHITE:\n",
    "        # White to move\n",
    "        MOVING_COLOUR = 1\n",
    "    else:\n",
    "        # Black to move\n",
    "        MOVING_COLOUR = 0\n",
    "    \n",
    "    # Mark the correct locations in the matrix\n",
    "    for location, piece in instance[0].items():\n",
    "        if piece.colour == MOVING_COLOUR:\n",
    "            array[location.i, location.j, piece_index_map[piece.kind]] = 1\n",
    "        else:\n",
    "            array[location.i, location.j, 6] = 1\n",
    "\n",
    "    conv_feature.append(array)"
   ]
  },
  {
   "cell_type": "code",
   "execution_count": null,
   "metadata": {},
   "outputs": [],
   "source": [
    "# We encode the valid \"destination\" squares with a 1 and invalid with a 0\n",
    "conv_target = []\n",
    "for instance in conv_move_list:\n",
    "    array = np.zeros((8, 8))\n",
    "    for location in instance:\n",
    "        array[location.i, location.j] = 1\n",
    "    conv_target.append(array.flatten())"
   ]
  },
  {
   "cell_type": "code",
   "execution_count": null,
   "metadata": {},
   "outputs": [],
   "source": [
    "X_cnv2_all = np.array(conv_feature)\n",
    "Y_cnv2_all = np.array(conv_target)\n",
    "\n",
    "# Split the data using sklearn train_test_split\n",
    "X_cnv2_train, X_cnv2_test, Y_cnv2_train, Y_cnv2_test = train_test_split(X_cnv2_all, Y_cnv2_all, test_size=0.2)"
   ]
  },
  {
   "cell_type": "markdown",
   "metadata": {},
   "source": [
    "## Create a model\n",
    "\n",
    "This model architecture will be roughly similar to that of the previous, however this time we will perform an exploratory grid search on a subset of the data to establish the best hyperparameters."
   ]
  },
  {
   "cell_type": "code",
   "execution_count": null,
   "metadata": {},
   "outputs": [],
   "source": [
    "def create_cnv2_model(\n",
    "        n_conv_layers,\n",
    "        n_kernels,\n",
    "    \n",
    "        n_hidden_layers, \n",
    "        hidden_dim,\n",
    "    \n",
    "        optimizer,\n",
    "        batch_size,\n",
    "        n_epochs,\n",
    "        dropout_rate,\n",
    "        learning_rate,\n",
    "        momentum,\n",
    "        ):\n",
    "    conv_2_input = keras.Input(shape=(8, 8, 7))\n",
    "    cnv_2 = Conv2D(n_kernels, (3, 3), activation='relu')(conv_2_input)\n",
    "    for i in range(n_conv_layers - 1):\n",
    "        cnv_2 = Conv2D(n_kernels, (3, 3), activation='relu')(cnv_2)\n",
    "\n",
    "    cnv_2 = Flatten()(cnv_2)\n",
    "    for i in range(n_hidden_layers-1):\n",
    "        cnv_2 = Dense(hidden_dim, activation='relu')(cnv_2)\n",
    "        cnv_2 = Dropout(dropout_rate)(cnv_2)\n",
    "    conv_2_outputs = Dense(64, activation='sigmoid')(cnv_2)\n",
    "    \n",
    "    opt = keras.optimizers.SGD(learning_rate=learning_rate, momentum=momentum)\n",
    "\n",
    "    conv_model_2 = keras.Model(inputs=conv_2_input, outputs=conv_2_outputs)\n",
    "    conv_model_2.compile(\n",
    "        optimizer=opt,\n",
    "        loss=\"binary_crossentropy\",\n",
    "        metrics=[\"accuracy\", \"binary_accuracy\"]\n",
    "    )\n",
    "    return conv_model_2"
   ]
  },
  {
   "cell_type": "markdown",
   "metadata": {},
   "source": [
    "### Perform a hyperparameter grid search"
   ]
  },
  {
   "cell_type": "code",
   "execution_count": null,
   "metadata": {},
   "outputs": [],
   "source": [
    "cnv2_param_grid = {\n",
    "        \"n_conv_layers\": [1],\n",
    "        \"n_kernels\": [10, 15],\n",
    "        \"n_hidden_layers\": [3, 5],\n",
    "        \"hidden_dim\": [16, 32, 64],\n",
    "        \"optimizer\": [\"SGD\"],\n",
    "        \"batch_size\": [5],\n",
    "        \"n_epochs\": [750, 1000],\n",
    "        \"dropout_rate\": [0],\n",
    "        \"learning_rate\": [0.01, 0.05, 0.1],\n",
    "        \"momentum\": [0, 0.2]\n",
    "}\n",
    "\n",
    "\n",
    "X_cnv2_grid, Y_cnv2_grid = subset_data(1000, X_cnv2_all, Y_cnv2_all)\n",
    "\n",
    "\n",
    "cnv2_model = KerasClassifier(build_fn=create_cnv2_model)\n",
    "cnv2_grid = GridSearchCV(estimator=cnv2_model, param_grid=cnv2_param_grid, n_jobs=-1, cv=3, verbose=2)\n",
    "cnv2_result = cnv2_grid.fit(X_cnv2_grid, Y_cnv2_grid)\n",
    "\n"
   ]
  },
  {
   "cell_type": "code",
   "execution_count": null,
   "metadata": {},
   "outputs": [],
   "source": [
    "disp_grid(cnv2_result)"
   ]
  },
  {
   "cell_type": "code",
   "execution_count": null,
   "metadata": {
    "scrolled": false
   },
   "outputs": [],
   "source": [
    "cnv2_model = create_cnv2_model(**cnv2_result.best_params_)\n",
    "cnv2_model.summary()\n",
    "cnv2_tb_callback = tb_callback(\"cnv2\")"
   ]
  },
  {
   "cell_type": "code",
   "execution_count": null,
   "metadata": {
    "scrolled": true
   },
   "outputs": [],
   "source": [
    "N_instances = 2000\n",
    "\n",
    "X_cnv2_subset, Y_cnv2_subset = subset_data(N_instances, X_cnv2_all, Y_cnv2_all)\n",
    "\n",
    "X_cnv2_train, X_cnv2_test, Y_cnv2_train, Y_cnv2_test = train_test_split(X_cnv2_subset, Y_cnv2_subset, test_size=0.2)\n",
    "\n",
    "cnv2_model.fit(\n",
    "    X_cnv2_train, \n",
    "    Y_cnv2_train,\n",
    "    validation_split=0.1,\n",
    "    epochs=cnv2_result.best_params_[\"n_epochs\"],\n",
    "    batch_size=cnv2_result.best_params_[\"batch_size\"],\n",
    "    callbacks=[cnv2_tb_callback]\n",
    ")"
   ]
  },
  {
   "cell_type": "code",
   "execution_count": null,
   "metadata": {},
   "outputs": [],
   "source": [
    "conv_model_2.evaluate(X_cnv2_test, Y_cnv2_test)"
   ]
  },
  {
   "cell_type": "markdown",
   "metadata": {},
   "source": [
    "## Visualise the output"
   ]
  },
  {
   "cell_type": "code",
   "execution_count": null,
   "metadata": {
    "scrolled": false
   },
   "outputs": [],
   "source": [
    "# From https://ipywidgets.readthedocs.io/en/latest/examples/Using%20Interact.html\n",
    "interact(\n",
    "    generate_plots,\n",
    "    model = fixed(cnv2_model),\n",
    "    x = fixed(X_cnv2_test),\n",
    "    y = fixed(Y_cnv2_test),\n",
    "    n=widgets.IntSlider(min=0, max=199, step=5, value=0),\n",
    "    target=False,\n",
    "    prediction=False,\n",
    "    raw_prediction=False,\n",
    "    diff=True\n",
    ")"
   ]
  },
  {
   "cell_type": "code",
   "execution_count": null,
   "metadata": {},
   "outputs": [],
   "source": []
  }
 ],
 "metadata": {
  "interpreter": {
   "hash": "c6e4e9f98eb68ad3b7c296f83d20e6de614cb42e90992a65aa266555a3137d0d"
  },
  "kernelspec": {
   "display_name": "Python 3 (ipykernel)",
   "language": "python",
   "name": "python3"
  },
  "language_info": {
   "codemirror_mode": {
    "name": "ipython",
    "version": 3
   },
   "file_extension": ".py",
   "mimetype": "text/x-python",
   "name": "python",
   "nbconvert_exporter": "python",
   "pygments_lexer": "ipython3",
   "version": "3.9.7"
  }
 },
 "nbformat": 4,
 "nbformat_minor": 2
}
