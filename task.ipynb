{
 "cells": [
  {
   "cell_type": "code",
   "execution_count": 6,
   "metadata": {},
   "outputs": [],
   "source": [
    "import pickle\n",
    "import numpy as np\n",
    "import tensorflow as tf\n",
    "import keras\n",
    "\n",
    "import os\n",
    "import datetime\n",
    "\n",
    "from keras.layers import Dense\n",
    "from Chess import construct_board\n",
    "from Chess.view import view_board_colour\n",
    "from Chess.state import Board\n",
    "from sklearn.model_selection import train_test_split\n",
    "\n",
    "from ipywidgets import interact\n",
    "import ipywidgets as widgets\n",
    "\n",
    "import matplotlib.pyplot as plt\n",
    "from matplotlib import colors\n",
    "import seaborn as sns"
   ]
  },
  {
   "cell_type": "code",
   "execution_count": 7,
   "metadata": {},
   "outputs": [
    {
     "name": "stdout",
     "output_type": "stream",
     "text": [
      "The tensorboard extension is already loaded. To reload it, use:\n",
      "  %reload_ext tensorboard\n"
     ]
    }
   ],
   "source": [
    "%load_ext tensorboard"
   ]
  },
  {
   "cell_type": "markdown",
   "metadata": {},
   "source": [
    "### Open our set of randomly selected Board objects\n",
    "The script `generate_data.py` pickles a list of board objects after a sequence of moves is run through. This leaves us with a long list of `Board` objects which we can now use!"
   ]
  },
  {
   "cell_type": "code",
   "execution_count": 9,
   "metadata": {},
   "outputs": [],
   "source": [
    "with open(\"generated_data/all_boards.csv\", 'r') as f:\n",
    "    boards = f.readlines()\n",
    "\n",
    "board_list = [construct_board(i) for i in boards]"
   ]
  },
  {
   "cell_type": "code",
   "execution_count": 10,
   "metadata": {},
   "outputs": [
    {
     "name": "stdout",
     "output_type": "stream",
     "text": [
      "Black to move - turn 3\n",
      "\u001b[48;5;71m\u001b[38;5;255;48;5;0m R \u001b[0m\u001b[0m\u001b[48;5;250m\u001b[38;5;255;48;5;0m N \u001b[0m\u001b[0m\u001b[48;5;71m\u001b[38;5;255;48;5;0m B \u001b[0m\u001b[0m\u001b[48;5;250m\u001b[38;5;255;48;5;0m Q \u001b[0m\u001b[0m\u001b[48;5;71m\u001b[38;5;255;48;5;0m K \u001b[0m\u001b[0m\u001b[48;5;250m\u001b[38;5;255;48;5;0m B \u001b[0m\u001b[0m\u001b[48;5;71m\u001b[38;5;255;48;5;0m N \u001b[0m\u001b[0m\u001b[48;5;250m\u001b[38;5;255;48;5;0m R \u001b[0m\u001b[0m\n",
      "\u001b[48;5;250m\u001b[38;5;255;48;5;0m P \u001b[0m\u001b[0m\u001b[48;5;71m   \u001b[0m\u001b[48;5;250m\u001b[38;5;255;48;5;0m P \u001b[0m\u001b[0m\u001b[48;5;71m\u001b[38;5;255;48;5;0m P \u001b[0m\u001b[0m\u001b[48;5;250m   \u001b[0m\u001b[48;5;71m\u001b[38;5;255;48;5;0m P \u001b[0m\u001b[0m\u001b[48;5;250m\u001b[38;5;255;48;5;0m P \u001b[0m\u001b[0m\u001b[48;5;71m\u001b[38;5;255;48;5;0m P \u001b[0m\u001b[0m\n",
      "\u001b[48;5;71m   \u001b[0m\u001b[48;5;250m\u001b[38;5;255;48;5;0m P \u001b[0m\u001b[0m\u001b[48;5;71m   \u001b[0m\u001b[48;5;250m   \u001b[0m\u001b[48;5;71m\u001b[38;5;255;48;5;0m P \u001b[0m\u001b[0m\u001b[48;5;250m   \u001b[0m\u001b[48;5;71m   \u001b[0m\u001b[48;5;250m   \u001b[0m\n",
      "\u001b[48;5;250m   \u001b[0m\u001b[48;5;71m   \u001b[0m\u001b[48;5;250m   \u001b[0m\u001b[48;5;71m   \u001b[0m\u001b[48;5;250m   \u001b[0m\u001b[48;5;71m   \u001b[0m\u001b[48;5;250m   \u001b[0m\u001b[48;5;71m   \u001b[0m\n",
      "\u001b[48;5;71m   \u001b[0m\u001b[48;5;250m   \u001b[0m\u001b[48;5;71m   \u001b[0m\u001b[48;5;250m\u001b[38;5;0;48;5;255m P \u001b[0m\u001b[0m\u001b[48;5;71m\u001b[38;5;0;48;5;255m P \u001b[0m\u001b[0m\u001b[48;5;250m   \u001b[0m\u001b[48;5;71m   \u001b[0m\u001b[48;5;250m   \u001b[0m\n",
      "\u001b[48;5;250m\u001b[38;5;0;48;5;255m P \u001b[0m\u001b[0m\u001b[48;5;71m   \u001b[0m\u001b[48;5;250m   \u001b[0m\u001b[48;5;71m   \u001b[0m\u001b[48;5;250m   \u001b[0m\u001b[48;5;71m   \u001b[0m\u001b[48;5;250m   \u001b[0m\u001b[48;5;71m   \u001b[0m\n",
      "\u001b[48;5;71m   \u001b[0m\u001b[48;5;250m\u001b[38;5;0;48;5;255m P \u001b[0m\u001b[0m\u001b[48;5;71m\u001b[38;5;0;48;5;255m P \u001b[0m\u001b[0m\u001b[48;5;250m   \u001b[0m\u001b[48;5;71m   \u001b[0m\u001b[48;5;250m\u001b[38;5;0;48;5;255m P \u001b[0m\u001b[0m\u001b[48;5;71m\u001b[38;5;0;48;5;255m P \u001b[0m\u001b[0m\u001b[48;5;250m\u001b[38;5;0;48;5;255m P \u001b[0m\u001b[0m\n",
      "\u001b[48;5;250m\u001b[38;5;0;48;5;255m R \u001b[0m\u001b[0m\u001b[48;5;71m\u001b[38;5;0;48;5;255m N \u001b[0m\u001b[0m\u001b[48;5;250m\u001b[38;5;0;48;5;255m B \u001b[0m\u001b[0m\u001b[48;5;71m\u001b[38;5;0;48;5;255m Q \u001b[0m\u001b[0m\u001b[48;5;250m\u001b[38;5;0;48;5;255m K \u001b[0m\u001b[0m\u001b[48;5;71m\u001b[38;5;0;48;5;255m B \u001b[0m\u001b[0m\u001b[48;5;250m\u001b[38;5;0;48;5;255m N \u001b[0m\u001b[0m\u001b[48;5;71m\u001b[38;5;0;48;5;255m R \u001b[0m\u001b[0m\n",
      "\n",
      "Black to move - turn 8\n",
      "\u001b[48;5;71m\u001b[38;5;255;48;5;0m R \u001b[0m\u001b[0m\u001b[48;5;250m\u001b[38;5;255;48;5;0m N \u001b[0m\u001b[0m\u001b[48;5;71m   \u001b[0m\u001b[48;5;250m\u001b[38;5;255;48;5;0m Q \u001b[0m\u001b[0m\u001b[48;5;71m\u001b[38;5;255;48;5;0m K \u001b[0m\u001b[0m\u001b[48;5;250m   \u001b[0m\u001b[48;5;71m   \u001b[0m\u001b[48;5;250m\u001b[38;5;255;48;5;0m R \u001b[0m\u001b[0m\n",
      "\u001b[48;5;250m\u001b[38;5;255;48;5;0m P \u001b[0m\u001b[0m\u001b[48;5;71m\u001b[38;5;255;48;5;0m P \u001b[0m\u001b[0m\u001b[48;5;250m\u001b[38;5;255;48;5;0m P \u001b[0m\u001b[0m\u001b[48;5;71m   \u001b[0m\u001b[48;5;250m   \u001b[0m\u001b[48;5;71m\u001b[38;5;255;48;5;0m P \u001b[0m\u001b[0m\u001b[48;5;250m\u001b[38;5;255;48;5;0m P \u001b[0m\u001b[0m\u001b[48;5;71m   \u001b[0m\n",
      "\u001b[48;5;71m   \u001b[0m\u001b[48;5;250m   \u001b[0m\u001b[48;5;71m   \u001b[0m\u001b[48;5;250m\u001b[38;5;255;48;5;0m B \u001b[0m\u001b[0m\u001b[48;5;71m\u001b[38;5;255;48;5;0m P \u001b[0m\u001b[0m\u001b[48;5;250m\u001b[38;5;255;48;5;0m N \u001b[0m\u001b[0m\u001b[48;5;71m\u001b[38;5;255;48;5;0m P \u001b[0m\u001b[0m\u001b[48;5;250m   \u001b[0m\n",
      "\u001b[48;5;250m   \u001b[0m\u001b[48;5;71m   \u001b[0m\u001b[48;5;250m   \u001b[0m\u001b[48;5;71m\u001b[38;5;255;48;5;0m P \u001b[0m\u001b[0m\u001b[48;5;250m   \u001b[0m\u001b[48;5;71m   \u001b[0m\u001b[48;5;250m   \u001b[0m\u001b[48;5;71m   \u001b[0m\n",
      "\u001b[48;5;71m   \u001b[0m\u001b[48;5;250m   \u001b[0m\u001b[48;5;71m   \u001b[0m\u001b[48;5;250m\u001b[38;5;0;48;5;255m P \u001b[0m\u001b[0m\u001b[48;5;71m\u001b[38;5;0;48;5;255m P \u001b[0m\u001b[0m\u001b[48;5;250m   \u001b[0m\u001b[48;5;71m   \u001b[0m\u001b[48;5;250m   \u001b[0m\n",
      "\u001b[48;5;250m   \u001b[0m\u001b[48;5;71m   \u001b[0m\u001b[48;5;250m   \u001b[0m\u001b[48;5;71m\u001b[38;5;0;48;5;255m B \u001b[0m\u001b[0m\u001b[48;5;250m   \u001b[0m\u001b[48;5;71m   \u001b[0m\u001b[48;5;250m   \u001b[0m\u001b[48;5;71m   \u001b[0m\n",
      "\u001b[48;5;71m\u001b[38;5;0;48;5;255m P \u001b[0m\u001b[0m\u001b[48;5;250m\u001b[38;5;0;48;5;255m P \u001b[0m\u001b[0m\u001b[48;5;71m\u001b[38;5;0;48;5;255m P \u001b[0m\u001b[0m\u001b[48;5;250m\u001b[38;5;0;48;5;255m N \u001b[0m\u001b[0m\u001b[48;5;71m   \u001b[0m\u001b[48;5;250m\u001b[38;5;0;48;5;255m P \u001b[0m\u001b[0m\u001b[48;5;71m\u001b[38;5;0;48;5;255m P \u001b[0m\u001b[0m\u001b[48;5;250m\u001b[38;5;0;48;5;255m P \u001b[0m\u001b[0m\n",
      "\u001b[48;5;250m\u001b[38;5;0;48;5;255m R \u001b[0m\u001b[0m\u001b[48;5;71m   \u001b[0m\u001b[48;5;250m\u001b[38;5;0;48;5;255m B \u001b[0m\u001b[0m\u001b[48;5;71m\u001b[38;5;0;48;5;255m Q \u001b[0m\u001b[0m\u001b[48;5;250m\u001b[38;5;0;48;5;255m K \u001b[0m\u001b[0m\u001b[48;5;71m   \u001b[0m\u001b[48;5;250m   \u001b[0m\u001b[48;5;71m\u001b[38;5;0;48;5;255m R \u001b[0m\u001b[0m\n",
      "\n"
     ]
    }
   ],
   "source": [
    "view_board_colour(board_list[0])\n",
    "view_board_colour(board_list[1])"
   ]
  },
  {
   "cell_type": "markdown",
   "metadata": {},
   "source": [
    "## Data processing\n",
    "Now the data needs to be formed into a reasonable type for training. This section will get all the positions which can be moved to as a list for each game, and all the positions of the pieces for each board as training data. Initally, this won't account for the piece type, which side is to move, or the different types of pieces and moves."
   ]
  },
  {
   "cell_type": "code",
   "execution_count": 11,
   "metadata": {},
   "outputs": [
    {
     "data": {
      "text/plain": [
       "19"
      ]
     },
     "execution_count": 11,
     "metadata": {},
     "output_type": "execute_result"
    }
   ],
   "source": [
    "# Using set comprehension to get only the unique elements of each boards moves (the target data)\n",
    "valid_move_list = [list({i for i in board.allied_moves.all_valid}) for board in board_list]\n",
    "\n",
    "# We are targeting the correct prediction of each of these squares as \"active\"\n",
    "len(valid_move_list[0])"
   ]
  },
  {
   "cell_type": "code",
   "execution_count": 12,
   "metadata": {},
   "outputs": [
    {
     "data": {
      "text/plain": [
       "32"
      ]
     },
     "execution_count": 12,
     "metadata": {},
     "output_type": "execute_result"
    }
   ],
   "source": [
    "# Get all the piece types and positions from the location map of each board (training data)\n",
    "piece_position_list = [{position: piece.kind for position, piece in board.loc_map.items()} for board in board_list]\n",
    "\n",
    "# This will be at most 32 pieces\n",
    "len(piece_position_list[0])"
   ]
  },
  {
   "cell_type": "code",
   "execution_count": 13,
   "metadata": {},
   "outputs": [],
   "source": [
    "# Encode the location of any piece as a 1, and all other positions as 0\n",
    "feature = []\n",
    "for instance in piece_position_list:\n",
    "    array = np.zeros((8, 8))\n",
    "    for location in instance:\n",
    "        array[location.i, location.j] = 1\n",
    "    feature.append(array.flatten())"
   ]
  },
  {
   "cell_type": "code",
   "execution_count": 14,
   "metadata": {},
   "outputs": [
    {
     "name": "stdout",
     "output_type": "stream",
     "text": [
      "[0. 0. 0. 0. 0. 0. 0. 0. 0. 0. 0. 0. 0. 0. 0. 0. 1. 0. 0. 0. 0. 0. 0. 0.\n",
      " 0. 1. 0. 0. 0. 0. 0. 1. 1. 1. 1. 1. 1. 1. 1. 1. 1. 0. 1. 1. 0. 1. 1. 1.\n",
      " 0. 1. 0. 0. 1. 0. 0. 0. 0. 0. 0. 0. 0. 0. 0. 0.]\n"
     ]
    }
   ],
   "source": [
    "# Simple encoding will be used at first, where any piece present is represented by a one and not present by zero.\n",
    "target = []\n",
    "for instance in valid_move_list:\n",
    "    array = np.zeros((8, 8))\n",
    "    for location in instance:\n",
    "        array[location.i, location.j] = 1\n",
    "    target.append(array.flatten())\n",
    "    \n",
    "print(target[0])"
   ]
  },
  {
   "cell_type": "code",
   "execution_count": 15,
   "metadata": {},
   "outputs": [
    {
     "name": "stdout",
     "output_type": "stream",
     "text": [
      "(20, 64)\n",
      "(20, 64)\n"
     ]
    }
   ],
   "source": [
    "X = np.array(feature)\n",
    "Y = np.array(target)\n",
    "\n",
    "print(X.shape)\n",
    "print(Y.shape)"
   ]
  },
  {
   "cell_type": "markdown",
   "metadata": {},
   "source": [
    "The data needs to be split into training and testing portions using the `sklearn` modules implementation."
   ]
  },
  {
   "cell_type": "code",
   "execution_count": 16,
   "metadata": {},
   "outputs": [],
   "source": [
    "X_train, X_test, Y_train, Y_test = train_test_split(X, Y, test_size=0.2)"
   ]
  },
  {
   "cell_type": "markdown",
   "metadata": {},
   "source": [
    "Beginning with a simple sequential model, which takes in a 1x64 array of features and outputs a prediction at each of the 64 squares."
   ]
  },
  {
   "cell_type": "code",
   "execution_count": 17,
   "metadata": {},
   "outputs": [
    {
     "name": "stdout",
     "output_type": "stream",
     "text": [
      "Metal device set to: Apple M1\n"
     ]
    },
    {
     "name": "stderr",
     "output_type": "stream",
     "text": [
      "2021-12-03 12:53:45.786958: I tensorflow/core/common_runtime/pluggable_device/pluggable_device_factory.cc:305] Could not identify NUMA node of platform GPU ID 0, defaulting to 0. Your kernel may not have been built with NUMA support.\n",
      "2021-12-03 12:53:45.787873: I tensorflow/core/common_runtime/pluggable_device/pluggable_device_factory.cc:271] Created TensorFlow device (/job:localhost/replica:0/task:0/device:GPU:0 with 0 MB memory) -> physical PluggableDevice (device: 0, name: METAL, pci bus id: <undefined>)\n"
     ]
    }
   ],
   "source": [
    "# Inspired by the model at https://machinelearningmastery.com/tutorial-first-neural-network-python-keras/\n",
    "\n",
    "model = keras.Sequential()\n",
    "model.add(Dense(128, input_dim=64, activation='relu'))\n",
    "model.add(Dense(256, activation='relu'))\n",
    "model.add(Dense(64, activation='sigmoid'))"
   ]
  },
  {
   "cell_type": "code",
   "execution_count": 18,
   "metadata": {},
   "outputs": [
    {
     "name": "stdout",
     "output_type": "stream",
     "text": [
      "Model: \"sequential\"\n",
      "_________________________________________________________________\n",
      "Layer (type)                 Output Shape              Param #   \n",
      "=================================================================\n",
      "dense (Dense)                (None, 128)               8320      \n",
      "_________________________________________________________________\n",
      "dense_1 (Dense)              (None, 256)               33024     \n",
      "_________________________________________________________________\n",
      "dense_2 (Dense)              (None, 64)                16448     \n",
      "=================================================================\n",
      "Total params: 57,792\n",
      "Trainable params: 57,792\n",
      "Non-trainable params: 0\n",
      "_________________________________________________________________\n"
     ]
    }
   ],
   "source": [
    "model.compile(\n",
    "    loss=\"binary_crossentropy\", \n",
    "    optimizer=\"adam\", \n",
    "    metrics=[\"accuracy\", \"binary_accuracy\"]\n",
    ")\n",
    "\n",
    "model.summary()"
   ]
  },
  {
   "cell_type": "code",
   "execution_count": 19,
   "metadata": {},
   "outputs": [
    {
     "name": "stderr",
     "output_type": "stream",
     "text": [
      "2021-12-03 12:53:47.237978: I tensorflow/core/profiler/lib/profiler_session.cc:126] Profiler session initializing.\n",
      "2021-12-03 12:53:47.238176: I tensorflow/core/profiler/lib/profiler_session.cc:141] Profiler session started.\n",
      "2021-12-03 12:53:47.239280: I tensorflow/core/profiler/lib/profiler_session.cc:159] Profiler session tear down.\n"
     ]
    }
   ],
   "source": [
    "# From https://www.tensorflow.org/tensorboard/tensorboard_in_notebooks\n",
    "logdir = os.path.join(\"logs\", datetime.datetime.now().strftime(\"%Y%m%d-%H%M%S\"))\n",
    "tensorboard_callback = tf.keras.callbacks.TensorBoard(logdir, histogram_freq=1)"
   ]
  },
  {
   "cell_type": "code",
   "execution_count": 21,
   "metadata": {
    "scrolled": true
   },
   "outputs": [
    {
     "name": "stdout",
     "output_type": "stream",
     "text": [
      "Epoch 1/100\n",
      "1/1 [==============================] - 0s 35ms/step - loss: 0.0161 - accuracy: 0.0625 - binary_accuracy: 1.0000\n",
      "Epoch 2/100\n",
      "1/1 [==============================] - 0s 17ms/step - loss: 0.0154 - accuracy: 0.0625 - binary_accuracy: 1.0000\n",
      "Epoch 3/100\n",
      "1/1 [==============================] - 0s 9ms/step - loss: 0.0149 - accuracy: 0.0625 - binary_accuracy: 1.0000\n",
      "Epoch 4/100\n",
      "1/1 [==============================] - 0s 8ms/step - loss: 0.0143 - accuracy: 0.0625 - binary_accuracy: 1.0000\n",
      "Epoch 5/100\n",
      "1/1 [==============================] - 0s 11ms/step - loss: 0.0137 - accuracy: 0.0625 - binary_accuracy: 1.0000\n",
      "Epoch 6/100\n",
      "1/1 [==============================] - 0s 10ms/step - loss: 0.0132 - accuracy: 0.0625 - binary_accuracy: 1.0000\n",
      "Epoch 7/100\n",
      "1/1 [==============================] - 0s 13ms/step - loss: 0.0127 - accuracy: 0.0625 - binary_accuracy: 1.0000\n",
      "Epoch 8/100\n",
      "1/1 [==============================] - 0s 9ms/step - loss: 0.0123 - accuracy: 0.0625 - binary_accuracy: 1.0000\n",
      "Epoch 9/100\n",
      "1/1 [==============================] - 0s 8ms/step - loss: 0.0118 - accuracy: 0.0625 - binary_accuracy: 1.0000\n",
      "Epoch 10/100\n",
      "1/1 [==============================] - 0s 7ms/step - loss: 0.0114 - accuracy: 0.0625 - binary_accuracy: 1.0000\n",
      "Epoch 11/100\n",
      "1/1 [==============================] - 0s 8ms/step - loss: 0.0110 - accuracy: 0.0625 - binary_accuracy: 1.0000\n",
      "Epoch 12/100\n",
      "1/1 [==============================] - 0s 8ms/step - loss: 0.0106 - accuracy: 0.0625 - binary_accuracy: 1.0000\n"
     ]
    },
    {
     "name": "stderr",
     "output_type": "stream",
     "text": [
      "2021-12-03 12:54:06.391389: I tensorflow/core/profiler/lib/profiler_session.cc:126] Profiler session initializing.\n",
      "2021-12-03 12:54:06.391405: I tensorflow/core/profiler/lib/profiler_session.cc:141] Profiler session started.\n",
      "2021-12-03 12:54:06.405725: I tensorflow/core/profiler/lib/profiler_session.cc:66] Profiler session collecting data.\n",
      "2021-12-03 12:54:06.406267: I tensorflow/core/profiler/lib/profiler_session.cc:159] Profiler session tear down.\n",
      "2021-12-03 12:54:06.406731: I tensorflow/core/profiler/rpc/client/save_profile.cc:137] Creating directory: logs/20211203-125347/train/plugins/profile/2021_12_03_12_54_06\n",
      "2021-12-03 12:54:06.407175: I tensorflow/core/profiler/rpc/client/save_profile.cc:143] Dumped gzipped tool data for trace.json.gz to logs/20211203-125347/train/plugins/profile/2021_12_03_12_54_06/Elliss-MacBook-Air.local.trace.json.gz\n",
      "2021-12-03 12:54:06.407712: I tensorflow/core/profiler/rpc/client/save_profile.cc:137] Creating directory: logs/20211203-125347/train/plugins/profile/2021_12_03_12_54_06\n",
      "2021-12-03 12:54:06.407895: I tensorflow/core/profiler/rpc/client/save_profile.cc:143] Dumped gzipped tool data for memory_profile.json.gz to logs/20211203-125347/train/plugins/profile/2021_12_03_12_54_06/Elliss-MacBook-Air.local.memory_profile.json.gz\n",
      "2021-12-03 12:54:06.408392: I tensorflow/core/profiler/rpc/client/capture_profile.cc:251] Creating directory: logs/20211203-125347/train/plugins/profile/2021_12_03_12_54_06Dumped tool data for xplane.pb to logs/20211203-125347/train/plugins/profile/2021_12_03_12_54_06/Elliss-MacBook-Air.local.xplane.pb\n",
      "Dumped tool data for overview_page.pb to logs/20211203-125347/train/plugins/profile/2021_12_03_12_54_06/Elliss-MacBook-Air.local.overview_page.pb\n",
      "Dumped tool data for input_pipeline.pb to logs/20211203-125347/train/plugins/profile/2021_12_03_12_54_06/Elliss-MacBook-Air.local.input_pipeline.pb\n",
      "Dumped tool data for tensorflow_stats.pb to logs/20211203-125347/train/plugins/profile/2021_12_03_12_54_06/Elliss-MacBook-Air.local.tensorflow_stats.pb\n",
      "Dumped tool data for kernel_stats.pb to logs/20211203-125347/train/plugins/profile/2021_12_03_12_54_06/Elliss-MacBook-Air.local.kernel_stats.pb\n",
      "\n"
     ]
    },
    {
     "name": "stdout",
     "output_type": "stream",
     "text": [
      "Epoch 13/100\n",
      "1/1 [==============================] - 0s 8ms/step - loss: 0.0102 - accuracy: 0.0625 - binary_accuracy: 1.0000\n",
      "Epoch 14/100\n",
      "1/1 [==============================] - 0s 8ms/step - loss: 0.0098 - accuracy: 0.0625 - binary_accuracy: 1.0000\n",
      "Epoch 15/100\n",
      "1/1 [==============================] - 0s 7ms/step - loss: 0.0095 - accuracy: 0.0625 - binary_accuracy: 1.0000\n",
      "Epoch 16/100\n",
      "1/1 [==============================] - 0s 8ms/step - loss: 0.0092 - accuracy: 0.0625 - binary_accuracy: 1.0000\n",
      "Epoch 17/100\n",
      "1/1 [==============================] - 0s 8ms/step - loss: 0.0088 - accuracy: 0.0625 - binary_accuracy: 1.0000\n",
      "Epoch 18/100\n",
      "1/1 [==============================] - 0s 8ms/step - loss: 0.0085 - accuracy: 0.0625 - binary_accuracy: 1.0000\n",
      "Epoch 19/100\n",
      "1/1 [==============================] - 0s 8ms/step - loss: 0.0083 - accuracy: 0.0625 - binary_accuracy: 1.0000\n",
      "Epoch 20/100\n",
      "1/1 [==============================] - 0s 8ms/step - loss: 0.0080 - accuracy: 0.0625 - binary_accuracy: 1.0000\n",
      "Epoch 21/100\n",
      "1/1 [==============================] - 0s 7ms/step - loss: 0.0077 - accuracy: 0.0625 - binary_accuracy: 1.0000\n",
      "Epoch 22/100\n",
      "1/1 [==============================] - 0s 8ms/step - loss: 0.0075 - accuracy: 0.0625 - binary_accuracy: 1.0000\n",
      "Epoch 23/100\n",
      "1/1 [==============================] - 0s 8ms/step - loss: 0.0072 - accuracy: 0.0625 - binary_accuracy: 1.0000\n",
      "Epoch 24/100\n",
      "1/1 [==============================] - 0s 8ms/step - loss: 0.0070 - accuracy: 0.0625 - binary_accuracy: 1.0000\n",
      "Epoch 25/100\n",
      "1/1 [==============================] - 0s 10ms/step - loss: 0.0068 - accuracy: 0.0625 - binary_accuracy: 1.0000\n",
      "Epoch 26/100\n",
      "1/1 [==============================] - 0s 7ms/step - loss: 0.0066 - accuracy: 0.0625 - binary_accuracy: 1.0000\n",
      "Epoch 27/100\n",
      "1/1 [==============================] - 0s 8ms/step - loss: 0.0064 - accuracy: 0.0625 - binary_accuracy: 1.0000\n",
      "Epoch 28/100\n",
      "1/1 [==============================] - 0s 8ms/step - loss: 0.0062 - accuracy: 0.0625 - binary_accuracy: 1.0000\n",
      "Epoch 29/100\n",
      "1/1 [==============================] - 0s 8ms/step - loss: 0.0060 - accuracy: 0.0625 - binary_accuracy: 1.0000\n",
      "Epoch 30/100\n",
      "1/1 [==============================] - 0s 8ms/step - loss: 0.0058 - accuracy: 0.0625 - binary_accuracy: 1.0000\n",
      "Epoch 31/100\n",
      "1/1 [==============================] - 0s 9ms/step - loss: 0.0057 - accuracy: 0.0625 - binary_accuracy: 1.0000\n",
      "Epoch 32/100\n",
      "1/1 [==============================] - 0s 8ms/step - loss: 0.0055 - accuracy: 0.0625 - binary_accuracy: 1.0000\n",
      "Epoch 33/100\n",
      "1/1 [==============================] - 0s 9ms/step - loss: 0.0054 - accuracy: 0.0625 - binary_accuracy: 1.0000\n",
      "Epoch 34/100\n",
      "1/1 [==============================] - 0s 10ms/step - loss: 0.0052 - accuracy: 0.0625 - binary_accuracy: 1.0000\n",
      "Epoch 35/100\n",
      "1/1 [==============================] - 0s 10ms/step - loss: 0.0051 - accuracy: 0.0625 - binary_accuracy: 1.0000\n",
      "Epoch 36/100\n",
      "1/1 [==============================] - 0s 13ms/step - loss: 0.0049 - accuracy: 0.0625 - binary_accuracy: 1.0000\n",
      "Epoch 37/100\n",
      "1/1 [==============================] - 0s 9ms/step - loss: 0.0048 - accuracy: 0.0625 - binary_accuracy: 1.0000\n",
      "Epoch 38/100\n",
      "1/1 [==============================] - 0s 9ms/step - loss: 0.0047 - accuracy: 0.0625 - binary_accuracy: 1.0000\n",
      "Epoch 39/100\n",
      "1/1 [==============================] - 0s 8ms/step - loss: 0.0046 - accuracy: 0.0625 - binary_accuracy: 1.0000\n",
      "Epoch 40/100\n",
      "1/1 [==============================] - 0s 9ms/step - loss: 0.0044 - accuracy: 0.0625 - binary_accuracy: 1.0000\n",
      "Epoch 41/100\n",
      "1/1 [==============================] - 0s 9ms/step - loss: 0.0043 - accuracy: 0.0625 - binary_accuracy: 1.0000\n",
      "Epoch 42/100\n",
      "1/1 [==============================] - 0s 8ms/step - loss: 0.0042 - accuracy: 0.0625 - binary_accuracy: 1.0000\n",
      "Epoch 43/100\n",
      "1/1 [==============================] - 0s 9ms/step - loss: 0.0041 - accuracy: 0.0625 - binary_accuracy: 1.0000\n",
      "Epoch 44/100\n",
      "1/1 [==============================] - 0s 10ms/step - loss: 0.0040 - accuracy: 0.0625 - binary_accuracy: 1.0000\n",
      "Epoch 45/100\n",
      "1/1 [==============================] - 0s 10ms/step - loss: 0.0039 - accuracy: 0.0625 - binary_accuracy: 1.0000\n",
      "Epoch 46/100\n",
      "1/1 [==============================] - 0s 9ms/step - loss: 0.0039 - accuracy: 0.0625 - binary_accuracy: 1.0000\n",
      "Epoch 47/100\n",
      "1/1 [==============================] - 0s 10ms/step - loss: 0.0038 - accuracy: 0.0625 - binary_accuracy: 1.0000\n",
      "Epoch 48/100\n",
      "1/1 [==============================] - 0s 8ms/step - loss: 0.0037 - accuracy: 0.0625 - binary_accuracy: 1.0000\n",
      "Epoch 49/100\n",
      "1/1 [==============================] - 0s 11ms/step - loss: 0.0036 - accuracy: 0.0625 - binary_accuracy: 1.0000\n",
      "Epoch 50/100\n",
      "1/1 [==============================] - 0s 11ms/step - loss: 0.0035 - accuracy: 0.0625 - binary_accuracy: 1.0000\n",
      "Epoch 51/100\n",
      "1/1 [==============================] - 0s 9ms/step - loss: 0.0035 - accuracy: 0.0625 - binary_accuracy: 1.0000\n",
      "Epoch 52/100\n",
      "1/1 [==============================] - 0s 11ms/step - loss: 0.0034 - accuracy: 0.0625 - binary_accuracy: 1.0000\n",
      "Epoch 53/100\n",
      "1/1 [==============================] - 0s 12ms/step - loss: 0.0033 - accuracy: 0.0625 - binary_accuracy: 1.0000\n",
      "Epoch 54/100\n",
      "1/1 [==============================] - 0s 18ms/step - loss: 0.0032 - accuracy: 0.0625 - binary_accuracy: 1.0000\n",
      "Epoch 55/100\n",
      "1/1 [==============================] - 0s 12ms/step - loss: 0.0032 - accuracy: 0.0625 - binary_accuracy: 1.0000\n",
      "Epoch 56/100\n",
      "1/1 [==============================] - 0s 12ms/step - loss: 0.0031 - accuracy: 0.0625 - binary_accuracy: 1.0000\n",
      "Epoch 57/100\n",
      "1/1 [==============================] - 0s 10ms/step - loss: 0.0031 - accuracy: 0.0625 - binary_accuracy: 1.0000\n",
      "Epoch 58/100\n",
      "1/1 [==============================] - 0s 11ms/step - loss: 0.0030 - accuracy: 0.0625 - binary_accuracy: 1.0000\n",
      "Epoch 59/100\n",
      "1/1 [==============================] - 0s 10ms/step - loss: 0.0029 - accuracy: 0.0625 - binary_accuracy: 1.0000\n",
      "Epoch 60/100\n",
      "1/1 [==============================] - 0s 12ms/step - loss: 0.0029 - accuracy: 0.0625 - binary_accuracy: 1.0000\n",
      "Epoch 61/100\n",
      "1/1 [==============================] - 0s 11ms/step - loss: 0.0028 - accuracy: 0.0625 - binary_accuracy: 1.0000\n",
      "Epoch 62/100\n",
      "1/1 [==============================] - 0s 13ms/step - loss: 0.0028 - accuracy: 0.0625 - binary_accuracy: 1.0000\n",
      "Epoch 63/100\n",
      "1/1 [==============================] - 0s 15ms/step - loss: 0.0027 - accuracy: 0.0625 - binary_accuracy: 1.0000\n",
      "Epoch 64/100\n",
      "1/1 [==============================] - 0s 9ms/step - loss: 0.0027 - accuracy: 0.0625 - binary_accuracy: 1.0000\n",
      "Epoch 65/100\n",
      "1/1 [==============================] - 0s 9ms/step - loss: 0.0026 - accuracy: 0.0625 - binary_accuracy: 1.0000\n",
      "Epoch 66/100\n",
      "1/1 [==============================] - 0s 9ms/step - loss: 0.0026 - accuracy: 0.0625 - binary_accuracy: 1.0000\n",
      "Epoch 67/100\n",
      "1/1 [==============================] - 0s 10ms/step - loss: 0.0025 - accuracy: 0.0625 - binary_accuracy: 1.0000\n",
      "Epoch 68/100\n",
      "1/1 [==============================] - 0s 9ms/step - loss: 0.0025 - accuracy: 0.0625 - binary_accuracy: 1.0000\n",
      "Epoch 69/100\n",
      "1/1 [==============================] - 0s 10ms/step - loss: 0.0025 - accuracy: 0.0625 - binary_accuracy: 1.0000\n",
      "Epoch 70/100\n",
      "1/1 [==============================] - 0s 8ms/step - loss: 0.0024 - accuracy: 0.0625 - binary_accuracy: 1.0000\n",
      "Epoch 71/100\n",
      "1/1 [==============================] - 0s 10ms/step - loss: 0.0024 - accuracy: 0.0625 - binary_accuracy: 1.0000\n",
      "Epoch 72/100\n",
      "1/1 [==============================] - 0s 8ms/step - loss: 0.0023 - accuracy: 0.0625 - binary_accuracy: 1.0000\n",
      "Epoch 73/100\n",
      "1/1 [==============================] - 0s 8ms/step - loss: 0.0023 - accuracy: 0.0625 - binary_accuracy: 1.0000\n",
      "Epoch 74/100\n",
      "1/1 [==============================] - 0s 9ms/step - loss: 0.0023 - accuracy: 0.0625 - binary_accuracy: 1.0000\n",
      "Epoch 75/100\n",
      "1/1 [==============================] - 0s 9ms/step - loss: 0.0022 - accuracy: 0.0625 - binary_accuracy: 1.0000\n",
      "Epoch 76/100\n",
      "1/1 [==============================] - 0s 9ms/step - loss: 0.0022 - accuracy: 0.0625 - binary_accuracy: 1.0000\n",
      "Epoch 77/100\n",
      "1/1 [==============================] - 0s 10ms/step - loss: 0.0022 - accuracy: 0.0625 - binary_accuracy: 1.0000\n",
      "Epoch 78/100\n"
     ]
    },
    {
     "name": "stdout",
     "output_type": "stream",
     "text": [
      "1/1 [==============================] - 0s 11ms/step - loss: 0.0021 - accuracy: 0.0625 - binary_accuracy: 1.0000\n",
      "Epoch 79/100\n",
      "1/1 [==============================] - 0s 9ms/step - loss: 0.0021 - accuracy: 0.0625 - binary_accuracy: 1.0000\n",
      "Epoch 80/100\n",
      "1/1 [==============================] - 0s 11ms/step - loss: 0.0021 - accuracy: 0.0625 - binary_accuracy: 1.0000\n",
      "Epoch 81/100\n",
      "1/1 [==============================] - 0s 10ms/step - loss: 0.0020 - accuracy: 0.0625 - binary_accuracy: 1.0000\n",
      "Epoch 82/100\n",
      "1/1 [==============================] - 0s 12ms/step - loss: 0.0020 - accuracy: 0.0625 - binary_accuracy: 1.0000\n",
      "Epoch 83/100\n",
      "1/1 [==============================] - 0s 9ms/step - loss: 0.0020 - accuracy: 0.0625 - binary_accuracy: 1.0000\n",
      "Epoch 84/100\n",
      "1/1 [==============================] - 0s 10ms/step - loss: 0.0019 - accuracy: 0.0625 - binary_accuracy: 1.0000\n",
      "Epoch 85/100\n",
      "1/1 [==============================] - 0s 9ms/step - loss: 0.0019 - accuracy: 0.0625 - binary_accuracy: 1.0000\n",
      "Epoch 86/100\n",
      "1/1 [==============================] - 0s 8ms/step - loss: 0.0019 - accuracy: 0.0625 - binary_accuracy: 1.0000\n",
      "Epoch 87/100\n",
      "1/1 [==============================] - 0s 8ms/step - loss: 0.0019 - accuracy: 0.0625 - binary_accuracy: 1.0000\n",
      "Epoch 88/100\n",
      "1/1 [==============================] - 0s 11ms/step - loss: 0.0018 - accuracy: 0.0625 - binary_accuracy: 1.0000\n",
      "Epoch 89/100\n",
      "1/1 [==============================] - 0s 9ms/step - loss: 0.0018 - accuracy: 0.0625 - binary_accuracy: 1.0000\n",
      "Epoch 90/100\n",
      "1/1 [==============================] - 0s 8ms/step - loss: 0.0018 - accuracy: 0.0625 - binary_accuracy: 1.0000\n",
      "Epoch 91/100\n",
      "1/1 [==============================] - 0s 8ms/step - loss: 0.0018 - accuracy: 0.0625 - binary_accuracy: 1.0000\n",
      "Epoch 92/100\n",
      "1/1 [==============================] - 0s 8ms/step - loss: 0.0017 - accuracy: 0.0625 - binary_accuracy: 1.0000\n",
      "Epoch 93/100\n",
      "1/1 [==============================] - 0s 7ms/step - loss: 0.0017 - accuracy: 0.0625 - binary_accuracy: 1.0000\n",
      "Epoch 94/100\n",
      "1/1 [==============================] - 0s 8ms/step - loss: 0.0017 - accuracy: 0.0625 - binary_accuracy: 1.0000\n",
      "Epoch 95/100\n",
      "1/1 [==============================] - 0s 8ms/step - loss: 0.0017 - accuracy: 0.0625 - binary_accuracy: 1.0000\n",
      "Epoch 96/100\n",
      "1/1 [==============================] - 0s 7ms/step - loss: 0.0016 - accuracy: 0.0625 - binary_accuracy: 1.0000\n",
      "Epoch 97/100\n",
      "1/1 [==============================] - 0s 8ms/step - loss: 0.0016 - accuracy: 0.0625 - binary_accuracy: 1.0000\n",
      "Epoch 98/100\n",
      "1/1 [==============================] - 0s 9ms/step - loss: 0.0016 - accuracy: 0.0625 - binary_accuracy: 1.0000\n",
      "Epoch 99/100\n",
      "1/1 [==============================] - 0s 9ms/step - loss: 0.0016 - accuracy: 0.0625 - binary_accuracy: 1.0000\n",
      "Epoch 100/100\n",
      "1/1 [==============================] - 0s 8ms/step - loss: 0.0016 - accuracy: 0.0625 - binary_accuracy: 1.0000\n"
     ]
    },
    {
     "data": {
      "text/plain": [
       "<keras.callbacks.History at 0x1560009a0>"
      ]
     },
     "execution_count": 21,
     "metadata": {},
     "output_type": "execute_result"
    }
   ],
   "source": [
    "model.fit(\n",
    "    X_train, \n",
    "    Y_train, \n",
    "    epochs=100, \n",
    "    batch_size=20,\n",
    "    callbacks=[tensorboard_callback]\n",
    ")"
   ]
  },
  {
   "cell_type": "code",
   "execution_count": 22,
   "metadata": {
    "scrolled": true
   },
   "outputs": [
    {
     "name": "stdout",
     "output_type": "stream",
     "text": [
      "1/1 [==============================] - 0s 277ms/step - loss: 1.0280 - accuracy: 0.0000e+00 - binary_accuracy: 0.7422\n"
     ]
    },
    {
     "name": "stderr",
     "output_type": "stream",
     "text": [
      "2021-12-03 12:54:08.436298: I tensorflow/core/grappler/optimizers/custom_graph_optimizer_registry.cc:112] Plugin optimizer for device_type GPU is enabled.\n"
     ]
    }
   ],
   "source": [
    "loss, accuracy, binary_accuracy = model.evaluate(X_test, Y_test)"
   ]
  },
  {
   "cell_type": "markdown",
   "metadata": {},
   "source": [
    "## Visualising the output\n",
    "Now both the raw output of the model and the binarised version can be displayed interactively."
   ]
  },
  {
   "cell_type": "code",
   "execution_count": 23,
   "metadata": {
    "scrolled": true
   },
   "outputs": [
    {
     "data": {
      "text/html": [
       "\n",
       "      <iframe id=\"tensorboard-frame-a650a0aad61fd33b\" width=\"100%\" height=\"800\" frameborder=\"0\">\n",
       "      </iframe>\n",
       "      <script>\n",
       "        (function() {\n",
       "          const frame = document.getElementById(\"tensorboard-frame-a650a0aad61fd33b\");\n",
       "          const url = new URL(\"/\", window.location);\n",
       "          const port = 6006;\n",
       "          if (port) {\n",
       "            url.port = port;\n",
       "          }\n",
       "          frame.src = url;\n",
       "        })();\n",
       "      </script>\n",
       "    "
      ],
      "text/plain": [
       "<IPython.core.display.HTML object>"
      ]
     },
     "metadata": {},
     "output_type": "display_data"
    }
   ],
   "source": [
    "%tensorboard --logdir logs"
   ]
  },
  {
   "cell_type": "code",
   "execution_count": 24,
   "metadata": {},
   "outputs": [],
   "source": [
    "def predict_val(val):\n",
    "    prediction = model.predict(val.reshape(1, 64))\n",
    "    prediction = prediction.reshape(8, 8)\n",
    "    return np.where(prediction > 0.5, 1, 0)\n",
    "\n",
    "def predict_raw(val):\n",
    "    prediction = model.predict(val.reshape(1, 64))\n",
    "    return prediction.reshape(8, 8)    "
   ]
  },
  {
   "cell_type": "code",
   "execution_count": 25,
   "metadata": {},
   "outputs": [],
   "source": [
    "def find_diff(n):\n",
    "    Y_instance = Y_test[n].reshape(8, 8)\n",
    "    prediction = predict_val(X_test[n])\n",
    "    \n",
    "    diff = np.where(prediction == Y_instance, 1, 0)\n",
    "\n",
    "    return diff"
   ]
  },
  {
   "cell_type": "code",
   "execution_count": 26,
   "metadata": {},
   "outputs": [],
   "source": [
    "sns.set_theme(style=\"white\")\n",
    "sns.color_palette(\"crest\", as_cmap=True)\n",
    "sns.set_palette(\"crest\")\n",
    "\n",
    "def plot_sns(val):\n",
    "    # From https://seaborn.pydata.org/examples/many_pairwise_correlations.html\n",
    "    sns.heatmap(val)\n",
    "    plt.show()\n",
    "\n",
    "def plot(val):\n",
    "    cmap = colors.ListedColormap(['white', 'green'])\n",
    "    bounds = [-0.5, 0.5, 1.5]\n",
    "    norm = colors.BoundaryNorm(bounds, cmap.N)\n",
    "\n",
    "    fig, ax = plt.subplots()\n",
    "    ax.imshow(val, cmap=cmap, norm=norm)\n",
    "\n",
    "    # draw gridlines\n",
    "    ax.grid(which='major', axis='both', linestyle='-', color='k', linewidth=2)\n",
    "    ax.set_xticks(np.arange(0.5, 8.5, 1));\n",
    "    ax.set_yticks(np.arange(0.5, 8.5, 1));\n",
    "\n",
    "#     sns.heatmap(val)\n",
    "    plt.show()\n",
    "\n",
    "def plot_diff(val):\n",
    "    cmap = colors.ListedColormap(['red', 'green'])\n",
    "    bounds = [-0.5, 0.5, 1.5]\n",
    "    norm = colors.BoundaryNorm(bounds, cmap.N)\n",
    "\n",
    "    fig, ax = plt.subplots()\n",
    "    ax.imshow(val, cmap=cmap, norm=norm)\n",
    "\n",
    "    # draw gridlines\n",
    "    ax.grid(which='major', axis='both', linestyle='-', color='k', linewidth=2)\n",
    "    ax.set_xticks(np.arange(0.5, 8.5, 1));\n",
    "    ax.set_yticks(np.arange(0.5, 8.5, 1));\n",
    "    \n",
    "#     sns.heatmap(val)\n",
    "    plt.show()"
   ]
  },
  {
   "cell_type": "code",
   "execution_count": 27,
   "metadata": {},
   "outputs": [],
   "source": [
    "def generate_plots(\n",
    "            n, target=True, \n",
    "            prediction=True, \n",
    "            raw_prediction=True, \n",
    "            diff=True\n",
    "        ):\n",
    "    if target:         plot(Y_test[n].reshape(8, 8))    \n",
    "    if prediction:     plot(predict_val(X_test[n]))\n",
    "    if raw_prediction: plot_sns(predict_raw(X_test[n]))\n",
    "    if diff:           plot_diff(find_diff(n))"
   ]
  },
  {
   "cell_type": "code",
   "execution_count": 28,
   "metadata": {
    "scrolled": false
   },
   "outputs": [
    {
     "data": {
      "application/vnd.jupyter.widget-view+json": {
       "model_id": "20dc489eb0ae4649adebc95be7068f32",
       "version_major": 2,
       "version_minor": 0
      },
      "text/plain": [
       "interactive(children=(IntSlider(value=0, description='n', max=199, step=5), Checkbox(value=False, description=…"
      ]
     },
     "metadata": {},
     "output_type": "display_data"
    },
    {
     "data": {
      "text/plain": [
       "<function __main__.generate_plots(n, target=True, prediction=True, raw_prediction=True, diff=True)>"
      ]
     },
     "execution_count": 28,
     "metadata": {},
     "output_type": "execute_result"
    }
   ],
   "source": [
    "# From https://ipywidgets.readthedocs.io/en/latest/examples/Using%20Interact.html\n",
    "interact(\n",
    "    generate_plots, \n",
    "    n=widgets.IntSlider(min=0, max=199, step=5, value=0),\n",
    "    target=False,\n",
    "    prediction=False,\n",
    "    raw_prediction=False,\n",
    "    diff=True\n",
    ")"
   ]
  },
  {
   "cell_type": "code",
   "execution_count": null,
   "metadata": {},
   "outputs": [],
   "source": []
  }
 ],
 "metadata": {
  "interpreter": {
   "hash": "c6e4e9f98eb68ad3b7c296f83d20e6de614cb42e90992a65aa266555a3137d0d"
  },
  "kernelspec": {
   "display_name": "Python 3 (ipykernel)",
   "language": "python",
   "name": "python3"
  },
  "language_info": {
   "codemirror_mode": {
    "name": "ipython",
    "version": 3
   },
   "file_extension": ".py",
   "mimetype": "text/x-python",
   "name": "python",
   "nbconvert_exporter": "python",
   "pygments_lexer": "ipython3",
   "version": "3.9.7"
  }
 },
 "nbformat": 4,
 "nbformat_minor": 2
}
