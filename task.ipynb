{
 "cells": [
  {
   "cell_type": "code",
   "execution_count": 148,
   "metadata": {},
   "outputs": [],
   "source": [
    "import pickle\n",
    "import numpy as np\n",
    "import tensorflow as tf\n",
    "import keras\n",
    "\n",
    "import os\n",
    "import datetime\n",
    "\n",
    "from keras.layers import Dense\n",
    "from Chess import construct_board\n",
    "from Chess.view import view_board_colour\n",
    "from sklearn.model_selection import train_test_split\n",
    "\n",
    "from ipywidgets import interact\n",
    "import ipywidgets as widgets\n",
    "\n",
    "import matplotlib.pyplot as plt\n",
    "from matplotlib import colors\n",
    "import seaborn as sns"
   ]
  },
  {
   "cell_type": "code",
   "execution_count": 128,
   "metadata": {},
   "outputs": [
    {
     "name": "stdout",
     "output_type": "stream",
     "text": [
      "The tensorboard extension is already loaded. To reload it, use:\n",
      "  %reload_ext tensorboard\n"
     ]
    }
   ],
   "source": [
    "%load_ext tensorboard"
   ]
  },
  {
   "cell_type": "markdown",
   "metadata": {},
   "source": [
    "### Open our set of randomly selected Board objects\n",
    "The script `generate_data.py` pickles a list of board objects after a sequence of moves is run through. This leaves us with a long list of `Board` objects which we can now use!"
   ]
  },
  {
   "cell_type": "code",
   "execution_count": 2,
   "metadata": {},
   "outputs": [],
   "source": [
    "with open(\"generated_data/boards.pickle\", 'rb') as f:\n",
    "    boards = pickle.load(f)\n",
    "\n",
    "board_list = boards"
   ]
  },
  {
   "cell_type": "code",
   "execution_count": 3,
   "metadata": {},
   "outputs": [
    {
     "name": "stdout",
     "output_type": "stream",
     "text": [
      "Black to move - turn 8\n",
      "\u001b[48;5;71m\u001b[38;5;255;48;5;0m R \u001b[0m\u001b[0m\u001b[48;5;250m\u001b[38;5;255;48;5;0m N \u001b[0m\u001b[0m\u001b[48;5;71m   \u001b[0m\u001b[48;5;250m   \u001b[0m\u001b[48;5;71m\u001b[38;5;255;48;5;0m K \u001b[0m\u001b[0m\u001b[48;5;250m\u001b[38;5;255;48;5;0m B \u001b[0m\u001b[0m\u001b[48;5;71m   \u001b[0m\u001b[48;5;250m\u001b[38;5;255;48;5;0m R \u001b[0m\u001b[0m\n",
      "\u001b[48;5;250m\u001b[38;5;255;48;5;0m P \u001b[0m\u001b[0m\u001b[48;5;71m\u001b[38;5;255;48;5;0m B \u001b[0m\u001b[0m\u001b[48;5;250m\u001b[38;5;255;48;5;0m P \u001b[0m\u001b[0m\u001b[48;5;71m\u001b[38;5;255;48;5;0m P \u001b[0m\u001b[0m\u001b[48;5;250m   \u001b[0m\u001b[48;5;71m\u001b[38;5;255;48;5;0m P \u001b[0m\u001b[0m\u001b[48;5;250m   \u001b[0m\u001b[48;5;71m\u001b[38;5;255;48;5;0m P \u001b[0m\u001b[0m\n",
      "\u001b[48;5;71m   \u001b[0m\u001b[48;5;250m\u001b[38;5;255;48;5;0m P \u001b[0m\u001b[0m\u001b[48;5;71m   \u001b[0m\u001b[48;5;250m   \u001b[0m\u001b[48;5;71m\u001b[38;5;255;48;5;0m P \u001b[0m\u001b[0m\u001b[48;5;250m   \u001b[0m\u001b[48;5;71m   \u001b[0m\u001b[48;5;250m   \u001b[0m\n",
      "\u001b[48;5;250m   \u001b[0m\u001b[48;5;71m   \u001b[0m\u001b[48;5;250m   \u001b[0m\u001b[48;5;71m   \u001b[0m\u001b[48;5;250m   \u001b[0m\u001b[48;5;71m   \u001b[0m\u001b[48;5;250m\u001b[38;5;255;48;5;0m Q \u001b[0m\u001b[0m\u001b[48;5;71m\u001b[38;5;255;48;5;0m P \u001b[0m\u001b[0m\n",
      "\u001b[48;5;71m   \u001b[0m\u001b[48;5;250m   \u001b[0m\u001b[48;5;71m   \u001b[0m\u001b[48;5;250m\u001b[38;5;0;48;5;255m P \u001b[0m\u001b[0m\u001b[48;5;71m\u001b[38;5;0;48;5;255m P \u001b[0m\u001b[0m\u001b[48;5;250m   \u001b[0m\u001b[48;5;71m\u001b[38;5;0;48;5;255m B \u001b[0m\u001b[0m\u001b[48;5;250m   \u001b[0m\n",
      "\u001b[48;5;250m\u001b[38;5;0;48;5;255m P \u001b[0m\u001b[0m\u001b[48;5;71m   \u001b[0m\u001b[48;5;250m\u001b[38;5;0;48;5;255m N \u001b[0m\u001b[0m\u001b[48;5;71m   \u001b[0m\u001b[48;5;250m   \u001b[0m\u001b[48;5;71m\u001b[38;5;0;48;5;255m N \u001b[0m\u001b[0m\u001b[48;5;250m   \u001b[0m\u001b[48;5;71m   \u001b[0m\n",
      "\u001b[48;5;71m   \u001b[0m\u001b[48;5;250m\u001b[38;5;0;48;5;255m P \u001b[0m\u001b[0m\u001b[48;5;71m\u001b[38;5;0;48;5;255m P \u001b[0m\u001b[0m\u001b[48;5;250m   \u001b[0m\u001b[48;5;71m   \u001b[0m\u001b[48;5;250m\u001b[38;5;0;48;5;255m P \u001b[0m\u001b[0m\u001b[48;5;71m\u001b[38;5;0;48;5;255m P \u001b[0m\u001b[0m\u001b[48;5;250m\u001b[38;5;0;48;5;255m P \u001b[0m\u001b[0m\n",
      "\u001b[48;5;250m\u001b[38;5;0;48;5;255m R \u001b[0m\u001b[0m\u001b[48;5;71m   \u001b[0m\u001b[48;5;250m   \u001b[0m\u001b[48;5;71m\u001b[38;5;0;48;5;255m Q \u001b[0m\u001b[0m\u001b[48;5;250m\u001b[38;5;0;48;5;255m K \u001b[0m\u001b[0m\u001b[48;5;71m   \u001b[0m\u001b[48;5;250m   \u001b[0m\u001b[48;5;71m\u001b[38;5;0;48;5;255m R \u001b[0m\u001b[0m\n",
      "\n",
      "Black to move - turn 13\n",
      "\u001b[48;5;71m\u001b[38;5;255;48;5;0m R \u001b[0m\u001b[0m\u001b[48;5;250m   \u001b[0m\u001b[48;5;71m   \u001b[0m\u001b[48;5;250m\u001b[38;5;255;48;5;0m Q \u001b[0m\u001b[0m\u001b[48;5;71m   \u001b[0m\u001b[48;5;250m   \u001b[0m\u001b[48;5;71m   \u001b[0m\u001b[48;5;250m   \u001b[0m\n",
      "\u001b[48;5;250m\u001b[38;5;255;48;5;0m P \u001b[0m\u001b[0m\u001b[48;5;71m\u001b[38;5;255;48;5;0m P \u001b[0m\u001b[0m\u001b[48;5;250m\u001b[38;5;255;48;5;0m P \u001b[0m\u001b[0m\u001b[48;5;71m   \u001b[0m\u001b[48;5;250m\u001b[38;5;255;48;5;0m K \u001b[0m\u001b[0m\u001b[48;5;71m\u001b[38;5;255;48;5;0m P \u001b[0m\u001b[0m\u001b[48;5;250m\u001b[38;5;255;48;5;0m P \u001b[0m\u001b[0m\u001b[48;5;71m\u001b[38;5;0;48;5;255m Q \u001b[0m\u001b[0m\n",
      "\u001b[48;5;71m   \u001b[0m\u001b[48;5;250m   \u001b[0m\u001b[48;5;71m\u001b[38;5;255;48;5;0m N \u001b[0m\u001b[0m\u001b[48;5;250m\u001b[38;5;255;48;5;0m B \u001b[0m\u001b[0m\u001b[48;5;71m\u001b[38;5;255;48;5;0m P \u001b[0m\u001b[0m\u001b[48;5;250m\u001b[38;5;255;48;5;0m N \u001b[0m\u001b[0m\u001b[48;5;71m\u001b[38;5;255;48;5;0m P \u001b[0m\u001b[0m\u001b[48;5;250m   \u001b[0m\n",
      "\u001b[48;5;250m   \u001b[0m\u001b[48;5;71m   \u001b[0m\u001b[48;5;250m   \u001b[0m\u001b[48;5;71m   \u001b[0m\u001b[48;5;250m   \u001b[0m\u001b[48;5;71m   \u001b[0m\u001b[48;5;250m\u001b[38;5;0;48;5;255m B \u001b[0m\u001b[0m\u001b[48;5;71m   \u001b[0m\n",
      "\u001b[48;5;71m   \u001b[0m\u001b[48;5;250m   \u001b[0m\u001b[48;5;71m   \u001b[0m\u001b[48;5;250m\u001b[38;5;0;48;5;255m P \u001b[0m\u001b[0m\u001b[48;5;71m\u001b[38;5;0;48;5;255m N \u001b[0m\u001b[0m\u001b[48;5;250m   \u001b[0m\u001b[48;5;71m   \u001b[0m\u001b[48;5;250m   \u001b[0m\n",
      "\u001b[48;5;250m   \u001b[0m\u001b[48;5;71m   \u001b[0m\u001b[48;5;250m   \u001b[0m\u001b[48;5;71m\u001b[38;5;0;48;5;255m B \u001b[0m\u001b[0m\u001b[48;5;250m   \u001b[0m\u001b[48;5;71m   \u001b[0m\u001b[48;5;250m   \u001b[0m\u001b[48;5;71m   \u001b[0m\n",
      "\u001b[48;5;71m\u001b[38;5;0;48;5;255m P \u001b[0m\u001b[0m\u001b[48;5;250m\u001b[38;5;0;48;5;255m P \u001b[0m\u001b[0m\u001b[48;5;71m\u001b[38;5;0;48;5;255m P \u001b[0m\u001b[0m\u001b[48;5;250m   \u001b[0m\u001b[48;5;71m\u001b[38;5;0;48;5;255m K \u001b[0m\u001b[0m\u001b[48;5;250m\u001b[38;5;0;48;5;255m P \u001b[0m\u001b[0m\u001b[48;5;71m\u001b[38;5;0;48;5;255m P \u001b[0m\u001b[0m\u001b[48;5;250m   \u001b[0m\n",
      "\u001b[48;5;250m\u001b[38;5;0;48;5;255m R \u001b[0m\u001b[0m\u001b[48;5;71m   \u001b[0m\u001b[48;5;250m   \u001b[0m\u001b[48;5;71m   \u001b[0m\u001b[48;5;250m   \u001b[0m\u001b[48;5;71m   \u001b[0m\u001b[48;5;250m   \u001b[0m\u001b[48;5;71m   \u001b[0m\n",
      "\n"
     ]
    }
   ],
   "source": [
    "view_board_colour(board_list[0])\n",
    "view_board_colour(board_list[1])"
   ]
  },
  {
   "cell_type": "markdown",
   "metadata": {},
   "source": [
    "## Data processing\n",
    "Now the data needs to be formed into a reasonable type for training. This section will get all the positions which can be moved to as a list for each game, and all the positions of the pieces for each board as training data. Initally, this won't account for the piece type, which side is to move, or the different types of pieces and moves."
   ]
  },
  {
   "cell_type": "code",
   "execution_count": 4,
   "metadata": {},
   "outputs": [
    {
     "data": {
      "text/plain": [
       "26"
      ]
     },
     "execution_count": 4,
     "metadata": {},
     "output_type": "execute_result"
    }
   ],
   "source": [
    "# Using set comprehension to get only the unique elements of each boards moves (the target data)\n",
    "valid_move_list = [list({i for i in board.allied_moves.all_valid}) for board in board_list]\n",
    "\n",
    "# We are targeting the correct prediction of each of these squares as \"active\"\n",
    "len(valid_move_list[0])"
   ]
  },
  {
   "cell_type": "code",
   "execution_count": 5,
   "metadata": {},
   "outputs": [
    {
     "data": {
      "text/plain": [
       "30"
      ]
     },
     "execution_count": 5,
     "metadata": {},
     "output_type": "execute_result"
    }
   ],
   "source": [
    "# Get all the piece types and positions from the location map of each board (training data)\n",
    "piece_position_list = [{position: piece.kind for position, piece in board.loc_map.items()} for board in board_list]\n",
    "\n",
    "# This will be at most 32 pieces\n",
    "len(piece_position_list[0])"
   ]
  },
  {
   "cell_type": "code",
   "execution_count": 6,
   "metadata": {},
   "outputs": [],
   "source": [
    "# Encode the location of any piece as a 1, and all other positions as 0\n",
    "feature = []\n",
    "for instance in piece_position_list:\n",
    "    array = np.zeros((8, 8))\n",
    "    for location in instance:\n",
    "        array[location.i, location.j] = 1\n",
    "    feature.append(array.flatten())"
   ]
  },
  {
   "cell_type": "code",
   "execution_count": 7,
   "metadata": {},
   "outputs": [
    {
     "name": "stdout",
     "output_type": "stream",
     "text": [
      "[0. 0. 1. 0. 0. 0. 0. 0. 0. 0. 0. 1. 0. 0. 0. 0. 1. 0. 0. 0. 1. 0. 0. 0.\n",
      " 0. 1. 0. 0. 1. 1. 1. 1. 1. 1. 1. 1. 1. 1. 0. 0. 1. 0. 1. 1. 0. 1. 1. 1.\n",
      " 0. 0. 0. 0. 1. 0. 1. 0. 0. 0. 1. 1. 0. 0. 1. 0.]\n"
     ]
    }
   ],
   "source": [
    "# Simple encoding will be used at first, where any piece present is represented by a one and not present by zero.\n",
    "target = []\n",
    "for instance in valid_move_list:\n",
    "    array = np.zeros((8, 8))\n",
    "    for location in instance:\n",
    "        array[location.i, location.j] = 1\n",
    "    target.append(array.flatten())\n",
    "    \n",
    "print(target[0])"
   ]
  },
  {
   "cell_type": "code",
   "execution_count": 159,
   "metadata": {},
   "outputs": [
    {
     "name": "stdout",
     "output_type": "stream",
     "text": [
      "(1000, 64)\n",
      "(1000, 64)\n"
     ]
    }
   ],
   "source": [
    "X = np.array(feature)\n",
    "Y = np.array(target)\n",
    "\n",
    "print(X.shape)\n",
    "print(Y.shape)"
   ]
  },
  {
   "cell_type": "markdown",
   "metadata": {},
   "source": [
    "The data needs to be split into training and testing portions using the `sklearn` modules implementation."
   ]
  },
  {
   "cell_type": "code",
   "execution_count": 9,
   "metadata": {},
   "outputs": [],
   "source": [
    "X_train, X_test, Y_train, Y_test = train_test_split(X, Y, test_size=0.2)"
   ]
  },
  {
   "cell_type": "markdown",
   "metadata": {},
   "source": [
    "Beginning with a simple sequential model, which takes in a 1x64 array of features and outputs a prediction at each of the 64 squares."
   ]
  },
  {
   "cell_type": "code",
   "execution_count": 144,
   "metadata": {},
   "outputs": [],
   "source": [
    "# Inspired by the model at https://machinelearningmastery.com/tutorial-first-neural-network-python-keras/\n",
    "\n",
    "model = keras.Sequential()\n",
    "model.add(Dense(128, input_dim=64, activation='relu'))\n",
    "model.add(Dense(256, activation='relu'))\n",
    "model.add(Dense(64, activation='sigmoid'))"
   ]
  },
  {
   "cell_type": "code",
   "execution_count": 145,
   "metadata": {},
   "outputs": [
    {
     "name": "stdout",
     "output_type": "stream",
     "text": [
      "Model: \"sequential_5\"\n",
      "_________________________________________________________________\n",
      "Layer (type)                 Output Shape              Param #   \n",
      "=================================================================\n",
      "dense_17 (Dense)             (None, 128)               8320      \n",
      "_________________________________________________________________\n",
      "dense_18 (Dense)             (None, 256)               33024     \n",
      "_________________________________________________________________\n",
      "dense_19 (Dense)             (None, 64)                16448     \n",
      "=================================================================\n",
      "Total params: 57,792\n",
      "Trainable params: 57,792\n",
      "Non-trainable params: 0\n",
      "_________________________________________________________________\n"
     ]
    }
   ],
   "source": [
    "model.compile(\n",
    "    loss=\"binary_crossentropy\", \n",
    "    optimizer=\"adam\", \n",
    "    metrics=[\"accuracy\", \"binary_accuracy\"]\n",
    ")\n",
    "\n",
    "model.summary()"
   ]
  },
  {
   "cell_type": "code",
   "execution_count": 149,
   "metadata": {},
   "outputs": [
    {
     "name": "stderr",
     "output_type": "stream",
     "text": [
      "2021-12-01 03:02:48.128969: I tensorflow/core/profiler/lib/profiler_session.cc:126] Profiler session initializing.\n",
      "2021-12-01 03:02:48.129010: I tensorflow/core/profiler/lib/profiler_session.cc:141] Profiler session started.\n",
      "2021-12-01 03:02:48.129217: I tensorflow/core/profiler/lib/profiler_session.cc:159] Profiler session tear down.\n"
     ]
    }
   ],
   "source": [
    "# From https://www.tensorflow.org/tensorboard/tensorboard_in_notebooks\n",
    "logdir = os.path.join(\"logs\", datetime.datetime.now().strftime(\"%Y%m%d-%H%M%S\"))\n",
    "tensorboard_callback = tf.keras.callbacks.TensorBoard(logdir, histogram_freq=1)"
   ]
  },
  {
   "cell_type": "code",
   "execution_count": 150,
   "metadata": {
    "scrolled": true
   },
   "outputs": [
    {
     "name": "stdout",
     "output_type": "stream",
     "text": [
      "Epoch 1/100\n",
      "26/40 [==================>...........] - ETA: 0s - loss: 0.3631 - accuracy: 0.0308 - binary_accuracy: 0.8392"
     ]
    },
    {
     "name": "stderr",
     "output_type": "stream",
     "text": [
      "2021-12-01 03:02:54.366161: I tensorflow/core/profiler/lib/profiler_session.cc:126] Profiler session initializing.\n",
      "2021-12-01 03:02:54.366173: I tensorflow/core/profiler/lib/profiler_session.cc:141] Profiler session started.\n",
      "2021-12-01 03:02:54.373342: I tensorflow/core/profiler/lib/profiler_session.cc:66] Profiler session collecting data.\n",
      "2021-12-01 03:02:54.373604: I tensorflow/core/profiler/lib/profiler_session.cc:159] Profiler session tear down.\n",
      "2021-12-01 03:02:54.374082: I tensorflow/core/profiler/rpc/client/save_profile.cc:137] Creating directory: logs/20211201-030248/train/plugins/profile/2021_12_01_03_02_54\n",
      "2021-12-01 03:02:54.374371: I tensorflow/core/profiler/rpc/client/save_profile.cc:143] Dumped gzipped tool data for trace.json.gz to logs/20211201-030248/train/plugins/profile/2021_12_01_03_02_54/Elliss-MacBook-Air.local.trace.json.gz\n",
      "2021-12-01 03:02:54.374573: I tensorflow/core/profiler/rpc/client/save_profile.cc:137] Creating directory: logs/20211201-030248/train/plugins/profile/2021_12_01_03_02_54\n",
      "2021-12-01 03:02:54.374664: I tensorflow/core/profiler/rpc/client/save_profile.cc:143] Dumped gzipped tool data for memory_profile.json.gz to logs/20211201-030248/train/plugins/profile/2021_12_01_03_02_54/Elliss-MacBook-Air.local.memory_profile.json.gz\n",
      "2021-12-01 03:02:54.374946: I tensorflow/core/profiler/rpc/client/capture_profile.cc:251] Creating directory: logs/20211201-030248/train/plugins/profile/2021_12_01_03_02_54Dumped tool data for xplane.pb to logs/20211201-030248/train/plugins/profile/2021_12_01_03_02_54/Elliss-MacBook-Air.local.xplane.pb\n",
      "Dumped tool data for overview_page.pb to logs/20211201-030248/train/plugins/profile/2021_12_01_03_02_54/Elliss-MacBook-Air.local.overview_page.pb\n",
      "Dumped tool data for input_pipeline.pb to logs/20211201-030248/train/plugins/profile/2021_12_01_03_02_54/Elliss-MacBook-Air.local.input_pipeline.pb\n",
      "Dumped tool data for tensorflow_stats.pb to logs/20211201-030248/train/plugins/profile/2021_12_01_03_02_54/Elliss-MacBook-Air.local.tensorflow_stats.pb\n",
      "Dumped tool data for kernel_stats.pb to logs/20211201-030248/train/plugins/profile/2021_12_01_03_02_54/Elliss-MacBook-Air.local.kernel_stats.pb\n",
      "\n"
     ]
    },
    {
     "name": "stdout",
     "output_type": "stream",
     "text": [
      "40/40 [==============================] - 0s 6ms/step - loss: 0.3635 - accuracy: 0.0325 - binary_accuracy: 0.8394\n",
      "Epoch 2/100\n",
      "40/40 [==============================] - 0s 5ms/step - loss: 0.3553 - accuracy: 0.0425 - binary_accuracy: 0.8463\n",
      "Epoch 3/100\n",
      "40/40 [==============================] - 0s 5ms/step - loss: 0.3491 - accuracy: 0.0375 - binary_accuracy: 0.8488\n",
      "Epoch 4/100\n",
      "40/40 [==============================] - 0s 6ms/step - loss: 0.3402 - accuracy: 0.0412 - binary_accuracy: 0.8538\n",
      "Epoch 5/100\n",
      "40/40 [==============================] - 0s 5ms/step - loss: 0.3378 - accuracy: 0.0487 - binary_accuracy: 0.8572\n",
      "Epoch 6/100\n",
      "40/40 [==============================] - 0s 5ms/step - loss: 0.3288 - accuracy: 0.0525 - binary_accuracy: 0.8612\n",
      "Epoch 7/100\n",
      "40/40 [==============================] - 0s 6ms/step - loss: 0.3214 - accuracy: 0.0475 - binary_accuracy: 0.8669\n",
      "Epoch 8/100\n",
      "40/40 [==============================] - 0s 5ms/step - loss: 0.3162 - accuracy: 0.0437 - binary_accuracy: 0.8706\n",
      "Epoch 9/100\n",
      "40/40 [==============================] - 0s 5ms/step - loss: 0.3103 - accuracy: 0.0512 - binary_accuracy: 0.8732\n",
      "Epoch 10/100\n",
      "40/40 [==============================] - 0s 5ms/step - loss: 0.3047 - accuracy: 0.0575 - binary_accuracy: 0.8753\n",
      "Epoch 11/100\n",
      "40/40 [==============================] - 0s 5ms/step - loss: 0.3004 - accuracy: 0.0562 - binary_accuracy: 0.8765\n",
      "Epoch 12/100\n",
      "40/40 [==============================] - 0s 5ms/step - loss: 0.2936 - accuracy: 0.0625 - binary_accuracy: 0.8820\n",
      "Epoch 13/100\n",
      "40/40 [==============================] - 0s 5ms/step - loss: 0.2872 - accuracy: 0.0537 - binary_accuracy: 0.8862\n",
      "Epoch 14/100\n",
      "40/40 [==============================] - 0s 5ms/step - loss: 0.2823 - accuracy: 0.0587 - binary_accuracy: 0.8884\n",
      "Epoch 15/100\n",
      "40/40 [==============================] - 0s 5ms/step - loss: 0.2785 - accuracy: 0.0550 - binary_accuracy: 0.8896\n",
      "Epoch 16/100\n",
      "40/40 [==============================] - 0s 5ms/step - loss: 0.2726 - accuracy: 0.0612 - binary_accuracy: 0.8928\n",
      "Epoch 17/100\n",
      "40/40 [==============================] - 0s 5ms/step - loss: 0.2668 - accuracy: 0.0637 - binary_accuracy: 0.8971\n",
      "Epoch 18/100\n",
      "40/40 [==============================] - 0s 5ms/step - loss: 0.2631 - accuracy: 0.0512 - binary_accuracy: 0.8978\n",
      "Epoch 19/100\n",
      "40/40 [==============================] - 0s 5ms/step - loss: 0.2587 - accuracy: 0.0637 - binary_accuracy: 0.9010\n",
      "Epoch 20/100\n",
      "40/40 [==============================] - 0s 5ms/step - loss: 0.2536 - accuracy: 0.0650 - binary_accuracy: 0.9036\n",
      "Epoch 21/100\n",
      "40/40 [==============================] - 0s 6ms/step - loss: 0.2503 - accuracy: 0.0662 - binary_accuracy: 0.9042\n",
      "Epoch 22/100\n",
      "40/40 [==============================] - 0s 6ms/step - loss: 0.2445 - accuracy: 0.0688 - binary_accuracy: 0.9082\n",
      "Epoch 23/100\n",
      "40/40 [==============================] - 0s 5ms/step - loss: 0.2399 - accuracy: 0.0662 - binary_accuracy: 0.9099\n",
      "Epoch 24/100\n",
      "40/40 [==============================] - 0s 5ms/step - loss: 0.2372 - accuracy: 0.0612 - binary_accuracy: 0.9114\n",
      "Epoch 25/100\n",
      "40/40 [==============================] - 0s 5ms/step - loss: 0.2326 - accuracy: 0.0737 - binary_accuracy: 0.9132\n",
      "Epoch 26/100\n",
      "40/40 [==============================] - 0s 5ms/step - loss: 0.2279 - accuracy: 0.0725 - binary_accuracy: 0.9148\n",
      "Epoch 27/100\n",
      "40/40 [==============================] - 0s 5ms/step - loss: 0.2231 - accuracy: 0.0787 - binary_accuracy: 0.9177\n",
      "Epoch 28/100\n",
      "40/40 [==============================] - 0s 5ms/step - loss: 0.2199 - accuracy: 0.0712 - binary_accuracy: 0.9200\n",
      "Epoch 29/100\n",
      "40/40 [==============================] - 0s 5ms/step - loss: 0.2157 - accuracy: 0.0825 - binary_accuracy: 0.9211\n",
      "Epoch 30/100\n",
      "40/40 [==============================] - 0s 6ms/step - loss: 0.2117 - accuracy: 0.0787 - binary_accuracy: 0.9235\n",
      "Epoch 31/100\n",
      "40/40 [==============================] - 0s 5ms/step - loss: 0.2087 - accuracy: 0.0800 - binary_accuracy: 0.9246\n",
      "Epoch 32/100\n",
      "40/40 [==============================] - 0s 6ms/step - loss: 0.2045 - accuracy: 0.0763 - binary_accuracy: 0.9276\n",
      "Epoch 33/100\n",
      "40/40 [==============================] - 0s 6ms/step - loss: 0.2010 - accuracy: 0.0763 - binary_accuracy: 0.9288\n",
      "Epoch 34/100\n",
      "40/40 [==============================] - 0s 5ms/step - loss: 0.1975 - accuracy: 0.0787 - binary_accuracy: 0.9289\n",
      "Epoch 35/100\n",
      "40/40 [==============================] - 0s 5ms/step - loss: 0.1933 - accuracy: 0.0825 - binary_accuracy: 0.9324\n",
      "Epoch 36/100\n",
      "40/40 [==============================] - 0s 5ms/step - loss: 0.1891 - accuracy: 0.0787 - binary_accuracy: 0.9346\n",
      "Epoch 37/100\n",
      "40/40 [==============================] - 0s 5ms/step - loss: 0.1865 - accuracy: 0.0887 - binary_accuracy: 0.9362\n",
      "Epoch 38/100\n",
      "40/40 [==============================] - 0s 5ms/step - loss: 0.1832 - accuracy: 0.0887 - binary_accuracy: 0.9380\n",
      "Epoch 39/100\n",
      "40/40 [==============================] - 0s 5ms/step - loss: 0.1799 - accuracy: 0.0850 - binary_accuracy: 0.9388\n",
      "Epoch 40/100\n",
      "40/40 [==============================] - 0s 5ms/step - loss: 0.1745 - accuracy: 0.0875 - binary_accuracy: 0.9417\n",
      "Epoch 41/100\n",
      "40/40 [==============================] - 0s 5ms/step - loss: 0.1714 - accuracy: 0.0787 - binary_accuracy: 0.9431\n",
      "Epoch 42/100\n",
      "40/40 [==============================] - 0s 6ms/step - loss: 0.1680 - accuracy: 0.0912 - binary_accuracy: 0.9453\n",
      "Epoch 43/100\n",
      "40/40 [==============================] - 0s 5ms/step - loss: 0.1651 - accuracy: 0.0825 - binary_accuracy: 0.9457\n",
      "Epoch 44/100\n",
      "40/40 [==============================] - 0s 5ms/step - loss: 0.1630 - accuracy: 0.0787 - binary_accuracy: 0.9468\n",
      "Epoch 45/100\n",
      "40/40 [==============================] - 0s 5ms/step - loss: 0.1583 - accuracy: 0.0900 - binary_accuracy: 0.9493\n",
      "Epoch 46/100\n",
      "40/40 [==============================] - 0s 5ms/step - loss: 0.1554 - accuracy: 0.0825 - binary_accuracy: 0.9509\n",
      "Epoch 47/100\n",
      "40/40 [==============================] - 0s 5ms/step - loss: 0.1510 - accuracy: 0.0875 - binary_accuracy: 0.9527\n",
      "Epoch 48/100\n",
      "40/40 [==============================] - 0s 5ms/step - loss: 0.1492 - accuracy: 0.0812 - binary_accuracy: 0.9528\n",
      "Epoch 49/100\n",
      "40/40 [==============================] - 0s 5ms/step - loss: 0.1464 - accuracy: 0.0862 - binary_accuracy: 0.9547\n",
      "Epoch 50/100\n",
      "40/40 [==============================] - 0s 5ms/step - loss: 0.1435 - accuracy: 0.0850 - binary_accuracy: 0.9554\n",
      "Epoch 51/100\n",
      "40/40 [==============================] - 0s 5ms/step - loss: 0.1404 - accuracy: 0.0875 - binary_accuracy: 0.9566\n",
      "Epoch 52/100\n",
      "40/40 [==============================] - 0s 6ms/step - loss: 0.1368 - accuracy: 0.0862 - binary_accuracy: 0.9591\n",
      "Epoch 53/100\n",
      "40/40 [==============================] - 0s 6ms/step - loss: 0.1331 - accuracy: 0.0912 - binary_accuracy: 0.9609\n",
      "Epoch 54/100\n",
      "40/40 [==============================] - 0s 6ms/step - loss: 0.1313 - accuracy: 0.0837 - binary_accuracy: 0.9614\n",
      "Epoch 55/100\n",
      "40/40 [==============================] - 0s 5ms/step - loss: 0.1272 - accuracy: 0.0925 - binary_accuracy: 0.9644\n",
      "Epoch 56/100\n",
      "40/40 [==============================] - 0s 5ms/step - loss: 0.1252 - accuracy: 0.0912 - binary_accuracy: 0.9646\n",
      "Epoch 57/100\n",
      "40/40 [==============================] - 0s 5ms/step - loss: 0.1219 - accuracy: 0.0787 - binary_accuracy: 0.9664\n",
      "Epoch 58/100\n",
      "40/40 [==============================] - 0s 5ms/step - loss: 0.1188 - accuracy: 0.0850 - binary_accuracy: 0.9682\n",
      "Epoch 59/100\n",
      "40/40 [==============================] - 0s 5ms/step - loss: 0.1158 - accuracy: 0.0925 - binary_accuracy: 0.9689\n",
      "Epoch 60/100\n",
      "40/40 [==============================] - 0s 6ms/step - loss: 0.1133 - accuracy: 0.0837 - binary_accuracy: 0.9710\n",
      "Epoch 61/100\n",
      "40/40 [==============================] - 0s 6ms/step - loss: 0.1113 - accuracy: 0.0850 - binary_accuracy: 0.9711\n",
      "Epoch 62/100\n",
      "40/40 [==============================] - 0s 5ms/step - loss: 0.1078 - accuracy: 0.0875 - binary_accuracy: 0.9730\n",
      "Epoch 63/100\n",
      "40/40 [==============================] - 0s 5ms/step - loss: 0.1052 - accuracy: 0.0925 - binary_accuracy: 0.9739\n",
      "Epoch 64/100\n",
      "40/40 [==============================] - 0s 5ms/step - loss: 0.1031 - accuracy: 0.0812 - binary_accuracy: 0.9751\n",
      "Epoch 65/100\n",
      "40/40 [==============================] - 0s 5ms/step - loss: 0.1001 - accuracy: 0.0938 - binary_accuracy: 0.9765\n",
      "Epoch 66/100\n"
     ]
    },
    {
     "name": "stdout",
     "output_type": "stream",
     "text": [
      "40/40 [==============================] - 0s 5ms/step - loss: 0.0980 - accuracy: 0.0850 - binary_accuracy: 0.9771\n",
      "Epoch 67/100\n",
      "40/40 [==============================] - 0s 5ms/step - loss: 0.0960 - accuracy: 0.0850 - binary_accuracy: 0.9784\n",
      "Epoch 68/100\n",
      "40/40 [==============================] - 0s 5ms/step - loss: 0.0931 - accuracy: 0.0875 - binary_accuracy: 0.9796\n",
      "Epoch 69/100\n",
      "40/40 [==============================] - 0s 6ms/step - loss: 0.0905 - accuracy: 0.0912 - binary_accuracy: 0.9812\n",
      "Epoch 70/100\n",
      "40/40 [==============================] - 0s 5ms/step - loss: 0.0881 - accuracy: 0.0912 - binary_accuracy: 0.9816\n",
      "Epoch 71/100\n",
      "40/40 [==============================] - 0s 5ms/step - loss: 0.0855 - accuracy: 0.0837 - binary_accuracy: 0.9828\n",
      "Epoch 72/100\n",
      "40/40 [==============================] - 0s 5ms/step - loss: 0.0837 - accuracy: 0.0825 - binary_accuracy: 0.9836\n",
      "Epoch 73/100\n",
      "40/40 [==============================] - 0s 6ms/step - loss: 0.0817 - accuracy: 0.0850 - binary_accuracy: 0.9842\n",
      "Epoch 74/100\n",
      "40/40 [==============================] - 0s 5ms/step - loss: 0.0803 - accuracy: 0.0850 - binary_accuracy: 0.9845\n",
      "Epoch 75/100\n",
      "40/40 [==============================] - 0s 5ms/step - loss: 0.0773 - accuracy: 0.0850 - binary_accuracy: 0.9864\n",
      "Epoch 76/100\n",
      "40/40 [==============================] - 0s 5ms/step - loss: 0.0754 - accuracy: 0.0850 - binary_accuracy: 0.9868\n",
      "Epoch 77/100\n",
      "40/40 [==============================] - 0s 5ms/step - loss: 0.0739 - accuracy: 0.0912 - binary_accuracy: 0.9874\n",
      "Epoch 78/100\n",
      "40/40 [==============================] - 0s 5ms/step - loss: 0.0713 - accuracy: 0.0812 - binary_accuracy: 0.9884\n",
      "Epoch 79/100\n",
      "40/40 [==============================] - 0s 5ms/step - loss: 0.0701 - accuracy: 0.0775 - binary_accuracy: 0.9889\n",
      "Epoch 80/100\n",
      "40/40 [==============================] - 0s 5ms/step - loss: 0.0675 - accuracy: 0.0850 - binary_accuracy: 0.9902\n",
      "Epoch 81/100\n",
      "40/40 [==============================] - 0s 5ms/step - loss: 0.0660 - accuracy: 0.0787 - binary_accuracy: 0.9911\n",
      "Epoch 82/100\n",
      "40/40 [==============================] - 0s 5ms/step - loss: 0.0635 - accuracy: 0.0800 - binary_accuracy: 0.9914\n",
      "Epoch 83/100\n",
      "40/40 [==============================] - 0s 5ms/step - loss: 0.0616 - accuracy: 0.0875 - binary_accuracy: 0.9922\n",
      "Epoch 84/100\n",
      "40/40 [==============================] - 0s 5ms/step - loss: 0.0603 - accuracy: 0.0850 - binary_accuracy: 0.9925\n",
      "Epoch 85/100\n",
      "40/40 [==============================] - 0s 5ms/step - loss: 0.0589 - accuracy: 0.0850 - binary_accuracy: 0.9927\n",
      "Epoch 86/100\n",
      "40/40 [==============================] - 0s 5ms/step - loss: 0.0566 - accuracy: 0.0825 - binary_accuracy: 0.9937\n",
      "Epoch 87/100\n",
      "40/40 [==============================] - 0s 6ms/step - loss: 0.0558 - accuracy: 0.0837 - binary_accuracy: 0.9934\n",
      "Epoch 88/100\n",
      "40/40 [==============================] - 0s 5ms/step - loss: 0.0552 - accuracy: 0.0837 - binary_accuracy: 0.9934\n",
      "Epoch 89/100\n",
      "40/40 [==============================] - 0s 5ms/step - loss: 0.0531 - accuracy: 0.0800 - binary_accuracy: 0.9943\n",
      "Epoch 90/100\n",
      "40/40 [==============================] - 0s 5ms/step - loss: 0.0510 - accuracy: 0.0800 - binary_accuracy: 0.9952\n",
      "Epoch 91/100\n",
      "40/40 [==============================] - 0s 6ms/step - loss: 0.0493 - accuracy: 0.0862 - binary_accuracy: 0.9956\n",
      "Epoch 92/100\n",
      "40/40 [==============================] - 0s 5ms/step - loss: 0.0480 - accuracy: 0.0737 - binary_accuracy: 0.9960\n",
      "Epoch 93/100\n",
      "40/40 [==============================] - 0s 5ms/step - loss: 0.0471 - accuracy: 0.0862 - binary_accuracy: 0.9957\n",
      "Epoch 94/100\n",
      "40/40 [==============================] - 0s 5ms/step - loss: 0.0452 - accuracy: 0.0837 - binary_accuracy: 0.9968\n",
      "Epoch 95/100\n",
      "40/40 [==============================] - 0s 5ms/step - loss: 0.0437 - accuracy: 0.0812 - binary_accuracy: 0.9969\n",
      "Epoch 96/100\n",
      "40/40 [==============================] - 0s 5ms/step - loss: 0.0423 - accuracy: 0.0775 - binary_accuracy: 0.9972\n",
      "Epoch 97/100\n",
      "40/40 [==============================] - 0s 5ms/step - loss: 0.0408 - accuracy: 0.0800 - binary_accuracy: 0.9975\n",
      "Epoch 98/100\n",
      "40/40 [==============================] - 0s 5ms/step - loss: 0.0400 - accuracy: 0.0837 - binary_accuracy: 0.9976\n",
      "Epoch 99/100\n",
      "40/40 [==============================] - 0s 5ms/step - loss: 0.0385 - accuracy: 0.0737 - binary_accuracy: 0.9980\n",
      "Epoch 100/100\n",
      "40/40 [==============================] - 0s 5ms/step - loss: 0.0384 - accuracy: 0.0763 - binary_accuracy: 0.9977\n"
     ]
    },
    {
     "data": {
      "text/plain": [
       "<keras.callbacks.History at 0x178f9ddf0>"
      ]
     },
     "execution_count": 150,
     "metadata": {},
     "output_type": "execute_result"
    }
   ],
   "source": [
    "model.fit(\n",
    "    X_train, \n",
    "    Y_train, \n",
    "    epochs=100, \n",
    "    batch_size=20,\n",
    "    callbacks=[tensorboard_callback]\n",
    ")"
   ]
  },
  {
   "cell_type": "code",
   "execution_count": 151,
   "metadata": {
    "scrolled": true
   },
   "outputs": [
    {
     "name": "stdout",
     "output_type": "stream",
     "text": [
      "7/7 [==============================] - 0s 8ms/step - loss: 1.4705 - accuracy: 0.0350 - binary_accuracy: 0.6895\n"
     ]
    },
    {
     "name": "stderr",
     "output_type": "stream",
     "text": [
      "2021-12-01 03:03:23.846142: I tensorflow/core/grappler/optimizers/custom_graph_optimizer_registry.cc:112] Plugin optimizer for device_type GPU is enabled.\n"
     ]
    }
   ],
   "source": [
    "loss, accuracy, binary_accuracy = model.evaluate(X_test, Y_test)"
   ]
  },
  {
   "cell_type": "markdown",
   "metadata": {},
   "source": [
    "## Visualising the output\n",
    "Now both the raw output of the model and the binarised version can be displayed interactively."
   ]
  },
  {
   "cell_type": "code",
   "execution_count": 136,
   "metadata": {
    "scrolled": true
   },
   "outputs": [
    {
     "data": {
      "text/plain": [
       "Reusing TensorBoard on port 6006 (pid 80534), started 0:02:51 ago. (Use '!kill 80534' to kill it.)"
      ]
     },
     "metadata": {},
     "output_type": "display_data"
    },
    {
     "data": {
      "text/html": [
       "\n",
       "      <iframe id=\"tensorboard-frame-e80f7f35bac4a8c8\" width=\"100%\" height=\"800\" frameborder=\"0\">\n",
       "      </iframe>\n",
       "      <script>\n",
       "        (function() {\n",
       "          const frame = document.getElementById(\"tensorboard-frame-e80f7f35bac4a8c8\");\n",
       "          const url = new URL(\"/\", window.location);\n",
       "          const port = 6006;\n",
       "          if (port) {\n",
       "            url.port = port;\n",
       "          }\n",
       "          frame.src = url;\n",
       "        })();\n",
       "      </script>\n",
       "    "
      ],
      "text/plain": [
       "<IPython.core.display.HTML object>"
      ]
     },
     "metadata": {},
     "output_type": "display_data"
    }
   ],
   "source": [
    "%tensorboard --logdir logs"
   ]
  },
  {
   "cell_type": "code",
   "execution_count": 152,
   "metadata": {},
   "outputs": [],
   "source": [
    "def predict_val(val):\n",
    "    prediction = model.predict(val.reshape(1, 64))\n",
    "    prediction = prediction.reshape(8, 8)\n",
    "    return np.where(prediction > 0.5, 1, 0)\n",
    "\n",
    "def predict_raw(val):\n",
    "    prediction = model.predict(val.reshape(1, 64))\n",
    "    return prediction.reshape(8, 8)    "
   ]
  },
  {
   "cell_type": "code",
   "execution_count": 153,
   "metadata": {},
   "outputs": [],
   "source": [
    "def find_diff(n):\n",
    "    Y_instance = Y_test[n].reshape(8, 8)\n",
    "    prediction = predict_val(X_test[n])\n",
    "    \n",
    "    diff = np.where(prediction == Y_instance, 1, 0)\n",
    "\n",
    "    return diff"
   ]
  },
  {
   "cell_type": "code",
   "execution_count": 154,
   "metadata": {},
   "outputs": [],
   "source": [
    "sns.set_theme(style=\"white\")\n",
    "sns.color_palette(\"crest\", as_cmap=True)\n",
    "sns.set_palette(\"crest\")\n",
    "\n",
    "def plot_sns(val):\n",
    "    # From https://seaborn.pydata.org/examples/many_pairwise_correlations.html\n",
    "    sns.heatmap(val)\n",
    "    plt.show()\n",
    "\n",
    "def plot(val):\n",
    "    cmap = colors.ListedColormap(['white', 'green'])\n",
    "    bounds = [-0.5, 0.5, 1.5]\n",
    "    norm = colors.BoundaryNorm(bounds, cmap.N)\n",
    "\n",
    "    fig, ax = plt.subplots()\n",
    "    ax.imshow(val, cmap=cmap, norm=norm)\n",
    "\n",
    "    # draw gridlines\n",
    "    ax.grid(which='major', axis='both', linestyle='-', color='k', linewidth=2)\n",
    "    ax.set_xticks(np.arange(0.5, 8.5, 1));\n",
    "    ax.set_yticks(np.arange(0.5, 8.5, 1));\n",
    "\n",
    "#     sns.heatmap(val)\n",
    "    plt.show()\n",
    "\n",
    "def plot_diff(val):\n",
    "    cmap = colors.ListedColormap(['red', 'green'])\n",
    "    bounds = [-0.5, 0.5, 1.5]\n",
    "    norm = colors.BoundaryNorm(bounds, cmap.N)\n",
    "\n",
    "    fig, ax = plt.subplots()\n",
    "    ax.imshow(val, cmap=cmap, norm=norm)\n",
    "\n",
    "    # draw gridlines\n",
    "    ax.grid(which='major', axis='both', linestyle='-', color='k', linewidth=2)\n",
    "    ax.set_xticks(np.arange(0.5, 8.5, 1));\n",
    "    ax.set_yticks(np.arange(0.5, 8.5, 1));\n",
    "    \n",
    "#     sns.heatmap(val)\n",
    "    plt.show()"
   ]
  },
  {
   "cell_type": "code",
   "execution_count": 155,
   "metadata": {},
   "outputs": [],
   "source": [
    "def generate_plots(\n",
    "            n, target=True, \n",
    "            prediction=True, \n",
    "            raw_prediction=True, \n",
    "            diff=True\n",
    "        ):\n",
    "    if target:         plot(Y_test[n].reshape(8, 8))    \n",
    "    if prediction:     plot(predict_val(X_test[n]))\n",
    "    if raw_prediction: plot_sns(predict_raw(X_test[n]))\n",
    "    if diff:           plot_diff(find_diff(n))"
   ]
  },
  {
   "cell_type": "code",
   "execution_count": 156,
   "metadata": {
    "scrolled": false
   },
   "outputs": [
    {
     "data": {
      "application/vnd.jupyter.widget-view+json": {
       "model_id": "24ec6781c6e947d0a39ea29b8fc704bf",
       "version_major": 2,
       "version_minor": 0
      },
      "text/plain": [
       "interactive(children=(IntSlider(value=0, description='n', max=199, step=5), Checkbox(value=False, description=…"
      ]
     },
     "metadata": {},
     "output_type": "display_data"
    },
    {
     "data": {
      "text/plain": [
       "<function __main__.generate_plots(n, target=True, prediction=True, raw_prediction=True, diff=True)>"
      ]
     },
     "execution_count": 156,
     "metadata": {},
     "output_type": "execute_result"
    }
   ],
   "source": [
    "# From https://ipywidgets.readthedocs.io/en/latest/examples/Using%20Interact.html\n",
    "interact(\n",
    "    generate_plots, \n",
    "    n=widgets.IntSlider(min=0, max=199, step=5, value=0),\n",
    "    target=False,\n",
    "    prediction=False,\n",
    "    raw_prediction=False,\n",
    "    diff=True\n",
    ")"
   ]
  }
 ],
 "metadata": {
  "interpreter": {
   "hash": "c6e4e9f98eb68ad3b7c296f83d20e6de614cb42e90992a65aa266555a3137d0d"
  },
  "kernelspec": {
   "display_name": "Python 3 (ipykernel)",
   "language": "python",
   "name": "python3"
  },
  "language_info": {
   "codemirror_mode": {
    "name": "ipython",
    "version": 3
   },
   "file_extension": ".py",
   "mimetype": "text/x-python",
   "name": "python",
   "nbconvert_exporter": "python",
   "pygments_lexer": "ipython3",
   "version": "3.9.7"
  }
 },
 "nbformat": 4,
 "nbformat_minor": 2
}
