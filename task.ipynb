{
 "cells": [
  {
   "cell_type": "code",
   "execution_count": 1,
   "metadata": {},
   "outputs": [
    {
     "name": "stdout",
     "output_type": "stream",
     "text": [
      "Init Plugin\n",
      "Init Graph Optimizer\n",
      "Init Kernel\n"
     ]
    }
   ],
   "source": [
    "import pickle\n",
    "import numpy as np\n",
    "import tensorflow as tf\n",
    "import keras\n",
    "\n",
    "import os\n",
    "import datetime\n",
    "\n",
    "from keras.layers import Dense\n",
    "from Chess import construct_board\n",
    "from Chess.view import view_board_colour\n",
    "from sklearn.model_selection import train_test_split\n",
    "\n",
    "from ipywidgets import interact\n",
    "import ipywidgets as widgets\n",
    "\n",
    "import matplotlib.pyplot as plt\n",
    "from matplotlib import colors\n",
    "import seaborn as sns"
   ]
  },
  {
   "cell_type": "code",
   "execution_count": 2,
   "metadata": {},
   "outputs": [],
   "source": [
    "%load_ext tensorboard"
   ]
  },
  {
   "cell_type": "markdown",
   "metadata": {},
   "source": [
    "### Open our set of randomly selected Board objects\n",
    "The script `generate_data.py` pickles a list of board objects after a sequence of moves is run through. This leaves us with a long list of `Board` objects which we can now use!"
   ]
  },
  {
   "cell_type": "code",
   "execution_count": 3,
   "metadata": {},
   "outputs": [],
   "source": [
    "with open(\"generated_data/boards.pickle\", 'rb') as f:\n",
    "    boards = pickle.load(f)\n",
    "\n",
    "board_list = boards"
   ]
  },
  {
   "cell_type": "code",
   "execution_count": 4,
   "metadata": {},
   "outputs": [
    {
     "name": "stdout",
     "output_type": "stream",
     "text": [
      "Black to move - turn 8\n",
      "\u001b[48;5;71m\u001b[38;5;255;48;5;0m R \u001b[0m\u001b[0m\u001b[48;5;250m\u001b[38;5;255;48;5;0m N \u001b[0m\u001b[0m\u001b[48;5;71m   \u001b[0m\u001b[48;5;250m   \u001b[0m\u001b[48;5;71m\u001b[38;5;255;48;5;0m K \u001b[0m\u001b[0m\u001b[48;5;250m\u001b[38;5;255;48;5;0m B \u001b[0m\u001b[0m\u001b[48;5;71m   \u001b[0m\u001b[48;5;250m\u001b[38;5;255;48;5;0m R \u001b[0m\u001b[0m\n",
      "\u001b[48;5;250m\u001b[38;5;255;48;5;0m P \u001b[0m\u001b[0m\u001b[48;5;71m\u001b[38;5;255;48;5;0m B \u001b[0m\u001b[0m\u001b[48;5;250m\u001b[38;5;255;48;5;0m P \u001b[0m\u001b[0m\u001b[48;5;71m\u001b[38;5;255;48;5;0m P \u001b[0m\u001b[0m\u001b[48;5;250m   \u001b[0m\u001b[48;5;71m\u001b[38;5;255;48;5;0m P \u001b[0m\u001b[0m\u001b[48;5;250m   \u001b[0m\u001b[48;5;71m\u001b[38;5;255;48;5;0m P \u001b[0m\u001b[0m\n",
      "\u001b[48;5;71m   \u001b[0m\u001b[48;5;250m\u001b[38;5;255;48;5;0m P \u001b[0m\u001b[0m\u001b[48;5;71m   \u001b[0m\u001b[48;5;250m   \u001b[0m\u001b[48;5;71m\u001b[38;5;255;48;5;0m P \u001b[0m\u001b[0m\u001b[48;5;250m   \u001b[0m\u001b[48;5;71m   \u001b[0m\u001b[48;5;250m   \u001b[0m\n",
      "\u001b[48;5;250m   \u001b[0m\u001b[48;5;71m   \u001b[0m\u001b[48;5;250m   \u001b[0m\u001b[48;5;71m   \u001b[0m\u001b[48;5;250m   \u001b[0m\u001b[48;5;71m   \u001b[0m\u001b[48;5;250m\u001b[38;5;255;48;5;0m Q \u001b[0m\u001b[0m\u001b[48;5;71m\u001b[38;5;255;48;5;0m P \u001b[0m\u001b[0m\n",
      "\u001b[48;5;71m   \u001b[0m\u001b[48;5;250m   \u001b[0m\u001b[48;5;71m   \u001b[0m\u001b[48;5;250m\u001b[38;5;0;48;5;255m P \u001b[0m\u001b[0m\u001b[48;5;71m\u001b[38;5;0;48;5;255m P \u001b[0m\u001b[0m\u001b[48;5;250m   \u001b[0m\u001b[48;5;71m\u001b[38;5;0;48;5;255m B \u001b[0m\u001b[0m\u001b[48;5;250m   \u001b[0m\n",
      "\u001b[48;5;250m\u001b[38;5;0;48;5;255m P \u001b[0m\u001b[0m\u001b[48;5;71m   \u001b[0m\u001b[48;5;250m\u001b[38;5;0;48;5;255m N \u001b[0m\u001b[0m\u001b[48;5;71m   \u001b[0m\u001b[48;5;250m   \u001b[0m\u001b[48;5;71m\u001b[38;5;0;48;5;255m N \u001b[0m\u001b[0m\u001b[48;5;250m   \u001b[0m\u001b[48;5;71m   \u001b[0m\n",
      "\u001b[48;5;71m   \u001b[0m\u001b[48;5;250m\u001b[38;5;0;48;5;255m P \u001b[0m\u001b[0m\u001b[48;5;71m\u001b[38;5;0;48;5;255m P \u001b[0m\u001b[0m\u001b[48;5;250m   \u001b[0m\u001b[48;5;71m   \u001b[0m\u001b[48;5;250m\u001b[38;5;0;48;5;255m P \u001b[0m\u001b[0m\u001b[48;5;71m\u001b[38;5;0;48;5;255m P \u001b[0m\u001b[0m\u001b[48;5;250m\u001b[38;5;0;48;5;255m P \u001b[0m\u001b[0m\n",
      "\u001b[48;5;250m\u001b[38;5;0;48;5;255m R \u001b[0m\u001b[0m\u001b[48;5;71m   \u001b[0m\u001b[48;5;250m   \u001b[0m\u001b[48;5;71m\u001b[38;5;0;48;5;255m Q \u001b[0m\u001b[0m\u001b[48;5;250m\u001b[38;5;0;48;5;255m K \u001b[0m\u001b[0m\u001b[48;5;71m   \u001b[0m\u001b[48;5;250m   \u001b[0m\u001b[48;5;71m\u001b[38;5;0;48;5;255m R \u001b[0m\u001b[0m\n",
      "\n",
      "Black to move - turn 13\n",
      "\u001b[48;5;71m\u001b[38;5;255;48;5;0m R \u001b[0m\u001b[0m\u001b[48;5;250m   \u001b[0m\u001b[48;5;71m   \u001b[0m\u001b[48;5;250m\u001b[38;5;255;48;5;0m Q \u001b[0m\u001b[0m\u001b[48;5;71m   \u001b[0m\u001b[48;5;250m   \u001b[0m\u001b[48;5;71m   \u001b[0m\u001b[48;5;250m   \u001b[0m\n",
      "\u001b[48;5;250m\u001b[38;5;255;48;5;0m P \u001b[0m\u001b[0m\u001b[48;5;71m\u001b[38;5;255;48;5;0m P \u001b[0m\u001b[0m\u001b[48;5;250m\u001b[38;5;255;48;5;0m P \u001b[0m\u001b[0m\u001b[48;5;71m   \u001b[0m\u001b[48;5;250m\u001b[38;5;255;48;5;0m K \u001b[0m\u001b[0m\u001b[48;5;71m\u001b[38;5;255;48;5;0m P \u001b[0m\u001b[0m\u001b[48;5;250m\u001b[38;5;255;48;5;0m P \u001b[0m\u001b[0m\u001b[48;5;71m\u001b[38;5;0;48;5;255m Q \u001b[0m\u001b[0m\n",
      "\u001b[48;5;71m   \u001b[0m\u001b[48;5;250m   \u001b[0m\u001b[48;5;71m\u001b[38;5;255;48;5;0m N \u001b[0m\u001b[0m\u001b[48;5;250m\u001b[38;5;255;48;5;0m B \u001b[0m\u001b[0m\u001b[48;5;71m\u001b[38;5;255;48;5;0m P \u001b[0m\u001b[0m\u001b[48;5;250m\u001b[38;5;255;48;5;0m N \u001b[0m\u001b[0m\u001b[48;5;71m\u001b[38;5;255;48;5;0m P \u001b[0m\u001b[0m\u001b[48;5;250m   \u001b[0m\n",
      "\u001b[48;5;250m   \u001b[0m\u001b[48;5;71m   \u001b[0m\u001b[48;5;250m   \u001b[0m\u001b[48;5;71m   \u001b[0m\u001b[48;5;250m   \u001b[0m\u001b[48;5;71m   \u001b[0m\u001b[48;5;250m\u001b[38;5;0;48;5;255m B \u001b[0m\u001b[0m\u001b[48;5;71m   \u001b[0m\n",
      "\u001b[48;5;71m   \u001b[0m\u001b[48;5;250m   \u001b[0m\u001b[48;5;71m   \u001b[0m\u001b[48;5;250m\u001b[38;5;0;48;5;255m P \u001b[0m\u001b[0m\u001b[48;5;71m\u001b[38;5;0;48;5;255m N \u001b[0m\u001b[0m\u001b[48;5;250m   \u001b[0m\u001b[48;5;71m   \u001b[0m\u001b[48;5;250m   \u001b[0m\n",
      "\u001b[48;5;250m   \u001b[0m\u001b[48;5;71m   \u001b[0m\u001b[48;5;250m   \u001b[0m\u001b[48;5;71m\u001b[38;5;0;48;5;255m B \u001b[0m\u001b[0m\u001b[48;5;250m   \u001b[0m\u001b[48;5;71m   \u001b[0m\u001b[48;5;250m   \u001b[0m\u001b[48;5;71m   \u001b[0m\n",
      "\u001b[48;5;71m\u001b[38;5;0;48;5;255m P \u001b[0m\u001b[0m\u001b[48;5;250m\u001b[38;5;0;48;5;255m P \u001b[0m\u001b[0m\u001b[48;5;71m\u001b[38;5;0;48;5;255m P \u001b[0m\u001b[0m\u001b[48;5;250m   \u001b[0m\u001b[48;5;71m\u001b[38;5;0;48;5;255m K \u001b[0m\u001b[0m\u001b[48;5;250m\u001b[38;5;0;48;5;255m P \u001b[0m\u001b[0m\u001b[48;5;71m\u001b[38;5;0;48;5;255m P \u001b[0m\u001b[0m\u001b[48;5;250m   \u001b[0m\n",
      "\u001b[48;5;250m\u001b[38;5;0;48;5;255m R \u001b[0m\u001b[0m\u001b[48;5;71m   \u001b[0m\u001b[48;5;250m   \u001b[0m\u001b[48;5;71m   \u001b[0m\u001b[48;5;250m   \u001b[0m\u001b[48;5;71m   \u001b[0m\u001b[48;5;250m   \u001b[0m\u001b[48;5;71m   \u001b[0m\n",
      "\n"
     ]
    }
   ],
   "source": [
    "view_board_colour(board_list[0])\n",
    "view_board_colour(board_list[1])"
   ]
  },
  {
   "cell_type": "markdown",
   "metadata": {},
   "source": [
    "## Data processing\n",
    "Now the data needs to be formed into a reasonable type for training. This section will get all the positions which can be moved to as a list for each game, and all the positions of the pieces for each board as training data. Initally, this won't account for the piece type, which side is to move, or the different types of pieces and moves."
   ]
  },
  {
   "cell_type": "code",
   "execution_count": 5,
   "metadata": {},
   "outputs": [
    {
     "data": {
      "text/plain": [
       "26"
      ]
     },
     "execution_count": 5,
     "metadata": {},
     "output_type": "execute_result"
    }
   ],
   "source": [
    "# Using set comprehension to get only the unique elements of each boards moves (the target data)\n",
    "valid_move_list = [list({i for i in board.allied_moves.all_valid}) for board in board_list]\n",
    "\n",
    "# We are targeting the correct prediction of each of these squares as \"active\"\n",
    "len(valid_move_list[0])"
   ]
  },
  {
   "cell_type": "code",
   "execution_count": 6,
   "metadata": {},
   "outputs": [
    {
     "data": {
      "text/plain": [
       "30"
      ]
     },
     "execution_count": 6,
     "metadata": {},
     "output_type": "execute_result"
    }
   ],
   "source": [
    "# Get all the piece types and positions from the location map of each board (training data)\n",
    "piece_position_list = [{position: piece.kind for position, piece in board.loc_map.items()} for board in board_list]\n",
    "\n",
    "# This will be at most 32 pieces\n",
    "len(piece_position_list[0])"
   ]
  },
  {
   "cell_type": "code",
   "execution_count": 7,
   "metadata": {},
   "outputs": [],
   "source": [
    "# Encode the location of any piece as a 1, and all other positions as 0\n",
    "feature = []\n",
    "for instance in piece_position_list:\n",
    "    array = np.zeros((8, 8))\n",
    "    for location in instance:\n",
    "        array[location.i, location.j] = 1\n",
    "    feature.append(array.flatten())"
   ]
  },
  {
   "cell_type": "code",
   "execution_count": 8,
   "metadata": {},
   "outputs": [
    {
     "name": "stdout",
     "output_type": "stream",
     "text": [
      "[0. 0. 1. 0. 0. 0. 0. 0. 0. 0. 0. 1. 0. 0. 0. 0. 1. 0. 0. 0. 1. 0. 0. 0.\n",
      " 0. 1. 0. 0. 1. 1. 1. 1. 1. 1. 1. 1. 1. 1. 0. 0. 1. 0. 1. 1. 0. 1. 1. 1.\n",
      " 0. 0. 0. 0. 1. 0. 1. 0. 0. 0. 1. 1. 0. 0. 1. 0.]\n"
     ]
    }
   ],
   "source": [
    "# Simple encoding will be used at first, where any piece present is represented by a one and not present by zero.\n",
    "target = []\n",
    "for instance in valid_move_list:\n",
    "    array = np.zeros((8, 8))\n",
    "    for location in instance:\n",
    "        array[location.i, location.j] = 1\n",
    "    target.append(array.flatten())\n",
    "    \n",
    "print(target[0])"
   ]
  },
  {
   "cell_type": "code",
   "execution_count": 9,
   "metadata": {},
   "outputs": [
    {
     "name": "stdout",
     "output_type": "stream",
     "text": [
      "(1000, 64)\n",
      "(1000, 64)\n"
     ]
    }
   ],
   "source": [
    "X = np.array(feature)\n",
    "Y = np.array(target)\n",
    "\n",
    "print(X.shape)\n",
    "print(Y.shape)"
   ]
  },
  {
   "cell_type": "markdown",
   "metadata": {},
   "source": [
    "The data needs to be split into training and testing portions using the `sklearn` modules implementation."
   ]
  },
  {
   "cell_type": "code",
   "execution_count": 10,
   "metadata": {},
   "outputs": [],
   "source": [
    "X_train, X_test, Y_train, Y_test = train_test_split(X, Y, test_size=0.2)"
   ]
  },
  {
   "cell_type": "markdown",
   "metadata": {},
   "source": [
    "Beginning with a simple sequential model, which takes in a 1x64 array of features and outputs a prediction at each of the 64 squares."
   ]
  },
  {
   "cell_type": "code",
   "execution_count": 11,
   "metadata": {},
   "outputs": [
    {
     "name": "stdout",
     "output_type": "stream",
     "text": [
      "Metal device set to: Apple M1\n"
     ]
    },
    {
     "name": "stderr",
     "output_type": "stream",
     "text": [
      "2021-12-01 11:34:27.224168: I tensorflow/core/common_runtime/pluggable_device/pluggable_device_factory.cc:305] Could not identify NUMA node of platform GPU ID 0, defaulting to 0. Your kernel may not have been built with NUMA support.\n",
      "2021-12-01 11:34:27.224642: I tensorflow/core/common_runtime/pluggable_device/pluggable_device_factory.cc:271] Created TensorFlow device (/job:localhost/replica:0/task:0/device:GPU:0 with 0 MB memory) -> physical PluggableDevice (device: 0, name: METAL, pci bus id: <undefined>)\n"
     ]
    }
   ],
   "source": [
    "# Inspired by the model at https://machinelearningmastery.com/tutorial-first-neural-network-python-keras/\n",
    "\n",
    "model = keras.Sequential()\n",
    "model.add(Dense(128, input_dim=64, activation='relu'))\n",
    "model.add(Dense(256, activation='relu'))\n",
    "model.add(Dense(64, activation='sigmoid'))"
   ]
  },
  {
   "cell_type": "code",
   "execution_count": 12,
   "metadata": {},
   "outputs": [
    {
     "name": "stdout",
     "output_type": "stream",
     "text": [
      "Model: \"sequential\"\n",
      "_________________________________________________________________\n",
      "Layer (type)                 Output Shape              Param #   \n",
      "=================================================================\n",
      "dense (Dense)                (None, 128)               8320      \n",
      "_________________________________________________________________\n",
      "dense_1 (Dense)              (None, 256)               33024     \n",
      "_________________________________________________________________\n",
      "dense_2 (Dense)              (None, 64)                16448     \n",
      "=================================================================\n",
      "Total params: 57,792\n",
      "Trainable params: 57,792\n",
      "Non-trainable params: 0\n",
      "_________________________________________________________________\n"
     ]
    }
   ],
   "source": [
    "model.compile(\n",
    "    loss=\"binary_crossentropy\", \n",
    "    optimizer=\"adam\", \n",
    "    metrics=[\"accuracy\", \"binary_accuracy\"]\n",
    ")\n",
    "\n",
    "model.summary()"
   ]
  },
  {
   "cell_type": "code",
   "execution_count": 13,
   "metadata": {},
   "outputs": [
    {
     "name": "stderr",
     "output_type": "stream",
     "text": [
      "2021-12-01 11:34:27.491578: I tensorflow/core/profiler/lib/profiler_session.cc:126] Profiler session initializing.\n",
      "2021-12-01 11:34:27.491587: I tensorflow/core/profiler/lib/profiler_session.cc:141] Profiler session started.\n",
      "2021-12-01 11:34:27.492032: I tensorflow/core/profiler/lib/profiler_session.cc:159] Profiler session tear down.\n"
     ]
    }
   ],
   "source": [
    "# From https://www.tensorflow.org/tensorboard/tensorboard_in_notebooks\n",
    "logdir = os.path.join(\"logs\", datetime.datetime.now().strftime(\"%Y%m%d-%H%M%S\"))\n",
    "tensorboard_callback = tf.keras.callbacks.TensorBoard(logdir, histogram_freq=1)"
   ]
  },
  {
   "cell_type": "code",
   "execution_count": 14,
   "metadata": {
    "scrolled": true
   },
   "outputs": [
    {
     "name": "stdout",
     "output_type": "stream",
     "text": [
      "Epoch 1/100\n"
     ]
    },
    {
     "name": "stderr",
     "output_type": "stream",
     "text": [
      "2021-12-01 11:34:27.607672: I tensorflow/compiler/mlir/mlir_graph_optimization_pass.cc:176] None of the MLIR Optimization Passes are enabled (registered 2)\n",
      "2021-12-01 11:34:27.610422: W tensorflow/core/platform/profile_utils/cpu_utils.cc:128] Failed to get CPU frequency: 0 Hz\n",
      "2021-12-01 11:34:34.039123: I tensorflow/core/grappler/optimizers/custom_graph_optimizer_registry.cc:112] Plugin optimizer for device_type GPU is enabled.\n"
     ]
    },
    {
     "name": "stdout",
     "output_type": "stream",
     "text": [
      "23/40 [================>.............] - ETA: 0s - loss: 0.6595 - accuracy: 0.0049 - binary_accuracy: 0.6078  "
     ]
    },
    {
     "name": "stderr",
     "output_type": "stream",
     "text": [
      "2021-12-01 11:34:34.557911: I tensorflow/core/profiler/lib/profiler_session.cc:126] Profiler session initializing.\n",
      "2021-12-01 11:34:34.557922: I tensorflow/core/profiler/lib/profiler_session.cc:141] Profiler session started.\n",
      "2021-12-01 11:34:34.570648: I tensorflow/core/profiler/lib/profiler_session.cc:66] Profiler session collecting data.\n",
      "2021-12-01 11:34:34.574244: I tensorflow/core/profiler/lib/profiler_session.cc:159] Profiler session tear down.\n",
      "2021-12-01 11:34:34.582043: I tensorflow/core/profiler/rpc/client/save_profile.cc:137] Creating directory: logs/20211201-113427/train/plugins/profile/2021_12_01_11_34_34\n",
      "2021-12-01 11:34:34.583240: I tensorflow/core/profiler/rpc/client/save_profile.cc:143] Dumped gzipped tool data for trace.json.gz to logs/20211201-113427/train/plugins/profile/2021_12_01_11_34_34/Elliss-MacBook-Air.local.trace.json.gz\n",
      "2021-12-01 11:34:34.586229: I tensorflow/core/profiler/rpc/client/save_profile.cc:137] Creating directory: logs/20211201-113427/train/plugins/profile/2021_12_01_11_34_34\n",
      "2021-12-01 11:34:34.586332: I tensorflow/core/profiler/rpc/client/save_profile.cc:143] Dumped gzipped tool data for memory_profile.json.gz to logs/20211201-113427/train/plugins/profile/2021_12_01_11_34_34/Elliss-MacBook-Air.local.memory_profile.json.gz\n",
      "2021-12-01 11:34:34.586690: I tensorflow/core/profiler/rpc/client/capture_profile.cc:251] Creating directory: logs/20211201-113427/train/plugins/profile/2021_12_01_11_34_34Dumped tool data for xplane.pb to logs/20211201-113427/train/plugins/profile/2021_12_01_11_34_34/Elliss-MacBook-Air.local.xplane.pb\n",
      "Dumped tool data for overview_page.pb to logs/20211201-113427/train/plugins/profile/2021_12_01_11_34_34/Elliss-MacBook-Air.local.overview_page.pb\n",
      "Dumped tool data for input_pipeline.pb to logs/20211201-113427/train/plugins/profile/2021_12_01_11_34_34/Elliss-MacBook-Air.local.input_pipeline.pb\n",
      "Dumped tool data for tensorflow_stats.pb to logs/20211201-113427/train/plugins/profile/2021_12_01_11_34_34/Elliss-MacBook-Air.local.tensorflow_stats.pb\n",
      "Dumped tool data for kernel_stats.pb to logs/20211201-113427/train/plugins/profile/2021_12_01_11_34_34/Elliss-MacBook-Air.local.kernel_stats.pb\n",
      "\n"
     ]
    },
    {
     "name": "stdout",
     "output_type": "stream",
     "text": [
      "40/40 [==============================] - 7s 6ms/step - loss: 0.6422 - accuracy: 0.0049 - binary_accuracy: 0.6334\n",
      "Epoch 2/100\n",
      "40/40 [==============================] - 0s 6ms/step - loss: 0.5807 - accuracy: 0.0151 - binary_accuracy: 0.7024\n",
      "Epoch 3/100\n",
      "40/40 [==============================] - 0s 5ms/step - loss: 0.5555 - accuracy: 0.0023 - binary_accuracy: 0.7190\n",
      "Epoch 4/100\n",
      "40/40 [==============================] - 0s 6ms/step - loss: 0.5389 - accuracy: 0.0077 - binary_accuracy: 0.7255\n",
      "Epoch 5/100\n",
      "40/40 [==============================] - 0s 5ms/step - loss: 0.5244 - accuracy: 0.0104 - binary_accuracy: 0.7335\n",
      "Epoch 6/100\n",
      "40/40 [==============================] - 0s 5ms/step - loss: 0.5084 - accuracy: 0.0072 - binary_accuracy: 0.7462\n",
      "Epoch 7/100\n",
      "40/40 [==============================] - 0s 5ms/step - loss: 0.5013 - accuracy: 0.0146 - binary_accuracy: 0.7489\n",
      "Epoch 8/100\n",
      "40/40 [==============================] - 0s 5ms/step - loss: 0.4818 - accuracy: 0.0316 - binary_accuracy: 0.7608\n",
      "Epoch 9/100\n",
      "40/40 [==============================] - 0s 5ms/step - loss: 0.4625 - accuracy: 0.0274 - binary_accuracy: 0.7779\n",
      "Epoch 10/100\n",
      "40/40 [==============================] - 0s 5ms/step - loss: 0.4481 - accuracy: 0.0139 - binary_accuracy: 0.7849\n",
      "Epoch 11/100\n",
      "40/40 [==============================] - 0s 5ms/step - loss: 0.4430 - accuracy: 0.0247 - binary_accuracy: 0.7907\n",
      "Epoch 12/100\n",
      "40/40 [==============================] - 0s 5ms/step - loss: 0.4262 - accuracy: 0.0157 - binary_accuracy: 0.7997\n",
      "Epoch 13/100\n",
      "40/40 [==============================] - 0s 5ms/step - loss: 0.4156 - accuracy: 0.0251 - binary_accuracy: 0.8072\n",
      "Epoch 14/100\n",
      "40/40 [==============================] - 0s 5ms/step - loss: 0.4043 - accuracy: 0.0350 - binary_accuracy: 0.8145\n",
      "Epoch 15/100\n",
      "40/40 [==============================] - 0s 5ms/step - loss: 0.3996 - accuracy: 0.0203 - binary_accuracy: 0.8158\n",
      "Epoch 16/100\n",
      "40/40 [==============================] - 0s 5ms/step - loss: 0.3923 - accuracy: 0.0196 - binary_accuracy: 0.8208\n",
      "Epoch 17/100\n",
      "40/40 [==============================] - 0s 5ms/step - loss: 0.3845 - accuracy: 0.0363 - binary_accuracy: 0.8267\n",
      "Epoch 18/100\n",
      "40/40 [==============================] - 0s 5ms/step - loss: 0.3815 - accuracy: 0.0328 - binary_accuracy: 0.8313\n",
      "Epoch 19/100\n",
      "40/40 [==============================] - 0s 5ms/step - loss: 0.3650 - accuracy: 0.0343 - binary_accuracy: 0.8404\n",
      "Epoch 20/100\n",
      "40/40 [==============================] - 0s 5ms/step - loss: 0.3659 - accuracy: 0.0349 - binary_accuracy: 0.8385\n",
      "Epoch 21/100\n",
      "40/40 [==============================] - 0s 5ms/step - loss: 0.3536 - accuracy: 0.0389 - binary_accuracy: 0.8467\n",
      "Epoch 22/100\n",
      "40/40 [==============================] - 0s 5ms/step - loss: 0.3497 - accuracy: 0.0400 - binary_accuracy: 0.8502\n",
      "Epoch 23/100\n",
      "40/40 [==============================] - 0s 5ms/step - loss: 0.3345 - accuracy: 0.0203 - binary_accuracy: 0.8602\n",
      "Epoch 24/100\n",
      "40/40 [==============================] - 0s 5ms/step - loss: 0.3240 - accuracy: 0.0292 - binary_accuracy: 0.8658\n",
      "Epoch 25/100\n",
      "40/40 [==============================] - 0s 5ms/step - loss: 0.3185 - accuracy: 0.0389 - binary_accuracy: 0.8683\n",
      "Epoch 26/100\n",
      "40/40 [==============================] - 0s 5ms/step - loss: 0.3198 - accuracy: 0.0323 - binary_accuracy: 0.8673\n",
      "Epoch 27/100\n",
      "40/40 [==============================] - 0s 5ms/step - loss: 0.3130 - accuracy: 0.0428 - binary_accuracy: 0.8718\n",
      "Epoch 28/100\n",
      "40/40 [==============================] - 0s 5ms/step - loss: 0.3002 - accuracy: 0.0436 - binary_accuracy: 0.8788\n",
      "Epoch 29/100\n",
      "40/40 [==============================] - 0s 5ms/step - loss: 0.3034 - accuracy: 0.0341 - binary_accuracy: 0.8781\n",
      "Epoch 30/100\n",
      "40/40 [==============================] - 0s 5ms/step - loss: 0.2936 - accuracy: 0.0479 - binary_accuracy: 0.8817\n",
      "Epoch 31/100\n",
      "40/40 [==============================] - 0s 5ms/step - loss: 0.2873 - accuracy: 0.0462 - binary_accuracy: 0.8864\n",
      "Epoch 32/100\n",
      "40/40 [==============================] - 0s 5ms/step - loss: 0.2802 - accuracy: 0.0496 - binary_accuracy: 0.8866\n",
      "Epoch 33/100\n",
      "40/40 [==============================] - 0s 5ms/step - loss: 0.2860 - accuracy: 0.0549 - binary_accuracy: 0.8860\n",
      "Epoch 34/100\n",
      "40/40 [==============================] - 0s 5ms/step - loss: 0.2735 - accuracy: 0.0579 - binary_accuracy: 0.8922\n",
      "Epoch 35/100\n",
      "40/40 [==============================] - 0s 5ms/step - loss: 0.2718 - accuracy: 0.0380 - binary_accuracy: 0.8928\n",
      "Epoch 36/100\n",
      "40/40 [==============================] - 0s 5ms/step - loss: 0.2656 - accuracy: 0.0430 - binary_accuracy: 0.8965\n",
      "Epoch 37/100\n",
      "40/40 [==============================] - 0s 5ms/step - loss: 0.2611 - accuracy: 0.0466 - binary_accuracy: 0.8991\n",
      "Epoch 38/100\n",
      "40/40 [==============================] - 0s 5ms/step - loss: 0.2500 - accuracy: 0.0503 - binary_accuracy: 0.9038\n",
      "Epoch 39/100\n",
      "40/40 [==============================] - 0s 5ms/step - loss: 0.2540 - accuracy: 0.0519 - binary_accuracy: 0.9003\n",
      "Epoch 40/100\n",
      "40/40 [==============================] - 0s 5ms/step - loss: 0.2383 - accuracy: 0.0652 - binary_accuracy: 0.9106\n",
      "Epoch 41/100\n",
      "40/40 [==============================] - 0s 5ms/step - loss: 0.2379 - accuracy: 0.0596 - binary_accuracy: 0.9119\n",
      "Epoch 42/100\n",
      "40/40 [==============================] - 0s 5ms/step - loss: 0.2405 - accuracy: 0.0599 - binary_accuracy: 0.9090\n",
      "Epoch 43/100\n",
      "40/40 [==============================] - 0s 5ms/step - loss: 0.2296 - accuracy: 0.0782 - binary_accuracy: 0.9146\n",
      "Epoch 44/100\n",
      "40/40 [==============================] - 0s 5ms/step - loss: 0.2278 - accuracy: 0.0573 - binary_accuracy: 0.9144\n",
      "Epoch 45/100\n",
      "40/40 [==============================] - 0s 5ms/step - loss: 0.2267 - accuracy: 0.0563 - binary_accuracy: 0.9149\n",
      "Epoch 46/100\n",
      "40/40 [==============================] - 0s 5ms/step - loss: 0.2194 - accuracy: 0.0603 - binary_accuracy: 0.9197\n",
      "Epoch 47/100\n",
      "40/40 [==============================] - 0s 4ms/step - loss: 0.2169 - accuracy: 0.0553 - binary_accuracy: 0.9211\n",
      "Epoch 48/100\n",
      "40/40 [==============================] - 0s 5ms/step - loss: 0.2132 - accuracy: 0.0619 - binary_accuracy: 0.9221\n",
      "Epoch 49/100\n",
      "40/40 [==============================] - 0s 5ms/step - loss: 0.2104 - accuracy: 0.0417 - binary_accuracy: 0.9251\n",
      "Epoch 50/100\n",
      "40/40 [==============================] - 0s 5ms/step - loss: 0.2074 - accuracy: 0.0665 - binary_accuracy: 0.9249\n",
      "Epoch 51/100\n",
      "40/40 [==============================] - 0s 5ms/step - loss: 0.2026 - accuracy: 0.0512 - binary_accuracy: 0.9282\n",
      "Epoch 52/100\n",
      "40/40 [==============================] - 0s 6ms/step - loss: 0.1966 - accuracy: 0.0559 - binary_accuracy: 0.9303\n",
      "Epoch 53/100\n",
      "40/40 [==============================] - 0s 5ms/step - loss: 0.1917 - accuracy: 0.0728 - binary_accuracy: 0.9334\n",
      "Epoch 54/100\n",
      "40/40 [==============================] - 0s 5ms/step - loss: 0.1908 - accuracy: 0.0585 - binary_accuracy: 0.9345\n",
      "Epoch 55/100\n",
      "40/40 [==============================] - 0s 4ms/step - loss: 0.1852 - accuracy: 0.0708 - binary_accuracy: 0.9368\n",
      "Epoch 56/100\n",
      "40/40 [==============================] - 0s 5ms/step - loss: 0.1828 - accuracy: 0.0374 - binary_accuracy: 0.9386\n",
      "Epoch 57/100\n",
      "40/40 [==============================] - 0s 5ms/step - loss: 0.1788 - accuracy: 0.0639 - binary_accuracy: 0.9387\n",
      "Epoch 58/100\n",
      "40/40 [==============================] - 0s 5ms/step - loss: 0.1735 - accuracy: 0.0421 - binary_accuracy: 0.9422\n",
      "Epoch 59/100\n",
      "40/40 [==============================] - 0s 5ms/step - loss: 0.1714 - accuracy: 0.0512 - binary_accuracy: 0.9434\n",
      "Epoch 60/100\n",
      "40/40 [==============================] - 0s 5ms/step - loss: 0.1682 - accuracy: 0.0739 - binary_accuracy: 0.9455\n",
      "Epoch 61/100\n",
      "40/40 [==============================] - 0s 5ms/step - loss: 0.1664 - accuracy: 0.0537 - binary_accuracy: 0.9465\n",
      "Epoch 62/100\n",
      "40/40 [==============================] - 0s 5ms/step - loss: 0.1615 - accuracy: 0.0593 - binary_accuracy: 0.9484\n",
      "Epoch 63/100\n",
      "40/40 [==============================] - 0s 5ms/step - loss: 0.1586 - accuracy: 0.0725 - binary_accuracy: 0.9499\n",
      "Epoch 64/100\n",
      "40/40 [==============================] - 0s 5ms/step - loss: 0.1552 - accuracy: 0.0559 - binary_accuracy: 0.9520\n",
      "Epoch 65/100\n",
      "40/40 [==============================] - 0s 5ms/step - loss: 0.1475 - accuracy: 0.0812 - binary_accuracy: 0.9559\n",
      "Epoch 66/100\n"
     ]
    },
    {
     "name": "stdout",
     "output_type": "stream",
     "text": [
      "40/40 [==============================] - 0s 5ms/step - loss: 0.1469 - accuracy: 0.0788 - binary_accuracy: 0.9565\n",
      "Epoch 67/100\n",
      "40/40 [==============================] - 0s 5ms/step - loss: 0.1437 - accuracy: 0.0519 - binary_accuracy: 0.9578\n",
      "Epoch 68/100\n",
      "40/40 [==============================] - 0s 5ms/step - loss: 0.1402 - accuracy: 0.0600 - binary_accuracy: 0.9607\n",
      "Epoch 69/100\n",
      "40/40 [==============================] - 0s 5ms/step - loss: 0.1406 - accuracy: 0.0639 - binary_accuracy: 0.9590\n",
      "Epoch 70/100\n",
      "40/40 [==============================] - 0s 5ms/step - loss: 0.1383 - accuracy: 0.0525 - binary_accuracy: 0.9602\n",
      "Epoch 71/100\n",
      "40/40 [==============================] - 0s 5ms/step - loss: 0.1329 - accuracy: 0.0626 - binary_accuracy: 0.9621\n",
      "Epoch 72/100\n",
      "40/40 [==============================] - 0s 5ms/step - loss: 0.1261 - accuracy: 0.0661 - binary_accuracy: 0.9660\n",
      "Epoch 73/100\n",
      "40/40 [==============================] - 0s 5ms/step - loss: 0.1292 - accuracy: 0.0607 - binary_accuracy: 0.9626\n",
      "Epoch 74/100\n",
      "40/40 [==============================] - 0s 5ms/step - loss: 0.1237 - accuracy: 0.0772 - binary_accuracy: 0.9662\n",
      "Epoch 75/100\n",
      "40/40 [==============================] - 0s 5ms/step - loss: 0.1181 - accuracy: 0.0668 - binary_accuracy: 0.9689\n",
      "Epoch 76/100\n",
      "40/40 [==============================] - 0s 5ms/step - loss: 0.1182 - accuracy: 0.0596 - binary_accuracy: 0.9700\n",
      "Epoch 77/100\n",
      "40/40 [==============================] - 0s 5ms/step - loss: 0.1172 - accuracy: 0.0704 - binary_accuracy: 0.9687\n",
      "Epoch 78/100\n",
      "40/40 [==============================] - 0s 5ms/step - loss: 0.1109 - accuracy: 0.0517 - binary_accuracy: 0.9723\n",
      "Epoch 79/100\n",
      "40/40 [==============================] - 0s 5ms/step - loss: 0.1122 - accuracy: 0.0574 - binary_accuracy: 0.9737\n",
      "Epoch 80/100\n",
      "40/40 [==============================] - 0s 5ms/step - loss: 0.1067 - accuracy: 0.0750 - binary_accuracy: 0.9750\n",
      "Epoch 81/100\n",
      "40/40 [==============================] - 0s 5ms/step - loss: 0.1046 - accuracy: 0.0945 - binary_accuracy: 0.9758\n",
      "Epoch 82/100\n",
      "40/40 [==============================] - 0s 5ms/step - loss: 0.1057 - accuracy: 0.0697 - binary_accuracy: 0.9745\n",
      "Epoch 83/100\n",
      "40/40 [==============================] - 0s 5ms/step - loss: 0.1008 - accuracy: 0.0751 - binary_accuracy: 0.9770\n",
      "Epoch 84/100\n",
      "40/40 [==============================] - 0s 4ms/step - loss: 0.0980 - accuracy: 0.0663 - binary_accuracy: 0.9779\n",
      "Epoch 85/100\n",
      "40/40 [==============================] - 0s 5ms/step - loss: 0.0968 - accuracy: 0.0770 - binary_accuracy: 0.9784\n",
      "Epoch 86/100\n",
      "40/40 [==============================] - 0s 5ms/step - loss: 0.0939 - accuracy: 0.0762 - binary_accuracy: 0.9797\n",
      "Epoch 87/100\n",
      "40/40 [==============================] - 0s 5ms/step - loss: 0.0895 - accuracy: 0.0830 - binary_accuracy: 0.9813\n",
      "Epoch 88/100\n",
      "40/40 [==============================] - 0s 5ms/step - loss: 0.0924 - accuracy: 0.0653 - binary_accuracy: 0.9795\n",
      "Epoch 89/100\n",
      "40/40 [==============================] - 0s 5ms/step - loss: 0.0864 - accuracy: 0.0724 - binary_accuracy: 0.9833\n",
      "Epoch 90/100\n",
      "40/40 [==============================] - 0s 5ms/step - loss: 0.0819 - accuracy: 0.0787 - binary_accuracy: 0.9854\n",
      "Epoch 91/100\n",
      "40/40 [==============================] - 0s 5ms/step - loss: 0.0827 - accuracy: 0.0938 - binary_accuracy: 0.9836\n",
      "Epoch 92/100\n",
      "40/40 [==============================] - 0s 5ms/step - loss: 0.0806 - accuracy: 0.0658 - binary_accuracy: 0.9855\n",
      "Epoch 93/100\n",
      "40/40 [==============================] - 0s 5ms/step - loss: 0.0770 - accuracy: 0.0725 - binary_accuracy: 0.9859\n",
      "Epoch 94/100\n",
      "40/40 [==============================] - 0s 5ms/step - loss: 0.0735 - accuracy: 0.0776 - binary_accuracy: 0.9878\n",
      "Epoch 95/100\n",
      "40/40 [==============================] - 0s 5ms/step - loss: 0.0736 - accuracy: 0.0778 - binary_accuracy: 0.9874\n",
      "Epoch 96/100\n",
      "40/40 [==============================] - 0s 5ms/step - loss: 0.0701 - accuracy: 0.0578 - binary_accuracy: 0.9889\n",
      "Epoch 97/100\n",
      "40/40 [==============================] - 0s 5ms/step - loss: 0.0690 - accuracy: 0.0761 - binary_accuracy: 0.9893\n",
      "Epoch 98/100\n",
      "40/40 [==============================] - 0s 5ms/step - loss: 0.0672 - accuracy: 0.0726 - binary_accuracy: 0.9907\n",
      "Epoch 99/100\n",
      "40/40 [==============================] - 0s 4ms/step - loss: 0.0662 - accuracy: 0.0598 - binary_accuracy: 0.9916\n",
      "Epoch 100/100\n",
      "40/40 [==============================] - 0s 5ms/step - loss: 0.0645 - accuracy: 0.0697 - binary_accuracy: 0.9906\n"
     ]
    },
    {
     "data": {
      "text/plain": [
       "<keras.callbacks.History at 0x15e90bb50>"
      ]
     },
     "execution_count": 14,
     "metadata": {},
     "output_type": "execute_result"
    }
   ],
   "source": [
    "model.fit(\n",
    "    X_train, \n",
    "    Y_train, \n",
    "    epochs=100, \n",
    "    batch_size=20,\n",
    "    callbacks=[tensorboard_callback]\n",
    ")"
   ]
  },
  {
   "cell_type": "code",
   "execution_count": 15,
   "metadata": {
    "scrolled": true
   },
   "outputs": [
    {
     "name": "stdout",
     "output_type": "stream",
     "text": [
      "7/7 [==============================] - 0s 12ms/step - loss: 1.2367 - accuracy: 0.0200 - binary_accuracy: 0.6971\n"
     ]
    },
    {
     "name": "stderr",
     "output_type": "stream",
     "text": [
      "2021-12-01 11:34:54.479591: I tensorflow/core/grappler/optimizers/custom_graph_optimizer_registry.cc:112] Plugin optimizer for device_type GPU is enabled.\n"
     ]
    }
   ],
   "source": [
    "loss, accuracy, binary_accuracy = model.evaluate(X_test, Y_test)"
   ]
  },
  {
   "cell_type": "markdown",
   "metadata": {},
   "source": [
    "## Visualising the output\n",
    "Now both the raw output of the model and the binarised version can be displayed interactively."
   ]
  },
  {
   "cell_type": "code",
   "execution_count": 16,
   "metadata": {
    "scrolled": true
   },
   "outputs": [
    {
     "data": {
      "text/html": [
       "\n",
       "      <iframe id=\"tensorboard-frame-b737c36fdb6129c0\" width=\"100%\" height=\"800\" frameborder=\"0\">\n",
       "      </iframe>\n",
       "      <script>\n",
       "        (function() {\n",
       "          const frame = document.getElementById(\"tensorboard-frame-b737c36fdb6129c0\");\n",
       "          const url = new URL(\"/\", window.location);\n",
       "          const port = 6006;\n",
       "          if (port) {\n",
       "            url.port = port;\n",
       "          }\n",
       "          frame.src = url;\n",
       "        })();\n",
       "      </script>\n",
       "    "
      ],
      "text/plain": [
       "<IPython.core.display.HTML object>"
      ]
     },
     "metadata": {},
     "output_type": "display_data"
    }
   ],
   "source": [
    "%tensorboard --logdir logs"
   ]
  },
  {
   "cell_type": "code",
   "execution_count": 17,
   "metadata": {},
   "outputs": [],
   "source": [
    "def predict_val(val):\n",
    "    prediction = model.predict(val.reshape(1, 64))\n",
    "    prediction = prediction.reshape(8, 8)\n",
    "    return np.where(prediction > 0.5, 1, 0)\n",
    "\n",
    "def predict_raw(val):\n",
    "    prediction = model.predict(val.reshape(1, 64))\n",
    "    return prediction.reshape(8, 8)    "
   ]
  },
  {
   "cell_type": "code",
   "execution_count": 18,
   "metadata": {},
   "outputs": [],
   "source": [
    "def find_diff(n):\n",
    "    Y_instance = Y_test[n].reshape(8, 8)\n",
    "    prediction = predict_val(X_test[n])\n",
    "    \n",
    "    diff = np.where(prediction == Y_instance, 1, 0)\n",
    "\n",
    "    return diff"
   ]
  },
  {
   "cell_type": "code",
   "execution_count": 19,
   "metadata": {},
   "outputs": [],
   "source": [
    "sns.set_theme(style=\"white\")\n",
    "sns.color_palette(\"crest\", as_cmap=True)\n",
    "sns.set_palette(\"crest\")\n",
    "\n",
    "def plot_sns(val):\n",
    "    # From https://seaborn.pydata.org/examples/many_pairwise_correlations.html\n",
    "    sns.heatmap(val)\n",
    "    plt.show()\n",
    "\n",
    "def plot(val):\n",
    "    cmap = colors.ListedColormap(['white', 'green'])\n",
    "    bounds = [-0.5, 0.5, 1.5]\n",
    "    norm = colors.BoundaryNorm(bounds, cmap.N)\n",
    "\n",
    "    fig, ax = plt.subplots()\n",
    "    ax.imshow(val, cmap=cmap, norm=norm)\n",
    "\n",
    "    # draw gridlines\n",
    "    ax.grid(which='major', axis='both', linestyle='-', color='k', linewidth=2)\n",
    "    ax.set_xticks(np.arange(0.5, 8.5, 1));\n",
    "    ax.set_yticks(np.arange(0.5, 8.5, 1));\n",
    "\n",
    "#     sns.heatmap(val)\n",
    "    plt.show()\n",
    "\n",
    "def plot_diff(val):\n",
    "    cmap = colors.ListedColormap(['red', 'green'])\n",
    "    bounds = [-0.5, 0.5, 1.5]\n",
    "    norm = colors.BoundaryNorm(bounds, cmap.N)\n",
    "\n",
    "    fig, ax = plt.subplots()\n",
    "    ax.imshow(val, cmap=cmap, norm=norm)\n",
    "\n",
    "    # draw gridlines\n",
    "    ax.grid(which='major', axis='both', linestyle='-', color='k', linewidth=2)\n",
    "    ax.set_xticks(np.arange(0.5, 8.5, 1));\n",
    "    ax.set_yticks(np.arange(0.5, 8.5, 1));\n",
    "    \n",
    "#     sns.heatmap(val)\n",
    "    plt.show()"
   ]
  },
  {
   "cell_type": "code",
   "execution_count": 20,
   "metadata": {},
   "outputs": [],
   "source": [
    "def generate_plots(\n",
    "            n, target=True, \n",
    "            prediction=True, \n",
    "            raw_prediction=True, \n",
    "            diff=True\n",
    "        ):\n",
    "    if target:         plot(Y_test[n].reshape(8, 8))    \n",
    "    if prediction:     plot(predict_val(X_test[n]))\n",
    "    if raw_prediction: plot_sns(predict_raw(X_test[n]))\n",
    "    if diff:           plot_diff(find_diff(n))"
   ]
  },
  {
   "cell_type": "code",
   "execution_count": 21,
   "metadata": {
    "scrolled": false
   },
   "outputs": [
    {
     "data": {
      "application/vnd.jupyter.widget-view+json": {
       "model_id": "96fe395386c54757bacaefed0af854ea",
       "version_major": 2,
       "version_minor": 0
      },
      "text/plain": [
       "interactive(children=(IntSlider(value=0, description='n', max=199, step=5), Checkbox(value=False, description=…"
      ]
     },
     "metadata": {},
     "output_type": "display_data"
    },
    {
     "data": {
      "text/plain": [
       "<function __main__.generate_plots(n, target=True, prediction=True, raw_prediction=True, diff=True)>"
      ]
     },
     "execution_count": 21,
     "metadata": {},
     "output_type": "execute_result"
    }
   ],
   "source": [
    "# From https://ipywidgets.readthedocs.io/en/latest/examples/Using%20Interact.html\n",
    "interact(\n",
    "    generate_plots, \n",
    "    n=widgets.IntSlider(min=0, max=199, step=5, value=0),\n",
    "    target=False,\n",
    "    prediction=False,\n",
    "    raw_prediction=False,\n",
    "    diff=True\n",
    ")"
   ]
  }
 ],
 "metadata": {
  "interpreter": {
   "hash": "c6e4e9f98eb68ad3b7c296f83d20e6de614cb42e90992a65aa266555a3137d0d"
  },
  "kernelspec": {
   "display_name": "Python 3 (ipykernel)",
   "language": "python",
   "name": "python3"
  },
  "language_info": {
   "codemirror_mode": {
    "name": "ipython",
    "version": 3
   },
   "file_extension": ".py",
   "mimetype": "text/x-python",
   "name": "python",
   "nbconvert_exporter": "python",
   "pygments_lexer": "ipython3",
   "version": "3.9.7"
  }
 },
 "nbformat": 4,
 "nbformat_minor": 2
}
